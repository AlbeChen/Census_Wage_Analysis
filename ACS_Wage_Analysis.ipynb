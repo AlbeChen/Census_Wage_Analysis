{
 "cells": [
  {
   "cell_type": "markdown",
   "metadata": {},
   "source": [
    "# American Community Survey (PUMS) Wage Analysis\n",
    "\n",
    "** Sections: **\n",
    "1. Introduction <br/>\n",
    "    1.1 Importing Data Files (2018 - 2008) <br/>\n",
    "    1.2. Initial Data Analysis <br/>\n",
    "2. Data Selection <br/>\n",
    "    2.1. Full-Time Detection <br/>\n",
    "    2.2. Outlier <br/>\n",
    "3. Feature Transformation <br/>\n",
    "    3.1. Age Bins <br/>\n",
    "    3.2. Education Categorization <br/>\n",
    "    3.3. Occupation Grouping <br/>\n",
    "    3.4. State Observations <br/>\n",
    "    3.5. Race <br/>\n",
    "4. Dataframe Management <br/>\n",
    "    4.1. Remove Columns <br/>\n",
    "    4.2. OHE Columns <br/>\n",
    "5. Preprocessing Pipeline <br/>\n",
    "6. Modeling <br/>\n",
    "    6.1. Random Forest <br/>\n",
    "    6.2. Feature Selection <br/>\n",
    "7. Analysis <br/>\n",
    "    7.1. Scoring Rational <br/>\n",
    "    7.2. Year to Year Analysis <br/>\n",
    "    7.3. Simple Wage Predictor <br/>\n",
    "\n",
    "\n",
    "# 1. Introduction\n",
    "American Community Survey (ACS) Public Use Microdata Sample (PUMS) shows a range of individual information on the US in separate years. Each year's worth of data is recorded in single rows of individuals which represents about one percent of the US population. It is assumed that the over a five-year period, year year's information should cover five percent of the US population.\n",
    "\n",
    "The information collected covers features from each person such as weight, age, education, housing situation, children and parent status, and more. These areas are all coded to numerical values which out outlined in the data directory which includes all coded values. Full data and documentation can be located at at the [US Census Website](https://www.census.gov/programs-surveys/acs/technical-documentation/pums/documentation.html) for years readily available between 2005 and 2018.\n",
    "\n",
    "The goal of this information is the accumulate the data from specified features to output a single score which reflects the wage difference between men and females while normalizing for age, education, industry, region, and race. While there are certainly difference between each subsection as to how large the difference is, this score looks to encapsulate the differences for the entire US.\n",
    "\n",
    "## 1.1. Importing Data Files (2018 - 2008)\n",
    "\n",
    "These datafiles are large (2 GB for each year) and contain multiple columns which are not observed in this study. Therefore, given the plethora of data, only half of the years (initially only 2018) were visualized and analyzed for creating a model. Overall, columns chosen were assumed to show the most correlation between wage and signs of difference between gender."
   ]
  },
  {
   "cell_type": "code",
   "execution_count": 1,
   "metadata": {},
   "outputs": [],
   "source": [
    "# Importing\n",
    "import pandas as pd\n",
    "import seaborn as sns\n",
    "import matplotlib.pyplot as plt\n",
    "import numpy as np\n",
    "%matplotlib inline\n",
    "\n",
    "from sklearn.preprocessing import OneHotEncoder\n",
    "from sklearn.ensemble import RandomForestRegressor\n",
    "from sklearn.metrics import mean_absolute_error\n",
    "from sklearn.model_selection import GridSearchCV, cross_val_score, StratifiedKFold\n",
    "\n",
    "import statistics\n",
    "import glob\n",
    "import time"
   ]
  },
  {
   "cell_type": "code",
   "execution_count": 2,
   "metadata": {},
   "outputs": [
    {
     "name": "stdout",
     "output_type": "stream",
     "text": [
      "(18679015, 11)\n",
      " 0.46 min\n"
     ]
    }
   ],
   "source": [
    "years = list(r*2 for r in range(1004, 1010))\n",
    "PUS_start = pd.DataFrame()\n",
    "start_time = time.time()\n",
    "for year in years:\n",
    "    useful_cols = ['WAGP', 'SEX', 'AGEP', 'RAC1P',\n",
    "                   'SCHL', 'WKW', 'WKHP', 'OCCP', 'POWSP', 'ST', 'HISP']\n",
    "    path = ('data/%s' % year)\n",
    "    PUS_split = pd.concat([pd.read_csv(f, usecols=useful_cols)\n",
    "                           for f in glob.glob(path + \"/*.csv\")], ignore_index=True)\n",
    "    PUS_start = PUS_start.append(PUS_split)\n",
    "print(PUS_start.shape)\n",
    "print(\" %s min\" % round(((time.time() - start_time)/60), 2))"
   ]
  },
  {
   "cell_type": "markdown",
   "metadata": {},
   "source": [
    "## 1.2. Initial Data Analysis"
   ]
  },
  {
   "cell_type": "code",
   "execution_count": 3,
   "metadata": {
    "scrolled": true
   },
   "outputs": [
    {
     "data": {
      "text/plain": [
       "Index(['ST', 'AGEP', 'SCHL', 'SEX', 'WAGP', 'WKHP', 'WKW', 'HISP', 'OCCP',\n",
       "       'POWSP', 'RAC1P'],\n",
       "      dtype='object')"
      ]
     },
     "execution_count": 3,
     "metadata": {},
     "output_type": "execute_result"
    }
   ],
   "source": [
    "PUS_start.columns"
   ]
  },
  {
   "cell_type": "code",
   "execution_count": 4,
   "metadata": {
    "scrolled": true
   },
   "outputs": [
    {
     "data": {
      "text/html": [
       "<div>\n",
       "<style scoped>\n",
       "    .dataframe tbody tr th:only-of-type {\n",
       "        vertical-align: middle;\n",
       "    }\n",
       "\n",
       "    .dataframe tbody tr th {\n",
       "        vertical-align: top;\n",
       "    }\n",
       "\n",
       "    .dataframe thead th {\n",
       "        text-align: right;\n",
       "    }\n",
       "</style>\n",
       "<table border=\"1\" class=\"dataframe\">\n",
       "  <thead>\n",
       "    <tr style=\"text-align: right;\">\n",
       "      <th></th>\n",
       "      <th>ST</th>\n",
       "      <th>AGEP</th>\n",
       "      <th>SCHL</th>\n",
       "      <th>SEX</th>\n",
       "      <th>WAGP</th>\n",
       "      <th>WKHP</th>\n",
       "      <th>WKW</th>\n",
       "      <th>HISP</th>\n",
       "      <th>OCCP</th>\n",
       "      <th>POWSP</th>\n",
       "      <th>RAC1P</th>\n",
       "    </tr>\n",
       "  </thead>\n",
       "  <tbody>\n",
       "    <tr>\n",
       "      <td>count</td>\n",
       "      <td>1.867902e+07</td>\n",
       "      <td>1.867902e+07</td>\n",
       "      <td>1.808252e+07</td>\n",
       "      <td>1.867902e+07</td>\n",
       "      <td>1.593322e+07</td>\n",
       "      <td>1.116149e+07</td>\n",
       "      <td>9.622696e+06</td>\n",
       "      <td>1.867902e+07</td>\n",
       "      <td>1.103743e+07</td>\n",
       "      <td>8.397553e+06</td>\n",
       "      <td>1.867902e+07</td>\n",
       "    </tr>\n",
       "    <tr>\n",
       "      <td>mean</td>\n",
       "      <td>2.765467e+01</td>\n",
       "      <td>4.056208e+01</td>\n",
       "      <td>1.585766e+01</td>\n",
       "      <td>1.512292e+00</td>\n",
       "      <td>2.566373e+04</td>\n",
       "      <td>3.284190e+01</td>\n",
       "      <td>1.899983e+00</td>\n",
       "      <td>1.551874e+00</td>\n",
       "      <td>4.340872e+03</td>\n",
       "      <td>2.800783e+01</td>\n",
       "      <td>1.860106e+00</td>\n",
       "    </tr>\n",
       "    <tr>\n",
       "      <td>std</td>\n",
       "      <td>1.603227e+01</td>\n",
       "      <td>2.352116e+01</td>\n",
       "      <td>5.660316e+00</td>\n",
       "      <td>4.998489e-01</td>\n",
       "      <td>4.782771e+04</td>\n",
       "      <td>1.798892e+01</td>\n",
       "      <td>1.631469e+00</td>\n",
       "      <td>2.636365e+00</td>\n",
       "      <td>2.620540e+03</td>\n",
       "      <td>1.795425e+01</td>\n",
       "      <td>2.067998e+00</td>\n",
       "    </tr>\n",
       "    <tr>\n",
       "      <td>min</td>\n",
       "      <td>1.000000e+00</td>\n",
       "      <td>0.000000e+00</td>\n",
       "      <td>1.000000e+00</td>\n",
       "      <td>1.000000e+00</td>\n",
       "      <td>0.000000e+00</td>\n",
       "      <td>0.000000e+00</td>\n",
       "      <td>1.000000e+00</td>\n",
       "      <td>1.000000e+00</td>\n",
       "      <td>1.000000e+01</td>\n",
       "      <td>1.000000e+00</td>\n",
       "      <td>1.000000e+00</td>\n",
       "    </tr>\n",
       "    <tr>\n",
       "      <td>25%</td>\n",
       "      <td>1.200000e+01</td>\n",
       "      <td>2.000000e+01</td>\n",
       "      <td>1.400000e+01</td>\n",
       "      <td>1.000000e+00</td>\n",
       "      <td>0.000000e+00</td>\n",
       "      <td>2.000000e+01</td>\n",
       "      <td>1.000000e+00</td>\n",
       "      <td>1.000000e+00</td>\n",
       "      <td>2.310000e+03</td>\n",
       "      <td>1.200000e+01</td>\n",
       "      <td>1.000000e+00</td>\n",
       "    </tr>\n",
       "    <tr>\n",
       "      <td>50%</td>\n",
       "      <td>2.700000e+01</td>\n",
       "      <td>4.100000e+01</td>\n",
       "      <td>1.700000e+01</td>\n",
       "      <td>2.000000e+00</td>\n",
       "      <td>5.000000e+03</td>\n",
       "      <td>4.000000e+01</td>\n",
       "      <td>1.000000e+00</td>\n",
       "      <td>1.000000e+00</td>\n",
       "      <td>4.400000e+03</td>\n",
       "      <td>2.700000e+01</td>\n",
       "      <td>1.000000e+00</td>\n",
       "    </tr>\n",
       "    <tr>\n",
       "      <td>75%</td>\n",
       "      <td>4.200000e+01</td>\n",
       "      <td>5.900000e+01</td>\n",
       "      <td>2.000000e+01</td>\n",
       "      <td>2.000000e+00</td>\n",
       "      <td>3.600000e+04</td>\n",
       "      <td>4.000000e+01</td>\n",
       "      <td>2.000000e+00</td>\n",
       "      <td>1.000000e+00</td>\n",
       "      <td>5.740000e+03</td>\n",
       "      <td>4.200000e+01</td>\n",
       "      <td>1.000000e+00</td>\n",
       "    </tr>\n",
       "    <tr>\n",
       "      <td>max</td>\n",
       "      <td>5.600000e+01</td>\n",
       "      <td>9.600000e+01</td>\n",
       "      <td>2.400000e+01</td>\n",
       "      <td>2.000000e+00</td>\n",
       "      <td>7.180000e+05</td>\n",
       "      <td>9.900000e+01</td>\n",
       "      <td>6.000000e+00</td>\n",
       "      <td>2.400000e+01</td>\n",
       "      <td>9.920000e+03</td>\n",
       "      <td>5.550000e+02</td>\n",
       "      <td>9.000000e+00</td>\n",
       "    </tr>\n",
       "  </tbody>\n",
       "</table>\n",
       "</div>"
      ],
      "text/plain": [
       "                 ST          AGEP          SCHL           SEX          WAGP  \\\n",
       "count  1.867902e+07  1.867902e+07  1.808252e+07  1.867902e+07  1.593322e+07   \n",
       "mean   2.765467e+01  4.056208e+01  1.585766e+01  1.512292e+00  2.566373e+04   \n",
       "std    1.603227e+01  2.352116e+01  5.660316e+00  4.998489e-01  4.782771e+04   \n",
       "min    1.000000e+00  0.000000e+00  1.000000e+00  1.000000e+00  0.000000e+00   \n",
       "25%    1.200000e+01  2.000000e+01  1.400000e+01  1.000000e+00  0.000000e+00   \n",
       "50%    2.700000e+01  4.100000e+01  1.700000e+01  2.000000e+00  5.000000e+03   \n",
       "75%    4.200000e+01  5.900000e+01  2.000000e+01  2.000000e+00  3.600000e+04   \n",
       "max    5.600000e+01  9.600000e+01  2.400000e+01  2.000000e+00  7.180000e+05   \n",
       "\n",
       "               WKHP           WKW          HISP          OCCP         POWSP  \\\n",
       "count  1.116149e+07  9.622696e+06  1.867902e+07  1.103743e+07  8.397553e+06   \n",
       "mean   3.284190e+01  1.899983e+00  1.551874e+00  4.340872e+03  2.800783e+01   \n",
       "std    1.798892e+01  1.631469e+00  2.636365e+00  2.620540e+03  1.795425e+01   \n",
       "min    0.000000e+00  1.000000e+00  1.000000e+00  1.000000e+01  1.000000e+00   \n",
       "25%    2.000000e+01  1.000000e+00  1.000000e+00  2.310000e+03  1.200000e+01   \n",
       "50%    4.000000e+01  1.000000e+00  1.000000e+00  4.400000e+03  2.700000e+01   \n",
       "75%    4.000000e+01  2.000000e+00  1.000000e+00  5.740000e+03  4.200000e+01   \n",
       "max    9.900000e+01  6.000000e+00  2.400000e+01  9.920000e+03  5.550000e+02   \n",
       "\n",
       "              RAC1P  \n",
       "count  1.867902e+07  \n",
       "mean   1.860106e+00  \n",
       "std    2.067998e+00  \n",
       "min    1.000000e+00  \n",
       "25%    1.000000e+00  \n",
       "50%    1.000000e+00  \n",
       "75%    1.000000e+00  \n",
       "max    9.000000e+00  "
      ]
     },
     "execution_count": 4,
     "metadata": {},
     "output_type": "execute_result"
    }
   ],
   "source": [
    "PUS_start.describe(include='all')"
   ]
  },
  {
   "cell_type": "code",
   "execution_count": 5,
   "metadata": {},
   "outputs": [
    {
     "data": {
      "image/png": "[encoded data removed]",
      "text/plain": [
       "<Figure size 432x288 with 1 Axes>"
      ]
     },
     "metadata": {
      "needs_background": "light"
     },
     "output_type": "display_data"
    }
   ],
   "source": [
    "g = sns.kdeplot(\n",
    "    PUS_start[\"AGEP\"][(PUS_start[\"SEX\"] == 1) & (PUS_start[\"AGEP\"].notnull())])\n",
    "g = sns.kdeplot(\n",
    "    PUS_start[\"AGEP\"][(PUS_start[\"SEX\"] == 2) & (PUS_start[\"AGEP\"].notnull())])\n",
    "g.set_xlabel(\"Age\")\n",
    "g.set_ylabel(\"Frequency\")\n",
    "g = g.legend([\"Male\", \"Female\"])"
   ]
  },
  {
   "cell_type": "code",
   "execution_count": 6,
   "metadata": {},
   "outputs": [
    {
     "data": {
      "text/plain": [
       "Text(0, 0.5, 'Frequency')"
      ]
     },
     "execution_count": 6,
     "metadata": {},
     "output_type": "execute_result"
    },
    {
     "data": {
      "image/png": "[encoded data removed]",
      "text/plain": [
       "<Figure size 432x288 with 1 Axes>"
      ]
     },
     "metadata": {
      "needs_background": "light"
     },
     "output_type": "display_data"
    }
   ],
   "source": [
    "g = sns.kdeplot(PUS_start[\"WAGP\"][(PUS_start[\"WAGP\"] > 0) & (PUS_start[\"AGEP\"] > 18)])\n",
    "g.set_xlabel(\"Wage\")\n",
    "g.set_ylabel(\"Frequency\")"
   ]
  },
  {
   "cell_type": "markdown",
   "metadata": {},
   "source": [
    "# 2. Data Selection\n",
    "## 2.1. Full-Time Detection\n",
    "\n",
    "Before analyzing the data, first the scope of people observed were reserved for those working full time and in the general age of retirement. Therefore, after observing the data, and general research, it was decided to only include people who are working more than 40 hours a week and more than 40 weeks per a year. Given that the general weeks worked by a worker in the US is 40 hours a week and 45 weeks in a year.\n",
    "\n",
    "It was also observed that men generally worked more hours than women, but as seen in the graph below, there doesn't seem to be a significant increase in salary among those who work more hours."
   ]
  },
  {
   "cell_type": "code",
   "execution_count": 7,
   "metadata": {},
   "outputs": [
    {
     "data": {
      "image/png": "[encoded data removed]",
      "text/plain": [
       "<Figure size 432x288 with 1 Axes>"
      ]
     },
     "metadata": {
      "needs_background": "light"
     },
     "output_type": "display_data"
    }
   ],
   "source": [
    "g = sns.distplot(PUS_start[\"WAGP\"][(PUS_start[\"WAGP\"] > 0) & (\n",
    "    PUS_start[\"WKW\"] < 4) & (PUS_start[\"WKHP\"] >= 40)], kde=False)\n",
    "g = sns.distplot(PUS_start[\"WAGP\"][(PUS_start[\"WAGP\"] > 0)], kde=False)"
   ]
  },
  {
   "cell_type": "code",
   "execution_count": 152,
   "metadata": {},
   "outputs": [],
   "source": [
    "# define function to seperate people who've worked more than 40 weeks / year\n",
    "def full_time_detect(df):\n",
    "    # remove rows of people who work under 40 weeks in a year\n",
    "    df = df.loc[df.WKW < 4].copy()\n",
    "    # remove rows of people who work under 35 hours a week\n",
    "    df = df.loc[df.WKHP >= 35].copy()\n",
    "    # remove rows of people below 18 and above 70\n",
    "    df = df.loc[df.AGEP >= 18].copy()\n",
    "    df = df.loc[df.AGEP <= 70].copy()\n",
    "    return df"
   ]
  },
  {
   "cell_type": "code",
   "execution_count": 153,
   "metadata": {
    "scrolled": false
   },
   "outputs": [
    {
     "name": "stdout",
     "output_type": "stream",
     "text": [
      "(6373070, 11)\n"
     ]
    }
   ],
   "source": [
    "ft_test = PUS_start.copy()\n",
    "ft_test = full_time_detect(ft_test)\n",
    "print(ft_test.shape)"
   ]
  },
  {
   "cell_type": "code",
   "execution_count": 154,
   "metadata": {},
   "outputs": [
    {
     "data": {
      "image/png": "[encoded data removed]",
      "text/plain": [
       "<Figure size 360x360 with 1 Axes>"
      ]
     },
     "metadata": {
      "needs_background": "light"
     },
     "output_type": "display_data"
    }
   ],
   "source": [
    "g = sns.catplot(y=\"WKHP\", x=\"SEX\", data=ft_test, kind=\"box\")"
   ]
  },
  {
   "cell_type": "code",
   "execution_count": 155,
   "metadata": {},
   "outputs": [
    {
     "data": {
      "text/plain": [
       "<seaborn.axisgrid.FacetGrid at 0x1e08364aa88>"
      ]
     },
     "execution_count": 155,
     "metadata": {},
     "output_type": "execute_result"
    },
    {
     "data": {
      "image/png": "[encoded data removed]",
      "text/plain": [
       "<Figure size 1260x360 with 1 Axes>"
      ]
     },
     "metadata": {
      "needs_background": "light"
     },
     "output_type": "display_data"
    }
   ],
   "source": [
    "g = sns.catplot(y=\"WAGP\", x=\"WKHP\", data=ft_test, kind=\"box\", aspect=3.5)\n",
    "g.set(ylim=(0, 175000))"
   ]
  },
  {
   "cell_type": "markdown",
   "metadata": {},
   "source": [
    "## 2.2. Outlier\n",
    "\n",
    "Besides full-time workers in the US, outliers in the wage earned were excluded for this study. Quartile sectioning was used in determining significant outliers for the upper end, however the lower end was set at $12,500, the poverty level."
   ]
  },
  {
   "cell_type": "code",
   "execution_count": 12,
   "metadata": {},
   "outputs": [
    {
     "data": {
      "image/png": "[encoded data removed]",
      "text/plain": [
       "<Figure size 432x288 with 1 Axes>"
      ]
     },
     "metadata": {
      "needs_background": "light"
     },
     "output_type": "display_data"
    }
   ],
   "source": [
    "ax = sns.boxplot(x=ft_test[\"WAGP\"])"
   ]
  },
  {
   "cell_type": "code",
   "execution_count": 13,
   "metadata": {},
   "outputs": [
    {
     "name": "stdout",
     "output_type": "stream",
     "text": [
      "Wage IQR:  43000.0  Upper:  199000.0  Lower:  -102000.0\n"
     ]
    }
   ],
   "source": [
    "test_wage_IQR = np.percentile(ft_test.WAGP, 75) - \\\n",
    "    np.percentile(ft_test.WAGP, 25)\n",
    "test_wage_upper = np.percentile(ft_test.WAGP, 75) + test_wage_IQR*3\n",
    "test_wage_lower = np.percentile(ft_test.WAGP, 25) - test_wage_IQR*3\n",
    "print(\"Wage IQR: \", test_wage_IQR, \" Upper: \",\n",
    "      test_wage_upper, \" Lower: \", test_wage_lower)"
   ]
  },
  {
   "cell_type": "code",
   "execution_count": 14,
   "metadata": {},
   "outputs": [],
   "source": [
    "def outlier_wage(df):\n",
    "    # remove rows of outlier upper wages and below poverty $\n",
    "    wage_IQR = np.percentile(df.WAGP, 75) - np.percentile(df.WAGP, 25)\n",
    "    wage_upper = np.percentile(df.WAGP, 75) + wage_IQR*3\n",
    "    df = df.loc[df.WAGP >= 12500].copy()\n",
    "    df = df.loc[df.WAGP <= wage_upper].copy()\n",
    "    return df"
   ]
  },
  {
   "cell_type": "code",
   "execution_count": 15,
   "metadata": {},
   "outputs": [
    {
     "name": "stdout",
     "output_type": "stream",
     "text": [
      "(5216628, 11)\n"
     ]
    }
   ],
   "source": [
    "outlier_test = ft_test.copy()\n",
    "outlier_test = outlier_wage(outlier_test)\n",
    "print(outlier_test.shape)"
   ]
  },
  {
   "cell_type": "markdown",
   "metadata": {},
   "source": [
    "# 3. Feature Transformation\n",
    "## 3.1. Sex\n",
    "\n",
    "Race was a difficult subject to separate amongst values due to the majority of those sampled as of white decent. The general split was between Whites, Asians, Blacks. and Others."
   ]
  },
  {
   "cell_type": "code",
   "execution_count": 16,
   "metadata": {},
   "outputs": [],
   "source": [
    "def name_sexes(df):\n",
    "    # split into occupational industries\n",
    "    df['SEX'] = df['SEX'].map(lambda y: 'Male' if y == 1\n",
    "                                 else 'Female' if y == 2\n",
    "                                 else 'na')\n",
    "\n",
    "    return df"
   ]
  },
  {
   "cell_type": "code",
   "execution_count": 17,
   "metadata": {},
   "outputs": [
    {
     "name": "stdout",
     "output_type": "stream",
     "text": [
      "Sex : ['Male' 'Female']\n"
     ]
    }
   ],
   "source": [
    "sex_test = outlier_test.copy()\n",
    "sex_test = name_sexes(sex_test)\n",
    "print(\"Sex :\", sex_test.SEX.unique())"
   ]
  },
  {
   "cell_type": "code",
   "execution_count": 18,
   "metadata": {
    "scrolled": false
   },
   "outputs": [
    {
     "data": {
      "text/plain": [
       "Male      3005886\n",
       "Female    2210742\n",
       "Name: SEX, dtype: int64"
      ]
     },
     "execution_count": 18,
     "metadata": {},
     "output_type": "execute_result"
    }
   ],
   "source": [
    "sex_test['SEX'].value_counts()"
   ]
  },
  {
   "cell_type": "code",
   "execution_count": 19,
   "metadata": {},
   "outputs": [
    {
     "data": {
      "image/png": "[encoded data removed]",
      "text/plain": [
       "<Figure size 360x360 with 1 Axes>"
      ]
     },
     "metadata": {
      "needs_background": "light"
     },
     "output_type": "display_data"
    }
   ],
   "source": [
    "g = sns.catplot(y=\"WAGP\", x=\"SEX\", data=sex_test, kind=\"box\")"
   ]
  },
  {
   "cell_type": "markdown",
   "metadata": {},
   "source": [
    "## 3.1. Age Bins\n",
    "\n",
    "As seen in the graph of wage vs age, its seen that there in a steady increase in wages from age 18 to 35 in which it levels out throughout the rest of the years. Therefore, capturing the trends was slightly difficult, so the binning tried to mimic the general trend of this observation. Also, while a further gradient in wages could be a achieved in the initial ages, the sample sizes were relatively small at those level and segmentation of the data would cause issues.\n",
    "The binning maintained the general trend of the age gaps but show similar ranges for 3 and 4 which was assumed since the wages level out greatly throughout ages past 40. While it can be separated, there might be more relationships between other variables, so the ages were kept split for their large sample size as well."
   ]
  },
  {
   "cell_type": "code",
   "execution_count": 20,
   "metadata": {
    "scrolled": true
   },
   "outputs": [
    {
     "data": {
      "text/plain": [
       "<seaborn.axisgrid.FacetGrid at 0x1e08232d088>"
      ]
     },
     "execution_count": 20,
     "metadata": {},
     "output_type": "execute_result"
    },
    {
     "data": {
      "image/png": "[encoded data removed]",
      "text/plain": [
       "<Figure size 1260x360 with 1 Axes>"
      ]
     },
     "metadata": {
      "needs_background": "light"
     },
     "output_type": "display_data"
    }
   ],
   "source": [
    "g = sns.catplot(y=\"WAGP\", x=\"AGEP\", data=outlier_test, kind=\"box\", aspect=3.5)\n",
    "g.set(ylim=(0, 175000))"
   ]
  },
  {
   "cell_type": "code",
   "execution_count": 21,
   "metadata": {},
   "outputs": [],
   "source": [
    "def age_bins(df):\n",
    "    df['AGEB'] = df['AGEP'].map(lambda y: '18-25' if y <= 25  # 18-25\n",
    "                                else '26-35' if y <= 35  # 26-35\n",
    "                                else '36-45' if y <= 45  # 36-45\n",
    "                                else '46-55' if y <= 55  # 46-55\n",
    "                                else '56-70' if y <= 70  # 56-70\n",
    "                                else 'na')  # +70\n",
    "    return df"
   ]
  },
  {
   "cell_type": "code",
   "execution_count": 22,
   "metadata": {},
   "outputs": [],
   "source": [
    "age_test = sex_test.copy()\n",
    "age_test.sort_values(by=['AGEP'], ascending=True, inplace=True)"
   ]
  },
  {
   "cell_type": "code",
   "execution_count": 23,
   "metadata": {},
   "outputs": [
    {
     "name": "stdout",
     "output_type": "stream",
     "text": [
      "Age : ['18-25' '26-35' '36-45' '46-55' '56-70']\n"
     ]
    }
   ],
   "source": [
    "age_bins(age_test)\n",
    "print(\"Age :\", age_test.AGEB.unique())"
   ]
  },
  {
   "cell_type": "code",
   "execution_count": 24,
   "metadata": {
    "scrolled": false
   },
   "outputs": [
    {
     "data": {
      "text/plain": [
       "<seaborn.axisgrid.FacetGrid at 0x1e081e3b788>"
      ]
     },
     "execution_count": 24,
     "metadata": {},
     "output_type": "execute_result"
    },
    {
     "data": {
      "image/png": "[encoded data removed]",
      "text/plain": [
       "<Figure size 360x360 with 1 Axes>"
      ]
     },
     "metadata": {
      "needs_background": "light"
     },
     "output_type": "display_data"
    }
   ],
   "source": [
    "g = sns.catplot(y=\"WAGP\", x=\"AGEB\", data=age_test, kind=\"box\")\n",
    "g.set(ylim=(0, 175000))"
   ]
  },
  {
   "cell_type": "code",
   "execution_count": 25,
   "metadata": {
    "scrolled": false
   },
   "outputs": [
    {
     "data": {
      "text/plain": [
       "<seaborn.axisgrid.FacetGrid at 0x1e081b733c8>"
      ]
     },
     "execution_count": 25,
     "metadata": {},
     "output_type": "execute_result"
    },
    {
     "data": {
      "image/png": "[encoded data removed]",
      "text/plain": [
       "<Figure size 792.625x360 with 1 Axes>"
      ]
     },
     "metadata": {
      "needs_background": "light"
     },
     "output_type": "display_data"
    }
   ],
   "source": [
    "g = sns.catplot(y=\"WAGP\", x=\"AGEB\", data=age_test,\n",
    "                kind=\"box\", aspect=2, hue=\"SEX\")\n",
    "g.set(ylim=(0, 175000))"
   ]
  },
  {
   "cell_type": "code",
   "execution_count": 26,
   "metadata": {
    "scrolled": true
   },
   "outputs": [
    {
     "data": {
      "text/plain": [
       "46-55    1391659\n",
       "36-45    1239567\n",
       "26-35    1158316\n",
       "56-70    1040208\n",
       "18-25     386878\n",
       "Name: AGEB, dtype: int64"
      ]
     },
     "execution_count": 26,
     "metadata": {},
     "output_type": "execute_result"
    }
   ],
   "source": [
    "age_test['AGEB'].value_counts()"
   ]
  },
  {
   "cell_type": "markdown",
   "metadata": {},
   "source": [
    "## 3.2. Education Categorization\n",
    "\n",
    "The education levels were separated out through numerical values coded to separate values. All values 15 and under link to no schooling, preschool, and grades k-12, 16 and 17 are those finishing high school or getting a GED, values above are varying levels of college and graduate school (further details below and in appendix).\n",
    "\n",
    "Overall, it's observed that the greater the level of education led to greater wage. For those who dropped out of high school there is no specific trends with when the drop out of school, for high school graduates have similar values, and finally those with some college or an associate degree were similar. Higher education showed gradually higher wages."
   ]
  },
  {
   "cell_type": "code",
   "execution_count": 27,
   "metadata": {},
   "outputs": [
    {
     "data": {
      "text/plain": [
       "<seaborn.axisgrid.FacetGrid at 0x1e081babcc8>"
      ]
     },
     "execution_count": 27,
     "metadata": {},
     "output_type": "execute_result"
    },
    {
     "data": {
      "image/png": "[encoded data removed]",
      "text/plain": [
       "<Figure size 720x360 with 1 Axes>"
      ]
     },
     "metadata": {
      "needs_background": "light"
     },
     "output_type": "display_data"
    }
   ],
   "source": [
    "g = sns.catplot(y=\"WAGP\", x=\"SCHL\", data=age_test, kind=\"box\", aspect=2)\n",
    "g.set(ylim=(0, 175000))"
   ]
  },
  {
   "cell_type": "code",
   "execution_count": 28,
   "metadata": {},
   "outputs": [],
   "source": [
    "def edu_split(df):\n",
    "    # split into degrees\n",
    "    df['EDU'] = df['SCHL'].map(lambda y: 'No_HS' if y <= 15  # didn't finish HS\n",
    "                               else 'HSD' if y <= 17  # HS degree\n",
    "                               else 'CLG' if y <= 19  # some college\n",
    "                               else 'CLG' if y == 20  # AS\n",
    "                               else 'BS' if y == 21  # BS\n",
    "                               else 'MS' if y == 22  # MS\n",
    "                               else 'DR+' if y <= 24  # GS\n",
    "                               else 'na')\n",
    "    return df"
   ]
  },
  {
   "cell_type": "code",
   "execution_count": 29,
   "metadata": {},
   "outputs": [
    {
     "name": "stdout",
     "output_type": "stream",
     "text": [
      "Edu : ['HSD' 'CLG' 'No_HS' 'BS' 'MS' 'DR+']\n"
     ]
    }
   ],
   "source": [
    "edu_test = age_test.copy()\n",
    "edu_test = edu_split(edu_test)\n",
    "print(\"Edu :\", edu_test.EDU.unique())"
   ]
  },
  {
   "cell_type": "code",
   "execution_count": 30,
   "metadata": {},
   "outputs": [],
   "source": [
    "edu_sort = edu_test.groupby('EDU').median(\n",
    ").sort_values(by=['WAGP']).reset_index()\n",
    "edu_list = edu_sort['EDU'].tolist()"
   ]
  },
  {
   "cell_type": "code",
   "execution_count": 31,
   "metadata": {
    "scrolled": false
   },
   "outputs": [
    {
     "data": {
      "text/plain": [
       "<seaborn.axisgrid.FacetGrid at 0x1e0842c6348>"
      ]
     },
     "execution_count": 31,
     "metadata": {},
     "output_type": "execute_result"
    },
    {
     "data": {
      "image/png": "[encoded data removed]",
      "text/plain": [
       "<Figure size 720x360 with 1 Axes>"
      ]
     },
     "metadata": {
      "needs_background": "light"
     },
     "output_type": "display_data"
    }
   ],
   "source": [
    "g = sns.catplot(y=\"WAGP\", x=\"EDU\", data=edu_test,\n",
    "                kind=\"box\", aspect=2, order=edu_list)\n",
    "g.set(ylim=(0, 250000))"
   ]
  },
  {
   "cell_type": "code",
   "execution_count": 32,
   "metadata": {},
   "outputs": [
    {
     "data": {
      "text/plain": [
       "<seaborn.axisgrid.FacetGrid at 0x1e08233b208>"
      ]
     },
     "execution_count": 32,
     "metadata": {},
     "output_type": "execute_result"
    },
    {
     "data": {
      "image/png": "[encoded data removed]",
      "text/plain": [
       "<Figure size 936.625x288 with 1 Axes>"
      ]
     },
     "metadata": {
      "needs_background": "light"
     },
     "output_type": "display_data"
    }
   ],
   "source": [
    "g = sns.catplot(y=\"WAGP\", x=\"EDU\", data=edu_test, kind=\"box\",\n",
    "                height=4, aspect=3, hue=\"SEX\", order=edu_list)\n",
    "g.set(ylim=(0, 200000))"
   ]
  },
  {
   "cell_type": "code",
   "execution_count": 33,
   "metadata": {},
   "outputs": [
    {
     "data": {
      "text/plain": [
       "CLG      1638229\n",
       "HSD      1261705\n",
       "BS       1230774\n",
       "MS        539844\n",
       "No_HS     349295\n",
       "DR+       196781\n",
       "Name: EDU, dtype: int64"
      ]
     },
     "execution_count": 33,
     "metadata": {},
     "output_type": "execute_result"
    }
   ],
   "source": [
    "edu_test['EDU'].value_counts()"
   ]
  },
  {
   "cell_type": "markdown",
   "metadata": {},
   "source": [
    "## 3.3. Occupation Grouping\n",
    "\n",
    "The occupations are sorted by industry and standardized across all years. They are as follows:\n",
    "- 0010-0960: Management, Business, and Financial Occupations\n",
    "- 1005-1980: Computer, Engineering, and Science Occupations\n",
    "- 2001-2970: Education, Legal, Community Service, Arts, and Media Occupations\n",
    "- 3000-3550: Healthcare Practitioners and Technical Occupations\n",
    "- 3601-4655: Service Occupations\n",
    "- 4700-5940: Sales and Office Occupations\n",
    "- 6005-7640: Natural Resources, Construction, and Maintenance Occupations\n",
    "- 7700-8990: Production Occupations\n",
    "- 9005-9760: Transportation and Material Moving Occupations\n",
    "- 9800-9830: Military Specific Occupations\n",
    "\n",
    "When observing each industry, there were grouped according to their similarity in wages and how to split their populations. Overall, each of the occupations a wide range of wages that could be affected by other variables such as those who go into business or sciences generally have a higher degree and therefore make more. While these observations are difficult to observe, the general splitting was used to maintain the trend observed.\n",
    "\n",
    "The grouping is as followed below. Overall, the similar values between each industry was maintained through the grouping of each industry. As observed with all variables before, gender trends between each value show woman are paid less then man."
   ]
  },
  {
   "cell_type": "code",
   "execution_count": 34,
   "metadata": {},
   "outputs": [],
   "source": [
    "def occ_split(df):\n",
    "    # split into occupational industries\n",
    "    df['JOB'] = df['OCCP'].map(lambda y: \"BUS\" if y <= 960 #Business\n",
    "                               else \"SCI\" if y <= 1980 #Science\n",
    "                               else \"ART\" if y <= 2970 #Arts\n",
    "                               else \"HLC\" if y <= 3550 #Healthcare\n",
    "                               else \"SVC\" if y <= 4655 #Service\n",
    "                               else \"SAL\" if y <= 5940 #Sales\n",
    "                               else \"MTN\" if y <= 7640 #Maintenance\n",
    "                               else \"PRD\" if y <= 8990 #Production\n",
    "                               else \"TRP\" if y <= 9760 #Transportation\n",
    "                               else \"MLT\" if y <= 9830 #Military\n",
    "                               else \"UN\")\n",
    "    return df"
   ]
  },
  {
   "cell_type": "code",
   "execution_count": 35,
   "metadata": {},
   "outputs": [
    {
     "name": "stdout",
     "output_type": "stream",
     "text": [
      "Occ : ['MTN' 'SVC' 'BUS' 'SAL' 'SCI' 'PRD' 'TRP' 'HLC' 'ART' 'MLT']\n"
     ]
    }
   ],
   "source": [
    "occ_test = edu_test.copy()\n",
    "occ_test = occ_split(occ_test)\n",
    "print(\"Occ :\", occ_test.JOB.unique())"
   ]
  },
  {
   "cell_type": "code",
   "execution_count": 36,
   "metadata": {},
   "outputs": [
    {
     "data": {
      "text/plain": [
       "SAL    1159118\n",
       "BUS     966283\n",
       "ART     576643\n",
       "SVC     575590\n",
       "MTN     525319\n",
       "SCI     395275\n",
       "PRD     386662\n",
       "TRP     329590\n",
       "HLC     274677\n",
       "MLT      27471\n",
       "Name: JOB, dtype: int64"
      ]
     },
     "execution_count": 36,
     "metadata": {},
     "output_type": "execute_result"
    }
   ],
   "source": [
    "occ_test['JOB'].value_counts()"
   ]
  },
  {
   "cell_type": "code",
   "execution_count": 37,
   "metadata": {},
   "outputs": [],
   "source": [
    "occ_sort = occ_test.groupby('JOB').median(\n",
    ").sort_values(by=['WAGP']).reset_index()\n",
    "occ_list = occ_sort['JOB'].tolist()"
   ]
  },
  {
   "cell_type": "code",
   "execution_count": 38,
   "metadata": {},
   "outputs": [
    {
     "data": {
      "text/plain": [
       "<seaborn.axisgrid.FacetGrid at 0x1e08430b988>"
      ]
     },
     "execution_count": 38,
     "metadata": {},
     "output_type": "execute_result"
    },
    {
     "data": {
      "image/png": "[encoded data removed]",
      "text/plain": [
       "<Figure size 720x360 with 1 Axes>"
      ]
     },
     "metadata": {
      "needs_background": "light"
     },
     "output_type": "display_data"
    }
   ],
   "source": [
    "g = sns.catplot(y=\"WAGP\", x=\"JOB\", data=occ_test,\n",
    "                kind=\"box\", aspect=2, order=occ_list)\n",
    "g.set(ylim=(0, 175000))"
   ]
  },
  {
   "cell_type": "code",
   "execution_count": 39,
   "metadata": {},
   "outputs": [
    {
     "data": {
      "text/plain": [
       "<seaborn.axisgrid.FacetGrid at 0x1e08448f4c8>"
      ]
     },
     "execution_count": 39,
     "metadata": {},
     "output_type": "execute_result"
    },
    {
     "data": {
      "image/png": "[encoded data removed]",
      "text/plain": [
       "<Figure size 936.625x288 with 1 Axes>"
      ]
     },
     "metadata": {
      "needs_background": "light"
     },
     "output_type": "display_data"
    }
   ],
   "source": [
    "g = sns.catplot(y=\"WAGP\", x=\"JOB\", data=occ_test, kind=\"box\",\n",
    "                height=4, aspect=3, hue=\"SEX\", order=occ_list)\n",
    "g.set(ylim=(0, 175000))"
   ]
  },
  {
   "cell_type": "markdown",
   "metadata": {},
   "source": [
    "## 3.5. Race\n",
    "\n",
    "Race was a difficult subject to separate amongst values due to the majority of those sampled as of white decent. The general split was between Whites, Asians, Blacks. and Others."
   ]
  },
  {
   "cell_type": "code",
   "execution_count": 40,
   "metadata": {
    "scrolled": false
   },
   "outputs": [
    {
     "data": {
      "text/plain": [
       "<seaborn.axisgrid.FacetGrid at 0x1e082667b48>"
      ]
     },
     "execution_count": 40,
     "metadata": {},
     "output_type": "execute_result"
    },
    {
     "data": {
      "image/png": "[encoded data removed]",
      "text/plain": [
       "<Figure size 1440x360 with 1 Axes>"
      ]
     },
     "metadata": {
      "needs_background": "light"
     },
     "output_type": "display_data"
    }
   ],
   "source": [
    "g = sns.catplot(y=\"WAGP\", x=\"HISP\", data=occ_test, kind=\"box\", aspect=4)\n",
    "g.set(ylim=(0, 175000))"
   ]
  },
  {
   "cell_type": "code",
   "execution_count": 41,
   "metadata": {
    "scrolled": false
   },
   "outputs": [
    {
     "data": {
      "text/plain": [
       "<seaborn.axisgrid.FacetGrid at 0x1e086650688>"
      ]
     },
     "execution_count": 41,
     "metadata": {},
     "output_type": "execute_result"
    },
    {
     "data": {
      "image/png": "[encoded data removed]",
      "text/plain": [
       "<Figure size 900x360 with 1 Axes>"
      ]
     },
     "metadata": {
      "needs_background": "light"
     },
     "output_type": "display_data"
    }
   ],
   "source": [
    "g = sns.catplot(y=\"WAGP\", x=\"RAC1P\", data=occ_test, kind=\"box\", aspect=2.5)\n",
    "g.set(ylim=(0, 175000))"
   ]
  },
  {
   "cell_type": "code",
   "execution_count": 42,
   "metadata": {},
   "outputs": [
    {
     "data": {
      "text/plain": [
       "1    4130212\n",
       "2     468840\n",
       "6     283418\n",
       "8     184614\n",
       "9      98429\n",
       "3      34664\n",
       "7       8488\n",
       "5       6502\n",
       "4       1461\n",
       "Name: RAC1P, dtype: int64"
      ]
     },
     "execution_count": 42,
     "metadata": {},
     "output_type": "execute_result"
    }
   ],
   "source": [
    "occ_test['RAC1P'].value_counts()"
   ]
  },
  {
   "cell_type": "code",
   "execution_count": 43,
   "metadata": {},
   "outputs": [],
   "source": [
    "def int_race_split(df):\n",
    "    # split into occupational industries\n",
    "    df['RAC1P'] = np.where(df['HISP'] == 1, df['RAC1P'], 10)\n",
    "    df['RACE'] = df['RAC1P'].map(lambda y: \"WHT\" if y == 1  # white\n",
    "                                 else \"BLK\" if y == 2  # black\n",
    "                                 else \"NTV\" if y <= 5  # native\n",
    "                                 else \"ASN\" if y == 6  # asian\n",
    "                                 else \"NTV\" if y == 7  # native\n",
    "                                 else \"MIX\" if y <= 9  # mixed\n",
    "                                 else \"HISP\" if y == 10\n",
    "                                 else 4)\n",
    "\n",
    "    return df"
   ]
  },
  {
   "cell_type": "code",
   "execution_count": 44,
   "metadata": {},
   "outputs": [
    {
     "name": "stdout",
     "output_type": "stream",
     "text": [
      "RACE : ['HISP' 'WHT' 'NTV' 'ASN' 'MIX' 'BLK']\n"
     ]
    }
   ],
   "source": [
    "int_race_test = occ_test.copy()\n",
    "int_race_test = int_race_split(int_race_test)\n",
    "print(\"RACE :\", int_race_test.RACE.unique())"
   ]
  },
  {
   "cell_type": "code",
   "execution_count": 45,
   "metadata": {},
   "outputs": [
    {
     "data": {
      "text/plain": [
       "WHT     3688501\n",
       "HISP     665989\n",
       "BLK      456639\n",
       "ASN      280378\n",
       "MIX       81820\n",
       "NTV       43301\n",
       "Name: RACE, dtype: int64"
      ]
     },
     "execution_count": 45,
     "metadata": {},
     "output_type": "execute_result"
    }
   ],
   "source": [
    "int_race_test['RACE'].value_counts()"
   ]
  },
  {
   "cell_type": "code",
   "execution_count": 46,
   "metadata": {
    "scrolled": false
   },
   "outputs": [
    {
     "data": {
      "text/plain": [
       "<seaborn.axisgrid.FacetGrid at 0x1e087e35948>"
      ]
     },
     "execution_count": 46,
     "metadata": {},
     "output_type": "execute_result"
    },
    {
     "data": {
      "image/png": "[encoded data removed]",
      "text/plain": [
       "<Figure size 720x360 with 1 Axes>"
      ]
     },
     "metadata": {
      "needs_background": "light"
     },
     "output_type": "display_data"
    }
   ],
   "source": [
    "int_race_sort = int_race_test.groupby(\n",
    "    'RACE').median().sort_values(by=['WAGP']).reset_index()\n",
    "int_race_list = int_race_sort['RACE'].tolist()\n",
    "g = sns.catplot(y=\"WAGP\", x=\"RACE\", data=int_race_test,\n",
    "                kind=\"box\", aspect=2, order=int_race_list)\n",
    "g.set(ylim=(0, 175000))"
   ]
  },
  {
   "cell_type": "code",
   "execution_count": 47,
   "metadata": {},
   "outputs": [
    {
     "data": {
      "text/plain": [
       "<seaborn.axisgrid.FacetGrid at 0x1e086b39188>"
      ]
     },
     "execution_count": 47,
     "metadata": {},
     "output_type": "execute_result"
    },
    {
     "data": {
      "image/png": "[encoded data removed]",
      "text/plain": [
       "<Figure size 972.625x360 with 1 Axes>"
      ]
     },
     "metadata": {
      "needs_background": "light"
     },
     "output_type": "display_data"
    }
   ],
   "source": [
    "g = sns.catplot(y=\"WAGP\", x=\"RACE\", data=int_race_test, kind=\"box\",\n",
    "                aspect=2.5, hue=\"SEX\", order =int_race_list)\n",
    "g.set(ylim=(0, 175000))"
   ]
  },
  {
   "cell_type": "code",
   "execution_count": 48,
   "metadata": {},
   "outputs": [],
   "source": [
    "def race_split(df):\n",
    "    # split into occupational industries\n",
    "    df['RAC1P'] = np.where(df['HISP'] == 1, df['RAC1P'], 10)\n",
    "    df['RACE'] = df['RAC1P'].map(lambda y: 'WHT/MIX' if y == 1  # white\n",
    "                                 else 'BLK' if y == 2  # black\n",
    "                                 else 'HSP/NTV' if y <= 5  # native\n",
    "                                 else 'ASN' if y == 6  # asian\n",
    "                                 else 'HSP/NTV' if y == 7  # native\n",
    "                                 else 'WHT/MIX' if y <= 9  # mixed\n",
    "                                 else 'HSP/NTV' if y == 10 #hispanic\n",
    "                                 else 'na')\n",
    "\n",
    "    return df"
   ]
  },
  {
   "cell_type": "code",
   "execution_count": 49,
   "metadata": {},
   "outputs": [
    {
     "name": "stdout",
     "output_type": "stream",
     "text": [
      "RACE : ['HSP/NTV' 'WHT/MIX' 'ASN' 'BLK']\n"
     ]
    }
   ],
   "source": [
    "race_test = occ_test.copy()\n",
    "race_test = race_split(race_test)\n",
    "print(\"RACE :\", race_test.RACE.unique())"
   ]
  },
  {
   "cell_type": "code",
   "execution_count": 50,
   "metadata": {},
   "outputs": [
    {
     "data": {
      "text/plain": [
       "WHT/MIX    3770321\n",
       "HSP/NTV     709290\n",
       "BLK         456639\n",
       "ASN         280378\n",
       "Name: RACE, dtype: int64"
      ]
     },
     "execution_count": 50,
     "metadata": {},
     "output_type": "execute_result"
    }
   ],
   "source": [
    "race_test['RACE'].value_counts()"
   ]
  },
  {
   "cell_type": "code",
   "execution_count": 51,
   "metadata": {},
   "outputs": [
    {
     "data": {
      "image/png": "[encoded data removed]",
      "text/plain": [
       "<Figure size 360x360 with 1 Axes>"
      ]
     },
     "metadata": {
      "needs_background": "light"
     },
     "output_type": "display_data"
    }
   ],
   "source": [
    "race_sort = race_test.groupby('RACE').median(\n",
    ").sort_values(by=['WAGP']).reset_index()\n",
    "race_list = race_sort['RACE'].tolist()\n",
    "g = sns.catplot(y=\"WAGP\", x=\"RACE\", data=race_test,\n",
    "                kind=\"box\", order=race_list)"
   ]
  },
  {
   "cell_type": "code",
   "execution_count": 52,
   "metadata": {},
   "outputs": [
    {
     "data": {
      "image/png": "[encoded data removed]",
      "text/plain": [
       "<Figure size 432.625x360 with 1 Axes>"
      ]
     },
     "metadata": {
      "needs_background": "light"
     },
     "output_type": "display_data"
    }
   ],
   "source": [
    "g = sns.catplot(y=\"WAGP\", x=\"RACE\", data=race_test, kind=\"box\", hue=\"SEX\", order=race_list)"
   ]
  },
  {
   "cell_type": "markdown",
   "metadata": {},
   "source": [
    "## 3.4. State Observations\n",
    "There was an interesting variable within the data stating the state which the person worked in. While it would have been simple if there was a trend in regions, but as observed, there is only a slight difference between each state due to the variation between each state. It still isn't clear what each stat's wage is, and it's difficult to extract the details needed to separate out each value.\n",
    "\n",
    "Therefore, the general regions were used for each value, split between Northeast/Outlying Regions, West, Midwest, and South. While not too distinct, this separation should be sufficient."
   ]
  },
  {
   "cell_type": "code",
   "execution_count": 53,
   "metadata": {},
   "outputs": [],
   "source": [
    "int_state_sort = race_test.groupby('POWSP').median().reset_index()\n",
    "int_state_sort['reg_code'] = ['3', '4', '4', '3', '4', '4', '1', '3', '3', '3',\n",
    "                              '3', '4', '4', '2', '2', '2', '2', '3', '3', '1',\n",
    "                              '3', '1', '2', '2', '3', '2', '4', '2', '4', '1',\n",
    "                              '1', '4', '1', '3', '2', '2', '3', '4', '1', '1',\n",
    "                              '3', '2', '3', '3', '4', '1', '3', '4', '3', '2',\n",
    "                              '4', '5', '5', '5', '5', '5', '5', '5', '5', '5']\n",
    "int_state_sort = int_state_sort.sort_values(by=['WAGP'])\n",
    "int_state_list = int_state_sort['POWSP'].tolist()"
   ]
  },
  {
   "cell_type": "code",
   "execution_count": 54,
   "metadata": {},
   "outputs": [],
   "source": [
    "reg_sort = int_state_sort.sort_values(by=['reg_code'])\n",
    "reg_list = reg_sort['POWSP'].tolist()"
   ]
  },
  {
   "cell_type": "code",
   "execution_count": 55,
   "metadata": {},
   "outputs": [
    {
     "name": "stdout",
     "output_type": "stream",
     "text": [
      "[50.0, 9.0, 25.0, 34.0, 36.0, 44.0, 42.0, 23.0, 33.0, 38.0, 55.0, 39.0, 18.0, 20.0, 27.0, 26.0, 29.0, 31.0, 46.0, 17.0, 19.0, 10.0, 48.0, 51.0, 24.0, 24.0, 28.0, 45.0, 5.0, 22.0, 40.0, 12.0, 21.0, 54.0, 37.0, 1.0, 47.0, 13.0, 35.0, 30.0, 53.0, 16.0, 4.0, 2.0, 8.0, 56.0, 41.0, 49.0, 15.0, 32.0, 6.0, 25.0, 26.0, 26.0, 34.0, 21.0, 48.0, 26.0, 32.0, 27.0]\n"
     ]
    }
   ],
   "source": [
    "ST_list = reg_sort['ST'].tolist()\n",
    "print(ST_list)"
   ]
  },
  {
   "cell_type": "code",
   "execution_count": 56,
   "metadata": {
    "scrolled": true
   },
   "outputs": [
    {
     "name": "stdout",
     "output_type": "stream",
     "text": [
      "[50.0, 9.0, 25.0, 34.0, 36.0, 44.0, 42.0, 23.0, 33.0, 38.0, 55.0, 39.0, 18.0, 20.0, 27.0, 26.0, 29.0, 31.0, 46.0, 17.0, 19.0, 10.0, 48.0, 51.0, 11.0, 24.0, 28.0, 45.0, 5.0, 22.0, 40.0, 12.0, 21.0, 54.0, 37.0, 1.0, 47.0, 13.0, 35.0, 30.0, 53.0, 16.0, 4.0, 2.0, 8.0, 56.0, 41.0, 49.0, 15.0, 32.0, 6.0, 166.0, 399.0, 555.0, 72.0, 251.0, 303.0, 213.0, 254.0, 301.0]\n"
     ]
    }
   ],
   "source": [
    "print(reg_list)"
   ]
  },
  {
   "cell_type": "code",
   "execution_count": 57,
   "metadata": {},
   "outputs": [
    {
     "data": {
      "text/plain": [
       "<seaborn.axisgrid.FacetGrid at 0x1e086f37f88>"
      ]
     },
     "execution_count": 57,
     "metadata": {},
     "output_type": "execute_result"
    },
    {
     "data": {
      "image/png": "[encoded data removed]",
      "text/plain": [
       "<Figure size 1493.62x360 with 1 Axes>"
      ]
     },
     "metadata": {
      "needs_background": "light"
     },
     "output_type": "display_data"
    }
   ],
   "source": [
    "g = sns.catplot(y=\"WAGP\", x=\"POWSP\", hue='reg_code',\n",
    "                data=reg_sort, kind=\"bar\", aspect=4, order=reg_list)\n",
    "g.set(ylim=(0, 175000))"
   ]
  },
  {
   "cell_type": "code",
   "execution_count": 58,
   "metadata": {},
   "outputs": [
    {
     "data": {
      "text/html": [
       "<div>\n",
       "<style scoped>\n",
       "    .dataframe tbody tr th:only-of-type {\n",
       "        vertical-align: middle;\n",
       "    }\n",
       "\n",
       "    .dataframe tbody tr th {\n",
       "        vertical-align: top;\n",
       "    }\n",
       "\n",
       "    .dataframe thead th {\n",
       "        text-align: right;\n",
       "    }\n",
       "</style>\n",
       "<table border=\"1\" class=\"dataframe\">\n",
       "  <thead>\n",
       "    <tr style=\"text-align: right;\">\n",
       "      <th></th>\n",
       "      <th>POWSP</th>\n",
       "      <th>ST</th>\n",
       "      <th>AGEP</th>\n",
       "      <th>SCHL</th>\n",
       "      <th>WAGP</th>\n",
       "      <th>WKHP</th>\n",
       "      <th>WKW</th>\n",
       "      <th>HISP</th>\n",
       "      <th>OCCP</th>\n",
       "      <th>RAC1P</th>\n",
       "    </tr>\n",
       "    <tr>\n",
       "      <th>reg_code</th>\n",
       "      <th></th>\n",
       "      <th></th>\n",
       "      <th></th>\n",
       "      <th></th>\n",
       "      <th></th>\n",
       "      <th></th>\n",
       "      <th></th>\n",
       "      <th></th>\n",
       "      <th></th>\n",
       "      <th></th>\n",
       "    </tr>\n",
       "  </thead>\n",
       "  <tbody>\n",
       "    <tr>\n",
       "      <td>1</td>\n",
       "      <td>34.0</td>\n",
       "      <td>34.0</td>\n",
       "      <td>45.0</td>\n",
       "      <td>20.0</td>\n",
       "      <td>50000.0</td>\n",
       "      <td>40.0</td>\n",
       "      <td>1.0</td>\n",
       "      <td>1.0</td>\n",
       "      <td>3930.0</td>\n",
       "      <td>1.0</td>\n",
       "    </tr>\n",
       "    <tr>\n",
       "      <td>2</td>\n",
       "      <td>28.0</td>\n",
       "      <td>28.0</td>\n",
       "      <td>45.0</td>\n",
       "      <td>19.0</td>\n",
       "      <td>42700.0</td>\n",
       "      <td>40.0</td>\n",
       "      <td>1.0</td>\n",
       "      <td>1.0</td>\n",
       "      <td>4700.0</td>\n",
       "      <td>1.0</td>\n",
       "    </tr>\n",
       "    <tr>\n",
       "      <td>3</td>\n",
       "      <td>24.0</td>\n",
       "      <td>24.0</td>\n",
       "      <td>44.0</td>\n",
       "      <td>19.0</td>\n",
       "      <td>41000.0</td>\n",
       "      <td>40.0</td>\n",
       "      <td>1.0</td>\n",
       "      <td>1.0</td>\n",
       "      <td>4520.0</td>\n",
       "      <td>1.0</td>\n",
       "    </tr>\n",
       "    <tr>\n",
       "      <td>4</td>\n",
       "      <td>30.0</td>\n",
       "      <td>30.0</td>\n",
       "      <td>44.0</td>\n",
       "      <td>19.0</td>\n",
       "      <td>46000.0</td>\n",
       "      <td>40.0</td>\n",
       "      <td>1.0</td>\n",
       "      <td>1.0</td>\n",
       "      <td>4220.0</td>\n",
       "      <td>1.0</td>\n",
       "    </tr>\n",
       "    <tr>\n",
       "      <td>5</td>\n",
       "      <td>254.0</td>\n",
       "      <td>26.0</td>\n",
       "      <td>46.0</td>\n",
       "      <td>20.0</td>\n",
       "      <td>70000.0</td>\n",
       "      <td>45.0</td>\n",
       "      <td>1.0</td>\n",
       "      <td>1.0</td>\n",
       "      <td>2640.0</td>\n",
       "      <td>1.0</td>\n",
       "    </tr>\n",
       "  </tbody>\n",
       "</table>\n",
       "</div>"
      ],
      "text/plain": [
       "          POWSP    ST  AGEP  SCHL     WAGP  WKHP  WKW  HISP    OCCP  RAC1P\n",
       "reg_code                                                                  \n",
       "1          34.0  34.0  45.0  20.0  50000.0  40.0  1.0   1.0  3930.0    1.0\n",
       "2          28.0  28.0  45.0  19.0  42700.0  40.0  1.0   1.0  4700.0    1.0\n",
       "3          24.0  24.0  44.0  19.0  41000.0  40.0  1.0   1.0  4520.0    1.0\n",
       "4          30.0  30.0  44.0  19.0  46000.0  40.0  1.0   1.0  4220.0    1.0\n",
       "5         254.0  26.0  46.0  20.0  70000.0  45.0  1.0   1.0  2640.0    1.0"
      ]
     },
     "execution_count": 58,
     "metadata": {},
     "output_type": "execute_result"
    }
   ],
   "source": [
    "int_state_sort.groupby('reg_code').median()"
   ]
  },
  {
   "cell_type": "code",
   "execution_count": 59,
   "metadata": {
    "scrolled": true
   },
   "outputs": [
    {
     "data": {
      "text/plain": [
       "<seaborn.axisgrid.FacetGrid at 0x1e0c6eaa748>"
      ]
     },
     "execution_count": 59,
     "metadata": {},
     "output_type": "execute_result"
    },
    {
     "data": {
      "image/png": "[encoded data removed]",
      "text/plain": [
       "<Figure size 1440x360 with 1 Axes>"
      ]
     },
     "metadata": {
      "needs_background": "light"
     },
     "output_type": "display_data"
    }
   ],
   "source": [
    "g = sns.catplot(y=\"WAGP\", x=\"POWSP\", data=race_test,\n",
    "                kind=\"box\", aspect=4, order=int_state_list)\n",
    "g.set(ylim=(0, 175000))"
   ]
  },
  {
   "cell_type": "code",
   "execution_count": 60,
   "metadata": {},
   "outputs": [
    {
     "name": "stdout",
     "output_type": "stream",
     "text": [
      "[28.0, 5.0, 46.0, 40.0, 35.0, 54.0, 31.0, 30.0, 29.0, 45.0, 16.0, 47.0, 19.0, 1.0, 37.0, 23.0, 21.0, 12.0, 20.0, 18.0, 22.0, 32.0, 55.0, 38.0, 4.0, 13.0, 50.0, 42.0, 39.0, 26.0, 15.0, 48.0, 49.0, 27.0, 41.0, 56.0, 33.0, 17.0, 8.0, 44.0, 2.0, 6.0, 36.0, 10.0, 53.0, 51.0, 213.0, 34.0, 24.0, 25.0, 9.0, 72.0, 303.0, 251.0, 254.0, 555.0, 399.0, 166.0, 11.0, 301.0]\n"
     ]
    }
   ],
   "source": [
    "print(int_state_list)"
   ]
  },
  {
   "cell_type": "code",
   "execution_count": 61,
   "metadata": {},
   "outputs": [],
   "source": [
    "def state_split(df):\n",
    "    # split into higher paying regions (4 = Northeast/Outlying Regions, 3= West Coast, 2 = Midwest, 1 = South)\n",
    "    df['STSP'] = df['POWSP'].map(lambda y: 4 if y in [50, 25.0, 9.0, 34.0, 36.0, 42.0, 44.0, 23.0, 33.0, 303.0, 166.0, 72.0, 251.0, 399.0, 301.0, 555.0, 254.0]\n",
    "                                  else 3 if y in [35.0, 30.0, 53.0, 16.0, 4.0, 2.0, 8.0, 56.0, 41.0, 49.0, 15.0, 32.0, 6.0]\n",
    "                                  else 2 if y in [38.0, 55.0, 39.0, 18.0, 20.0, 27.0, 26.0, 29.0, 31.0, 46.0, 17.0, 19.0]\n",
    "                                  else 1 if y in [10.0, 48.0, 51.0, 11.0, 24.0, 28.0, 45.0, 5.0, 22.0, 40.0, 12.0, 21.0, 54.0, 37.0, 1.0, 47.0, 13.0]\n",
    "                                 else 5)\n",
    "    test = df.loc[df['STSP'] == 5].copy()\n",
    "    df = df.loc[df['STSP'] != 5].copy()\n",
    "    test['STSP'] = test['ST'].map(lambda y: 4 if y in [50, 25.0, 9.0, 34.0, 36.0, 42.0, 44.0, 23.0, 33.0, 303.0, 166.0, 72.0, 251.0, 399.0, 301.0, 555.0, 254.0]\n",
    "                                  else 3 if y in [35.0, 30.0, 53.0, 16.0, 4.0, 2.0, 8.0, 56.0, 41.0, 49.0, 15.0, 32.0, 6.0]\n",
    "                                  else 2 if y in [38.0, 55.0, 39.0, 18.0, 20.0, 27.0, 26.0, 29.0, 31.0, 46.0, 17.0, 19.0]\n",
    "                                  else 1 if y in [10.0, 48.0, 51.0, 11.0, 24.0, 28.0, 45.0, 5.0, 22.0, 40.0, 12.0, 21.0, 54.0, 37.0, 1.0, 47.0, 13.0]\n",
    "                                  else 10)\n",
    "    df = pd.concat([df, test])\n",
    "    return df"
   ]
  },
  {
   "cell_type": "code",
   "execution_count": 62,
   "metadata": {},
   "outputs": [
    {
     "name": "stdout",
     "output_type": "stream",
     "text": [
      "State : [3 2 1 4]\n"
     ]
    },
    {
     "data": {
      "text/plain": [
       "1    1960356\n",
       "3    1177718\n",
       "2    1159869\n",
       "4     918685\n",
       "Name: STSP, dtype: int64"
      ]
     },
     "execution_count": 62,
     "metadata": {},
     "output_type": "execute_result"
    }
   ],
   "source": [
    "state_test = race_test.copy()\n",
    "state_test = state_split(state_test)\n",
    "print(\"State :\", state_test.STSP.unique())\n",
    "state_test['STSP'].value_counts()"
   ]
  },
  {
   "cell_type": "code",
   "execution_count": 63,
   "metadata": {},
   "outputs": [],
   "source": [
    "state_sort = state_test.groupby(\n",
    "    'STSP').median().sort_values(by=['WAGP']).reset_index()\n",
    "state_list = state_sort['STSP'].tolist()"
   ]
  },
  {
   "cell_type": "code",
   "execution_count": 64,
   "metadata": {},
   "outputs": [
    {
     "data": {
      "text/plain": [
       "<seaborn.axisgrid.FacetGrid at 0x1e0acc4c8c8>"
      ]
     },
     "execution_count": 64,
     "metadata": {},
     "output_type": "execute_result"
    },
    {
     "data": {
      "image/png": "[encoded data removed]",
      "text/plain": [
       "<Figure size 360x360 with 1 Axes>"
      ]
     },
     "metadata": {
      "needs_background": "light"
     },
     "output_type": "display_data"
    }
   ],
   "source": [
    "g = sns.catplot(y=\"WAGP\", x=\"STSP\", data=state_test,\n",
    "                kind=\"box\", order=state_list)\n",
    "g.set(ylim=(0, 175000))"
   ]
  },
  {
   "cell_type": "code",
   "execution_count": 65,
   "metadata": {
    "scrolled": true
   },
   "outputs": [
    {
     "data": {
      "text/plain": [
       "<seaborn.axisgrid.FacetGrid at 0x1e0acc2df48>"
      ]
     },
     "execution_count": 65,
     "metadata": {},
     "output_type": "execute_result"
    },
    {
     "data": {
      "image/png": "[encoded data removed]",
      "text/plain": [
       "<Figure size 648.625x288 with 1 Axes>"
      ]
     },
     "metadata": {
      "needs_background": "light"
     },
     "output_type": "display_data"
    }
   ],
   "source": [
    "g = sns.catplot(y=\"WAGP\", x=\"STSP\", data=state_test, kind=\"box\",\n",
    "                height=4, aspect=2, hue=\"SEX\", order=state_list)\n",
    "g.set(ylim=(0, 175000))"
   ]
  },
  {
   "cell_type": "markdown",
   "metadata": {},
   "source": [
    "# 4. Dataframe Management\n",
    "## 4.1. Remove Columns\n",
    "With the data and feature mostly processed for all the values, the excess columns are removed to clean up the dataframes. The main columns to keep were those axis aimed to align upon, sex, age, education, race, region, and industry."
   ]
  },
  {
   "cell_type": "code",
   "execution_count": 66,
   "metadata": {
    "scrolled": true
   },
   "outputs": [
    {
     "data": {
      "text/plain": [
       "Index(['ST', 'AGEP', 'SCHL', 'SEX', 'WAGP', 'WKHP', 'WKW', 'HISP', 'OCCP',\n",
       "       'POWSP', 'RAC1P', 'AGEB', 'EDU', 'JOB', 'RACE'],\n",
       "      dtype='object')"
      ]
     },
     "execution_count": 66,
     "metadata": {},
     "output_type": "execute_result"
    }
   ],
   "source": [
    "race_test.columns"
   ]
  },
  {
   "cell_type": "code",
   "execution_count": 67,
   "metadata": {},
   "outputs": [
    {
     "data": {
      "text/html": [
       "<div>\n",
       "<style scoped>\n",
       "    .dataframe tbody tr th:only-of-type {\n",
       "        vertical-align: middle;\n",
       "    }\n",
       "\n",
       "    .dataframe tbody tr th {\n",
       "        vertical-align: top;\n",
       "    }\n",
       "\n",
       "    .dataframe thead th {\n",
       "        text-align: right;\n",
       "    }\n",
       "</style>\n",
       "<table border=\"1\" class=\"dataframe\">\n",
       "  <thead>\n",
       "    <tr style=\"text-align: right;\">\n",
       "      <th></th>\n",
       "      <th>ST</th>\n",
       "      <th>AGEP</th>\n",
       "      <th>SCHL</th>\n",
       "      <th>SEX</th>\n",
       "      <th>WAGP</th>\n",
       "      <th>WKHP</th>\n",
       "      <th>WKW</th>\n",
       "      <th>HISP</th>\n",
       "      <th>OCCP</th>\n",
       "      <th>POWSP</th>\n",
       "      <th>RAC1P</th>\n",
       "      <th>AGEB</th>\n",
       "      <th>EDU</th>\n",
       "      <th>JOB</th>\n",
       "      <th>RACE</th>\n",
       "    </tr>\n",
       "  </thead>\n",
       "  <tbody>\n",
       "    <tr>\n",
       "      <td>count</td>\n",
       "      <td>5.216628e+06</td>\n",
       "      <td>5.216628e+06</td>\n",
       "      <td>5.216628e+06</td>\n",
       "      <td>5216628</td>\n",
       "      <td>5.216628e+06</td>\n",
       "      <td>5.216628e+06</td>\n",
       "      <td>5.216628e+06</td>\n",
       "      <td>5.216628e+06</td>\n",
       "      <td>5.216628e+06</td>\n",
       "      <td>5.053287e+06</td>\n",
       "      <td>5.216628e+06</td>\n",
       "      <td>5216628</td>\n",
       "      <td>5216628</td>\n",
       "      <td>5216628</td>\n",
       "      <td>5216628</td>\n",
       "    </tr>\n",
       "    <tr>\n",
       "      <td>unique</td>\n",
       "      <td>NaN</td>\n",
       "      <td>NaN</td>\n",
       "      <td>NaN</td>\n",
       "      <td>2</td>\n",
       "      <td>NaN</td>\n",
       "      <td>NaN</td>\n",
       "      <td>NaN</td>\n",
       "      <td>NaN</td>\n",
       "      <td>NaN</td>\n",
       "      <td>NaN</td>\n",
       "      <td>NaN</td>\n",
       "      <td>5</td>\n",
       "      <td>6</td>\n",
       "      <td>10</td>\n",
       "      <td>4</td>\n",
       "    </tr>\n",
       "    <tr>\n",
       "      <td>top</td>\n",
       "      <td>NaN</td>\n",
       "      <td>NaN</td>\n",
       "      <td>NaN</td>\n",
       "      <td>Male</td>\n",
       "      <td>NaN</td>\n",
       "      <td>NaN</td>\n",
       "      <td>NaN</td>\n",
       "      <td>NaN</td>\n",
       "      <td>NaN</td>\n",
       "      <td>NaN</td>\n",
       "      <td>NaN</td>\n",
       "      <td>46-55</td>\n",
       "      <td>CLG</td>\n",
       "      <td>SAL</td>\n",
       "      <td>WHT/MIX</td>\n",
       "    </tr>\n",
       "    <tr>\n",
       "      <td>freq</td>\n",
       "      <td>NaN</td>\n",
       "      <td>NaN</td>\n",
       "      <td>NaN</td>\n",
       "      <td>3005886</td>\n",
       "      <td>NaN</td>\n",
       "      <td>NaN</td>\n",
       "      <td>NaN</td>\n",
       "      <td>NaN</td>\n",
       "      <td>NaN</td>\n",
       "      <td>NaN</td>\n",
       "      <td>NaN</td>\n",
       "      <td>1391659</td>\n",
       "      <td>1638229</td>\n",
       "      <td>1159118</td>\n",
       "      <td>3770321</td>\n",
       "    </tr>\n",
       "    <tr>\n",
       "      <td>mean</td>\n",
       "      <td>2.792770e+01</td>\n",
       "      <td>4.367315e+01</td>\n",
       "      <td>1.875502e+01</td>\n",
       "      <td>NaN</td>\n",
       "      <td>5.470252e+04</td>\n",
       "      <td>4.449304e+01</td>\n",
       "      <td>1.106981e+00</td>\n",
       "      <td>1.529659e+00</td>\n",
       "      <td>4.127022e+03</td>\n",
       "      <td>2.808633e+01</td>\n",
       "      <td>2.653488e+00</td>\n",
       "      <td>NaN</td>\n",
       "      <td>NaN</td>\n",
       "      <td>NaN</td>\n",
       "      <td>NaN</td>\n",
       "    </tr>\n",
       "    <tr>\n",
       "      <td>std</td>\n",
       "      <td>1.603593e+01</td>\n",
       "      <td>1.221741e+01</td>\n",
       "      <td>3.174406e+00</td>\n",
       "      <td>NaN</td>\n",
       "      <td>3.347824e+04</td>\n",
       "      <td>7.893772e+00</td>\n",
       "      <td>4.297612e-01</td>\n",
       "      <td>2.571809e+00</td>\n",
       "      <td>2.790060e+03</td>\n",
       "      <td>1.803378e+01</td>\n",
       "      <td>3.179572e+00</td>\n",
       "      <td>NaN</td>\n",
       "      <td>NaN</td>\n",
       "      <td>NaN</td>\n",
       "      <td>NaN</td>\n",
       "    </tr>\n",
       "    <tr>\n",
       "      <td>min</td>\n",
       "      <td>1.000000e+00</td>\n",
       "      <td>1.800000e+01</td>\n",
       "      <td>1.000000e+00</td>\n",
       "      <td>NaN</td>\n",
       "      <td>1.250000e+04</td>\n",
       "      <td>4.000000e+01</td>\n",
       "      <td>1.000000e+00</td>\n",
       "      <td>1.000000e+00</td>\n",
       "      <td>1.000000e+01</td>\n",
       "      <td>1.000000e+00</td>\n",
       "      <td>1.000000e+00</td>\n",
       "      <td>NaN</td>\n",
       "      <td>NaN</td>\n",
       "      <td>NaN</td>\n",
       "      <td>NaN</td>\n",
       "    </tr>\n",
       "    <tr>\n",
       "      <td>25%</td>\n",
       "      <td>1.200000e+01</td>\n",
       "      <td>3.300000e+01</td>\n",
       "      <td>1.600000e+01</td>\n",
       "      <td>NaN</td>\n",
       "      <td>3.000000e+04</td>\n",
       "      <td>4.000000e+01</td>\n",
       "      <td>1.000000e+00</td>\n",
       "      <td>1.000000e+00</td>\n",
       "      <td>1.610000e+03</td>\n",
       "      <td>1.200000e+01</td>\n",
       "      <td>1.000000e+00</td>\n",
       "      <td>NaN</td>\n",
       "      <td>NaN</td>\n",
       "      <td>NaN</td>\n",
       "      <td>NaN</td>\n",
       "    </tr>\n",
       "    <tr>\n",
       "      <td>50%</td>\n",
       "      <td>2.700000e+01</td>\n",
       "      <td>4.400000e+01</td>\n",
       "      <td>1.900000e+01</td>\n",
       "      <td>NaN</td>\n",
       "      <td>4.500000e+04</td>\n",
       "      <td>4.000000e+01</td>\n",
       "      <td>1.000000e+00</td>\n",
       "      <td>1.000000e+00</td>\n",
       "      <td>4.220000e+03</td>\n",
       "      <td>2.700000e+01</td>\n",
       "      <td>1.000000e+00</td>\n",
       "      <td>NaN</td>\n",
       "      <td>NaN</td>\n",
       "      <td>NaN</td>\n",
       "      <td>NaN</td>\n",
       "    </tr>\n",
       "    <tr>\n",
       "      <td>75%</td>\n",
       "      <td>4.200000e+01</td>\n",
       "      <td>5.400000e+01</td>\n",
       "      <td>2.100000e+01</td>\n",
       "      <td>NaN</td>\n",
       "      <td>7.000000e+04</td>\n",
       "      <td>4.800000e+01</td>\n",
       "      <td>1.000000e+00</td>\n",
       "      <td>1.000000e+00</td>\n",
       "      <td>5.860000e+03</td>\n",
       "      <td>4.200000e+01</td>\n",
       "      <td>2.000000e+00</td>\n",
       "      <td>NaN</td>\n",
       "      <td>NaN</td>\n",
       "      <td>NaN</td>\n",
       "      <td>NaN</td>\n",
       "    </tr>\n",
       "    <tr>\n",
       "      <td>max</td>\n",
       "      <td>5.600000e+01</td>\n",
       "      <td>7.000000e+01</td>\n",
       "      <td>2.400000e+01</td>\n",
       "      <td>NaN</td>\n",
       "      <td>1.990000e+05</td>\n",
       "      <td>9.900000e+01</td>\n",
       "      <td>3.000000e+00</td>\n",
       "      <td>2.400000e+01</td>\n",
       "      <td>9.830000e+03</td>\n",
       "      <td>5.550000e+02</td>\n",
       "      <td>1.000000e+01</td>\n",
       "      <td>NaN</td>\n",
       "      <td>NaN</td>\n",
       "      <td>NaN</td>\n",
       "      <td>NaN</td>\n",
       "    </tr>\n",
       "  </tbody>\n",
       "</table>\n",
       "</div>"
      ],
      "text/plain": [
       "                  ST          AGEP          SCHL      SEX          WAGP  \\\n",
       "count   5.216628e+06  5.216628e+06  5.216628e+06  5216628  5.216628e+06   \n",
       "unique           NaN           NaN           NaN        2           NaN   \n",
       "top              NaN           NaN           NaN     Male           NaN   \n",
       "freq             NaN           NaN           NaN  3005886           NaN   \n",
       "mean    2.792770e+01  4.367315e+01  1.875502e+01      NaN  5.470252e+04   \n",
       "std     1.603593e+01  1.221741e+01  3.174406e+00      NaN  3.347824e+04   \n",
       "min     1.000000e+00  1.800000e+01  1.000000e+00      NaN  1.250000e+04   \n",
       "25%     1.200000e+01  3.300000e+01  1.600000e+01      NaN  3.000000e+04   \n",
       "50%     2.700000e+01  4.400000e+01  1.900000e+01      NaN  4.500000e+04   \n",
       "75%     4.200000e+01  5.400000e+01  2.100000e+01      NaN  7.000000e+04   \n",
       "max     5.600000e+01  7.000000e+01  2.400000e+01      NaN  1.990000e+05   \n",
       "\n",
       "                WKHP           WKW          HISP          OCCP         POWSP  \\\n",
       "count   5.216628e+06  5.216628e+06  5.216628e+06  5.216628e+06  5.053287e+06   \n",
       "unique           NaN           NaN           NaN           NaN           NaN   \n",
       "top              NaN           NaN           NaN           NaN           NaN   \n",
       "freq             NaN           NaN           NaN           NaN           NaN   \n",
       "mean    4.449304e+01  1.106981e+00  1.529659e+00  4.127022e+03  2.808633e+01   \n",
       "std     7.893772e+00  4.297612e-01  2.571809e+00  2.790060e+03  1.803378e+01   \n",
       "min     4.000000e+01  1.000000e+00  1.000000e+00  1.000000e+01  1.000000e+00   \n",
       "25%     4.000000e+01  1.000000e+00  1.000000e+00  1.610000e+03  1.200000e+01   \n",
       "50%     4.000000e+01  1.000000e+00  1.000000e+00  4.220000e+03  2.700000e+01   \n",
       "75%     4.800000e+01  1.000000e+00  1.000000e+00  5.860000e+03  4.200000e+01   \n",
       "max     9.900000e+01  3.000000e+00  2.400000e+01  9.830000e+03  5.550000e+02   \n",
       "\n",
       "               RAC1P     AGEB      EDU      JOB     RACE  \n",
       "count   5.216628e+06  5216628  5216628  5216628  5216628  \n",
       "unique           NaN        5        6       10        4  \n",
       "top              NaN    46-55      CLG      SAL  WHT/MIX  \n",
       "freq             NaN  1391659  1638229  1159118  3770321  \n",
       "mean    2.653488e+00      NaN      NaN      NaN      NaN  \n",
       "std     3.179572e+00      NaN      NaN      NaN      NaN  \n",
       "min     1.000000e+00      NaN      NaN      NaN      NaN  \n",
       "25%     1.000000e+00      NaN      NaN      NaN      NaN  \n",
       "50%     1.000000e+00      NaN      NaN      NaN      NaN  \n",
       "75%     2.000000e+00      NaN      NaN      NaN      NaN  \n",
       "max     1.000000e+01      NaN      NaN      NaN      NaN  "
      ]
     },
     "execution_count": 67,
     "metadata": {},
     "output_type": "execute_result"
    }
   ],
   "source": [
    "race_test.describe(include='all')"
   ]
  },
  {
   "cell_type": "code",
   "execution_count": 68,
   "metadata": {},
   "outputs": [],
   "source": [
    "def remove_col(df):\n",
    "    remove_cols = ['SCHL', 'WKHP', 'WKW', 'HISP',\n",
    "                   'OCCP', 'POWSP', 'RAC1P', 'AGEP', 'ST']\n",
    "    df = df.drop(remove_cols, axis=1)\n",
    "    return df"
   ]
  },
  {
   "cell_type": "code",
   "execution_count": 69,
   "metadata": {},
   "outputs": [
    {
     "data": {
      "text/html": [
       "<div>\n",
       "<style scoped>\n",
       "    .dataframe tbody tr th:only-of-type {\n",
       "        vertical-align: middle;\n",
       "    }\n",
       "\n",
       "    .dataframe tbody tr th {\n",
       "        vertical-align: top;\n",
       "    }\n",
       "\n",
       "    .dataframe thead th {\n",
       "        text-align: right;\n",
       "    }\n",
       "</style>\n",
       "<table border=\"1\" class=\"dataframe\">\n",
       "  <thead>\n",
       "    <tr style=\"text-align: right;\">\n",
       "      <th></th>\n",
       "      <th>SEX</th>\n",
       "      <th>WAGP</th>\n",
       "      <th>AGEB</th>\n",
       "      <th>EDU</th>\n",
       "      <th>JOB</th>\n",
       "      <th>RACE</th>\n",
       "    </tr>\n",
       "  </thead>\n",
       "  <tbody>\n",
       "    <tr>\n",
       "      <td>count</td>\n",
       "      <td>5216628</td>\n",
       "      <td>5.216628e+06</td>\n",
       "      <td>5216628</td>\n",
       "      <td>5216628</td>\n",
       "      <td>5216628</td>\n",
       "      <td>5216628</td>\n",
       "    </tr>\n",
       "    <tr>\n",
       "      <td>unique</td>\n",
       "      <td>2</td>\n",
       "      <td>NaN</td>\n",
       "      <td>5</td>\n",
       "      <td>6</td>\n",
       "      <td>10</td>\n",
       "      <td>4</td>\n",
       "    </tr>\n",
       "    <tr>\n",
       "      <td>top</td>\n",
       "      <td>Male</td>\n",
       "      <td>NaN</td>\n",
       "      <td>46-55</td>\n",
       "      <td>CLG</td>\n",
       "      <td>SAL</td>\n",
       "      <td>WHT/MIX</td>\n",
       "    </tr>\n",
       "    <tr>\n",
       "      <td>freq</td>\n",
       "      <td>3005886</td>\n",
       "      <td>NaN</td>\n",
       "      <td>1391659</td>\n",
       "      <td>1638229</td>\n",
       "      <td>1159118</td>\n",
       "      <td>3770321</td>\n",
       "    </tr>\n",
       "    <tr>\n",
       "      <td>mean</td>\n",
       "      <td>NaN</td>\n",
       "      <td>5.470252e+04</td>\n",
       "      <td>NaN</td>\n",
       "      <td>NaN</td>\n",
       "      <td>NaN</td>\n",
       "      <td>NaN</td>\n",
       "    </tr>\n",
       "    <tr>\n",
       "      <td>std</td>\n",
       "      <td>NaN</td>\n",
       "      <td>3.347824e+04</td>\n",
       "      <td>NaN</td>\n",
       "      <td>NaN</td>\n",
       "      <td>NaN</td>\n",
       "      <td>NaN</td>\n",
       "    </tr>\n",
       "    <tr>\n",
       "      <td>min</td>\n",
       "      <td>NaN</td>\n",
       "      <td>1.250000e+04</td>\n",
       "      <td>NaN</td>\n",
       "      <td>NaN</td>\n",
       "      <td>NaN</td>\n",
       "      <td>NaN</td>\n",
       "    </tr>\n",
       "    <tr>\n",
       "      <td>25%</td>\n",
       "      <td>NaN</td>\n",
       "      <td>3.000000e+04</td>\n",
       "      <td>NaN</td>\n",
       "      <td>NaN</td>\n",
       "      <td>NaN</td>\n",
       "      <td>NaN</td>\n",
       "    </tr>\n",
       "    <tr>\n",
       "      <td>50%</td>\n",
       "      <td>NaN</td>\n",
       "      <td>4.500000e+04</td>\n",
       "      <td>NaN</td>\n",
       "      <td>NaN</td>\n",
       "      <td>NaN</td>\n",
       "      <td>NaN</td>\n",
       "    </tr>\n",
       "    <tr>\n",
       "      <td>75%</td>\n",
       "      <td>NaN</td>\n",
       "      <td>7.000000e+04</td>\n",
       "      <td>NaN</td>\n",
       "      <td>NaN</td>\n",
       "      <td>NaN</td>\n",
       "      <td>NaN</td>\n",
       "    </tr>\n",
       "    <tr>\n",
       "      <td>max</td>\n",
       "      <td>NaN</td>\n",
       "      <td>1.990000e+05</td>\n",
       "      <td>NaN</td>\n",
       "      <td>NaN</td>\n",
       "      <td>NaN</td>\n",
       "      <td>NaN</td>\n",
       "    </tr>\n",
       "  </tbody>\n",
       "</table>\n",
       "</div>"
      ],
      "text/plain": [
       "            SEX          WAGP     AGEB      EDU      JOB     RACE\n",
       "count   5216628  5.216628e+06  5216628  5216628  5216628  5216628\n",
       "unique        2           NaN        5        6       10        4\n",
       "top        Male           NaN    46-55      CLG      SAL  WHT/MIX\n",
       "freq    3005886           NaN  1391659  1638229  1159118  3770321\n",
       "mean        NaN  5.470252e+04      NaN      NaN      NaN      NaN\n",
       "std         NaN  3.347824e+04      NaN      NaN      NaN      NaN\n",
       "min         NaN  1.250000e+04      NaN      NaN      NaN      NaN\n",
       "25%         NaN  3.000000e+04      NaN      NaN      NaN      NaN\n",
       "50%         NaN  4.500000e+04      NaN      NaN      NaN      NaN\n",
       "75%         NaN  7.000000e+04      NaN      NaN      NaN      NaN\n",
       "max         NaN  1.990000e+05      NaN      NaN      NaN      NaN"
      ]
     },
     "execution_count": 69,
     "metadata": {},
     "output_type": "execute_result"
    }
   ],
   "source": [
    "remove_test = race_test.copy()\n",
    "remove_test = remove_col(remove_test)\n",
    "remove_test.describe(include='all')"
   ]
  },
  {
   "cell_type": "markdown",
   "metadata": {},
   "source": [
    "## 4.2. OHE Columns\n",
    "While it was ultimately decided that using OHE was not needed for the purposes of this model, but this section is showing how this would be achieved and implemented into the workflow. It works for the purposes of OHE each column and can be easily implemented."
   ]
  },
  {
   "cell_type": "code",
   "execution_count": 70,
   "metadata": {},
   "outputs": [],
   "source": [
    "def OHE_cat(df):\n",
    "    OH_encoder = OneHotEncoder(handle_unknown='ignore', sparse=False)\n",
    "    cat_col = [i for i in df.columns.tolist() if i not in ['WAGP']]\n",
    "    OH_cols_train = pd.DataFrame(OH_encoder.fit_transform(df[cat_col]))\n",
    "    \n",
    "    OHE_col = list(OH_encoder.get_feature_names(cat_col))\n",
    "    OHE_col.insert(0, 'WAGP')\n",
    "    \n",
    "    OH_cols_train.index = df.index\n",
    "    df = pd.concat([df, OH_cols_train], axis=1)\n",
    "    df.drop(cat_col, axis=1, inplace=True)\n",
    "    \n",
    "    df.columns = OHE_col\n",
    "\n",
    "    return df"
   ]
  },
  {
   "cell_type": "code",
   "execution_count": 71,
   "metadata": {},
   "outputs": [
    {
     "data": {
      "text/html": [
       "<div>\n",
       "<style scoped>\n",
       "    .dataframe tbody tr th:only-of-type {\n",
       "        vertical-align: middle;\n",
       "    }\n",
       "\n",
       "    .dataframe tbody tr th {\n",
       "        vertical-align: top;\n",
       "    }\n",
       "\n",
       "    .dataframe thead th {\n",
       "        text-align: right;\n",
       "    }\n",
       "</style>\n",
       "<table border=\"1\" class=\"dataframe\">\n",
       "  <thead>\n",
       "    <tr style=\"text-align: right;\">\n",
       "      <th></th>\n",
       "      <th>WAGP</th>\n",
       "      <th>SEX_Female</th>\n",
       "      <th>SEX_Male</th>\n",
       "      <th>AGEB_18-25</th>\n",
       "      <th>AGEB_26-35</th>\n",
       "      <th>AGEB_36-45</th>\n",
       "      <th>AGEB_46-55</th>\n",
       "      <th>AGEB_56-70</th>\n",
       "      <th>EDU_BS</th>\n",
       "      <th>EDU_CLG</th>\n",
       "      <th>...</th>\n",
       "      <th>JOB_MTN</th>\n",
       "      <th>JOB_PRD</th>\n",
       "      <th>JOB_SAL</th>\n",
       "      <th>JOB_SCI</th>\n",
       "      <th>JOB_SVC</th>\n",
       "      <th>JOB_TRP</th>\n",
       "      <th>RACE_ASN</th>\n",
       "      <th>RACE_BLK</th>\n",
       "      <th>RACE_HSP/NTV</th>\n",
       "      <th>RACE_WHT/MIX</th>\n",
       "    </tr>\n",
       "  </thead>\n",
       "  <tbody>\n",
       "    <tr>\n",
       "      <td>count</td>\n",
       "      <td>5.216628e+06</td>\n",
       "      <td>5.216628e+06</td>\n",
       "      <td>5.216628e+06</td>\n",
       "      <td>5.216628e+06</td>\n",
       "      <td>5.216628e+06</td>\n",
       "      <td>5.216628e+06</td>\n",
       "      <td>5.216628e+06</td>\n",
       "      <td>5.216628e+06</td>\n",
       "      <td>5.216628e+06</td>\n",
       "      <td>5.216628e+06</td>\n",
       "      <td>...</td>\n",
       "      <td>5.216628e+06</td>\n",
       "      <td>5.216628e+06</td>\n",
       "      <td>5.216628e+06</td>\n",
       "      <td>5.216628e+06</td>\n",
       "      <td>5.216628e+06</td>\n",
       "      <td>5.216628e+06</td>\n",
       "      <td>5.216628e+06</td>\n",
       "      <td>5.216628e+06</td>\n",
       "      <td>5.216628e+06</td>\n",
       "      <td>5.216628e+06</td>\n",
       "    </tr>\n",
       "    <tr>\n",
       "      <td>mean</td>\n",
       "      <td>5.470252e+04</td>\n",
       "      <td>4.237876e-01</td>\n",
       "      <td>5.762124e-01</td>\n",
       "      <td>7.416247e-02</td>\n",
       "      <td>2.220431e-01</td>\n",
       "      <td>2.376184e-01</td>\n",
       "      <td>2.667737e-01</td>\n",
       "      <td>1.994024e-01</td>\n",
       "      <td>2.359329e-01</td>\n",
       "      <td>3.140398e-01</td>\n",
       "      <td>...</td>\n",
       "      <td>1.007009e-01</td>\n",
       "      <td>7.412106e-02</td>\n",
       "      <td>2.221968e-01</td>\n",
       "      <td>7.577213e-02</td>\n",
       "      <td>1.103376e-01</td>\n",
       "      <td>6.318066e-02</td>\n",
       "      <td>5.374698e-02</td>\n",
       "      <td>8.753528e-02</td>\n",
       "      <td>1.359671e-01</td>\n",
       "      <td>7.227506e-01</td>\n",
       "    </tr>\n",
       "    <tr>\n",
       "      <td>std</td>\n",
       "      <td>3.347824e+04</td>\n",
       "      <td>4.941576e-01</td>\n",
       "      <td>4.941576e-01</td>\n",
       "      <td>2.620351e-01</td>\n",
       "      <td>4.156200e-01</td>\n",
       "      <td>4.256242e-01</td>\n",
       "      <td>4.422731e-01</td>\n",
       "      <td>3.995511e-01</td>\n",
       "      <td>4.245805e-01</td>\n",
       "      <td>4.641324e-01</td>\n",
       "      <td>...</td>\n",
       "      <td>3.009323e-01</td>\n",
       "      <td>2.619678e-01</td>\n",
       "      <td>4.157228e-01</td>\n",
       "      <td>2.646332e-01</td>\n",
       "      <td>3.133101e-01</td>\n",
       "      <td>2.432876e-01</td>\n",
       "      <td>2.255177e-01</td>\n",
       "      <td>2.826179e-01</td>\n",
       "      <td>3.427537e-01</td>\n",
       "      <td>4.476407e-01</td>\n",
       "    </tr>\n",
       "    <tr>\n",
       "      <td>min</td>\n",
       "      <td>1.250000e+04</td>\n",
       "      <td>0.000000e+00</td>\n",
       "      <td>0.000000e+00</td>\n",
       "      <td>0.000000e+00</td>\n",
       "      <td>0.000000e+00</td>\n",
       "      <td>0.000000e+00</td>\n",
       "      <td>0.000000e+00</td>\n",
       "      <td>0.000000e+00</td>\n",
       "      <td>0.000000e+00</td>\n",
       "      <td>0.000000e+00</td>\n",
       "      <td>...</td>\n",
       "      <td>0.000000e+00</td>\n",
       "      <td>0.000000e+00</td>\n",
       "      <td>0.000000e+00</td>\n",
       "      <td>0.000000e+00</td>\n",
       "      <td>0.000000e+00</td>\n",
       "      <td>0.000000e+00</td>\n",
       "      <td>0.000000e+00</td>\n",
       "      <td>0.000000e+00</td>\n",
       "      <td>0.000000e+00</td>\n",
       "      <td>0.000000e+00</td>\n",
       "    </tr>\n",
       "    <tr>\n",
       "      <td>25%</td>\n",
       "      <td>3.000000e+04</td>\n",
       "      <td>0.000000e+00</td>\n",
       "      <td>0.000000e+00</td>\n",
       "      <td>0.000000e+00</td>\n",
       "      <td>0.000000e+00</td>\n",
       "      <td>0.000000e+00</td>\n",
       "      <td>0.000000e+00</td>\n",
       "      <td>0.000000e+00</td>\n",
       "      <td>0.000000e+00</td>\n",
       "      <td>0.000000e+00</td>\n",
       "      <td>...</td>\n",
       "      <td>0.000000e+00</td>\n",
       "      <td>0.000000e+00</td>\n",
       "      <td>0.000000e+00</td>\n",
       "      <td>0.000000e+00</td>\n",
       "      <td>0.000000e+00</td>\n",
       "      <td>0.000000e+00</td>\n",
       "      <td>0.000000e+00</td>\n",
       "      <td>0.000000e+00</td>\n",
       "      <td>0.000000e+00</td>\n",
       "      <td>0.000000e+00</td>\n",
       "    </tr>\n",
       "    <tr>\n",
       "      <td>50%</td>\n",
       "      <td>4.500000e+04</td>\n",
       "      <td>0.000000e+00</td>\n",
       "      <td>1.000000e+00</td>\n",
       "      <td>0.000000e+00</td>\n",
       "      <td>0.000000e+00</td>\n",
       "      <td>0.000000e+00</td>\n",
       "      <td>0.000000e+00</td>\n",
       "      <td>0.000000e+00</td>\n",
       "      <td>0.000000e+00</td>\n",
       "      <td>0.000000e+00</td>\n",
       "      <td>...</td>\n",
       "      <td>0.000000e+00</td>\n",
       "      <td>0.000000e+00</td>\n",
       "      <td>0.000000e+00</td>\n",
       "      <td>0.000000e+00</td>\n",
       "      <td>0.000000e+00</td>\n",
       "      <td>0.000000e+00</td>\n",
       "      <td>0.000000e+00</td>\n",
       "      <td>0.000000e+00</td>\n",
       "      <td>0.000000e+00</td>\n",
       "      <td>1.000000e+00</td>\n",
       "    </tr>\n",
       "    <tr>\n",
       "      <td>75%</td>\n",
       "      <td>7.000000e+04</td>\n",
       "      <td>1.000000e+00</td>\n",
       "      <td>1.000000e+00</td>\n",
       "      <td>0.000000e+00</td>\n",
       "      <td>0.000000e+00</td>\n",
       "      <td>0.000000e+00</td>\n",
       "      <td>1.000000e+00</td>\n",
       "      <td>0.000000e+00</td>\n",
       "      <td>0.000000e+00</td>\n",
       "      <td>1.000000e+00</td>\n",
       "      <td>...</td>\n",
       "      <td>0.000000e+00</td>\n",
       "      <td>0.000000e+00</td>\n",
       "      <td>0.000000e+00</td>\n",
       "      <td>0.000000e+00</td>\n",
       "      <td>0.000000e+00</td>\n",
       "      <td>0.000000e+00</td>\n",
       "      <td>0.000000e+00</td>\n",
       "      <td>0.000000e+00</td>\n",
       "      <td>0.000000e+00</td>\n",
       "      <td>1.000000e+00</td>\n",
       "    </tr>\n",
       "    <tr>\n",
       "      <td>max</td>\n",
       "      <td>1.990000e+05</td>\n",
       "      <td>1.000000e+00</td>\n",
       "      <td>1.000000e+00</td>\n",
       "      <td>1.000000e+00</td>\n",
       "      <td>1.000000e+00</td>\n",
       "      <td>1.000000e+00</td>\n",
       "      <td>1.000000e+00</td>\n",
       "      <td>1.000000e+00</td>\n",
       "      <td>1.000000e+00</td>\n",
       "      <td>1.000000e+00</td>\n",
       "      <td>...</td>\n",
       "      <td>1.000000e+00</td>\n",
       "      <td>1.000000e+00</td>\n",
       "      <td>1.000000e+00</td>\n",
       "      <td>1.000000e+00</td>\n",
       "      <td>1.000000e+00</td>\n",
       "      <td>1.000000e+00</td>\n",
       "      <td>1.000000e+00</td>\n",
       "      <td>1.000000e+00</td>\n",
       "      <td>1.000000e+00</td>\n",
       "      <td>1.000000e+00</td>\n",
       "    </tr>\n",
       "  </tbody>\n",
       "</table>\n",
       "<p>8 rows × 28 columns</p>\n",
       "</div>"
      ],
      "text/plain": [
       "               WAGP    SEX_Female      SEX_Male    AGEB_18-25    AGEB_26-35  \\\n",
       "count  5.216628e+06  5.216628e+06  5.216628e+06  5.216628e+06  5.216628e+06   \n",
       "mean   5.470252e+04  4.237876e-01  5.762124e-01  7.416247e-02  2.220431e-01   \n",
       "std    3.347824e+04  4.941576e-01  4.941576e-01  2.620351e-01  4.156200e-01   \n",
       "min    1.250000e+04  0.000000e+00  0.000000e+00  0.000000e+00  0.000000e+00   \n",
       "25%    3.000000e+04  0.000000e+00  0.000000e+00  0.000000e+00  0.000000e+00   \n",
       "50%    4.500000e+04  0.000000e+00  1.000000e+00  0.000000e+00  0.000000e+00   \n",
       "75%    7.000000e+04  1.000000e+00  1.000000e+00  0.000000e+00  0.000000e+00   \n",
       "max    1.990000e+05  1.000000e+00  1.000000e+00  1.000000e+00  1.000000e+00   \n",
       "\n",
       "         AGEB_36-45    AGEB_46-55    AGEB_56-70        EDU_BS       EDU_CLG  \\\n",
       "count  5.216628e+06  5.216628e+06  5.216628e+06  5.216628e+06  5.216628e+06   \n",
       "mean   2.376184e-01  2.667737e-01  1.994024e-01  2.359329e-01  3.140398e-01   \n",
       "std    4.256242e-01  4.422731e-01  3.995511e-01  4.245805e-01  4.641324e-01   \n",
       "min    0.000000e+00  0.000000e+00  0.000000e+00  0.000000e+00  0.000000e+00   \n",
       "25%    0.000000e+00  0.000000e+00  0.000000e+00  0.000000e+00  0.000000e+00   \n",
       "50%    0.000000e+00  0.000000e+00  0.000000e+00  0.000000e+00  0.000000e+00   \n",
       "75%    0.000000e+00  1.000000e+00  0.000000e+00  0.000000e+00  1.000000e+00   \n",
       "max    1.000000e+00  1.000000e+00  1.000000e+00  1.000000e+00  1.000000e+00   \n",
       "\n",
       "       ...       JOB_MTN       JOB_PRD       JOB_SAL       JOB_SCI  \\\n",
       "count  ...  5.216628e+06  5.216628e+06  5.216628e+06  5.216628e+06   \n",
       "mean   ...  1.007009e-01  7.412106e-02  2.221968e-01  7.577213e-02   \n",
       "std    ...  3.009323e-01  2.619678e-01  4.157228e-01  2.646332e-01   \n",
       "min    ...  0.000000e+00  0.000000e+00  0.000000e+00  0.000000e+00   \n",
       "25%    ...  0.000000e+00  0.000000e+00  0.000000e+00  0.000000e+00   \n",
       "50%    ...  0.000000e+00  0.000000e+00  0.000000e+00  0.000000e+00   \n",
       "75%    ...  0.000000e+00  0.000000e+00  0.000000e+00  0.000000e+00   \n",
       "max    ...  1.000000e+00  1.000000e+00  1.000000e+00  1.000000e+00   \n",
       "\n",
       "            JOB_SVC       JOB_TRP      RACE_ASN      RACE_BLK  RACE_HSP/NTV  \\\n",
       "count  5.216628e+06  5.216628e+06  5.216628e+06  5.216628e+06  5.216628e+06   \n",
       "mean   1.103376e-01  6.318066e-02  5.374698e-02  8.753528e-02  1.359671e-01   \n",
       "std    3.133101e-01  2.432876e-01  2.255177e-01  2.826179e-01  3.427537e-01   \n",
       "min    0.000000e+00  0.000000e+00  0.000000e+00  0.000000e+00  0.000000e+00   \n",
       "25%    0.000000e+00  0.000000e+00  0.000000e+00  0.000000e+00  0.000000e+00   \n",
       "50%    0.000000e+00  0.000000e+00  0.000000e+00  0.000000e+00  0.000000e+00   \n",
       "75%    0.000000e+00  0.000000e+00  0.000000e+00  0.000000e+00  0.000000e+00   \n",
       "max    1.000000e+00  1.000000e+00  1.000000e+00  1.000000e+00  1.000000e+00   \n",
       "\n",
       "       RACE_WHT/MIX  \n",
       "count  5.216628e+06  \n",
       "mean   7.227506e-01  \n",
       "std    4.476407e-01  \n",
       "min    0.000000e+00  \n",
       "25%    0.000000e+00  \n",
       "50%    1.000000e+00  \n",
       "75%    1.000000e+00  \n",
       "max    1.000000e+00  \n",
       "\n",
       "[8 rows x 28 columns]"
      ]
     },
     "execution_count": 71,
     "metadata": {},
     "output_type": "execute_result"
    }
   ],
   "source": [
    "OHE_test = remove_test.copy()\n",
    "OHE_test = OHE_cat(OHE_test)\n",
    "OHE_test.describe(include='all')"
   ]
  },
  {
   "cell_type": "markdown",
   "metadata": {},
   "source": [
    "# 5. Preprocessing Pipeline\n",
    "Combining all the other steps, a pipeline was formed to easily test out a dataframe and transform it to the needs. Given its modular nature it's simple to change how each individual section acts without disturbing the whole notebook. Below outlines the data selection, feature transformation, and dataframe management sections.\n",
    "\n",
    "In the graphs below, jobs, education, and age were compared against one another to see how wages correlates with wages and how much each feature affects one another. It’s observed that each of the values have a high correlation with wage and seems to be independently increasing wages, but also dependent on one another for the extent in which the wage varies."
   ]
  },
  {
   "cell_type": "code",
   "execution_count": 72,
   "metadata": {},
   "outputs": [],
   "source": [
    "def modeling_pipeline(df):\n",
    "    df = (df\n",
    "          .pipe(full_time_detect)\n",
    "          .pipe(outlier_wage)\n",
    "          .pipe(name_sexes)\n",
    "          .pipe(age_bins)\n",
    "          .pipe(edu_split)\n",
    "          .pipe(occ_split)\n",
    "          #.pipe(state_split)\n",
    "          .pipe(race_split)\n",
    "          .pipe(remove_col)\n",
    "          .pipe(OHE_cat)\n",
    "          )\n",
    "    return df"
   ]
  },
  {
   "cell_type": "code",
   "execution_count": 73,
   "metadata": {},
   "outputs": [],
   "source": [
    "def catagorical_pipeline(df):\n",
    "    df = (df\n",
    "          .pipe(full_time_detect)\n",
    "          .pipe(outlier_wage)\n",
    "          .pipe(name_sexes)\n",
    "          .pipe(age_bins)\n",
    "          .pipe(edu_split)\n",
    "          .pipe(occ_split)\n",
    "          #.pipe(state_split)\n",
    "          .pipe(race_split)\n",
    "          .pipe(remove_col)\n",
    "          #.pipe(OHE_cat)\n",
    "          )\n",
    "    return df"
   ]
  },
  {
   "cell_type": "code",
   "execution_count": 74,
   "metadata": {},
   "outputs": [
    {
     "name": "stdout",
     "output_type": "stream",
     "text": [
      " 0.39 min\n"
     ]
    },
    {
     "data": {
      "text/html": [
       "<div>\n",
       "<style scoped>\n",
       "    .dataframe tbody tr th:only-of-type {\n",
       "        vertical-align: middle;\n",
       "    }\n",
       "\n",
       "    .dataframe tbody tr th {\n",
       "        vertical-align: top;\n",
       "    }\n",
       "\n",
       "    .dataframe thead th {\n",
       "        text-align: right;\n",
       "    }\n",
       "</style>\n",
       "<table border=\"1\" class=\"dataframe\">\n",
       "  <thead>\n",
       "    <tr style=\"text-align: right;\">\n",
       "      <th></th>\n",
       "      <th>WAGP</th>\n",
       "      <th>SEX_Female</th>\n",
       "      <th>SEX_Male</th>\n",
       "      <th>AGEB_18-25</th>\n",
       "      <th>AGEB_26-35</th>\n",
       "      <th>AGEB_36-45</th>\n",
       "      <th>AGEB_46-55</th>\n",
       "      <th>AGEB_56-70</th>\n",
       "      <th>EDU_BS</th>\n",
       "      <th>EDU_CLG</th>\n",
       "      <th>...</th>\n",
       "      <th>JOB_MTN</th>\n",
       "      <th>JOB_PRD</th>\n",
       "      <th>JOB_SAL</th>\n",
       "      <th>JOB_SCI</th>\n",
       "      <th>JOB_SVC</th>\n",
       "      <th>JOB_TRP</th>\n",
       "      <th>RACE_ASN</th>\n",
       "      <th>RACE_BLK</th>\n",
       "      <th>RACE_HSP/NTV</th>\n",
       "      <th>RACE_WHT/MIX</th>\n",
       "    </tr>\n",
       "  </thead>\n",
       "  <tbody>\n",
       "    <tr>\n",
       "      <td>count</td>\n",
       "      <td>5.216628e+06</td>\n",
       "      <td>5.216628e+06</td>\n",
       "      <td>5.216628e+06</td>\n",
       "      <td>5.216628e+06</td>\n",
       "      <td>5.216628e+06</td>\n",
       "      <td>5.216628e+06</td>\n",
       "      <td>5.216628e+06</td>\n",
       "      <td>5.216628e+06</td>\n",
       "      <td>5.216628e+06</td>\n",
       "      <td>5.216628e+06</td>\n",
       "      <td>...</td>\n",
       "      <td>5.216628e+06</td>\n",
       "      <td>5.216628e+06</td>\n",
       "      <td>5.216628e+06</td>\n",
       "      <td>5.216628e+06</td>\n",
       "      <td>5.216628e+06</td>\n",
       "      <td>5.216628e+06</td>\n",
       "      <td>5.216628e+06</td>\n",
       "      <td>5.216628e+06</td>\n",
       "      <td>5.216628e+06</td>\n",
       "      <td>5.216628e+06</td>\n",
       "    </tr>\n",
       "    <tr>\n",
       "      <td>mean</td>\n",
       "      <td>5.470252e+04</td>\n",
       "      <td>4.237876e-01</td>\n",
       "      <td>5.762124e-01</td>\n",
       "      <td>7.416247e-02</td>\n",
       "      <td>2.220431e-01</td>\n",
       "      <td>2.376184e-01</td>\n",
       "      <td>2.667737e-01</td>\n",
       "      <td>1.994024e-01</td>\n",
       "      <td>2.359329e-01</td>\n",
       "      <td>3.140398e-01</td>\n",
       "      <td>...</td>\n",
       "      <td>1.007009e-01</td>\n",
       "      <td>7.412106e-02</td>\n",
       "      <td>2.221968e-01</td>\n",
       "      <td>7.577213e-02</td>\n",
       "      <td>1.103376e-01</td>\n",
       "      <td>6.318066e-02</td>\n",
       "      <td>5.374698e-02</td>\n",
       "      <td>8.753528e-02</td>\n",
       "      <td>1.359671e-01</td>\n",
       "      <td>7.227506e-01</td>\n",
       "    </tr>\n",
       "    <tr>\n",
       "      <td>std</td>\n",
       "      <td>3.347824e+04</td>\n",
       "      <td>4.941576e-01</td>\n",
       "      <td>4.941576e-01</td>\n",
       "      <td>2.620351e-01</td>\n",
       "      <td>4.156200e-01</td>\n",
       "      <td>4.256242e-01</td>\n",
       "      <td>4.422731e-01</td>\n",
       "      <td>3.995511e-01</td>\n",
       "      <td>4.245805e-01</td>\n",
       "      <td>4.641324e-01</td>\n",
       "      <td>...</td>\n",
       "      <td>3.009323e-01</td>\n",
       "      <td>2.619678e-01</td>\n",
       "      <td>4.157228e-01</td>\n",
       "      <td>2.646332e-01</td>\n",
       "      <td>3.133101e-01</td>\n",
       "      <td>2.432876e-01</td>\n",
       "      <td>2.255177e-01</td>\n",
       "      <td>2.826179e-01</td>\n",
       "      <td>3.427537e-01</td>\n",
       "      <td>4.476407e-01</td>\n",
       "    </tr>\n",
       "    <tr>\n",
       "      <td>min</td>\n",
       "      <td>1.250000e+04</td>\n",
       "      <td>0.000000e+00</td>\n",
       "      <td>0.000000e+00</td>\n",
       "      <td>0.000000e+00</td>\n",
       "      <td>0.000000e+00</td>\n",
       "      <td>0.000000e+00</td>\n",
       "      <td>0.000000e+00</td>\n",
       "      <td>0.000000e+00</td>\n",
       "      <td>0.000000e+00</td>\n",
       "      <td>0.000000e+00</td>\n",
       "      <td>...</td>\n",
       "      <td>0.000000e+00</td>\n",
       "      <td>0.000000e+00</td>\n",
       "      <td>0.000000e+00</td>\n",
       "      <td>0.000000e+00</td>\n",
       "      <td>0.000000e+00</td>\n",
       "      <td>0.000000e+00</td>\n",
       "      <td>0.000000e+00</td>\n",
       "      <td>0.000000e+00</td>\n",
       "      <td>0.000000e+00</td>\n",
       "      <td>0.000000e+00</td>\n",
       "    </tr>\n",
       "    <tr>\n",
       "      <td>25%</td>\n",
       "      <td>3.000000e+04</td>\n",
       "      <td>0.000000e+00</td>\n",
       "      <td>0.000000e+00</td>\n",
       "      <td>0.000000e+00</td>\n",
       "      <td>0.000000e+00</td>\n",
       "      <td>0.000000e+00</td>\n",
       "      <td>0.000000e+00</td>\n",
       "      <td>0.000000e+00</td>\n",
       "      <td>0.000000e+00</td>\n",
       "      <td>0.000000e+00</td>\n",
       "      <td>...</td>\n",
       "      <td>0.000000e+00</td>\n",
       "      <td>0.000000e+00</td>\n",
       "      <td>0.000000e+00</td>\n",
       "      <td>0.000000e+00</td>\n",
       "      <td>0.000000e+00</td>\n",
       "      <td>0.000000e+00</td>\n",
       "      <td>0.000000e+00</td>\n",
       "      <td>0.000000e+00</td>\n",
       "      <td>0.000000e+00</td>\n",
       "      <td>0.000000e+00</td>\n",
       "    </tr>\n",
       "    <tr>\n",
       "      <td>50%</td>\n",
       "      <td>4.500000e+04</td>\n",
       "      <td>0.000000e+00</td>\n",
       "      <td>1.000000e+00</td>\n",
       "      <td>0.000000e+00</td>\n",
       "      <td>0.000000e+00</td>\n",
       "      <td>0.000000e+00</td>\n",
       "      <td>0.000000e+00</td>\n",
       "      <td>0.000000e+00</td>\n",
       "      <td>0.000000e+00</td>\n",
       "      <td>0.000000e+00</td>\n",
       "      <td>...</td>\n",
       "      <td>0.000000e+00</td>\n",
       "      <td>0.000000e+00</td>\n",
       "      <td>0.000000e+00</td>\n",
       "      <td>0.000000e+00</td>\n",
       "      <td>0.000000e+00</td>\n",
       "      <td>0.000000e+00</td>\n",
       "      <td>0.000000e+00</td>\n",
       "      <td>0.000000e+00</td>\n",
       "      <td>0.000000e+00</td>\n",
       "      <td>1.000000e+00</td>\n",
       "    </tr>\n",
       "    <tr>\n",
       "      <td>75%</td>\n",
       "      <td>7.000000e+04</td>\n",
       "      <td>1.000000e+00</td>\n",
       "      <td>1.000000e+00</td>\n",
       "      <td>0.000000e+00</td>\n",
       "      <td>0.000000e+00</td>\n",
       "      <td>0.000000e+00</td>\n",
       "      <td>1.000000e+00</td>\n",
       "      <td>0.000000e+00</td>\n",
       "      <td>0.000000e+00</td>\n",
       "      <td>1.000000e+00</td>\n",
       "      <td>...</td>\n",
       "      <td>0.000000e+00</td>\n",
       "      <td>0.000000e+00</td>\n",
       "      <td>0.000000e+00</td>\n",
       "      <td>0.000000e+00</td>\n",
       "      <td>0.000000e+00</td>\n",
       "      <td>0.000000e+00</td>\n",
       "      <td>0.000000e+00</td>\n",
       "      <td>0.000000e+00</td>\n",
       "      <td>0.000000e+00</td>\n",
       "      <td>1.000000e+00</td>\n",
       "    </tr>\n",
       "    <tr>\n",
       "      <td>max</td>\n",
       "      <td>1.990000e+05</td>\n",
       "      <td>1.000000e+00</td>\n",
       "      <td>1.000000e+00</td>\n",
       "      <td>1.000000e+00</td>\n",
       "      <td>1.000000e+00</td>\n",
       "      <td>1.000000e+00</td>\n",
       "      <td>1.000000e+00</td>\n",
       "      <td>1.000000e+00</td>\n",
       "      <td>1.000000e+00</td>\n",
       "      <td>1.000000e+00</td>\n",
       "      <td>...</td>\n",
       "      <td>1.000000e+00</td>\n",
       "      <td>1.000000e+00</td>\n",
       "      <td>1.000000e+00</td>\n",
       "      <td>1.000000e+00</td>\n",
       "      <td>1.000000e+00</td>\n",
       "      <td>1.000000e+00</td>\n",
       "      <td>1.000000e+00</td>\n",
       "      <td>1.000000e+00</td>\n",
       "      <td>1.000000e+00</td>\n",
       "      <td>1.000000e+00</td>\n",
       "    </tr>\n",
       "  </tbody>\n",
       "</table>\n",
       "<p>8 rows × 28 columns</p>\n",
       "</div>"
      ],
      "text/plain": [
       "               WAGP    SEX_Female      SEX_Male    AGEB_18-25    AGEB_26-35  \\\n",
       "count  5.216628e+06  5.216628e+06  5.216628e+06  5.216628e+06  5.216628e+06   \n",
       "mean   5.470252e+04  4.237876e-01  5.762124e-01  7.416247e-02  2.220431e-01   \n",
       "std    3.347824e+04  4.941576e-01  4.941576e-01  2.620351e-01  4.156200e-01   \n",
       "min    1.250000e+04  0.000000e+00  0.000000e+00  0.000000e+00  0.000000e+00   \n",
       "25%    3.000000e+04  0.000000e+00  0.000000e+00  0.000000e+00  0.000000e+00   \n",
       "50%    4.500000e+04  0.000000e+00  1.000000e+00  0.000000e+00  0.000000e+00   \n",
       "75%    7.000000e+04  1.000000e+00  1.000000e+00  0.000000e+00  0.000000e+00   \n",
       "max    1.990000e+05  1.000000e+00  1.000000e+00  1.000000e+00  1.000000e+00   \n",
       "\n",
       "         AGEB_36-45    AGEB_46-55    AGEB_56-70        EDU_BS       EDU_CLG  \\\n",
       "count  5.216628e+06  5.216628e+06  5.216628e+06  5.216628e+06  5.216628e+06   \n",
       "mean   2.376184e-01  2.667737e-01  1.994024e-01  2.359329e-01  3.140398e-01   \n",
       "std    4.256242e-01  4.422731e-01  3.995511e-01  4.245805e-01  4.641324e-01   \n",
       "min    0.000000e+00  0.000000e+00  0.000000e+00  0.000000e+00  0.000000e+00   \n",
       "25%    0.000000e+00  0.000000e+00  0.000000e+00  0.000000e+00  0.000000e+00   \n",
       "50%    0.000000e+00  0.000000e+00  0.000000e+00  0.000000e+00  0.000000e+00   \n",
       "75%    0.000000e+00  1.000000e+00  0.000000e+00  0.000000e+00  1.000000e+00   \n",
       "max    1.000000e+00  1.000000e+00  1.000000e+00  1.000000e+00  1.000000e+00   \n",
       "\n",
       "       ...       JOB_MTN       JOB_PRD       JOB_SAL       JOB_SCI  \\\n",
       "count  ...  5.216628e+06  5.216628e+06  5.216628e+06  5.216628e+06   \n",
       "mean   ...  1.007009e-01  7.412106e-02  2.221968e-01  7.577213e-02   \n",
       "std    ...  3.009323e-01  2.619678e-01  4.157228e-01  2.646332e-01   \n",
       "min    ...  0.000000e+00  0.000000e+00  0.000000e+00  0.000000e+00   \n",
       "25%    ...  0.000000e+00  0.000000e+00  0.000000e+00  0.000000e+00   \n",
       "50%    ...  0.000000e+00  0.000000e+00  0.000000e+00  0.000000e+00   \n",
       "75%    ...  0.000000e+00  0.000000e+00  0.000000e+00  0.000000e+00   \n",
       "max    ...  1.000000e+00  1.000000e+00  1.000000e+00  1.000000e+00   \n",
       "\n",
       "            JOB_SVC       JOB_TRP      RACE_ASN      RACE_BLK  RACE_HSP/NTV  \\\n",
       "count  5.216628e+06  5.216628e+06  5.216628e+06  5.216628e+06  5.216628e+06   \n",
       "mean   1.103376e-01  6.318066e-02  5.374698e-02  8.753528e-02  1.359671e-01   \n",
       "std    3.133101e-01  2.432876e-01  2.255177e-01  2.826179e-01  3.427537e-01   \n",
       "min    0.000000e+00  0.000000e+00  0.000000e+00  0.000000e+00  0.000000e+00   \n",
       "25%    0.000000e+00  0.000000e+00  0.000000e+00  0.000000e+00  0.000000e+00   \n",
       "50%    0.000000e+00  0.000000e+00  0.000000e+00  0.000000e+00  0.000000e+00   \n",
       "75%    0.000000e+00  0.000000e+00  0.000000e+00  0.000000e+00  0.000000e+00   \n",
       "max    1.000000e+00  1.000000e+00  1.000000e+00  1.000000e+00  1.000000e+00   \n",
       "\n",
       "       RACE_WHT/MIX  \n",
       "count  5.216628e+06  \n",
       "mean   7.227506e-01  \n",
       "std    4.476407e-01  \n",
       "min    0.000000e+00  \n",
       "25%    0.000000e+00  \n",
       "50%    1.000000e+00  \n",
       "75%    1.000000e+00  \n",
       "max    1.000000e+00  \n",
       "\n",
       "[8 rows x 28 columns]"
      ]
     },
     "execution_count": 74,
     "metadata": {},
     "output_type": "execute_result"
    }
   ],
   "source": [
    "start_time = time.time()\n",
    "pp_test = PUS_start.copy()\n",
    "pp_test = modeling_pipeline(pp_test)\n",
    "print(\" %s min\" % round(((time.time() - start_time)/60), 2))\n",
    "pp_test.describe(include='all')"
   ]
  },
  {
   "cell_type": "markdown",
   "metadata": {},
   "source": [
    "# 6. Modeling\n",
    "## 6.1. Random Forest\n",
    "Below outlines how each the data was modeled. Since the modeling was used to be a comparative value, it wasn't necessarily finetuned for each parameter. Random forest regressor was used as a standard. Given how large the datafile is, it's difficult to fully fit and predict the dataset fully. Luckily, having more data isn't a problem.\n",
    "\n",
    "The dataset was split accordingly to be able to tune some parameter and ultimately fit to a random forest regressor."
   ]
  },
  {
   "cell_type": "code",
   "execution_count": 78,
   "metadata": {},
   "outputs": [
    {
     "data": {
      "text/plain": [
       "(260831, 28)"
      ]
     },
     "execution_count": 78,
     "metadata": {},
     "output_type": "execute_result"
    }
   ],
   "source": [
    "cv_split = pp_test.copy()\n",
    "cv_split.shape\n",
    "param_split = cv_split.sample(frac=0.05)\n",
    "param_split.shape"
   ]
  },
  {
   "cell_type": "code",
   "execution_count": 79,
   "metadata": {},
   "outputs": [],
   "source": [
    "param_y = param_split['WAGP']\n",
    "param_x = param_split.drop(['WAGP'], axis=1)"
   ]
  },
  {
   "cell_type": "code",
   "execution_count": 80,
   "metadata": {},
   "outputs": [
    {
     "name": "stdout",
     "output_type": "stream",
     "text": [
      "Fitting 3 folds for each of 8 candidates, totalling 24 fits\n"
     ]
    },
    {
     "name": "stderr",
     "output_type": "stream",
     "text": [
      "[Parallel(n_jobs=4)]: Using backend LokyBackend with 4 concurrent workers.\n",
      "[Parallel(n_jobs=4)]: Done  24 out of  24 | elapsed:  4.0min finished\n"
     ]
    },
    {
     "data": {
      "text/plain": [
       "-19328.542200842647"
      ]
     },
     "execution_count": 80,
     "metadata": {},
     "output_type": "execute_result"
    }
   ],
   "source": [
    "kfold = StratifiedKFold(n_splits=3)\n",
    "\n",
    "RFR = RandomForestRegressor()\n",
    "rfr_param_grid = {'n_estimators': [50, 100],\n",
    "                  'min_samples_split': [5, 10],\n",
    "                  'min_samples_leaf': [10, 20]}\n",
    "\n",
    "gsRFR = GridSearchCV(RFR, param_grid=rfr_param_grid, cv=kfold,\n",
    "                     scoring=\"neg_mean_absolute_error\", verbose=1, n_jobs=4)\n",
    "\n",
    "gsRFR.fit(param_x, param_y)\n",
    "\n",
    "RFR_best = gsRFR.best_estimator_\n",
    "\n",
    "gsRFR.best_score_"
   ]
  },
  {
   "cell_type": "code",
   "execution_count": 81,
   "metadata": {},
   "outputs": [
    {
     "data": {
      "text/plain": [
       "RandomForestRegressor(bootstrap=True, criterion='mse', max_depth=None,\n",
       "                      max_features='auto', max_leaf_nodes=None,\n",
       "                      min_impurity_decrease=0.0, min_impurity_split=None,\n",
       "                      min_samples_leaf=20, min_samples_split=5,\n",
       "                      min_weight_fraction_leaf=0.0, n_estimators=100,\n",
       "                      n_jobs=None, oob_score=False, random_state=None,\n",
       "                      verbose=0, warm_start=False)"
      ]
     },
     "execution_count": 81,
     "metadata": {},
     "output_type": "execute_result"
    }
   ],
   "source": [
    "RFR_best"
   ]
  },
  {
   "cell_type": "code",
   "execution_count": 82,
   "metadata": {},
   "outputs": [
    {
     "data": {
      "text/plain": [
       "(104333, 28)"
      ]
     },
     "execution_count": 82,
     "metadata": {},
     "output_type": "execute_result"
    }
   ],
   "source": [
    "fit_split = cv_split.sample(frac=0.02)\n",
    "fit_split.shape"
   ]
  },
  {
   "cell_type": "code",
   "execution_count": 83,
   "metadata": {},
   "outputs": [],
   "source": [
    "y_full = fit_split['WAGP']\n",
    "X_full = fit_split.drop(['WAGP'], axis=1)"
   ]
  },
  {
   "cell_type": "code",
   "execution_count": 84,
   "metadata": {
    "scrolled": true
   },
   "outputs": [
    {
     "name": "stderr",
     "output_type": "stream",
     "text": [
      "[Parallel(n_jobs=4)]: Using backend LokyBackend with 4 concurrent workers.\n"
     ]
    },
    {
     "name": "stdout",
     "output_type": "stream",
     "text": [
      "CV_MAE:  -19462.670891373516\n"
     ]
    },
    {
     "name": "stderr",
     "output_type": "stream",
     "text": [
      "[Parallel(n_jobs=4)]: Done   3 out of   3 | elapsed:   12.4s finished\n"
     ]
    }
   ],
   "source": [
    "CV_score = cross_val_score(RFR_best, X_full, y_full,\n",
    "                scoring=\"neg_mean_absolute_error\", cv=kfold, n_jobs=4, verbose=1)\n",
    "print(\"CV_MAE: \", statistics.mean(CV_score))"
   ]
  },
  {
   "cell_type": "markdown",
   "metadata": {},
   "source": [
    "## 6.2. Feature Selection\n",
    "Overall, it's observed that education, occupational industry, and age are the main indicators or wage with sex follow up behind (region and race had minimal impact, but could have more value is more details were provided, or if the model was fit with an artificially higher ratio of minority races or if the states were separated more finely)"
   ]
  },
  {
   "cell_type": "code",
   "execution_count": 85,
   "metadata": {},
   "outputs": [
    {
     "data": {
      "text/plain": [
       "<matplotlib.axes._subplots.AxesSubplot at 0x1e0d3d18788>"
      ]
     },
     "execution_count": 85,
     "metadata": {},
     "output_type": "execute_result"
    },
    {
     "data": {
      "image/png": "[encoded data removed]",
      "text/plain": [
       "<Figure size 360x720 with 1 Axes>"
      ]
     },
     "metadata": {
      "needs_background": "light"
     },
     "output_type": "display_data"
    }
   ],
   "source": [
    "features = pd.DataFrame()\n",
    "features['feature'] = X_full.columns\n",
    "features['importance'] = RFR_best.feature_importances_\n",
    "features.sort_values(by=['importance'], ascending=True, inplace=True)\n",
    "features.set_index('feature', inplace=True)\n",
    "\n",
    "features.plot(kind='barh', figsize=(5, 10))"
   ]
  },
  {
   "cell_type": "markdown",
   "metadata": {},
   "source": [
    "# 7. Analysis\n",
    "## 7.1. Scoring Rational\n",
    "Below is the function to score a dataset for an individual year. It's extremely difficult to capture the total wage gap of the entire united states since each region, industry, education level has a different level of variance between men and woman. Therefore, to capture this information all in a single number is intimidating and difficult.\n",
    "\n",
    "The core methodology was that (1) the score should encapsulate the entire US population so it should be weighted, (2) maintain sex separation between feature so male vs. female dominated industries don't have a bias, and (3) compare the values between true wages and predicted wages to determine if there's any significant differences.\n",
    "\n",
    "Function commented below:"
   ]
  },
  {
   "cell_type": "code",
   "execution_count": 86,
   "metadata": {
    "scrolled": false
   },
   "outputs": [],
   "source": [
    "def keep_cat_cols(df):\n",
    "    modeling_df = modeling_pipeline(df)\n",
    "    catagorical_df = catagorical_pipeline(df)\n",
    "    y_mod = modeling_df['WAGP']\n",
    "    x_mod = modeling_df.drop(['WAGP'], axis=1)\n",
    "    preds_test = RFR_best.predict(x_mod)\n",
    "    predicted = pd.DataFrame({'Index': x_mod.index, 'WAG_pred': preds_test}).set_index('Index')\n",
    "    org = pd.concat([predicted, catagorical_df], axis=1, sort=False)\n",
    "    return org  "
   ]
  },
  {
   "cell_type": "code",
   "execution_count": 166,
   "metadata": {},
   "outputs": [],
   "source": [
    "def score_ratio(df, var, base_cat):\n",
    "\n",
    "#group as needed for each group\n",
    "    grouped = df.groupby(['SEX', 'EDU', 'JOB', 'RACE', 'AGEB']) \\\n",
    "        .agg({'WAG_pred': ['mean'], 'WAGP': ['count', 'mean', 'std']}) \\\n",
    "        .unstack(fill_value=0).stack().reset_index()\n",
    "    grouped.columns = grouped.columns.map('_'.join).str.strip('_')\n",
    "    grouped['WAG'] = (grouped['WAG_pred_mean'] + grouped['WAGP_mean'])/2\n",
    "    \n",
    "    output_sep = []\n",
    "    output_grp = []\n",
    "    cat_list = list(df[var].unique())\n",
    "    \n",
    "    if var == 'SEX':\n",
    "        f_cat = grouped[(grouped['SEX'] == 'Female')].reset_index()\n",
    "        m_cat = grouped[(grouped['SEX'] == 'Male')].reset_index()\n",
    "\n",
    "        temp = pd.DataFrame({'f_wage': f_cat.WAG, 'f_ct': f_cat.WAGP_count,\n",
    "                            'm_wage': m_cat.WAG, 'm_ct': m_cat.WAGP_count})\n",
    "        temp = temp.loc[(temp['f_ct'] >= 1) & (temp['m_ct'] >= 1)]\n",
    "\n",
    "        temp['mx_wage'] = temp['m_wage'] * temp['m_ct'] / temp['m_ct'].sum()\n",
    "        temp['fx_wage'] = temp['f_wage'] * temp['f_ct'] / temp['f_ct'].sum()\n",
    "        temp['m_ratio'] = temp['m_wage'] / temp['m_wage'] * temp['m_ct'] / temp['m_ct'].sum()\n",
    "        temp['f_ratio'] = temp['f_wage'] / temp['m_wage'] * temp['f_ct'] / temp['f_ct'].sum()\n",
    "        m_ct = temp['m_ct'].sum()\n",
    "        f_ct = temp['f_ct'].sum()\n",
    "        m_ratio = round(temp['m_ratio'].sum(), 3)\n",
    "        f_ratio = round(temp['f_ratio'].sum(), 3)\n",
    "        m_wage = round(temp['mx_wage'].sum(), 3)\n",
    "        f_wage = round(temp['fx_wage'].sum(), 3)\n",
    "        m_summary = [var, 'Male', m_wage, m_ratio, 'Male', m_ct]\n",
    "        f_summary = [var, 'Female', f_wage, f_ratio, 'Female', f_ct]\n",
    "        output_sep.append(m_summary)\n",
    "        output_sep.append(f_summary)\n",
    "        \n",
    "        t_ct = f_ct + m_ct\n",
    "        diff = (m_wage - f_wage) / f_wage\n",
    "        summary = [var, 'F/M', diff, t_ct, m_wage, m_ratio, m_ct, f_wage, f_ratio, f_ct]\n",
    "        output_grp.append(summary)\n",
    "        \n",
    "    else:\n",
    "        for n in cat_list:\n",
    "            m_ncat = grouped[(grouped[var] == n) & (grouped['SEX'] == 'Male')].reset_index()\n",
    "            f_ncat = grouped[(grouped[var] == n) & (grouped['SEX'] == 'Female')].reset_index()\n",
    "            m_base = grouped[(grouped[var] == base_cat) & (grouped['SEX'] == 'Male')].reset_index()\n",
    "\n",
    "            temp = pd.DataFrame({'m_cat_wage': m_ncat.WAG, 'm_cat_ct': m_ncat.WAGP_count,\n",
    "                                 'f_cat_wage': f_ncat.WAG, 'f_cat_ct': f_ncat.WAGP_count,\n",
    "                                'm_bas_wage': m_base.WAG, 'm_bas_ct': m_base.WAGP_count})\n",
    "            temp = temp.loc[(temp['m_cat_ct'] >= 1) & (temp['f_cat_ct'] >= 1) & (temp['m_bas_ct'] >= 1)]\n",
    "\n",
    "            temp['mx_wage'] = temp['m_cat_wage'] * temp['m_cat_ct'] / temp['m_cat_ct'].sum()\n",
    "            temp['mx_ratio'] = temp['m_cat_wage'] / temp['m_bas_wage'] * temp['m_cat_ct'] / temp['m_cat_ct'].sum()\n",
    "            m_ct = temp['m_cat_ct'].sum()\n",
    "            m_wage = round(temp['mx_wage'].sum(), 3)\n",
    "            m_ratio = round(temp['mx_ratio'].sum(), 3)\n",
    "            m_summary = [var, n, m_wage, m_ratio, 'Male', m_ct]\n",
    "            output_sep.append(m_summary)\n",
    "\n",
    "            temp['fx_wage'] = temp['f_cat_wage'] * temp['f_cat_ct'] / temp['f_cat_ct'].sum()\n",
    "            temp['fx_ratio'] = temp['f_cat_wage'] / temp['m_bas_wage'] * temp['f_cat_ct'] / temp['f_cat_ct'].sum()\n",
    "            f_ct = temp['f_cat_ct'].sum()\n",
    "            f_wage = round(temp['fx_wage'].sum(), 3)\n",
    "            f_ratio = round(temp['fx_ratio'].sum(), 3)\n",
    "            f_summary = [var, n, f_wage, f_ratio,'Female', f_ct]\n",
    "            output_sep.append(f_summary)\n",
    "\n",
    "            t_ct = f_ct + m_ct\n",
    "            diff = (m_wage - f_wage) / f_wage\n",
    "            summary = [var, n, diff, t_ct, m_wage, m_ratio, m_ct, f_wage, f_ratio, f_ct]\n",
    "            output_grp.append(summary)\n",
    "    \n",
    "    output_sep = pd.DataFrame(output_sep, columns = ['Variable', 'Category', 'Wage', 'Ratio', 'Sex', 'Count'])\n",
    "    output_grp = pd.DataFrame(output_grp, columns = ['Variable', 'Category', 'Percent_Difference', 'Total_Count',\n",
    "                                                     'Male_Wage', 'Male_Ratio', 'Male_Count',\n",
    "                                                     'Female_Wage', 'Female_Ratio', 'Female_Count'])\n",
    "    \n",
    "    return (output_sep, output_grp)"
   ]
  },
  {
   "cell_type": "markdown",
   "metadata": {},
   "source": [
    "## 7.2. Feature Comparison\n",
    "Each feature was compared with the get final score which was nomalized by comparing the values across all other features. The final results were graphically represented below with each feature."
   ]
  },
  {
   "cell_type": "code",
   "execution_count": 139,
   "metadata": {},
   "outputs": [
    {
     "name": "stdout",
     "output_type": "stream",
     "text": [
      "(3061692, 11) (820235, 7)\n",
      " 0.28 min\n"
     ]
    }
   ],
   "source": [
    "year = '2018'\n",
    "PUS_full = pd.DataFrame()\n",
    "start_time = time.time()\n",
    "\n",
    "useful_cols = ['WAGP', 'SEX', 'AGEP', 'RAC1P',\n",
    "               'SCHL', 'WKW', 'WKHP', 'OCCP', 'POWSP', 'ST', 'HISP']\n",
    "path = ('data/%s' % year)\n",
    "PUS_split = pd.concat([pd.read_csv(f, usecols=useful_cols)\n",
    "                       for f in glob.glob(path + \"/*.csv\")], ignore_index=True)\n",
    "PUS_full = PUS_full.append(PUS_split)\n",
    "PUS_df = keep_cat_cols(PUS_full)\n",
    "print(PUS_full.shape, PUS_df.shape)\n",
    "print(\" %s min\" % round(((time.time() - start_time)/60), 2))"
   ]
  },
  {
   "cell_type": "code",
   "execution_count": 141,
   "metadata": {},
   "outputs": [],
   "source": [
    "test_year = PUS_df.copy()"
   ]
  },
  {
   "cell_type": "markdown",
   "metadata": {},
   "source": [
    "years = list(range(2013, 2019))\n",
    "PUS_full = pd.DataFrame()\n",
    "start_time = time.time()\n",
    "for year in years:\n",
    "    useful_cols = ['WAGP', 'SEX', 'AGEP', 'RAC1P',\n",
    "                   'SCHL', 'WKW', 'WKHP', 'OCCP', 'POWSP', 'ST', 'HISP']\n",
    "    path = ('data/%s' % year)\n",
    "    PUS_split = pd.concat([pd.read_csv(f, usecols=useful_cols)\n",
    "                           for f in glob.glob(path + \"/*.csv\")], ignore_index=True)\n",
    "    PUS_full = PUS_full.append(PUS_split)\n",
    "print(PUS_full.shape)\n",
    "print(\" %s min\" % round(((time.time() - start_time)/60), 2))"
   ]
  },
  {
   "cell_type": "code",
   "execution_count": 157,
   "metadata": {},
   "outputs": [],
   "source": [
    "catagories = [['SEX', 'Male'], ['AGEB', '26-35'], ['EDU', 'BS'],\n",
    "           ['JOB', 'SAL'], ['RACE', 'WHT/MIX']]\n",
    "sep_full = pd.DataFrame()\n",
    "grp_full = pd.DataFrame()\n",
    "for n in catagories:\n",
    "    score_cat = score_ratio(PUS_df, n[0], n[1])    \n",
    "    sep_full = pd.concat([sep_full, score_cat[0]])\n",
    "    grp_full = pd.concat([grp_full, score_cat[1]])"
   ]
  },
  {
   "cell_type": "code",
   "execution_count": 158,
   "metadata": {},
   "outputs": [
    {
     "data": {
      "text/html": [
       "<div>\n",
       "<style scoped>\n",
       "    .dataframe tbody tr th:only-of-type {\n",
       "        vertical-align: middle;\n",
       "    }\n",
       "\n",
       "    .dataframe tbody tr th {\n",
       "        vertical-align: top;\n",
       "    }\n",
       "\n",
       "    .dataframe thead th {\n",
       "        text-align: right;\n",
       "    }\n",
       "</style>\n",
       "<table border=\"1\" class=\"dataframe\">\n",
       "  <thead>\n",
       "    <tr style=\"text-align: right;\">\n",
       "      <th></th>\n",
       "      <th>Variable</th>\n",
       "      <th>Category</th>\n",
       "      <th>Wage</th>\n",
       "      <th>Ratio</th>\n",
       "      <th>Sex</th>\n",
       "      <th>Count</th>\n",
       "    </tr>\n",
       "  </thead>\n",
       "  <tbody>\n",
       "    <tr>\n",
       "      <td>0</td>\n",
       "      <td>SEX</td>\n",
       "      <td>Male</td>\n",
       "      <td>57811.854</td>\n",
       "      <td>1.000</td>\n",
       "      <td>Male</td>\n",
       "      <td>438954.0</td>\n",
       "    </tr>\n",
       "    <tr>\n",
       "      <td>1</td>\n",
       "      <td>SEX</td>\n",
       "      <td>Female</td>\n",
       "      <td>47469.442</td>\n",
       "      <td>0.872</td>\n",
       "      <td>Female</td>\n",
       "      <td>345902.0</td>\n",
       "    </tr>\n",
       "    <tr>\n",
       "      <td>0</td>\n",
       "      <td>AGEB</td>\n",
       "      <td>26-35</td>\n",
       "      <td>50098.359</td>\n",
       "      <td>1.000</td>\n",
       "      <td>Male</td>\n",
       "      <td>97805.0</td>\n",
       "    </tr>\n",
       "    <tr>\n",
       "      <td>1</td>\n",
       "      <td>AGEB</td>\n",
       "      <td>26-35</td>\n",
       "      <td>43850.677</td>\n",
       "      <td>0.887</td>\n",
       "      <td>Female</td>\n",
       "      <td>75694.0</td>\n",
       "    </tr>\n",
       "    <tr>\n",
       "      <td>2</td>\n",
       "      <td>AGEB</td>\n",
       "      <td>46-55</td>\n",
       "      <td>64172.205</td>\n",
       "      <td>1.281</td>\n",
       "      <td>Male</td>\n",
       "      <td>121161.0</td>\n",
       "    </tr>\n",
       "    <tr>\n",
       "      <td>3</td>\n",
       "      <td>AGEB</td>\n",
       "      <td>46-55</td>\n",
       "      <td>50621.007</td>\n",
       "      <td>1.068</td>\n",
       "      <td>Female</td>\n",
       "      <td>99191.0</td>\n",
       "    </tr>\n",
       "    <tr>\n",
       "      <td>4</td>\n",
       "      <td>AGEB</td>\n",
       "      <td>36-45</td>\n",
       "      <td>61296.063</td>\n",
       "      <td>1.220</td>\n",
       "      <td>Male</td>\n",
       "      <td>112618.0</td>\n",
       "    </tr>\n",
       "    <tr>\n",
       "      <td>5</td>\n",
       "      <td>AGEB</td>\n",
       "      <td>36-45</td>\n",
       "      <td>50117.789</td>\n",
       "      <td>1.039</td>\n",
       "      <td>Female</td>\n",
       "      <td>83098.0</td>\n",
       "    </tr>\n",
       "    <tr>\n",
       "      <td>6</td>\n",
       "      <td>AGEB</td>\n",
       "      <td>18-25</td>\n",
       "      <td>31847.734</td>\n",
       "      <td>0.718</td>\n",
       "      <td>Male</td>\n",
       "      <td>30525.0</td>\n",
       "    </tr>\n",
       "    <tr>\n",
       "      <td>7</td>\n",
       "      <td>AGEB</td>\n",
       "      <td>18-25</td>\n",
       "      <td>29517.680</td>\n",
       "      <td>0.623</td>\n",
       "      <td>Female</td>\n",
       "      <td>22851.0</td>\n",
       "    </tr>\n",
       "    <tr>\n",
       "      <td>8</td>\n",
       "      <td>AGEB</td>\n",
       "      <td>56-70</td>\n",
       "      <td>62813.694</td>\n",
       "      <td>1.237</td>\n",
       "      <td>Male</td>\n",
       "      <td>76813.0</td>\n",
       "    </tr>\n",
       "    <tr>\n",
       "      <td>9</td>\n",
       "      <td>AGEB</td>\n",
       "      <td>56-70</td>\n",
       "      <td>49954.087</td>\n",
       "      <td>1.075</td>\n",
       "      <td>Female</td>\n",
       "      <td>63746.0</td>\n",
       "    </tr>\n",
       "    <tr>\n",
       "      <td>0</td>\n",
       "      <td>EDU</td>\n",
       "      <td>BS</td>\n",
       "      <td>72317.685</td>\n",
       "      <td>1.000</td>\n",
       "      <td>Male</td>\n",
       "      <td>103646.0</td>\n",
       "    </tr>\n",
       "    <tr>\n",
       "      <td>1</td>\n",
       "      <td>EDU</td>\n",
       "      <td>BS</td>\n",
       "      <td>56051.409</td>\n",
       "      <td>0.831</td>\n",
       "      <td>Female</td>\n",
       "      <td>86805.0</td>\n",
       "    </tr>\n",
       "    <tr>\n",
       "      <td>2</td>\n",
       "      <td>EDU</td>\n",
       "      <td>CLG</td>\n",
       "      <td>53444.849</td>\n",
       "      <td>0.834</td>\n",
       "      <td>Male</td>\n",
       "      <td>143339.0</td>\n",
       "    </tr>\n",
       "    <tr>\n",
       "      <td>3</td>\n",
       "      <td>EDU</td>\n",
       "      <td>CLG</td>\n",
       "      <td>41246.393</td>\n",
       "      <td>0.614</td>\n",
       "      <td>Female</td>\n",
       "      <td>116971.0</td>\n",
       "    </tr>\n",
       "    <tr>\n",
       "      <td>4</td>\n",
       "      <td>EDU</td>\n",
       "      <td>HSD</td>\n",
       "      <td>44401.290</td>\n",
       "      <td>0.742</td>\n",
       "      <td>Male</td>\n",
       "      <td>125655.0</td>\n",
       "    </tr>\n",
       "    <tr>\n",
       "      <td>5</td>\n",
       "      <td>EDU</td>\n",
       "      <td>HSD</td>\n",
       "      <td>34228.832</td>\n",
       "      <td>0.526</td>\n",
       "      <td>Female</td>\n",
       "      <td>75797.0</td>\n",
       "    </tr>\n",
       "    <tr>\n",
       "      <td>6</td>\n",
       "      <td>EDU</td>\n",
       "      <td>No_HS</td>\n",
       "      <td>35127.805</td>\n",
       "      <td>0.650</td>\n",
       "      <td>Male</td>\n",
       "      <td>32118.0</td>\n",
       "    </tr>\n",
       "    <tr>\n",
       "      <td>7</td>\n",
       "      <td>EDU</td>\n",
       "      <td>No_HS</td>\n",
       "      <td>27559.435</td>\n",
       "      <td>0.472</td>\n",
       "      <td>Female</td>\n",
       "      <td>15696.0</td>\n",
       "    </tr>\n",
       "    <tr>\n",
       "      <td>8</td>\n",
       "      <td>EDU</td>\n",
       "      <td>DR+</td>\n",
       "      <td>93629.655</td>\n",
       "      <td>1.359</td>\n",
       "      <td>Male</td>\n",
       "      <td>17012.0</td>\n",
       "    </tr>\n",
       "    <tr>\n",
       "      <td>9</td>\n",
       "      <td>EDU</td>\n",
       "      <td>DR+</td>\n",
       "      <td>83076.258</td>\n",
       "      <td>1.303</td>\n",
       "      <td>Female</td>\n",
       "      <td>12473.0</td>\n",
       "    </tr>\n",
       "    <tr>\n",
       "      <td>10</td>\n",
       "      <td>EDU</td>\n",
       "      <td>MS</td>\n",
       "      <td>84793.641</td>\n",
       "      <td>1.123</td>\n",
       "      <td>Male</td>\n",
       "      <td>39280.0</td>\n",
       "    </tr>\n",
       "    <tr>\n",
       "      <td>11</td>\n",
       "      <td>EDU</td>\n",
       "      <td>MS</td>\n",
       "      <td>65658.140</td>\n",
       "      <td>0.973</td>\n",
       "      <td>Female</td>\n",
       "      <td>42570.0</td>\n",
       "    </tr>\n",
       "    <tr>\n",
       "      <td>0</td>\n",
       "      <td>JOB</td>\n",
       "      <td>SAL</td>\n",
       "      <td>54607.112</td>\n",
       "      <td>1.000</td>\n",
       "      <td>Male</td>\n",
       "      <td>77479.0</td>\n",
       "    </tr>\n",
       "    <tr>\n",
       "      <td>1</td>\n",
       "      <td>JOB</td>\n",
       "      <td>SAL</td>\n",
       "      <td>39048.470</td>\n",
       "      <td>0.761</td>\n",
       "      <td>Female</td>\n",
       "      <td>114732.0</td>\n",
       "    </tr>\n",
       "    <tr>\n",
       "      <td>2</td>\n",
       "      <td>JOB</td>\n",
       "      <td>MTN</td>\n",
       "      <td>49852.654</td>\n",
       "      <td>1.015</td>\n",
       "      <td>Male</td>\n",
       "      <td>61611.0</td>\n",
       "    </tr>\n",
       "    <tr>\n",
       "      <td>3</td>\n",
       "      <td>JOB</td>\n",
       "      <td>MTN</td>\n",
       "      <td>40266.523</td>\n",
       "      <td>0.796</td>\n",
       "      <td>Female</td>\n",
       "      <td>3001.0</td>\n",
       "    </tr>\n",
       "    <tr>\n",
       "      <td>4</td>\n",
       "      <td>JOB</td>\n",
       "      <td>PRD</td>\n",
       "      <td>44984.456</td>\n",
       "      <td>0.954</td>\n",
       "      <td>Male</td>\n",
       "      <td>44452.0</td>\n",
       "    </tr>\n",
       "    <tr>\n",
       "      <td>5</td>\n",
       "      <td>JOB</td>\n",
       "      <td>PRD</td>\n",
       "      <td>32183.733</td>\n",
       "      <td>0.693</td>\n",
       "      <td>Female</td>\n",
       "      <td>14775.0</td>\n",
       "    </tr>\n",
       "    <tr>\n",
       "      <td>6</td>\n",
       "      <td>JOB</td>\n",
       "      <td>SVC</td>\n",
       "      <td>42728.372</td>\n",
       "      <td>0.882</td>\n",
       "      <td>Male</td>\n",
       "      <td>50714.0</td>\n",
       "    </tr>\n",
       "    <tr>\n",
       "      <td>7</td>\n",
       "      <td>JOB</td>\n",
       "      <td>SVC</td>\n",
       "      <td>30048.227</td>\n",
       "      <td>0.662</td>\n",
       "      <td>Female</td>\n",
       "      <td>40142.0</td>\n",
       "    </tr>\n",
       "    <tr>\n",
       "      <td>8</td>\n",
       "      <td>JOB</td>\n",
       "      <td>TRP</td>\n",
       "      <td>44580.053</td>\n",
       "      <td>0.913</td>\n",
       "      <td>Male</td>\n",
       "      <td>34596.0</td>\n",
       "    </tr>\n",
       "    <tr>\n",
       "      <td>9</td>\n",
       "      <td>JOB</td>\n",
       "      <td>TRP</td>\n",
       "      <td>33013.597</td>\n",
       "      <td>0.708</td>\n",
       "      <td>Female</td>\n",
       "      <td>6061.0</td>\n",
       "    </tr>\n",
       "    <tr>\n",
       "      <td>10</td>\n",
       "      <td>JOB</td>\n",
       "      <td>ART</td>\n",
       "      <td>63270.921</td>\n",
       "      <td>0.917</td>\n",
       "      <td>Male</td>\n",
       "      <td>33944.0</td>\n",
       "    </tr>\n",
       "    <tr>\n",
       "      <td>11</td>\n",
       "      <td>JOB</td>\n",
       "      <td>ART</td>\n",
       "      <td>50290.353</td>\n",
       "      <td>0.742</td>\n",
       "      <td>Female</td>\n",
       "      <td>58819.0</td>\n",
       "    </tr>\n",
       "    <tr>\n",
       "      <td>12</td>\n",
       "      <td>JOB</td>\n",
       "      <td>HLC</td>\n",
       "      <td>75596.051</td>\n",
       "      <td>1.156</td>\n",
       "      <td>Male</td>\n",
       "      <td>10950.0</td>\n",
       "    </tr>\n",
       "    <tr>\n",
       "      <td>13</td>\n",
       "      <td>JOB</td>\n",
       "      <td>HLC</td>\n",
       "      <td>60412.825</td>\n",
       "      <td>0.997</td>\n",
       "      <td>Female</td>\n",
       "      <td>31163.0</td>\n",
       "    </tr>\n",
       "    <tr>\n",
       "      <td>14</td>\n",
       "      <td>JOB</td>\n",
       "      <td>SCI</td>\n",
       "      <td>79758.559</td>\n",
       "      <td>1.245</td>\n",
       "      <td>Male</td>\n",
       "      <td>45157.0</td>\n",
       "    </tr>\n",
       "    <tr>\n",
       "      <td>15</td>\n",
       "      <td>JOB</td>\n",
       "      <td>SCI</td>\n",
       "      <td>68321.123</td>\n",
       "      <td>1.071</td>\n",
       "      <td>Female</td>\n",
       "      <td>14395.0</td>\n",
       "    </tr>\n",
       "    <tr>\n",
       "      <td>16</td>\n",
       "      <td>JOB</td>\n",
       "      <td>BUS</td>\n",
       "      <td>79106.364</td>\n",
       "      <td>1.243</td>\n",
       "      <td>Male</td>\n",
       "      <td>82848.0</td>\n",
       "    </tr>\n",
       "    <tr>\n",
       "      <td>17</td>\n",
       "      <td>JOB</td>\n",
       "      <td>BUS</td>\n",
       "      <td>63219.546</td>\n",
       "      <td>1.023</td>\n",
       "      <td>Female</td>\n",
       "      <td>66846.0</td>\n",
       "    </tr>\n",
       "    <tr>\n",
       "      <td>18</td>\n",
       "      <td>JOB</td>\n",
       "      <td>MLT</td>\n",
       "      <td>46255.428</td>\n",
       "      <td>1.020</td>\n",
       "      <td>Male</td>\n",
       "      <td>2918.0</td>\n",
       "    </tr>\n",
       "    <tr>\n",
       "      <td>19</td>\n",
       "      <td>JOB</td>\n",
       "      <td>MLT</td>\n",
       "      <td>42274.584</td>\n",
       "      <td>0.956</td>\n",
       "      <td>Female</td>\n",
       "      <td>518.0</td>\n",
       "    </tr>\n",
       "    <tr>\n",
       "      <td>0</td>\n",
       "      <td>RACE</td>\n",
       "      <td>WHT/MIX</td>\n",
       "      <td>61273.535</td>\n",
       "      <td>1.000</td>\n",
       "      <td>Male</td>\n",
       "      <td>346341.0</td>\n",
       "    </tr>\n",
       "    <tr>\n",
       "      <td>1</td>\n",
       "      <td>RACE</td>\n",
       "      <td>WHT/MIX</td>\n",
       "      <td>48819.475</td>\n",
       "      <td>0.787</td>\n",
       "      <td>Female</td>\n",
       "      <td>252386.0</td>\n",
       "    </tr>\n",
       "    <tr>\n",
       "      <td>2</td>\n",
       "      <td>RACE</td>\n",
       "      <td>HSP/NTV</td>\n",
       "      <td>44143.433</td>\n",
       "      <td>0.880</td>\n",
       "      <td>Male</td>\n",
       "      <td>54257.0</td>\n",
       "    </tr>\n",
       "    <tr>\n",
       "      <td>3</td>\n",
       "      <td>RACE</td>\n",
       "      <td>HSP/NTV</td>\n",
       "      <td>39040.574</td>\n",
       "      <td>0.746</td>\n",
       "      <td>Female</td>\n",
       "      <td>39109.0</td>\n",
       "    </tr>\n",
       "    <tr>\n",
       "      <td>4</td>\n",
       "      <td>RACE</td>\n",
       "      <td>BLK</td>\n",
       "      <td>47600.712</td>\n",
       "      <td>0.860</td>\n",
       "      <td>Male</td>\n",
       "      <td>31835.0</td>\n",
       "    </tr>\n",
       "    <tr>\n",
       "      <td>5</td>\n",
       "      <td>RACE</td>\n",
       "      <td>BLK</td>\n",
       "      <td>41838.242</td>\n",
       "      <td>0.742</td>\n",
       "      <td>Female</td>\n",
       "      <td>38326.0</td>\n",
       "    </tr>\n",
       "    <tr>\n",
       "      <td>6</td>\n",
       "      <td>RACE</td>\n",
       "      <td>ASN</td>\n",
       "      <td>65334.227</td>\n",
       "      <td>0.940</td>\n",
       "      <td>Male</td>\n",
       "      <td>21101.0</td>\n",
       "    </tr>\n",
       "    <tr>\n",
       "      <td>7</td>\n",
       "      <td>RACE</td>\n",
       "      <td>ASN</td>\n",
       "      <td>56745.258</td>\n",
       "      <td>0.913</td>\n",
       "      <td>Female</td>\n",
       "      <td>18220.0</td>\n",
       "    </tr>\n",
       "  </tbody>\n",
       "</table>\n",
       "</div>"
      ],
      "text/plain": [
       "   Variable Category       Wage  Ratio     Sex     Count\n",
       "0       SEX     Male  57811.854  1.000    Male  438954.0\n",
       "1       SEX   Female  47469.442  0.872  Female  345902.0\n",
       "0      AGEB    26-35  50098.359  1.000    Male   97805.0\n",
       "1      AGEB    26-35  43850.677  0.887  Female   75694.0\n",
       "2      AGEB    46-55  64172.205  1.281    Male  121161.0\n",
       "3      AGEB    46-55  50621.007  1.068  Female   99191.0\n",
       "4      AGEB    36-45  61296.063  1.220    Male  112618.0\n",
       "5      AGEB    36-45  50117.789  1.039  Female   83098.0\n",
       "6      AGEB    18-25  31847.734  0.718    Male   30525.0\n",
       "7      AGEB    18-25  29517.680  0.623  Female   22851.0\n",
       "8      AGEB    56-70  62813.694  1.237    Male   76813.0\n",
       "9      AGEB    56-70  49954.087  1.075  Female   63746.0\n",
       "0       EDU       BS  72317.685  1.000    Male  103646.0\n",
       "1       EDU       BS  56051.409  0.831  Female   86805.0\n",
       "2       EDU      CLG  53444.849  0.834    Male  143339.0\n",
       "3       EDU      CLG  41246.393  0.614  Female  116971.0\n",
       "4       EDU      HSD  44401.290  0.742    Male  125655.0\n",
       "5       EDU      HSD  34228.832  0.526  Female   75797.0\n",
       "6       EDU    No_HS  35127.805  0.650    Male   32118.0\n",
       "7       EDU    No_HS  27559.435  0.472  Female   15696.0\n",
       "8       EDU      DR+  93629.655  1.359    Male   17012.0\n",
       "9       EDU      DR+  83076.258  1.303  Female   12473.0\n",
       "10      EDU       MS  84793.641  1.123    Male   39280.0\n",
       "11      EDU       MS  65658.140  0.973  Female   42570.0\n",
       "0       JOB      SAL  54607.112  1.000    Male   77479.0\n",
       "1       JOB      SAL  39048.470  0.761  Female  114732.0\n",
       "2       JOB      MTN  49852.654  1.015    Male   61611.0\n",
       "3       JOB      MTN  40266.523  0.796  Female    3001.0\n",
       "4       JOB      PRD  44984.456  0.954    Male   44452.0\n",
       "5       JOB      PRD  32183.733  0.693  Female   14775.0\n",
       "6       JOB      SVC  42728.372  0.882    Male   50714.0\n",
       "7       JOB      SVC  30048.227  0.662  Female   40142.0\n",
       "8       JOB      TRP  44580.053  0.913    Male   34596.0\n",
       "9       JOB      TRP  33013.597  0.708  Female    6061.0\n",
       "10      JOB      ART  63270.921  0.917    Male   33944.0\n",
       "11      JOB      ART  50290.353  0.742  Female   58819.0\n",
       "12      JOB      HLC  75596.051  1.156    Male   10950.0\n",
       "13      JOB      HLC  60412.825  0.997  Female   31163.0\n",
       "14      JOB      SCI  79758.559  1.245    Male   45157.0\n",
       "15      JOB      SCI  68321.123  1.071  Female   14395.0\n",
       "16      JOB      BUS  79106.364  1.243    Male   82848.0\n",
       "17      JOB      BUS  63219.546  1.023  Female   66846.0\n",
       "18      JOB      MLT  46255.428  1.020    Male    2918.0\n",
       "19      JOB      MLT  42274.584  0.956  Female     518.0\n",
       "0      RACE  WHT/MIX  61273.535  1.000    Male  346341.0\n",
       "1      RACE  WHT/MIX  48819.475  0.787  Female  252386.0\n",
       "2      RACE  HSP/NTV  44143.433  0.880    Male   54257.0\n",
       "3      RACE  HSP/NTV  39040.574  0.746  Female   39109.0\n",
       "4      RACE      BLK  47600.712  0.860    Male   31835.0\n",
       "5      RACE      BLK  41838.242  0.742  Female   38326.0\n",
       "6      RACE      ASN  65334.227  0.940    Male   21101.0\n",
       "7      RACE      ASN  56745.258  0.913  Female   18220.0"
      ]
     },
     "execution_count": 158,
     "metadata": {},
     "output_type": "execute_result"
    }
   ],
   "source": [
    "sep_full"
   ]
  },
  {
   "cell_type": "code",
   "execution_count": 159,
   "metadata": {},
   "outputs": [
    {
     "data": {
      "text/html": [
       "<div>\n",
       "<style scoped>\n",
       "    .dataframe tbody tr th:only-of-type {\n",
       "        vertical-align: middle;\n",
       "    }\n",
       "\n",
       "    .dataframe tbody tr th {\n",
       "        vertical-align: top;\n",
       "    }\n",
       "\n",
       "    .dataframe thead th {\n",
       "        text-align: right;\n",
       "    }\n",
       "</style>\n",
       "<table border=\"1\" class=\"dataframe\">\n",
       "  <thead>\n",
       "    <tr style=\"text-align: right;\">\n",
       "      <th></th>\n",
       "      <th>Variable</th>\n",
       "      <th>Category</th>\n",
       "      <th>Percent_Difference</th>\n",
       "      <th>Total_Count</th>\n",
       "      <th>Male_Wage</th>\n",
       "      <th>Male_Ratio</th>\n",
       "      <th>Male_Count</th>\n",
       "      <th>Female_Wage</th>\n",
       "      <th>Female_Ratio</th>\n",
       "      <th>Female_Count</th>\n",
       "    </tr>\n",
       "  </thead>\n",
       "  <tbody>\n",
       "    <tr>\n",
       "      <td>0</td>\n",
       "      <td>SEX</td>\n",
       "      <td>F/M</td>\n",
       "      <td>0.217875</td>\n",
       "      <td>784856.0</td>\n",
       "      <td>57811.854</td>\n",
       "      <td>1.000</td>\n",
       "      <td>438954</td>\n",
       "      <td>47469.442</td>\n",
       "      <td>0.872</td>\n",
       "      <td>345902.0</td>\n",
       "    </tr>\n",
       "    <tr>\n",
       "      <td>0</td>\n",
       "      <td>AGEB</td>\n",
       "      <td>26-35</td>\n",
       "      <td>0.142476</td>\n",
       "      <td>173499.0</td>\n",
       "      <td>50098.359</td>\n",
       "      <td>1.000</td>\n",
       "      <td>97805</td>\n",
       "      <td>43850.677</td>\n",
       "      <td>0.887</td>\n",
       "      <td>75694.0</td>\n",
       "    </tr>\n",
       "    <tr>\n",
       "      <td>1</td>\n",
       "      <td>AGEB</td>\n",
       "      <td>46-55</td>\n",
       "      <td>0.267699</td>\n",
       "      <td>220352.0</td>\n",
       "      <td>64172.205</td>\n",
       "      <td>1.281</td>\n",
       "      <td>121161</td>\n",
       "      <td>50621.007</td>\n",
       "      <td>1.068</td>\n",
       "      <td>99191.0</td>\n",
       "    </tr>\n",
       "    <tr>\n",
       "      <td>2</td>\n",
       "      <td>AGEB</td>\n",
       "      <td>36-45</td>\n",
       "      <td>0.223040</td>\n",
       "      <td>195716.0</td>\n",
       "      <td>61296.063</td>\n",
       "      <td>1.220</td>\n",
       "      <td>112618</td>\n",
       "      <td>50117.789</td>\n",
       "      <td>1.039</td>\n",
       "      <td>83098.0</td>\n",
       "    </tr>\n",
       "    <tr>\n",
       "      <td>3</td>\n",
       "      <td>AGEB</td>\n",
       "      <td>18-25</td>\n",
       "      <td>0.078938</td>\n",
       "      <td>53376.0</td>\n",
       "      <td>31847.734</td>\n",
       "      <td>0.718</td>\n",
       "      <td>30525</td>\n",
       "      <td>29517.680</td>\n",
       "      <td>0.623</td>\n",
       "      <td>22851.0</td>\n",
       "    </tr>\n",
       "    <tr>\n",
       "      <td>4</td>\n",
       "      <td>AGEB</td>\n",
       "      <td>56-70</td>\n",
       "      <td>0.257429</td>\n",
       "      <td>140559.0</td>\n",
       "      <td>62813.694</td>\n",
       "      <td>1.237</td>\n",
       "      <td>76813</td>\n",
       "      <td>49954.087</td>\n",
       "      <td>1.075</td>\n",
       "      <td>63746.0</td>\n",
       "    </tr>\n",
       "    <tr>\n",
       "      <td>0</td>\n",
       "      <td>EDU</td>\n",
       "      <td>BS</td>\n",
       "      <td>0.290203</td>\n",
       "      <td>190451.0</td>\n",
       "      <td>72317.685</td>\n",
       "      <td>1.000</td>\n",
       "      <td>103646</td>\n",
       "      <td>56051.409</td>\n",
       "      <td>0.831</td>\n",
       "      <td>86805.0</td>\n",
       "    </tr>\n",
       "    <tr>\n",
       "      <td>1</td>\n",
       "      <td>EDU</td>\n",
       "      <td>CLG</td>\n",
       "      <td>0.295746</td>\n",
       "      <td>260310.0</td>\n",
       "      <td>53444.849</td>\n",
       "      <td>0.834</td>\n",
       "      <td>143339</td>\n",
       "      <td>41246.393</td>\n",
       "      <td>0.614</td>\n",
       "      <td>116971.0</td>\n",
       "    </tr>\n",
       "    <tr>\n",
       "      <td>2</td>\n",
       "      <td>EDU</td>\n",
       "      <td>HSD</td>\n",
       "      <td>0.297190</td>\n",
       "      <td>201452.0</td>\n",
       "      <td>44401.290</td>\n",
       "      <td>0.742</td>\n",
       "      <td>125655</td>\n",
       "      <td>34228.832</td>\n",
       "      <td>0.526</td>\n",
       "      <td>75797.0</td>\n",
       "    </tr>\n",
       "    <tr>\n",
       "      <td>3</td>\n",
       "      <td>EDU</td>\n",
       "      <td>No_HS</td>\n",
       "      <td>0.274620</td>\n",
       "      <td>47814.0</td>\n",
       "      <td>35127.805</td>\n",
       "      <td>0.650</td>\n",
       "      <td>32118</td>\n",
       "      <td>27559.435</td>\n",
       "      <td>0.472</td>\n",
       "      <td>15696.0</td>\n",
       "    </tr>\n",
       "    <tr>\n",
       "      <td>4</td>\n",
       "      <td>EDU</td>\n",
       "      <td>DR+</td>\n",
       "      <td>0.127033</td>\n",
       "      <td>29485.0</td>\n",
       "      <td>93629.655</td>\n",
       "      <td>1.359</td>\n",
       "      <td>17012</td>\n",
       "      <td>83076.258</td>\n",
       "      <td>1.303</td>\n",
       "      <td>12473.0</td>\n",
       "    </tr>\n",
       "    <tr>\n",
       "      <td>5</td>\n",
       "      <td>EDU</td>\n",
       "      <td>MS</td>\n",
       "      <td>0.291441</td>\n",
       "      <td>81850.0</td>\n",
       "      <td>84793.641</td>\n",
       "      <td>1.123</td>\n",
       "      <td>39280</td>\n",
       "      <td>65658.140</td>\n",
       "      <td>0.973</td>\n",
       "      <td>42570.0</td>\n",
       "    </tr>\n",
       "    <tr>\n",
       "      <td>0</td>\n",
       "      <td>JOB</td>\n",
       "      <td>SAL</td>\n",
       "      <td>0.398444</td>\n",
       "      <td>192211.0</td>\n",
       "      <td>54607.112</td>\n",
       "      <td>1.000</td>\n",
       "      <td>77479</td>\n",
       "      <td>39048.470</td>\n",
       "      <td>0.761</td>\n",
       "      <td>114732.0</td>\n",
       "    </tr>\n",
       "    <tr>\n",
       "      <td>1</td>\n",
       "      <td>JOB</td>\n",
       "      <td>MTN</td>\n",
       "      <td>0.238067</td>\n",
       "      <td>64612.0</td>\n",
       "      <td>49852.654</td>\n",
       "      <td>1.015</td>\n",
       "      <td>61611</td>\n",
       "      <td>40266.523</td>\n",
       "      <td>0.796</td>\n",
       "      <td>3001.0</td>\n",
       "    </tr>\n",
       "    <tr>\n",
       "      <td>2</td>\n",
       "      <td>JOB</td>\n",
       "      <td>PRD</td>\n",
       "      <td>0.397739</td>\n",
       "      <td>59227.0</td>\n",
       "      <td>44984.456</td>\n",
       "      <td>0.954</td>\n",
       "      <td>44452</td>\n",
       "      <td>32183.733</td>\n",
       "      <td>0.693</td>\n",
       "      <td>14775.0</td>\n",
       "    </tr>\n",
       "    <tr>\n",
       "      <td>3</td>\n",
       "      <td>JOB</td>\n",
       "      <td>SVC</td>\n",
       "      <td>0.421993</td>\n",
       "      <td>90856.0</td>\n",
       "      <td>42728.372</td>\n",
       "      <td>0.882</td>\n",
       "      <td>50714</td>\n",
       "      <td>30048.227</td>\n",
       "      <td>0.662</td>\n",
       "      <td>40142.0</td>\n",
       "    </tr>\n",
       "    <tr>\n",
       "      <td>4</td>\n",
       "      <td>JOB</td>\n",
       "      <td>TRP</td>\n",
       "      <td>0.350354</td>\n",
       "      <td>40657.0</td>\n",
       "      <td>44580.053</td>\n",
       "      <td>0.913</td>\n",
       "      <td>34596</td>\n",
       "      <td>33013.597</td>\n",
       "      <td>0.708</td>\n",
       "      <td>6061.0</td>\n",
       "    </tr>\n",
       "    <tr>\n",
       "      <td>5</td>\n",
       "      <td>JOB</td>\n",
       "      <td>ART</td>\n",
       "      <td>0.258112</td>\n",
       "      <td>92763.0</td>\n",
       "      <td>63270.921</td>\n",
       "      <td>0.917</td>\n",
       "      <td>33944</td>\n",
       "      <td>50290.353</td>\n",
       "      <td>0.742</td>\n",
       "      <td>58819.0</td>\n",
       "    </tr>\n",
       "    <tr>\n",
       "      <td>6</td>\n",
       "      <td>JOB</td>\n",
       "      <td>HLC</td>\n",
       "      <td>0.251325</td>\n",
       "      <td>42113.0</td>\n",
       "      <td>75596.051</td>\n",
       "      <td>1.156</td>\n",
       "      <td>10950</td>\n",
       "      <td>60412.825</td>\n",
       "      <td>0.997</td>\n",
       "      <td>31163.0</td>\n",
       "    </tr>\n",
       "    <tr>\n",
       "      <td>7</td>\n",
       "      <td>JOB</td>\n",
       "      <td>SCI</td>\n",
       "      <td>0.167407</td>\n",
       "      <td>59552.0</td>\n",
       "      <td>79758.559</td>\n",
       "      <td>1.245</td>\n",
       "      <td>45157</td>\n",
       "      <td>68321.123</td>\n",
       "      <td>1.071</td>\n",
       "      <td>14395.0</td>\n",
       "    </tr>\n",
       "    <tr>\n",
       "      <td>8</td>\n",
       "      <td>JOB</td>\n",
       "      <td>BUS</td>\n",
       "      <td>0.251296</td>\n",
       "      <td>149694.0</td>\n",
       "      <td>79106.364</td>\n",
       "      <td>1.243</td>\n",
       "      <td>82848</td>\n",
       "      <td>63219.546</td>\n",
       "      <td>1.023</td>\n",
       "      <td>66846.0</td>\n",
       "    </tr>\n",
       "    <tr>\n",
       "      <td>9</td>\n",
       "      <td>JOB</td>\n",
       "      <td>MLT</td>\n",
       "      <td>0.094166</td>\n",
       "      <td>3436.0</td>\n",
       "      <td>46255.428</td>\n",
       "      <td>1.020</td>\n",
       "      <td>2918</td>\n",
       "      <td>42274.584</td>\n",
       "      <td>0.956</td>\n",
       "      <td>518.0</td>\n",
       "    </tr>\n",
       "    <tr>\n",
       "      <td>0</td>\n",
       "      <td>RACE</td>\n",
       "      <td>WHT/MIX</td>\n",
       "      <td>0.255104</td>\n",
       "      <td>598727.0</td>\n",
       "      <td>61273.535</td>\n",
       "      <td>1.000</td>\n",
       "      <td>346341</td>\n",
       "      <td>48819.475</td>\n",
       "      <td>0.787</td>\n",
       "      <td>252386.0</td>\n",
       "    </tr>\n",
       "    <tr>\n",
       "      <td>1</td>\n",
       "      <td>RACE</td>\n",
       "      <td>HSP/NTV</td>\n",
       "      <td>0.130707</td>\n",
       "      <td>93366.0</td>\n",
       "      <td>44143.433</td>\n",
       "      <td>0.880</td>\n",
       "      <td>54257</td>\n",
       "      <td>39040.574</td>\n",
       "      <td>0.746</td>\n",
       "      <td>39109.0</td>\n",
       "    </tr>\n",
       "    <tr>\n",
       "      <td>2</td>\n",
       "      <td>RACE</td>\n",
       "      <td>BLK</td>\n",
       "      <td>0.137732</td>\n",
       "      <td>70161.0</td>\n",
       "      <td>47600.712</td>\n",
       "      <td>0.860</td>\n",
       "      <td>31835</td>\n",
       "      <td>41838.242</td>\n",
       "      <td>0.742</td>\n",
       "      <td>38326.0</td>\n",
       "    </tr>\n",
       "    <tr>\n",
       "      <td>3</td>\n",
       "      <td>RACE</td>\n",
       "      <td>ASN</td>\n",
       "      <td>0.151360</td>\n",
       "      <td>39321.0</td>\n",
       "      <td>65334.227</td>\n",
       "      <td>0.940</td>\n",
       "      <td>21101</td>\n",
       "      <td>56745.258</td>\n",
       "      <td>0.913</td>\n",
       "      <td>18220.0</td>\n",
       "    </tr>\n",
       "  </tbody>\n",
       "</table>\n",
       "</div>"
      ],
      "text/plain": [
       "  Variable Category  Percent_Difference  Total_Count  Male_Wage  Male_Ratio  \\\n",
       "0      SEX      F/M            0.217875     784856.0  57811.854       1.000   \n",
       "0     AGEB    26-35            0.142476     173499.0  50098.359       1.000   \n",
       "1     AGEB    46-55            0.267699     220352.0  64172.205       1.281   \n",
       "2     AGEB    36-45            0.223040     195716.0  61296.063       1.220   \n",
       "3     AGEB    18-25            0.078938      53376.0  31847.734       0.718   \n",
       "4     AGEB    56-70            0.257429     140559.0  62813.694       1.237   \n",
       "0      EDU       BS            0.290203     190451.0  72317.685       1.000   \n",
       "1      EDU      CLG            0.295746     260310.0  53444.849       0.834   \n",
       "2      EDU      HSD            0.297190     201452.0  44401.290       0.742   \n",
       "3      EDU    No_HS            0.274620      47814.0  35127.805       0.650   \n",
       "4      EDU      DR+            0.127033      29485.0  93629.655       1.359   \n",
       "5      EDU       MS            0.291441      81850.0  84793.641       1.123   \n",
       "0      JOB      SAL            0.398444     192211.0  54607.112       1.000   \n",
       "1      JOB      MTN            0.238067      64612.0  49852.654       1.015   \n",
       "2      JOB      PRD            0.397739      59227.0  44984.456       0.954   \n",
       "3      JOB      SVC            0.421993      90856.0  42728.372       0.882   \n",
       "4      JOB      TRP            0.350354      40657.0  44580.053       0.913   \n",
       "5      JOB      ART            0.258112      92763.0  63270.921       0.917   \n",
       "6      JOB      HLC            0.251325      42113.0  75596.051       1.156   \n",
       "7      JOB      SCI            0.167407      59552.0  79758.559       1.245   \n",
       "8      JOB      BUS            0.251296     149694.0  79106.364       1.243   \n",
       "9      JOB      MLT            0.094166       3436.0  46255.428       1.020   \n",
       "0     RACE  WHT/MIX            0.255104     598727.0  61273.535       1.000   \n",
       "1     RACE  HSP/NTV            0.130707      93366.0  44143.433       0.880   \n",
       "2     RACE      BLK            0.137732      70161.0  47600.712       0.860   \n",
       "3     RACE      ASN            0.151360      39321.0  65334.227       0.940   \n",
       "\n",
       "   Male_Count  Female_Wage  Female_Ratio  Female_Count  \n",
       "0      438954    47469.442         0.872      345902.0  \n",
       "0       97805    43850.677         0.887       75694.0  \n",
       "1      121161    50621.007         1.068       99191.0  \n",
       "2      112618    50117.789         1.039       83098.0  \n",
       "3       30525    29517.680         0.623       22851.0  \n",
       "4       76813    49954.087         1.075       63746.0  \n",
       "0      103646    56051.409         0.831       86805.0  \n",
       "1      143339    41246.393         0.614      116971.0  \n",
       "2      125655    34228.832         0.526       75797.0  \n",
       "3       32118    27559.435         0.472       15696.0  \n",
       "4       17012    83076.258         1.303       12473.0  \n",
       "5       39280    65658.140         0.973       42570.0  \n",
       "0       77479    39048.470         0.761      114732.0  \n",
       "1       61611    40266.523         0.796        3001.0  \n",
       "2       44452    32183.733         0.693       14775.0  \n",
       "3       50714    30048.227         0.662       40142.0  \n",
       "4       34596    33013.597         0.708        6061.0  \n",
       "5       33944    50290.353         0.742       58819.0  \n",
       "6       10950    60412.825         0.997       31163.0  \n",
       "7       45157    68321.123         1.071       14395.0  \n",
       "8       82848    63219.546         1.023       66846.0  \n",
       "9        2918    42274.584         0.956         518.0  \n",
       "0      346341    48819.475         0.787      252386.0  \n",
       "1       54257    39040.574         0.746       39109.0  \n",
       "2       31835    41838.242         0.742       38326.0  \n",
       "3       21101    56745.258         0.913       18220.0  "
      ]
     },
     "execution_count": 159,
     "metadata": {},
     "output_type": "execute_result"
    }
   ],
   "source": [
    "grp_full"
   ]
  },
  {
   "cell_type": "code",
   "execution_count": 94,
   "metadata": {},
   "outputs": [
    {
     "data": {
      "text/plain": [
       "[(25000, 100000)]"
      ]
     },
     "execution_count": 94,
     "metadata": {},
     "output_type": "execute_result"
    },
    {
     "data": {
      "image/png": "[encoded data removed]",
      "text/plain": [
       "<Figure size 504x504 with 1 Axes>"
      ]
     },
     "metadata": {
      "needs_background": "light"
     },
     "output_type": "display_data"
    }
   ],
   "source": [
    "plt.figure(figsize=(7,7))\n",
    "ax = sns.scatterplot(x=\"Female_Wage\", y=\"Male_Wage\", hue=\"Variable\",data=grp_full)\n",
    "plt.plot([25000,105000], [25000,105000], linewidth=1)\n",
    "plt.plot(figsize=(10,10))\n",
    "ax.set(ylim=(25000, 100000))\n",
    "ax.set(xlim=(25000, 100000))"
   ]
  },
  {
   "cell_type": "code",
   "execution_count": 96,
   "metadata": {},
   "outputs": [
    {
     "data": {
      "image/png": "[encoded data removed]",
      "text/plain": [
       "<Figure size 720x360 with 1 Axes>"
      ]
     },
     "metadata": {
      "needs_background": "light"
     },
     "output_type": "display_data"
    }
   ],
   "source": [
    "grp_full_sort = grp_full.sort_values(by=['Percent_Difference'])\n",
    "grp_full_list = grp_full_sort['Category'].tolist()\n",
    "plt.figure(figsize=(10,5))\n",
    "plt.xticks(rotation=60)\n",
    "g = sns.barplot(y=\"Percent_Difference\", x=\"Category\", dodge = False,\n",
    "                hue='Variable', data=grp_full_sort)"
   ]
  },
  {
   "cell_type": "code",
   "execution_count": 97,
   "metadata": {},
   "outputs": [
    {
     "data": {
      "image/png": "[encoded data removed]",
      "text/plain": [
       "<Figure size 1080x360 with 2 Axes>"
      ]
     },
     "metadata": {
      "needs_background": "light"
     },
     "output_type": "display_data"
    }
   ],
   "source": [
    "fig, ax = plt.subplots(1, 2, figsize=(15, 5))\n",
    "sns.catplot(y=\"Wage\", x='Sex',hue='Variable',kind=\"strip\" , data=sep_full, ax=ax[0])\n",
    "sns.catplot(y=\"Percent_Difference\", x='Variable',kind=\"strip\" , data=grp_full, ax=ax[1])\n",
    "plt.close(2)\n",
    "plt.close(3)"
   ]
  },
  {
   "cell_type": "code",
   "execution_count": 98,
   "metadata": {},
   "outputs": [
    {
     "data": {
      "image/png": "[encoded data removed]",
      "text/plain": [
       "<Figure size 792.625x360 with 1 Axes>"
      ]
     },
     "metadata": {
      "needs_background": "light"
     },
     "output_type": "display_data"
    }
   ],
   "source": [
    "g = sns.catplot(data=sep_full.loc[(sep_full.Variable == 'JOB')],\n",
    "                y='Wage', x='Category', hue='Sex', kind=\"bar\", aspect=2)"
   ]
  },
  {
   "cell_type": "code",
   "execution_count": 99,
   "metadata": {},
   "outputs": [
    {
     "data": {
      "image/png": "[encoded data removed]",
      "text/plain": [
       "<Figure size 792.625x360 with 1 Axes>"
      ]
     },
     "metadata": {
      "needs_background": "light"
     },
     "output_type": "display_data"
    }
   ],
   "source": [
    "g = sns.catplot(data=sep_full.loc[(sep_full.Variable == 'EDU')],\n",
    "                y='Wage', x='Category', hue='Sex', kind=\"bar\", aspect=2)"
   ]
  },
  {
   "cell_type": "code",
   "execution_count": 100,
   "metadata": {},
   "outputs": [
    {
     "data": {
      "image/png": "[encoded data removed]",
      "text/plain": [
       "<Figure size 792.625x360 with 1 Axes>"
      ]
     },
     "metadata": {
      "needs_background": "light"
     },
     "output_type": "display_data"
    }
   ],
   "source": [
    "g = sns.catplot(data=sep_full.loc[(sep_full.Variable == 'AGEB')],\n",
    "                y='Wage', x='Category', hue='Sex', kind=\"bar\", aspect=2)"
   ]
  },
  {
   "cell_type": "code",
   "execution_count": 101,
   "metadata": {},
   "outputs": [
    {
     "data": {
      "image/png": "[encoded data removed]",
      "text/plain": [
       "<Figure size 792.625x360 with 1 Axes>"
      ]
     },
     "metadata": {
      "needs_background": "light"
     },
     "output_type": "display_data"
    }
   ],
   "source": [
    "g = sns.catplot(data=sep_full.loc[(sep_full.Variable == 'RACE')],\n",
    "                y='Wage', x='Category', hue='Sex', kind=\"bar\", aspect=2)"
   ]
  },
  {
   "cell_type": "code",
   "execution_count": 102,
   "metadata": {},
   "outputs": [
    {
     "data": {
      "image/png": "[encoded data removed]",
      "text/plain": [
       "<Figure size 432x288 with 1 Axes>"
      ]
     },
     "metadata": {
      "needs_background": "light"
     },
     "output_type": "display_data"
    }
   ],
   "source": [
    "g = sns.barplot(data=sep_full.loc[(sep_full.Variable == 'SEX')],\n",
    "                y=\"Wage\", x=\"Category\", dodge=False, hue='Sex')"
   ]
  },
  {
   "cell_type": "markdown",
   "metadata": {},
   "source": [
    "## 7.2. Year to Year Analysis\n",
    "With the function described prior, each year was individually scored to a dataframe which collected each score. The outputted dataframe took each ratio and averaged them to a single column which is graphed against each year. Unfortunately, output shows that there's minimal difference year to year of the wage gap shifting. One note is the standard deviations noted are not true standard deviations of the final scoring, rather just the std between all the unweighted ratios."
   ]
  },
  {
   "cell_type": "code",
   "execution_count": 167,
   "metadata": {},
   "outputs": [
    {
     "name": "stdout",
     "output_type": "stream",
     "text": [
      "Completed : 2008\n",
      "Completed : 2009\n",
      "Completed : 2010\n",
      "Completed : 2011\n",
      "Completed : 2012\n",
      "Completed : 2013\n",
      "Completed : 2014\n",
      "Completed : 2015\n",
      "Completed : 2016\n",
      "Completed : 2017\n",
      "Completed : 2018\n",
      " 3.91 min\n"
     ]
    }
   ],
   "source": [
    "years = list(range(2008, 2019))\n",
    "scores = pd.DataFrame()\n",
    "start_time = time.time()\n",
    "for year in years:\n",
    "    useful_cols = ['WAGP', 'SEX', 'AGEP', 'RAC1P', 'HISP',\n",
    "                   'SCHL', 'WKW', 'WKHP', 'OCCP', 'POWSP', 'ST']\n",
    "    path = ('data/%s' % year)\n",
    "    temp = pd.concat([pd.read_csv(f, usecols=useful_cols)\n",
    "                      for f in glob.glob(path + \"/*.csv\")], ignore_index=True)\n",
    "    score = score_ratio(keep_cat_cols(temp), 'SEX', 'Male')\n",
    "    score_row = score[1]\n",
    "    score_row['Year'] = year\n",
    "    scores = pd.concat([scores, score_row])\n",
    "    print(\"Completed :\", year)\n",
    "\n",
    "print(\" %s min\" % round(((time.time() - start_time)/60), 2))"
   ]
  },
  {
   "cell_type": "code",
   "execution_count": 168,
   "metadata": {},
   "outputs": [
    {
     "data": {
      "text/html": [
       "<div>\n",
       "<style scoped>\n",
       "    .dataframe tbody tr th:only-of-type {\n",
       "        vertical-align: middle;\n",
       "    }\n",
       "\n",
       "    .dataframe tbody tr th {\n",
       "        vertical-align: top;\n",
       "    }\n",
       "\n",
       "    .dataframe thead th {\n",
       "        text-align: right;\n",
       "    }\n",
       "</style>\n",
       "<table border=\"1\" class=\"dataframe\">\n",
       "  <thead>\n",
       "    <tr style=\"text-align: right;\">\n",
       "      <th></th>\n",
       "      <th>Variable</th>\n",
       "      <th>Category</th>\n",
       "      <th>Percent_Difference</th>\n",
       "      <th>Total_Count</th>\n",
       "      <th>Male_Wage</th>\n",
       "      <th>Male_Ratio</th>\n",
       "      <th>Male_Count</th>\n",
       "      <th>Female_Wage</th>\n",
       "      <th>Female_Ratio</th>\n",
       "      <th>Female_Count</th>\n",
       "      <th>Year</th>\n",
       "    </tr>\n",
       "  </thead>\n",
       "  <tbody>\n",
       "    <tr>\n",
       "      <td>0</td>\n",
       "      <td>SEX</td>\n",
       "      <td>F/M</td>\n",
       "      <td>0.249493</td>\n",
       "      <td>942729.0</td>\n",
       "      <td>56228.467</td>\n",
       "      <td>1.0</td>\n",
       "      <td>522782</td>\n",
       "      <td>45001.042</td>\n",
       "      <td>0.800325</td>\n",
       "      <td>419947.0</td>\n",
       "      <td>2008</td>\n",
       "    </tr>\n",
       "    <tr>\n",
       "      <td>0</td>\n",
       "      <td>SEX</td>\n",
       "      <td>F/M</td>\n",
       "      <td>0.245597</td>\n",
       "      <td>908055.0</td>\n",
       "      <td>57208.204</td>\n",
       "      <td>1.0</td>\n",
       "      <td>498482</td>\n",
       "      <td>45928.350</td>\n",
       "      <td>0.802828</td>\n",
       "      <td>409573.0</td>\n",
       "      <td>2009</td>\n",
       "    </tr>\n",
       "    <tr>\n",
       "      <td>0</td>\n",
       "      <td>SEX</td>\n",
       "      <td>F/M</td>\n",
       "      <td>0.229181</td>\n",
       "      <td>859275.0</td>\n",
       "      <td>57268.981</td>\n",
       "      <td>1.0</td>\n",
       "      <td>460990</td>\n",
       "      <td>46591.185</td>\n",
       "      <td>0.813550</td>\n",
       "      <td>398285.0</td>\n",
       "      <td>2010</td>\n",
       "    </tr>\n",
       "    <tr>\n",
       "      <td>0</td>\n",
       "      <td>SEX</td>\n",
       "      <td>F/M</td>\n",
       "      <td>0.214204</td>\n",
       "      <td>841900.0</td>\n",
       "      <td>56534.023</td>\n",
       "      <td>1.0</td>\n",
       "      <td>451750</td>\n",
       "      <td>46560.555</td>\n",
       "      <td>0.823585</td>\n",
       "      <td>390150.0</td>\n",
       "      <td>2011</td>\n",
       "    </tr>\n",
       "    <tr>\n",
       "      <td>0</td>\n",
       "      <td>SEX</td>\n",
       "      <td>F/M</td>\n",
       "      <td>0.229548</td>\n",
       "      <td>883696.0</td>\n",
       "      <td>58006.584</td>\n",
       "      <td>1.0</td>\n",
       "      <td>485728</td>\n",
       "      <td>47177.149</td>\n",
       "      <td>0.813307</td>\n",
       "      <td>397968.0</td>\n",
       "      <td>2012</td>\n",
       "    </tr>\n",
       "    <tr>\n",
       "      <td>0</td>\n",
       "      <td>SEX</td>\n",
       "      <td>F/M</td>\n",
       "      <td>0.231432</td>\n",
       "      <td>904390.0</td>\n",
       "      <td>59071.117</td>\n",
       "      <td>1.0</td>\n",
       "      <td>496438</td>\n",
       "      <td>47969.465</td>\n",
       "      <td>0.812063</td>\n",
       "      <td>407952.0</td>\n",
       "      <td>2013</td>\n",
       "    </tr>\n",
       "    <tr>\n",
       "      <td>0</td>\n",
       "      <td>SEX</td>\n",
       "      <td>F/M</td>\n",
       "      <td>0.223324</td>\n",
       "      <td>924618.0</td>\n",
       "      <td>59466.908</td>\n",
       "      <td>1.0</td>\n",
       "      <td>511701</td>\n",
       "      <td>48610.927</td>\n",
       "      <td>0.817445</td>\n",
       "      <td>412917.0</td>\n",
       "      <td>2014</td>\n",
       "    </tr>\n",
       "    <tr>\n",
       "      <td>0</td>\n",
       "      <td>SEX</td>\n",
       "      <td>F/M</td>\n",
       "      <td>0.210478</td>\n",
       "      <td>929994.0</td>\n",
       "      <td>59663.805</td>\n",
       "      <td>1.0</td>\n",
       "      <td>509059</td>\n",
       "      <td>49289.463</td>\n",
       "      <td>0.826120</td>\n",
       "      <td>420935.0</td>\n",
       "      <td>2015</td>\n",
       "    </tr>\n",
       "    <tr>\n",
       "      <td>0</td>\n",
       "      <td>SEX</td>\n",
       "      <td>F/M</td>\n",
       "      <td>0.210587</td>\n",
       "      <td>938921.0</td>\n",
       "      <td>60556.719</td>\n",
       "      <td>1.0</td>\n",
       "      <td>511374</td>\n",
       "      <td>50022.602</td>\n",
       "      <td>0.826045</td>\n",
       "      <td>427547.0</td>\n",
       "      <td>2016</td>\n",
       "    </tr>\n",
       "    <tr>\n",
       "      <td>0</td>\n",
       "      <td>SEX</td>\n",
       "      <td>F/M</td>\n",
       "      <td>0.207461</td>\n",
       "      <td>997721.0</td>\n",
       "      <td>61124.841</td>\n",
       "      <td>1.0</td>\n",
       "      <td>552244</td>\n",
       "      <td>50622.620</td>\n",
       "      <td>0.828184</td>\n",
       "      <td>445477.0</td>\n",
       "      <td>2017</td>\n",
       "    </tr>\n",
       "    <tr>\n",
       "      <td>0</td>\n",
       "      <td>SEX</td>\n",
       "      <td>F/M</td>\n",
       "      <td>0.206411</td>\n",
       "      <td>1006911.0</td>\n",
       "      <td>61836.786</td>\n",
       "      <td>1.0</td>\n",
       "      <td>554612</td>\n",
       "      <td>51256.814</td>\n",
       "      <td>0.828905</td>\n",
       "      <td>452299.0</td>\n",
       "      <td>2018</td>\n",
       "    </tr>\n",
       "  </tbody>\n",
       "</table>\n",
       "</div>"
      ],
      "text/plain": [
       "  Variable Category  Percent_Difference  Total_Count  Male_Wage  Male_Ratio  \\\n",
       "0      SEX      F/M            0.249493     942729.0  56228.467         1.0   \n",
       "0      SEX      F/M            0.245597     908055.0  57208.204         1.0   \n",
       "0      SEX      F/M            0.229181     859275.0  57268.981         1.0   \n",
       "0      SEX      F/M            0.214204     841900.0  56534.023         1.0   \n",
       "0      SEX      F/M            0.229548     883696.0  58006.584         1.0   \n",
       "0      SEX      F/M            0.231432     904390.0  59071.117         1.0   \n",
       "0      SEX      F/M            0.223324     924618.0  59466.908         1.0   \n",
       "0      SEX      F/M            0.210478     929994.0  59663.805         1.0   \n",
       "0      SEX      F/M            0.210587     938921.0  60556.719         1.0   \n",
       "0      SEX      F/M            0.207461     997721.0  61124.841         1.0   \n",
       "0      SEX      F/M            0.206411    1006911.0  61836.786         1.0   \n",
       "\n",
       "   Male_Count  Female_Wage  Female_Ratio  Female_Count  Year  \n",
       "0      522782    45001.042      0.800325      419947.0  2008  \n",
       "0      498482    45928.350      0.802828      409573.0  2009  \n",
       "0      460990    46591.185      0.813550      398285.0  2010  \n",
       "0      451750    46560.555      0.823585      390150.0  2011  \n",
       "0      485728    47177.149      0.813307      397968.0  2012  \n",
       "0      496438    47969.465      0.812063      407952.0  2013  \n",
       "0      511701    48610.927      0.817445      412917.0  2014  \n",
       "0      509059    49289.463      0.826120      420935.0  2015  \n",
       "0      511374    50022.602      0.826045      427547.0  2016  \n",
       "0      552244    50622.620      0.828184      445477.0  2017  \n",
       "0      554612    51256.814      0.828905      452299.0  2018  "
      ]
     },
     "execution_count": 168,
     "metadata": {},
     "output_type": "execute_result"
    }
   ],
   "source": [
    "scores"
   ]
  },
  {
   "cell_type": "code",
   "execution_count": 171,
   "metadata": {},
   "outputs": [
    {
     "data": {
      "image/png": "[encoded data removed]",
      "text/plain": [
       "<Figure size 360x360 with 1 Axes>"
      ]
     },
     "metadata": {
      "needs_background": "light"
     },
     "output_type": "display_data"
    }
   ],
   "source": [
    "g = sns.catplot(y='Percent_Difference', x='Year', data=scores, kind='point')"
   ]
  },
  {
   "cell_type": "code",
   "execution_count": 170,
   "metadata": {},
   "outputs": [
    {
     "data": {
      "image/png": "[encoded data removed]",
      "text/plain": [
       "<Figure size 360x360 with 1 Axes>"
      ]
     },
     "metadata": {
      "needs_background": "light"
     },
     "output_type": "display_data"
    }
   ],
   "source": [
    "g = sns.catplot(y='Female_Ratio', x='Year', data=scores, kind='bar')"
   ]
  },
  {
   "cell_type": "code",
   "execution_count": 107,
   "metadata": {},
   "outputs": [
    {
     "name": "stdout",
     "output_type": "stream",
     "text": [
      "2008 - 2018 Summary:\n",
      "Average Wage % F/M:  0.836\n",
      "Stdev:  0.026\n"
     ]
    }
   ],
   "source": [
    "print (\"2008 - 2018 Summary:\")\n",
    "print (\"Average Wage % F/M: \", round(statistics.mean(scores[\"Female_Ratio\"]),3))\n",
    "print (\"Stdev: \", round(statistics.stdev(scores[\"Female_Ratio\"]),3))"
   ]
  },
  {
   "cell_type": "markdown",
   "metadata": {},
   "source": [
    "## 7.3. Wage Predictor\n",
    "Below is the read datafile for 2018 which allows a user of the notebook to input a set of conditions to the various features in order to display the median value under those conditions as well as a box and whisker plot of everyone falling under the specified set of categories. Given the low level of importance of the state and race features, they were excluded for this simple predictor."
   ]
  },
  {
   "cell_type": "code",
   "execution_count": null,
   "metadata": {},
   "outputs": [],
   "source": [
    "def df_isolate(df, sex, age, edu, job):\n",
    "    wanted_df = df.loc[(df.SEX == sex) &\n",
    "                             (df.AGEB == age) &\n",
    "                             (df.EDU == edu) &\n",
    "                             (df.JOB == job)\n",
    "                             ].copy()\n",
    "    return wanted_df"
   ]
  },
  {
   "cell_type": "code",
   "execution_count": null,
   "metadata": {},
   "outputs": [],
   "source": [
    "Sex = int(input(\"\"\"Enter gender:\n",
    "            1 = Male\n",
    "            2 = Female\n",
    "            Entered: \"\"\"))\n",
    "Age = int(input(\"\"\"Enter age bin:\n",
    "            1 = 18-25\n",
    "            2 = 26-35\n",
    "            3 = 36-45 or 66-70\n",
    "            4 = 46-65\n",
    "            Entered: \"\"\"))\n",
    "Edu = int(input(\"\"\"Enter level of education:\n",
    "            1 = No HS or HS Equivalent\n",
    "            2 = Some College or Associates\n",
    "            3 = Bachelor’s Degree\n",
    "            4 = Master’s Degree\n",
    "            5 = Doctorate or Higher\n",
    "            Entered: \"\"\"))\n",
    "Job = int(input(\"\"\"Enter job industry:\n",
    "            1 = Production, Service, Transportation\n",
    "            2 = Military, Sales, Maintenance\n",
    "            3 = Arts, Healthcare,\n",
    "            4 = Science, Business\n",
    "            Entered: \"\"\"))\n",
    "\n",
    "User_imput = df_isolate(test_PUS, Sex, Age, Edu, Job)\n",
    "print(\"Total Matches: %s people\" % User_imput.WAGP.count())\n",
    "print(\"Median Wage: $\",int(User_imput.WAGP.median()))\n",
    "ax = sns.boxplot(x=User_imput[\"WAGP\"])"
   ]
  },
  {
   "cell_type": "code",
   "execution_count": null,
   "metadata": {},
   "outputs": [],
   "source": []
  }
 ],
 "metadata": {
  "kernelspec": {
   "display_name": "py_36_env",
   "language": "python",
   "name": "py_36_env"
  },
  "language_info": {
   "codemirror_mode": {
    "name": "ipython",
    "version": 3
   },
   "file_extension": ".py",
   "mimetype": "text/x-python",
   "name": "python",
   "nbconvert_exporter": "python",
   "pygments_lexer": "ipython3",
   "version": "3.7.6"
  }
 },
 "nbformat": 4,
 "nbformat_minor": 2
}