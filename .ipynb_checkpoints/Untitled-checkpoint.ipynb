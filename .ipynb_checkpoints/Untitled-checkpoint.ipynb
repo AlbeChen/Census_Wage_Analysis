{
 "cells": [
  {
   "cell_type": "code",
   "execution_count": 55,
   "metadata": {},
   "outputs": [],
   "source": [
    "a = [2, 4, 6 ,9]\n",
    "b = [1,2,3,5]"
   ]
  },
  {
   "cell_type": "code",
   "execution_count": 56,
   "metadata": {},
   "outputs": [
    {
     "name": "stdout",
     "output_type": "stream",
     "text": [
      "4 2\n",
      "6 3\n",
      "6 2\n",
      "9 5\n",
      "9 4\n",
      "9 3\n",
      "9 2\n",
      "[2, 4, 6, 9, 4, 6, 6, 9, 9, 9, 9] 2.540579747724022\n"
     ]
    }
   ],
   "source": [
    "for (x,y) in zip(a,b):\n",
    "    while y > 1:\n",
    "        print (x,y)\n",
    "        a.append(x)\n",
    "        y = y-1\n",
    "print (a,statistics.stdev(a))"
   ]
  },
  {
   "cell_type": "code",
   "execution_count": null,
   "metadata": {},
   "outputs": [],
   "source": [
    "\n",
    "statistics.stdev(A_rank)"
   ]
  },
  {
   "cell_type": "code",
   "execution_count": 3,
   "metadata": {},
   "outputs": [],
   "source": [
    "# Importing\n",
    "import pandas as pd\n",
    "import seaborn as sns\n",
    "import matplotlib.pyplot as plt\n",
    "import numpy as np\n",
    "import statistics\n",
    "\n",
    "from sklearn.preprocessing import OneHotEncoder\n",
    "\n",
    "import glob\n",
    "import time\n",
    "useful_cols = ['WAGP', 'SEX', 'AGEP', 'RAC1P',\n",
    "                   'SCHL', 'WKW', 'WKHP', 'OCCP', 'POWSP', 'ST', 'HISP']"
   ]
  },
  {
   "cell_type": "code",
   "execution_count": null,
   "metadata": {},
   "outputs": [],
   "source": [
    "start_time = time.time()\n",
    "path = r'data/2018'\n",
    "PUS_full = pd.concat([pd.read_csv(f, usecols = useful_cols) for f in glob.glob(path + \"/*.csv\", recursive = True)], ignore_index=True)\n",
    "print (PUS_full.shape)\n",
    "PUS_full.to_csv((path + \"/ss18pus.csv\"),index=False)\n",
    "print(\" %s min\" % round(((time.time() - start_time)/60),2))"
   ]
  },
  {
   "cell_type": "code",
   "execution_count": 5,
   "metadata": {},
   "outputs": [
    {
     "name": "stdout",
     "output_type": "stream",
     "text": [
      "(3147005, 11)\n",
      " 0.76 min\n"
     ]
    }
   ],
   "source": [
    "start_time = time.time()\n",
    "useful_cols = ['WAGP','SEX', 'AGEP','RAC1P','RAC3P','SCHL', 'WKW','WKHP','OCCP','POWSP','ST']\n",
    "path = r'data/2015'\n",
    "PUS_full = pd.concat([pd.read_csv(f, usecols = useful_cols) for f in glob.glob(path + \"/*.csv\", recursive = True)], ignore_index=True)\n",
    "print (PUS_full.shape)\n",
    "print(\" %s min\" % round(((time.time() - start_time)/60),2))\n",
    "PUS_full.describe(include='all')\n",
    "PUS_full.to_csv((path + \"/ss15pus.csv\"),index=False)"
   ]
  },
  {
   "cell_type": "code",
   "execution_count": 2,
   "metadata": {},
   "outputs": [
    {
     "name": "stdout",
     "output_type": "stream",
     "text": [
      "(3132610, 11)\n",
      " 0.08 min\n"
     ]
    }
   ],
   "source": [
    "start_time = time.time()\n",
    "useful_cols = ['WAGP','SEX', 'AGEP','RAC1P','RAC3P','SCHL', 'WKW','WKHP','OCCP','POWSP','ST']\n",
    "path = r'data/2014'\n",
    "PUS_full = pd.concat([pd.read_csv(f, usecols = useful_cols) for f in glob.glob(path + \"/*.csv\", recursive = True)], ignore_index=True)\n",
    "print (PUS_full.shape)\n",
    "print(\" %s min\" % round(((time.time() - start_time)/60),2))\n",
    "PUS_full.describe(include='all')\n",
    "PUS_full.to_csv((path + \"/ss14pus.csv\"),index=False)"
   ]
  },
  {
   "cell_type": "code",
   "execution_count": 12,
   "metadata": {},
   "outputs": [
    {
     "name": "stdout",
     "output_type": "stream",
     "text": [
      "(3132795, 11)\n",
      " 1.76 min\n"
     ]
    }
   ],
   "source": [
    "start_time = time.time()\n",
    "useful_cols = ['WAGP','SEX', 'AGEP','RAC1P','RAC3P','SCHL', 'WKW','WKHP','OCCP','POWSP','ST']\n",
    "path = r'data/2013'\n",
    "PUS_full = pd.concat([pd.read_csv(f, usecols = useful_cols) for f in glob.glob(path + \"/*.csv\", recursive = True)], ignore_index=True)\n",
    "print (PUS_full.shape)\n",
    "PUS_full.to_csv((path + \"/ss13pus.csv\"),index=False)\n",
    "print(\" %s min\" % round(((time.time() - start_time)/60),2))"
   ]
  },
  {
   "cell_type": "code",
   "execution_count": 14,
   "metadata": {},
   "outputs": [
    {
     "name": "stdout",
     "output_type": "stream",
     "text": [
      "(3113030, 11)\n",
      " 0.84 min\n"
     ]
    }
   ],
   "source": [
    "start_time = time.time()\n",
    "useful_cols = ['WAGP','SEX', 'AGEP','RAC1P','RAC3P','SCHL', 'WKW','WKHP','OCCP','POWSP','ST']\n",
    "path = r'data/2012'\n",
    "PUS_full = pd.concat([pd.read_csv(f, usecols = useful_cols) for f in glob.glob(path + \"/*.csv\", recursive = True)], ignore_index=True)\n",
    "print (PUS_full.shape)\n",
    "PUS_full.to_csv((path + \"/ss12pus.csv\"),index=False)\n",
    "print(\" %s min\" % round(((time.time() - start_time)/60),2))"
   ]
  },
  {
   "cell_type": "code",
   "execution_count": 15,
   "metadata": {},
   "outputs": [
    {
     "name": "stdout",
     "output_type": "stream",
     "text": [
      "(3112017, 11)\n",
      " 0.93 min\n"
     ]
    }
   ],
   "source": [
    "start_time = time.time()\n",
    "useful_cols = ['WAGP','SEX', 'AGEP','RAC1P','RAC3P','SCHL', 'WKW','WKHP','OCCP','POWSP','ST']\n",
    "path = r'data/2011'\n",
    "PUS_full = pd.concat([pd.read_csv(f, usecols = useful_cols) for f in glob.glob(path + \"/*.csv\", recursive = True)], ignore_index=True)\n",
    "print (PUS_full.shape)\n",
    "PUS_full.to_csv((path + \"/ss11pus.csv\"),index=False)\n",
    "print(\" %s min\" % round(((time.time() - start_time)/60),2))"
   ]
  },
  {
   "cell_type": "code",
   "execution_count": 16,
   "metadata": {},
   "outputs": [
    {
     "name": "stdout",
     "output_type": "stream",
     "text": [
      "(3061692, 11)\n",
      " 1.34 min\n"
     ]
    }
   ],
   "source": [
    "start_time = time.time()\n",
    "useful_cols = ['WAGP','SEX', 'AGEP','RAC1P','RAC3P','SCHL', 'WKW','WKHP','OCCP','POWSP','ST']\n",
    "path = r'data/2010'\n",
    "PUS_full = pd.concat([pd.read_csv(f, usecols = useful_cols) for f in glob.glob(path + \"/*.csv\", recursive = True)], ignore_index=True)\n",
    "print (PUS_full.shape)\n",
    "PUS_full.to_csv((path + \"/ss10pus.csv\"),index=False)\n",
    "print(\" %s min\" % round(((time.time() - start_time)/60),2))"
   ]
  },
  {
   "cell_type": "code",
   "execution_count": 17,
   "metadata": {},
   "outputs": [
    {
     "name": "stdout",
     "output_type": "stream",
     "text": [
      "(3030728, 11)\n",
      " 1.47 min\n"
     ]
    }
   ],
   "source": [
    "start_time = time.time()\n",
    "useful_cols = ['WAGP','SEX', 'AGEP','RAC1P','RAC3P','SCHL', 'WKW','WKHP','OCCP','POWSP','ST']\n",
    "path = r'data/2009'\n",
    "PUS_full = pd.concat([pd.read_csv(f, usecols = useful_cols) for f in glob.glob(path + \"/*.csv\", recursive = True)], ignore_index=True)\n",
    "print (PUS_full.shape)\n",
    "PUS_full.to_csv((path + \"/ss09pus.csv\"),index=False)\n",
    "print(\" %s min\" % round(((time.time() - start_time)/60),2))"
   ]
  },
  {
   "cell_type": "code",
   "execution_count": 18,
   "metadata": {},
   "outputs": [
    {
     "name": "stdout",
     "output_type": "stream",
     "text": [
      "(3000657, 11)\n",
      " 1.73 min\n"
     ]
    }
   ],
   "source": [
    "start_time = time.time()\n",
    "useful_cols = ['WAGP','SEX', 'AGEP','RAC1P','RAC3P','SCHL', 'WKW','WKHP','OCCP','POWSP','ST']\n",
    "path = r'data/2008'\n",
    "PUS_full = pd.concat([pd.read_csv(f, usecols = useful_cols) for f in glob.glob(path + \"/*.csv\", recursive = True)], ignore_index=True)\n",
    "print (PUS_full.shape)\n",
    "PUS_full.to_csv((path + \"/ss08pus.csv\"),index=False)\n",
    "print(\" %s min\" % round(((time.time() - start_time)/60),2))"
   ]
  },
  {
   "cell_type": "code",
   "execution_count": 7,
   "metadata": {},
   "outputs": [
    {
     "data": {
      "text/html": [
       "<div>\n",
       "<style scoped>\n",
       "    .dataframe tbody tr th:only-of-type {\n",
       "        vertical-align: middle;\n",
       "    }\n",
       "\n",
       "    .dataframe tbody tr th {\n",
       "        vertical-align: top;\n",
       "    }\n",
       "\n",
       "    .dataframe thead th {\n",
       "        text-align: right;\n",
       "    }\n",
       "</style>\n",
       "<table border=\"1\" class=\"dataframe\">\n",
       "  <thead>\n",
       "    <tr style=\"text-align: right;\">\n",
       "      <th></th>\n",
       "      <th>ST</th>\n",
       "      <th>AGEP</th>\n",
       "      <th>SCHL</th>\n",
       "      <th>SEX</th>\n",
       "      <th>WAGP</th>\n",
       "      <th>WKHP</th>\n",
       "      <th>WKW</th>\n",
       "      <th>OCCP</th>\n",
       "      <th>POWSP</th>\n",
       "      <th>RAC1P</th>\n",
       "      <th>RAC3P</th>\n",
       "    </tr>\n",
       "  </thead>\n",
       "  <tbody>\n",
       "    <tr>\n",
       "      <td>count</td>\n",
       "      <td>8.842783e+06</td>\n",
       "      <td>8.842783e+06</td>\n",
       "      <td>8.528012e+06</td>\n",
       "      <td>8.842783e+06</td>\n",
       "      <td>7.120694e+06</td>\n",
       "      <td>4.738058e+06</td>\n",
       "      <td>4.738058e+06</td>\n",
       "      <td>5.313799e+06</td>\n",
       "      <td>4.001675e+06</td>\n",
       "      <td>8.842783e+06</td>\n",
       "      <td>8.842783e+06</td>\n",
       "    </tr>\n",
       "    <tr>\n",
       "      <td>mean</td>\n",
       "      <td>2.757040e+01</td>\n",
       "      <td>3.878543e+01</td>\n",
       "      <td>8.695140e+00</td>\n",
       "      <td>1.515281e+00</td>\n",
       "      <td>2.400928e+04</td>\n",
       "      <td>3.889245e+01</td>\n",
       "      <td>4.404442e+01</td>\n",
       "      <td>4.437071e+03</td>\n",
       "      <td>2.791068e+01</td>\n",
       "      <td>1.836994e+00</td>\n",
       "      <td>6.053647e+01</td>\n",
       "    </tr>\n",
       "    <tr>\n",
       "      <td>std</td>\n",
       "      <td>1.593357e+01</td>\n",
       "      <td>2.308204e+01</td>\n",
       "      <td>3.924915e+00</td>\n",
       "      <td>4.997665e-01</td>\n",
       "      <td>4.113136e+04</td>\n",
       "      <td>1.316473e+01</td>\n",
       "      <td>1.400111e+01</td>\n",
       "      <td>2.585441e+03</td>\n",
       "      <td>1.811829e+01</td>\n",
       "      <td>2.055657e+00</td>\n",
       "      <td>1.855257e+01</td>\n",
       "    </tr>\n",
       "    <tr>\n",
       "      <td>min</td>\n",
       "      <td>1.000000e+00</td>\n",
       "      <td>0.000000e+00</td>\n",
       "      <td>1.000000e+00</td>\n",
       "      <td>1.000000e+00</td>\n",
       "      <td>0.000000e+00</td>\n",
       "      <td>1.000000e+00</td>\n",
       "      <td>1.000000e+00</td>\n",
       "      <td>1.000000e+01</td>\n",
       "      <td>1.000000e+00</td>\n",
       "      <td>1.000000e+00</td>\n",
       "      <td>1.000000e+00</td>\n",
       "    </tr>\n",
       "    <tr>\n",
       "      <td>25%</td>\n",
       "      <td>1.200000e+01</td>\n",
       "      <td>1.800000e+01</td>\n",
       "      <td>6.000000e+00</td>\n",
       "      <td>1.000000e+00</td>\n",
       "      <td>0.000000e+00</td>\n",
       "      <td>3.500000e+01</td>\n",
       "      <td>4.200000e+01</td>\n",
       "      <td>2.320000e+03</td>\n",
       "      <td>1.200000e+01</td>\n",
       "      <td>1.000000e+00</td>\n",
       "      <td>6.900000e+01</td>\n",
       "    </tr>\n",
       "    <tr>\n",
       "      <td>50%</td>\n",
       "      <td>2.700000e+01</td>\n",
       "      <td>3.900000e+01</td>\n",
       "      <td>9.000000e+00</td>\n",
       "      <td>2.000000e+00</td>\n",
       "      <td>9.000000e+03</td>\n",
       "      <td>4.000000e+01</td>\n",
       "      <td>5.200000e+01</td>\n",
       "      <td>4.700000e+03</td>\n",
       "      <td>2.700000e+01</td>\n",
       "      <td>1.000000e+00</td>\n",
       "      <td>6.900000e+01</td>\n",
       "    </tr>\n",
       "    <tr>\n",
       "      <td>75%</td>\n",
       "      <td>4.100000e+01</td>\n",
       "      <td>5.600000e+01</td>\n",
       "      <td>1.200000e+01</td>\n",
       "      <td>2.000000e+00</td>\n",
       "      <td>3.500000e+04</td>\n",
       "      <td>4.500000e+01</td>\n",
       "      <td>5.200000e+01</td>\n",
       "      <td>5.860000e+03</td>\n",
       "      <td>4.100000e+01</td>\n",
       "      <td>1.000000e+00</td>\n",
       "      <td>6.900000e+01</td>\n",
       "    </tr>\n",
       "    <tr>\n",
       "      <td>max</td>\n",
       "      <td>5.600000e+01</td>\n",
       "      <td>9.500000e+01</td>\n",
       "      <td>1.600000e+01</td>\n",
       "      <td>2.000000e+00</td>\n",
       "      <td>6.660000e+05</td>\n",
       "      <td>9.900000e+01</td>\n",
       "      <td>5.200000e+01</td>\n",
       "      <td>9.920000e+03</td>\n",
       "      <td>5.550000e+02</td>\n",
       "      <td>9.000000e+00</td>\n",
       "      <td>7.200000e+01</td>\n",
       "    </tr>\n",
       "  </tbody>\n",
       "</table>\n",
       "</div>"
      ],
      "text/plain": [
       "                 ST          AGEP          SCHL           SEX          WAGP  \\\n",
       "count  8.842783e+06  8.842783e+06  8.528012e+06  8.842783e+06  7.120694e+06   \n",
       "mean   2.757040e+01  3.878543e+01  8.695140e+00  1.515281e+00  2.400928e+04   \n",
       "std    1.593357e+01  2.308204e+01  3.924915e+00  4.997665e-01  4.113136e+04   \n",
       "min    1.000000e+00  0.000000e+00  1.000000e+00  1.000000e+00  0.000000e+00   \n",
       "25%    1.200000e+01  1.800000e+01  6.000000e+00  1.000000e+00  0.000000e+00   \n",
       "50%    2.700000e+01  3.900000e+01  9.000000e+00  2.000000e+00  9.000000e+03   \n",
       "75%    4.100000e+01  5.600000e+01  1.200000e+01  2.000000e+00  3.500000e+04   \n",
       "max    5.600000e+01  9.500000e+01  1.600000e+01  2.000000e+00  6.660000e+05   \n",
       "\n",
       "               WKHP           WKW          OCCP         POWSP         RAC1P  \\\n",
       "count  4.738058e+06  4.738058e+06  5.313799e+06  4.001675e+06  8.842783e+06   \n",
       "mean   3.889245e+01  4.404442e+01  4.437071e+03  2.791068e+01  1.836994e+00   \n",
       "std    1.316473e+01  1.400111e+01  2.585441e+03  1.811829e+01  2.055657e+00   \n",
       "min    1.000000e+00  1.000000e+00  1.000000e+01  1.000000e+00  1.000000e+00   \n",
       "25%    3.500000e+01  4.200000e+01  2.320000e+03  1.200000e+01  1.000000e+00   \n",
       "50%    4.000000e+01  5.200000e+01  4.700000e+03  2.700000e+01  1.000000e+00   \n",
       "75%    4.500000e+01  5.200000e+01  5.860000e+03  4.100000e+01  1.000000e+00   \n",
       "max    9.900000e+01  5.200000e+01  9.920000e+03  5.550000e+02  9.000000e+00   \n",
       "\n",
       "              RAC3P  \n",
       "count  8.842783e+06  \n",
       "mean   6.053647e+01  \n",
       "std    1.855257e+01  \n",
       "min    1.000000e+00  \n",
       "25%    6.900000e+01  \n",
       "50%    6.900000e+01  \n",
       "75%    6.900000e+01  \n",
       "max    7.200000e+01  "
      ]
     },
     "execution_count": 7,
     "metadata": {},
     "output_type": "execute_result"
    }
   ],
   "source": [
    "PUS_full.describe(include='all')"
   ]
  }
 ],
 "metadata": {
  "kernelspec": {
   "display_name": "py_36_env",
   "language": "python",
   "name": "py_36_env"
  },
  "language_info": {
   "codemirror_mode": {
    "name": "ipython",
    "version": 3
   },
   "file_extension": ".py",
   "mimetype": "text/x-python",
   "name": "python",
   "nbconvert_exporter": "python",
   "pygments_lexer": "ipython3",
   "version": "3.7.4"
  }
 },
 "nbformat": 4,
 "nbformat_minor": 2
}
