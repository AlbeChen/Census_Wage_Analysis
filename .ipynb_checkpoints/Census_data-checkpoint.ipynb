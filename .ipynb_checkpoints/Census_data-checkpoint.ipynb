{
 "cells": [
  {
   "cell_type": "markdown",
   "metadata": {},
   "source": [
    "SEX Character 1\n",
    "Sex\n",
    "1 .Male\n",
    "2 .Female\n",
    "\n",
    "AGEP Numeric 2\n",
    "Age\n",
    "32\n",
    "0 .Under 1 year\n",
    "1..99 .1 to 99 years (Top-coded)\n",
    "\n",
    "SCHL Character 2\n",
    "Educational attainment\n",
    "bb .N/A (less than 3 years old)\n",
    "01 .No schooling completed\n",
    "02 .Nursery school, preschool\n",
    "03 .Kindergarten\n",
    "04 .Grade 1\n",
    "05 .Grade 2\n",
    "06 .Grade 3\n",
    "07 .Grade 4\n",
    "08 .Grade 5\n",
    "09 .Grade 6\n",
    "10 .Grade 7\n",
    "11 .Grade 8\n",
    "12 .Grade 9\n",
    "13 .Grade 10\n",
    "14 .Grade 11\n",
    "15 .12th grade - no diploma\n",
    "16 .Regular high school diploma\n",
    "17 .GED or alternative credential\n",
    "18 .Some college, but less than 1 year\n",
    "19 .1 or more years of college credit, no degree\n",
    "20 .Associate's degree\n",
    "21 .Bachelor's degree\n",
    "22 .Master's degree\n",
    "23 .Professional degree beyond a bachelor's degree\n",
    "24 .Doctorate degree\n",
    "\n",
    "WKW Character 1\n",
    "Weeks worked during past 12 months\n",
    "b .N/A (less than 16 years old/did not work during the past 12 .months)\n",
    "1 .50 to 52 weeks worked during past 12 months\n",
    "2 .48 to 49 weeks worked during past 12 months\n",
    "3 .40 to 47 weeks worked during past 12 months\n",
    "4 .27 to 39 weeks worked during past 12 months\n",
    "5 .14 to 26 weeks worked during past 12 months\n",
    "6 .less than 14 weeks worked during past 12 months\n",
    "\n",
    "WKHP Numeric 2\n",
    "Usual hours worked per week past 12 months\n",
    "bb .N/A (less than 16 years old/did not work during the past .12 months)\n",
    "1..98 .1 to 98 usual hours\n",
    "99 .99 or more usual hours\n",
    "\n",
    "OCCP Character 4\n",
    "Occupation recode for 2018 and later based on 2018 OCC codes\n",
    "\n",
    "POWSP Character 3\n",
    "Place of work - State or foreign country recode\n",
    "\n",
    "WAGP Numeric 6\n",
    "Wages or salary income past 12 months (use ADJINC to adjust WAGP to constant dollars)\n",
    "bbbbbb .N/A (less than 15 years old)\n",
    "0 .None\n",
    "4..999999 .$4 to 999999 (Rounded and top-coded)\n",
    "\n",
    "PERNP Numeric 7\n",
    "Total person's earnings (use ADJINC to adjust to constant dollars)\n",
    "bbbbbbb .N/A (less than 16 years old)\n",
    "0 .No earnings\n",
    "-10000 .Loss of $10000 or more (Rounded & bottom-coded .components)\n",
    "-9999..-1 .Loss $1 to $9999 (Rounded components)\n",
    "1..1999998 .$1 to $1999998 (Rounded & top-coded components)\n",
    "\n",
    "PINCP Numeric 7\n",
    "Total person's income (signed, use ADJINC to adjust to constant dollars)\n",
    "bbbbbbb .N/A (less than 15 years old)\n",
    "0 .None\n",
    "-19998 .Loss of $19998 or more (Rounded & bottom-coded .components)\n",
    "-19997..-1 .Loss $1 to $19997 (Rounded components)\n",
    "1..4209995 .$1 to $4209995 (Rounded & top-coded components)\n",
    "\n",
    "RAC1P Character 1\n",
    "Recoded detailed race code\n",
    "1 .White alone\n",
    "2 .Black or African American alone\n",
    "3 .American Indian alone\n",
    "4 .Alaska Native alone\n",
    "5 .American Indian and Alaska Native tribes specified; or .American Indian or Alaska Native, not specified and no other .races\n",
    "6 .Asian alone\n",
    "7 .Native Hawaiian and Other Pacific Islander alone\n",
    "8 .Some Other Race alone\n",
    "9 .Two or More Races\n",
    "RAC2P Character 2\n",
    "Recoded detailed race code\n",
    "01 .White alone\n",
    "02 .Black or African American alone\n",
    "03 .Apache alone\n",
    "04 .Blackfeet alone\n",
    "05 .Cherokee alone\n",
    "06 .Cheyenne alone\n",
    "07 .Chickasaw alone\n",
    "08 .Chippewa alone\n",
    "09 .Choctaw alone\n",
    "10 .Comanche alone\n",
    "11 .Creek alone\n",
    "12 .Crow alone\n",
    "13 .Hopi alone\n",
    "14 .Iroquois alone\n",
    "15 .Lumbee alone\n",
    "16 .Mexican American Indian alone\n",
    "17 .Navajo alone\n",
    "18 .Pima alone\n",
    "19 .Potawatomi alone\n",
    "20 .Pueblo alone\n",
    "21 .Puget Sound Salish alone\n",
    "22 .Seminole alone\n",
    "23 .Sioux alone\n",
    "24 .South American Indian alone\n",
    "25 .Tohono O'Odham alone\n",
    "26 .Yaqui alone\n",
    "27 .Other specified American Indian tribes alone\n",
    "28 .All other specified American Indian tribe combinations\n",
    "29 .American Indian, tribe not specified\n",
    "30 .Alaskan Athabascan alone\n",
    "31 .Tlingit-Haida alone\n",
    "104\n",
    "32 .Inupiat alone\n",
    "33 .Yup'ik alone\n",
    "34 .Aleut alone\n",
    "35 .Other Alaska Native\n",
    "36 .Other American Indian and Alaska Native specified\n",
    "37 .American Indian and Alaska Native, not specified\n",
    "38 .Asian Indian alone\n",
    "39 .Bangladeshi alone\n",
    "40 .Bhutanese alone\n",
    "41 .Burmese alone\n",
    "42 .Cambodian alone\n",
    "43 .Chinese, except Taiwanese, alone\n",
    "44 .Taiwanese alone\n",
    "45 .Filipino alone\n",
    "46 .Hmong alone\n",
    "47 .Indonesian alone\n",
    "48 .Japanese alone\n",
    "49 .Korean alone\n",
    "50 .Laotian alone\n",
    "51 .Malaysian alone\n",
    "52 .Mongolian alone\n",
    "53 .Nepalese alone\n",
    "54 .Pakistani alone\n",
    "55 .Sri Lankan alone\n",
    "56 .Thai alone\n",
    "57 .Vietnamese alone\n",
    "58 .Other Asian alone\n",
    "59 .All combinations of Asian races only\n",
    "60 .Native Hawaiian alone\n",
    "61 .Samoan alone\n",
    "62 .Tongan alone\n",
    "63 .Guamanian or Chamorro alone\n",
    "64 .Marshallese alone\n",
    "65 .Fijian alone\n",
    "66 .Other Native Hawaiian and Other Pacific Islander\n",
    "67 .Some Other Race alone\n",
    "68 .Two or More Races\n",
    "RAC3P Character 3\n",
    "Recoded detailed race code\n",
    "001 .White alone\n",
    "002 .Black or African American alone\n",
    "003 .American Indian and Alaska Native alone\n",
    "004 .Asian Indian alone\n",
    "005 .Chinese alone\n",
    "006 .Filipino alone\n",
    "007 .Japanese alone\n",
    "008 .Korean alone\n",
    "009 .Vietnamese alone\n",
    "010 .Other Asian alone\n",
    "011 .Native Hawaiian alone\n",
    "012 .Guamanian or Chamorro alone\n",
    "013 .Samoan alone\n",
    "014 .Other Pacific Islander alone\n",
    "015 .Some Other Race alone\n",
    "016 .White; Black or African American\n",
    "017 .White; American Indian and Alaska Native\n",
    "105\n",
    "018 .White; Asian Indian\n",
    "019 .White; Chinese\n",
    "020 .White; Filipino\n",
    "021 .White; Japanese\n",
    "022 .White; Korean\n",
    "023 .White; Vietnamese\n",
    "024 .White; Other Asian\n",
    "025 .White; Native Hawaiian\n",
    "026 .White; Guamanian or Chamorro\n",
    "027 .White; Samoan\n",
    "028 .White; Other Pacific Islander\n",
    "029 .White; Some Other Race\n",
    "030 .Black or African American; American Indian and Alaska Native\n",
    "031 .Black or African American; Asian Indian\n",
    "032 .Black or African American; Chinese\n",
    "033 .Black or African American; Filipino\n",
    "034 .Black or African American; Japanese\n",
    "035 .Black or African American; Korean\n",
    "036 .Black or African American; Other Asian\n",
    "037 .Black or African American; Other Pacific Islander\n",
    "038 .Black or African American; Some Other Race\n",
    "039 .American Indian and Alaska Native; Asian Indian\n",
    "040 .American Indian and Alaska Native; Filipino\n",
    "041 .American Indian and Alaska Native; Some Other Race\n",
    "042 .Asian Indian; Other Asian\n",
    "043 .Asian Indian; Some Other Race\n",
    "044 .Chinese; Filipino\n",
    "045 .Chinese; Japanese\n",
    "046 .Chinese; Korean\n",
    "047 .Chinese; Vietnamese\n",
    "048 .Chinese; Other Asian\n",
    "049 .Chinese; Native Hawaiian\n",
    "050 .Filipino; Japanese\n",
    "051 .Filipino; Native Hawaiian\n",
    "052 .Filipino; Other Pacific Islander\n",
    "053 .Filipino; Some Other Race\n",
    "054 .Japanese; Korean\n",
    "055 .Japanese; Native Hawaiian\n",
    "056 .Vietnamese; Other Asian\n",
    "057 .Other Asian; Other Pacific Islander\n",
    "058 .Other Asian; Some Other Race\n",
    "059 .Other Pacific Islander; Some Other Race\n",
    "060 .White; Black or African American; American Indian and Alaska .Native\n",
    "061 .White; Black or African American; Filipino\n",
    "062 .White; Black or African American; Some Other Race\n",
    "063 .White; American Indian and Alaska Native; Filipino\n",
    "064 .White; American Indian and Alaska Native; Some Other Race\n",
    "065 .White; Chinese; Filipino\n",
    "066 .White; Chinese; Japanese\n",
    "067 .White; Chinese; Native Hawaiian\n",
    "068 .White; Filipino; Native Hawaiian\n",
    "069 .White; Japanese; Native Hawaiian\n",
    "070 .White; Other Asian; Some Other Race\n",
    "071 .Chinese; Filipino; Native Hawaiian\n",
    "072 .White; Chinese; Filipino; Native Hawaiian\n",
    "073 .White; Chinese; Japanese; Native Hawaiian\n",
    "106\n",
    "074 .Black or African American; Asian groups\n",
    "075 .Black or African American; Native Hawaiian and Other Pacific .Islander groups\n",
    "076 .Asian Indian; Asian groups\n",
    "077 .Filipino; Asian groups\n",
    "078 .White; Black or African American; Asian groups\n",
    "079 .White; American Indian and Alaska Native; Asian groups\n",
    "080 .White; Native Hawaiian and Other Pacific Islander groups; .and/or Some Other Race\n",
    "081 .White; Black or African American; American Indian and Alaska .Native; Asian groups\n",
    "082 .White; Black or African American; American Indian and Alaska .Native; and/or Native Hawaiian and Other Pacific Islander .groups; and/or Some Other Race\n",
    "083 .White; Black or African American; and/or Asian groups; .and/or Native Hawaiian and Other Pacific Islander groups; .and/or Some Other Race\n",
    "084 .White; American Indian and Alaska Native; and/or Asian .groups; and/or Native Hawaiian and Other Pacific Islander .groups\n",
    "085 .White; Chinese; Filipino; and/or Asian groups; and/or Native .Hawaiian and Other Pacific Islander groups; and/or Some .Other Race\n",
    "086 .White; Chinese; and/or Asian groups; and/or Native Hawaiian .and Other Pacific Islander groups; and/or Some Other Race\n",
    "087 .White; Filipino; and/or Native Hawaiian and Other Pacific .Islander groups; and/or Some Other Race\n",
    "088 .White; Japanese; and/or Asian groups; and/or Native Hawaiian .and Other Pacific Islander groups; and/or Some Other Race\n",
    "089 .White; Asian groups; and/or Native Hawaiian and Other .Pacific Islander groups; and/or Some Other Race\n",
    "090 .Black or African American; American Indian and Alaska .Native; and/or Asian groups; and/or Native Hawaiian and .Other Pacific Islander groups; and/or Some Other Race\n",
    "091 .Black or African American; Asian groups; and/or Native .Hawaiian and Other Pacific Islander groups; and/or Some .Other Race\n",
    "092 .American Indian and Alaska Native; Asian groups; and/or .Native Hawaiian and Other Pacific Islander groups; and/or .Some Other Race\n",
    "093 .Asian Indian; and/or White; and/or Asian groups; and/or .Native Hawaiian and Other Pacific Islander groups; and/or .Some Other Race\n",
    "094 .Chinese; Japanese; Native Hawaiian; and/or other Asian .and/or Pacific Islander groups\n",
    "095 .Chinese; and/or Asian groups; and/or Native Hawaiian and .Other Pacific Islander groups; and/or Some Other Race\n",
    "096 .Filipino; and/or Asian groups; and/or Native Hawaiian and .Other Pacific Islander groups; and/or Some Other Race\n",
    "097 .Japanese; and/or Asian groups; and/or Native Hawaiian and .Other Pacific Islander groups; and/or Some Other Race\n",
    "098 .Korean; and/or Vietnamese; and/or Other Asian; and/or Native .Hawaiian and Other Pacific Islander groups; and/or Some .Other Race\n",
    "099 .Native Hawaiian; and/or Pacific Islander groups; and/or Some .Other Race\n",
    "107\n",
    "100 .White; and/or Black or African American; and/or American .Indian and Alaska Native; and/or Asian groups; and/or Native .Hawaiian and Other Pacific Islander groups; and/or Some .Other Race"
   ]
  },
  {
   "cell_type": "code",
   "execution_count": 3,
   "metadata": {},
   "outputs": [],
   "source": [
    "# Importing\n",
    "import pandas as pd\n",
    "import seaborn as sns\n",
    "import matplotlib.pyplot as plt\n",
    "import numpy as np"
   ]
  },
  {
   "cell_type": "code",
   "execution_count": 73,
   "metadata": {},
   "outputs": [],
   "source": [
    "# Reading Data\n",
    "useful_cols = ['WAGP','SEX', 'AGEP','RAC1P','RAC2P','RAC3P','SCHL', 'WKW','WKHP','OCCP','POWSP','REGION']\n",
    "P_US_18A = pd.read_csv('psam_pusa.csv', usecols = useful_cols)\n",
    "P_US_18B = pd.read_csv('psam_pusb.csv', usecols = useful_cols)"
   ]
  },
  {
   "cell_type": "code",
   "execution_count": 78,
   "metadata": {},
   "outputs": [
    {
     "name": "stdout",
     "output_type": "stream",
     "text": [
      "(1648512, 13) (1566027, 13)\n"
     ]
    }
   ],
   "source": [
    "print (P_US_18A.shape, P_US_18B.shape)"
   ]
  },
  {
   "cell_type": "code",
   "execution_count": 79,
   "metadata": {},
   "outputs": [
    {
     "data": {
      "text/plain": [
       "(3214539, 13)"
      ]
     },
     "execution_count": 79,
     "metadata": {},
     "output_type": "execute_result"
    }
   ],
   "source": [
    "pus_sets = [P_US_18A,P_US_18B]\n",
    "PUS18_full = pd.concat(pus_sets)\n",
    "PUS18_full.shape"
   ]
  },
  {
   "cell_type": "code",
   "execution_count": 80,
   "metadata": {
    "scrolled": true
   },
   "outputs": [
    {
     "data": {
      "text/plain": [
       "Index(['DIVISION', 'REGION', 'AGEP', 'SCHL', 'SEX', 'WAGP', 'WKHP', 'WKW',\n",
       "       'OCCP', 'POWSP', 'RAC1P', 'RAC2P', 'RAC3P'],\n",
       "      dtype='object')"
      ]
     },
     "execution_count": 80,
     "metadata": {},
     "output_type": "execute_result"
    }
   ],
   "source": [
    "PUS18_full.columns"
   ]
  },
  {
   "cell_type": "code",
   "execution_count": 81,
   "metadata": {},
   "outputs": [
    {
     "data": {
      "text/html": [
       "<div>\n",
       "<style scoped>\n",
       "    .dataframe tbody tr th:only-of-type {\n",
       "        vertical-align: middle;\n",
       "    }\n",
       "\n",
       "    .dataframe tbody tr th {\n",
       "        vertical-align: top;\n",
       "    }\n",
       "\n",
       "    .dataframe thead th {\n",
       "        text-align: right;\n",
       "    }\n",
       "</style>\n",
       "<table border=\"1\" class=\"dataframe\">\n",
       "  <thead>\n",
       "    <tr style=\"text-align: right;\">\n",
       "      <th></th>\n",
       "      <th>DIVISION</th>\n",
       "      <th>REGION</th>\n",
       "      <th>AGEP</th>\n",
       "      <th>SCHL</th>\n",
       "      <th>SEX</th>\n",
       "      <th>WAGP</th>\n",
       "      <th>WKHP</th>\n",
       "      <th>WKW</th>\n",
       "      <th>OCCP</th>\n",
       "      <th>POWSP</th>\n",
       "      <th>RAC1P</th>\n",
       "      <th>RAC2P</th>\n",
       "      <th>RAC3P</th>\n",
       "    </tr>\n",
       "  </thead>\n",
       "  <tbody>\n",
       "    <tr>\n",
       "      <td>count</td>\n",
       "      <td>3.214539e+06</td>\n",
       "      <td>3.214539e+06</td>\n",
       "      <td>3.214539e+06</td>\n",
       "      <td>3.119392e+06</td>\n",
       "      <td>3.214539e+06</td>\n",
       "      <td>2.682063e+06</td>\n",
       "      <td>1.673222e+06</td>\n",
       "      <td>1.673222e+06</td>\n",
       "      <td>1.907398e+06</td>\n",
       "      <td>1.478921e+06</td>\n",
       "      <td>3.214539e+06</td>\n",
       "      <td>3.214539e+06</td>\n",
       "      <td>3.214539e+06</td>\n",
       "    </tr>\n",
       "    <tr>\n",
       "      <td>mean</td>\n",
       "      <td>5.227620e+00</td>\n",
       "      <td>2.669565e+00</td>\n",
       "      <td>4.163448e+01</td>\n",
       "      <td>1.618456e+01</td>\n",
       "      <td>1.510157e+00</td>\n",
       "      <td>3.040714e+04</td>\n",
       "      <td>3.819152e+01</td>\n",
       "      <td>1.840195e+00</td>\n",
       "      <td>4.250269e+03</td>\n",
       "      <td>2.798705e+01</td>\n",
       "      <td>1.912549e+00</td>\n",
       "      <td>8.370429e+00</td>\n",
       "      <td>2.888036e+00</td>\n",
       "    </tr>\n",
       "    <tr>\n",
       "      <td>std</td>\n",
       "      <td>2.508398e+00</td>\n",
       "      <td>1.021576e+00</td>\n",
       "      <td>2.370198e+01</td>\n",
       "      <td>5.608889e+00</td>\n",
       "      <td>4.998969e-01</td>\n",
       "      <td>5.627063e+04</td>\n",
       "      <td>1.322190e+01</td>\n",
       "      <td>1.585195e+00</td>\n",
       "      <td>2.682150e+03</td>\n",
       "      <td>1.778353e+01</td>\n",
       "      <td>2.135575e+00</td>\n",
       "      <td>1.920811e+01</td>\n",
       "      <td>6.903086e+00</td>\n",
       "    </tr>\n",
       "    <tr>\n",
       "      <td>min</td>\n",
       "      <td>1.000000e+00</td>\n",
       "      <td>1.000000e+00</td>\n",
       "      <td>0.000000e+00</td>\n",
       "      <td>1.000000e+00</td>\n",
       "      <td>1.000000e+00</td>\n",
       "      <td>0.000000e+00</td>\n",
       "      <td>1.000000e+00</td>\n",
       "      <td>1.000000e+00</td>\n",
       "      <td>1.000000e+01</td>\n",
       "      <td>1.000000e+00</td>\n",
       "      <td>1.000000e+00</td>\n",
       "      <td>1.000000e+00</td>\n",
       "      <td>1.000000e+00</td>\n",
       "    </tr>\n",
       "    <tr>\n",
       "      <td>25%</td>\n",
       "      <td>3.000000e+00</td>\n",
       "      <td>2.000000e+00</td>\n",
       "      <td>2.100000e+01</td>\n",
       "      <td>1.400000e+01</td>\n",
       "      <td>1.000000e+00</td>\n",
       "      <td>0.000000e+00</td>\n",
       "      <td>3.500000e+01</td>\n",
       "      <td>1.000000e+00</td>\n",
       "      <td>2.300000e+03</td>\n",
       "      <td>1.200000e+01</td>\n",
       "      <td>1.000000e+00</td>\n",
       "      <td>1.000000e+00</td>\n",
       "      <td>1.000000e+00</td>\n",
       "    </tr>\n",
       "    <tr>\n",
       "      <td>50%</td>\n",
       "      <td>5.000000e+00</td>\n",
       "      <td>3.000000e+00</td>\n",
       "      <td>4.200000e+01</td>\n",
       "      <td>1.800000e+01</td>\n",
       "      <td>2.000000e+00</td>\n",
       "      <td>8.000000e+03</td>\n",
       "      <td>4.000000e+01</td>\n",
       "      <td>1.000000e+00</td>\n",
       "      <td>4.220000e+03</td>\n",
       "      <td>2.700000e+01</td>\n",
       "      <td>1.000000e+00</td>\n",
       "      <td>1.000000e+00</td>\n",
       "      <td>1.000000e+00</td>\n",
       "    </tr>\n",
       "    <tr>\n",
       "      <td>75%</td>\n",
       "      <td>7.000000e+00</td>\n",
       "      <td>3.000000e+00</td>\n",
       "      <td>6.100000e+01</td>\n",
       "      <td>2.100000e+01</td>\n",
       "      <td>2.000000e+00</td>\n",
       "      <td>4.200000e+04</td>\n",
       "      <td>4.400000e+01</td>\n",
       "      <td>2.000000e+00</td>\n",
       "      <td>5.740000e+03</td>\n",
       "      <td>4.200000e+01</td>\n",
       "      <td>1.000000e+00</td>\n",
       "      <td>1.000000e+00</td>\n",
       "      <td>1.000000e+00</td>\n",
       "    </tr>\n",
       "    <tr>\n",
       "      <td>max</td>\n",
       "      <td>9.000000e+00</td>\n",
       "      <td>4.000000e+00</td>\n",
       "      <td>9.600000e+01</td>\n",
       "      <td>2.400000e+01</td>\n",
       "      <td>2.000000e+00</td>\n",
       "      <td>7.180000e+05</td>\n",
       "      <td>9.900000e+01</td>\n",
       "      <td>6.000000e+00</td>\n",
       "      <td>9.920000e+03</td>\n",
       "      <td>5.550000e+02</td>\n",
       "      <td>9.000000e+00</td>\n",
       "      <td>6.800000e+01</td>\n",
       "      <td>1.000000e+02</td>\n",
       "    </tr>\n",
       "  </tbody>\n",
       "</table>\n",
       "</div>"
      ],
      "text/plain": [
       "           DIVISION        REGION          AGEP          SCHL           SEX  \\\n",
       "count  3.214539e+06  3.214539e+06  3.214539e+06  3.119392e+06  3.214539e+06   \n",
       "mean   5.227620e+00  2.669565e+00  4.163448e+01  1.618456e+01  1.510157e+00   \n",
       "std    2.508398e+00  1.021576e+00  2.370198e+01  5.608889e+00  4.998969e-01   \n",
       "min    1.000000e+00  1.000000e+00  0.000000e+00  1.000000e+00  1.000000e+00   \n",
       "25%    3.000000e+00  2.000000e+00  2.100000e+01  1.400000e+01  1.000000e+00   \n",
       "50%    5.000000e+00  3.000000e+00  4.200000e+01  1.800000e+01  2.000000e+00   \n",
       "75%    7.000000e+00  3.000000e+00  6.100000e+01  2.100000e+01  2.000000e+00   \n",
       "max    9.000000e+00  4.000000e+00  9.600000e+01  2.400000e+01  2.000000e+00   \n",
       "\n",
       "               WAGP          WKHP           WKW          OCCP         POWSP  \\\n",
       "count  2.682063e+06  1.673222e+06  1.673222e+06  1.907398e+06  1.478921e+06   \n",
       "mean   3.040714e+04  3.819152e+01  1.840195e+00  4.250269e+03  2.798705e+01   \n",
       "std    5.627063e+04  1.322190e+01  1.585195e+00  2.682150e+03  1.778353e+01   \n",
       "min    0.000000e+00  1.000000e+00  1.000000e+00  1.000000e+01  1.000000e+00   \n",
       "25%    0.000000e+00  3.500000e+01  1.000000e+00  2.300000e+03  1.200000e+01   \n",
       "50%    8.000000e+03  4.000000e+01  1.000000e+00  4.220000e+03  2.700000e+01   \n",
       "75%    4.200000e+04  4.400000e+01  2.000000e+00  5.740000e+03  4.200000e+01   \n",
       "max    7.180000e+05  9.900000e+01  6.000000e+00  9.920000e+03  5.550000e+02   \n",
       "\n",
       "              RAC1P         RAC2P         RAC3P  \n",
       "count  3.214539e+06  3.214539e+06  3.214539e+06  \n",
       "mean   1.912549e+00  8.370429e+00  2.888036e+00  \n",
       "std    2.135575e+00  1.920811e+01  6.903086e+00  \n",
       "min    1.000000e+00  1.000000e+00  1.000000e+00  \n",
       "25%    1.000000e+00  1.000000e+00  1.000000e+00  \n",
       "50%    1.000000e+00  1.000000e+00  1.000000e+00  \n",
       "75%    1.000000e+00  1.000000e+00  1.000000e+00  \n",
       "max    9.000000e+00  6.800000e+01  1.000000e+02  "
      ]
     },
     "execution_count": 81,
     "metadata": {},
     "output_type": "execute_result"
    }
   ],
   "source": [
    "PUS18_full.describe()"
   ]
  },
  {
   "cell_type": "code",
   "execution_count": 82,
   "metadata": {},
   "outputs": [
    {
     "data": {
      "image/png": "[encoded data removed]",
      "text/plain": [
       "<Figure size 432x288 with 1 Axes>"
      ]
     },
     "metadata": {
      "needs_background": "light"
     },
     "output_type": "display_data"
    }
   ],
   "source": [
    "g = sns.kdeplot(PUS18_full[\"AGEP\"][(PUS18_full[\"SEX\"] == 1) & (PUS18_full[\"AGEP\"].notnull())])\n",
    "g = sns.kdeplot(PUS18_full[\"AGEP\"][(PUS18_full[\"SEX\"] == 2) & (PUS18_full[\"AGEP\"].notnull())])\n",
    "g.set_xlabel(\"Age\")\n",
    "g.set_ylabel(\"Frequency\")\n",
    "g=g.legend([\"Male\",\"Female\"])"
   ]
  },
  {
   "cell_type": "code",
   "execution_count": 83,
   "metadata": {},
   "outputs": [
    {
     "data": {
      "image/png": "[encoded data removed]",
      "text/plain": [
       "<Figure size 432x288 with 1 Axes>"
      ]
     },
     "metadata": {
      "needs_background": "light"
     },
     "output_type": "display_data"
    }
   ],
   "source": [
    "ax = sns.distplot(PUS18_full[\"AGEP\"][(PUS18_full[\"SEX\"] == 1)], bins=20, kde=False)\n",
    "ax = sns.distplot(PUS18_full[\"AGEP\"][(PUS18_full[\"SEX\"] == 2)], bins=20, kde=False)"
   ]
  },
  {
   "cell_type": "code",
   "execution_count": 84,
   "metadata": {},
   "outputs": [
    {
     "data": {
      "text/plain": [
       "Text(0, 0.5, 'Frequency')"
      ]
     },
     "execution_count": 84,
     "metadata": {},
     "output_type": "execute_result"
    },
    {
     "data": {
      "image/png": "[encoded data removed]",
      "text/plain": [
       "<Figure size 432x288 with 1 Axes>"
      ]
     },
     "metadata": {
      "needs_background": "light"
     },
     "output_type": "display_data"
    }
   ],
   "source": [
    "g = sns.kdeplot(PUS18_full[\"WAGP\"][(PUS18_full[\"WAGP\"] > 0) & (PUS18_full[\"AGEP\"] > 18)])\n",
    "\n",
    "g.set_xlabel(\"Age\")\n",
    "g.set_ylabel(\"Frequency\")"
   ]
  },
  {
   "cell_type": "code",
   "execution_count": 85,
   "metadata": {},
   "outputs": [
    {
     "data": {
      "image/png": "[encoded data removed]",
      "text/plain": [
       "<Figure size 432x288 with 1 Axes>"
      ]
     },
     "metadata": {
      "needs_background": "light"
     },
     "output_type": "display_data"
    }
   ],
   "source": [
    "g = sns.distplot(PUS18_full[\"WAGP\"][(PUS18_full[\"WAGP\"] > 0) & (PUS18_full[\"AGEP\"] > 18) & (PUS18_full[\"WKW\"] < 4) & (PUS18_full[\"WKHP\"]  >= 35)], kde=False)\n",
    "g = sns.distplot(PUS18_full[\"WAGP\"][(PUS18_full[\"WAGP\"] > 0) & (PUS18_full[\"AGEP\"] > 18)], kde=False)"
   ]
  },
  {
   "cell_type": "code",
   "execution_count": 86,
   "metadata": {},
   "outputs": [
    {
     "data": {
      "image/png": "[encoded data removed]",
      "text/plain": [
       "<Figure size 432x288 with 1 Axes>"
      ]
     },
     "metadata": {
      "needs_background": "light"
     },
     "output_type": "display_data"
    }
   ],
   "source": [
    "ax = sns.distplot(PUS18_full[\"WAGP\"][(PUS18_full[\"SEX\"] == 1) & (PUS18_full[\"WAGP\"] > 0) & (PUS18_full[\"AGEP\"] > 18) & (PUS18_full[\"WKW\"] < 4) & (PUS18_full[\"WKHP\"]  >= 35)], bins=40, kde=False)\n",
    "ax = sns.distplot(PUS18_full[\"WAGP\"][(PUS18_full[\"SEX\"] == 2) & (PUS18_full[\"WAGP\"] > 0) & (PUS18_full[\"AGEP\"] > 18) & (PUS18_full[\"WKW\"] < 4) & (PUS18_full[\"WKHP\"]  >= 35)], bins=40, kde=False)\n",
    "ax.set(xlim=(0, 200000))\n",
    "ax=ax.legend([\"Male\",\"Female\"])"
   ]
  },
  {
   "cell_type": "markdown",
   "metadata": {},
   "source": [
    "#### Full-Time Detection"
   ]
  },
  {
   "cell_type": "code",
   "execution_count": 87,
   "metadata": {},
   "outputs": [],
   "source": [
    "# define function to seperate people who've worked more than 40 weeks / year\n",
    "def full_time_detect(df):\n",
    "    # remove rows of people who work under 40 weeks in a year\n",
    "    df['WKW'] = df['WKW'].map(lambda y: 1 if y < 4\n",
    "                              else 0)\n",
    "    df = df.loc[df.WKW != 0]\n",
    "\n",
    "    # remove rows of people who work under 35 hours a week\n",
    "    df['WKHP'] = df['WKHP'].map(lambda y: 1 if y >= 35\n",
    "                                else 0)\n",
    "    df = df.loc[df.WKHP != 0]\n",
    "    return df"
   ]
  },
  {
   "cell_type": "code",
   "execution_count": 88,
   "metadata": {
    "scrolled": false
   },
   "outputs": [
    {
     "name": "stderr",
     "output_type": "stream",
     "text": [
      "C:\\ProgramData\\Anaconda3\\lib\\site-packages\\ipykernel_launcher.py:9: SettingWithCopyWarning: \n",
      "A value is trying to be set on a copy of a slice from a DataFrame.\n",
      "Try using .loc[row_indexer,col_indexer] = value instead\n",
      "\n",
      "See the caveats in the documentation: http://pandas.pydata.org/pandas-docs/stable/user_guide/indexing.html#returning-a-view-versus-a-copy\n",
      "  if __name__ == '__main__':\n"
     ]
    },
    {
     "data": {
      "text/html": [
       "<div>\n",
       "<style scoped>\n",
       "    .dataframe tbody tr th:only-of-type {\n",
       "        vertical-align: middle;\n",
       "    }\n",
       "\n",
       "    .dataframe tbody tr th {\n",
       "        vertical-align: top;\n",
       "    }\n",
       "\n",
       "    .dataframe thead th {\n",
       "        text-align: right;\n",
       "    }\n",
       "</style>\n",
       "<table border=\"1\" class=\"dataframe\">\n",
       "  <thead>\n",
       "    <tr style=\"text-align: right;\">\n",
       "      <th></th>\n",
       "      <th>DIVISION</th>\n",
       "      <th>REGION</th>\n",
       "      <th>AGEP</th>\n",
       "      <th>SCHL</th>\n",
       "      <th>SEX</th>\n",
       "      <th>WAGP</th>\n",
       "      <th>WKHP</th>\n",
       "      <th>WKW</th>\n",
       "      <th>OCCP</th>\n",
       "      <th>POWSP</th>\n",
       "      <th>RAC1P</th>\n",
       "      <th>RAC2P</th>\n",
       "      <th>RAC3P</th>\n",
       "    </tr>\n",
       "  </thead>\n",
       "  <tbody>\n",
       "    <tr>\n",
       "      <td>count</td>\n",
       "      <td>1.148616e+06</td>\n",
       "      <td>1.148616e+06</td>\n",
       "      <td>1.148616e+06</td>\n",
       "      <td>1.148616e+06</td>\n",
       "      <td>1.148616e+06</td>\n",
       "      <td>1.148616e+06</td>\n",
       "      <td>1148616.0</td>\n",
       "      <td>1148616.0</td>\n",
       "      <td>1.148616e+06</td>\n",
       "      <td>1.112574e+06</td>\n",
       "      <td>1.148616e+06</td>\n",
       "      <td>1.148616e+06</td>\n",
       "      <td>1.148616e+06</td>\n",
       "    </tr>\n",
       "    <tr>\n",
       "      <td>mean</td>\n",
       "      <td>5.187487e+00</td>\n",
       "      <td>2.652849e+00</td>\n",
       "      <td>4.428583e+01</td>\n",
       "      <td>1.884832e+01</td>\n",
       "      <td>1.434923e+00</td>\n",
       "      <td>6.380350e+04</td>\n",
       "      <td>1.0</td>\n",
       "      <td>1.0</td>\n",
       "      <td>4.034222e+03</td>\n",
       "      <td>2.806745e+01</td>\n",
       "      <td>1.859758e+00</td>\n",
       "      <td>8.004768e+00</td>\n",
       "      <td>2.674443e+00</td>\n",
       "    </tr>\n",
       "    <tr>\n",
       "      <td>std</td>\n",
       "      <td>2.509051e+00</td>\n",
       "      <td>1.023858e+00</td>\n",
       "      <td>1.328489e+01</td>\n",
       "      <td>3.273379e+00</td>\n",
       "      <td>4.957471e-01</td>\n",
       "      <td>6.991563e+04</td>\n",
       "      <td>0.0</td>\n",
       "      <td>0.0</td>\n",
       "      <td>2.783980e+03</td>\n",
       "      <td>1.782020e+01</td>\n",
       "      <td>2.061159e+00</td>\n",
       "      <td>1.862295e+01</td>\n",
       "      <td>6.217854e+00</td>\n",
       "    </tr>\n",
       "    <tr>\n",
       "      <td>min</td>\n",
       "      <td>1.000000e+00</td>\n",
       "      <td>1.000000e+00</td>\n",
       "      <td>1.600000e+01</td>\n",
       "      <td>1.000000e+00</td>\n",
       "      <td>1.000000e+00</td>\n",
       "      <td>0.000000e+00</td>\n",
       "      <td>1.0</td>\n",
       "      <td>1.0</td>\n",
       "      <td>1.000000e+01</td>\n",
       "      <td>1.000000e+00</td>\n",
       "      <td>1.000000e+00</td>\n",
       "      <td>1.000000e+00</td>\n",
       "      <td>1.000000e+00</td>\n",
       "    </tr>\n",
       "    <tr>\n",
       "      <td>25%</td>\n",
       "      <td>3.000000e+00</td>\n",
       "      <td>2.000000e+00</td>\n",
       "      <td>3.300000e+01</td>\n",
       "      <td>1.600000e+01</td>\n",
       "      <td>1.000000e+00</td>\n",
       "      <td>2.900000e+04</td>\n",
       "      <td>1.0</td>\n",
       "      <td>1.0</td>\n",
       "      <td>1.530000e+03</td>\n",
       "      <td>1.200000e+01</td>\n",
       "      <td>1.000000e+00</td>\n",
       "      <td>1.000000e+00</td>\n",
       "      <td>1.000000e+00</td>\n",
       "    </tr>\n",
       "    <tr>\n",
       "      <td>50%</td>\n",
       "      <td>5.000000e+00</td>\n",
       "      <td>3.000000e+00</td>\n",
       "      <td>4.500000e+01</td>\n",
       "      <td>1.900000e+01</td>\n",
       "      <td>1.000000e+00</td>\n",
       "      <td>4.700000e+04</td>\n",
       "      <td>1.0</td>\n",
       "      <td>1.0</td>\n",
       "      <td>4.020000e+03</td>\n",
       "      <td>2.800000e+01</td>\n",
       "      <td>1.000000e+00</td>\n",
       "      <td>1.000000e+00</td>\n",
       "      <td>1.000000e+00</td>\n",
       "    </tr>\n",
       "    <tr>\n",
       "      <td>75%</td>\n",
       "      <td>7.000000e+00</td>\n",
       "      <td>3.000000e+00</td>\n",
       "      <td>5.500000e+01</td>\n",
       "      <td>2.100000e+01</td>\n",
       "      <td>2.000000e+00</td>\n",
       "      <td>7.500000e+04</td>\n",
       "      <td>1.0</td>\n",
       "      <td>1.0</td>\n",
       "      <td>5.810000e+03</td>\n",
       "      <td>4.200000e+01</td>\n",
       "      <td>1.000000e+00</td>\n",
       "      <td>1.000000e+00</td>\n",
       "      <td>1.000000e+00</td>\n",
       "    </tr>\n",
       "    <tr>\n",
       "      <td>max</td>\n",
       "      <td>9.000000e+00</td>\n",
       "      <td>4.000000e+00</td>\n",
       "      <td>9.500000e+01</td>\n",
       "      <td>2.400000e+01</td>\n",
       "      <td>2.000000e+00</td>\n",
       "      <td>7.180000e+05</td>\n",
       "      <td>1.0</td>\n",
       "      <td>1.0</td>\n",
       "      <td>9.830000e+03</td>\n",
       "      <td>5.550000e+02</td>\n",
       "      <td>9.000000e+00</td>\n",
       "      <td>6.800000e+01</td>\n",
       "      <td>1.000000e+02</td>\n",
       "    </tr>\n",
       "  </tbody>\n",
       "</table>\n",
       "</div>"
      ],
      "text/plain": [
       "           DIVISION        REGION          AGEP          SCHL           SEX  \\\n",
       "count  1.148616e+06  1.148616e+06  1.148616e+06  1.148616e+06  1.148616e+06   \n",
       "mean   5.187487e+00  2.652849e+00  4.428583e+01  1.884832e+01  1.434923e+00   \n",
       "std    2.509051e+00  1.023858e+00  1.328489e+01  3.273379e+00  4.957471e-01   \n",
       "min    1.000000e+00  1.000000e+00  1.600000e+01  1.000000e+00  1.000000e+00   \n",
       "25%    3.000000e+00  2.000000e+00  3.300000e+01  1.600000e+01  1.000000e+00   \n",
       "50%    5.000000e+00  3.000000e+00  4.500000e+01  1.900000e+01  1.000000e+00   \n",
       "75%    7.000000e+00  3.000000e+00  5.500000e+01  2.100000e+01  2.000000e+00   \n",
       "max    9.000000e+00  4.000000e+00  9.500000e+01  2.400000e+01  2.000000e+00   \n",
       "\n",
       "               WAGP       WKHP        WKW          OCCP         POWSP  \\\n",
       "count  1.148616e+06  1148616.0  1148616.0  1.148616e+06  1.112574e+06   \n",
       "mean   6.380350e+04        1.0        1.0  4.034222e+03  2.806745e+01   \n",
       "std    6.991563e+04        0.0        0.0  2.783980e+03  1.782020e+01   \n",
       "min    0.000000e+00        1.0        1.0  1.000000e+01  1.000000e+00   \n",
       "25%    2.900000e+04        1.0        1.0  1.530000e+03  1.200000e+01   \n",
       "50%    4.700000e+04        1.0        1.0  4.020000e+03  2.800000e+01   \n",
       "75%    7.500000e+04        1.0        1.0  5.810000e+03  4.200000e+01   \n",
       "max    7.180000e+05        1.0        1.0  9.830000e+03  5.550000e+02   \n",
       "\n",
       "              RAC1P         RAC2P         RAC3P  \n",
       "count  1.148616e+06  1.148616e+06  1.148616e+06  \n",
       "mean   1.859758e+00  8.004768e+00  2.674443e+00  \n",
       "std    2.061159e+00  1.862295e+01  6.217854e+00  \n",
       "min    1.000000e+00  1.000000e+00  1.000000e+00  \n",
       "25%    1.000000e+00  1.000000e+00  1.000000e+00  \n",
       "50%    1.000000e+00  1.000000e+00  1.000000e+00  \n",
       "75%    1.000000e+00  1.000000e+00  1.000000e+00  \n",
       "max    9.000000e+00  6.800000e+01  1.000000e+02  "
      ]
     },
     "execution_count": 88,
     "metadata": {},
     "output_type": "execute_result"
    }
   ],
   "source": [
    "ft_test = PUS18_full.copy()\n",
    "ft_test = full_time_detect(ft_test)\n",
    "ft_test.describe()"
   ]
  },
  {
   "cell_type": "code",
   "execution_count": 91,
   "metadata": {},
   "outputs": [
    {
     "data": {
      "text/plain": [
       "<seaborn.axisgrid.FacetGrid at 0x21e81c780c8>"
      ]
     },
     "execution_count": 91,
     "metadata": {},
     "output_type": "execute_result"
    },
    {
     "data": {
      "image/png": "[encoded data removed]",
      "text/plain": [
       "<Figure size 1260x360 with 1 Axes>"
      ]
     },
     "metadata": {
      "needs_background": "light"
     },
     "output_type": "display_data"
    }
   ],
   "source": [
    "g = sns.catplot(y=\"WAGP\", x=\"REGION\", data=ft_test, kind=\"bar\", aspect = 3.5)\n",
    "g.set(ylim=(0, 175000))"
   ]
  },
  {
   "cell_type": "markdown",
   "metadata": {},
   "source": [
    "##### Age Bins"
   ]
  },
  {
   "cell_type": "code",
   "execution_count": 17,
   "metadata": {
    "scrolled": true
   },
   "outputs": [
    {
     "data": {
      "text/plain": [
       "<seaborn.axisgrid.FacetGrid at 0x21e834ed888>"
      ]
     },
     "execution_count": 17,
     "metadata": {},
     "output_type": "execute_result"
    },
    {
     "data": {
      "image/png": "[encoded data removed]",
      "text/plain": [
       "<Figure size 1260x360 with 1 Axes>"
      ]
     },
     "metadata": {
      "needs_background": "light"
     },
     "output_type": "display_data"
    }
   ],
   "source": [
    "g = sns.catplot(y=\"WAGP\", x=\"AGEP\", data=ft_test, kind=\"box\", aspect = 3.5)\n",
    "g.set(ylim=(0, 175000))"
   ]
  },
  {
   "cell_type": "code",
   "execution_count": 18,
   "metadata": {},
   "outputs": [],
   "source": [
    "def age_bins(df):\n",
    "    df['AGEB'] = df['AGEP'].map(lambda y: \"16-23\" if y < 24\n",
    "                                else \"24-28\" if y < 29\n",
    "                                else \"29-34\" if y < 35\n",
    "                                else \"35-39\" if y < 40\n",
    "                                else \"40-49\" if y < 50\n",
    "                                else \"50-59\" if y < 60\n",
    "                                else \"60-69\" if y < 70\n",
    "                                else \"70+\")\n",
    "    return df"
   ]
  },
  {
   "cell_type": "code",
   "execution_count": 19,
   "metadata": {},
   "outputs": [],
   "source": [
    "age_test = ft_test.copy()\n",
    "age_test.sort_values(by=['AGEP'], ascending=True, inplace=True)"
   ]
  },
  {
   "cell_type": "code",
   "execution_count": 20,
   "metadata": {},
   "outputs": [
    {
     "name": "stdout",
     "output_type": "stream",
     "text": [
      "Age : ['16-23' '24-28' '29-34' '35-39' '40-49' '50-59' '60-69' '70+']\n"
     ]
    }
   ],
   "source": [
    "age_bins(age_test)\n",
    "print(\"Age :\", age_test.AGEB.unique())"
   ]
  },
  {
   "cell_type": "code",
   "execution_count": 21,
   "metadata": {
    "scrolled": false
   },
   "outputs": [
    {
     "data": {
      "text/plain": [
       "<seaborn.axisgrid.FacetGrid at 0x21e835c8648>"
      ]
     },
     "execution_count": 21,
     "metadata": {},
     "output_type": "execute_result"
    },
    {
     "data": {
      "image/png": "[encoded data removed]",
      "text/plain": [
       "<Figure size 720x360 with 1 Axes>"
      ]
     },
     "metadata": {
      "needs_background": "light"
     },
     "output_type": "display_data"
    }
   ],
   "source": [
    "g = sns.catplot(y=\"WAGP\", x=\"AGEB\", data=age_test, kind=\"box\", aspect = 2)\n",
    "g.set(ylim=(0, 175000))"
   ]
  },
  {
   "cell_type": "code",
   "execution_count": 22,
   "metadata": {},
   "outputs": [
    {
     "data": {
      "text/plain": [
       "50-59    277322\n",
       "40-49    256984\n",
       "29-34    153830\n",
       "60-69    143487\n",
       "35-39    128361\n",
       "24-28    114144\n",
       "16-23     54220\n",
       "70+       20268\n",
       "Name: AGEB, dtype: int64"
      ]
     },
     "execution_count": 22,
     "metadata": {},
     "output_type": "execute_result"
    }
   ],
   "source": [
    "age_test['AGEB'].value_counts()"
   ]
  },
  {
   "cell_type": "markdown",
   "metadata": {},
   "source": [
    "#### Education Split\n",
    "- NH: No High-school Degree\n",
    "- HS: Highschool Diploma (or GED)\n",
    "- SC: Some College\n",
    "- AS: Associate's degree\n",
    "- BS: Bachelor's degree\n",
    "- GD: Graduate Degree\n",
    "- DR: Doctorate Degree"
   ]
  },
  {
   "cell_type": "code",
   "execution_count": 23,
   "metadata": {},
   "outputs": [
    {
     "data": {
      "text/plain": [
       "21.0    278539\n",
       "16.0    230488\n",
       "19.0    157667\n",
       "22.0    126134\n",
       "20.0    111201\n",
       "18.0     77612\n",
       "17.0     36937\n",
       "23.0     32470\n",
       "24.0     21763\n",
       "15.0     16444\n",
       "14.0     12103\n",
       "1.0      10300\n",
       "13.0      9667\n",
       "12.0      8465\n",
       "9.0       6609\n",
       "11.0      5809\n",
       "10.0      1741\n",
       "8.0       1406\n",
       "6.0       1176\n",
       "7.0        879\n",
       "5.0        525\n",
       "4.0        292\n",
       "2.0        210\n",
       "3.0        179\n",
       "Name: SCHL, dtype: int64"
      ]
     },
     "execution_count": 23,
     "metadata": {},
     "output_type": "execute_result"
    }
   ],
   "source": [
    "age_test['SCHL'].value_counts()"
   ]
  },
  {
   "cell_type": "code",
   "execution_count": 24,
   "metadata": {},
   "outputs": [
    {
     "data": {
      "text/plain": [
       "<seaborn.axisgrid.FacetGrid at 0x21e83be37c8>"
      ]
     },
     "execution_count": 24,
     "metadata": {},
     "output_type": "execute_result"
    },
    {
     "data": {
      "image/png": "[encoded data removed]",
      "text/plain": [
       "<Figure size 720x360 with 1 Axes>"
      ]
     },
     "metadata": {
      "needs_background": "light"
     },
     "output_type": "display_data"
    }
   ],
   "source": [
    "g = sns.catplot(y=\"WAGP\", x=\"SCHL\", data=age_test, kind=\"box\", aspect = 2)\n",
    "g.set(ylim=(0, 175000))"
   ]
  },
  {
   "cell_type": "code",
   "execution_count": 30,
   "metadata": {},
   "outputs": [],
   "source": [
    "def edu_split(df):\n",
    "    #split into degrees\n",
    "    df['EDU'] = df['SCHL'].map(lambda y: \"HS\" if y <= 17\n",
    "                                else \"AS\" if y <= 20\n",
    "                               else \"BS\" if y == 21\n",
    "                                else \"MS\" if y == 22\n",
    "                                else \"GS\")\n",
    "    return df"
   ]
  },
  {
   "cell_type": "code",
   "execution_count": 31,
   "metadata": {},
   "outputs": [
    {
     "name": "stdout",
     "output_type": "stream",
     "text": [
      "Edu : ['HS' 'AS' 'BS' 'MS' 'GS']\n"
     ]
    }
   ],
   "source": [
    "edu_test = age_test.copy()\n",
    "edu_test = edu_split(edu_test)\n",
    "print(\"Edu :\", edu_test.EDU.unique())"
   ]
  },
  {
   "cell_type": "code",
   "execution_count": 33,
   "metadata": {
    "scrolled": false
   },
   "outputs": [
    {
     "data": {
      "text/plain": [
       "<seaborn.axisgrid.FacetGrid at 0x21e83e881c8>"
      ]
     },
     "execution_count": 33,
     "metadata": {},
     "output_type": "execute_result"
    },
    {
     "data": {
      "image/png": "[encoded data removed]",
      "text/plain": [
       "<Figure size 720x360 with 1 Axes>"
      ]
     },
     "metadata": {
      "needs_background": "light"
     },
     "output_type": "display_data"
    }
   ],
   "source": [
    "g = sns.catplot(y=\"WAGP\", x=\"EDU\", data=edu_test, kind=\"box\", aspect = 2)\n",
    "g.set(ylim=(0, 250000))"
   ]
  },
  {
   "cell_type": "code",
   "execution_count": 34,
   "metadata": {},
   "outputs": [
    {
     "data": {
      "text/plain": [
       "AS    346480\n",
       "HS    343230\n",
       "BS    278539\n",
       "MS    126134\n",
       "GS     54233\n",
       "Name: EDU, dtype: int64"
      ]
     },
     "execution_count": 34,
     "metadata": {},
     "output_type": "execute_result"
    }
   ],
   "source": [
    "edu_test['EDU'].value_counts()"
   ]
  },
  {
   "cell_type": "markdown",
   "metadata": {},
   "source": [
    "#### Occupation Split\n",
    "- 0010-0960: Management, Business, and Financial Occupations\n",
    "- 1005-1980: Computer, Engineering, and Science Occupations\n",
    "- 2001-2970: Education, Legal, Community Service, Arts, and Media Occupations\n",
    "- 3000-3550: Healthcare Practitioners and Technical Occupations\n",
    "- 3601-4655: Service Occupations\n",
    "- 4700-5940: Sales and Office Occupations\n",
    "- 6005-7640: Natural Resources, Construction, and Maintenance Occupations\n",
    "- 7700-8990: Production Occupations\n",
    "- 9005-9760: Transportation and Material Moving Occupations\n",
    "- 9800-9830: Military Specific Occupations"
   ]
  },
  {
   "cell_type": "code",
   "execution_count": 35,
   "metadata": {},
   "outputs": [],
   "source": [
    "def occ_split(df):\n",
    "    # split into occupational industries\n",
    "    df['JOB'] = df['OCCP'].map(lambda y: \"Business\" if y <= 960\n",
    "                                else \"Science\" if y <= 1980\n",
    "                                else \"Arts\" if y <= 2970\n",
    "                                else \"Healthcare\" if y <= 3550\n",
    "                                else \"Service\" if y <= 4655\n",
    "                                else \"Sales\" if y <= 5940\n",
    "                                else \"Maintenance\" if y <= 7640\n",
    "                                else \"Production\" if y <= 8990\n",
    "                                else \"Transportation\" if y <= 9760\n",
    "                                else \"Military\" if y <= 9830\n",
    "                                else \"UN\")\n",
    "    return df"
   ]
  },
  {
   "cell_type": "code",
   "execution_count": 36,
   "metadata": {},
   "outputs": [
    {
     "name": "stdout",
     "output_type": "stream",
     "text": [
      "Occ : ['Transportation' 'Sales' 'Production' 'Service' 'Maintenance' 'Business'\n",
      " 'Healthcare' 'Arts' 'Science' 'Military']\n"
     ]
    }
   ],
   "source": [
    "occ_test = edu_test.copy()\n",
    "occ_test = occ_split(occ_test)\n",
    "print(\"Occ :\", occ_test.JOB.unique())"
   ]
  },
  {
   "cell_type": "code",
   "execution_count": 66,
   "metadata": {},
   "outputs": [],
   "source": [
    "occ_sort = occ_test.groupby('JOB').median().sort_values(by=['WAGP']).reset_index()\n",
    "occ_list = occ_sort['JOB'].tolist()"
   ]
  },
  {
   "cell_type": "code",
   "execution_count": 67,
   "metadata": {},
   "outputs": [
    {
     "data": {
      "text/plain": [
       "<seaborn.axisgrid.FacetGrid at 0x21ea59e8e88>"
      ]
     },
     "execution_count": 67,
     "metadata": {},
     "output_type": "execute_result"
    },
    {
     "data": {
      "image/png": "[encoded data removed]",
      "text/plain": [
       "<Figure size 720x360 with 1 Axes>"
      ]
     },
     "metadata": {
      "needs_background": "light"
     },
     "output_type": "display_data"
    }
   ],
   "source": [
    "g = sns.catplot(y=\"WAGP\", x=\"JOB\", data=occ_test, kind=\"box\", aspect = 2, order = occ_list)\n",
    "g.set(ylim=(0, 175000))"
   ]
  },
  {
   "cell_type": "code",
   "execution_count": 68,
   "metadata": {},
   "outputs": [
    {
     "data": {
      "text/plain": [
       "Sales             230983\n",
       "Business          221863\n",
       "Service           142439\n",
       "Arts              127689\n",
       "Maintenance       109861\n",
       "Science            84230\n",
       "Transportation     79729\n",
       "Healthcare         73740\n",
       "Production         73142\n",
       "Military            4940\n",
       "Name: JOB, dtype: int64"
      ]
     },
     "execution_count": 68,
     "metadata": {},
     "output_type": "execute_result"
    }
   ],
   "source": [
    "occ_test['JOB'].value_counts()"
   ]
  },
  {
   "cell_type": "markdown",
   "metadata": {},
   "source": [
    "#### State - POWSP"
   ]
  },
  {
   "cell_type": "code",
   "execution_count": 120,
   "metadata": {},
   "outputs": [],
   "source": [
    "state_sort = occ_test.groupby('POWSP').median().reset_index()\n",
    "state_sort['reg_code'] = ['3', '4', '4', '3', '4', '4', '1', '3', '3', '3',\n",
    "                          '3', '4', '4', '2', '2', '2', '2', '3', '3', '1',\n",
    "                          '3', '1', '2', '2', '3', '2', '4', '2', '4', '1',\n",
    "                          '1', '4', '1', '3', '2', '2', '3', '4', '1', '1',\n",
    "                          '3', '2', '3', '3', '4', '1', '3', '4', '3', '2',\n",
    "                          '4', '5', '5', '5', '5', '5', '5', '5', '5']\n",
    "state_sort = state_sort.sort_values(by=['WAGP'])\n",
    "state_list = state_sort['POWSP'].tolist()"
   ]
  },
  {
   "cell_type": "code",
   "execution_count": 121,
   "metadata": {},
   "outputs": [],
   "source": [
    "reg_sort = state_sort.sort_values(by=['reg_code'])\n",
    "reg_list = reg_sort['POWSP'].tolist()"
   ]
  },
  {
   "cell_type": "code",
   "execution_count": 119,
   "metadata": {},
   "outputs": [
    {
     "data": {
      "text/plain": [
       "<seaborn.axisgrid.FacetGrid at 0x21e990a7e88>"
      ]
     },
     "execution_count": 119,
     "metadata": {},
     "output_type": "execute_result"
    },
    {
     "data": {
      "image/png": "[encoded data removed]",
      "text/plain": [
       "<Figure size 1493.62x360 with 1 Axes>"
      ]
     },
     "metadata": {
      "needs_background": "light"
     },
     "output_type": "display_data"
    }
   ],
   "source": [
    "g = sns.catplot(y=\"WAGP\", x=\"POWSP\", hue = 'reg_code', data=reg_sort, kind=\"bar\", aspect = 4, order = reg_list)\n",
    "g.set(ylim=(0, 175000))"
   ]
  },
  {
   "cell_type": "code",
   "execution_count": 72,
   "metadata": {
    "scrolled": true
   },
   "outputs": [
    {
     "data": {
      "text/plain": [
       "<seaborn.axisgrid.FacetGrid at 0x21ea5528208>"
      ]
     },
     "execution_count": 72,
     "metadata": {},
     "output_type": "execute_result"
    },
    {
     "data": {
      "image/png": "[encoded data removed]",
      "text/plain": [
       "<Figure size 1440x360 with 1 Axes>"
      ]
     },
     "metadata": {
      "needs_background": "light"
     },
     "output_type": "display_data"
    }
   ],
   "source": [
    "g = sns.catplot(y=\"WAGP\", x=\"POWSP\", data=occ_test, kind=\"box\", aspect = 4, order = state_list)\n",
    "g.set(ylim=(0, 175000))"
   ]
  },
  {
   "cell_type": "code",
   "execution_count": 125,
   "metadata": {},
   "outputs": [
    {
     "name": "stdout",
     "output_type": "stream",
     "text": [
      "[40.0, 28.0, 5.0, 35.0, 30.0, 46.0, 45.0, 47.0, 16.0, 1.0, 303.0, 54.0, 20.0, 31.0, 21.0, 23.0, 22.0, 18.0, 19.0, 32.0, 12.0, 29.0, 37.0, 38.0, 4.0, 56.0, 13.0, 50.0, 39.0, 48.0, 55.0, 26.0, 42.0, 41.0, 49.0, 15.0, 27.0, 33.0, 2.0, 17.0, 10.0, 8.0, 6.0, 72.0, 51.0, 44.0, 53.0, 36.0, 34.0, 251.0, 9.0, 24.0, 25.0, 555.0, 399.0, 166.0, 301.0, 11.0, 254.0]\n"
     ]
    }
   ],
   "source": [
    "print (state_list)"
   ]
  },
  {
   "cell_type": "code",
   "execution_count": 127,
   "metadata": {},
   "outputs": [],
   "source": [
    "def state_split(df):\n",
    "    # split into higher paying states\n",
    "    df['STSP'] = df['POWSP'].map(lambda y: 1 if y in [6.0, 72.0, 51.0, 44.0, 53.0, 36.0, 34.0, 251.0, 9.0, 24.0, 25.0, 555.0, 399.0, 166.0, 301.0, 11.0, 254.0]\n",
    "                                else 2 if y in [50.0, 39.0, 48.0, 55.0, 26.0, 42.0, 41.0, 49.0, 15.0, 27.0, 33.0, 2.0, 17.0, 10.0, 8.0]\n",
    "                                else 3 if y in [23.0, 22.0, 18.0, 19.0, 32.0, 12.0, 29.0, 37.0, 38.0, 4.0, 56.0, 13.0]\n",
    "                                else 4 if y in [40.0, 28.0, 5.0, 35.0, 30.0, 46.0, 45.0, 47.0, 16.0, 1.0, 303.0, 54.0, 20.0, 31.0, 21.0]\n",
    "                                else 5)\n",
    "    return df"
   ]
  },
  {
   "cell_type": "code",
   "execution_count": null,
   "metadata": {},
   "outputs": [],
   "source": []
  },
  {
   "cell_type": "markdown",
   "metadata": {},
   "source": [
    "#### Ethnicity - RAC1P"
   ]
  },
  {
   "cell_type": "code",
   "execution_count": 43,
   "metadata": {},
   "outputs": [
    {
     "data": {
      "text/plain": [
       "<seaborn.axisgrid.FacetGrid at 0x21e83472888>"
      ]
     },
     "execution_count": 43,
     "metadata": {},
     "output_type": "execute_result"
    },
    {
     "data": {
      "image/png": "[encoded data removed]",
      "text/plain": [
       "<Figure size 1440x360 with 1 Axes>"
      ]
     },
     "metadata": {
      "needs_background": "light"
     },
     "output_type": "display_data"
    }
   ],
   "source": [
    "g = sns.catplot(y=\"WAGP\", x=\"RAC1P\", data=occ_test, kind=\"box\", aspect = 4)\n",
    "g.set(ylim=(0, 175000))"
   ]
  },
  {
   "cell_type": "code",
   "execution_count": 44,
   "metadata": {},
   "outputs": [
    {
     "data": {
      "text/plain": [
       "1    900011\n",
       "2     99064\n",
       "6     68681\n",
       "8     43117\n",
       "9     26119\n",
       "3      7918\n",
       "7      1993\n",
       "5      1359\n",
       "4       354\n",
       "Name: RAC1P, dtype: int64"
      ]
     },
     "execution_count": 44,
     "metadata": {},
     "output_type": "execute_result"
    }
   ],
   "source": [
    "occ_test['RAC1P'].value_counts()"
   ]
  },
  {
   "cell_type": "markdown",
   "metadata": {},
   "source": [
    "#### Visualization"
   ]
  },
  {
   "cell_type": "code",
   "execution_count": 45,
   "metadata": {},
   "outputs": [],
   "source": [
    "group_test = occ_test.copy()"
   ]
  },
  {
   "cell_type": "code",
   "execution_count": 46,
   "metadata": {},
   "outputs": [
    {
     "data": {
      "text/html": [
       "<div>\n",
       "<style scoped>\n",
       "    .dataframe tbody tr th:only-of-type {\n",
       "        vertical-align: middle;\n",
       "    }\n",
       "\n",
       "    .dataframe tbody tr th {\n",
       "        vertical-align: top;\n",
       "    }\n",
       "\n",
       "    .dataframe thead th {\n",
       "        text-align: right;\n",
       "    }\n",
       "</style>\n",
       "<table border=\"1\" class=\"dataframe\">\n",
       "  <thead>\n",
       "    <tr style=\"text-align: right;\">\n",
       "      <th></th>\n",
       "      <th>AGEP</th>\n",
       "      <th>SCHL</th>\n",
       "      <th>SEX</th>\n",
       "      <th>WAGP</th>\n",
       "      <th>WKHP</th>\n",
       "      <th>WKW</th>\n",
       "      <th>OCCP</th>\n",
       "      <th>POWSP</th>\n",
       "      <th>RAC1P</th>\n",
       "      <th>RAC2P</th>\n",
       "      <th>RAC3P</th>\n",
       "      <th>AGEB</th>\n",
       "      <th>EDU</th>\n",
       "      <th>JOB</th>\n",
       "    </tr>\n",
       "  </thead>\n",
       "  <tbody>\n",
       "    <tr>\n",
       "      <td>306191</td>\n",
       "      <td>16</td>\n",
       "      <td>14.0</td>\n",
       "      <td>2</td>\n",
       "      <td>4000.0</td>\n",
       "      <td>1</td>\n",
       "      <td>1</td>\n",
       "      <td>9620.0</td>\n",
       "      <td>6.0</td>\n",
       "      <td>8</td>\n",
       "      <td>67</td>\n",
       "      <td>15</td>\n",
       "      <td>16-23</td>\n",
       "      <td>HS</td>\n",
       "      <td>Transportation</td>\n",
       "    </tr>\n",
       "    <tr>\n",
       "      <td>7996</td>\n",
       "      <td>16</td>\n",
       "      <td>16.0</td>\n",
       "      <td>2</td>\n",
       "      <td>22000.0</td>\n",
       "      <td>1</td>\n",
       "      <td>1</td>\n",
       "      <td>4720.0</td>\n",
       "      <td>1.0</td>\n",
       "      <td>1</td>\n",
       "      <td>1</td>\n",
       "      <td>1</td>\n",
       "      <td>16-23</td>\n",
       "      <td>HS</td>\n",
       "      <td>Sales</td>\n",
       "    </tr>\n",
       "    <tr>\n",
       "      <td>8184</td>\n",
       "      <td>16</td>\n",
       "      <td>15.0</td>\n",
       "      <td>2</td>\n",
       "      <td>4400.0</td>\n",
       "      <td>1</td>\n",
       "      <td>1</td>\n",
       "      <td>8800.0</td>\n",
       "      <td>29.0</td>\n",
       "      <td>1</td>\n",
       "      <td>1</td>\n",
       "      <td>1</td>\n",
       "      <td>16-23</td>\n",
       "      <td>HS</td>\n",
       "      <td>Production</td>\n",
       "    </tr>\n",
       "    <tr>\n",
       "      <td>323419</td>\n",
       "      <td>16</td>\n",
       "      <td>11.0</td>\n",
       "      <td>2</td>\n",
       "      <td>80000.0</td>\n",
       "      <td>1</td>\n",
       "      <td>1</td>\n",
       "      <td>5165.0</td>\n",
       "      <td>36.0</td>\n",
       "      <td>1</td>\n",
       "      <td>1</td>\n",
       "      <td>1</td>\n",
       "      <td>16-23</td>\n",
       "      <td>HS</td>\n",
       "      <td>Sales</td>\n",
       "    </tr>\n",
       "    <tr>\n",
       "      <td>863909</td>\n",
       "      <td>16</td>\n",
       "      <td>12.0</td>\n",
       "      <td>1</td>\n",
       "      <td>12000.0</td>\n",
       "      <td>1</td>\n",
       "      <td>1</td>\n",
       "      <td>4251.0</td>\n",
       "      <td>42.0</td>\n",
       "      <td>1</td>\n",
       "      <td>1</td>\n",
       "      <td>1</td>\n",
       "      <td>16-23</td>\n",
       "      <td>HS</td>\n",
       "      <td>Service</td>\n",
       "    </tr>\n",
       "  </tbody>\n",
       "</table>\n",
       "</div>"
      ],
      "text/plain": [
       "        AGEP  SCHL  SEX     WAGP  WKHP  WKW    OCCP  POWSP  RAC1P  RAC2P  \\\n",
       "306191    16  14.0    2   4000.0     1    1  9620.0    6.0      8     67   \n",
       "7996      16  16.0    2  22000.0     1    1  4720.0    1.0      1      1   \n",
       "8184      16  15.0    2   4400.0     1    1  8800.0   29.0      1      1   \n",
       "323419    16  11.0    2  80000.0     1    1  5165.0   36.0      1      1   \n",
       "863909    16  12.0    1  12000.0     1    1  4251.0   42.0      1      1   \n",
       "\n",
       "        RAC3P   AGEB EDU             JOB  \n",
       "306191     15  16-23  HS  Transportation  \n",
       "7996        1  16-23  HS           Sales  \n",
       "8184        1  16-23  HS      Production  \n",
       "323419      1  16-23  HS           Sales  \n",
       "863909      1  16-23  HS         Service  "
      ]
     },
     "execution_count": 46,
     "metadata": {},
     "output_type": "execute_result"
    }
   ],
   "source": [
    "group_test.head()"
   ]
  },
  {
   "cell_type": "code",
   "execution_count": 47,
   "metadata": {},
   "outputs": [
    {
     "data": {
      "text/html": [
       "<div>\n",
       "<style scoped>\n",
       "    .dataframe tbody tr th:only-of-type {\n",
       "        vertical-align: middle;\n",
       "    }\n",
       "\n",
       "    .dataframe tbody tr th {\n",
       "        vertical-align: top;\n",
       "    }\n",
       "\n",
       "    .dataframe thead th {\n",
       "        text-align: right;\n",
       "    }\n",
       "</style>\n",
       "<table border=\"1\" class=\"dataframe\">\n",
       "  <thead>\n",
       "    <tr style=\"text-align: right;\">\n",
       "      <th></th>\n",
       "      <th>AGEP</th>\n",
       "      <th>SCHL</th>\n",
       "      <th>SEX</th>\n",
       "      <th>WAGP</th>\n",
       "      <th>WKHP</th>\n",
       "      <th>WKW</th>\n",
       "      <th>OCCP</th>\n",
       "      <th>POWSP</th>\n",
       "      <th>RAC1P</th>\n",
       "      <th>RAC2P</th>\n",
       "      <th>RAC3P</th>\n",
       "    </tr>\n",
       "  </thead>\n",
       "  <tbody>\n",
       "    <tr>\n",
       "      <td>count</td>\n",
       "      <td>1.148616e+06</td>\n",
       "      <td>1.148616e+06</td>\n",
       "      <td>1.148616e+06</td>\n",
       "      <td>1.148616e+06</td>\n",
       "      <td>1148616.0</td>\n",
       "      <td>1148616.0</td>\n",
       "      <td>1.148616e+06</td>\n",
       "      <td>1.112574e+06</td>\n",
       "      <td>1.148616e+06</td>\n",
       "      <td>1.148616e+06</td>\n",
       "      <td>1.148616e+06</td>\n",
       "    </tr>\n",
       "    <tr>\n",
       "      <td>mean</td>\n",
       "      <td>4.428583e+01</td>\n",
       "      <td>1.884832e+01</td>\n",
       "      <td>1.434923e+00</td>\n",
       "      <td>6.380350e+04</td>\n",
       "      <td>1.0</td>\n",
       "      <td>1.0</td>\n",
       "      <td>4.034222e+03</td>\n",
       "      <td>2.806745e+01</td>\n",
       "      <td>1.859758e+00</td>\n",
       "      <td>8.004768e+00</td>\n",
       "      <td>2.674443e+00</td>\n",
       "    </tr>\n",
       "    <tr>\n",
       "      <td>std</td>\n",
       "      <td>1.328489e+01</td>\n",
       "      <td>3.273379e+00</td>\n",
       "      <td>4.957471e-01</td>\n",
       "      <td>6.991563e+04</td>\n",
       "      <td>0.0</td>\n",
       "      <td>0.0</td>\n",
       "      <td>2.783980e+03</td>\n",
       "      <td>1.782020e+01</td>\n",
       "      <td>2.061159e+00</td>\n",
       "      <td>1.862295e+01</td>\n",
       "      <td>6.217854e+00</td>\n",
       "    </tr>\n",
       "    <tr>\n",
       "      <td>min</td>\n",
       "      <td>1.600000e+01</td>\n",
       "      <td>1.000000e+00</td>\n",
       "      <td>1.000000e+00</td>\n",
       "      <td>0.000000e+00</td>\n",
       "      <td>1.0</td>\n",
       "      <td>1.0</td>\n",
       "      <td>1.000000e+01</td>\n",
       "      <td>1.000000e+00</td>\n",
       "      <td>1.000000e+00</td>\n",
       "      <td>1.000000e+00</td>\n",
       "      <td>1.000000e+00</td>\n",
       "    </tr>\n",
       "    <tr>\n",
       "      <td>25%</td>\n",
       "      <td>3.300000e+01</td>\n",
       "      <td>1.600000e+01</td>\n",
       "      <td>1.000000e+00</td>\n",
       "      <td>2.900000e+04</td>\n",
       "      <td>1.0</td>\n",
       "      <td>1.0</td>\n",
       "      <td>1.530000e+03</td>\n",
       "      <td>1.200000e+01</td>\n",
       "      <td>1.000000e+00</td>\n",
       "      <td>1.000000e+00</td>\n",
       "      <td>1.000000e+00</td>\n",
       "    </tr>\n",
       "    <tr>\n",
       "      <td>50%</td>\n",
       "      <td>4.500000e+01</td>\n",
       "      <td>1.900000e+01</td>\n",
       "      <td>1.000000e+00</td>\n",
       "      <td>4.700000e+04</td>\n",
       "      <td>1.0</td>\n",
       "      <td>1.0</td>\n",
       "      <td>4.020000e+03</td>\n",
       "      <td>2.800000e+01</td>\n",
       "      <td>1.000000e+00</td>\n",
       "      <td>1.000000e+00</td>\n",
       "      <td>1.000000e+00</td>\n",
       "    </tr>\n",
       "    <tr>\n",
       "      <td>75%</td>\n",
       "      <td>5.500000e+01</td>\n",
       "      <td>2.100000e+01</td>\n",
       "      <td>2.000000e+00</td>\n",
       "      <td>7.500000e+04</td>\n",
       "      <td>1.0</td>\n",
       "      <td>1.0</td>\n",
       "      <td>5.810000e+03</td>\n",
       "      <td>4.200000e+01</td>\n",
       "      <td>1.000000e+00</td>\n",
       "      <td>1.000000e+00</td>\n",
       "      <td>1.000000e+00</td>\n",
       "    </tr>\n",
       "    <tr>\n",
       "      <td>max</td>\n",
       "      <td>9.500000e+01</td>\n",
       "      <td>2.400000e+01</td>\n",
       "      <td>2.000000e+00</td>\n",
       "      <td>7.180000e+05</td>\n",
       "      <td>1.0</td>\n",
       "      <td>1.0</td>\n",
       "      <td>9.830000e+03</td>\n",
       "      <td>5.550000e+02</td>\n",
       "      <td>9.000000e+00</td>\n",
       "      <td>6.800000e+01</td>\n",
       "      <td>1.000000e+02</td>\n",
       "    </tr>\n",
       "  </tbody>\n",
       "</table>\n",
       "</div>"
      ],
      "text/plain": [
       "               AGEP          SCHL           SEX          WAGP       WKHP  \\\n",
       "count  1.148616e+06  1.148616e+06  1.148616e+06  1.148616e+06  1148616.0   \n",
       "mean   4.428583e+01  1.884832e+01  1.434923e+00  6.380350e+04        1.0   \n",
       "std    1.328489e+01  3.273379e+00  4.957471e-01  6.991563e+04        0.0   \n",
       "min    1.600000e+01  1.000000e+00  1.000000e+00  0.000000e+00        1.0   \n",
       "25%    3.300000e+01  1.600000e+01  1.000000e+00  2.900000e+04        1.0   \n",
       "50%    4.500000e+01  1.900000e+01  1.000000e+00  4.700000e+04        1.0   \n",
       "75%    5.500000e+01  2.100000e+01  2.000000e+00  7.500000e+04        1.0   \n",
       "max    9.500000e+01  2.400000e+01  2.000000e+00  7.180000e+05        1.0   \n",
       "\n",
       "             WKW          OCCP         POWSP         RAC1P         RAC2P  \\\n",
       "count  1148616.0  1.148616e+06  1.112574e+06  1.148616e+06  1.148616e+06   \n",
       "mean         1.0  4.034222e+03  2.806745e+01  1.859758e+00  8.004768e+00   \n",
       "std          0.0  2.783980e+03  1.782020e+01  2.061159e+00  1.862295e+01   \n",
       "min          1.0  1.000000e+01  1.000000e+00  1.000000e+00  1.000000e+00   \n",
       "25%          1.0  1.530000e+03  1.200000e+01  1.000000e+00  1.000000e+00   \n",
       "50%          1.0  4.020000e+03  2.800000e+01  1.000000e+00  1.000000e+00   \n",
       "75%          1.0  5.810000e+03  4.200000e+01  1.000000e+00  1.000000e+00   \n",
       "max          1.0  9.830000e+03  5.550000e+02  9.000000e+00  6.800000e+01   \n",
       "\n",
       "              RAC3P  \n",
       "count  1.148616e+06  \n",
       "mean   2.674443e+00  \n",
       "std    6.217854e+00  \n",
       "min    1.000000e+00  \n",
       "25%    1.000000e+00  \n",
       "50%    1.000000e+00  \n",
       "75%    1.000000e+00  \n",
       "max    1.000000e+02  "
      ]
     },
     "execution_count": 47,
     "metadata": {},
     "output_type": "execute_result"
    }
   ],
   "source": [
    "group_test.describe()"
   ]
  },
  {
   "cell_type": "code",
   "execution_count": 48,
   "metadata": {
    "scrolled": true
   },
   "outputs": [
    {
     "data": {
      "text/plain": [
       "<seaborn.axisgrid.FacetGrid at 0x21e92e20c08>"
      ]
     },
     "execution_count": 48,
     "metadata": {},
     "output_type": "execute_result"
    },
    {
     "data": {
      "image/png": "[encoded data removed]",
      "text/plain": [
       "<Figure size 906.375x288 with 1 Axes>"
      ]
     },
     "metadata": {
      "needs_background": "light"
     },
     "output_type": "display_data"
    }
   ],
   "source": [
    "g = sns.catplot(y=\"WAGP\", x=\"AGEB\", data=group_test, kind=\"box\", height = 4, aspect = 3, hue = \"SEX\")\n",
    "g.set(ylim=(0, 200000))"
   ]
  },
  {
   "cell_type": "code",
   "execution_count": 49,
   "metadata": {},
   "outputs": [
    {
     "data": {
      "text/plain": [
       "<seaborn.axisgrid.FacetGrid at 0x21e92d6f6c8>"
      ]
     },
     "execution_count": 49,
     "metadata": {},
     "output_type": "execute_result"
    },
    {
     "data": {
      "image/png": "[encoded data removed]",
      "text/plain": [
       "<Figure size 906.375x288 with 1 Axes>"
      ]
     },
     "metadata": {
      "needs_background": "light"
     },
     "output_type": "display_data"
    }
   ],
   "source": [
    "g = sns.catplot(y=\"WAGP\", x=\"JOB\", data=group_test, kind=\"box\", height = 4, aspect = 3, hue = \"SEX\")\n",
    "g.set(ylim=(0, 200000))"
   ]
  },
  {
   "cell_type": "code",
   "execution_count": 128,
   "metadata": {},
   "outputs": [
    {
     "data": {
      "text/plain": [
       "<seaborn.axisgrid.FacetGrid at 0x21e988f8f08>"
      ]
     },
     "execution_count": 128,
     "metadata": {},
     "output_type": "execute_result"
    },
    {
     "data": {
      "image/png": "[encoded data removed]",
      "text/plain": [
       "<Figure size 906.375x288 with 1 Axes>"
      ]
     },
     "metadata": {
      "needs_background": "light"
     },
     "output_type": "display_data"
    }
   ],
   "source": [
    "edu_ordered=group_test.copy()\n",
    "edu_ordered.sort_values(by=['SCHL'], ascending=True, inplace=True)\n",
    "g = sns.catplot(y=\"WAGP\", x=\"SCHL\", data=edu_ordered, kind=\"box\", height = 4, aspect = 3, hue = \"SEX\")\n",
    "g.set(ylim=(0, 200000))"
   ]
  },
  {
   "cell_type": "code",
   "execution_count": 50,
   "metadata": {},
   "outputs": [
    {
     "data": {
      "text/plain": [
       "<seaborn.axisgrid.FacetGrid at 0x21e934f2648>"
      ]
     },
     "execution_count": 50,
     "metadata": {},
     "output_type": "execute_result"
    },
    {
     "data": {
      "image/png": "[encoded data removed]",
      "text/plain": [
       "<Figure size 906.375x288 with 1 Axes>"
      ]
     },
     "metadata": {
      "needs_background": "light"
     },
     "output_type": "display_data"
    }
   ],
   "source": [
    "edu_ordered=group_test.copy()\n",
    "edu_ordered.sort_values(by=['SCHL'], ascending=True, inplace=True)\n",
    "g = sns.catplot(y=\"WAGP\", x=\"EDU\", data=edu_ordered, kind=\"box\", height = 4, aspect = 3, hue = \"SEX\")\n",
    "g.set(ylim=(0, 200000))"
   ]
  },
  {
   "cell_type": "code",
   "execution_count": 51,
   "metadata": {},
   "outputs": [
    {
     "data": {
      "text/html": [
       "<div>\n",
       "<style scoped>\n",
       "    .dataframe tbody tr th:only-of-type {\n",
       "        vertical-align: middle;\n",
       "    }\n",
       "\n",
       "    .dataframe tbody tr th {\n",
       "        vertical-align: top;\n",
       "    }\n",
       "\n",
       "    .dataframe thead th {\n",
       "        text-align: right;\n",
       "    }\n",
       "</style>\n",
       "<table border=\"1\" class=\"dataframe\">\n",
       "  <thead>\n",
       "    <tr style=\"text-align: right;\">\n",
       "      <th></th>\n",
       "      <th>AGEP</th>\n",
       "      <th>SCHL</th>\n",
       "      <th>SEX</th>\n",
       "      <th>WAGP</th>\n",
       "      <th>WKHP</th>\n",
       "      <th>WKW</th>\n",
       "      <th>OCCP</th>\n",
       "      <th>POWSP</th>\n",
       "      <th>RAC1P</th>\n",
       "      <th>RAC2P</th>\n",
       "      <th>RAC3P</th>\n",
       "      <th>AGEB</th>\n",
       "      <th>EDU</th>\n",
       "      <th>JOB</th>\n",
       "    </tr>\n",
       "  </thead>\n",
       "  <tbody>\n",
       "    <tr>\n",
       "      <td>count</td>\n",
       "      <td>1.148616e+06</td>\n",
       "      <td>1.148616e+06</td>\n",
       "      <td>1.148616e+06</td>\n",
       "      <td>1.148616e+06</td>\n",
       "      <td>1148616.0</td>\n",
       "      <td>1148616.0</td>\n",
       "      <td>1.148616e+06</td>\n",
       "      <td>1.112574e+06</td>\n",
       "      <td>1.148616e+06</td>\n",
       "      <td>1.148616e+06</td>\n",
       "      <td>1.148616e+06</td>\n",
       "      <td>1148616</td>\n",
       "      <td>1148616</td>\n",
       "      <td>1148616</td>\n",
       "    </tr>\n",
       "    <tr>\n",
       "      <td>unique</td>\n",
       "      <td>NaN</td>\n",
       "      <td>NaN</td>\n",
       "      <td>NaN</td>\n",
       "      <td>NaN</td>\n",
       "      <td>NaN</td>\n",
       "      <td>NaN</td>\n",
       "      <td>NaN</td>\n",
       "      <td>NaN</td>\n",
       "      <td>NaN</td>\n",
       "      <td>NaN</td>\n",
       "      <td>NaN</td>\n",
       "      <td>8</td>\n",
       "      <td>5</td>\n",
       "      <td>10</td>\n",
       "    </tr>\n",
       "    <tr>\n",
       "      <td>top</td>\n",
       "      <td>NaN</td>\n",
       "      <td>NaN</td>\n",
       "      <td>NaN</td>\n",
       "      <td>NaN</td>\n",
       "      <td>NaN</td>\n",
       "      <td>NaN</td>\n",
       "      <td>NaN</td>\n",
       "      <td>NaN</td>\n",
       "      <td>NaN</td>\n",
       "      <td>NaN</td>\n",
       "      <td>NaN</td>\n",
       "      <td>50-59</td>\n",
       "      <td>AS</td>\n",
       "      <td>Sales</td>\n",
       "    </tr>\n",
       "    <tr>\n",
       "      <td>freq</td>\n",
       "      <td>NaN</td>\n",
       "      <td>NaN</td>\n",
       "      <td>NaN</td>\n",
       "      <td>NaN</td>\n",
       "      <td>NaN</td>\n",
       "      <td>NaN</td>\n",
       "      <td>NaN</td>\n",
       "      <td>NaN</td>\n",
       "      <td>NaN</td>\n",
       "      <td>NaN</td>\n",
       "      <td>NaN</td>\n",
       "      <td>277322</td>\n",
       "      <td>346480</td>\n",
       "      <td>230983</td>\n",
       "    </tr>\n",
       "    <tr>\n",
       "      <td>mean</td>\n",
       "      <td>4.428583e+01</td>\n",
       "      <td>1.884832e+01</td>\n",
       "      <td>1.434923e+00</td>\n",
       "      <td>6.380350e+04</td>\n",
       "      <td>1.0</td>\n",
       "      <td>1.0</td>\n",
       "      <td>4.034222e+03</td>\n",
       "      <td>2.806745e+01</td>\n",
       "      <td>1.859758e+00</td>\n",
       "      <td>8.004768e+00</td>\n",
       "      <td>2.674443e+00</td>\n",
       "      <td>NaN</td>\n",
       "      <td>NaN</td>\n",
       "      <td>NaN</td>\n",
       "    </tr>\n",
       "    <tr>\n",
       "      <td>std</td>\n",
       "      <td>1.328489e+01</td>\n",
       "      <td>3.273379e+00</td>\n",
       "      <td>4.957471e-01</td>\n",
       "      <td>6.991563e+04</td>\n",
       "      <td>0.0</td>\n",
       "      <td>0.0</td>\n",
       "      <td>2.783980e+03</td>\n",
       "      <td>1.782020e+01</td>\n",
       "      <td>2.061159e+00</td>\n",
       "      <td>1.862295e+01</td>\n",
       "      <td>6.217854e+00</td>\n",
       "      <td>NaN</td>\n",
       "      <td>NaN</td>\n",
       "      <td>NaN</td>\n",
       "    </tr>\n",
       "    <tr>\n",
       "      <td>min</td>\n",
       "      <td>1.600000e+01</td>\n",
       "      <td>1.000000e+00</td>\n",
       "      <td>1.000000e+00</td>\n",
       "      <td>0.000000e+00</td>\n",
       "      <td>1.0</td>\n",
       "      <td>1.0</td>\n",
       "      <td>1.000000e+01</td>\n",
       "      <td>1.000000e+00</td>\n",
       "      <td>1.000000e+00</td>\n",
       "      <td>1.000000e+00</td>\n",
       "      <td>1.000000e+00</td>\n",
       "      <td>NaN</td>\n",
       "      <td>NaN</td>\n",
       "      <td>NaN</td>\n",
       "    </tr>\n",
       "    <tr>\n",
       "      <td>25%</td>\n",
       "      <td>3.300000e+01</td>\n",
       "      <td>1.600000e+01</td>\n",
       "      <td>1.000000e+00</td>\n",
       "      <td>2.900000e+04</td>\n",
       "      <td>1.0</td>\n",
       "      <td>1.0</td>\n",
       "      <td>1.530000e+03</td>\n",
       "      <td>1.200000e+01</td>\n",
       "      <td>1.000000e+00</td>\n",
       "      <td>1.000000e+00</td>\n",
       "      <td>1.000000e+00</td>\n",
       "      <td>NaN</td>\n",
       "      <td>NaN</td>\n",
       "      <td>NaN</td>\n",
       "    </tr>\n",
       "    <tr>\n",
       "      <td>50%</td>\n",
       "      <td>4.500000e+01</td>\n",
       "      <td>1.900000e+01</td>\n",
       "      <td>1.000000e+00</td>\n",
       "      <td>4.700000e+04</td>\n",
       "      <td>1.0</td>\n",
       "      <td>1.0</td>\n",
       "      <td>4.020000e+03</td>\n",
       "      <td>2.800000e+01</td>\n",
       "      <td>1.000000e+00</td>\n",
       "      <td>1.000000e+00</td>\n",
       "      <td>1.000000e+00</td>\n",
       "      <td>NaN</td>\n",
       "      <td>NaN</td>\n",
       "      <td>NaN</td>\n",
       "    </tr>\n",
       "    <tr>\n",
       "      <td>75%</td>\n",
       "      <td>5.500000e+01</td>\n",
       "      <td>2.100000e+01</td>\n",
       "      <td>2.000000e+00</td>\n",
       "      <td>7.500000e+04</td>\n",
       "      <td>1.0</td>\n",
       "      <td>1.0</td>\n",
       "      <td>5.810000e+03</td>\n",
       "      <td>4.200000e+01</td>\n",
       "      <td>1.000000e+00</td>\n",
       "      <td>1.000000e+00</td>\n",
       "      <td>1.000000e+00</td>\n",
       "      <td>NaN</td>\n",
       "      <td>NaN</td>\n",
       "      <td>NaN</td>\n",
       "    </tr>\n",
       "    <tr>\n",
       "      <td>max</td>\n",
       "      <td>9.500000e+01</td>\n",
       "      <td>2.400000e+01</td>\n",
       "      <td>2.000000e+00</td>\n",
       "      <td>7.180000e+05</td>\n",
       "      <td>1.0</td>\n",
       "      <td>1.0</td>\n",
       "      <td>9.830000e+03</td>\n",
       "      <td>5.550000e+02</td>\n",
       "      <td>9.000000e+00</td>\n",
       "      <td>6.800000e+01</td>\n",
       "      <td>1.000000e+02</td>\n",
       "      <td>NaN</td>\n",
       "      <td>NaN</td>\n",
       "      <td>NaN</td>\n",
       "    </tr>\n",
       "  </tbody>\n",
       "</table>\n",
       "</div>"
      ],
      "text/plain": [
       "                AGEP          SCHL           SEX          WAGP       WKHP  \\\n",
       "count   1.148616e+06  1.148616e+06  1.148616e+06  1.148616e+06  1148616.0   \n",
       "unique           NaN           NaN           NaN           NaN        NaN   \n",
       "top              NaN           NaN           NaN           NaN        NaN   \n",
       "freq             NaN           NaN           NaN           NaN        NaN   \n",
       "mean    4.428583e+01  1.884832e+01  1.434923e+00  6.380350e+04        1.0   \n",
       "std     1.328489e+01  3.273379e+00  4.957471e-01  6.991563e+04        0.0   \n",
       "min     1.600000e+01  1.000000e+00  1.000000e+00  0.000000e+00        1.0   \n",
       "25%     3.300000e+01  1.600000e+01  1.000000e+00  2.900000e+04        1.0   \n",
       "50%     4.500000e+01  1.900000e+01  1.000000e+00  4.700000e+04        1.0   \n",
       "75%     5.500000e+01  2.100000e+01  2.000000e+00  7.500000e+04        1.0   \n",
       "max     9.500000e+01  2.400000e+01  2.000000e+00  7.180000e+05        1.0   \n",
       "\n",
       "              WKW          OCCP         POWSP         RAC1P         RAC2P  \\\n",
       "count   1148616.0  1.148616e+06  1.112574e+06  1.148616e+06  1.148616e+06   \n",
       "unique        NaN           NaN           NaN           NaN           NaN   \n",
       "top           NaN           NaN           NaN           NaN           NaN   \n",
       "freq          NaN           NaN           NaN           NaN           NaN   \n",
       "mean          1.0  4.034222e+03  2.806745e+01  1.859758e+00  8.004768e+00   \n",
       "std           0.0  2.783980e+03  1.782020e+01  2.061159e+00  1.862295e+01   \n",
       "min           1.0  1.000000e+01  1.000000e+00  1.000000e+00  1.000000e+00   \n",
       "25%           1.0  1.530000e+03  1.200000e+01  1.000000e+00  1.000000e+00   \n",
       "50%           1.0  4.020000e+03  2.800000e+01  1.000000e+00  1.000000e+00   \n",
       "75%           1.0  5.810000e+03  4.200000e+01  1.000000e+00  1.000000e+00   \n",
       "max           1.0  9.830000e+03  5.550000e+02  9.000000e+00  6.800000e+01   \n",
       "\n",
       "               RAC3P     AGEB      EDU      JOB  \n",
       "count   1.148616e+06  1148616  1148616  1148616  \n",
       "unique           NaN        8        5       10  \n",
       "top              NaN    50-59       AS    Sales  \n",
       "freq             NaN   277322   346480   230983  \n",
       "mean    2.674443e+00      NaN      NaN      NaN  \n",
       "std     6.217854e+00      NaN      NaN      NaN  \n",
       "min     1.000000e+00      NaN      NaN      NaN  \n",
       "25%     1.000000e+00      NaN      NaN      NaN  \n",
       "50%     1.000000e+00      NaN      NaN      NaN  \n",
       "75%     1.000000e+00      NaN      NaN      NaN  \n",
       "max     1.000000e+02      NaN      NaN      NaN  "
      ]
     },
     "execution_count": 51,
     "metadata": {},
     "output_type": "execute_result"
    }
   ],
   "source": [
    "group_test.describe(include = 'all')"
   ]
  },
  {
   "cell_type": "code",
   "execution_count": 52,
   "metadata": {},
   "outputs": [
    {
     "data": {
      "text/plain": [
       "SEX  JOB           \n",
       "1    Arts              59000.0\n",
       "     Business          80000.0\n",
       "     Healthcare        80000.0\n",
       "     Maintenance       41000.0\n",
       "     Military          40000.0\n",
       "     Production        42000.0\n",
       "     Sales             50000.0\n",
       "     Science           85000.0\n",
       "     Service           34000.0\n",
       "     Transportation    37000.0\n",
       "2    Arts              48000.0\n",
       "     Business          60000.0\n",
       "     Healthcare        60000.0\n",
       "     Maintenance       30000.0\n",
       "     Military          39000.0\n",
       "     Production        30000.0\n",
       "     Sales             36000.0\n",
       "     Science           70000.0\n",
       "     Service           24200.0\n",
       "     Transportation    28000.0\n",
       "Name: WAGP, dtype: float64"
      ]
     },
     "execution_count": 52,
     "metadata": {},
     "output_type": "execute_result"
    }
   ],
   "source": [
    "grouped_train = group_test.groupby(['SEX', 'JOB'])\n",
    "grouped_median_train = grouped_train.WAGP.median()\n",
    "\n",
    "grouped_median_train"
   ]
  },
  {
   "cell_type": "code",
   "execution_count": null,
   "metadata": {},
   "outputs": [],
   "source": []
  }
 ],
 "metadata": {
  "kernelspec": {
   "display_name": "py_36_env",
   "language": "python",
   "name": "py_36_env"
  },
  "language_info": {
   "codemirror_mode": {
    "name": "ipython",
    "version": 3
   },
   "file_extension": ".py",
   "mimetype": "text/x-python",
   "name": "python",
   "nbconvert_exporter": "python",
   "pygments_lexer": "ipython3",
   "version": "3.7.4"
  }
 },
 "nbformat": 4,
 "nbformat_minor": 2
}
