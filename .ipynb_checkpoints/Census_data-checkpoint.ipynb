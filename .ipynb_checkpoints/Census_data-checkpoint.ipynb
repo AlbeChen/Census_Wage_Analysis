{
 "cells": [
  {
   "cell_type": "code",
   "execution_count": 1,
   "metadata": {},
   "outputs": [],
   "source": [
    "# Importing\n",
    "import pandas as pd\n",
    "import seaborn as sns\n",
    "import matplotlib.pyplot as plt\n",
    "import numpy as np\n",
    "\n",
    "from sklearn.preprocessing import OneHotEncoder\n",
    "\n",
    "import statistics\n",
    "import glob\n",
    "import time"
   ]
  },
  {
   "cell_type": "code",
   "execution_count": 2,
   "metadata": {},
   "outputs": [
    {
     "name": "stdout",
     "output_type": "stream",
     "text": [
      "(18679015, 10)\n",
      " 3.55 min\n"
     ]
    }
   ],
   "source": [
    "years = list(r*2 for r in range(1004, 1010))\n",
    "PUS_start = pd.DataFrame()\n",
    "start_time = time.time()\n",
    "for year in years:\n",
    "    useful_cols = ['WAGP', 'SEX', 'AGEP', 'RAC1P',\n",
    "                   'SCHL', 'WKW', 'WKHP', 'OCCP', 'POWSP', 'ST']\n",
    "    path = ('data/%s' % year)\n",
    "    PUS_split = pd.concat([pd.read_csv(f, usecols=useful_cols)\n",
    "                           for f in glob.glob(path + \"/*.csv\")], ignore_index=True)\n",
    "    PUS_start = PUS_start.append(PUS_split)\n",
    "print(PUS_start.shape)\n",
    "print(\" %s min\" % round(((time.time() - start_time)/60), 2))"
   ]
  },
  {
   "cell_type": "code",
   "execution_count": 3,
   "metadata": {
    "scrolled": true
   },
   "outputs": [
    {
     "data": {
      "text/plain": [
       "Index(['ST', 'AGEP', 'SCHL', 'SEX', 'WAGP', 'WKHP', 'WKW', 'OCCP', 'POWSP',\n",
       "       'RAC1P'],\n",
       "      dtype='object')"
      ]
     },
     "execution_count": 3,
     "metadata": {},
     "output_type": "execute_result"
    }
   ],
   "source": [
    "PUS_start.columns"
   ]
  },
  {
   "cell_type": "code",
   "execution_count": 4,
   "metadata": {
    "scrolled": true
   },
   "outputs": [
    {
     "data": {
      "text/html": [
       "<div>\n",
       "<style scoped>\n",
       "    .dataframe tbody tr th:only-of-type {\n",
       "        vertical-align: middle;\n",
       "    }\n",
       "\n",
       "    .dataframe tbody tr th {\n",
       "        vertical-align: top;\n",
       "    }\n",
       "\n",
       "    .dataframe thead th {\n",
       "        text-align: right;\n",
       "    }\n",
       "</style>\n",
       "<table border=\"1\" class=\"dataframe\">\n",
       "  <thead>\n",
       "    <tr style=\"text-align: right;\">\n",
       "      <th></th>\n",
       "      <th>ST</th>\n",
       "      <th>AGEP</th>\n",
       "      <th>SCHL</th>\n",
       "      <th>SEX</th>\n",
       "      <th>WAGP</th>\n",
       "      <th>WKHP</th>\n",
       "      <th>WKW</th>\n",
       "      <th>OCCP</th>\n",
       "      <th>POWSP</th>\n",
       "      <th>RAC1P</th>\n",
       "    </tr>\n",
       "  </thead>\n",
       "  <tbody>\n",
       "    <tr>\n",
       "      <td>count</td>\n",
       "      <td>1.867902e+07</td>\n",
       "      <td>1.867902e+07</td>\n",
       "      <td>1.808252e+07</td>\n",
       "      <td>1.867902e+07</td>\n",
       "      <td>1.593322e+07</td>\n",
       "      <td>1.116149e+07</td>\n",
       "      <td>9.622696e+06</td>\n",
       "      <td>1.103743e+07</td>\n",
       "      <td>8.397553e+06</td>\n",
       "      <td>1.867902e+07</td>\n",
       "    </tr>\n",
       "    <tr>\n",
       "      <td>mean</td>\n",
       "      <td>2.765467e+01</td>\n",
       "      <td>4.056208e+01</td>\n",
       "      <td>1.585766e+01</td>\n",
       "      <td>1.512292e+00</td>\n",
       "      <td>2.566373e+04</td>\n",
       "      <td>3.284190e+01</td>\n",
       "      <td>1.899983e+00</td>\n",
       "      <td>4.340872e+03</td>\n",
       "      <td>2.800783e+01</td>\n",
       "      <td>1.860106e+00</td>\n",
       "    </tr>\n",
       "    <tr>\n",
       "      <td>std</td>\n",
       "      <td>1.603227e+01</td>\n",
       "      <td>2.352116e+01</td>\n",
       "      <td>5.660316e+00</td>\n",
       "      <td>4.998489e-01</td>\n",
       "      <td>4.782771e+04</td>\n",
       "      <td>1.798892e+01</td>\n",
       "      <td>1.631469e+00</td>\n",
       "      <td>2.620540e+03</td>\n",
       "      <td>1.795425e+01</td>\n",
       "      <td>2.067998e+00</td>\n",
       "    </tr>\n",
       "    <tr>\n",
       "      <td>min</td>\n",
       "      <td>1.000000e+00</td>\n",
       "      <td>0.000000e+00</td>\n",
       "      <td>1.000000e+00</td>\n",
       "      <td>1.000000e+00</td>\n",
       "      <td>0.000000e+00</td>\n",
       "      <td>0.000000e+00</td>\n",
       "      <td>1.000000e+00</td>\n",
       "      <td>1.000000e+01</td>\n",
       "      <td>1.000000e+00</td>\n",
       "      <td>1.000000e+00</td>\n",
       "    </tr>\n",
       "    <tr>\n",
       "      <td>25%</td>\n",
       "      <td>1.200000e+01</td>\n",
       "      <td>2.000000e+01</td>\n",
       "      <td>1.400000e+01</td>\n",
       "      <td>1.000000e+00</td>\n",
       "      <td>0.000000e+00</td>\n",
       "      <td>2.000000e+01</td>\n",
       "      <td>1.000000e+00</td>\n",
       "      <td>2.310000e+03</td>\n",
       "      <td>1.200000e+01</td>\n",
       "      <td>1.000000e+00</td>\n",
       "    </tr>\n",
       "    <tr>\n",
       "      <td>50%</td>\n",
       "      <td>2.700000e+01</td>\n",
       "      <td>4.100000e+01</td>\n",
       "      <td>1.700000e+01</td>\n",
       "      <td>2.000000e+00</td>\n",
       "      <td>5.000000e+03</td>\n",
       "      <td>4.000000e+01</td>\n",
       "      <td>1.000000e+00</td>\n",
       "      <td>4.400000e+03</td>\n",
       "      <td>2.700000e+01</td>\n",
       "      <td>1.000000e+00</td>\n",
       "    </tr>\n",
       "    <tr>\n",
       "      <td>75%</td>\n",
       "      <td>4.200000e+01</td>\n",
       "      <td>5.900000e+01</td>\n",
       "      <td>2.000000e+01</td>\n",
       "      <td>2.000000e+00</td>\n",
       "      <td>3.600000e+04</td>\n",
       "      <td>4.000000e+01</td>\n",
       "      <td>2.000000e+00</td>\n",
       "      <td>5.740000e+03</td>\n",
       "      <td>4.200000e+01</td>\n",
       "      <td>1.000000e+00</td>\n",
       "    </tr>\n",
       "    <tr>\n",
       "      <td>max</td>\n",
       "      <td>5.600000e+01</td>\n",
       "      <td>9.600000e+01</td>\n",
       "      <td>2.400000e+01</td>\n",
       "      <td>2.000000e+00</td>\n",
       "      <td>7.180000e+05</td>\n",
       "      <td>9.900000e+01</td>\n",
       "      <td>6.000000e+00</td>\n",
       "      <td>9.920000e+03</td>\n",
       "      <td>5.550000e+02</td>\n",
       "      <td>9.000000e+00</td>\n",
       "    </tr>\n",
       "  </tbody>\n",
       "</table>\n",
       "</div>"
      ],
      "text/plain": [
       "                 ST          AGEP          SCHL           SEX          WAGP  \\\n",
       "count  1.867902e+07  1.867902e+07  1.808252e+07  1.867902e+07  1.593322e+07   \n",
       "mean   2.765467e+01  4.056208e+01  1.585766e+01  1.512292e+00  2.566373e+04   \n",
       "std    1.603227e+01  2.352116e+01  5.660316e+00  4.998489e-01  4.782771e+04   \n",
       "min    1.000000e+00  0.000000e+00  1.000000e+00  1.000000e+00  0.000000e+00   \n",
       "25%    1.200000e+01  2.000000e+01  1.400000e+01  1.000000e+00  0.000000e+00   \n",
       "50%    2.700000e+01  4.100000e+01  1.700000e+01  2.000000e+00  5.000000e+03   \n",
       "75%    4.200000e+01  5.900000e+01  2.000000e+01  2.000000e+00  3.600000e+04   \n",
       "max    5.600000e+01  9.600000e+01  2.400000e+01  2.000000e+00  7.180000e+05   \n",
       "\n",
       "               WKHP           WKW          OCCP         POWSP         RAC1P  \n",
       "count  1.116149e+07  9.622696e+06  1.103743e+07  8.397553e+06  1.867902e+07  \n",
       "mean   3.284190e+01  1.899983e+00  4.340872e+03  2.800783e+01  1.860106e+00  \n",
       "std    1.798892e+01  1.631469e+00  2.620540e+03  1.795425e+01  2.067998e+00  \n",
       "min    0.000000e+00  1.000000e+00  1.000000e+01  1.000000e+00  1.000000e+00  \n",
       "25%    2.000000e+01  1.000000e+00  2.310000e+03  1.200000e+01  1.000000e+00  \n",
       "50%    4.000000e+01  1.000000e+00  4.400000e+03  2.700000e+01  1.000000e+00  \n",
       "75%    4.000000e+01  2.000000e+00  5.740000e+03  4.200000e+01  1.000000e+00  \n",
       "max    9.900000e+01  6.000000e+00  9.920000e+03  5.550000e+02  9.000000e+00  "
      ]
     },
     "execution_count": 4,
     "metadata": {},
     "output_type": "execute_result"
    }
   ],
   "source": [
    "PUS_start.describe(include='all')"
   ]
  },
  {
   "cell_type": "code",
   "execution_count": 5,
   "metadata": {},
   "outputs": [
    {
     "data": {
      "image/png": "[encoded data removed]",
      "text/plain": [
       "<Figure size 432x288 with 1 Axes>"
      ]
     },
     "metadata": {
      "needs_background": "light"
     },
     "output_type": "display_data"
    }
   ],
   "source": [
    "g = sns.kdeplot(\n",
    "    PUS_start[\"AGEP\"][(PUS_start[\"SEX\"] == 1) & (PUS_start[\"AGEP\"].notnull())])\n",
    "g = sns.kdeplot(\n",
    "    PUS_start[\"AGEP\"][(PUS_start[\"SEX\"] == 2) & (PUS_start[\"AGEP\"].notnull())])\n",
    "g.set_xlabel(\"Age\")\n",
    "g.set_ylabel(\"Frequency\")\n",
    "g = g.legend([\"Male\", \"Female\"])"
   ]
  },
  {
   "cell_type": "code",
   "execution_count": 6,
   "metadata": {},
   "outputs": [
    {
     "data": {
      "text/plain": [
       "Text(0, 0.5, 'Frequency')"
      ]
     },
     "execution_count": 6,
     "metadata": {},
     "output_type": "execute_result"
    },
    {
     "data": {
      "image/png": "[encoded data removed]",
      "text/plain": [
       "<Figure size 432x288 with 1 Axes>"
      ]
     },
     "metadata": {
      "needs_background": "light"
     },
     "output_type": "display_data"
    }
   ],
   "source": [
    "g = sns.kdeplot(PUS_start[\"WAGP\"]\n",
    "                [(PUS_start[\"WAGP\"] > 0) & (PUS_start[\"AGEP\"] > 18)])\n",
    "g.set_xlabel(\"Wage\")\n",
    "g.set_ylabel(\"Frequency\")"
   ]
  },
  {
   "cell_type": "markdown",
   "metadata": {},
   "source": [
    "#### Full-Time Detection"
   ]
  },
  {
   "cell_type": "code",
   "execution_count": 7,
   "metadata": {},
   "outputs": [
    {
     "data": {
      "image/png": "[encoded data removed]",
      "text/plain": [
       "<Figure size 432x288 with 1 Axes>"
      ]
     },
     "metadata": {
      "needs_background": "light"
     },
     "output_type": "display_data"
    }
   ],
   "source": [
    "g = sns.distplot(PUS_start[\"WAGP\"][(PUS_start[\"WAGP\"] > 0) & (\n",
    "    PUS_start[\"WKW\"] < 4) & (PUS_start[\"WKHP\"] >= 40)], kde=False)\n",
    "g = sns.distplot(PUS_start[\"WAGP\"][(PUS_start[\"WAGP\"] > 0)], kde=False)"
   ]
  },
  {
   "cell_type": "code",
   "execution_count": 8,
   "metadata": {},
   "outputs": [],
   "source": [
    "# define function to seperate people who've worked more than 40 weeks / year\n",
    "def full_time_detect(df):\n",
    "    # remove rows of people who work under 40 weeks in a year\n",
    "    df = df.loc[df.WKW < 4].copy()\n",
    "    # remove rows of people who work under 35 hours a week\n",
    "    df = df.loc[df.WKHP >= 40].copy()\n",
    "    # remove rows of people below 18 and above 70\n",
    "    df = df.loc[df.AGEP >= 18].copy()\n",
    "    df = df.loc[df.AGEP <= 70].copy()\n",
    "    return df"
   ]
  },
  {
   "cell_type": "code",
   "execution_count": 9,
   "metadata": {
    "scrolled": false
   },
   "outputs": [
    {
     "name": "stdout",
     "output_type": "stream",
     "text": [
      "(5846161, 10)\n"
     ]
    },
    {
     "data": {
      "text/html": [
       "<div>\n",
       "<style scoped>\n",
       "    .dataframe tbody tr th:only-of-type {\n",
       "        vertical-align: middle;\n",
       "    }\n",
       "\n",
       "    .dataframe tbody tr th {\n",
       "        vertical-align: top;\n",
       "    }\n",
       "\n",
       "    .dataframe thead th {\n",
       "        text-align: right;\n",
       "    }\n",
       "</style>\n",
       "<table border=\"1\" class=\"dataframe\">\n",
       "  <thead>\n",
       "    <tr style=\"text-align: right;\">\n",
       "      <th></th>\n",
       "      <th>ST</th>\n",
       "      <th>AGEP</th>\n",
       "      <th>SCHL</th>\n",
       "      <th>SEX</th>\n",
       "      <th>WAGP</th>\n",
       "      <th>WKHP</th>\n",
       "      <th>WKW</th>\n",
       "      <th>OCCP</th>\n",
       "      <th>POWSP</th>\n",
       "      <th>RAC1P</th>\n",
       "    </tr>\n",
       "  </thead>\n",
       "  <tbody>\n",
       "    <tr>\n",
       "      <td>count</td>\n",
       "      <td>5.846161e+06</td>\n",
       "      <td>5.846161e+06</td>\n",
       "      <td>5.846161e+06</td>\n",
       "      <td>5.846161e+06</td>\n",
       "      <td>5.846161e+06</td>\n",
       "      <td>5.846161e+06</td>\n",
       "      <td>5.846161e+06</td>\n",
       "      <td>5.846161e+06</td>\n",
       "      <td>5.647557e+06</td>\n",
       "      <td>5.846161e+06</td>\n",
       "    </tr>\n",
       "    <tr>\n",
       "      <td>mean</td>\n",
       "      <td>2.787622e+01</td>\n",
       "      <td>4.385487e+01</td>\n",
       "      <td>1.873673e+01</td>\n",
       "      <td>1.413947e+00</td>\n",
       "      <td>5.843044e+04</td>\n",
       "      <td>4.488755e+01</td>\n",
       "      <td>1.115200e+00</td>\n",
       "      <td>4.093568e+03</td>\n",
       "      <td>2.806349e+01</td>\n",
       "      <td>1.791773e+00</td>\n",
       "    </tr>\n",
       "    <tr>\n",
       "      <td>std</td>\n",
       "      <td>1.605529e+01</td>\n",
       "      <td>1.231265e+01</td>\n",
       "      <td>3.244341e+00</td>\n",
       "      <td>4.925393e-01</td>\n",
       "      <td>6.141013e+04</td>\n",
       "      <td>8.354993e+00</td>\n",
       "      <td>4.450364e-01</td>\n",
       "      <td>2.780989e+03</td>\n",
       "      <td>1.825576e+01</td>\n",
       "      <td>1.973206e+00</td>\n",
       "    </tr>\n",
       "    <tr>\n",
       "      <td>min</td>\n",
       "      <td>1.000000e+00</td>\n",
       "      <td>1.800000e+01</td>\n",
       "      <td>1.000000e+00</td>\n",
       "      <td>1.000000e+00</td>\n",
       "      <td>0.000000e+00</td>\n",
       "      <td>4.000000e+01</td>\n",
       "      <td>1.000000e+00</td>\n",
       "      <td>1.000000e+01</td>\n",
       "      <td>1.000000e+00</td>\n",
       "      <td>1.000000e+00</td>\n",
       "    </tr>\n",
       "    <tr>\n",
       "      <td>25%</td>\n",
       "      <td>1.200000e+01</td>\n",
       "      <td>3.400000e+01</td>\n",
       "      <td>1.600000e+01</td>\n",
       "      <td>1.000000e+00</td>\n",
       "      <td>2.700000e+04</td>\n",
       "      <td>4.000000e+01</td>\n",
       "      <td>1.000000e+00</td>\n",
       "      <td>1.550000e+03</td>\n",
       "      <td>1.200000e+01</td>\n",
       "      <td>1.000000e+00</td>\n",
       "    </tr>\n",
       "    <tr>\n",
       "      <td>50%</td>\n",
       "      <td>2.700000e+01</td>\n",
       "      <td>4.400000e+01</td>\n",
       "      <td>1.900000e+01</td>\n",
       "      <td>1.000000e+00</td>\n",
       "      <td>4.400000e+04</td>\n",
       "      <td>4.000000e+01</td>\n",
       "      <td>1.000000e+00</td>\n",
       "      <td>4.220000e+03</td>\n",
       "      <td>2.700000e+01</td>\n",
       "      <td>1.000000e+00</td>\n",
       "    </tr>\n",
       "    <tr>\n",
       "      <td>75%</td>\n",
       "      <td>4.200000e+01</td>\n",
       "      <td>5.400000e+01</td>\n",
       "      <td>2.100000e+01</td>\n",
       "      <td>2.000000e+00</td>\n",
       "      <td>7.000000e+04</td>\n",
       "      <td>5.000000e+01</td>\n",
       "      <td>1.000000e+00</td>\n",
       "      <td>5.860000e+03</td>\n",
       "      <td>4.200000e+01</td>\n",
       "      <td>1.000000e+00</td>\n",
       "    </tr>\n",
       "    <tr>\n",
       "      <td>max</td>\n",
       "      <td>5.600000e+01</td>\n",
       "      <td>7.000000e+01</td>\n",
       "      <td>2.400000e+01</td>\n",
       "      <td>2.000000e+00</td>\n",
       "      <td>7.180000e+05</td>\n",
       "      <td>9.900000e+01</td>\n",
       "      <td>3.000000e+00</td>\n",
       "      <td>9.830000e+03</td>\n",
       "      <td>5.550000e+02</td>\n",
       "      <td>9.000000e+00</td>\n",
       "    </tr>\n",
       "  </tbody>\n",
       "</table>\n",
       "</div>"
      ],
      "text/plain": [
       "                 ST          AGEP          SCHL           SEX          WAGP  \\\n",
       "count  5.846161e+06  5.846161e+06  5.846161e+06  5.846161e+06  5.846161e+06   \n",
       "mean   2.787622e+01  4.385487e+01  1.873673e+01  1.413947e+00  5.843044e+04   \n",
       "std    1.605529e+01  1.231265e+01  3.244341e+00  4.925393e-01  6.141013e+04   \n",
       "min    1.000000e+00  1.800000e+01  1.000000e+00  1.000000e+00  0.000000e+00   \n",
       "25%    1.200000e+01  3.400000e+01  1.600000e+01  1.000000e+00  2.700000e+04   \n",
       "50%    2.700000e+01  4.400000e+01  1.900000e+01  1.000000e+00  4.400000e+04   \n",
       "75%    4.200000e+01  5.400000e+01  2.100000e+01  2.000000e+00  7.000000e+04   \n",
       "max    5.600000e+01  7.000000e+01  2.400000e+01  2.000000e+00  7.180000e+05   \n",
       "\n",
       "               WKHP           WKW          OCCP         POWSP         RAC1P  \n",
       "count  5.846161e+06  5.846161e+06  5.846161e+06  5.647557e+06  5.846161e+06  \n",
       "mean   4.488755e+01  1.115200e+00  4.093568e+03  2.806349e+01  1.791773e+00  \n",
       "std    8.354993e+00  4.450364e-01  2.780989e+03  1.825576e+01  1.973206e+00  \n",
       "min    4.000000e+01  1.000000e+00  1.000000e+01  1.000000e+00  1.000000e+00  \n",
       "25%    4.000000e+01  1.000000e+00  1.550000e+03  1.200000e+01  1.000000e+00  \n",
       "50%    4.000000e+01  1.000000e+00  4.220000e+03  2.700000e+01  1.000000e+00  \n",
       "75%    5.000000e+01  1.000000e+00  5.860000e+03  4.200000e+01  1.000000e+00  \n",
       "max    9.900000e+01  3.000000e+00  9.830000e+03  5.550000e+02  9.000000e+00  "
      ]
     },
     "execution_count": 9,
     "metadata": {},
     "output_type": "execute_result"
    }
   ],
   "source": [
    "ft_test = PUS_start.copy()\n",
    "ft_test = full_time_detect(ft_test)\n",
    "print(ft_test.shape)\n",
    "ft_test.describe()"
   ]
  },
  {
   "cell_type": "code",
   "execution_count": 10,
   "metadata": {},
   "outputs": [
    {
     "data": {
      "image/png": "[encoded data removed]",
      "text/plain": [
       "<Figure size 720x360 with 1 Axes>"
      ]
     },
     "metadata": {
      "needs_background": "light"
     },
     "output_type": "display_data"
    }
   ],
   "source": [
    "g = sns.catplot(y=\"WKHP\", x=\"SEX\", data=ft_test, kind=\"box\", aspect=2)"
   ]
  },
  {
   "cell_type": "code",
   "execution_count": 11,
   "metadata": {},
   "outputs": [
    {
     "data": {
      "text/plain": [
       "<seaborn.axisgrid.FacetGrid at 0x214825c4708>"
      ]
     },
     "execution_count": 11,
     "metadata": {},
     "output_type": "execute_result"
    },
    {
     "data": {
      "image/png": "[encoded data removed]",
      "text/plain": [
       "<Figure size 1260x360 with 1 Axes>"
      ]
     },
     "metadata": {
      "needs_background": "light"
     },
     "output_type": "display_data"
    }
   ],
   "source": [
    "g = sns.catplot(y=\"WAGP\", x=\"WKHP\", data=ft_test, kind=\"box\", aspect=3.5)\n",
    "g.set(ylim=(0, 175000))"
   ]
  },
  {
   "cell_type": "markdown",
   "metadata": {},
   "source": [
    "### Outlier"
   ]
  },
  {
   "cell_type": "code",
   "execution_count": 12,
   "metadata": {},
   "outputs": [
    {
     "data": {
      "image/png": "[encoded data removed]",
      "text/plain": [
       "<Figure size 432x288 with 1 Axes>"
      ]
     },
     "metadata": {
      "needs_background": "light"
     },
     "output_type": "display_data"
    }
   ],
   "source": [
    "ax = sns.boxplot(x=ft_test[\"WAGP\"])"
   ]
  },
  {
   "cell_type": "code",
   "execution_count": 13,
   "metadata": {},
   "outputs": [
    {
     "name": "stdout",
     "output_type": "stream",
     "text": [
      "Wage IQR:  43000.0  Upper:  199000.0  Lower:  -102000.0\n"
     ]
    }
   ],
   "source": [
    "test_wage_IQR = np.percentile(ft_test.WAGP, 75) - \\\n",
    "    np.percentile(ft_test.WAGP, 25)\n",
    "test_wage_upper = np.percentile(ft_test.WAGP, 75) + test_wage_IQR*3\n",
    "test_wage_lower = np.percentile(ft_test.WAGP, 25) - test_wage_IQR*3\n",
    "print(\"Wage IQR: \", test_wage_IQR, \" Upper: \",\n",
    "      test_wage_upper, \" Lower: \", test_wage_lower)"
   ]
  },
  {
   "cell_type": "code",
   "execution_count": 14,
   "metadata": {},
   "outputs": [],
   "source": [
    "def outlier_wage(df):\n",
    "    # remove rows of outlier upper wages and below poverty $\n",
    "    wage_IQR = np.percentile(df.WAGP, 75) - np.percentile(df.WAGP, 25)\n",
    "    wage_upper = np.percentile(df.WAGP, 75) + wage_IQR*3\n",
    "    df = df.loc[df.WAGP >= 12500].copy()\n",
    "    df = df.loc[df.WAGP <= wage_upper].copy()\n",
    "    return df"
   ]
  },
  {
   "cell_type": "code",
   "execution_count": 15,
   "metadata": {},
   "outputs": [
    {
     "name": "stdout",
     "output_type": "stream",
     "text": [
      "(5216628, 10)\n"
     ]
    }
   ],
   "source": [
    "outlier_test = ft_test.copy()\n",
    "outlier_test = outlier_wage(outlier_test)\n",
    "print(outlier_test.shape)"
   ]
  },
  {
   "cell_type": "markdown",
   "metadata": {},
   "source": [
    "##### Age Bins"
   ]
  },
  {
   "cell_type": "code",
   "execution_count": 16,
   "metadata": {
    "scrolled": false
   },
   "outputs": [
    {
     "data": {
      "text/plain": [
       "<seaborn.axisgrid.FacetGrid at 0x21482249b88>"
      ]
     },
     "execution_count": 16,
     "metadata": {},
     "output_type": "execute_result"
    },
    {
     "data": {
      "image/png": "[encoded data removed]",
      "text/plain": [
       "<Figure size 1260x360 with 1 Axes>"
      ]
     },
     "metadata": {
      "needs_background": "light"
     },
     "output_type": "display_data"
    }
   ],
   "source": [
    "g = sns.catplot(y=\"WAGP\", x=\"AGEP\", data=outlier_test, kind=\"box\", aspect=3.5)\n",
    "g.set(ylim=(0, 175000))"
   ]
  },
  {
   "cell_type": "code",
   "execution_count": 17,
   "metadata": {},
   "outputs": [],
   "source": [
    "def age_bins(df):\n",
    "    df['AGEB'] = df['AGEP'].map(lambda y: 1 if y <= 25  # 18-25\n",
    "                                else 2 if y <= 35  # 26-35\n",
    "                                else 3 if y <= 45  # 36-45\n",
    "                                else 4 if y <= 65  # 46-65\n",
    "                                else 3 if y <= 70  # 60-70\n",
    "                                else 6)  # +70\n",
    "    return df"
   ]
  },
  {
   "cell_type": "code",
   "execution_count": 18,
   "metadata": {},
   "outputs": [],
   "source": [
    "age_test = outlier_test.copy()\n",
    "age_test.sort_values(by=['AGEP'], ascending=True, inplace=True)"
   ]
  },
  {
   "cell_type": "code",
   "execution_count": 19,
   "metadata": {},
   "outputs": [
    {
     "name": "stdout",
     "output_type": "stream",
     "text": [
      "Age : [1 2 3 4]\n"
     ]
    }
   ],
   "source": [
    "age_bins(age_test)\n",
    "print(\"Age :\", age_test.AGEB.unique())"
   ]
  },
  {
   "cell_type": "code",
   "execution_count": 20,
   "metadata": {
    "scrolled": false
   },
   "outputs": [
    {
     "data": {
      "text/plain": [
       "<seaborn.axisgrid.FacetGrid at 0x2148238e688>"
      ]
     },
     "execution_count": 20,
     "metadata": {},
     "output_type": "execute_result"
    },
    {
     "data": {
      "image/png": "[encoded data removed]",
      "text/plain": [
       "<Figure size 720x360 with 1 Axes>"
      ]
     },
     "metadata": {
      "needs_background": "light"
     },
     "output_type": "display_data"
    }
   ],
   "source": [
    "g = sns.catplot(y=\"WAGP\", x=\"AGEB\", data=age_test, kind=\"box\", aspect=2)\n",
    "g.set(ylim=(0, 175000))"
   ]
  },
  {
   "cell_type": "code",
   "execution_count": 21,
   "metadata": {},
   "outputs": [
    {
     "data": {
      "text/plain": [
       "4    2326233\n",
       "3    1345201\n",
       "2    1158316\n",
       "1     386878\n",
       "Name: AGEB, dtype: int64"
      ]
     },
     "execution_count": 21,
     "metadata": {},
     "output_type": "execute_result"
    }
   ],
   "source": [
    "age_test['AGEB'].value_counts()"
   ]
  },
  {
   "cell_type": "code",
   "execution_count": 22,
   "metadata": {
    "scrolled": true
   },
   "outputs": [
    {
     "data": {
      "text/plain": [
       "<seaborn.axisgrid.FacetGrid at 0x21482392288>"
      ]
     },
     "execution_count": 22,
     "metadata": {},
     "output_type": "execute_result"
    },
    {
     "data": {
      "image/png": "[encoded data removed]",
      "text/plain": [
       "<Figure size 906.375x288 with 1 Axes>"
      ]
     },
     "metadata": {
      "needs_background": "light"
     },
     "output_type": "display_data"
    }
   ],
   "source": [
    "g = sns.catplot(y=\"WAGP\", x=\"AGEB\", data=age_test,\n",
    "                kind=\"box\", height=4, aspect=3, hue=\"SEX\")\n",
    "g.set(ylim=(0, 200000))"
   ]
  },
  {
   "cell_type": "markdown",
   "metadata": {},
   "source": [
    "#### Education Split\n",
    "- NH: No High-school Degree\n",
    "- HS: Highschool Diploma (or GED)\n",
    "- SC: Some College\n",
    "- AS: Associate's degree\n",
    "- BS: Bachelor's degree\n",
    "- GD: Graduate Degree\n",
    "- DR: Doctorate Degree"
   ]
  },
  {
   "cell_type": "code",
   "execution_count": 23,
   "metadata": {},
   "outputs": [
    {
     "data": {
      "text/plain": [
       "<seaborn.axisgrid.FacetGrid at 0x21481d9d608>"
      ]
     },
     "execution_count": 23,
     "metadata": {},
     "output_type": "execute_result"
    },
    {
     "data": {
      "image/png": "[encoded data removed]",
      "text/plain": [
       "<Figure size 720x360 with 1 Axes>"
      ]
     },
     "metadata": {
      "needs_background": "light"
     },
     "output_type": "display_data"
    }
   ],
   "source": [
    "g = sns.catplot(y=\"WAGP\", x=\"SCHL\", data=age_test, kind=\"box\", aspect=2)\n",
    "g.set(ylim=(0, 175000))"
   ]
  },
  {
   "cell_type": "code",
   "execution_count": 24,
   "metadata": {},
   "outputs": [],
   "source": [
    "def edu_split(df):\n",
    "    # split into degrees\n",
    "    df['EDU'] = df['SCHL'].map(lambda y: 1 if y <= 15  # didn't finish HS\n",
    "                               else 1 if y <= 17  # HS degree\n",
    "                               else 2 if y <= 19  # some college\n",
    "                               else 2 if y == 20  # AS\n",
    "                               else 3 if y == 21  # BS\n",
    "                               else 4 if y == 22  # MS\n",
    "                               else 5 if y <= 24  # GS\n",
    "                               else 7)\n",
    "    return df"
   ]
  },
  {
   "cell_type": "code",
   "execution_count": 25,
   "metadata": {},
   "outputs": [
    {
     "name": "stdout",
     "output_type": "stream",
     "text": [
      "Edu : [1 2 3 4 5]\n"
     ]
    }
   ],
   "source": [
    "edu_test = age_test.copy()\n",
    "edu_test = edu_split(edu_test)\n",
    "print(\"Edu :\", edu_test.EDU.unique())"
   ]
  },
  {
   "cell_type": "code",
   "execution_count": 26,
   "metadata": {},
   "outputs": [],
   "source": [
    "edu_sort = edu_test.groupby('EDU').median(\n",
    ").sort_values(by=['WAGP']).reset_index()\n",
    "edu_list = edu_sort['EDU'].tolist()"
   ]
  },
  {
   "cell_type": "code",
   "execution_count": 27,
   "metadata": {
    "scrolled": false
   },
   "outputs": [
    {
     "data": {
      "text/plain": [
       "<seaborn.axisgrid.FacetGrid at 0x2148426f188>"
      ]
     },
     "execution_count": 27,
     "metadata": {},
     "output_type": "execute_result"
    },
    {
     "data": {
      "image/png": "[encoded data removed]",
      "text/plain": [
       "<Figure size 720x360 with 1 Axes>"
      ]
     },
     "metadata": {
      "needs_background": "light"
     },
     "output_type": "display_data"
    }
   ],
   "source": [
    "g = sns.catplot(y=\"WAGP\", x=\"EDU\", data=edu_test,\n",
    "                kind=\"box\", aspect=2, order=edu_list)\n",
    "g.set(ylim=(0, 250000))"
   ]
  },
  {
   "cell_type": "code",
   "execution_count": 28,
   "metadata": {},
   "outputs": [
    {
     "data": {
      "text/plain": [
       "<seaborn.axisgrid.FacetGrid at 0x21484647b08>"
      ]
     },
     "execution_count": 28,
     "metadata": {},
     "output_type": "execute_result"
    },
    {
     "data": {
      "image/png": "[encoded data removed]",
      "text/plain": [
       "<Figure size 906.375x288 with 1 Axes>"
      ]
     },
     "metadata": {
      "needs_background": "light"
     },
     "output_type": "display_data"
    }
   ],
   "source": [
    "g = sns.catplot(y=\"WAGP\", x=\"EDU\", data=edu_test, kind=\"box\",\n",
    "                height=4, aspect=3, hue=\"SEX\", order=edu_list)\n",
    "g.set(ylim=(0, 200000))"
   ]
  },
  {
   "cell_type": "code",
   "execution_count": 29,
   "metadata": {},
   "outputs": [
    {
     "data": {
      "text/plain": [
       "2    1638229\n",
       "1    1611000\n",
       "3    1230774\n",
       "4     539844\n",
       "5     196781\n",
       "Name: EDU, dtype: int64"
      ]
     },
     "execution_count": 29,
     "metadata": {},
     "output_type": "execute_result"
    }
   ],
   "source": [
    "edu_test['EDU'].value_counts()"
   ]
  },
  {
   "cell_type": "markdown",
   "metadata": {},
   "source": [
    "#### Occupation Split\n",
    "- 0010-0960: Management, Business, and Financial Occupations\n",
    "- 1005-1980: Computer, Engineering, and Science Occupations\n",
    "- 2001-2970: Education, Legal, Community Service, Arts, and Media Occupations\n",
    "- 3000-3550: Healthcare Practitioners and Technical Occupations\n",
    "- 3601-4655: Service Occupations\n",
    "- 4700-5940: Sales and Office Occupations\n",
    "- 6005-7640: Natural Resources, Construction, and Maintenance Occupations\n",
    "- 7700-8990: Production Occupations\n",
    "- 9005-9760: Transportation and Material Moving Occupations\n",
    "- 9800-9830: Military Specific Occupations"
   ]
  },
  {
   "cell_type": "code",
   "execution_count": 30,
   "metadata": {},
   "outputs": [],
   "source": [
    "def int_occ_split(df):\n",
    "    # split into occupational industries\n",
    "    df['JOB'] = df['OCCP'].map(lambda y: \"Business\" if y <= 960\n",
    "                               else \"Science\" if y <= 1980\n",
    "                               else \"Arts\" if y <= 2970\n",
    "                               else \"Healthcare\" if y <= 3550\n",
    "                               else \"Service\" if y <= 4655\n",
    "                               else \"Sales\" if y <= 5940\n",
    "                               else \"Maintenance\" if y <= 7640\n",
    "                               else \"Production\" if y <= 8990\n",
    "                               else \"Transportation\" if y <= 9760\n",
    "                               else \"Military\" if y <= 9830\n",
    "                               else \"UN\")\n",
    "    return df"
   ]
  },
  {
   "cell_type": "code",
   "execution_count": 31,
   "metadata": {},
   "outputs": [
    {
     "name": "stdout",
     "output_type": "stream",
     "text": [
      "Occ : ['Maintenance' 'Service' 'Business' 'Sales' 'Science' 'Production'\n",
      " 'Transportation' 'Healthcare' 'Arts' 'Military']\n"
     ]
    }
   ],
   "source": [
    "int_occ_test = edu_test.copy()\n",
    "int_occ_test = int_occ_split(int_occ_test)\n",
    "print(\"Occ :\", int_occ_test.JOB.unique())"
   ]
  },
  {
   "cell_type": "code",
   "execution_count": 32,
   "metadata": {},
   "outputs": [],
   "source": [
    "int_occ_sort = int_occ_test.groupby(\n",
    "    'JOB').median().sort_values(by=['WAGP']).reset_index()\n",
    "int_occ_list = int_occ_sort['JOB'].tolist()"
   ]
  },
  {
   "cell_type": "code",
   "execution_count": 33,
   "metadata": {},
   "outputs": [
    {
     "data": {
      "text/plain": [
       "<seaborn.axisgrid.FacetGrid at 0x21481b00208>"
      ]
     },
     "execution_count": 33,
     "metadata": {},
     "output_type": "execute_result"
    },
    {
     "data": {
      "image/png": "[encoded data removed]",
      "text/plain": [
       "<Figure size 720x360 with 1 Axes>"
      ]
     },
     "metadata": {
      "needs_background": "light"
     },
     "output_type": "display_data"
    }
   ],
   "source": [
    "g = sns.catplot(y=\"WAGP\", x=\"JOB\", data=int_occ_test,\n",
    "                kind=\"box\", aspect=2, order=int_occ_list)\n",
    "g.set(ylim=(0, 175000))"
   ]
  },
  {
   "cell_type": "code",
   "execution_count": 34,
   "metadata": {},
   "outputs": [
    {
     "data": {
      "text/plain": [
       "<seaborn.axisgrid.FacetGrid at 0x2148a1fec48>"
      ]
     },
     "execution_count": 34,
     "metadata": {},
     "output_type": "execute_result"
    },
    {
     "data": {
      "image/png": "[encoded data removed]",
      "text/plain": [
       "<Figure size 906.375x288 with 1 Axes>"
      ]
     },
     "metadata": {
      "needs_background": "light"
     },
     "output_type": "display_data"
    }
   ],
   "source": [
    "g = sns.catplot(y=\"WAGP\", x=\"JOB\", data=int_occ_test, kind=\"box\",\n",
    "                height=4, aspect=3, hue=\"SEX\", order=int_occ_list)\n",
    "g.set(ylim=(0, 175000))"
   ]
  },
  {
   "cell_type": "code",
   "execution_count": 35,
   "metadata": {},
   "outputs": [
    {
     "data": {
      "text/plain": [
       "Sales             1159118\n",
       "Business           966283\n",
       "Arts               576643\n",
       "Service            575590\n",
       "Maintenance        525319\n",
       "Science            395275\n",
       "Production         386662\n",
       "Transportation     329590\n",
       "Healthcare         274677\n",
       "Military            27471\n",
       "Name: JOB, dtype: int64"
      ]
     },
     "execution_count": 35,
     "metadata": {},
     "output_type": "execute_result"
    }
   ],
   "source": [
    "int_occ_test['JOB'].value_counts()"
   ]
  },
  {
   "cell_type": "code",
   "execution_count": 36,
   "metadata": {},
   "outputs": [],
   "source": [
    "def occ_split(df):\n",
    "    # split into occupational industries\n",
    "    df['JOB'] = df['OCCP'].map(lambda y: 4 if y <= 960  # Business\n",
    "                               else 4 if y <= 1980  # Science\n",
    "                               else 3 if y <= 2970  # Arts\n",
    "                               else 3 if y <= 3550  # Healthcare\n",
    "                               else 1 if y <= 4655  # Service\n",
    "                               else 2 if y <= 5940  # Sales\n",
    "                               else 2 if y <= 7640  # Maintenance\n",
    "                               else 1 if y <= 8990  # Production\n",
    "                               else 1 if y <= 9760  # Transportation\n",
    "                               else 2 if y <= 9830  # Military\n",
    "                               else 6)  # Undefined\n",
    "    return df"
   ]
  },
  {
   "cell_type": "code",
   "execution_count": 37,
   "metadata": {},
   "outputs": [
    {
     "name": "stdout",
     "output_type": "stream",
     "text": [
      "Occ : [2 1 4 3]\n"
     ]
    }
   ],
   "source": [
    "occ_test = edu_test.copy()\n",
    "occ_test = occ_split(occ_test)\n",
    "print(\"Occ :\", occ_test.JOB.unique())"
   ]
  },
  {
   "cell_type": "code",
   "execution_count": 38,
   "metadata": {},
   "outputs": [
    {
     "data": {
      "text/plain": [
       "2    1711908\n",
       "4    1361558\n",
       "1    1291842\n",
       "3     851320\n",
       "Name: JOB, dtype: int64"
      ]
     },
     "execution_count": 38,
     "metadata": {},
     "output_type": "execute_result"
    }
   ],
   "source": [
    "occ_test['JOB'].value_counts()"
   ]
  },
  {
   "cell_type": "code",
   "execution_count": 39,
   "metadata": {},
   "outputs": [],
   "source": [
    "occ_sort = occ_test.groupby('JOB').median(\n",
    ").sort_values(by=['WAGP']).reset_index()\n",
    "occ_list = occ_sort['JOB'].tolist()"
   ]
  },
  {
   "cell_type": "code",
   "execution_count": 40,
   "metadata": {},
   "outputs": [
    {
     "data": {
      "text/plain": [
       "<seaborn.axisgrid.FacetGrid at 0x21481da5248>"
      ]
     },
     "execution_count": 40,
     "metadata": {},
     "output_type": "execute_result"
    },
    {
     "data": {
      "image/png": "[encoded data removed]",
      "text/plain": [
       "<Figure size 720x360 with 1 Axes>"
      ]
     },
     "metadata": {
      "needs_background": "light"
     },
     "output_type": "display_data"
    }
   ],
   "source": [
    "g = sns.catplot(y=\"WAGP\", x=\"JOB\", data=occ_test,\n",
    "                kind=\"box\", aspect=2, order=occ_list)\n",
    "g.set(ylim=(0, 175000))"
   ]
  },
  {
   "cell_type": "code",
   "execution_count": 41,
   "metadata": {},
   "outputs": [
    {
     "data": {
      "text/plain": [
       "<seaborn.axisgrid.FacetGrid at 0x21499fbd7c8>"
      ]
     },
     "execution_count": 41,
     "metadata": {},
     "output_type": "execute_result"
    },
    {
     "data": {
      "image/png": "[encoded data removed]",
      "text/plain": [
       "<Figure size 906.375x288 with 1 Axes>"
      ]
     },
     "metadata": {
      "needs_background": "light"
     },
     "output_type": "display_data"
    }
   ],
   "source": [
    "g = sns.catplot(y=\"WAGP\", x=\"JOB\", data=occ_test, kind=\"box\",\n",
    "                height=4, aspect=3, hue=\"SEX\", order=occ_list)\n",
    "g.set(ylim=(0, 175000))"
   ]
  },
  {
   "cell_type": "markdown",
   "metadata": {},
   "source": [
    "#### State - POWSP"
   ]
  },
  {
   "cell_type": "code",
   "execution_count": 42,
   "metadata": {},
   "outputs": [],
   "source": [
    "int_state_sort = occ_test.groupby('POWSP').median().reset_index()\n",
    "int_state_sort['reg_code'] = ['3', '4', '4', '3', '4', '4', '1', '3', '3', '3',\n",
    "                              '3', '4', '4', '2', '2', '2', '2', '3', '3', '1',\n",
    "                              '3', '1', '2', '2', '3', '2', '4', '2', '4', '1',\n",
    "                              '1', '4', '1', '3', '2', '2', '3', '4', '1', '1',\n",
    "                              '3', '2', '3', '3', '4', '1', '3', '4', '3', '2',\n",
    "                              '4', '5', '5', '5', '5', '5', '5', '5', '5','5']\n",
    "int_state_sort = int_state_sort.sort_values(by=['WAGP'])\n",
    "int_state_list = int_state_sort['POWSP'].tolist()"
   ]
  },
  {
   "cell_type": "code",
   "execution_count": 43,
   "metadata": {},
   "outputs": [],
   "source": [
    "reg_sort = int_state_sort.sort_values(by=['reg_code'])\n",
    "reg_list = reg_sort['POWSP'].tolist()"
   ]
  },
  {
   "cell_type": "code",
   "execution_count": 44,
   "metadata": {},
   "outputs": [
    {
     "name": "stdout",
     "output_type": "stream",
     "text": [
      "[50, 9, 25, 34, 36, 44, 42, 23, 33, 38, 55, 39, 18, 20, 27, 26, 29, 31, 46, 17, 19, 10, 48, 51, 24, 24, 28, 45, 5, 22, 40, 12, 21, 54, 37, 1, 47, 13, 35, 30, 53, 16, 4, 2, 8, 56, 41, 49, 15, 32, 6, 25, 26, 26, 34, 21, 48, 26, 32, 27]\n"
     ]
    }
   ],
   "source": [
    "ST_list = reg_sort['ST'].tolist()\n",
    "print(ST_list)"
   ]
  },
  {
   "cell_type": "code",
   "execution_count": 45,
   "metadata": {
    "scrolled": true
   },
   "outputs": [
    {
     "name": "stdout",
     "output_type": "stream",
     "text": [
      "[50.0, 9.0, 25.0, 34.0, 36.0, 44.0, 42.0, 23.0, 33.0, 38.0, 55.0, 39.0, 18.0, 20.0, 27.0, 26.0, 29.0, 31.0, 46.0, 17.0, 19.0, 10.0, 48.0, 51.0, 11.0, 24.0, 28.0, 45.0, 5.0, 22.0, 40.0, 12.0, 21.0, 54.0, 37.0, 1.0, 47.0, 13.0, 35.0, 30.0, 53.0, 16.0, 4.0, 2.0, 8.0, 56.0, 41.0, 49.0, 15.0, 32.0, 6.0, 166.0, 399.0, 555.0, 72.0, 251.0, 303.0, 213.0, 254.0, 301.0]\n"
     ]
    }
   ],
   "source": [
    "print(reg_list)"
   ]
  },
  {
   "cell_type": "code",
   "execution_count": 46,
   "metadata": {},
   "outputs": [
    {
     "data": {
      "text/plain": [
       "<seaborn.axisgrid.FacetGrid at 0x21499ec6788>"
      ]
     },
     "execution_count": 46,
     "metadata": {},
     "output_type": "execute_result"
    },
    {
     "data": {
      "image/png": "[encoded data removed]",
      "text/plain": [
       "<Figure size 1493.62x360 with 1 Axes>"
      ]
     },
     "metadata": {
      "needs_background": "light"
     },
     "output_type": "display_data"
    }
   ],
   "source": [
    "g = sns.catplot(y=\"WAGP\", x=\"POWSP\", hue='reg_code',\n",
    "                data=reg_sort, kind=\"bar\", aspect=4, order=reg_list)\n",
    "g.set(ylim=(0, 175000))"
   ]
  },
  {
   "cell_type": "code",
   "execution_count": 47,
   "metadata": {},
   "outputs": [
    {
     "data": {
      "text/html": [
       "<div>\n",
       "<style scoped>\n",
       "    .dataframe tbody tr th:only-of-type {\n",
       "        vertical-align: middle;\n",
       "    }\n",
       "\n",
       "    .dataframe tbody tr th {\n",
       "        vertical-align: top;\n",
       "    }\n",
       "\n",
       "    .dataframe thead th {\n",
       "        text-align: right;\n",
       "    }\n",
       "</style>\n",
       "<table border=\"1\" class=\"dataframe\">\n",
       "  <thead>\n",
       "    <tr style=\"text-align: right;\">\n",
       "      <th></th>\n",
       "      <th>POWSP</th>\n",
       "      <th>ST</th>\n",
       "      <th>AGEP</th>\n",
       "      <th>SCHL</th>\n",
       "      <th>SEX</th>\n",
       "      <th>WAGP</th>\n",
       "      <th>WKHP</th>\n",
       "      <th>WKW</th>\n",
       "      <th>OCCP</th>\n",
       "      <th>RAC1P</th>\n",
       "      <th>AGEB</th>\n",
       "      <th>EDU</th>\n",
       "      <th>JOB</th>\n",
       "    </tr>\n",
       "    <tr>\n",
       "      <th>reg_code</th>\n",
       "      <th></th>\n",
       "      <th></th>\n",
       "      <th></th>\n",
       "      <th></th>\n",
       "      <th></th>\n",
       "      <th></th>\n",
       "      <th></th>\n",
       "      <th></th>\n",
       "      <th></th>\n",
       "      <th></th>\n",
       "      <th></th>\n",
       "      <th></th>\n",
       "      <th></th>\n",
       "    </tr>\n",
       "  </thead>\n",
       "  <tbody>\n",
       "    <tr>\n",
       "      <td>1</td>\n",
       "      <td>34.0</td>\n",
       "      <td>34</td>\n",
       "      <td>45</td>\n",
       "      <td>20.0</td>\n",
       "      <td>1</td>\n",
       "      <td>50000.0</td>\n",
       "      <td>40.0</td>\n",
       "      <td>1.0</td>\n",
       "      <td>3930.0</td>\n",
       "      <td>1</td>\n",
       "      <td>3</td>\n",
       "      <td>2</td>\n",
       "      <td>2</td>\n",
       "    </tr>\n",
       "    <tr>\n",
       "      <td>2</td>\n",
       "      <td>28.0</td>\n",
       "      <td>28</td>\n",
       "      <td>45</td>\n",
       "      <td>19.0</td>\n",
       "      <td>1</td>\n",
       "      <td>42700.0</td>\n",
       "      <td>40.0</td>\n",
       "      <td>1.0</td>\n",
       "      <td>4700.0</td>\n",
       "      <td>1</td>\n",
       "      <td>3</td>\n",
       "      <td>2</td>\n",
       "      <td>2</td>\n",
       "    </tr>\n",
       "    <tr>\n",
       "      <td>3</td>\n",
       "      <td>24.0</td>\n",
       "      <td>24</td>\n",
       "      <td>44</td>\n",
       "      <td>19.0</td>\n",
       "      <td>1</td>\n",
       "      <td>41000.0</td>\n",
       "      <td>40.0</td>\n",
       "      <td>1.0</td>\n",
       "      <td>4520.0</td>\n",
       "      <td>1</td>\n",
       "      <td>3</td>\n",
       "      <td>2</td>\n",
       "      <td>2</td>\n",
       "    </tr>\n",
       "    <tr>\n",
       "      <td>4</td>\n",
       "      <td>30.0</td>\n",
       "      <td>30</td>\n",
       "      <td>44</td>\n",
       "      <td>19.0</td>\n",
       "      <td>1</td>\n",
       "      <td>46000.0</td>\n",
       "      <td>40.0</td>\n",
       "      <td>1.0</td>\n",
       "      <td>4220.0</td>\n",
       "      <td>1</td>\n",
       "      <td>3</td>\n",
       "      <td>2</td>\n",
       "      <td>2</td>\n",
       "    </tr>\n",
       "    <tr>\n",
       "      <td>5</td>\n",
       "      <td>254.0</td>\n",
       "      <td>26</td>\n",
       "      <td>46</td>\n",
       "      <td>20.0</td>\n",
       "      <td>1</td>\n",
       "      <td>70000.0</td>\n",
       "      <td>45.0</td>\n",
       "      <td>1.0</td>\n",
       "      <td>2640.0</td>\n",
       "      <td>1</td>\n",
       "      <td>4</td>\n",
       "      <td>2</td>\n",
       "      <td>3</td>\n",
       "    </tr>\n",
       "  </tbody>\n",
       "</table>\n",
       "</div>"
      ],
      "text/plain": [
       "          POWSP  ST  AGEP  SCHL  SEX     WAGP  WKHP  WKW    OCCP  RAC1P  AGEB  \\\n",
       "reg_code                                                                        \n",
       "1          34.0  34    45  20.0    1  50000.0  40.0  1.0  3930.0      1     3   \n",
       "2          28.0  28    45  19.0    1  42700.0  40.0  1.0  4700.0      1     3   \n",
       "3          24.0  24    44  19.0    1  41000.0  40.0  1.0  4520.0      1     3   \n",
       "4          30.0  30    44  19.0    1  46000.0  40.0  1.0  4220.0      1     3   \n",
       "5         254.0  26    46  20.0    1  70000.0  45.0  1.0  2640.0      1     4   \n",
       "\n",
       "          EDU  JOB  \n",
       "reg_code            \n",
       "1           2    2  \n",
       "2           2    2  \n",
       "3           2    2  \n",
       "4           2    2  \n",
       "5           2    3  "
      ]
     },
     "execution_count": 47,
     "metadata": {},
     "output_type": "execute_result"
    }
   ],
   "source": [
    "int_state_sort.groupby('reg_code').median()"
   ]
  },
  {
   "cell_type": "code",
   "execution_count": 48,
   "metadata": {
    "scrolled": true
   },
   "outputs": [
    {
     "data": {
      "text/plain": [
       "<seaborn.axisgrid.FacetGrid at 0x2149da10a48>"
      ]
     },
     "execution_count": 48,
     "metadata": {},
     "output_type": "execute_result"
    },
    {
     "data": {
      "image/png": "[encoded data removed]",
      "text/plain": [
       "<Figure size 1440x360 with 1 Axes>"
      ]
     },
     "metadata": {
      "needs_background": "light"
     },
     "output_type": "display_data"
    }
   ],
   "source": [
    "g = sns.catplot(y=\"WAGP\", x=\"POWSP\", data=occ_test,\n",
    "                kind=\"box\", aspect=4, order=int_state_list)\n",
    "g.set(ylim=(0, 175000))"
   ]
  },
  {
   "cell_type": "code",
   "execution_count": 49,
   "metadata": {},
   "outputs": [
    {
     "name": "stdout",
     "output_type": "stream",
     "text": [
      "[28.0, 5.0, 46.0, 40.0, 35.0, 54.0, 31.0, 30.0, 29.0, 45.0, 16.0, 47.0, 19.0, 1.0, 37.0, 23.0, 21.0, 12.0, 20.0, 18.0, 22.0, 32.0, 55.0, 38.0, 4.0, 13.0, 50.0, 42.0, 39.0, 26.0, 15.0, 48.0, 49.0, 27.0, 41.0, 56.0, 33.0, 17.0, 8.0, 44.0, 2.0, 6.0, 36.0, 10.0, 53.0, 51.0, 213.0, 34.0, 24.0, 25.0, 9.0, 72.0, 303.0, 251.0, 254.0, 555.0, 399.0, 166.0, 11.0, 301.0]\n"
     ]
    }
   ],
   "source": [
    "print(int_state_list)"
   ]
  },
  {
   "cell_type": "code",
   "execution_count": 50,
   "metadata": {},
   "outputs": [],
   "source": [
    "def state_split(df):\n",
    "    # split into higher paying states\n",
    "    df['STSP'] = df['POWSP'].map(lambda y: 2 if y in [17.0, 8.0, 10.0, 51.0, 53.0, 44.0, 36.0, 303.0, 34.0, 24.0, 72.0, 25.0, 9.0, 251.0, 399.0, 301.0, 555.0, 11.0, 166.0, 254.0]\n",
    "                                 else 2 if y in [50.0, 55.0, 15.0, 38.0, 42.0, 49.0, 41.0, 56.0, 27.0, 33.0, 2.0, 6.0]\n",
    "                                 else 1 if y in [23.0, 21.0, 20.0, 19.0, 22.0, 39.0, 26.0, 4.0, 13.0, 48.0, ]\n",
    "                                 else 1 if y in [28.0, 5.0, 30.0, 45.0, 40.0, 47.0, 54.0, 16.0, 46.0, 1.0, 29.0, 35.0, 18.0, 12.0, 31.0, 32.0, 37.0, ]\n",
    "                                 else 5)\n",
    "    test = df.loc[df['STSP'] == 5].copy()\n",
    "    df = df.loc[df['STSP'] != 5]\n",
    "    test['STSP'] = test['ST'].map(lambda y: 2 if y in [50, 25.0, 9.0, 34.0, 36.0, 42.0, 44.0, 23.0, 33.0, 303.0, 166.0, 72.0, 251.0, 399.0, 301.0, 555.0, 254.0]\n",
    "                                  else 2 if y in [56.0, 4.0, 35.0, 32.0, 49.0, 30.0, 15.0, 8.0, 16.0, 6.0, 41.0, 2.0, 53.0]\n",
    "                                  else 1 if y in [38.0, 55.0, 31.0, 27.0, 19.0, 20.0, 18.0, 26.0, 29.0, 46.0, 17.0, 39.0]\n",
    "                                  else 1 if y in [10.0, 51.0, 24.0, 48.0, 11.0, 28.0, 13.0, 5.0, 40.0, 1.0, 54.0, 45.0, 21.0, 12.0, 47.0, 22.0, 37.0]\n",
    "                                  else 10)\n",
    "    df = pd.concat([df, test])\n",
    "\n",
    "    return df"
   ]
  },
  {
   "cell_type": "code",
   "execution_count": 51,
   "metadata": {},
   "outputs": [
    {
     "name": "stdout",
     "output_type": "stream",
     "text": [
      "State : [2 1]\n"
     ]
    },
    {
     "data": {
      "text/plain": [
       "1    2630917\n",
       "2    2585711\n",
       "Name: STSP, dtype: int64"
      ]
     },
     "execution_count": 51,
     "metadata": {},
     "output_type": "execute_result"
    }
   ],
   "source": [
    "state_test = occ_test.copy()\n",
    "state_test = state_split(state_test)\n",
    "print(\"State :\", state_test.STSP.unique())\n",
    "state_test['STSP'].value_counts()"
   ]
  },
  {
   "cell_type": "code",
   "execution_count": 52,
   "metadata": {},
   "outputs": [],
   "source": [
    "state_sort = state_test.groupby(\n",
    "    'STSP').median().sort_values(by=['WAGP']).reset_index()\n",
    "state_list = state_sort['STSP'].tolist()"
   ]
  },
  {
   "cell_type": "code",
   "execution_count": 53,
   "metadata": {},
   "outputs": [
    {
     "data": {
      "text/plain": [
       "<seaborn.axisgrid.FacetGrid at 0x2149dad7788>"
      ]
     },
     "execution_count": 53,
     "metadata": {},
     "output_type": "execute_result"
    },
    {
     "data": {
      "image/png": "[encoded data removed]",
      "text/plain": [
       "<Figure size 720x360 with 1 Axes>"
      ]
     },
     "metadata": {
      "needs_background": "light"
     },
     "output_type": "display_data"
    }
   ],
   "source": [
    "g = sns.catplot(y=\"WAGP\", x=\"STSP\", data=state_test,\n",
    "                kind=\"box\", aspect=2, order=state_list)\n",
    "g.set(ylim=(0, 175000))"
   ]
  },
  {
   "cell_type": "code",
   "execution_count": 54,
   "metadata": {},
   "outputs": [
    {
     "data": {
      "text/plain": [
       "<seaborn.axisgrid.FacetGrid at 0x2149dabf088>"
      ]
     },
     "execution_count": 54,
     "metadata": {},
     "output_type": "execute_result"
    },
    {
     "data": {
      "image/png": "[encoded data removed]",
      "text/plain": [
       "<Figure size 906.375x288 with 1 Axes>"
      ]
     },
     "metadata": {
      "needs_background": "light"
     },
     "output_type": "display_data"
    }
   ],
   "source": [
    "g = sns.catplot(y=\"WAGP\", x=\"STSP\", data=state_test, kind=\"box\",\n",
    "                height=4, aspect=3, hue=\"SEX\", order=state_list)\n",
    "g.set(ylim=(0, 175000))"
   ]
  },
  {
   "cell_type": "markdown",
   "metadata": {},
   "source": [
    "#### Ethnicity - RAC1P"
   ]
  },
  {
   "cell_type": "code",
   "execution_count": 55,
   "metadata": {
    "scrolled": true
   },
   "outputs": [
    {
     "data": {
      "text/plain": [
       "<seaborn.axisgrid.FacetGrid at 0x2149db31108>"
      ]
     },
     "execution_count": 55,
     "metadata": {},
     "output_type": "execute_result"
    },
    {
     "data": {
      "image/png": "[encoded data removed]",
      "text/plain": [
       "<Figure size 1440x360 with 1 Axes>"
      ]
     },
     "metadata": {
      "needs_background": "light"
     },
     "output_type": "display_data"
    }
   ],
   "source": [
    "g = sns.catplot(y=\"WAGP\", x=\"RAC1P\", data=state_test, kind=\"box\", aspect=4)\n",
    "g.set(ylim=(0, 175000))"
   ]
  },
  {
   "cell_type": "code",
   "execution_count": 56,
   "metadata": {},
   "outputs": [
    {
     "data": {
      "text/plain": [
       "1    4130212\n",
       "2     468840\n",
       "6     283418\n",
       "8     184614\n",
       "9      98429\n",
       "3      34664\n",
       "7       8488\n",
       "5       6502\n",
       "4       1461\n",
       "Name: RAC1P, dtype: int64"
      ]
     },
     "execution_count": 56,
     "metadata": {},
     "output_type": "execute_result"
    }
   ],
   "source": [
    "state_test['RAC1P'].value_counts()"
   ]
  },
  {
   "cell_type": "code",
   "execution_count": 57,
   "metadata": {},
   "outputs": [],
   "source": [
    "def int_race_split(df):\n",
    "    # split into occupational industries\n",
    "    df['RACE'] = df['RAC1P'].map(lambda y: \"WHT\" if y == 1  # white\n",
    "                                 else \"BLK\" if y == 2  # black\n",
    "                                 else \"NTV\" if y <= 5  # native\n",
    "                                 else \"ASN\" if y == 6  # asian\n",
    "                                 else \"NTV\" if y == 7  # native\n",
    "                                 else \"MIX\" if y <= 9  # other\n",
    "                                 else 4)\n",
    "\n",
    "    return df"
   ]
  },
  {
   "cell_type": "code",
   "execution_count": 58,
   "metadata": {},
   "outputs": [
    {
     "name": "stdout",
     "output_type": "stream",
     "text": [
      "RACE : ['WHT' 'NTV' 'MIX' 'ASN' 'BLK']\n"
     ]
    }
   ],
   "source": [
    "int_race_test = state_test.copy()\n",
    "int_race_test = int_race_split(int_race_test)\n",
    "print(\"RACE :\", int_race_test.RACE.unique())"
   ]
  },
  {
   "cell_type": "code",
   "execution_count": 59,
   "metadata": {},
   "outputs": [
    {
     "data": {
      "text/plain": [
       "WHT    4130212\n",
       "BLK     468840\n",
       "ASN     283418\n",
       "MIX     283043\n",
       "NTV      51115\n",
       "Name: RACE, dtype: int64"
      ]
     },
     "execution_count": 59,
     "metadata": {},
     "output_type": "execute_result"
    }
   ],
   "source": [
    "int_race_test['RACE'].value_counts()"
   ]
  },
  {
   "cell_type": "code",
   "execution_count": 60,
   "metadata": {
    "scrolled": false
   },
   "outputs": [
    {
     "data": {
      "text/plain": [
       "<seaborn.axisgrid.FacetGrid at 0x214a15ddd88>"
      ]
     },
     "execution_count": 60,
     "metadata": {},
     "output_type": "execute_result"
    },
    {
     "data": {
      "image/png": "[encoded data removed]",
      "text/plain": [
       "<Figure size 1080x360 with 1 Axes>"
      ]
     },
     "metadata": {
      "needs_background": "light"
     },
     "output_type": "display_data"
    }
   ],
   "source": [
    "int_race_sort = int_race_test.groupby(\n",
    "    'RACE').median().sort_values(by=['WAGP']).reset_index()\n",
    "int_race_list = int_race_sort['RACE'].tolist()\n",
    "g = sns.catplot(y=\"WAGP\", x=\"RACE\", data=int_race_test,\n",
    "                kind=\"box\", aspect=3, order=int_race_list)\n",
    "g.set(ylim=(0, 175000))"
   ]
  },
  {
   "cell_type": "code",
   "execution_count": 61,
   "metadata": {},
   "outputs": [],
   "source": [
    "def race_split(df):\n",
    "    # split into occupational industries\n",
    "    df['RACE'] = df['RAC1P'].map(lambda y: 2 if y == 1  # white\n",
    "                                 else 1 if y == 2  # black\n",
    "                                 else 1 if y <= 5  # native\n",
    "                                 else 3 if y == 6  # asian\n",
    "                                 else 1 if y == 7  # native\n",
    "                                 else 1 if y <= 9  # other\n",
    "                                 else 4)\n",
    "\n",
    "    return df"
   ]
  },
  {
   "cell_type": "code",
   "execution_count": 62,
   "metadata": {},
   "outputs": [
    {
     "name": "stdout",
     "output_type": "stream",
     "text": [
      "RACE : [2 1 3]\n"
     ]
    }
   ],
   "source": [
    "race_test = state_test.copy()\n",
    "race_test = race_split(race_test)\n",
    "print(\"RACE :\", race_test.RACE.unique())"
   ]
  },
  {
   "cell_type": "code",
   "execution_count": 63,
   "metadata": {},
   "outputs": [
    {
     "data": {
      "text/plain": [
       "2    4130212\n",
       "1     802998\n",
       "3     283418\n",
       "Name: RACE, dtype: int64"
      ]
     },
     "execution_count": 63,
     "metadata": {},
     "output_type": "execute_result"
    }
   ],
   "source": [
    "race_test['RACE'].value_counts()"
   ]
  },
  {
   "cell_type": "code",
   "execution_count": 64,
   "metadata": {},
   "outputs": [
    {
     "data": {
      "text/plain": [
       "<seaborn.axisgrid.FacetGrid at 0x214a19c0fc8>"
      ]
     },
     "execution_count": 64,
     "metadata": {},
     "output_type": "execute_result"
    },
    {
     "data": {
      "image/png": "[encoded data removed]",
      "text/plain": [
       "<Figure size 1080x360 with 1 Axes>"
      ]
     },
     "metadata": {
      "needs_background": "light"
     },
     "output_type": "display_data"
    }
   ],
   "source": [
    "race_sort = race_test.groupby('RACE').median(\n",
    ").sort_values(by=['WAGP']).reset_index()\n",
    "race_list = race_sort['RACE'].tolist()\n",
    "g = sns.catplot(y=\"WAGP\", x=\"RACE\", data=race_test,\n",
    "                kind=\"box\", aspect=3, order=race_list)\n",
    "g.set(ylim=(0, 175000))"
   ]
  },
  {
   "cell_type": "markdown",
   "metadata": {},
   "source": [
    "#### Remove Columns"
   ]
  },
  {
   "cell_type": "code",
   "execution_count": 65,
   "metadata": {
    "scrolled": true
   },
   "outputs": [
    {
     "data": {
      "text/plain": [
       "Index(['ST', 'AGEP', 'SCHL', 'SEX', 'WAGP', 'WKHP', 'WKW', 'OCCP', 'POWSP',\n",
       "       'RAC1P', 'AGEB', 'EDU', 'JOB', 'STSP', 'RACE'],\n",
       "      dtype='object')"
      ]
     },
     "execution_count": 65,
     "metadata": {},
     "output_type": "execute_result"
    }
   ],
   "source": [
    "race_test.columns"
   ]
  },
  {
   "cell_type": "code",
   "execution_count": 66,
   "metadata": {},
   "outputs": [
    {
     "data": {
      "text/html": [
       "<div>\n",
       "<style scoped>\n",
       "    .dataframe tbody tr th:only-of-type {\n",
       "        vertical-align: middle;\n",
       "    }\n",
       "\n",
       "    .dataframe tbody tr th {\n",
       "        vertical-align: top;\n",
       "    }\n",
       "\n",
       "    .dataframe thead th {\n",
       "        text-align: right;\n",
       "    }\n",
       "</style>\n",
       "<table border=\"1\" class=\"dataframe\">\n",
       "  <thead>\n",
       "    <tr style=\"text-align: right;\">\n",
       "      <th></th>\n",
       "      <th>ST</th>\n",
       "      <th>AGEP</th>\n",
       "      <th>SCHL</th>\n",
       "      <th>SEX</th>\n",
       "      <th>WAGP</th>\n",
       "      <th>WKHP</th>\n",
       "      <th>WKW</th>\n",
       "      <th>OCCP</th>\n",
       "      <th>POWSP</th>\n",
       "      <th>RAC1P</th>\n",
       "      <th>AGEB</th>\n",
       "      <th>EDU</th>\n",
       "      <th>JOB</th>\n",
       "      <th>STSP</th>\n",
       "      <th>RACE</th>\n",
       "    </tr>\n",
       "  </thead>\n",
       "  <tbody>\n",
       "    <tr>\n",
       "      <td>count</td>\n",
       "      <td>5.216628e+06</td>\n",
       "      <td>5.216628e+06</td>\n",
       "      <td>5.216628e+06</td>\n",
       "      <td>5.216628e+06</td>\n",
       "      <td>5.216628e+06</td>\n",
       "      <td>5.216628e+06</td>\n",
       "      <td>5.216628e+06</td>\n",
       "      <td>5.216628e+06</td>\n",
       "      <td>5.053287e+06</td>\n",
       "      <td>5.216628e+06</td>\n",
       "      <td>5.216628e+06</td>\n",
       "      <td>5.216628e+06</td>\n",
       "      <td>5.216628e+06</td>\n",
       "      <td>5.216628e+06</td>\n",
       "      <td>5.216628e+06</td>\n",
       "    </tr>\n",
       "    <tr>\n",
       "      <td>mean</td>\n",
       "      <td>2.792770e+01</td>\n",
       "      <td>4.367315e+01</td>\n",
       "      <td>1.875502e+01</td>\n",
       "      <td>1.423788e+00</td>\n",
       "      <td>5.470252e+04</td>\n",
       "      <td>4.449304e+01</td>\n",
       "      <td>1.106981e+00</td>\n",
       "      <td>4.127022e+03</td>\n",
       "      <td>2.808633e+01</td>\n",
       "      <td>1.789074e+00</td>\n",
       "      <td>3.075559e+00</td>\n",
       "      <td>2.247249e+00</td>\n",
       "      <td>2.437561e+00</td>\n",
       "      <td>1.495667e+00</td>\n",
       "      <td>1.900399e+00</td>\n",
       "    </tr>\n",
       "    <tr>\n",
       "      <td>std</td>\n",
       "      <td>1.603593e+01</td>\n",
       "      <td>1.221741e+01</td>\n",
       "      <td>3.174406e+00</td>\n",
       "      <td>4.941576e-01</td>\n",
       "      <td>3.347824e+04</td>\n",
       "      <td>7.893772e+00</td>\n",
       "      <td>4.297612e-01</td>\n",
       "      <td>2.790060e+03</td>\n",
       "      <td>1.803378e+01</td>\n",
       "      <td>1.968440e+00</td>\n",
       "      <td>9.792398e-01</td>\n",
       "      <td>1.112232e+00</td>\n",
       "      <td>1.124005e+00</td>\n",
       "      <td>4.999813e-01</td>\n",
       "      <td>4.453537e-01</td>\n",
       "    </tr>\n",
       "    <tr>\n",
       "      <td>min</td>\n",
       "      <td>1.000000e+00</td>\n",
       "      <td>1.800000e+01</td>\n",
       "      <td>1.000000e+00</td>\n",
       "      <td>1.000000e+00</td>\n",
       "      <td>1.250000e+04</td>\n",
       "      <td>4.000000e+01</td>\n",
       "      <td>1.000000e+00</td>\n",
       "      <td>1.000000e+01</td>\n",
       "      <td>1.000000e+00</td>\n",
       "      <td>1.000000e+00</td>\n",
       "      <td>1.000000e+00</td>\n",
       "      <td>1.000000e+00</td>\n",
       "      <td>1.000000e+00</td>\n",
       "      <td>1.000000e+00</td>\n",
       "      <td>1.000000e+00</td>\n",
       "    </tr>\n",
       "    <tr>\n",
       "      <td>25%</td>\n",
       "      <td>1.200000e+01</td>\n",
       "      <td>3.300000e+01</td>\n",
       "      <td>1.600000e+01</td>\n",
       "      <td>1.000000e+00</td>\n",
       "      <td>3.000000e+04</td>\n",
       "      <td>4.000000e+01</td>\n",
       "      <td>1.000000e+00</td>\n",
       "      <td>1.610000e+03</td>\n",
       "      <td>1.200000e+01</td>\n",
       "      <td>1.000000e+00</td>\n",
       "      <td>2.000000e+00</td>\n",
       "      <td>1.000000e+00</td>\n",
       "      <td>2.000000e+00</td>\n",
       "      <td>1.000000e+00</td>\n",
       "      <td>2.000000e+00</td>\n",
       "    </tr>\n",
       "    <tr>\n",
       "      <td>50%</td>\n",
       "      <td>2.700000e+01</td>\n",
       "      <td>4.400000e+01</td>\n",
       "      <td>1.900000e+01</td>\n",
       "      <td>1.000000e+00</td>\n",
       "      <td>4.500000e+04</td>\n",
       "      <td>4.000000e+01</td>\n",
       "      <td>1.000000e+00</td>\n",
       "      <td>4.220000e+03</td>\n",
       "      <td>2.700000e+01</td>\n",
       "      <td>1.000000e+00</td>\n",
       "      <td>3.000000e+00</td>\n",
       "      <td>2.000000e+00</td>\n",
       "      <td>2.000000e+00</td>\n",
       "      <td>1.000000e+00</td>\n",
       "      <td>2.000000e+00</td>\n",
       "    </tr>\n",
       "    <tr>\n",
       "      <td>75%</td>\n",
       "      <td>4.200000e+01</td>\n",
       "      <td>5.400000e+01</td>\n",
       "      <td>2.100000e+01</td>\n",
       "      <td>2.000000e+00</td>\n",
       "      <td>7.000000e+04</td>\n",
       "      <td>4.800000e+01</td>\n",
       "      <td>1.000000e+00</td>\n",
       "      <td>5.860000e+03</td>\n",
       "      <td>4.200000e+01</td>\n",
       "      <td>1.000000e+00</td>\n",
       "      <td>4.000000e+00</td>\n",
       "      <td>3.000000e+00</td>\n",
       "      <td>4.000000e+00</td>\n",
       "      <td>2.000000e+00</td>\n",
       "      <td>2.000000e+00</td>\n",
       "    </tr>\n",
       "    <tr>\n",
       "      <td>max</td>\n",
       "      <td>5.600000e+01</td>\n",
       "      <td>7.000000e+01</td>\n",
       "      <td>2.400000e+01</td>\n",
       "      <td>2.000000e+00</td>\n",
       "      <td>1.990000e+05</td>\n",
       "      <td>9.900000e+01</td>\n",
       "      <td>3.000000e+00</td>\n",
       "      <td>9.830000e+03</td>\n",
       "      <td>5.550000e+02</td>\n",
       "      <td>9.000000e+00</td>\n",
       "      <td>4.000000e+00</td>\n",
       "      <td>5.000000e+00</td>\n",
       "      <td>4.000000e+00</td>\n",
       "      <td>2.000000e+00</td>\n",
       "      <td>3.000000e+00</td>\n",
       "    </tr>\n",
       "  </tbody>\n",
       "</table>\n",
       "</div>"
      ],
      "text/plain": [
       "                 ST          AGEP          SCHL           SEX          WAGP  \\\n",
       "count  5.216628e+06  5.216628e+06  5.216628e+06  5.216628e+06  5.216628e+06   \n",
       "mean   2.792770e+01  4.367315e+01  1.875502e+01  1.423788e+00  5.470252e+04   \n",
       "std    1.603593e+01  1.221741e+01  3.174406e+00  4.941576e-01  3.347824e+04   \n",
       "min    1.000000e+00  1.800000e+01  1.000000e+00  1.000000e+00  1.250000e+04   \n",
       "25%    1.200000e+01  3.300000e+01  1.600000e+01  1.000000e+00  3.000000e+04   \n",
       "50%    2.700000e+01  4.400000e+01  1.900000e+01  1.000000e+00  4.500000e+04   \n",
       "75%    4.200000e+01  5.400000e+01  2.100000e+01  2.000000e+00  7.000000e+04   \n",
       "max    5.600000e+01  7.000000e+01  2.400000e+01  2.000000e+00  1.990000e+05   \n",
       "\n",
       "               WKHP           WKW          OCCP         POWSP         RAC1P  \\\n",
       "count  5.216628e+06  5.216628e+06  5.216628e+06  5.053287e+06  5.216628e+06   \n",
       "mean   4.449304e+01  1.106981e+00  4.127022e+03  2.808633e+01  1.789074e+00   \n",
       "std    7.893772e+00  4.297612e-01  2.790060e+03  1.803378e+01  1.968440e+00   \n",
       "min    4.000000e+01  1.000000e+00  1.000000e+01  1.000000e+00  1.000000e+00   \n",
       "25%    4.000000e+01  1.000000e+00  1.610000e+03  1.200000e+01  1.000000e+00   \n",
       "50%    4.000000e+01  1.000000e+00  4.220000e+03  2.700000e+01  1.000000e+00   \n",
       "75%    4.800000e+01  1.000000e+00  5.860000e+03  4.200000e+01  1.000000e+00   \n",
       "max    9.900000e+01  3.000000e+00  9.830000e+03  5.550000e+02  9.000000e+00   \n",
       "\n",
       "               AGEB           EDU           JOB          STSP          RACE  \n",
       "count  5.216628e+06  5.216628e+06  5.216628e+06  5.216628e+06  5.216628e+06  \n",
       "mean   3.075559e+00  2.247249e+00  2.437561e+00  1.495667e+00  1.900399e+00  \n",
       "std    9.792398e-01  1.112232e+00  1.124005e+00  4.999813e-01  4.453537e-01  \n",
       "min    1.000000e+00  1.000000e+00  1.000000e+00  1.000000e+00  1.000000e+00  \n",
       "25%    2.000000e+00  1.000000e+00  2.000000e+00  1.000000e+00  2.000000e+00  \n",
       "50%    3.000000e+00  2.000000e+00  2.000000e+00  1.000000e+00  2.000000e+00  \n",
       "75%    4.000000e+00  3.000000e+00  4.000000e+00  2.000000e+00  2.000000e+00  \n",
       "max    4.000000e+00  5.000000e+00  4.000000e+00  2.000000e+00  3.000000e+00  "
      ]
     },
     "execution_count": 66,
     "metadata": {},
     "output_type": "execute_result"
    }
   ],
   "source": [
    "race_test.describe(include='all')"
   ]
  },
  {
   "cell_type": "code",
   "execution_count": 67,
   "metadata": {},
   "outputs": [],
   "source": [
    "def remove_col(df):\n",
    "    remove_cols = ['SCHL', 'WKHP', 'WKW',\n",
    "                   'OCCP', 'POWSP', 'RAC1P', 'AGEP', 'ST']\n",
    "    df = df.drop(remove_cols, axis=1)\n",
    "    return df"
   ]
  },
  {
   "cell_type": "code",
   "execution_count": 68,
   "metadata": {},
   "outputs": [
    {
     "data": {
      "text/html": [
       "<div>\n",
       "<style scoped>\n",
       "    .dataframe tbody tr th:only-of-type {\n",
       "        vertical-align: middle;\n",
       "    }\n",
       "\n",
       "    .dataframe tbody tr th {\n",
       "        vertical-align: top;\n",
       "    }\n",
       "\n",
       "    .dataframe thead th {\n",
       "        text-align: right;\n",
       "    }\n",
       "</style>\n",
       "<table border=\"1\" class=\"dataframe\">\n",
       "  <thead>\n",
       "    <tr style=\"text-align: right;\">\n",
       "      <th></th>\n",
       "      <th>SEX</th>\n",
       "      <th>WAGP</th>\n",
       "      <th>AGEB</th>\n",
       "      <th>EDU</th>\n",
       "      <th>JOB</th>\n",
       "      <th>STSP</th>\n",
       "      <th>RACE</th>\n",
       "    </tr>\n",
       "  </thead>\n",
       "  <tbody>\n",
       "    <tr>\n",
       "      <td>count</td>\n",
       "      <td>5.216628e+06</td>\n",
       "      <td>5.216628e+06</td>\n",
       "      <td>5.216628e+06</td>\n",
       "      <td>5.216628e+06</td>\n",
       "      <td>5.216628e+06</td>\n",
       "      <td>5.216628e+06</td>\n",
       "      <td>5.216628e+06</td>\n",
       "    </tr>\n",
       "    <tr>\n",
       "      <td>mean</td>\n",
       "      <td>1.423788e+00</td>\n",
       "      <td>5.470252e+04</td>\n",
       "      <td>3.075559e+00</td>\n",
       "      <td>2.247249e+00</td>\n",
       "      <td>2.437561e+00</td>\n",
       "      <td>1.495667e+00</td>\n",
       "      <td>1.900399e+00</td>\n",
       "    </tr>\n",
       "    <tr>\n",
       "      <td>std</td>\n",
       "      <td>4.941576e-01</td>\n",
       "      <td>3.347824e+04</td>\n",
       "      <td>9.792398e-01</td>\n",
       "      <td>1.112232e+00</td>\n",
       "      <td>1.124005e+00</td>\n",
       "      <td>4.999813e-01</td>\n",
       "      <td>4.453537e-01</td>\n",
       "    </tr>\n",
       "    <tr>\n",
       "      <td>min</td>\n",
       "      <td>1.000000e+00</td>\n",
       "      <td>1.250000e+04</td>\n",
       "      <td>1.000000e+00</td>\n",
       "      <td>1.000000e+00</td>\n",
       "      <td>1.000000e+00</td>\n",
       "      <td>1.000000e+00</td>\n",
       "      <td>1.000000e+00</td>\n",
       "    </tr>\n",
       "    <tr>\n",
       "      <td>25%</td>\n",
       "      <td>1.000000e+00</td>\n",
       "      <td>3.000000e+04</td>\n",
       "      <td>2.000000e+00</td>\n",
       "      <td>1.000000e+00</td>\n",
       "      <td>2.000000e+00</td>\n",
       "      <td>1.000000e+00</td>\n",
       "      <td>2.000000e+00</td>\n",
       "    </tr>\n",
       "    <tr>\n",
       "      <td>50%</td>\n",
       "      <td>1.000000e+00</td>\n",
       "      <td>4.500000e+04</td>\n",
       "      <td>3.000000e+00</td>\n",
       "      <td>2.000000e+00</td>\n",
       "      <td>2.000000e+00</td>\n",
       "      <td>1.000000e+00</td>\n",
       "      <td>2.000000e+00</td>\n",
       "    </tr>\n",
       "    <tr>\n",
       "      <td>75%</td>\n",
       "      <td>2.000000e+00</td>\n",
       "      <td>7.000000e+04</td>\n",
       "      <td>4.000000e+00</td>\n",
       "      <td>3.000000e+00</td>\n",
       "      <td>4.000000e+00</td>\n",
       "      <td>2.000000e+00</td>\n",
       "      <td>2.000000e+00</td>\n",
       "    </tr>\n",
       "    <tr>\n",
       "      <td>max</td>\n",
       "      <td>2.000000e+00</td>\n",
       "      <td>1.990000e+05</td>\n",
       "      <td>4.000000e+00</td>\n",
       "      <td>5.000000e+00</td>\n",
       "      <td>4.000000e+00</td>\n",
       "      <td>2.000000e+00</td>\n",
       "      <td>3.000000e+00</td>\n",
       "    </tr>\n",
       "  </tbody>\n",
       "</table>\n",
       "</div>"
      ],
      "text/plain": [
       "                SEX          WAGP          AGEB           EDU           JOB  \\\n",
       "count  5.216628e+06  5.216628e+06  5.216628e+06  5.216628e+06  5.216628e+06   \n",
       "mean   1.423788e+00  5.470252e+04  3.075559e+00  2.247249e+00  2.437561e+00   \n",
       "std    4.941576e-01  3.347824e+04  9.792398e-01  1.112232e+00  1.124005e+00   \n",
       "min    1.000000e+00  1.250000e+04  1.000000e+00  1.000000e+00  1.000000e+00   \n",
       "25%    1.000000e+00  3.000000e+04  2.000000e+00  1.000000e+00  2.000000e+00   \n",
       "50%    1.000000e+00  4.500000e+04  3.000000e+00  2.000000e+00  2.000000e+00   \n",
       "75%    2.000000e+00  7.000000e+04  4.000000e+00  3.000000e+00  4.000000e+00   \n",
       "max    2.000000e+00  1.990000e+05  4.000000e+00  5.000000e+00  4.000000e+00   \n",
       "\n",
       "               STSP          RACE  \n",
       "count  5.216628e+06  5.216628e+06  \n",
       "mean   1.495667e+00  1.900399e+00  \n",
       "std    4.999813e-01  4.453537e-01  \n",
       "min    1.000000e+00  1.000000e+00  \n",
       "25%    1.000000e+00  2.000000e+00  \n",
       "50%    1.000000e+00  2.000000e+00  \n",
       "75%    2.000000e+00  2.000000e+00  \n",
       "max    2.000000e+00  3.000000e+00  "
      ]
     },
     "execution_count": 68,
     "metadata": {},
     "output_type": "execute_result"
    }
   ],
   "source": [
    "remove_test = race_test.copy()\n",
    "remove_test = remove_col(remove_test)\n",
    "remove_test.describe(include='all')"
   ]
  },
  {
   "cell_type": "markdown",
   "metadata": {},
   "source": [
    "### OHE Columns"
   ]
  },
  {
   "cell_type": "code",
   "execution_count": 69,
   "metadata": {},
   "outputs": [],
   "source": [
    "def OHE_cat(df):\n",
    "    OH_encoder = OneHotEncoder(handle_unknown='ignore', sparse=False)\n",
    "    cat_col = [i for i in df.columns.tolist() if i not in ['WAGP']]\n",
    "    OH_cols_train = pd.DataFrame(OH_encoder.fit_transform(df[cat_col]))\n",
    "    OH_cols_train.index = df.index\n",
    "    df = pd.concat([df, OH_cols_train], axis=1)\n",
    "    df.drop(cat_col, axis=1, inplace=True)\n",
    "    return df"
   ]
  },
  {
   "cell_type": "code",
   "execution_count": 70,
   "metadata": {},
   "outputs": [
    {
     "data": {
      "text/html": [
       "<div>\n",
       "<style scoped>\n",
       "    .dataframe tbody tr th:only-of-type {\n",
       "        vertical-align: middle;\n",
       "    }\n",
       "\n",
       "    .dataframe tbody tr th {\n",
       "        vertical-align: top;\n",
       "    }\n",
       "\n",
       "    .dataframe thead th {\n",
       "        text-align: right;\n",
       "    }\n",
       "</style>\n",
       "<table border=\"1\" class=\"dataframe\">\n",
       "  <thead>\n",
       "    <tr style=\"text-align: right;\">\n",
       "      <th></th>\n",
       "      <th>WAGP</th>\n",
       "      <th>0</th>\n",
       "      <th>1</th>\n",
       "      <th>2</th>\n",
       "      <th>3</th>\n",
       "      <th>4</th>\n",
       "      <th>5</th>\n",
       "      <th>6</th>\n",
       "      <th>7</th>\n",
       "      <th>8</th>\n",
       "      <th>...</th>\n",
       "      <th>10</th>\n",
       "      <th>11</th>\n",
       "      <th>12</th>\n",
       "      <th>13</th>\n",
       "      <th>14</th>\n",
       "      <th>15</th>\n",
       "      <th>16</th>\n",
       "      <th>17</th>\n",
       "      <th>18</th>\n",
       "      <th>19</th>\n",
       "    </tr>\n",
       "  </thead>\n",
       "  <tbody>\n",
       "    <tr>\n",
       "      <td>count</td>\n",
       "      <td>5.216628e+06</td>\n",
       "      <td>5.216628e+06</td>\n",
       "      <td>5.216628e+06</td>\n",
       "      <td>5.216628e+06</td>\n",
       "      <td>5.216628e+06</td>\n",
       "      <td>5.216628e+06</td>\n",
       "      <td>5.216628e+06</td>\n",
       "      <td>5.216628e+06</td>\n",
       "      <td>5.216628e+06</td>\n",
       "      <td>5.216628e+06</td>\n",
       "      <td>...</td>\n",
       "      <td>5.216628e+06</td>\n",
       "      <td>5.216628e+06</td>\n",
       "      <td>5.216628e+06</td>\n",
       "      <td>5.216628e+06</td>\n",
       "      <td>5.216628e+06</td>\n",
       "      <td>5.216628e+06</td>\n",
       "      <td>5.216628e+06</td>\n",
       "      <td>5.216628e+06</td>\n",
       "      <td>5.216628e+06</td>\n",
       "      <td>5.216628e+06</td>\n",
       "    </tr>\n",
       "    <tr>\n",
       "      <td>mean</td>\n",
       "      <td>5.470252e+04</td>\n",
       "      <td>5.762124e-01</td>\n",
       "      <td>4.237876e-01</td>\n",
       "      <td>7.416247e-02</td>\n",
       "      <td>2.220431e-01</td>\n",
       "      <td>2.578679e-01</td>\n",
       "      <td>4.459266e-01</td>\n",
       "      <td>3.088202e-01</td>\n",
       "      <td>3.140398e-01</td>\n",
       "      <td>2.359329e-01</td>\n",
       "      <td>...</td>\n",
       "      <td>3.772188e-02</td>\n",
       "      <td>2.476393e-01</td>\n",
       "      <td>3.281637e-01</td>\n",
       "      <td>1.631935e-01</td>\n",
       "      <td>2.610035e-01</td>\n",
       "      <td>5.043329e-01</td>\n",
       "      <td>4.956671e-01</td>\n",
       "      <td>1.539305e-01</td>\n",
       "      <td>7.917398e-01</td>\n",
       "      <td>5.432973e-02</td>\n",
       "    </tr>\n",
       "    <tr>\n",
       "      <td>std</td>\n",
       "      <td>3.347824e+04</td>\n",
       "      <td>4.941576e-01</td>\n",
       "      <td>4.941576e-01</td>\n",
       "      <td>2.620351e-01</td>\n",
       "      <td>4.156200e-01</td>\n",
       "      <td>4.374610e-01</td>\n",
       "      <td>4.970675e-01</td>\n",
       "      <td>4.620068e-01</td>\n",
       "      <td>4.641324e-01</td>\n",
       "      <td>4.245805e-01</td>\n",
       "      <td>...</td>\n",
       "      <td>1.905228e-01</td>\n",
       "      <td>4.316412e-01</td>\n",
       "      <td>4.695448e-01</td>\n",
       "      <td>3.695422e-01</td>\n",
       "      <td>4.391818e-01</td>\n",
       "      <td>4.999813e-01</td>\n",
       "      <td>4.999813e-01</td>\n",
       "      <td>3.608821e-01</td>\n",
       "      <td>4.060639e-01</td>\n",
       "      <td>2.266672e-01</td>\n",
       "    </tr>\n",
       "    <tr>\n",
       "      <td>min</td>\n",
       "      <td>1.250000e+04</td>\n",
       "      <td>0.000000e+00</td>\n",
       "      <td>0.000000e+00</td>\n",
       "      <td>0.000000e+00</td>\n",
       "      <td>0.000000e+00</td>\n",
       "      <td>0.000000e+00</td>\n",
       "      <td>0.000000e+00</td>\n",
       "      <td>0.000000e+00</td>\n",
       "      <td>0.000000e+00</td>\n",
       "      <td>0.000000e+00</td>\n",
       "      <td>...</td>\n",
       "      <td>0.000000e+00</td>\n",
       "      <td>0.000000e+00</td>\n",
       "      <td>0.000000e+00</td>\n",
       "      <td>0.000000e+00</td>\n",
       "      <td>0.000000e+00</td>\n",
       "      <td>0.000000e+00</td>\n",
       "      <td>0.000000e+00</td>\n",
       "      <td>0.000000e+00</td>\n",
       "      <td>0.000000e+00</td>\n",
       "      <td>0.000000e+00</td>\n",
       "    </tr>\n",
       "    <tr>\n",
       "      <td>25%</td>\n",
       "      <td>3.000000e+04</td>\n",
       "      <td>0.000000e+00</td>\n",
       "      <td>0.000000e+00</td>\n",
       "      <td>0.000000e+00</td>\n",
       "      <td>0.000000e+00</td>\n",
       "      <td>0.000000e+00</td>\n",
       "      <td>0.000000e+00</td>\n",
       "      <td>0.000000e+00</td>\n",
       "      <td>0.000000e+00</td>\n",
       "      <td>0.000000e+00</td>\n",
       "      <td>...</td>\n",
       "      <td>0.000000e+00</td>\n",
       "      <td>0.000000e+00</td>\n",
       "      <td>0.000000e+00</td>\n",
       "      <td>0.000000e+00</td>\n",
       "      <td>0.000000e+00</td>\n",
       "      <td>0.000000e+00</td>\n",
       "      <td>0.000000e+00</td>\n",
       "      <td>0.000000e+00</td>\n",
       "      <td>1.000000e+00</td>\n",
       "      <td>0.000000e+00</td>\n",
       "    </tr>\n",
       "    <tr>\n",
       "      <td>50%</td>\n",
       "      <td>4.500000e+04</td>\n",
       "      <td>1.000000e+00</td>\n",
       "      <td>0.000000e+00</td>\n",
       "      <td>0.000000e+00</td>\n",
       "      <td>0.000000e+00</td>\n",
       "      <td>0.000000e+00</td>\n",
       "      <td>0.000000e+00</td>\n",
       "      <td>0.000000e+00</td>\n",
       "      <td>0.000000e+00</td>\n",
       "      <td>0.000000e+00</td>\n",
       "      <td>...</td>\n",
       "      <td>0.000000e+00</td>\n",
       "      <td>0.000000e+00</td>\n",
       "      <td>0.000000e+00</td>\n",
       "      <td>0.000000e+00</td>\n",
       "      <td>0.000000e+00</td>\n",
       "      <td>1.000000e+00</td>\n",
       "      <td>0.000000e+00</td>\n",
       "      <td>0.000000e+00</td>\n",
       "      <td>1.000000e+00</td>\n",
       "      <td>0.000000e+00</td>\n",
       "    </tr>\n",
       "    <tr>\n",
       "      <td>75%</td>\n",
       "      <td>7.000000e+04</td>\n",
       "      <td>1.000000e+00</td>\n",
       "      <td>1.000000e+00</td>\n",
       "      <td>0.000000e+00</td>\n",
       "      <td>0.000000e+00</td>\n",
       "      <td>1.000000e+00</td>\n",
       "      <td>1.000000e+00</td>\n",
       "      <td>1.000000e+00</td>\n",
       "      <td>1.000000e+00</td>\n",
       "      <td>0.000000e+00</td>\n",
       "      <td>...</td>\n",
       "      <td>0.000000e+00</td>\n",
       "      <td>0.000000e+00</td>\n",
       "      <td>1.000000e+00</td>\n",
       "      <td>0.000000e+00</td>\n",
       "      <td>1.000000e+00</td>\n",
       "      <td>1.000000e+00</td>\n",
       "      <td>1.000000e+00</td>\n",
       "      <td>0.000000e+00</td>\n",
       "      <td>1.000000e+00</td>\n",
       "      <td>0.000000e+00</td>\n",
       "    </tr>\n",
       "    <tr>\n",
       "      <td>max</td>\n",
       "      <td>1.990000e+05</td>\n",
       "      <td>1.000000e+00</td>\n",
       "      <td>1.000000e+00</td>\n",
       "      <td>1.000000e+00</td>\n",
       "      <td>1.000000e+00</td>\n",
       "      <td>1.000000e+00</td>\n",
       "      <td>1.000000e+00</td>\n",
       "      <td>1.000000e+00</td>\n",
       "      <td>1.000000e+00</td>\n",
       "      <td>1.000000e+00</td>\n",
       "      <td>...</td>\n",
       "      <td>1.000000e+00</td>\n",
       "      <td>1.000000e+00</td>\n",
       "      <td>1.000000e+00</td>\n",
       "      <td>1.000000e+00</td>\n",
       "      <td>1.000000e+00</td>\n",
       "      <td>1.000000e+00</td>\n",
       "      <td>1.000000e+00</td>\n",
       "      <td>1.000000e+00</td>\n",
       "      <td>1.000000e+00</td>\n",
       "      <td>1.000000e+00</td>\n",
       "    </tr>\n",
       "  </tbody>\n",
       "</table>\n",
       "<p>8 rows × 21 columns</p>\n",
       "</div>"
      ],
      "text/plain": [
       "               WAGP             0             1             2             3  \\\n",
       "count  5.216628e+06  5.216628e+06  5.216628e+06  5.216628e+06  5.216628e+06   \n",
       "mean   5.470252e+04  5.762124e-01  4.237876e-01  7.416247e-02  2.220431e-01   \n",
       "std    3.347824e+04  4.941576e-01  4.941576e-01  2.620351e-01  4.156200e-01   \n",
       "min    1.250000e+04  0.000000e+00  0.000000e+00  0.000000e+00  0.000000e+00   \n",
       "25%    3.000000e+04  0.000000e+00  0.000000e+00  0.000000e+00  0.000000e+00   \n",
       "50%    4.500000e+04  1.000000e+00  0.000000e+00  0.000000e+00  0.000000e+00   \n",
       "75%    7.000000e+04  1.000000e+00  1.000000e+00  0.000000e+00  0.000000e+00   \n",
       "max    1.990000e+05  1.000000e+00  1.000000e+00  1.000000e+00  1.000000e+00   \n",
       "\n",
       "                  4             5             6             7             8  \\\n",
       "count  5.216628e+06  5.216628e+06  5.216628e+06  5.216628e+06  5.216628e+06   \n",
       "mean   2.578679e-01  4.459266e-01  3.088202e-01  3.140398e-01  2.359329e-01   \n",
       "std    4.374610e-01  4.970675e-01  4.620068e-01  4.641324e-01  4.245805e-01   \n",
       "min    0.000000e+00  0.000000e+00  0.000000e+00  0.000000e+00  0.000000e+00   \n",
       "25%    0.000000e+00  0.000000e+00  0.000000e+00  0.000000e+00  0.000000e+00   \n",
       "50%    0.000000e+00  0.000000e+00  0.000000e+00  0.000000e+00  0.000000e+00   \n",
       "75%    1.000000e+00  1.000000e+00  1.000000e+00  1.000000e+00  0.000000e+00   \n",
       "max    1.000000e+00  1.000000e+00  1.000000e+00  1.000000e+00  1.000000e+00   \n",
       "\n",
       "       ...            10            11            12            13  \\\n",
       "count  ...  5.216628e+06  5.216628e+06  5.216628e+06  5.216628e+06   \n",
       "mean   ...  3.772188e-02  2.476393e-01  3.281637e-01  1.631935e-01   \n",
       "std    ...  1.905228e-01  4.316412e-01  4.695448e-01  3.695422e-01   \n",
       "min    ...  0.000000e+00  0.000000e+00  0.000000e+00  0.000000e+00   \n",
       "25%    ...  0.000000e+00  0.000000e+00  0.000000e+00  0.000000e+00   \n",
       "50%    ...  0.000000e+00  0.000000e+00  0.000000e+00  0.000000e+00   \n",
       "75%    ...  0.000000e+00  0.000000e+00  1.000000e+00  0.000000e+00   \n",
       "max    ...  1.000000e+00  1.000000e+00  1.000000e+00  1.000000e+00   \n",
       "\n",
       "                 14            15            16            17            18  \\\n",
       "count  5.216628e+06  5.216628e+06  5.216628e+06  5.216628e+06  5.216628e+06   \n",
       "mean   2.610035e-01  5.043329e-01  4.956671e-01  1.539305e-01  7.917398e-01   \n",
       "std    4.391818e-01  4.999813e-01  4.999813e-01  3.608821e-01  4.060639e-01   \n",
       "min    0.000000e+00  0.000000e+00  0.000000e+00  0.000000e+00  0.000000e+00   \n",
       "25%    0.000000e+00  0.000000e+00  0.000000e+00  0.000000e+00  1.000000e+00   \n",
       "50%    0.000000e+00  1.000000e+00  0.000000e+00  0.000000e+00  1.000000e+00   \n",
       "75%    1.000000e+00  1.000000e+00  1.000000e+00  0.000000e+00  1.000000e+00   \n",
       "max    1.000000e+00  1.000000e+00  1.000000e+00  1.000000e+00  1.000000e+00   \n",
       "\n",
       "                 19  \n",
       "count  5.216628e+06  \n",
       "mean   5.432973e-02  \n",
       "std    2.266672e-01  \n",
       "min    0.000000e+00  \n",
       "25%    0.000000e+00  \n",
       "50%    0.000000e+00  \n",
       "75%    0.000000e+00  \n",
       "max    1.000000e+00  \n",
       "\n",
       "[8 rows x 21 columns]"
      ]
     },
     "execution_count": 70,
     "metadata": {},
     "output_type": "execute_result"
    }
   ],
   "source": [
    "OHE_test = remove_test.copy()\n",
    "OHE_test = OHE_cat(OHE_test)\n",
    "OHE_test.describe(include='all')"
   ]
  },
  {
   "cell_type": "code",
   "execution_count": 71,
   "metadata": {},
   "outputs": [
    {
     "data": {
      "text/html": [
       "<div>\n",
       "<style scoped>\n",
       "    .dataframe tbody tr th:only-of-type {\n",
       "        vertical-align: middle;\n",
       "    }\n",
       "\n",
       "    .dataframe tbody tr th {\n",
       "        vertical-align: top;\n",
       "    }\n",
       "\n",
       "    .dataframe thead th {\n",
       "        text-align: right;\n",
       "    }\n",
       "</style>\n",
       "<table border=\"1\" class=\"dataframe\">\n",
       "  <thead>\n",
       "    <tr style=\"text-align: right;\">\n",
       "      <th></th>\n",
       "      <th>Features</th>\n",
       "    </tr>\n",
       "  </thead>\n",
       "  <tbody>\n",
       "    <tr>\n",
       "      <td>0</td>\n",
       "      <td>SEX_1</td>\n",
       "    </tr>\n",
       "    <tr>\n",
       "      <td>1</td>\n",
       "      <td>SEX_2</td>\n",
       "    </tr>\n",
       "    <tr>\n",
       "      <td>2</td>\n",
       "      <td>AGEB_1</td>\n",
       "    </tr>\n",
       "    <tr>\n",
       "      <td>3</td>\n",
       "      <td>AGEB_2</td>\n",
       "    </tr>\n",
       "    <tr>\n",
       "      <td>4</td>\n",
       "      <td>AGEB_3</td>\n",
       "    </tr>\n",
       "    <tr>\n",
       "      <td>5</td>\n",
       "      <td>AGEB_4</td>\n",
       "    </tr>\n",
       "    <tr>\n",
       "      <td>6</td>\n",
       "      <td>EDU_1</td>\n",
       "    </tr>\n",
       "    <tr>\n",
       "      <td>7</td>\n",
       "      <td>EDU_2</td>\n",
       "    </tr>\n",
       "    <tr>\n",
       "      <td>8</td>\n",
       "      <td>EDU_3</td>\n",
       "    </tr>\n",
       "    <tr>\n",
       "      <td>9</td>\n",
       "      <td>EDU_4</td>\n",
       "    </tr>\n",
       "    <tr>\n",
       "      <td>10</td>\n",
       "      <td>EDU_5</td>\n",
       "    </tr>\n",
       "    <tr>\n",
       "      <td>11</td>\n",
       "      <td>JOB_1</td>\n",
       "    </tr>\n",
       "    <tr>\n",
       "      <td>12</td>\n",
       "      <td>JOB_2</td>\n",
       "    </tr>\n",
       "    <tr>\n",
       "      <td>13</td>\n",
       "      <td>JOB_3</td>\n",
       "    </tr>\n",
       "    <tr>\n",
       "      <td>14</td>\n",
       "      <td>JOB_4</td>\n",
       "    </tr>\n",
       "    <tr>\n",
       "      <td>15</td>\n",
       "      <td>STSP_1</td>\n",
       "    </tr>\n",
       "    <tr>\n",
       "      <td>16</td>\n",
       "      <td>STSP_2</td>\n",
       "    </tr>\n",
       "    <tr>\n",
       "      <td>17</td>\n",
       "      <td>RACE_1</td>\n",
       "    </tr>\n",
       "    <tr>\n",
       "      <td>18</td>\n",
       "      <td>RACE_2</td>\n",
       "    </tr>\n",
       "    <tr>\n",
       "      <td>19</td>\n",
       "      <td>RACE_3</td>\n",
       "    </tr>\n",
       "  </tbody>\n",
       "</table>\n",
       "</div>"
      ],
      "text/plain": [
       "   Features\n",
       "0     SEX_1\n",
       "1     SEX_2\n",
       "2    AGEB_1\n",
       "3    AGEB_2\n",
       "4    AGEB_3\n",
       "5    AGEB_4\n",
       "6     EDU_1\n",
       "7     EDU_2\n",
       "8     EDU_3\n",
       "9     EDU_4\n",
       "10    EDU_5\n",
       "11    JOB_1\n",
       "12    JOB_2\n",
       "13    JOB_3\n",
       "14    JOB_4\n",
       "15   STSP_1\n",
       "16   STSP_2\n",
       "17   RACE_1\n",
       "18   RACE_2\n",
       "19   RACE_3"
      ]
     },
     "execution_count": 71,
     "metadata": {},
     "output_type": "execute_result"
    }
   ],
   "source": [
    "OHE_names = remove_test.copy()\n",
    "OH_encoder2 = OneHotEncoder(handle_unknown='ignore', sparse=False)\n",
    "cat_col2 = [i for i in OHE_names.columns.tolist() if i not in ['WAGP']]\n",
    "OH_cols_train2 = pd.DataFrame(OH_encoder2.fit_transform(OHE_names[cat_col2]))\n",
    "\n",
    "OHEcol2 = OH_encoder2.get_feature_names(cat_col2)\n",
    "OHEcols2 = pd.DataFrame()\n",
    "OHEcols2['Features'] = OHEcol2\n",
    "\n",
    "OHEcols2"
   ]
  },
  {
   "cell_type": "markdown",
   "metadata": {},
   "source": [
    "### Pipeline"
   ]
  },
  {
   "cell_type": "code",
   "execution_count": 72,
   "metadata": {},
   "outputs": [],
   "source": [
    "def pp_pipeline(df):\n",
    "    df = (df\n",
    "          .pipe(full_time_detect)\n",
    "          .pipe(outlier_wage)\n",
    "          .pipe(age_bins)\n",
    "          .pipe(edu_split)\n",
    "          .pipe(occ_split)\n",
    "          .pipe(state_split)\n",
    "          .pipe(race_split)\n",
    "          .pipe(remove_col)\n",
    "          # .pipe(OHE_cat)\n",
    "          )\n",
    "    return df"
   ]
  },
  {
   "cell_type": "code",
   "execution_count": 73,
   "metadata": {},
   "outputs": [
    {
     "name": "stdout",
     "output_type": "stream",
     "text": [
      " 0.57 min\n"
     ]
    },
    {
     "data": {
      "text/html": [
       "<div>\n",
       "<style scoped>\n",
       "    .dataframe tbody tr th:only-of-type {\n",
       "        vertical-align: middle;\n",
       "    }\n",
       "\n",
       "    .dataframe tbody tr th {\n",
       "        vertical-align: top;\n",
       "    }\n",
       "\n",
       "    .dataframe thead th {\n",
       "        text-align: right;\n",
       "    }\n",
       "</style>\n",
       "<table border=\"1\" class=\"dataframe\">\n",
       "  <thead>\n",
       "    <tr style=\"text-align: right;\">\n",
       "      <th></th>\n",
       "      <th>SEX</th>\n",
       "      <th>WAGP</th>\n",
       "      <th>AGEB</th>\n",
       "      <th>EDU</th>\n",
       "      <th>JOB</th>\n",
       "      <th>STSP</th>\n",
       "      <th>RACE</th>\n",
       "    </tr>\n",
       "  </thead>\n",
       "  <tbody>\n",
       "    <tr>\n",
       "      <td>count</td>\n",
       "      <td>5.216628e+06</td>\n",
       "      <td>5.216628e+06</td>\n",
       "      <td>5.216628e+06</td>\n",
       "      <td>5.216628e+06</td>\n",
       "      <td>5.216628e+06</td>\n",
       "      <td>5.216628e+06</td>\n",
       "      <td>5.216628e+06</td>\n",
       "    </tr>\n",
       "    <tr>\n",
       "      <td>mean</td>\n",
       "      <td>1.423788e+00</td>\n",
       "      <td>5.470252e+04</td>\n",
       "      <td>3.075559e+00</td>\n",
       "      <td>2.247249e+00</td>\n",
       "      <td>2.437561e+00</td>\n",
       "      <td>1.495667e+00</td>\n",
       "      <td>1.900399e+00</td>\n",
       "    </tr>\n",
       "    <tr>\n",
       "      <td>std</td>\n",
       "      <td>4.941576e-01</td>\n",
       "      <td>3.347824e+04</td>\n",
       "      <td>9.792398e-01</td>\n",
       "      <td>1.112232e+00</td>\n",
       "      <td>1.124005e+00</td>\n",
       "      <td>4.999813e-01</td>\n",
       "      <td>4.453537e-01</td>\n",
       "    </tr>\n",
       "    <tr>\n",
       "      <td>min</td>\n",
       "      <td>1.000000e+00</td>\n",
       "      <td>1.250000e+04</td>\n",
       "      <td>1.000000e+00</td>\n",
       "      <td>1.000000e+00</td>\n",
       "      <td>1.000000e+00</td>\n",
       "      <td>1.000000e+00</td>\n",
       "      <td>1.000000e+00</td>\n",
       "    </tr>\n",
       "    <tr>\n",
       "      <td>25%</td>\n",
       "      <td>1.000000e+00</td>\n",
       "      <td>3.000000e+04</td>\n",
       "      <td>2.000000e+00</td>\n",
       "      <td>1.000000e+00</td>\n",
       "      <td>2.000000e+00</td>\n",
       "      <td>1.000000e+00</td>\n",
       "      <td>2.000000e+00</td>\n",
       "    </tr>\n",
       "    <tr>\n",
       "      <td>50%</td>\n",
       "      <td>1.000000e+00</td>\n",
       "      <td>4.500000e+04</td>\n",
       "      <td>3.000000e+00</td>\n",
       "      <td>2.000000e+00</td>\n",
       "      <td>2.000000e+00</td>\n",
       "      <td>1.000000e+00</td>\n",
       "      <td>2.000000e+00</td>\n",
       "    </tr>\n",
       "    <tr>\n",
       "      <td>75%</td>\n",
       "      <td>2.000000e+00</td>\n",
       "      <td>7.000000e+04</td>\n",
       "      <td>4.000000e+00</td>\n",
       "      <td>3.000000e+00</td>\n",
       "      <td>4.000000e+00</td>\n",
       "      <td>2.000000e+00</td>\n",
       "      <td>2.000000e+00</td>\n",
       "    </tr>\n",
       "    <tr>\n",
       "      <td>max</td>\n",
       "      <td>2.000000e+00</td>\n",
       "      <td>1.990000e+05</td>\n",
       "      <td>4.000000e+00</td>\n",
       "      <td>5.000000e+00</td>\n",
       "      <td>4.000000e+00</td>\n",
       "      <td>2.000000e+00</td>\n",
       "      <td>3.000000e+00</td>\n",
       "    </tr>\n",
       "  </tbody>\n",
       "</table>\n",
       "</div>"
      ],
      "text/plain": [
       "                SEX          WAGP          AGEB           EDU           JOB  \\\n",
       "count  5.216628e+06  5.216628e+06  5.216628e+06  5.216628e+06  5.216628e+06   \n",
       "mean   1.423788e+00  5.470252e+04  3.075559e+00  2.247249e+00  2.437561e+00   \n",
       "std    4.941576e-01  3.347824e+04  9.792398e-01  1.112232e+00  1.124005e+00   \n",
       "min    1.000000e+00  1.250000e+04  1.000000e+00  1.000000e+00  1.000000e+00   \n",
       "25%    1.000000e+00  3.000000e+04  2.000000e+00  1.000000e+00  2.000000e+00   \n",
       "50%    1.000000e+00  4.500000e+04  3.000000e+00  2.000000e+00  2.000000e+00   \n",
       "75%    2.000000e+00  7.000000e+04  4.000000e+00  3.000000e+00  4.000000e+00   \n",
       "max    2.000000e+00  1.990000e+05  4.000000e+00  5.000000e+00  4.000000e+00   \n",
       "\n",
       "               STSP          RACE  \n",
       "count  5.216628e+06  5.216628e+06  \n",
       "mean   1.495667e+00  1.900399e+00  \n",
       "std    4.999813e-01  4.453537e-01  \n",
       "min    1.000000e+00  1.000000e+00  \n",
       "25%    1.000000e+00  2.000000e+00  \n",
       "50%    1.000000e+00  2.000000e+00  \n",
       "75%    2.000000e+00  2.000000e+00  \n",
       "max    2.000000e+00  3.000000e+00  "
      ]
     },
     "execution_count": 73,
     "metadata": {},
     "output_type": "execute_result"
    }
   ],
   "source": [
    "start_time = time.time()\n",
    "pp_test = PUS_start.copy()\n",
    "pp_test = pp_pipeline(pp_test)\n",
    "print(\" %s min\" % round(((time.time() - start_time)/60), 2))\n",
    "pp_test.describe(include='all')"
   ]
  },
  {
   "cell_type": "markdown",
   "metadata": {},
   "source": [
    "## MODELING"
   ]
  },
  {
   "cell_type": "code",
   "execution_count": 74,
   "metadata": {},
   "outputs": [],
   "source": [
    "from sklearn.ensemble import RandomForestRegressor\n",
    "from sklearn.metrics import mean_absolute_error\n",
    "from sklearn.model_selection import GridSearchCV, cross_val_score, StratifiedKFold\n",
    "import xgboost as xgb\n",
    "from xgboost import XGBClassifier\n",
    "from sklearn.model_selection import train_test_split\n",
    "from sklearn.neural_network import MLPRegressor\n",
    "from sklearn.feature_selection import SelectFromModel"
   ]
  },
  {
   "cell_type": "code",
   "execution_count": 75,
   "metadata": {},
   "outputs": [
    {
     "data": {
      "text/plain": [
       "(104333, 7)"
      ]
     },
     "execution_count": 75,
     "metadata": {},
     "output_type": "execute_result"
    }
   ],
   "source": [
    "cv_split = pp_test.copy()\n",
    "cv_split.shape\n",
    "param_split = cv_split.sample(frac=0.02)\n",
    "param_split.shape"
   ]
  },
  {
   "cell_type": "code",
   "execution_count": 76,
   "metadata": {},
   "outputs": [],
   "source": [
    "param_y = param_split['WAGP']\n",
    "param_x = param_split.drop(['WAGP'], axis=1)"
   ]
  },
  {
   "cell_type": "code",
   "execution_count": 77,
   "metadata": {},
   "outputs": [
    {
     "name": "stdout",
     "output_type": "stream",
     "text": [
      "Fitting 3 folds for each of 8 candidates, totalling 24 fits\n"
     ]
    },
    {
     "name": "stderr",
     "output_type": "stream",
     "text": [
      "[Parallel(n_jobs=4)]: Using backend LokyBackend with 4 concurrent workers.\n",
      "[Parallel(n_jobs=4)]: Done  24 out of  24 | elapsed:   49.0s finished\n"
     ]
    },
    {
     "data": {
      "text/plain": [
       "-19419.629801756688"
      ]
     },
     "execution_count": 77,
     "metadata": {},
     "output_type": "execute_result"
    }
   ],
   "source": [
    "kfold = StratifiedKFold(n_splits=3)\n",
    "\n",
    "RFR = RandomForestRegressor()\n",
    "rfr_param_grid = {'n_estimators': [50, 100],\n",
    "                  'min_samples_split': [5, 10],\n",
    "                  'min_samples_leaf': [10, 20]}\n",
    "\n",
    "gsRFR = GridSearchCV(RFR, param_grid=rfr_param_grid, cv=kfold,\n",
    "                     scoring=\"neg_mean_absolute_error\", verbose=1, n_jobs=4)\n",
    "\n",
    "gsRFR.fit(param_x, param_y)\n",
    "\n",
    "RFR_best = gsRFR.best_estimator_\n",
    "\n",
    "gsRFR.best_score_"
   ]
  },
  {
   "cell_type": "code",
   "execution_count": 78,
   "metadata": {},
   "outputs": [
    {
     "data": {
      "text/plain": [
       "RandomForestRegressor(bootstrap=True, criterion='mse', max_depth=None,\n",
       "                      max_features='auto', max_leaf_nodes=None,\n",
       "                      min_impurity_decrease=0.0, min_impurity_split=None,\n",
       "                      min_samples_leaf=20, min_samples_split=5,\n",
       "                      min_weight_fraction_leaf=0.0, n_estimators=100,\n",
       "                      n_jobs=None, oob_score=False, random_state=None,\n",
       "                      verbose=0, warm_start=False)"
      ]
     },
     "execution_count": 78,
     "metadata": {},
     "output_type": "execute_result"
    }
   ],
   "source": [
    "RFR_best"
   ]
  },
  {
   "cell_type": "code",
   "execution_count": 79,
   "metadata": {},
   "outputs": [
    {
     "data": {
      "text/plain": [
       "(1564988, 7)"
      ]
     },
     "execution_count": 79,
     "metadata": {},
     "output_type": "execute_result"
    }
   ],
   "source": [
    "fit_split = cv_split.sample(frac=0.3)\n",
    "fit_split.shape"
   ]
  },
  {
   "cell_type": "code",
   "execution_count": 80,
   "metadata": {},
   "outputs": [],
   "source": [
    "y_full = fit_split['WAGP']\n",
    "X_full = fit_split.drop(['WAGP'], axis=1)"
   ]
  },
  {
   "cell_type": "code",
   "execution_count": 81,
   "metadata": {},
   "outputs": [],
   "source": [
    "X_train, X_valid, y_train, y_valid = train_test_split(\n",
    "    X_full, y_full, random_state=0)"
   ]
  },
  {
   "cell_type": "code",
   "execution_count": 82,
   "metadata": {},
   "outputs": [
    {
     "name": "stdout",
     "output_type": "stream",
     "text": [
      "MAE :  19421.138768583154\n",
      " 2.93 min\n"
     ]
    }
   ],
   "source": [
    "start_time = time.time()\n",
    "RFR_best.fit(X_train, y_train)\n",
    "pred_valid = RFR_best.predict(X_valid)\n",
    "print(\"MAE : \", mean_absolute_error(y_valid, pred_valid))\n",
    "print(\" %s min\" % round(((time.time() - start_time)/60), 2))"
   ]
  },
  {
   "cell_type": "code",
   "execution_count": 83,
   "metadata": {},
   "outputs": [
    {
     "data": {
      "text/plain": [
       "<matplotlib.axes._subplots.AxesSubplot at 0x214bf655f88>"
      ]
     },
     "execution_count": 83,
     "metadata": {},
     "output_type": "execute_result"
    },
    {
     "data": {
      "image/png": "[encoded data removed]",
      "text/plain": [
       "<Figure size 360x720 with 1 Axes>"
      ]
     },
     "metadata": {
      "needs_background": "light"
     },
     "output_type": "display_data"
    }
   ],
   "source": [
    "features = pd.DataFrame()\n",
    "features['feature'] = X_full.columns\n",
    "features['importance'] = RFR_best.feature_importances_\n",
    "features.sort_values(by=['importance'], ascending=True, inplace=True)\n",
    "features.set_index('feature', inplace=True)\n",
    "\n",
    "features.plot(kind='barh', figsize=(5, 10))"
   ]
  },
  {
   "cell_type": "markdown",
   "metadata": {},
   "source": [
    "## ANALYSIS"
   ]
  },
  {
   "cell_type": "code",
   "execution_count": 84,
   "metadata": {},
   "outputs": [],
   "source": [
    "def get_score(df):\n",
    "    y_5 = df['WAGP']\n",
    "    x_5 = df.drop(['WAGP'], axis=1)\n",
    "\n",
    "    preds_test = RFR_best.predict(x_5)\n",
    "    output = pd.DataFrame(\n",
    "        {'Index': x_5.index, 'WAG_pred': preds_test}).set_index('Index')\n",
    "\n",
    "    result = pd.concat([output, df], axis=1, sort=False)\n",
    "\n",
    "    m_output = result[result['SEX'] == 1]\n",
    "    f_output = result[result['SEX'] == 2]\n",
    "\n",
    "    m_g = m_output.groupby(['SEX', 'EDU', 'JOB', 'STSP', 'RACE', 'AGEB'], as_index=False).agg(\n",
    "        {'WAG_pred': ['count', 'mean'], 'WAGP': ['count', 'mean', 'median','std']})\n",
    "    m_g.columns = m_g.columns.map('_'.join).str.strip('_')\n",
    "\n",
    "    f_g = f_output.groupby(['SEX', 'EDU', 'JOB', 'STSP', 'RACE', 'AGEB'], as_index=False).agg(\n",
    "        {'WAG_pred': ['count', 'mean'], 'WAGP': ['count', 'mean', 'median','std']})\n",
    "    f_g.columns = f_g.columns.map('_'.join).str.strip('_')\n",
    "\n",
    "    g_df = pd.DataFrame({'m_WAG_prd': m_g.WAG_pred_mean, 'f_WAG_prd': f_g.WAG_pred_mean,\n",
    "                             'm_WAG_hrd_men': m_g.WAGP_mean, 'f_WAG_hrd_men': f_g.WAGP_mean,\n",
    "                             'm_WAG_hrd_med': m_g.WAGP_median, 'f_WAG_hrd_med': f_g.WAGP_median,\n",
    "                             'm_CT': m_g.WAGP_count, 'f_CT': f_g.WAGP_count,\n",
    "                           'm_STD': m_g.WAGP_std, 'f_STD': f_g.WAGP_std})\n",
    "\n",
    "    g_df = g_df.dropna()\n",
    "    g_df = g_df.loc[g_df.m_CT >= np.percentile(g_df.m_CT, 10)].copy()\n",
    "    g_df = g_df.loc[g_df.f_CT >= np.percentile(g_df.f_CT, 10)].copy()\n",
    "    g_df = g_df.loc[(g_df.m_STD <= np.nanpercentile(g_df.m_STD, 90))&\n",
    "                    (g_df.f_STD <= np.nanpercentile(g_df.f_STD, 90))].copy()\n",
    "\n",
    "    g_df['t_CT'] = g_df['m_CT'] + g_df['f_CT']\n",
    "    g_df['weight'] = g_df['t_CT'] / g_df['t_CT'].sum()\n",
    "\n",
    "    g_df['f_m_hrd_men'] = g_df['f_WAG_hrd_men'] / g_df['m_WAG_hrd_men']\n",
    "    g_df['value_hrd_men'] = g_df['f_m_hrd_men'] * g_df['weight']\n",
    "    g_df['std_hrd_men'] = g_df['f_m_hrd_men'] * g_df['weight']\n",
    "\n",
    "    g_df['f_m_hrd_med'] = g_df['f_WAG_hrd_med'] / g_df['m_WAG_hrd_med']\n",
    "    g_df['value_hrd_med'] = g_df['f_m_hrd_med'] * g_df['weight']\n",
    "\n",
    "    g_df['f_m_prd'] = g_df['f_WAG_prd']/g_df['m_WAG_prd']\n",
    "    g_df['value_prd'] = g_df['f_m_prd'] * g_df['weight']\n",
    "\n",
    "    hrd_men_ratio = round(g_df['value_hrd_men'].sum(), 3)\n",
    "    hrd_med_ratio = round(g_df['value_hrd_med'].sum(), 3)\n",
    "    prd_ratio = round(g_df['value_prd'].sum(), 3)\n",
    "    ratio_list = [hrd_men_ratio,hrd_med_ratio,prd_ratio]\n",
    "    mean_ratio = round(statistics.mean(ratio_list), 3)\n",
    "\n",
    "    hrd_men_std = round(g_df.f_m_hrd_men.std(), 3)\n",
    "    hrd_med_std = round(g_df.f_m_hrd_med.std(), 3)\n",
    "    prd_std = round(g_df.f_m_prd.std(), 3)\n",
    "\n",
    "    ratios = [mean_ratio, hrd_men_ratio, hrd_med_ratio, prd_ratio,\n",
    "              hrd_men_std, hrd_med_std, prd_std]\n",
    "\n",
    "    return ratios"
   ]
  },
  {
   "cell_type": "code",
   "execution_count": 85,
   "metadata": {},
   "outputs": [
    {
     "name": "stdout",
     "output_type": "stream",
     "text": [
      "Completed : 2008  Ratio:  [0.787, 0.786, 0.783, 0.792, 0.139, 0.154, 0.141]\n",
      "Completed : 2009  Ratio:  [0.782, 0.782, 0.779, 0.785, 0.11, 0.123, 0.094]\n",
      "Completed : 2010  Ratio:  [0.788, 0.788, 0.79, 0.785, 0.111, 0.133, 0.103]\n",
      "Completed : 2011  Ratio:  [0.798, 0.799, 0.8, 0.795, 0.146, 0.195, 0.154]\n",
      "Completed : 2012  Ratio:  [0.814, 0.817, 0.82, 0.806, 0.333, 0.346, 0.319]\n",
      "Completed : 2013  Ratio:  [0.829, 0.831, 0.831, 0.826, 0.228, 0.243, 0.216]\n",
      "Completed : 2014  Ratio:  [0.798, 0.798, 0.799, 0.798, 0.151, 0.168, 0.142]\n",
      "Completed : 2015  Ratio:  [0.786, 0.784, 0.785, 0.788, 0.094, 0.11, 0.095]\n",
      "Completed : 2016  Ratio:  [0.78, 0.779, 0.778, 0.782, 0.154, 0.163, 0.154]\n",
      "Completed : 2017  Ratio:  [0.786, 0.784, 0.788, 0.785, 0.146, 0.158, 0.159]\n",
      "Completed : 2018  Ratio:  [0.789, 0.788, 0.789, 0.79, 0.09, 0.104, 0.093]\n",
      " 11.51 min\n"
     ]
    }
   ],
   "source": [
    "years = list(range(2008, 2019))\n",
    "ratio_list = []\n",
    "start_time = time.time()\n",
    "for year in years:\n",
    "    useful_cols = ['WAGP', 'SEX', 'AGEP', 'RAC1P',\n",
    "                   'SCHL', 'WKW', 'WKHP', 'OCCP', 'POWSP', 'ST']\n",
    "    path = ('data/%s' % year)\n",
    "    temp = pd.concat([pd.read_csv(f, usecols=useful_cols)\n",
    "                      for f in glob.glob(path + \"/*.csv\")], ignore_index=True)\n",
    "    score = get_score(pp_pipeline(temp))\n",
    "    ratio_list.append(score)\n",
    "    print(\"Completed :\", year, \" Ratio: \", score)\n",
    "print(\" %s min\" % round(((time.time() - start_time)/60), 2))"
   ]
  },
  {
   "cell_type": "code",
   "execution_count": 86,
   "metadata": {},
   "outputs": [
    {
     "data": {
      "text/html": [
       "<div>\n",
       "<style scoped>\n",
       "    .dataframe tbody tr th:only-of-type {\n",
       "        vertical-align: middle;\n",
       "    }\n",
       "\n",
       "    .dataframe tbody tr th {\n",
       "        vertical-align: top;\n",
       "    }\n",
       "\n",
       "    .dataframe thead th {\n",
       "        text-align: right;\n",
       "    }\n",
       "</style>\n",
       "<table border=\"1\" class=\"dataframe\">\n",
       "  <thead>\n",
       "    <tr style=\"text-align: right;\">\n",
       "      <th></th>\n",
       "      <th>Female/Male</th>\n",
       "      <th>Mean_Ratio</th>\n",
       "      <th>Median_Ratio</th>\n",
       "      <th>Pred_Ratio</th>\n",
       "      <th>Mean_stdev</th>\n",
       "      <th>Median_stdev</th>\n",
       "      <th>Pred_stdev</th>\n",
       "      <th>Year</th>\n",
       "    </tr>\n",
       "  </thead>\n",
       "  <tbody>\n",
       "    <tr>\n",
       "      <td>0</td>\n",
       "      <td>0.787</td>\n",
       "      <td>0.786</td>\n",
       "      <td>0.783</td>\n",
       "      <td>0.792</td>\n",
       "      <td>0.139</td>\n",
       "      <td>0.154</td>\n",
       "      <td>0.141</td>\n",
       "      <td>2008</td>\n",
       "    </tr>\n",
       "    <tr>\n",
       "      <td>1</td>\n",
       "      <td>0.782</td>\n",
       "      <td>0.782</td>\n",
       "      <td>0.779</td>\n",
       "      <td>0.785</td>\n",
       "      <td>0.110</td>\n",
       "      <td>0.123</td>\n",
       "      <td>0.094</td>\n",
       "      <td>2009</td>\n",
       "    </tr>\n",
       "    <tr>\n",
       "      <td>2</td>\n",
       "      <td>0.788</td>\n",
       "      <td>0.788</td>\n",
       "      <td>0.790</td>\n",
       "      <td>0.785</td>\n",
       "      <td>0.111</td>\n",
       "      <td>0.133</td>\n",
       "      <td>0.103</td>\n",
       "      <td>2010</td>\n",
       "    </tr>\n",
       "    <tr>\n",
       "      <td>3</td>\n",
       "      <td>0.798</td>\n",
       "      <td>0.799</td>\n",
       "      <td>0.800</td>\n",
       "      <td>0.795</td>\n",
       "      <td>0.146</td>\n",
       "      <td>0.195</td>\n",
       "      <td>0.154</td>\n",
       "      <td>2011</td>\n",
       "    </tr>\n",
       "    <tr>\n",
       "      <td>4</td>\n",
       "      <td>0.814</td>\n",
       "      <td>0.817</td>\n",
       "      <td>0.820</td>\n",
       "      <td>0.806</td>\n",
       "      <td>0.333</td>\n",
       "      <td>0.346</td>\n",
       "      <td>0.319</td>\n",
       "      <td>2012</td>\n",
       "    </tr>\n",
       "    <tr>\n",
       "      <td>5</td>\n",
       "      <td>0.829</td>\n",
       "      <td>0.831</td>\n",
       "      <td>0.831</td>\n",
       "      <td>0.826</td>\n",
       "      <td>0.228</td>\n",
       "      <td>0.243</td>\n",
       "      <td>0.216</td>\n",
       "      <td>2013</td>\n",
       "    </tr>\n",
       "    <tr>\n",
       "      <td>6</td>\n",
       "      <td>0.798</td>\n",
       "      <td>0.798</td>\n",
       "      <td>0.799</td>\n",
       "      <td>0.798</td>\n",
       "      <td>0.151</td>\n",
       "      <td>0.168</td>\n",
       "      <td>0.142</td>\n",
       "      <td>2014</td>\n",
       "    </tr>\n",
       "    <tr>\n",
       "      <td>7</td>\n",
       "      <td>0.786</td>\n",
       "      <td>0.784</td>\n",
       "      <td>0.785</td>\n",
       "      <td>0.788</td>\n",
       "      <td>0.094</td>\n",
       "      <td>0.110</td>\n",
       "      <td>0.095</td>\n",
       "      <td>2015</td>\n",
       "    </tr>\n",
       "    <tr>\n",
       "      <td>8</td>\n",
       "      <td>0.780</td>\n",
       "      <td>0.779</td>\n",
       "      <td>0.778</td>\n",
       "      <td>0.782</td>\n",
       "      <td>0.154</td>\n",
       "      <td>0.163</td>\n",
       "      <td>0.154</td>\n",
       "      <td>2016</td>\n",
       "    </tr>\n",
       "    <tr>\n",
       "      <td>9</td>\n",
       "      <td>0.786</td>\n",
       "      <td>0.784</td>\n",
       "      <td>0.788</td>\n",
       "      <td>0.785</td>\n",
       "      <td>0.146</td>\n",
       "      <td>0.158</td>\n",
       "      <td>0.159</td>\n",
       "      <td>2017</td>\n",
       "    </tr>\n",
       "    <tr>\n",
       "      <td>10</td>\n",
       "      <td>0.789</td>\n",
       "      <td>0.788</td>\n",
       "      <td>0.789</td>\n",
       "      <td>0.790</td>\n",
       "      <td>0.090</td>\n",
       "      <td>0.104</td>\n",
       "      <td>0.093</td>\n",
       "      <td>2018</td>\n",
       "    </tr>\n",
       "  </tbody>\n",
       "</table>\n",
       "</div>"
      ],
      "text/plain": [
       "    Female/Male  Mean_Ratio  Median_Ratio  Pred_Ratio  Mean_stdev  \\\n",
       "0         0.787       0.786         0.783       0.792       0.139   \n",
       "1         0.782       0.782         0.779       0.785       0.110   \n",
       "2         0.788       0.788         0.790       0.785       0.111   \n",
       "3         0.798       0.799         0.800       0.795       0.146   \n",
       "4         0.814       0.817         0.820       0.806       0.333   \n",
       "5         0.829       0.831         0.831       0.826       0.228   \n",
       "6         0.798       0.798         0.799       0.798       0.151   \n",
       "7         0.786       0.784         0.785       0.788       0.094   \n",
       "8         0.780       0.779         0.778       0.782       0.154   \n",
       "9         0.786       0.784         0.788       0.785       0.146   \n",
       "10        0.789       0.788         0.789       0.790       0.090   \n",
       "\n",
       "    Median_stdev  Pred_stdev  Year  \n",
       "0          0.154       0.141  2008  \n",
       "1          0.123       0.094  2009  \n",
       "2          0.133       0.103  2010  \n",
       "3          0.195       0.154  2011  \n",
       "4          0.346       0.319  2012  \n",
       "5          0.243       0.216  2013  \n",
       "6          0.168       0.142  2014  \n",
       "7          0.110       0.095  2015  \n",
       "8          0.163       0.154  2016  \n",
       "9          0.158       0.159  2017  \n",
       "10         0.104       0.093  2018  "
      ]
     },
     "execution_count": 86,
     "metadata": {},
     "output_type": "execute_result"
    }
   ],
   "source": [
    "scores = pd.DataFrame(ratio_list, columns=['Female/Male', 'Mean_Ratio', 'Median_Ratio', 'Pred_Ratio',\n",
    "                                           'Mean_stdev', 'Median_stdev', 'Pred_stdev'])\n",
    "scores['Year'] = years\n",
    "scores"
   ]
  },
  {
   "cell_type": "code",
   "execution_count": 87,
   "metadata": {},
   "outputs": [
    {
     "data": {
      "image/png": "[encoded data removed]",
      "text/plain": [
       "<Figure size 360x360 with 1 Axes>"
      ]
     },
     "metadata": {
      "needs_background": "light"
     },
     "output_type": "display_data"
    }
   ],
   "source": [
    "g = sns.catplot(y='Female/Male', x=\"Year\", data=scores,\n",
    "                kind=\"bar\", **{'yerr': scores['Pred_stdev']})"
   ]
  },
  {
   "cell_type": "code",
   "execution_count": 88,
   "metadata": {},
   "outputs": [
    {
     "name": "stdout",
     "output_type": "stream",
     "text": [
      "(34291600, 10)\n",
      " 7.03 min\n"
     ]
    }
   ],
   "source": [
    "start_time = time.time()\n",
    "useful_cols = ['WAGP', 'SEX', 'AGEP', 'RAC1P',\n",
    "               'SCHL', 'WKW', 'WKHP', 'OCCP', 'POWSP', 'ST']\n",
    "path = r'data'\n",
    "PUS_full = pd.concat([pd.read_csv(f, usecols=useful_cols) for f in glob.glob(\n",
    "    path + \"/**/*.csv\", recursive=True)], ignore_index=True)\n",
    "print(PUS_full.shape)\n",
    "print(\" %s min\" % round(((time.time() - start_time)/60), 2))"
   ]
  },
  {
   "cell_type": "code",
   "execution_count": 89,
   "metadata": {},
   "outputs": [],
   "source": [
    "test_PUS = pp_pipeline(PUS_full)"
   ]
  },
  {
   "cell_type": "code",
   "execution_count": 90,
   "metadata": {},
   "outputs": [],
   "source": [
    "score = get_score(test_PUS)"
   ]
  },
  {
   "cell_type": "code",
   "execution_count": null,
   "metadata": {},
   "outputs": [],
   "source": [
    "def df_isolate(df, sex, age, edu, job):\n",
    "    wanted_df = test_PUS.loc[(df.SEX == sex) &\n",
    "                             (df.AGEB == age) &\n",
    "                             (df.EDU == edu) &\n",
    "                             (df.JOB == job)\n",
    "                             ].copy()\n",
    "    print(\"Median Wage: \", want_df.WAGP.median())\n",
    "    ax = sns.boxplot(x=want_df[\"WAGP\"])\n",
    "    return wanted_df"
   ]
  },
  {
   "cell_type": "code",
   "execution_count": null,
   "metadata": {},
   "outputs": [],
   "source": [
    "Sex = input(\"\"\"Enter gender:\n",
    "            1 = Male\n",
    "            2 = Female\n",
    "            \"\"\")\n",
    "Age = input(\"\"\"Enter age bin:\n",
    "            1 = 18-25\n",
    "            2 = 26-35\n",
    "            3 = 36-45 or 66-70\n",
    "            4 = 46-65\n",
    "            \"\"\")\n",
    "Edu = input(\"\"\"Enter level of eduation:\n",
    "            1 = No HS or HS Equivalent\n",
    "            2 = Some College or Associates\n",
    "            3 = Bachlors Degree\n",
    "            4 = Masters Degree\n",
    "            5 = Doctorate or Higher\n",
    "            \"\"\")\n",
    "Job = input(\"\"\"Enter job industry:\n",
    "            1 = Production, Service, Transportation\n",
    "            2 = Military, Sales, Maintenance\n",
    "            3 = Arts, Healthcare,\n",
    "            4 = Science, Business\n",
    "            \"\"\")\n",
    "\n",
    "want_df = df_isolate(test_PUS, Sex, Age, Edu, Job)"
   ]
  },
  {
   "cell_type": "code",
   "execution_count": null,
   "metadata": {},
   "outputs": [],
   "source": [
    "g = sns.catplot(y=\"WAGP\", x = 'EDU',hue = 'JOB',data=test_PUS,kind=\"box\")"
   ]
  },
  {
   "cell_type": "code",
   "execution_count": null,
   "metadata": {},
   "outputs": [],
   "source": [
    "g = sns.catplot(y=\"WAGP\", x = 'EDU',hue = 'JOB',data=test_PUS,kind=\"box\")"
   ]
  },
  {
   "cell_type": "code",
   "execution_count": null,
   "metadata": {},
   "outputs": [],
   "source": [
    "g = sns.catplot(y=\"WAGP\", x = 'AGEB',hue = 'EDU',data=test_PUS,kind=\"box\")"
   ]
  },
  {
   "cell_type": "code",
   "execution_count": null,
   "metadata": {},
   "outputs": [],
   "source": []
  }
 ],
 "metadata": {
  "kernelspec": {
   "display_name": "py_36_env",
   "language": "python",
   "name": "py_36_env"
  },
  "language_info": {
   "codemirror_mode": {
    "name": "ipython",
    "version": 3
   },
   "file_extension": ".py",
   "mimetype": "text/x-python",
   "name": "python",
   "nbconvert_exporter": "python",
   "pygments_lexer": "ipython3",
   "version": "3.7.4"
  }
 },
 "nbformat": 4,
 "nbformat_minor": 2
}
