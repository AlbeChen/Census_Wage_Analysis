{
 "cells": [
  {
   "cell_type": "code",
   "execution_count": 55,
   "metadata": {},
   "outputs": [],
   "source": [
    "a = [2, 4, 6 ,9]\n",
    "b = [1,2,3,5]"
   ]
  },
  {
   "cell_type": "code",
   "execution_count": 56,
   "metadata": {},
   "outputs": [
    {
     "name": "stdout",
     "output_type": "stream",
     "text": [
      "4 2\n",
      "6 3\n",
      "6 2\n",
      "9 5\n",
      "9 4\n",
      "9 3\n",
      "9 2\n",
      "[2, 4, 6, 9, 4, 6, 6, 9, 9, 9, 9] 2.540579747724022\n"
     ]
    }
   ],
   "source": [
    "for (x,y) in zip(a,b):\n",
    "    while y > 1:\n",
    "        print (x,y)\n",
    "        a.append(x)\n",
    "        y = y-1\n",
    "print (a,statistics.stdev(a))"
   ]
  },
  {
   "cell_type": "code",
   "execution_count": null,
   "metadata": {},
   "outputs": [],
   "source": [
    "\n",
    "statistics.stdev(A_rank)"
   ]
  },
  {
   "cell_type": "code",
   "execution_count": 3,
   "metadata": {},
   "outputs": [],
   "source": [
    "# Importing\n",
    "import pandas as pd\n",
    "import seaborn as sns\n",
    "import matplotlib.pyplot as plt\n",
    "import numpy as np\n",
    "import statistics\n",
    "\n",
    "from sklearn.preprocessing import OneHotEncoder\n",
    "\n",
    "import glob\n",
    "import time\n",
    "useful_cols = ['WAGP', 'SEX', 'AGEP', 'RAC1P',\n",
    "                   'SCHL', 'WKW', 'WKHP', 'OCCP', 'POWSP', 'ST', 'HISP']"
   ]
  },
  {
   "cell_type": "code",
   "execution_count": 35,
   "metadata": {},
   "outputs": [
    {
     "data": {
      "text/html": [
       "<div>\n",
       "<style scoped>\n",
       "    .dataframe tbody tr th:only-of-type {\n",
       "        vertical-align: middle;\n",
       "    }\n",
       "\n",
       "    .dataframe tbody tr th {\n",
       "        vertical-align: top;\n",
       "    }\n",
       "\n",
       "    .dataframe thead th {\n",
       "        text-align: right;\n",
       "    }\n",
       "</style>\n",
       "<table border=\"1\" class=\"dataframe\">\n",
       "  <thead>\n",
       "    <tr style=\"text-align: right;\">\n",
       "      <th></th>\n",
       "      <th>ST</th>\n",
       "      <th>AGEP</th>\n",
       "      <th>SCHL</th>\n",
       "      <th>SEX</th>\n",
       "      <th>WAGP</th>\n",
       "      <th>WKHP</th>\n",
       "      <th>WKW</th>\n",
       "      <th>HISP</th>\n",
       "      <th>OCCP</th>\n",
       "      <th>POWSP</th>\n",
       "      <th>RAC1P</th>\n",
       "    </tr>\n",
       "  </thead>\n",
       "  <tbody>\n",
       "    <tr>\n",
       "      <td>count</td>\n",
       "      <td>3.132610e+06</td>\n",
       "      <td>3.132610e+06</td>\n",
       "      <td>3.036486e+06</td>\n",
       "      <td>3.132610e+06</td>\n",
       "      <td>3132610</td>\n",
       "      <td>3132610</td>\n",
       "      <td>1.593819e+06</td>\n",
       "      <td>3.132610e+06</td>\n",
       "      <td>1.839095e+06</td>\n",
       "      <td>1.392369e+06</td>\n",
       "      <td>3.132610e+06</td>\n",
       "    </tr>\n",
       "    <tr>\n",
       "      <td>unique</td>\n",
       "      <td>NaN</td>\n",
       "      <td>NaN</td>\n",
       "      <td>NaN</td>\n",
       "      <td>NaN</td>\n",
       "      <td>912</td>\n",
       "      <td>100</td>\n",
       "      <td>NaN</td>\n",
       "      <td>NaN</td>\n",
       "      <td>NaN</td>\n",
       "      <td>NaN</td>\n",
       "      <td>NaN</td>\n",
       "    </tr>\n",
       "    <tr>\n",
       "      <td>top</td>\n",
       "      <td>NaN</td>\n",
       "      <td>NaN</td>\n",
       "      <td>NaN</td>\n",
       "      <td>NaN</td>\n",
       "      <td>0000000</td>\n",
       "      <td></td>\n",
       "      <td>NaN</td>\n",
       "      <td>NaN</td>\n",
       "      <td>NaN</td>\n",
       "      <td>NaN</td>\n",
       "      <td>NaN</td>\n",
       "    </tr>\n",
       "    <tr>\n",
       "      <td>freq</td>\n",
       "      <td>NaN</td>\n",
       "      <td>NaN</td>\n",
       "      <td>NaN</td>\n",
       "      <td>NaN</td>\n",
       "      <td>1094408</td>\n",
       "      <td>1538791</td>\n",
       "      <td>NaN</td>\n",
       "      <td>NaN</td>\n",
       "      <td>NaN</td>\n",
       "      <td>NaN</td>\n",
       "      <td>NaN</td>\n",
       "    </tr>\n",
       "    <tr>\n",
       "      <td>mean</td>\n",
       "      <td>2.764671e+01</td>\n",
       "      <td>4.082344e+01</td>\n",
       "      <td>1.589662e+01</td>\n",
       "      <td>1.511835e+00</td>\n",
       "      <td>NaN</td>\n",
       "      <td>NaN</td>\n",
       "      <td>1.909145e+00</td>\n",
       "      <td>1.547023e+00</td>\n",
       "      <td>4.327615e+03</td>\n",
       "      <td>2.801172e+01</td>\n",
       "      <td>1.870905e+00</td>\n",
       "    </tr>\n",
       "    <tr>\n",
       "      <td>std</td>\n",
       "      <td>1.604538e+01</td>\n",
       "      <td>2.354995e+01</td>\n",
       "      <td>5.652000e+00</td>\n",
       "      <td>4.998600e-01</td>\n",
       "      <td>NaN</td>\n",
       "      <td>NaN</td>\n",
       "      <td>1.640101e+00</td>\n",
       "      <td>2.599187e+00</td>\n",
       "      <td>2.617443e+03</td>\n",
       "      <td>1.771404e+01</td>\n",
       "      <td>2.074344e+00</td>\n",
       "    </tr>\n",
       "    <tr>\n",
       "      <td>min</td>\n",
       "      <td>1.000000e+00</td>\n",
       "      <td>0.000000e+00</td>\n",
       "      <td>1.000000e+00</td>\n",
       "      <td>1.000000e+00</td>\n",
       "      <td>NaN</td>\n",
       "      <td>NaN</td>\n",
       "      <td>1.000000e+00</td>\n",
       "      <td>1.000000e+00</td>\n",
       "      <td>1.000000e+01</td>\n",
       "      <td>1.000000e+00</td>\n",
       "      <td>1.000000e+00</td>\n",
       "    </tr>\n",
       "    <tr>\n",
       "      <td>25%</td>\n",
       "      <td>1.200000e+01</td>\n",
       "      <td>2.000000e+01</td>\n",
       "      <td>1.400000e+01</td>\n",
       "      <td>1.000000e+00</td>\n",
       "      <td>NaN</td>\n",
       "      <td>NaN</td>\n",
       "      <td>1.000000e+00</td>\n",
       "      <td>1.000000e+00</td>\n",
       "      <td>2.310000e+03</td>\n",
       "      <td>1.200000e+01</td>\n",
       "      <td>1.000000e+00</td>\n",
       "    </tr>\n",
       "    <tr>\n",
       "      <td>50%</td>\n",
       "      <td>2.700000e+01</td>\n",
       "      <td>4.200000e+01</td>\n",
       "      <td>1.700000e+01</td>\n",
       "      <td>2.000000e+00</td>\n",
       "      <td>NaN</td>\n",
       "      <td>NaN</td>\n",
       "      <td>1.000000e+00</td>\n",
       "      <td>1.000000e+00</td>\n",
       "      <td>4.320000e+03</td>\n",
       "      <td>2.700000e+01</td>\n",
       "      <td>1.000000e+00</td>\n",
       "    </tr>\n",
       "    <tr>\n",
       "      <td>75%</td>\n",
       "      <td>4.200000e+01</td>\n",
       "      <td>5.900000e+01</td>\n",
       "      <td>2.000000e+01</td>\n",
       "      <td>2.000000e+00</td>\n",
       "      <td>NaN</td>\n",
       "      <td>NaN</td>\n",
       "      <td>2.000000e+00</td>\n",
       "      <td>1.000000e+00</td>\n",
       "      <td>5.700000e+03</td>\n",
       "      <td>4.200000e+01</td>\n",
       "      <td>1.000000e+00</td>\n",
       "    </tr>\n",
       "    <tr>\n",
       "      <td>max</td>\n",
       "      <td>5.600000e+01</td>\n",
       "      <td>9.600000e+01</td>\n",
       "      <td>2.400000e+01</td>\n",
       "      <td>2.000000e+00</td>\n",
       "      <td>NaN</td>\n",
       "      <td>NaN</td>\n",
       "      <td>6.000000e+00</td>\n",
       "      <td>2.400000e+01</td>\n",
       "      <td>9.920000e+03</td>\n",
       "      <td>5.550000e+02</td>\n",
       "      <td>9.000000e+00</td>\n",
       "    </tr>\n",
       "  </tbody>\n",
       "</table>\n",
       "</div>"
      ],
      "text/plain": [
       "                  ST          AGEP          SCHL           SEX     WAGP  \\\n",
       "count   3.132610e+06  3.132610e+06  3.036486e+06  3.132610e+06  3132610   \n",
       "unique           NaN           NaN           NaN           NaN      912   \n",
       "top              NaN           NaN           NaN           NaN  0000000   \n",
       "freq             NaN           NaN           NaN           NaN  1094408   \n",
       "mean    2.764671e+01  4.082344e+01  1.589662e+01  1.511835e+00      NaN   \n",
       "std     1.604538e+01  2.354995e+01  5.652000e+00  4.998600e-01      NaN   \n",
       "min     1.000000e+00  0.000000e+00  1.000000e+00  1.000000e+00      NaN   \n",
       "25%     1.200000e+01  2.000000e+01  1.400000e+01  1.000000e+00      NaN   \n",
       "50%     2.700000e+01  4.200000e+01  1.700000e+01  2.000000e+00      NaN   \n",
       "75%     4.200000e+01  5.900000e+01  2.000000e+01  2.000000e+00      NaN   \n",
       "max     5.600000e+01  9.600000e+01  2.400000e+01  2.000000e+00      NaN   \n",
       "\n",
       "           WKHP           WKW          HISP          OCCP         POWSP  \\\n",
       "count   3132610  1.593819e+06  3.132610e+06  1.839095e+06  1.392369e+06   \n",
       "unique      100           NaN           NaN           NaN           NaN   \n",
       "top                       NaN           NaN           NaN           NaN   \n",
       "freq    1538791           NaN           NaN           NaN           NaN   \n",
       "mean        NaN  1.909145e+00  1.547023e+00  4.327615e+03  2.801172e+01   \n",
       "std         NaN  1.640101e+00  2.599187e+00  2.617443e+03  1.771404e+01   \n",
       "min         NaN  1.000000e+00  1.000000e+00  1.000000e+01  1.000000e+00   \n",
       "25%         NaN  1.000000e+00  1.000000e+00  2.310000e+03  1.200000e+01   \n",
       "50%         NaN  1.000000e+00  1.000000e+00  4.320000e+03  2.700000e+01   \n",
       "75%         NaN  2.000000e+00  1.000000e+00  5.700000e+03  4.200000e+01   \n",
       "max         NaN  6.000000e+00  2.400000e+01  9.920000e+03  5.550000e+02   \n",
       "\n",
       "               RAC1P  \n",
       "count   3.132610e+06  \n",
       "unique           NaN  \n",
       "top              NaN  \n",
       "freq             NaN  \n",
       "mean    1.870905e+00  \n",
       "std     2.074344e+00  \n",
       "min     1.000000e+00  \n",
       "25%     1.000000e+00  \n",
       "50%     1.000000e+00  \n",
       "75%     1.000000e+00  \n",
       "max     9.000000e+00  "
      ]
     },
     "execution_count": 35,
     "metadata": {},
     "output_type": "execute_result"
    }
   ],
   "source": [
    "helpme = pd.read_csv('data/2014/ss14pus.csv', usecols = useful_cols)\n",
    "helpme.describe(include='all')"
   ]
  },
  {
   "cell_type": "code",
   "execution_count": 57,
   "metadata": {},
   "outputs": [],
   "source": [
    "def convert_num(dumb):\n",
    "    for x in ['WAGP', 'WKHP']:\n",
    "        dumb[x] = dumb[x].map(lambda y: 0 if y == \"0000000\" \n",
    "                                        else 0 if y == ' '\n",
    "                                        else y)\n",
    "        dumb[x] = pd.to_numeric(dumb[x])\n",
    "    return dumb"
   ]
  },
  {
   "cell_type": "code",
   "execution_count": 61,
   "metadata": {},
   "outputs": [],
   "source": [
    "dumb = convert_num(helpme)\n",
    "dumb.to_csv(('data/2014/ss14pus.csv'),index=False)"
   ]
  },
  {
   "cell_type": "code",
   "execution_count": 59,
   "metadata": {},
   "outputs": [
    {
     "data": {
      "text/html": [
       "<div>\n",
       "<style scoped>\n",
       "    .dataframe tbody tr th:only-of-type {\n",
       "        vertical-align: middle;\n",
       "    }\n",
       "\n",
       "    .dataframe tbody tr th {\n",
       "        vertical-align: top;\n",
       "    }\n",
       "\n",
       "    .dataframe thead th {\n",
       "        text-align: right;\n",
       "    }\n",
       "</style>\n",
       "<table border=\"1\" class=\"dataframe\">\n",
       "  <thead>\n",
       "    <tr style=\"text-align: right;\">\n",
       "      <th></th>\n",
       "      <th>ST</th>\n",
       "      <th>AGEP</th>\n",
       "      <th>SCHL</th>\n",
       "      <th>SEX</th>\n",
       "      <th>WAGP</th>\n",
       "      <th>WKHP</th>\n",
       "      <th>WKW</th>\n",
       "      <th>HISP</th>\n",
       "      <th>OCCP</th>\n",
       "      <th>POWSP</th>\n",
       "      <th>RAC1P</th>\n",
       "    </tr>\n",
       "  </thead>\n",
       "  <tbody>\n",
       "    <tr>\n",
       "      <td>count</td>\n",
       "      <td>3.132610e+06</td>\n",
       "      <td>3.132610e+06</td>\n",
       "      <td>3.036486e+06</td>\n",
       "      <td>3.132610e+06</td>\n",
       "      <td>3.132610e+06</td>\n",
       "      <td>3.132610e+06</td>\n",
       "      <td>1.593819e+06</td>\n",
       "      <td>3.132610e+06</td>\n",
       "      <td>1.839095e+06</td>\n",
       "      <td>1.392369e+06</td>\n",
       "      <td>3.132610e+06</td>\n",
       "    </tr>\n",
       "    <tr>\n",
       "      <td>mean</td>\n",
       "      <td>2.764671e+01</td>\n",
       "      <td>4.082344e+01</td>\n",
       "      <td>1.589662e+01</td>\n",
       "      <td>1.511835e+00</td>\n",
       "      <td>2.157582e+04</td>\n",
       "      <td>1.931513e+01</td>\n",
       "      <td>1.909145e+00</td>\n",
       "      <td>1.547023e+00</td>\n",
       "      <td>4.327615e+03</td>\n",
       "      <td>2.801172e+01</td>\n",
       "      <td>1.870905e+00</td>\n",
       "    </tr>\n",
       "    <tr>\n",
       "      <td>std</td>\n",
       "      <td>1.604538e+01</td>\n",
       "      <td>2.354995e+01</td>\n",
       "      <td>5.652000e+00</td>\n",
       "      <td>4.998600e-01</td>\n",
       "      <td>4.478653e+04</td>\n",
       "      <td>2.123883e+01</td>\n",
       "      <td>1.640101e+00</td>\n",
       "      <td>2.599187e+00</td>\n",
       "      <td>2.617443e+03</td>\n",
       "      <td>1.771404e+01</td>\n",
       "      <td>2.074344e+00</td>\n",
       "    </tr>\n",
       "    <tr>\n",
       "      <td>min</td>\n",
       "      <td>1.000000e+00</td>\n",
       "      <td>0.000000e+00</td>\n",
       "      <td>1.000000e+00</td>\n",
       "      <td>1.000000e+00</td>\n",
       "      <td>0.000000e+00</td>\n",
       "      <td>0.000000e+00</td>\n",
       "      <td>1.000000e+00</td>\n",
       "      <td>1.000000e+00</td>\n",
       "      <td>1.000000e+01</td>\n",
       "      <td>1.000000e+00</td>\n",
       "      <td>1.000000e+00</td>\n",
       "    </tr>\n",
       "    <tr>\n",
       "      <td>25%</td>\n",
       "      <td>1.200000e+01</td>\n",
       "      <td>2.000000e+01</td>\n",
       "      <td>1.400000e+01</td>\n",
       "      <td>1.000000e+00</td>\n",
       "      <td>0.000000e+00</td>\n",
       "      <td>0.000000e+00</td>\n",
       "      <td>1.000000e+00</td>\n",
       "      <td>1.000000e+00</td>\n",
       "      <td>2.310000e+03</td>\n",
       "      <td>1.200000e+01</td>\n",
       "      <td>1.000000e+00</td>\n",
       "    </tr>\n",
       "    <tr>\n",
       "      <td>50%</td>\n",
       "      <td>2.700000e+01</td>\n",
       "      <td>4.200000e+01</td>\n",
       "      <td>1.700000e+01</td>\n",
       "      <td>2.000000e+00</td>\n",
       "      <td>0.000000e+00</td>\n",
       "      <td>6.000000e+00</td>\n",
       "      <td>1.000000e+00</td>\n",
       "      <td>1.000000e+00</td>\n",
       "      <td>4.320000e+03</td>\n",
       "      <td>2.700000e+01</td>\n",
       "      <td>1.000000e+00</td>\n",
       "    </tr>\n",
       "    <tr>\n",
       "      <td>75%</td>\n",
       "      <td>4.200000e+01</td>\n",
       "      <td>5.900000e+01</td>\n",
       "      <td>2.000000e+01</td>\n",
       "      <td>2.000000e+00</td>\n",
       "      <td>3.000000e+04</td>\n",
       "      <td>4.000000e+01</td>\n",
       "      <td>2.000000e+00</td>\n",
       "      <td>1.000000e+00</td>\n",
       "      <td>5.700000e+03</td>\n",
       "      <td>4.200000e+01</td>\n",
       "      <td>1.000000e+00</td>\n",
       "    </tr>\n",
       "    <tr>\n",
       "      <td>max</td>\n",
       "      <td>5.600000e+01</td>\n",
       "      <td>9.600000e+01</td>\n",
       "      <td>2.400000e+01</td>\n",
       "      <td>2.000000e+00</td>\n",
       "      <td>6.420000e+05</td>\n",
       "      <td>9.900000e+01</td>\n",
       "      <td>6.000000e+00</td>\n",
       "      <td>2.400000e+01</td>\n",
       "      <td>9.920000e+03</td>\n",
       "      <td>5.550000e+02</td>\n",
       "      <td>9.000000e+00</td>\n",
       "    </tr>\n",
       "  </tbody>\n",
       "</table>\n",
       "</div>"
      ],
      "text/plain": [
       "                 ST          AGEP          SCHL           SEX          WAGP  \\\n",
       "count  3.132610e+06  3.132610e+06  3.036486e+06  3.132610e+06  3.132610e+06   \n",
       "mean   2.764671e+01  4.082344e+01  1.589662e+01  1.511835e+00  2.157582e+04   \n",
       "std    1.604538e+01  2.354995e+01  5.652000e+00  4.998600e-01  4.478653e+04   \n",
       "min    1.000000e+00  0.000000e+00  1.000000e+00  1.000000e+00  0.000000e+00   \n",
       "25%    1.200000e+01  2.000000e+01  1.400000e+01  1.000000e+00  0.000000e+00   \n",
       "50%    2.700000e+01  4.200000e+01  1.700000e+01  2.000000e+00  0.000000e+00   \n",
       "75%    4.200000e+01  5.900000e+01  2.000000e+01  2.000000e+00  3.000000e+04   \n",
       "max    5.600000e+01  9.600000e+01  2.400000e+01  2.000000e+00  6.420000e+05   \n",
       "\n",
       "               WKHP           WKW          HISP          OCCP         POWSP  \\\n",
       "count  3.132610e+06  1.593819e+06  3.132610e+06  1.839095e+06  1.392369e+06   \n",
       "mean   1.931513e+01  1.909145e+00  1.547023e+00  4.327615e+03  2.801172e+01   \n",
       "std    2.123883e+01  1.640101e+00  2.599187e+00  2.617443e+03  1.771404e+01   \n",
       "min    0.000000e+00  1.000000e+00  1.000000e+00  1.000000e+01  1.000000e+00   \n",
       "25%    0.000000e+00  1.000000e+00  1.000000e+00  2.310000e+03  1.200000e+01   \n",
       "50%    6.000000e+00  1.000000e+00  1.000000e+00  4.320000e+03  2.700000e+01   \n",
       "75%    4.000000e+01  2.000000e+00  1.000000e+00  5.700000e+03  4.200000e+01   \n",
       "max    9.900000e+01  6.000000e+00  2.400000e+01  9.920000e+03  5.550000e+02   \n",
       "\n",
       "              RAC1P  \n",
       "count  3.132610e+06  \n",
       "mean   1.870905e+00  \n",
       "std    2.074344e+00  \n",
       "min    1.000000e+00  \n",
       "25%    1.000000e+00  \n",
       "50%    1.000000e+00  \n",
       "75%    1.000000e+00  \n",
       "max    9.000000e+00  "
      ]
     },
     "execution_count": 59,
     "metadata": {},
     "output_type": "execute_result"
    }
   ],
   "source": [
    "dumb.describe(include='all')"
   ]
  },
  {
   "cell_type": "code",
   "execution_count": 4,
   "metadata": {},
   "outputs": [
    {
     "name": "stdout",
     "output_type": "stream",
     "text": [
      "(3214539, 11)\n",
      " 1.54 min\n"
     ]
    }
   ],
   "source": [
    "start_time = time.time()\n",
    "path = r'data/2018'\n",
    "PUS_full = pd.concat([pd.read_csv(f, usecols = useful_cols) for f in glob.glob(path + \"/*.csv\", recursive = True)], ignore_index=True)\n",
    "print (PUS_full.shape)\n",
    "PUS_full.to_csv((path + \"/ss18pus.csv\"),index=False)\n",
    "print(\" %s min\" % round(((time.time() - start_time)/60),2))"
   ]
  },
  {
   "cell_type": "code",
   "execution_count": 5,
   "metadata": {},
   "outputs": [
    {
     "name": "stdout",
     "output_type": "stream",
     "text": [
      "(3190040, 11)\n",
      " 1.9 min\n"
     ]
    }
   ],
   "source": [
    "start_time = time.time()\n",
    "path = r'data/2017'\n",
    "PUS_full = pd.concat([pd.read_csv(f, usecols = useful_cols) for f in glob.glob(path + \"/*.csv\", recursive = True)], ignore_index=True)\n",
    "print (PUS_full.shape)\n",
    "PUS_full.to_csv((path + \"/ss17pus.csv\"),index=False)\n",
    "print(\" %s min\" % round(((time.time() - start_time)/60),2))"
   ]
  },
  {
   "cell_type": "code",
   "execution_count": 6,
   "metadata": {},
   "outputs": [
    {
     "name": "stdout",
     "output_type": "stream",
     "text": [
      "(3156487, 11)\n",
      " 1.77 min\n"
     ]
    }
   ],
   "source": [
    "start_time = time.time()\n",
    "path = r'data/2016'\n",
    "PUS_full = pd.concat([pd.read_csv(f, usecols = useful_cols) for f in glob.glob(path + \"/*.csv\", recursive = True)], ignore_index=True)\n",
    "print (PUS_full.shape)\n",
    "PUS_full.to_csv((path + \"/ss16pus.csv\"),index=False)\n",
    "print(\" %s min\" % round(((time.time() - start_time)/60),2))"
   ]
  },
  {
   "cell_type": "code",
   "execution_count": 7,
   "metadata": {},
   "outputs": [
    {
     "name": "stdout",
     "output_type": "stream",
     "text": [
      "(3147005, 11)\n",
      " 1.77 min\n"
     ]
    }
   ],
   "source": [
    "start_time = time.time()\n",
    "path = r'data/2015'\n",
    "PUS_full = pd.concat([pd.read_csv(f, usecols = useful_cols) for f in glob.glob(path + \"/*.csv\", recursive = True)], ignore_index=True)\n",
    "print (PUS_full.shape)\n",
    "PUS_full.to_csv((path + \"/ss15pus.csv\"),index=False)\n",
    "print(\" %s min\" % round(((time.time() - start_time)/60),2))"
   ]
  },
  {
   "cell_type": "code",
   "execution_count": 8,
   "metadata": {},
   "outputs": [
    {
     "name": "stdout",
     "output_type": "stream",
     "text": [
      "(3132610, 11)\n",
      " 1.68 min\n"
     ]
    }
   ],
   "source": [
    "start_time = time.time()\n",
    "path = r'data/2014'\n",
    "PUS_full = pd.concat([pd.read_csv(f, usecols = useful_cols) for f in glob.glob(path + \"/*.csv\", recursive = True)], ignore_index=True)\n",
    "print (PUS_full.shape)\n",
    "PUS_full.to_csv((path + \"/ss14pus.csv\"),index=False)\n",
    "print(\" %s min\" % round(((time.time() - start_time)/60),2))"
   ]
  },
  {
   "cell_type": "code",
   "execution_count": 16,
   "metadata": {},
   "outputs": [
    {
     "name": "stdout",
     "output_type": "stream",
     "text": [
      "(3132795, 11)\n",
      " 1.75 min\n"
     ]
    }
   ],
   "source": [
    "start_time = time.time()\n",
    "path = r'data/2013'\n",
    "PUS_full = pd.concat([pd.read_csv(f, usecols = useful_cols) for f in glob.glob(path + \"/*.csv\", recursive = True)], ignore_index=True)\n",
    "print (PUS_full.shape)\n",
    "PUS_full.to_csv((path + \"/ss13pus.csv\"),index=False)\n",
    "print(\" %s min\" % round(((time.time() - start_time)/60),2))"
   ]
  },
  {
   "cell_type": "code",
   "execution_count": 11,
   "metadata": {},
   "outputs": [
    {
     "name": "stdout",
     "output_type": "stream",
     "text": [
      "(3113030, 11)\n",
      " 1.79 min\n"
     ]
    }
   ],
   "source": [
    "start_time = time.time()\n",
    "path = r'data/2012'\n",
    "PUS_full = pd.concat([pd.read_csv(f, usecols = useful_cols) for f in glob.glob(path + \"/*.csv\", recursive = True)], ignore_index=True)\n",
    "print (PUS_full.shape)\n",
    "PUS_full.to_csv((path + \"/ss12pus.csv\"),index=False)\n",
    "print(\" %s min\" % round(((time.time() - start_time)/60),2))"
   ]
  },
  {
   "cell_type": "code",
   "execution_count": 12,
   "metadata": {},
   "outputs": [
    {
     "name": "stdout",
     "output_type": "stream",
     "text": [
      "(3112017, 11)\n",
      " 1.78 min\n"
     ]
    }
   ],
   "source": [
    "start_time = time.time()\n",
    "path = r'data/2011'\n",
    "PUS_full = pd.concat([pd.read_csv(f, usecols = useful_cols) for f in glob.glob(path + \"/*.csv\", recursive = True)], ignore_index=True)\n",
    "print (PUS_full.shape)\n",
    "PUS_full.to_csv((path + \"/ss11pus.csv\"),index=False)\n",
    "print(\" %s min\" % round(((time.time() - start_time)/60),2))"
   ]
  },
  {
   "cell_type": "code",
   "execution_count": 13,
   "metadata": {},
   "outputs": [
    {
     "name": "stdout",
     "output_type": "stream",
     "text": [
      "(3061692, 11)\n",
      " 1.71 min\n"
     ]
    }
   ],
   "source": [
    "start_time = time.time()\n",
    "path = r'data/2010'\n",
    "PUS_full = pd.concat([pd.read_csv(f, usecols = useful_cols) for f in glob.glob(path + \"/*.csv\", recursive = True)], ignore_index=True)\n",
    "print (PUS_full.shape)\n",
    "PUS_full.to_csv((path + \"/ss10pus.csv\"),index=False)\n",
    "print(\" %s min\" % round(((time.time() - start_time)/60),2))"
   ]
  },
  {
   "cell_type": "code",
   "execution_count": 14,
   "metadata": {},
   "outputs": [
    {
     "name": "stdout",
     "output_type": "stream",
     "text": [
      "(3030728, 11)\n",
      " 1.68 min\n"
     ]
    }
   ],
   "source": [
    "start_time = time.time()\n",
    "path = r'data/2009'\n",
    "PUS_full = pd.concat([pd.read_csv(f, usecols = useful_cols) for f in glob.glob(path + \"/*.csv\", recursive = True)], ignore_index=True)\n",
    "print (PUS_full.shape)\n",
    "PUS_full.to_csv((path + \"/ss09pus.csv\"),index=False)\n",
    "print(\" %s min\" % round(((time.time() - start_time)/60),2))"
   ]
  },
  {
   "cell_type": "code",
   "execution_count": 15,
   "metadata": {},
   "outputs": [
    {
     "name": "stdout",
     "output_type": "stream",
     "text": [
      "(3000657, 11)\n",
      " 1.64 min\n"
     ]
    }
   ],
   "source": [
    "start_time = time.time()\n",
    "path = r'data/2008'\n",
    "PUS_full = pd.concat([pd.read_csv(f, usecols = useful_cols) for f in glob.glob(path + \"/*.csv\", recursive = True)], ignore_index=True)\n",
    "print (PUS_full.shape)\n",
    "PUS_full.to_csv((path + \"/ss08pus.csv\"),index=False)\n",
    "print(\" %s min\" % round(((time.time() - start_time)/60),2))"
   ]
  },
  {
   "cell_type": "code",
   "execution_count": null,
   "metadata": {},
   "outputs": [],
   "source": []
  }
 ],
 "metadata": {
  "kernelspec": {
   "display_name": "py_36_env",
   "language": "python",
   "name": "py_36_env"
  },
  "language_info": {
   "codemirror_mode": {
    "name": "ipython",
    "version": 3
   },
   "file_extension": ".py",
   "mimetype": "text/x-python",
   "name": "python",
   "nbconvert_exporter": "python",
   "pygments_lexer": "ipython3",
   "version": "3.7.4"
  }
 },
 "nbformat": 4,
 "nbformat_minor": 2
}
