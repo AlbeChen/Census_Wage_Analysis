{
 "cells": [
  {
   "cell_type": "code",
   "execution_count": 223,
   "metadata": {},
   "outputs": [],
   "source": [
    "# Importing\n",
    "import pandas as pd\n",
    "import seaborn as sns\n",
    "import matplotlib.pyplot as plt\n",
    "import numpy as np\n",
    "\n",
    "from sklearn.preprocessing import OneHotEncoder\n",
    "\n",
    "import glob\n",
    "import time"
   ]
  },
  {
   "cell_type": "code",
   "execution_count": 224,
   "metadata": {},
   "outputs": [
    {
     "name": "stdout",
     "output_type": "stream",
     "text": [
      "(22086506, 11)\n",
      " 2.08 min\n"
     ]
    }
   ],
   "source": [
    "start_time = time.time()\n",
    "useful_cols = ['WAGP','SEX', 'AGEP','RAC1P','RAC3P','SCHL', 'WKW','WKHP','OCCP','POWSP','ST']\n",
    "path = r'data'\n",
    "PUS_full = pd.concat([pd.read_csv(f, usecols = useful_cols) for f in glob.glob(path + \"/**/*.csv\", recursive = True)], ignore_index=True)\n",
    "print (PUS_full.shape)\n",
    "print(\" %s min\" % round(((time.time() - start_time)/60),2))"
   ]
  },
  {
   "cell_type": "code",
   "execution_count": 225,
   "metadata": {
    "scrolled": true
   },
   "outputs": [
    {
     "data": {
      "text/plain": [
       "Index(['ST', 'AGEP', 'SCHL', 'SEX', 'WAGP', 'WKHP', 'WKW', 'OCCP', 'POWSP',\n",
       "       'RAC1P', 'RAC3P'],\n",
       "      dtype='object')"
      ]
     },
     "execution_count": 225,
     "metadata": {},
     "output_type": "execute_result"
    }
   ],
   "source": [
    "PUS_full.columns"
   ]
  },
  {
   "cell_type": "code",
   "execution_count": 226,
   "metadata": {
    "scrolled": true
   },
   "outputs": [
    {
     "data": {
      "text/html": [
       "<div>\n",
       "<style scoped>\n",
       "    .dataframe tbody tr th:only-of-type {\n",
       "        vertical-align: middle;\n",
       "    }\n",
       "\n",
       "    .dataframe tbody tr th {\n",
       "        vertical-align: top;\n",
       "    }\n",
       "\n",
       "    .dataframe thead th {\n",
       "        text-align: right;\n",
       "    }\n",
       "</style>\n",
       "<table border=\"1\" class=\"dataframe\">\n",
       "  <thead>\n",
       "    <tr style=\"text-align: right;\">\n",
       "      <th></th>\n",
       "      <th>ST</th>\n",
       "      <th>AGEP</th>\n",
       "      <th>SCHL</th>\n",
       "      <th>SEX</th>\n",
       "      <th>WAGP</th>\n",
       "      <th>WKHP</th>\n",
       "      <th>WKW</th>\n",
       "      <th>OCCP</th>\n",
       "      <th>POWSP</th>\n",
       "      <th>RAC1P</th>\n",
       "      <th>RAC3P</th>\n",
       "    </tr>\n",
       "  </thead>\n",
       "  <tbody>\n",
       "    <tr>\n",
       "      <td>count</td>\n",
       "      <td>2.208651e+07</td>\n",
       "      <td>2.208651e+07</td>\n",
       "      <td>2.141281e+07</td>\n",
       "      <td>2.208651e+07</td>\n",
       "      <td>1.884864e+07</td>\n",
       "      <td>1.284955e+07</td>\n",
       "      <td>1.131076e+07</td>\n",
       "      <td>1.300724e+07</td>\n",
       "      <td>9.905305e+06</td>\n",
       "      <td>2.208651e+07</td>\n",
       "      <td>2.208651e+07</td>\n",
       "    </tr>\n",
       "    <tr>\n",
       "      <td>mean</td>\n",
       "      <td>2.766371e+01</td>\n",
       "      <td>4.101152e+01</td>\n",
       "      <td>1.596921e+01</td>\n",
       "      <td>1.511390e+00</td>\n",
       "      <td>2.655740e+04</td>\n",
       "      <td>3.347395e+01</td>\n",
       "      <td>1.889818e+00</td>\n",
       "      <td>4.307224e+03</td>\n",
       "      <td>2.799476e+01</td>\n",
       "      <td>1.886041e+00</td>\n",
       "      <td>2.807043e+00</td>\n",
       "    </tr>\n",
       "    <tr>\n",
       "      <td>std</td>\n",
       "      <td>1.605613e+01</td>\n",
       "      <td>2.359286e+01</td>\n",
       "      <td>5.641746e+00</td>\n",
       "      <td>4.998703e-01</td>\n",
       "      <td>5.008751e+04</td>\n",
       "      <td>1.755698e+01</td>\n",
       "      <td>1.625324e+00</td>\n",
       "      <td>2.627313e+03</td>\n",
       "      <td>1.773814e+01</td>\n",
       "      <td>2.096391e+00</td>\n",
       "      <td>6.650154e+00</td>\n",
       "    </tr>\n",
       "    <tr>\n",
       "      <td>min</td>\n",
       "      <td>1.000000e+00</td>\n",
       "      <td>0.000000e+00</td>\n",
       "      <td>1.000000e+00</td>\n",
       "      <td>1.000000e+00</td>\n",
       "      <td>0.000000e+00</td>\n",
       "      <td>0.000000e+00</td>\n",
       "      <td>1.000000e+00</td>\n",
       "      <td>1.000000e+01</td>\n",
       "      <td>1.000000e+00</td>\n",
       "      <td>1.000000e+00</td>\n",
       "      <td>1.000000e+00</td>\n",
       "    </tr>\n",
       "    <tr>\n",
       "      <td>25%</td>\n",
       "      <td>1.200000e+01</td>\n",
       "      <td>2.000000e+01</td>\n",
       "      <td>1.400000e+01</td>\n",
       "      <td>1.000000e+00</td>\n",
       "      <td>0.000000e+00</td>\n",
       "      <td>2.400000e+01</td>\n",
       "      <td>1.000000e+00</td>\n",
       "      <td>2.310000e+03</td>\n",
       "      <td>1.200000e+01</td>\n",
       "      <td>1.000000e+00</td>\n",
       "      <td>1.000000e+00</td>\n",
       "    </tr>\n",
       "    <tr>\n",
       "      <td>50%</td>\n",
       "      <td>2.700000e+01</td>\n",
       "      <td>4.200000e+01</td>\n",
       "      <td>1.700000e+01</td>\n",
       "      <td>2.000000e+00</td>\n",
       "      <td>5.000000e+03</td>\n",
       "      <td>4.000000e+01</td>\n",
       "      <td>1.000000e+00</td>\n",
       "      <td>4.250000e+03</td>\n",
       "      <td>2.700000e+01</td>\n",
       "      <td>1.000000e+00</td>\n",
       "      <td>1.000000e+00</td>\n",
       "    </tr>\n",
       "    <tr>\n",
       "      <td>75%</td>\n",
       "      <td>4.200000e+01</td>\n",
       "      <td>6.000000e+01</td>\n",
       "      <td>2.000000e+01</td>\n",
       "      <td>2.000000e+00</td>\n",
       "      <td>3.800000e+04</td>\n",
       "      <td>4.000000e+01</td>\n",
       "      <td>2.000000e+00</td>\n",
       "      <td>5.700000e+03</td>\n",
       "      <td>4.200000e+01</td>\n",
       "      <td>1.000000e+00</td>\n",
       "      <td>1.000000e+00</td>\n",
       "    </tr>\n",
       "    <tr>\n",
       "      <td>max</td>\n",
       "      <td>5.600000e+01</td>\n",
       "      <td>9.700000e+01</td>\n",
       "      <td>2.400000e+01</td>\n",
       "      <td>2.000000e+00</td>\n",
       "      <td>7.360000e+05</td>\n",
       "      <td>9.900000e+01</td>\n",
       "      <td>6.000000e+00</td>\n",
       "      <td>9.920000e+03</td>\n",
       "      <td>5.550000e+02</td>\n",
       "      <td>9.000000e+00</td>\n",
       "      <td>1.000000e+02</td>\n",
       "    </tr>\n",
       "  </tbody>\n",
       "</table>\n",
       "</div>"
      ],
      "text/plain": [
       "                 ST          AGEP          SCHL           SEX          WAGP  \\\n",
       "count  2.208651e+07  2.208651e+07  2.141281e+07  2.208651e+07  1.884864e+07   \n",
       "mean   2.766371e+01  4.101152e+01  1.596921e+01  1.511390e+00  2.655740e+04   \n",
       "std    1.605613e+01  2.359286e+01  5.641746e+00  4.998703e-01  5.008751e+04   \n",
       "min    1.000000e+00  0.000000e+00  1.000000e+00  1.000000e+00  0.000000e+00   \n",
       "25%    1.200000e+01  2.000000e+01  1.400000e+01  1.000000e+00  0.000000e+00   \n",
       "50%    2.700000e+01  4.200000e+01  1.700000e+01  2.000000e+00  5.000000e+03   \n",
       "75%    4.200000e+01  6.000000e+01  2.000000e+01  2.000000e+00  3.800000e+04   \n",
       "max    5.600000e+01  9.700000e+01  2.400000e+01  2.000000e+00  7.360000e+05   \n",
       "\n",
       "               WKHP           WKW          OCCP         POWSP         RAC1P  \\\n",
       "count  1.284955e+07  1.131076e+07  1.300724e+07  9.905305e+06  2.208651e+07   \n",
       "mean   3.347395e+01  1.889818e+00  4.307224e+03  2.799476e+01  1.886041e+00   \n",
       "std    1.755698e+01  1.625324e+00  2.627313e+03  1.773814e+01  2.096391e+00   \n",
       "min    0.000000e+00  1.000000e+00  1.000000e+01  1.000000e+00  1.000000e+00   \n",
       "25%    2.400000e+01  1.000000e+00  2.310000e+03  1.200000e+01  1.000000e+00   \n",
       "50%    4.000000e+01  1.000000e+00  4.250000e+03  2.700000e+01  1.000000e+00   \n",
       "75%    4.000000e+01  2.000000e+00  5.700000e+03  4.200000e+01  1.000000e+00   \n",
       "max    9.900000e+01  6.000000e+00  9.920000e+03  5.550000e+02  9.000000e+00   \n",
       "\n",
       "              RAC3P  \n",
       "count  2.208651e+07  \n",
       "mean   2.807043e+00  \n",
       "std    6.650154e+00  \n",
       "min    1.000000e+00  \n",
       "25%    1.000000e+00  \n",
       "50%    1.000000e+00  \n",
       "75%    1.000000e+00  \n",
       "max    1.000000e+02  "
      ]
     },
     "execution_count": 226,
     "metadata": {},
     "output_type": "execute_result"
    }
   ],
   "source": [
    "PUS_full.describe(include='all')"
   ]
  },
  {
   "cell_type": "code",
   "execution_count": 227,
   "metadata": {},
   "outputs": [
    {
     "data": {
      "image/png": "[encoded data removed]",
      "text/plain": [
       "<Figure size 432x288 with 1 Axes>"
      ]
     },
     "metadata": {
      "needs_background": "light"
     },
     "output_type": "display_data"
    }
   ],
   "source": [
    "g = sns.kdeplot(PUS_full[\"AGEP\"][(PUS_full[\"SEX\"] == 1) & (PUS_full[\"AGEP\"].notnull())])\n",
    "g = sns.kdeplot(PUS_full[\"AGEP\"][(PUS_full[\"SEX\"] == 2) & (PUS_full[\"AGEP\"].notnull())])\n",
    "g.set_xlabel(\"Age\")\n",
    "g.set_ylabel(\"Frequency\")\n",
    "g=g.legend([\"Male\",\"Female\"])"
   ]
  },
  {
   "cell_type": "code",
   "execution_count": 228,
   "metadata": {},
   "outputs": [
    {
     "data": {
      "text/plain": [
       "Text(0, 0.5, 'Frequency')"
      ]
     },
     "execution_count": 228,
     "metadata": {},
     "output_type": "execute_result"
    },
    {
     "data": {
      "image/png": "[encoded data removed]",
      "text/plain": [
       "<Figure size 432x288 with 1 Axes>"
      ]
     },
     "metadata": {
      "needs_background": "light"
     },
     "output_type": "display_data"
    }
   ],
   "source": [
    "g = sns.kdeplot(PUS_full[\"WAGP\"][(PUS_full[\"WAGP\"] > 0) & (PUS_full[\"AGEP\"] > 18)])\n",
    "g.set_xlabel(\"Wage\")\n",
    "g.set_ylabel(\"Frequency\")"
   ]
  },
  {
   "cell_type": "markdown",
   "metadata": {},
   "source": [
    "#### Full-Time Detection"
   ]
  },
  {
   "cell_type": "code",
   "execution_count": 229,
   "metadata": {},
   "outputs": [
    {
     "data": {
      "image/png": "[encoded data removed]",
      "text/plain": [
       "<Figure size 432x288 with 1 Axes>"
      ]
     },
     "metadata": {
      "needs_background": "light"
     },
     "output_type": "display_data"
    }
   ],
   "source": [
    "g = sns.distplot(PUS_full[\"WAGP\"][(PUS_full[\"WAGP\"] > 0) & (PUS_full[\"WKW\"] < 4) & (PUS_full[\"WKHP\"]  >= 35)], kde=False)\n",
    "g = sns.distplot(PUS_full[\"WAGP\"][(PUS_full[\"WAGP\"] > 0)], kde=False)"
   ]
  },
  {
   "cell_type": "code",
   "execution_count": 230,
   "metadata": {},
   "outputs": [],
   "source": [
    "# define function to seperate people who've worked more than 40 weeks / year\n",
    "def full_time_detect(df):\n",
    "    # remove rows of people who work under 40 weeks in a year\n",
    "    df['WKW'] = df['WKW'].map(lambda y: 1 if y < 4\n",
    "                              else 0)\n",
    "    df = df.loc[df.WKW != 0].copy()\n",
    "\n",
    "    # remove rows of people who work under 35 hours a week\n",
    "    df['WKHP'] = df['WKHP'].map(lambda y: 1 if y >= 35\n",
    "                                else 0)\n",
    "    df = df.loc[df.WKHP != 0].copy()\n",
    "    return df"
   ]
  },
  {
   "cell_type": "code",
   "execution_count": 231,
   "metadata": {
    "scrolled": false
   },
   "outputs": [
    {
     "name": "stdout",
     "output_type": "stream",
     "text": [
      "(7594840, 11)\n"
     ]
    },
    {
     "data": {
      "text/html": [
       "<div>\n",
       "<style scoped>\n",
       "    .dataframe tbody tr th:only-of-type {\n",
       "        vertical-align: middle;\n",
       "    }\n",
       "\n",
       "    .dataframe tbody tr th {\n",
       "        vertical-align: top;\n",
       "    }\n",
       "\n",
       "    .dataframe thead th {\n",
       "        text-align: right;\n",
       "    }\n",
       "</style>\n",
       "<table border=\"1\" class=\"dataframe\">\n",
       "  <thead>\n",
       "    <tr style=\"text-align: right;\">\n",
       "      <th></th>\n",
       "      <th>ST</th>\n",
       "      <th>AGEP</th>\n",
       "      <th>SCHL</th>\n",
       "      <th>SEX</th>\n",
       "      <th>WAGP</th>\n",
       "      <th>WKHP</th>\n",
       "      <th>WKW</th>\n",
       "      <th>OCCP</th>\n",
       "      <th>POWSP</th>\n",
       "      <th>RAC1P</th>\n",
       "      <th>RAC3P</th>\n",
       "    </tr>\n",
       "  </thead>\n",
       "  <tbody>\n",
       "    <tr>\n",
       "      <td>count</td>\n",
       "      <td>7.594840e+06</td>\n",
       "      <td>7.594840e+06</td>\n",
       "      <td>7.594840e+06</td>\n",
       "      <td>7.594840e+06</td>\n",
       "      <td>7.594840e+06</td>\n",
       "      <td>7594840.0</td>\n",
       "      <td>7594840.0</td>\n",
       "      <td>7.594840e+06</td>\n",
       "      <td>7.337694e+06</td>\n",
       "      <td>7.594840e+06</td>\n",
       "      <td>7.594840e+06</td>\n",
       "    </tr>\n",
       "    <tr>\n",
       "      <td>mean</td>\n",
       "      <td>2.794256e+01</td>\n",
       "      <td>4.436281e+01</td>\n",
       "      <td>1.876222e+01</td>\n",
       "      <td>1.433889e+00</td>\n",
       "      <td>5.893903e+04</td>\n",
       "      <td>1.0</td>\n",
       "      <td>1.0</td>\n",
       "      <td>4.065474e+03</td>\n",
       "      <td>2.809378e+01</td>\n",
       "      <td>1.814268e+00</td>\n",
       "      <td>2.556938e+00</td>\n",
       "    </tr>\n",
       "    <tr>\n",
       "      <td>std</td>\n",
       "      <td>1.600316e+01</td>\n",
       "      <td>1.301355e+01</td>\n",
       "      <td>3.270105e+00</td>\n",
       "      <td>4.956102e-01</td>\n",
       "      <td>6.340276e+04</td>\n",
       "      <td>0.0</td>\n",
       "      <td>0.0</td>\n",
       "      <td>2.738896e+03</td>\n",
       "      <td>1.783847e+01</td>\n",
       "      <td>2.000425e+00</td>\n",
       "      <td>5.899657e+00</td>\n",
       "    </tr>\n",
       "    <tr>\n",
       "      <td>min</td>\n",
       "      <td>1.000000e+00</td>\n",
       "      <td>1.600000e+01</td>\n",
       "      <td>1.000000e+00</td>\n",
       "      <td>1.000000e+00</td>\n",
       "      <td>0.000000e+00</td>\n",
       "      <td>1.0</td>\n",
       "      <td>1.0</td>\n",
       "      <td>1.000000e+01</td>\n",
       "      <td>1.000000e+00</td>\n",
       "      <td>1.000000e+00</td>\n",
       "      <td>1.000000e+00</td>\n",
       "    </tr>\n",
       "    <tr>\n",
       "      <td>25%</td>\n",
       "      <td>1.200000e+01</td>\n",
       "      <td>3.400000e+01</td>\n",
       "      <td>1.600000e+01</td>\n",
       "      <td>1.000000e+00</td>\n",
       "      <td>2.600000e+04</td>\n",
       "      <td>1.0</td>\n",
       "      <td>1.0</td>\n",
       "      <td>1.760000e+03</td>\n",
       "      <td>1.200000e+01</td>\n",
       "      <td>1.000000e+00</td>\n",
       "      <td>1.000000e+00</td>\n",
       "    </tr>\n",
       "    <tr>\n",
       "      <td>50%</td>\n",
       "      <td>2.800000e+01</td>\n",
       "      <td>4.500000e+01</td>\n",
       "      <td>1.900000e+01</td>\n",
       "      <td>1.000000e+00</td>\n",
       "      <td>4.400000e+04</td>\n",
       "      <td>1.0</td>\n",
       "      <td>1.0</td>\n",
       "      <td>4.130000e+03</td>\n",
       "      <td>2.800000e+01</td>\n",
       "      <td>1.000000e+00</td>\n",
       "      <td>1.000000e+00</td>\n",
       "    </tr>\n",
       "    <tr>\n",
       "      <td>75%</td>\n",
       "      <td>4.200000e+01</td>\n",
       "      <td>5.500000e+01</td>\n",
       "      <td>2.100000e+01</td>\n",
       "      <td>2.000000e+00</td>\n",
       "      <td>7.000000e+04</td>\n",
       "      <td>1.0</td>\n",
       "      <td>1.0</td>\n",
       "      <td>5.740000e+03</td>\n",
       "      <td>4.200000e+01</td>\n",
       "      <td>1.000000e+00</td>\n",
       "      <td>1.000000e+00</td>\n",
       "    </tr>\n",
       "    <tr>\n",
       "      <td>max</td>\n",
       "      <td>5.600000e+01</td>\n",
       "      <td>9.600000e+01</td>\n",
       "      <td>2.400000e+01</td>\n",
       "      <td>2.000000e+00</td>\n",
       "      <td>7.360000e+05</td>\n",
       "      <td>1.0</td>\n",
       "      <td>1.0</td>\n",
       "      <td>9.830000e+03</td>\n",
       "      <td>5.550000e+02</td>\n",
       "      <td>9.000000e+00</td>\n",
       "      <td>1.000000e+02</td>\n",
       "    </tr>\n",
       "  </tbody>\n",
       "</table>\n",
       "</div>"
      ],
      "text/plain": [
       "                 ST          AGEP          SCHL           SEX          WAGP  \\\n",
       "count  7.594840e+06  7.594840e+06  7.594840e+06  7.594840e+06  7.594840e+06   \n",
       "mean   2.794256e+01  4.436281e+01  1.876222e+01  1.433889e+00  5.893903e+04   \n",
       "std    1.600316e+01  1.301355e+01  3.270105e+00  4.956102e-01  6.340276e+04   \n",
       "min    1.000000e+00  1.600000e+01  1.000000e+00  1.000000e+00  0.000000e+00   \n",
       "25%    1.200000e+01  3.400000e+01  1.600000e+01  1.000000e+00  2.600000e+04   \n",
       "50%    2.800000e+01  4.500000e+01  1.900000e+01  1.000000e+00  4.400000e+04   \n",
       "75%    4.200000e+01  5.500000e+01  2.100000e+01  2.000000e+00  7.000000e+04   \n",
       "max    5.600000e+01  9.600000e+01  2.400000e+01  2.000000e+00  7.360000e+05   \n",
       "\n",
       "            WKHP        WKW          OCCP         POWSP         RAC1P  \\\n",
       "count  7594840.0  7594840.0  7.594840e+06  7.337694e+06  7.594840e+06   \n",
       "mean         1.0        1.0  4.065474e+03  2.809378e+01  1.814268e+00   \n",
       "std          0.0        0.0  2.738896e+03  1.783847e+01  2.000425e+00   \n",
       "min          1.0        1.0  1.000000e+01  1.000000e+00  1.000000e+00   \n",
       "25%          1.0        1.0  1.760000e+03  1.200000e+01  1.000000e+00   \n",
       "50%          1.0        1.0  4.130000e+03  2.800000e+01  1.000000e+00   \n",
       "75%          1.0        1.0  5.740000e+03  4.200000e+01  1.000000e+00   \n",
       "max          1.0        1.0  9.830000e+03  5.550000e+02  9.000000e+00   \n",
       "\n",
       "              RAC3P  \n",
       "count  7.594840e+06  \n",
       "mean   2.556938e+00  \n",
       "std    5.899657e+00  \n",
       "min    1.000000e+00  \n",
       "25%    1.000000e+00  \n",
       "50%    1.000000e+00  \n",
       "75%    1.000000e+00  \n",
       "max    1.000000e+02  "
      ]
     },
     "execution_count": 231,
     "metadata": {},
     "output_type": "execute_result"
    }
   ],
   "source": [
    "ft_test = PUS_full.copy()\n",
    "ft_test = full_time_detect(ft_test)\n",
    "print(ft_test.shape)\n",
    "ft_test.describe()"
   ]
  },
  {
   "cell_type": "markdown",
   "metadata": {},
   "source": [
    "## Outlier Testing"
   ]
  },
  {
   "cell_type": "code",
   "execution_count": 232,
   "metadata": {},
   "outputs": [
    {
     "data": {
      "image/png": "[encoded data removed]",
      "text/plain": [
       "<Figure size 432x288 with 1 Axes>"
      ]
     },
     "metadata": {
      "needs_background": "light"
     },
     "output_type": "display_data"
    }
   ],
   "source": [
    "ax = sns.boxplot(x=ft_test[\"AGEP\"])"
   ]
  },
  {
   "cell_type": "code",
   "execution_count": 233,
   "metadata": {},
   "outputs": [
    {
     "name": "stdout",
     "output_type": "stream",
     "text": [
      "AGE IQR:  21.0  Upper:  118.0  Lower:  -29.0\n"
     ]
    }
   ],
   "source": [
    "test_age_IQR = np.percentile(ft_test.AGEP, 75) - np.percentile(ft_test.AGEP, 25) \n",
    "test_age_upper = np.percentile(ft_test.AGEP, 75) + test_age_IQR*3\n",
    "test_age_lower = np.percentile(ft_test.AGEP, 25) - test_age_IQR*3\n",
    "print (\"AGE IQR: \" , test_age_IQR,\" Upper: \" , test_age_upper ,\" Lower: \" , test_age_lower)"
   ]
  },
  {
   "cell_type": "code",
   "execution_count": 234,
   "metadata": {},
   "outputs": [
    {
     "data": {
      "image/png": "[encoded data removed]",
      "text/plain": [
       "<Figure size 432x288 with 1 Axes>"
      ]
     },
     "metadata": {
      "needs_background": "light"
     },
     "output_type": "display_data"
    }
   ],
   "source": [
    "ax = sns.boxplot(x=ft_test[\"WAGP\"])"
   ]
  },
  {
   "cell_type": "code",
   "execution_count": 235,
   "metadata": {},
   "outputs": [
    {
     "name": "stdout",
     "output_type": "stream",
     "text": [
      "Wage IQR:  44000.0  Upper:  202000.0  Lower:  -106000.0\n"
     ]
    }
   ],
   "source": [
    "test_wage_IQR = np.percentile(ft_test.WAGP, 75) - np.percentile(ft_test.WAGP, 25) \n",
    "test_wage_upper = np.percentile(ft_test.WAGP, 75) + test_wage_IQR*3\n",
    "test_wage_lower = np.percentile(ft_test.WAGP, 25) - test_wage_IQR*3\n",
    "print (\"Wage IQR: \" , test_wage_IQR,\" Upper: \" , test_wage_upper ,\" Lower: \" , test_wage_lower)"
   ]
  },
  {
   "cell_type": "code",
   "execution_count": 236,
   "metadata": {},
   "outputs": [],
   "source": [
    "def outlier_remove(df):\n",
    "    wage_IQR = np.percentile(df.WAGP, 75) - np.percentile(df.WAGP, 25) \n",
    "    wage_upper = np.percentile(df.WAGP, 75) + wage_IQR*3\n",
    "    wage_lower = np.percentile(df.WAGP, 25) - wage_IQR*3\n",
    "    \n",
    "    age_IQR = np.percentile(df.AGEP, 75) - np.percentile(df.AGEP, 25) \n",
    "    age_upper = np.percentile(df.AGEP, 75) + age_IQR*3\n",
    "    age_lower = np.percentile(df.AGEP, 25) - age_IQR*3\n",
    "    \n",
    "    df = df.loc[df.WAGP >= 12500].copy()\n",
    "    df = df.loc[df.WAGP <= wage_upper].copy()\n",
    "    df = df.loc[df.AGEP >= 18].copy()\n",
    "    df = df.loc[df.AGEP <= 70].copy()\n",
    "    \n",
    "    return df"
   ]
  },
  {
   "cell_type": "code",
   "execution_count": 237,
   "metadata": {},
   "outputs": [
    {
     "name": "stdout",
     "output_type": "stream",
     "text": [
      "(6705569, 11)\n"
     ]
    }
   ],
   "source": [
    "outlier_test = ft_test.copy()\n",
    "outlier_test = outlier_remove(outlier_test)\n",
    "print(outlier_test.shape)"
   ]
  },
  {
   "cell_type": "code",
   "execution_count": 238,
   "metadata": {},
   "outputs": [
    {
     "data": {
      "text/plain": [
       "[(12500, 250000)]"
      ]
     },
     "execution_count": 238,
     "metadata": {},
     "output_type": "execute_result"
    },
    {
     "data": {
      "image/png": "[encoded data removed]",
      "text/plain": [
       "<Figure size 432x288 with 1 Axes>"
      ]
     },
     "metadata": {
      "needs_background": "light"
     },
     "output_type": "display_data"
    }
   ],
   "source": [
    "ax = sns.distplot(outlier_test[\"WAGP\"], bins=40, kde=False)\n",
    "ax.set(xlim=(12500, 250000))"
   ]
  },
  {
   "cell_type": "markdown",
   "metadata": {},
   "source": [
    "##### Age Bins"
   ]
  },
  {
   "cell_type": "code",
   "execution_count": 239,
   "metadata": {
    "scrolled": true
   },
   "outputs": [
    {
     "data": {
      "text/plain": [
       "<seaborn.axisgrid.FacetGrid at 0x1e2aaf22888>"
      ]
     },
     "execution_count": 239,
     "metadata": {},
     "output_type": "execute_result"
    },
    {
     "data": {
      "image/png": "[encoded data removed]",
      "text/plain": [
       "<Figure size 1260x360 with 1 Axes>"
      ]
     },
     "metadata": {
      "needs_background": "light"
     },
     "output_type": "display_data"
    }
   ],
   "source": [
    "g = sns.catplot(y=\"WAGP\", x=\"AGEP\", data=outlier_test, kind=\"box\", aspect = 3.5)\n",
    "g.set(ylim=(0, 175000))"
   ]
  },
  {
   "cell_type": "code",
   "execution_count": 240,
   "metadata": {},
   "outputs": [],
   "source": [
    "def age_bins(df):\n",
    "    df['AGEB'] = df['AGEP'].map(lambda y: 1 if y <= 25 #18-25\n",
    "                                else 2 if y <= 35 #26-35\n",
    "                                else 3 if y <= 45 #36-45\n",
    "                                else 4 if y <= 60 #46-60\n",
    "                                else 5 if y <= 70 #60-70\n",
    "                                else 6) #+70\n",
    "    return df"
   ]
  },
  {
   "cell_type": "code",
   "execution_count": 241,
   "metadata": {},
   "outputs": [],
   "source": [
    "age_test = outlier_test.copy()\n",
    "age_test.sort_values(by=['AGEP'], ascending=True, inplace=True)"
   ]
  },
  {
   "cell_type": "code",
   "execution_count": 242,
   "metadata": {},
   "outputs": [
    {
     "name": "stdout",
     "output_type": "stream",
     "text": [
      "Age : [1 2 3 4 5]\n"
     ]
    }
   ],
   "source": [
    "age_bins(age_test)\n",
    "print(\"Age :\", age_test.AGEB.unique())"
   ]
  },
  {
   "cell_type": "code",
   "execution_count": 243,
   "metadata": {
    "scrolled": false
   },
   "outputs": [
    {
     "data": {
      "text/plain": [
       "<seaborn.axisgrid.FacetGrid at 0x1e20272b7c8>"
      ]
     },
     "execution_count": 243,
     "metadata": {},
     "output_type": "execute_result"
    },
    {
     "data": {
      "image/png": "[encoded data removed]",
      "text/plain": [
       "<Figure size 720x360 with 1 Axes>"
      ]
     },
     "metadata": {
      "needs_background": "light"
     },
     "output_type": "display_data"
    }
   ],
   "source": [
    "g = sns.catplot(y=\"WAGP\", x=\"AGEB\", data=age_test, kind=\"box\", aspect = 2)\n",
    "g.set(ylim=(0, 175000))"
   ]
  },
  {
   "cell_type": "code",
   "execution_count": 244,
   "metadata": {},
   "outputs": [
    {
     "data": {
      "text/plain": [
       "4    2527076\n",
       "3    1525095\n",
       "2    1498244\n",
       "5     640725\n",
       "1     514429\n",
       "Name: AGEB, dtype: int64"
      ]
     },
     "execution_count": 244,
     "metadata": {},
     "output_type": "execute_result"
    }
   ],
   "source": [
    "age_test['AGEB'].value_counts()"
   ]
  },
  {
   "cell_type": "code",
   "execution_count": 245,
   "metadata": {
    "scrolled": true
   },
   "outputs": [
    {
     "data": {
      "text/plain": [
       "<seaborn.axisgrid.FacetGrid at 0x1e2025ba608>"
      ]
     },
     "execution_count": 245,
     "metadata": {},
     "output_type": "execute_result"
    },
    {
     "data": {
      "image/png": "[encoded data removed]",
      "text/plain": [
       "<Figure size 906.375x288 with 1 Axes>"
      ]
     },
     "metadata": {
      "needs_background": "light"
     },
     "output_type": "display_data"
    }
   ],
   "source": [
    "g = sns.catplot(y=\"WAGP\", x=\"AGEB\", data=age_test, kind=\"box\", height = 4, aspect = 3, hue = \"SEX\")\n",
    "g.set(ylim=(0, 200000))"
   ]
  },
  {
   "cell_type": "markdown",
   "metadata": {},
   "source": [
    "#### Education Split\n",
    "- NH: No High-school Degree\n",
    "- HS: Highschool Diploma (or GED)\n",
    "- SC: Some College\n",
    "- AS: Associate's degree\n",
    "- BS: Bachelor's degree\n",
    "- GD: Graduate Degree\n",
    "- DR: Doctorate Degree"
   ]
  },
  {
   "cell_type": "code",
   "execution_count": 246,
   "metadata": {},
   "outputs": [
    {
     "data": {
      "text/plain": [
       "<seaborn.axisgrid.FacetGrid at 0x1e230557ec8>"
      ]
     },
     "execution_count": 246,
     "metadata": {},
     "output_type": "execute_result"
    },
    {
     "data": {
      "image/png": "[encoded data removed]",
      "text/plain": [
       "<Figure size 720x360 with 1 Axes>"
      ]
     },
     "metadata": {
      "needs_background": "light"
     },
     "output_type": "display_data"
    }
   ],
   "source": [
    "g = sns.catplot(y=\"WAGP\", x=\"SCHL\", data=age_test, kind=\"box\", aspect = 2)\n",
    "g.set(ylim=(0, 175000))"
   ]
  },
  {
   "cell_type": "code",
   "execution_count": 247,
   "metadata": {},
   "outputs": [],
   "source": [
    "def edu_split(df):\n",
    "    #split into degrees\n",
    "    df['EDU'] = df['SCHL'].map(lambda y: 1 if y <=15 #didn't finish HS\n",
    "                               else 1 if y <= 17 #HS degree\n",
    "                                else 2 if y <= 19 #some college\n",
    "                               else 2 if y == 20 #AS\n",
    "                               else 3 if y == 21 #BS\n",
    "                                else 4 if y == 22 #MS\n",
    "                                else 5) #GS\n",
    "    return df"
   ]
  },
  {
   "cell_type": "code",
   "execution_count": 248,
   "metadata": {},
   "outputs": [
    {
     "name": "stdout",
     "output_type": "stream",
     "text": [
      "Edu : [1 2 3 4 5]\n"
     ]
    }
   ],
   "source": [
    "edu_test = age_test.copy()\n",
    "edu_test = edu_split(edu_test)\n",
    "print(\"Edu :\", edu_test.EDU.unique())"
   ]
  },
  {
   "cell_type": "code",
   "execution_count": 249,
   "metadata": {},
   "outputs": [],
   "source": [
    "edu_sort = edu_test.groupby('EDU').median().sort_values(by=['WAGP']).reset_index()\n",
    "edu_list = edu_sort['EDU'].tolist()"
   ]
  },
  {
   "cell_type": "code",
   "execution_count": 250,
   "metadata": {
    "scrolled": false
   },
   "outputs": [
    {
     "data": {
      "text/plain": [
       "<seaborn.axisgrid.FacetGrid at 0x1e2021d4248>"
      ]
     },
     "execution_count": 250,
     "metadata": {},
     "output_type": "execute_result"
    },
    {
     "data": {
      "image/png": "[encoded data removed]",
      "text/plain": [
       "<Figure size 720x360 with 1 Axes>"
      ]
     },
     "metadata": {
      "needs_background": "light"
     },
     "output_type": "display_data"
    }
   ],
   "source": [
    "g = sns.catplot(y=\"WAGP\", x=\"EDU\", data=edu_test, kind=\"box\", aspect = 2, order = edu_list)\n",
    "g.set(ylim=(0, 250000))"
   ]
  },
  {
   "cell_type": "code",
   "execution_count": 251,
   "metadata": {},
   "outputs": [
    {
     "data": {
      "text/plain": [
       "<seaborn.axisgrid.FacetGrid at 0x1e2021b4d48>"
      ]
     },
     "execution_count": 251,
     "metadata": {},
     "output_type": "execute_result"
    },
    {
     "data": {
      "image/png": "[encoded data removed]",
      "text/plain": [
       "<Figure size 906.375x288 with 1 Axes>"
      ]
     },
     "metadata": {
      "needs_background": "light"
     },
     "output_type": "display_data"
    }
   ],
   "source": [
    "g = sns.catplot(y=\"WAGP\", x=\"EDU\", data=edu_test, kind=\"box\", height = 4, aspect = 3, hue = \"SEX\", order = edu_list)\n",
    "g.set(ylim=(0, 200000))"
   ]
  },
  {
   "cell_type": "code",
   "execution_count": 252,
   "metadata": {},
   "outputs": [
    {
     "data": {
      "text/plain": [
       "2    2105010\n",
       "1    2023484\n",
       "3    1605912\n",
       "4     713544\n",
       "5     257619\n",
       "Name: EDU, dtype: int64"
      ]
     },
     "execution_count": 252,
     "metadata": {},
     "output_type": "execute_result"
    }
   ],
   "source": [
    "edu_test['EDU'].value_counts()"
   ]
  },
  {
   "cell_type": "markdown",
   "metadata": {},
   "source": [
    "#### Occupation Split\n",
    "- 0010-0960: Management, Business, and Financial Occupations\n",
    "- 1005-1980: Computer, Engineering, and Science Occupations\n",
    "- 2001-2970: Education, Legal, Community Service, Arts, and Media Occupations\n",
    "- 3000-3550: Healthcare Practitioners and Technical Occupations\n",
    "- 3601-4655: Service Occupations\n",
    "- 4700-5940: Sales and Office Occupations\n",
    "- 6005-7640: Natural Resources, Construction, and Maintenance Occupations\n",
    "- 7700-8990: Production Occupations\n",
    "- 9005-9760: Transportation and Material Moving Occupations\n",
    "- 9800-9830: Military Specific Occupations"
   ]
  },
  {
   "cell_type": "code",
   "execution_count": 253,
   "metadata": {},
   "outputs": [],
   "source": [
    "def int_occ_split(df):\n",
    "    # split into occupational industries\n",
    "    df['JOB'] = df['OCCP'].map(lambda y: \"Business\" if y <= 960\n",
    "                                else \"Science\" if y <= 1980\n",
    "                                else \"Arts\" if y <= 2970\n",
    "                                else \"Healthcare\" if y <= 3550\n",
    "                                else \"Service\" if y <= 4655\n",
    "                                else \"Sales\" if y <= 5940\n",
    "                                else \"Maintenance\" if y <= 7640\n",
    "                                else \"Production\" if y <= 8990\n",
    "                                else \"Transportation\" if y <= 9760\n",
    "                                else \"Military\" if y <= 9830\n",
    "                                else \"UN\")\n",
    "    return df"
   ]
  },
  {
   "cell_type": "code",
   "execution_count": 254,
   "metadata": {},
   "outputs": [
    {
     "name": "stdout",
     "output_type": "stream",
     "text": [
      "Occ : ['Service' 'Maintenance' 'Transportation' 'Military' 'Sales' 'Production'\n",
      " 'Science' 'Business' 'Arts' 'Healthcare']\n"
     ]
    }
   ],
   "source": [
    "int_occ_test = edu_test.copy()\n",
    "int_occ_test = int_occ_split(int_occ_test)\n",
    "print(\"Occ :\", int_occ_test.JOB.unique())"
   ]
  },
  {
   "cell_type": "code",
   "execution_count": 255,
   "metadata": {},
   "outputs": [],
   "source": [
    "int_occ_sort = int_occ_test.groupby('JOB').median().sort_values(by=['WAGP']).reset_index()\n",
    "int_occ_list = int_occ_sort['JOB'].tolist()"
   ]
  },
  {
   "cell_type": "code",
   "execution_count": 256,
   "metadata": {},
   "outputs": [
    {
     "data": {
      "text/plain": [
       "<seaborn.axisgrid.FacetGrid at 0x1e200fb30c8>"
      ]
     },
     "execution_count": 256,
     "metadata": {},
     "output_type": "execute_result"
    },
    {
     "data": {
      "image/png": "[encoded data removed]",
      "text/plain": [
       "<Figure size 720x360 with 1 Axes>"
      ]
     },
     "metadata": {
      "needs_background": "light"
     },
     "output_type": "display_data"
    }
   ],
   "source": [
    "g = sns.catplot(y=\"WAGP\", x=\"JOB\", data=int_occ_test, kind=\"box\", aspect = 2, order = int_occ_list)\n",
    "g.set(ylim=(0, 175000))"
   ]
  },
  {
   "cell_type": "code",
   "execution_count": 257,
   "metadata": {},
   "outputs": [
    {
     "data": {
      "text/plain": [
       "<seaborn.axisgrid.FacetGrid at 0x1e200865e08>"
      ]
     },
     "execution_count": 257,
     "metadata": {},
     "output_type": "execute_result"
    },
    {
     "data": {
      "image/png": "[encoded data removed]",
      "text/plain": [
       "<Figure size 906.375x288 with 1 Axes>"
      ]
     },
     "metadata": {
      "needs_background": "light"
     },
     "output_type": "display_data"
    }
   ],
   "source": [
    "g = sns.catplot(y=\"WAGP\", x=\"JOB\", data=int_occ_test, kind=\"box\", height = 4, aspect = 3, hue = \"SEX\", order = int_occ_list)\n",
    "g.set(ylim=(0, 175000))"
   ]
  },
  {
   "cell_type": "code",
   "execution_count": 258,
   "metadata": {},
   "outputs": [
    {
     "data": {
      "text/plain": [
       "Sales             1478942\n",
       "Business          1222290\n",
       "Service            788615\n",
       "Arts               758765\n",
       "Maintenance        632603\n",
       "Science            491828\n",
       "Production         470567\n",
       "Healthcare         417040\n",
       "Transportation     412350\n",
       "Military            32569\n",
       "Name: JOB, dtype: int64"
      ]
     },
     "execution_count": 258,
     "metadata": {},
     "output_type": "execute_result"
    }
   ],
   "source": [
    "int_occ_test['JOB'].value_counts()"
   ]
  },
  {
   "cell_type": "code",
   "execution_count": 259,
   "metadata": {},
   "outputs": [],
   "source": [
    "def occ_split(df):\n",
    "    # split into occupational industries\n",
    "    df['JOB'] = df['OCCP'].map(lambda y: 1 if y <= 960 #Business\n",
    "                                else 1 if y <= 1980 #Science\n",
    "                                else 2 if y <= 2970 #Arts\n",
    "                                else 1 if y <= 3550 # Healthcare\n",
    "                                else 5 if y <= 4655 #Service\n",
    "                                else 4 if y <= 5940 #Sales\n",
    "                                else 2 if y <= 7640 #Maintenance\n",
    "                                else 5 if y <= 8990 #Production\n",
    "                                else 5 if y <= 9760 #Transportation\n",
    "                                else 2 if y <= 9830 #Military\n",
    "                                else 6) #Undefined\n",
    "    return df"
   ]
  },
  {
   "cell_type": "code",
   "execution_count": 260,
   "metadata": {},
   "outputs": [
    {
     "name": "stdout",
     "output_type": "stream",
     "text": [
      "Occ : [5 2 4 1]\n"
     ]
    }
   ],
   "source": [
    "occ_test = edu_test.copy()\n",
    "occ_test = occ_split(occ_test)\n",
    "print(\"Occ :\", occ_test.JOB.unique())"
   ]
  },
  {
   "cell_type": "code",
   "execution_count": 261,
   "metadata": {},
   "outputs": [
    {
     "data": {
      "text/plain": [
       "1    2131158\n",
       "5    1671532\n",
       "4    1478942\n",
       "2    1423937\n",
       "Name: JOB, dtype: int64"
      ]
     },
     "execution_count": 261,
     "metadata": {},
     "output_type": "execute_result"
    }
   ],
   "source": [
    "occ_test['JOB'].value_counts()"
   ]
  },
  {
   "cell_type": "code",
   "execution_count": 262,
   "metadata": {},
   "outputs": [],
   "source": [
    "occ_sort = occ_test.groupby('JOB').median().sort_values(by=['WAGP']).reset_index()\n",
    "occ_list = occ_sort['JOB'].tolist()"
   ]
  },
  {
   "cell_type": "code",
   "execution_count": 263,
   "metadata": {},
   "outputs": [
    {
     "data": {
      "text/plain": [
       "<seaborn.axisgrid.FacetGrid at 0x1e200876dc8>"
      ]
     },
     "execution_count": 263,
     "metadata": {},
     "output_type": "execute_result"
    },
    {
     "data": {
      "image/png": "[encoded data removed]",
      "text/plain": [
       "<Figure size 720x360 with 1 Axes>"
      ]
     },
     "metadata": {
      "needs_background": "light"
     },
     "output_type": "display_data"
    }
   ],
   "source": [
    "g = sns.catplot(y=\"WAGP\", x=\"JOB\", data=occ_test, kind=\"box\", aspect = 2, order = occ_list)\n",
    "g.set(ylim=(0, 175000))"
   ]
  },
  {
   "cell_type": "code",
   "execution_count": 264,
   "metadata": {},
   "outputs": [
    {
     "data": {
      "text/plain": [
       "<seaborn.axisgrid.FacetGrid at 0x1e2005ff7c8>"
      ]
     },
     "execution_count": 264,
     "metadata": {},
     "output_type": "execute_result"
    },
    {
     "data": {
      "image/png": "[encoded data removed]",
      "text/plain": [
       "<Figure size 906.375x288 with 1 Axes>"
      ]
     },
     "metadata": {
      "needs_background": "light"
     },
     "output_type": "display_data"
    }
   ],
   "source": [
    "g = sns.catplot(y=\"WAGP\", x=\"JOB\", data=occ_test, kind=\"box\", height = 4, aspect = 3, hue = \"SEX\", order = occ_list)\n",
    "g.set(ylim=(0, 175000))"
   ]
  },
  {
   "cell_type": "markdown",
   "metadata": {},
   "source": [
    "#### State - POWSP"
   ]
  },
  {
   "cell_type": "code",
   "execution_count": 269,
   "metadata": {},
   "outputs": [],
   "source": [
    "int_state_sort = occ_test.groupby('POWSP').median().reset_index()\n",
    "int_state_sort['reg_code'] = ['3', '4', '4', '3', '4', '4', '1', '3', '3', '3',\n",
    "                              '3', '4', '4', '2', '2', '2', '2', '3', '3', '1',\n",
    "                              '3', '1', '2', '2', '3', '2', '4', '2', '4', '1',\n",
    "                              '1', '4', '1', '3', '2', '2', '3', '4', '1', '1',\n",
    "                              '3', '2', '3', '3', '4', '1', '3', '4', '3', '2',\n",
    "                              '4', '5', '5', '5', '5', '5', '5', '5', '5']\n",
    "int_state_sort = int_state_sort.sort_values(by=['WAGP'])\n",
    "int_state_list = int_state_sort['POWSP'].tolist()"
   ]
  },
  {
   "cell_type": "code",
   "execution_count": 270,
   "metadata": {},
   "outputs": [],
   "source": [
    "reg_sort = int_state_sort.sort_values(by=['reg_code'])\n",
    "reg_list = reg_sort['POWSP'].tolist()"
   ]
  },
  {
   "cell_type": "code",
   "execution_count": 292,
   "metadata": {},
   "outputs": [
    {
     "name": "stdout",
     "output_type": "stream",
     "text": [
      "[50.0, 25.0, 9.0, 34.0, 36.0, 42.0, 44.0, 23.0, 33.0, 38.0, 55.0, 31.0, 27.0, 19.0, 20.0, 18.0, 26.0, 29.0, 46.0, 17.0, 39.0, 10.0, 51.0, 24.0, 48.0, 24.0, 28.0, 13.0, 5.0, 40.0, 1.0, 54.0, 45.0, 21.0, 12.0, 47.0, 22.0, 37.0, 56.0, 4.0, 35.0, 32.0, 49.0, 30.0, 15.0, 8.0, 16.0, 6.0, 41.0, 2.0, 53.0, 48.0, 25.0, 12.0, 24.0, 17.0, 27.0, 25.0, 30.5]\n"
     ]
    }
   ],
   "source": [
    "ST_list = reg_sort['ST'].tolist()\n",
    "print(ST_list)"
   ]
  },
  {
   "cell_type": "code",
   "execution_count": 276,
   "metadata": {
    "scrolled": true
   },
   "outputs": [
    {
     "name": "stdout",
     "output_type": "stream",
     "text": [
      "[50.0, 25.0, 9.0, 34.0, 36.0, 42.0, 44.0, 23.0, 33.0, 38.0, 55.0, 31.0, 27.0, 19.0, 20.0, 18.0, 26.0, 29.0, 46.0, 17.0, 39.0, 10.0, 51.0, 24.0, 48.0, 11.0, 28.0, 13.0, 5.0, 40.0, 1.0, 54.0, 45.0, 21.0, 12.0, 47.0, 22.0, 37.0, 56.0, 4.0, 35.0, 32.0, 49.0, 30.0, 15.0, 8.0, 16.0, 6.0, 41.0, 2.0, 53.0, 303.0, 166.0, 72.0, 251.0, 399.0, 301.0, 555.0, 254.0]\n"
     ]
    }
   ],
   "source": [
    "print(reg_list)"
   ]
  },
  {
   "cell_type": "code",
   "execution_count": 271,
   "metadata": {},
   "outputs": [
    {
     "data": {
      "text/plain": [
       "<seaborn.axisgrid.FacetGrid at 0x1e20245b848>"
      ]
     },
     "execution_count": 271,
     "metadata": {},
     "output_type": "execute_result"
    },
    {
     "data": {
      "image/png": "[encoded data removed]",
      "text/plain": [
       "<Figure size 1493.62x360 with 1 Axes>"
      ]
     },
     "metadata": {
      "needs_background": "light"
     },
     "output_type": "display_data"
    }
   ],
   "source": [
    "g = sns.catplot(y=\"WAGP\", x=\"POWSP\", hue = 'reg_code', data=reg_sort, kind=\"bar\", aspect = 4, order = reg_list)\n",
    "g.set(ylim=(0, 175000))"
   ]
  },
  {
   "cell_type": "code",
   "execution_count": 278,
   "metadata": {},
   "outputs": [
    {
     "data": {
      "text/html": [
       "<div>\n",
       "<style scoped>\n",
       "    .dataframe tbody tr th:only-of-type {\n",
       "        vertical-align: middle;\n",
       "    }\n",
       "\n",
       "    .dataframe tbody tr th {\n",
       "        vertical-align: top;\n",
       "    }\n",
       "\n",
       "    .dataframe thead th {\n",
       "        text-align: right;\n",
       "    }\n",
       "</style>\n",
       "<table border=\"1\" class=\"dataframe\">\n",
       "  <thead>\n",
       "    <tr style=\"text-align: right;\">\n",
       "      <th></th>\n",
       "      <th>POWSP</th>\n",
       "      <th>ST</th>\n",
       "      <th>AGEP</th>\n",
       "      <th>SCHL</th>\n",
       "      <th>SEX</th>\n",
       "      <th>WAGP</th>\n",
       "      <th>WKHP</th>\n",
       "      <th>WKW</th>\n",
       "      <th>OCCP</th>\n",
       "      <th>RAC1P</th>\n",
       "      <th>RAC3P</th>\n",
       "      <th>AGEB</th>\n",
       "      <th>EDU</th>\n",
       "      <th>JOB</th>\n",
       "    </tr>\n",
       "    <tr>\n",
       "      <th>reg_code</th>\n",
       "      <th></th>\n",
       "      <th></th>\n",
       "      <th></th>\n",
       "      <th></th>\n",
       "      <th></th>\n",
       "      <th></th>\n",
       "      <th></th>\n",
       "      <th></th>\n",
       "      <th></th>\n",
       "      <th></th>\n",
       "      <th></th>\n",
       "      <th></th>\n",
       "      <th></th>\n",
       "      <th></th>\n",
       "    </tr>\n",
       "  </thead>\n",
       "  <tbody>\n",
       "    <tr>\n",
       "      <td>1</td>\n",
       "      <td>34.0</td>\n",
       "      <td>34.0</td>\n",
       "      <td>46.0</td>\n",
       "      <td>20.0</td>\n",
       "      <td>1.0</td>\n",
       "      <td>51000.0</td>\n",
       "      <td>1.0</td>\n",
       "      <td>1.0</td>\n",
       "      <td>3850.00</td>\n",
       "      <td>1.0</td>\n",
       "      <td>1.0</td>\n",
       "      <td>4.0</td>\n",
       "      <td>2.0</td>\n",
       "      <td>2.0</td>\n",
       "    </tr>\n",
       "    <tr>\n",
       "      <td>2</td>\n",
       "      <td>28.0</td>\n",
       "      <td>28.0</td>\n",
       "      <td>45.0</td>\n",
       "      <td>19.0</td>\n",
       "      <td>1.0</td>\n",
       "      <td>43150.0</td>\n",
       "      <td>1.0</td>\n",
       "      <td>1.0</td>\n",
       "      <td>4660.00</td>\n",
       "      <td>1.0</td>\n",
       "      <td>1.0</td>\n",
       "      <td>3.0</td>\n",
       "      <td>2.0</td>\n",
       "      <td>2.0</td>\n",
       "    </tr>\n",
       "    <tr>\n",
       "      <td>3</td>\n",
       "      <td>24.0</td>\n",
       "      <td>24.0</td>\n",
       "      <td>44.0</td>\n",
       "      <td>19.0</td>\n",
       "      <td>1.0</td>\n",
       "      <td>41000.0</td>\n",
       "      <td>1.0</td>\n",
       "      <td>1.0</td>\n",
       "      <td>4230.00</td>\n",
       "      <td>1.0</td>\n",
       "      <td>1.0</td>\n",
       "      <td>3.0</td>\n",
       "      <td>2.0</td>\n",
       "      <td>2.0</td>\n",
       "    </tr>\n",
       "    <tr>\n",
       "      <td>4</td>\n",
       "      <td>30.0</td>\n",
       "      <td>30.0</td>\n",
       "      <td>44.0</td>\n",
       "      <td>19.0</td>\n",
       "      <td>1.0</td>\n",
       "      <td>46000.0</td>\n",
       "      <td>1.0</td>\n",
       "      <td>1.0</td>\n",
       "      <td>4220.00</td>\n",
       "      <td>1.0</td>\n",
       "      <td>1.0</td>\n",
       "      <td>3.0</td>\n",
       "      <td>2.0</td>\n",
       "      <td>2.0</td>\n",
       "    </tr>\n",
       "    <tr>\n",
       "      <td>5</td>\n",
       "      <td>277.5</td>\n",
       "      <td>25.0</td>\n",
       "      <td>47.5</td>\n",
       "      <td>21.0</td>\n",
       "      <td>1.0</td>\n",
       "      <td>72500.0</td>\n",
       "      <td>1.0</td>\n",
       "      <td>1.0</td>\n",
       "      <td>2621.25</td>\n",
       "      <td>1.0</td>\n",
       "      <td>1.0</td>\n",
       "      <td>4.0</td>\n",
       "      <td>3.0</td>\n",
       "      <td>2.0</td>\n",
       "    </tr>\n",
       "  </tbody>\n",
       "</table>\n",
       "</div>"
      ],
      "text/plain": [
       "          POWSP    ST  AGEP  SCHL  SEX     WAGP  WKHP  WKW     OCCP  RAC1P  \\\n",
       "reg_code                                                                     \n",
       "1          34.0  34.0  46.0  20.0  1.0  51000.0   1.0  1.0  3850.00    1.0   \n",
       "2          28.0  28.0  45.0  19.0  1.0  43150.0   1.0  1.0  4660.00    1.0   \n",
       "3          24.0  24.0  44.0  19.0  1.0  41000.0   1.0  1.0  4230.00    1.0   \n",
       "4          30.0  30.0  44.0  19.0  1.0  46000.0   1.0  1.0  4220.00    1.0   \n",
       "5         277.5  25.0  47.5  21.0  1.0  72500.0   1.0  1.0  2621.25    1.0   \n",
       "\n",
       "          RAC3P  AGEB  EDU  JOB  \n",
       "reg_code                         \n",
       "1           1.0   4.0  2.0  2.0  \n",
       "2           1.0   3.0  2.0  2.0  \n",
       "3           1.0   3.0  2.0  2.0  \n",
       "4           1.0   3.0  2.0  2.0  \n",
       "5           1.0   4.0  3.0  2.0  "
      ]
     },
     "execution_count": 278,
     "metadata": {},
     "output_type": "execute_result"
    }
   ],
   "source": [
    "int_state_sort.groupby('reg_code').median()"
   ]
  },
  {
   "cell_type": "code",
   "execution_count": 272,
   "metadata": {
    "scrolled": true
   },
   "outputs": [
    {
     "data": {
      "text/plain": [
       "<seaborn.axisgrid.FacetGrid at 0x1e201a67b88>"
      ]
     },
     "execution_count": 272,
     "metadata": {},
     "output_type": "execute_result"
    },
    {
     "data": {
      "image/png": "[encoded data removed]",
      "text/plain": [
       "<Figure size 1440x360 with 1 Axes>"
      ]
     },
     "metadata": {
      "needs_background": "light"
     },
     "output_type": "display_data"
    }
   ],
   "source": [
    "g = sns.catplot(y=\"WAGP\", x=\"POWSP\", data=occ_test, kind=\"box\", aspect = 4, order = int_state_list)\n",
    "g.set(ylim=(0, 175000))"
   ]
  },
  {
   "cell_type": "code",
   "execution_count": 275,
   "metadata": {},
   "outputs": [
    {
     "name": "stdout",
     "output_type": "stream",
     "text": [
      "[28.0, 5.0, 46.0, 40.0, 1.0, 35.0, 30.0, 54.0, 29.0, 45.0, 47.0, 16.0, 18.0, 21.0, 12.0, 20.0, 19.0, 37.0, 23.0, 32.0, 31.0, 22.0, 4.0, 55.0, 13.0, 39.0, 15.0, 26.0, 48.0, 38.0, 50.0, 42.0, 49.0, 41.0, 56.0, 27.0, 33.0, 2.0, 17.0, 6.0, 10.0, 8.0, 51.0, 53.0, 44.0, 36.0, 303.0, 24.0, 34.0, 9.0, 25.0, 72.0, 251.0, 399.0, 301.0, 555.0, 11.0, 166.0, 254.0]\n"
     ]
    }
   ],
   "source": [
    "print (int_state_list)"
   ]
  },
  {
   "cell_type": "code",
   "execution_count": 295,
   "metadata": {},
   "outputs": [],
   "source": [
    "def state_split(df):\n",
    "    # split into higher paying states\n",
    "    df['STSP'] = df['POWSP'].map(lambda y: 1 if y in [17.0, 8.0, 10.0, 51.0, 53.0, 44.0, 36.0, 303.0, 34.0, 24.0, 72.0, 25.0, 9.0, 251.0, 399.0, 301.0, 555.0, 11.0, 166.0, 254.0]\n",
    "                                 else 2 if y in [50.0, 55.0, 15.0, 38.0, 42.0, 49.0, 41.0, 56.0, 27.0, 33.0, 2.0,6.0]\n",
    "                                 else 3 if y in [23.0, 21.0, 20.0, 19.0, 22.0, 39.0, 26.0, 4.0,13.0, 48.0, ]\n",
    "                                 else 4 if y in [28.0, 5.0, 30.0, 45.0, 40.0, 47.0, 54.0, 16.0, 46.0, 1.0, 29.0, 35.0, 18.0, 12.0, 31.0,32.0, 37.0, ]\n",
    "                                 else 5)\n",
    "    test = df.loc[df['STSP'] == 5].copy()\n",
    "    df = df.loc[df['STSP'] != 5]\n",
    "    test['STSP'] = test['ST'].map(lambda y: 1 if y in [50, 25.0, 9.0, 34.0, 36.0, 42.0, 44.0, 23.0, 33.0,303.0, 166.0, 72.0, 251.0, 399.0, 301.0, 555.0, 254.0]\n",
    "                                      else 2 if y in [56.0, 4.0, 35.0, 32.0, 49.0, 30.0, 15.0, 8.0, 16.0, 6.0, 41.0, 2.0, 53.0]\n",
    "                                      else 3 if y in [38.0, 55.0, 31.0, 27.0, 19.0, 20.0, 18.0, 26.0, 29.0, 46.0, 17.0, 39.0]\n",
    "                                      else 4 if y in [10.0, 51.0, 24.0, 48.0, 11.0, 28.0, 13.0, 5.0, 40.0, 1.0, 54.0, 45.0, 21.0, 12.0, 47.0, 22.0, 37.0]\n",
    "                                      else 10)\n",
    "    df = pd.concat([df, test])\n",
    "\n",
    "    return df"
   ]
  },
  {
   "cell_type": "code",
   "execution_count": 296,
   "metadata": {},
   "outputs": [
    {
     "name": "stdout",
     "output_type": "stream",
     "text": [
      "State : [3 4 1 2]\n"
     ]
    },
    {
     "data": {
      "text/plain": [
       "1    1813402\n",
       "3    1681095\n",
       "4    1660652\n",
       "2    1550420\n",
       "Name: STSP, dtype: int64"
      ]
     },
     "execution_count": 296,
     "metadata": {},
     "output_type": "execute_result"
    }
   ],
   "source": [
    "state_test = occ_test.copy()\n",
    "state_test = state_split(state_test)\n",
    "print(\"State :\", state_test.STSP.unique())\n",
    "state_test['STSP'].value_counts()"
   ]
  },
  {
   "cell_type": "code",
   "execution_count": 297,
   "metadata": {},
   "outputs": [],
   "source": [
    "state_sort = state_test.groupby('STSP').median().sort_values(by=['WAGP']).reset_index()\n",
    "state_list = state_sort['STSP'].tolist()"
   ]
  },
  {
   "cell_type": "code",
   "execution_count": 298,
   "metadata": {},
   "outputs": [
    {
     "data": {
      "text/plain": [
       "<seaborn.axisgrid.FacetGrid at 0x1e20019d2c8>"
      ]
     },
     "execution_count": 298,
     "metadata": {},
     "output_type": "execute_result"
    },
    {
     "data": {
      "image/png": "[encoded data removed]",
      "text/plain": [
       "<Figure size 720x360 with 1 Axes>"
      ]
     },
     "metadata": {
      "needs_background": "light"
     },
     "output_type": "display_data"
    }
   ],
   "source": [
    "g = sns.catplot(y=\"WAGP\", x=\"STSP\", data=state_test, kind=\"box\", aspect = 2, order = state_list)\n",
    "g.set(ylim=(0, 175000))"
   ]
  },
  {
   "cell_type": "code",
   "execution_count": 299,
   "metadata": {},
   "outputs": [
    {
     "data": {
      "text/plain": [
       "<seaborn.axisgrid.FacetGrid at 0x1e2004daf48>"
      ]
     },
     "execution_count": 299,
     "metadata": {},
     "output_type": "execute_result"
    },
    {
     "data": {
      "image/png": "[encoded data removed]",
      "text/plain": [
       "<Figure size 906.375x288 with 1 Axes>"
      ]
     },
     "metadata": {
      "needs_background": "light"
     },
     "output_type": "display_data"
    }
   ],
   "source": [
    "g = sns.catplot(y=\"WAGP\", x=\"STSP\", data=state_test, kind=\"box\", height = 4, aspect = 3, hue = \"SEX\", order = state_list)\n",
    "g.set(ylim=(0, 175000))"
   ]
  },
  {
   "cell_type": "markdown",
   "metadata": {},
   "source": [
    "#### Ethnicity - RAC1P"
   ]
  },
  {
   "cell_type": "code",
   "execution_count": 300,
   "metadata": {
    "scrolled": true
   },
   "outputs": [
    {
     "data": {
      "text/plain": [
       "<seaborn.axisgrid.FacetGrid at 0x1e2004ec6c8>"
      ]
     },
     "execution_count": 300,
     "metadata": {},
     "output_type": "execute_result"
    },
    {
     "data": {
      "image/png": "[encoded data removed]",
      "text/plain": [
       "<Figure size 1440x360 with 1 Axes>"
      ]
     },
     "metadata": {
      "needs_background": "light"
     },
     "output_type": "display_data"
    }
   ],
   "source": [
    "g = sns.catplot(y=\"WAGP\", x=\"RAC1P\", data=state_test, kind=\"box\", aspect = 4)\n",
    "g.set(ylim=(0, 175000))"
   ]
  },
  {
   "cell_type": "code",
   "execution_count": 301,
   "metadata": {},
   "outputs": [
    {
     "data": {
      "text/plain": [
       "1    5274760\n",
       "2     608751\n",
       "6     377354\n",
       "8     241495\n",
       "9     135744\n",
       "3      46464\n",
       "7      11223\n",
       "5       7444\n",
       "4       2334\n",
       "Name: RAC1P, dtype: int64"
      ]
     },
     "execution_count": 301,
     "metadata": {},
     "output_type": "execute_result"
    }
   ],
   "source": [
    "state_test['RAC1P'].value_counts()"
   ]
  },
  {
   "cell_type": "code",
   "execution_count": 302,
   "metadata": {},
   "outputs": [],
   "source": [
    "def int_race_split(df):\n",
    "    # split into occupational industries\n",
    "    df['RACE'] = df['RAC3P'].map(lambda y: \"WHT\" if y == 1\n",
    "                               else \"BLK\" if y == 2\n",
    "                               else \"IND\" if y == 3\n",
    "                               else \"ASN\" if y <= 10\n",
    "                               else \"ISL\" if y <= 14\n",
    "                               else \"NAN\" if y == 15\n",
    "                               else \"WHT\" if y <= 29\n",
    "                               else \"BLK\" if y <= 38\n",
    "                               else \"IND\" if y <= 41\n",
    "                               else \"ASN\" if y <= 58\n",
    "                               else \"ISL\" if y == 59\n",
    "                               else \"WHT\" if y <= 70\n",
    "                               else \"ASN\" if y == 71\n",
    "                               else \"WHT\" if y <= 73\n",
    "                               else \"BLK\" if y <= 75\n",
    "                               else \"ASN\" if y <= 77\n",
    "                               else \"WHT\" if y <= 89\n",
    "                               else \"BLK\" if y <= 91\n",
    "                               else \"ASN\" if y <= 98\n",
    "                               else \"ISL\" if y == 99\n",
    "                               else \"WHT\" if y == 100\n",
    "                               else \"UN\")\n",
    "    return df"
   ]
  },
  {
   "cell_type": "code",
   "execution_count": 303,
   "metadata": {},
   "outputs": [
    {
     "name": "stdout",
     "output_type": "stream",
     "text": [
      "RACE : ['WHT' 'IND' 'ASN' 'BLK' 'NAN' 'ISL']\n"
     ]
    }
   ],
   "source": [
    "int_race_test = state_test.copy()\n",
    "int_race_test = int_race_split(int_race_test)\n",
    "print(\"RACE :\", int_race_test.RACE.unique())"
   ]
  },
  {
   "cell_type": "code",
   "execution_count": 304,
   "metadata": {},
   "outputs": [
    {
     "data": {
      "text/plain": [
       "WHT    5387853\n",
       "BLK     619592\n",
       "ASN     386599\n",
       "NAN     241495\n",
       "IND      58252\n",
       "ISL      11778\n",
       "Name: RACE, dtype: int64"
      ]
     },
     "execution_count": 304,
     "metadata": {},
     "output_type": "execute_result"
    }
   ],
   "source": [
    "int_race_test['RACE'].value_counts()"
   ]
  },
  {
   "cell_type": "code",
   "execution_count": 305,
   "metadata": {
    "scrolled": false
   },
   "outputs": [
    {
     "data": {
      "text/plain": [
       "<seaborn.axisgrid.FacetGrid at 0x1e200c5cf88>"
      ]
     },
     "execution_count": 305,
     "metadata": {},
     "output_type": "execute_result"
    },
    {
     "data": {
      "image/png": "[encoded data removed]",
      "text/plain": [
       "<Figure size 1080x360 with 1 Axes>"
      ]
     },
     "metadata": {
      "needs_background": "light"
     },
     "output_type": "display_data"
    }
   ],
   "source": [
    "int_race_sort = int_race_test.groupby('RACE').median().sort_values(by=['WAGP']).reset_index()\n",
    "int_race_list = int_race_sort['RACE'].tolist()\n",
    "g = sns.catplot(y=\"WAGP\", x=\"RACE\", data=int_race_test, kind=\"box\", aspect = 3, order = int_race_list)\n",
    "g.set(ylim=(0, 175000))"
   ]
  },
  {
   "cell_type": "code",
   "execution_count": 306,
   "metadata": {},
   "outputs": [],
   "source": [
    "def race_split(df):\n",
    "    # split into occupational industries\n",
    "    df['RACE'] = df['RAC3P'].map(lambda y: \"WHT\" if y == 1\n",
    "                               else \"BLK\" if y == 2\n",
    "                               else \"IND\" if y == 3\n",
    "                               else \"ASN\" if y <= 10\n",
    "                               else \"ISL\" if y <= 14\n",
    "                               else \"NAN\" if y == 15\n",
    "                               else \"WHT\" if y <= 29\n",
    "                               else \"BLK\" if y <= 38\n",
    "                               else \"IND\" if y <= 41\n",
    "                               else \"ASN\" if y <= 58\n",
    "                               else \"ISL\" if y == 59\n",
    "                               else \"WHT\" if y <= 70\n",
    "                               else \"ASN\" if y == 71\n",
    "                               else \"WHT\" if y <= 73\n",
    "                               else \"BLK\" if y <= 75\n",
    "                               else \"ASN\" if y <= 77\n",
    "                               else \"WHT\" if y <= 89\n",
    "                               else \"BLK\" if y <= 91\n",
    "                               else \"ASN\" if y <= 98\n",
    "                               else \"ISL\" if y == 99\n",
    "                               else \"WHT\" if y == 100\n",
    "                               else \"UN\")\n",
    "    df['RACE'] = df['RACE'].map(lambda y: 2 if y in ['WHT'] #white\n",
    "                               else 3 if y in ['BLK','NAN','IND','ISL'] #black\n",
    "                               else 1 if y in ['ASN'] #asian\n",
    "                               else 4) #Other\n",
    "    return df"
   ]
  },
  {
   "cell_type": "code",
   "execution_count": 307,
   "metadata": {},
   "outputs": [
    {
     "name": "stdout",
     "output_type": "stream",
     "text": [
      "RACE : [2 3 1]\n"
     ]
    }
   ],
   "source": [
    "race_test = state_test.copy()\n",
    "race_test = race_split(race_test)\n",
    "print(\"RACE :\", race_test.RACE.unique())"
   ]
  },
  {
   "cell_type": "code",
   "execution_count": 308,
   "metadata": {},
   "outputs": [
    {
     "data": {
      "text/plain": [
       "2    5387853\n",
       "3     931117\n",
       "1     386599\n",
       "Name: RACE, dtype: int64"
      ]
     },
     "execution_count": 308,
     "metadata": {},
     "output_type": "execute_result"
    }
   ],
   "source": [
    "race_test['RACE'].value_counts()"
   ]
  },
  {
   "cell_type": "code",
   "execution_count": 309,
   "metadata": {},
   "outputs": [
    {
     "data": {
      "text/plain": [
       "<seaborn.axisgrid.FacetGrid at 0x1e5719a7688>"
      ]
     },
     "execution_count": 309,
     "metadata": {},
     "output_type": "execute_result"
    },
    {
     "data": {
      "image/png": "[encoded data removed]",
      "text/plain": [
       "<Figure size 1080x360 with 1 Axes>"
      ]
     },
     "metadata": {
      "needs_background": "light"
     },
     "output_type": "display_data"
    }
   ],
   "source": [
    "race_sort = race_test.groupby('RACE').median().sort_values(by=['WAGP']).reset_index()\n",
    "race_list = race_sort['RACE'].tolist()\n",
    "g = sns.catplot(y=\"WAGP\", x=\"RACE\", data=race_test, kind=\"box\", aspect = 3, order = race_list)\n",
    "g.set(ylim=(0, 175000))"
   ]
  },
  {
   "cell_type": "markdown",
   "metadata": {},
   "source": [
    "#### Remove Columns"
   ]
  },
  {
   "cell_type": "code",
   "execution_count": 310,
   "metadata": {
    "scrolled": true
   },
   "outputs": [
    {
     "data": {
      "text/plain": [
       "Index(['ST', 'AGEP', 'SCHL', 'SEX', 'WAGP', 'WKHP', 'WKW', 'OCCP', 'POWSP',\n",
       "       'RAC1P', 'RAC3P', 'AGEB', 'EDU', 'JOB', 'STSP', 'RACE'],\n",
       "      dtype='object')"
      ]
     },
     "execution_count": 310,
     "metadata": {},
     "output_type": "execute_result"
    }
   ],
   "source": [
    "race_test.columns"
   ]
  },
  {
   "cell_type": "code",
   "execution_count": 311,
   "metadata": {},
   "outputs": [
    {
     "data": {
      "text/html": [
       "<div>\n",
       "<style scoped>\n",
       "    .dataframe tbody tr th:only-of-type {\n",
       "        vertical-align: middle;\n",
       "    }\n",
       "\n",
       "    .dataframe tbody tr th {\n",
       "        vertical-align: top;\n",
       "    }\n",
       "\n",
       "    .dataframe thead th {\n",
       "        text-align: right;\n",
       "    }\n",
       "</style>\n",
       "<table border=\"1\" class=\"dataframe\">\n",
       "  <thead>\n",
       "    <tr style=\"text-align: right;\">\n",
       "      <th></th>\n",
       "      <th>ST</th>\n",
       "      <th>AGEP</th>\n",
       "      <th>SCHL</th>\n",
       "      <th>SEX</th>\n",
       "      <th>WAGP</th>\n",
       "      <th>WKHP</th>\n",
       "      <th>WKW</th>\n",
       "      <th>OCCP</th>\n",
       "      <th>POWSP</th>\n",
       "      <th>RAC1P</th>\n",
       "      <th>RAC3P</th>\n",
       "      <th>AGEB</th>\n",
       "      <th>EDU</th>\n",
       "      <th>JOB</th>\n",
       "      <th>STSP</th>\n",
       "      <th>RACE</th>\n",
       "    </tr>\n",
       "  </thead>\n",
       "  <tbody>\n",
       "    <tr>\n",
       "      <td>count</td>\n",
       "      <td>6.705569e+06</td>\n",
       "      <td>6.705569e+06</td>\n",
       "      <td>6.705569e+06</td>\n",
       "      <td>6.705569e+06</td>\n",
       "      <td>6.705569e+06</td>\n",
       "      <td>6705569.0</td>\n",
       "      <td>6705569.0</td>\n",
       "      <td>6.705569e+06</td>\n",
       "      <td>6.501202e+06</td>\n",
       "      <td>6.705569e+06</td>\n",
       "      <td>6.705569e+06</td>\n",
       "      <td>6.705569e+06</td>\n",
       "      <td>6.705569e+06</td>\n",
       "      <td>6.705569e+06</td>\n",
       "      <td>6.705569e+06</td>\n",
       "      <td>6.705569e+06</td>\n",
       "    </tr>\n",
       "    <tr>\n",
       "      <td>mean</td>\n",
       "      <td>2.799466e+01</td>\n",
       "      <td>4.386132e+01</td>\n",
       "      <td>1.880166e+01</td>\n",
       "      <td>1.443757e+00</td>\n",
       "      <td>5.568370e+04</td>\n",
       "      <td>1.0</td>\n",
       "      <td>1.0</td>\n",
       "      <td>4.087970e+03</td>\n",
       "      <td>2.812303e+01</td>\n",
       "      <td>1.815588e+00</td>\n",
       "      <td>2.562137e+00</td>\n",
       "      <td>3.191098e+00</td>\n",
       "      <td>2.265805e+00</td>\n",
       "      <td>2.871115e+00</td>\n",
       "      <td>2.475574e+00</td>\n",
       "      <td>2.081204e+00</td>\n",
       "    </tr>\n",
       "    <tr>\n",
       "      <td>std</td>\n",
       "      <td>1.598225e+01</td>\n",
       "      <td>1.247871e+01</td>\n",
       "      <td>3.190605e+00</td>\n",
       "      <td>4.968267e-01</td>\n",
       "      <td>3.545906e+04</td>\n",
       "      <td>0.0</td>\n",
       "      <td>0.0</td>\n",
       "      <td>2.749989e+03</td>\n",
       "      <td>1.765068e+01</td>\n",
       "      <td>2.000401e+00</td>\n",
       "      <td>5.928291e+00</td>\n",
       "      <td>1.119307e+00</td>\n",
       "      <td>1.114455e+00</td>\n",
       "      <td>1.638497e+00</td>\n",
       "      <td>1.133831e+00</td>\n",
       "      <td>4.357943e-01</td>\n",
       "    </tr>\n",
       "    <tr>\n",
       "      <td>min</td>\n",
       "      <td>1.000000e+00</td>\n",
       "      <td>1.800000e+01</td>\n",
       "      <td>1.000000e+00</td>\n",
       "      <td>1.000000e+00</td>\n",
       "      <td>1.250000e+04</td>\n",
       "      <td>1.0</td>\n",
       "      <td>1.0</td>\n",
       "      <td>1.000000e+01</td>\n",
       "      <td>1.000000e+00</td>\n",
       "      <td>1.000000e+00</td>\n",
       "      <td>1.000000e+00</td>\n",
       "      <td>1.000000e+00</td>\n",
       "      <td>1.000000e+00</td>\n",
       "      <td>1.000000e+00</td>\n",
       "      <td>1.000000e+00</td>\n",
       "      <td>1.000000e+00</td>\n",
       "    </tr>\n",
       "    <tr>\n",
       "      <td>25%</td>\n",
       "      <td>1.200000e+01</td>\n",
       "      <td>3.300000e+01</td>\n",
       "      <td>1.600000e+01</td>\n",
       "      <td>1.000000e+00</td>\n",
       "      <td>3.000000e+04</td>\n",
       "      <td>1.0</td>\n",
       "      <td>1.0</td>\n",
       "      <td>1.760000e+03</td>\n",
       "      <td>1.200000e+01</td>\n",
       "      <td>1.000000e+00</td>\n",
       "      <td>1.000000e+00</td>\n",
       "      <td>2.000000e+00</td>\n",
       "      <td>1.000000e+00</td>\n",
       "      <td>1.000000e+00</td>\n",
       "      <td>1.000000e+00</td>\n",
       "      <td>2.000000e+00</td>\n",
       "    </tr>\n",
       "    <tr>\n",
       "      <td>50%</td>\n",
       "      <td>2.800000e+01</td>\n",
       "      <td>4.400000e+01</td>\n",
       "      <td>1.900000e+01</td>\n",
       "      <td>1.000000e+00</td>\n",
       "      <td>4.600000e+04</td>\n",
       "      <td>1.0</td>\n",
       "      <td>1.0</td>\n",
       "      <td>4.110000e+03</td>\n",
       "      <td>2.800000e+01</td>\n",
       "      <td>1.000000e+00</td>\n",
       "      <td>1.000000e+00</td>\n",
       "      <td>3.000000e+00</td>\n",
       "      <td>2.000000e+00</td>\n",
       "      <td>2.000000e+00</td>\n",
       "      <td>2.000000e+00</td>\n",
       "      <td>2.000000e+00</td>\n",
       "    </tr>\n",
       "    <tr>\n",
       "      <td>75%</td>\n",
       "      <td>4.200000e+01</td>\n",
       "      <td>5.400000e+01</td>\n",
       "      <td>2.100000e+01</td>\n",
       "      <td>2.000000e+00</td>\n",
       "      <td>7.000000e+04</td>\n",
       "      <td>1.0</td>\n",
       "      <td>1.0</td>\n",
       "      <td>5.810000e+03</td>\n",
       "      <td>4.200000e+01</td>\n",
       "      <td>1.000000e+00</td>\n",
       "      <td>1.000000e+00</td>\n",
       "      <td>4.000000e+00</td>\n",
       "      <td>3.000000e+00</td>\n",
       "      <td>4.000000e+00</td>\n",
       "      <td>3.000000e+00</td>\n",
       "      <td>2.000000e+00</td>\n",
       "    </tr>\n",
       "    <tr>\n",
       "      <td>max</td>\n",
       "      <td>5.600000e+01</td>\n",
       "      <td>7.000000e+01</td>\n",
       "      <td>2.400000e+01</td>\n",
       "      <td>2.000000e+00</td>\n",
       "      <td>2.020000e+05</td>\n",
       "      <td>1.0</td>\n",
       "      <td>1.0</td>\n",
       "      <td>9.830000e+03</td>\n",
       "      <td>5.550000e+02</td>\n",
       "      <td>9.000000e+00</td>\n",
       "      <td>1.000000e+02</td>\n",
       "      <td>5.000000e+00</td>\n",
       "      <td>5.000000e+00</td>\n",
       "      <td>5.000000e+00</td>\n",
       "      <td>4.000000e+00</td>\n",
       "      <td>3.000000e+00</td>\n",
       "    </tr>\n",
       "  </tbody>\n",
       "</table>\n",
       "</div>"
      ],
      "text/plain": [
       "                 ST          AGEP          SCHL           SEX          WAGP  \\\n",
       "count  6.705569e+06  6.705569e+06  6.705569e+06  6.705569e+06  6.705569e+06   \n",
       "mean   2.799466e+01  4.386132e+01  1.880166e+01  1.443757e+00  5.568370e+04   \n",
       "std    1.598225e+01  1.247871e+01  3.190605e+00  4.968267e-01  3.545906e+04   \n",
       "min    1.000000e+00  1.800000e+01  1.000000e+00  1.000000e+00  1.250000e+04   \n",
       "25%    1.200000e+01  3.300000e+01  1.600000e+01  1.000000e+00  3.000000e+04   \n",
       "50%    2.800000e+01  4.400000e+01  1.900000e+01  1.000000e+00  4.600000e+04   \n",
       "75%    4.200000e+01  5.400000e+01  2.100000e+01  2.000000e+00  7.000000e+04   \n",
       "max    5.600000e+01  7.000000e+01  2.400000e+01  2.000000e+00  2.020000e+05   \n",
       "\n",
       "            WKHP        WKW          OCCP         POWSP         RAC1P  \\\n",
       "count  6705569.0  6705569.0  6.705569e+06  6.501202e+06  6.705569e+06   \n",
       "mean         1.0        1.0  4.087970e+03  2.812303e+01  1.815588e+00   \n",
       "std          0.0        0.0  2.749989e+03  1.765068e+01  2.000401e+00   \n",
       "min          1.0        1.0  1.000000e+01  1.000000e+00  1.000000e+00   \n",
       "25%          1.0        1.0  1.760000e+03  1.200000e+01  1.000000e+00   \n",
       "50%          1.0        1.0  4.110000e+03  2.800000e+01  1.000000e+00   \n",
       "75%          1.0        1.0  5.810000e+03  4.200000e+01  1.000000e+00   \n",
       "max          1.0        1.0  9.830000e+03  5.550000e+02  9.000000e+00   \n",
       "\n",
       "              RAC3P          AGEB           EDU           JOB          STSP  \\\n",
       "count  6.705569e+06  6.705569e+06  6.705569e+06  6.705569e+06  6.705569e+06   \n",
       "mean   2.562137e+00  3.191098e+00  2.265805e+00  2.871115e+00  2.475574e+00   \n",
       "std    5.928291e+00  1.119307e+00  1.114455e+00  1.638497e+00  1.133831e+00   \n",
       "min    1.000000e+00  1.000000e+00  1.000000e+00  1.000000e+00  1.000000e+00   \n",
       "25%    1.000000e+00  2.000000e+00  1.000000e+00  1.000000e+00  1.000000e+00   \n",
       "50%    1.000000e+00  3.000000e+00  2.000000e+00  2.000000e+00  2.000000e+00   \n",
       "75%    1.000000e+00  4.000000e+00  3.000000e+00  4.000000e+00  3.000000e+00   \n",
       "max    1.000000e+02  5.000000e+00  5.000000e+00  5.000000e+00  4.000000e+00   \n",
       "\n",
       "               RACE  \n",
       "count  6.705569e+06  \n",
       "mean   2.081204e+00  \n",
       "std    4.357943e-01  \n",
       "min    1.000000e+00  \n",
       "25%    2.000000e+00  \n",
       "50%    2.000000e+00  \n",
       "75%    2.000000e+00  \n",
       "max    3.000000e+00  "
      ]
     },
     "execution_count": 311,
     "metadata": {},
     "output_type": "execute_result"
    }
   ],
   "source": [
    "race_test.describe(include='all')"
   ]
  },
  {
   "cell_type": "code",
   "execution_count": 314,
   "metadata": {},
   "outputs": [],
   "source": [
    "def remove_col(df):\n",
    "    remove_cols = ['SCHL','WKHP','WKW','OCCP','POWSP','RAC1P','RAC3P','AGEP','ST']\n",
    "    df = df.drop(remove_cols,axis=1)\n",
    "    return df"
   ]
  },
  {
   "cell_type": "code",
   "execution_count": 315,
   "metadata": {},
   "outputs": [
    {
     "data": {
      "text/html": [
       "<div>\n",
       "<style scoped>\n",
       "    .dataframe tbody tr th:only-of-type {\n",
       "        vertical-align: middle;\n",
       "    }\n",
       "\n",
       "    .dataframe tbody tr th {\n",
       "        vertical-align: top;\n",
       "    }\n",
       "\n",
       "    .dataframe thead th {\n",
       "        text-align: right;\n",
       "    }\n",
       "</style>\n",
       "<table border=\"1\" class=\"dataframe\">\n",
       "  <thead>\n",
       "    <tr style=\"text-align: right;\">\n",
       "      <th></th>\n",
       "      <th>SEX</th>\n",
       "      <th>WAGP</th>\n",
       "      <th>AGEB</th>\n",
       "      <th>EDU</th>\n",
       "      <th>JOB</th>\n",
       "      <th>STSP</th>\n",
       "      <th>RACE</th>\n",
       "    </tr>\n",
       "  </thead>\n",
       "  <tbody>\n",
       "    <tr>\n",
       "      <td>count</td>\n",
       "      <td>6.705569e+06</td>\n",
       "      <td>6.705569e+06</td>\n",
       "      <td>6.705569e+06</td>\n",
       "      <td>6.705569e+06</td>\n",
       "      <td>6.705569e+06</td>\n",
       "      <td>6.705569e+06</td>\n",
       "      <td>6.705569e+06</td>\n",
       "    </tr>\n",
       "    <tr>\n",
       "      <td>mean</td>\n",
       "      <td>1.443757e+00</td>\n",
       "      <td>5.568370e+04</td>\n",
       "      <td>3.191098e+00</td>\n",
       "      <td>2.265805e+00</td>\n",
       "      <td>2.871115e+00</td>\n",
       "      <td>2.475574e+00</td>\n",
       "      <td>2.081204e+00</td>\n",
       "    </tr>\n",
       "    <tr>\n",
       "      <td>std</td>\n",
       "      <td>4.968267e-01</td>\n",
       "      <td>3.545906e+04</td>\n",
       "      <td>1.119307e+00</td>\n",
       "      <td>1.114455e+00</td>\n",
       "      <td>1.638497e+00</td>\n",
       "      <td>1.133831e+00</td>\n",
       "      <td>4.357943e-01</td>\n",
       "    </tr>\n",
       "    <tr>\n",
       "      <td>min</td>\n",
       "      <td>1.000000e+00</td>\n",
       "      <td>1.250000e+04</td>\n",
       "      <td>1.000000e+00</td>\n",
       "      <td>1.000000e+00</td>\n",
       "      <td>1.000000e+00</td>\n",
       "      <td>1.000000e+00</td>\n",
       "      <td>1.000000e+00</td>\n",
       "    </tr>\n",
       "    <tr>\n",
       "      <td>25%</td>\n",
       "      <td>1.000000e+00</td>\n",
       "      <td>3.000000e+04</td>\n",
       "      <td>2.000000e+00</td>\n",
       "      <td>1.000000e+00</td>\n",
       "      <td>1.000000e+00</td>\n",
       "      <td>1.000000e+00</td>\n",
       "      <td>2.000000e+00</td>\n",
       "    </tr>\n",
       "    <tr>\n",
       "      <td>50%</td>\n",
       "      <td>1.000000e+00</td>\n",
       "      <td>4.600000e+04</td>\n",
       "      <td>3.000000e+00</td>\n",
       "      <td>2.000000e+00</td>\n",
       "      <td>2.000000e+00</td>\n",
       "      <td>2.000000e+00</td>\n",
       "      <td>2.000000e+00</td>\n",
       "    </tr>\n",
       "    <tr>\n",
       "      <td>75%</td>\n",
       "      <td>2.000000e+00</td>\n",
       "      <td>7.000000e+04</td>\n",
       "      <td>4.000000e+00</td>\n",
       "      <td>3.000000e+00</td>\n",
       "      <td>4.000000e+00</td>\n",
       "      <td>3.000000e+00</td>\n",
       "      <td>2.000000e+00</td>\n",
       "    </tr>\n",
       "    <tr>\n",
       "      <td>max</td>\n",
       "      <td>2.000000e+00</td>\n",
       "      <td>2.020000e+05</td>\n",
       "      <td>5.000000e+00</td>\n",
       "      <td>5.000000e+00</td>\n",
       "      <td>5.000000e+00</td>\n",
       "      <td>4.000000e+00</td>\n",
       "      <td>3.000000e+00</td>\n",
       "    </tr>\n",
       "  </tbody>\n",
       "</table>\n",
       "</div>"
      ],
      "text/plain": [
       "                SEX          WAGP          AGEB           EDU           JOB  \\\n",
       "count  6.705569e+06  6.705569e+06  6.705569e+06  6.705569e+06  6.705569e+06   \n",
       "mean   1.443757e+00  5.568370e+04  3.191098e+00  2.265805e+00  2.871115e+00   \n",
       "std    4.968267e-01  3.545906e+04  1.119307e+00  1.114455e+00  1.638497e+00   \n",
       "min    1.000000e+00  1.250000e+04  1.000000e+00  1.000000e+00  1.000000e+00   \n",
       "25%    1.000000e+00  3.000000e+04  2.000000e+00  1.000000e+00  1.000000e+00   \n",
       "50%    1.000000e+00  4.600000e+04  3.000000e+00  2.000000e+00  2.000000e+00   \n",
       "75%    2.000000e+00  7.000000e+04  4.000000e+00  3.000000e+00  4.000000e+00   \n",
       "max    2.000000e+00  2.020000e+05  5.000000e+00  5.000000e+00  5.000000e+00   \n",
       "\n",
       "               STSP          RACE  \n",
       "count  6.705569e+06  6.705569e+06  \n",
       "mean   2.475574e+00  2.081204e+00  \n",
       "std    1.133831e+00  4.357943e-01  \n",
       "min    1.000000e+00  1.000000e+00  \n",
       "25%    1.000000e+00  2.000000e+00  \n",
       "50%    2.000000e+00  2.000000e+00  \n",
       "75%    3.000000e+00  2.000000e+00  \n",
       "max    4.000000e+00  3.000000e+00  "
      ]
     },
     "execution_count": 315,
     "metadata": {},
     "output_type": "execute_result"
    }
   ],
   "source": [
    "remove_test = race_test.copy()\n",
    "remove_test = remove_col(remove_test)\n",
    "remove_test.describe(include='all')"
   ]
  },
  {
   "cell_type": "markdown",
   "metadata": {},
   "source": [
    "### OHE Columns"
   ]
  },
  {
   "cell_type": "code",
   "execution_count": 342,
   "metadata": {},
   "outputs": [],
   "source": [
    "def OHE_cat(df):\n",
    "    OH_encoder = OneHotEncoder(handle_unknown='ignore', sparse=False)\n",
    "    cat_col = [i for i in df.columns.tolist() if i not in ['WAGP']]\n",
    "    OH_cols_train = pd.DataFrame(OH_encoder.fit_transform(df[cat_col]))\n",
    "    OH_cols_train.index = df.index\n",
    "    df = pd.concat([df, OH_cols_train], axis=1)\n",
    "    df.drop(cat_col, axis=1, inplace=True)\n",
    "    return df"
   ]
  },
  {
   "cell_type": "code",
   "execution_count": 343,
   "metadata": {},
   "outputs": [
    {
     "data": {
      "text/html": [
       "<div>\n",
       "<style scoped>\n",
       "    .dataframe tbody tr th:only-of-type {\n",
       "        vertical-align: middle;\n",
       "    }\n",
       "\n",
       "    .dataframe tbody tr th {\n",
       "        vertical-align: top;\n",
       "    }\n",
       "\n",
       "    .dataframe thead th {\n",
       "        text-align: right;\n",
       "    }\n",
       "</style>\n",
       "<table border=\"1\" class=\"dataframe\">\n",
       "  <thead>\n",
       "    <tr style=\"text-align: right;\">\n",
       "      <th></th>\n",
       "      <th>WAGP</th>\n",
       "      <th>0</th>\n",
       "      <th>1</th>\n",
       "      <th>2</th>\n",
       "      <th>3</th>\n",
       "      <th>4</th>\n",
       "      <th>5</th>\n",
       "      <th>6</th>\n",
       "      <th>7</th>\n",
       "      <th>8</th>\n",
       "      <th>...</th>\n",
       "      <th>13</th>\n",
       "      <th>14</th>\n",
       "      <th>15</th>\n",
       "      <th>16</th>\n",
       "      <th>17</th>\n",
       "      <th>18</th>\n",
       "      <th>19</th>\n",
       "      <th>20</th>\n",
       "      <th>21</th>\n",
       "      <th>22</th>\n",
       "    </tr>\n",
       "  </thead>\n",
       "  <tbody>\n",
       "    <tr>\n",
       "      <td>count</td>\n",
       "      <td>6.705569e+06</td>\n",
       "      <td>6.705569e+06</td>\n",
       "      <td>6.705569e+06</td>\n",
       "      <td>6.705569e+06</td>\n",
       "      <td>6.705569e+06</td>\n",
       "      <td>6.705569e+06</td>\n",
       "      <td>6.705569e+06</td>\n",
       "      <td>6.705569e+06</td>\n",
       "      <td>6.705569e+06</td>\n",
       "      <td>6.705569e+06</td>\n",
       "      <td>...</td>\n",
       "      <td>6.705569e+06</td>\n",
       "      <td>6.705569e+06</td>\n",
       "      <td>6.705569e+06</td>\n",
       "      <td>6.705569e+06</td>\n",
       "      <td>6.705569e+06</td>\n",
       "      <td>6.705569e+06</td>\n",
       "      <td>6.705569e+06</td>\n",
       "      <td>6.705569e+06</td>\n",
       "      <td>6.705569e+06</td>\n",
       "      <td>6.705569e+06</td>\n",
       "    </tr>\n",
       "    <tr>\n",
       "      <td>mean</td>\n",
       "      <td>5.568370e+04</td>\n",
       "      <td>5.562432e-01</td>\n",
       "      <td>4.437568e-01</td>\n",
       "      <td>7.671668e-02</td>\n",
       "      <td>2.234328e-01</td>\n",
       "      <td>2.274371e-01</td>\n",
       "      <td>3.768623e-01</td>\n",
       "      <td>9.555118e-02</td>\n",
       "      <td>3.017617e-01</td>\n",
       "      <td>3.139197e-01</td>\n",
       "      <td>...</td>\n",
       "      <td>2.123514e-01</td>\n",
       "      <td>2.205543e-01</td>\n",
       "      <td>2.492752e-01</td>\n",
       "      <td>2.704322e-01</td>\n",
       "      <td>2.312138e-01</td>\n",
       "      <td>2.507013e-01</td>\n",
       "      <td>2.476527e-01</td>\n",
       "      <td>5.765342e-02</td>\n",
       "      <td>8.034893e-01</td>\n",
       "      <td>1.388573e-01</td>\n",
       "    </tr>\n",
       "    <tr>\n",
       "      <td>std</td>\n",
       "      <td>3.545906e+04</td>\n",
       "      <td>4.968267e-01</td>\n",
       "      <td>4.968267e-01</td>\n",
       "      <td>2.661414e-01</td>\n",
       "      <td>4.165460e-01</td>\n",
       "      <td>4.191771e-01</td>\n",
       "      <td>4.846000e-01</td>\n",
       "      <td>2.939748e-01</td>\n",
       "      <td>4.590225e-01</td>\n",
       "      <td>4.640842e-01</td>\n",
       "      <td>...</td>\n",
       "      <td>4.089723e-01</td>\n",
       "      <td>4.146205e-01</td>\n",
       "      <td>4.325935e-01</td>\n",
       "      <td>4.441831e-01</td>\n",
       "      <td>4.216088e-01</td>\n",
       "      <td>4.334169e-01</td>\n",
       "      <td>4.316490e-01</td>\n",
       "      <td>2.330869e-01</td>\n",
       "      <td>3.973591e-01</td>\n",
       "      <td>3.457976e-01</td>\n",
       "    </tr>\n",
       "    <tr>\n",
       "      <td>min</td>\n",
       "      <td>1.250000e+04</td>\n",
       "      <td>0.000000e+00</td>\n",
       "      <td>0.000000e+00</td>\n",
       "      <td>0.000000e+00</td>\n",
       "      <td>0.000000e+00</td>\n",
       "      <td>0.000000e+00</td>\n",
       "      <td>0.000000e+00</td>\n",
       "      <td>0.000000e+00</td>\n",
       "      <td>0.000000e+00</td>\n",
       "      <td>0.000000e+00</td>\n",
       "      <td>...</td>\n",
       "      <td>0.000000e+00</td>\n",
       "      <td>0.000000e+00</td>\n",
       "      <td>0.000000e+00</td>\n",
       "      <td>0.000000e+00</td>\n",
       "      <td>0.000000e+00</td>\n",
       "      <td>0.000000e+00</td>\n",
       "      <td>0.000000e+00</td>\n",
       "      <td>0.000000e+00</td>\n",
       "      <td>0.000000e+00</td>\n",
       "      <td>0.000000e+00</td>\n",
       "    </tr>\n",
       "    <tr>\n",
       "      <td>25%</td>\n",
       "      <td>3.000000e+04</td>\n",
       "      <td>0.000000e+00</td>\n",
       "      <td>0.000000e+00</td>\n",
       "      <td>0.000000e+00</td>\n",
       "      <td>0.000000e+00</td>\n",
       "      <td>0.000000e+00</td>\n",
       "      <td>0.000000e+00</td>\n",
       "      <td>0.000000e+00</td>\n",
       "      <td>0.000000e+00</td>\n",
       "      <td>0.000000e+00</td>\n",
       "      <td>...</td>\n",
       "      <td>0.000000e+00</td>\n",
       "      <td>0.000000e+00</td>\n",
       "      <td>0.000000e+00</td>\n",
       "      <td>0.000000e+00</td>\n",
       "      <td>0.000000e+00</td>\n",
       "      <td>0.000000e+00</td>\n",
       "      <td>0.000000e+00</td>\n",
       "      <td>0.000000e+00</td>\n",
       "      <td>1.000000e+00</td>\n",
       "      <td>0.000000e+00</td>\n",
       "    </tr>\n",
       "    <tr>\n",
       "      <td>50%</td>\n",
       "      <td>4.600000e+04</td>\n",
       "      <td>1.000000e+00</td>\n",
       "      <td>0.000000e+00</td>\n",
       "      <td>0.000000e+00</td>\n",
       "      <td>0.000000e+00</td>\n",
       "      <td>0.000000e+00</td>\n",
       "      <td>0.000000e+00</td>\n",
       "      <td>0.000000e+00</td>\n",
       "      <td>0.000000e+00</td>\n",
       "      <td>0.000000e+00</td>\n",
       "      <td>...</td>\n",
       "      <td>0.000000e+00</td>\n",
       "      <td>0.000000e+00</td>\n",
       "      <td>0.000000e+00</td>\n",
       "      <td>0.000000e+00</td>\n",
       "      <td>0.000000e+00</td>\n",
       "      <td>0.000000e+00</td>\n",
       "      <td>0.000000e+00</td>\n",
       "      <td>0.000000e+00</td>\n",
       "      <td>1.000000e+00</td>\n",
       "      <td>0.000000e+00</td>\n",
       "    </tr>\n",
       "    <tr>\n",
       "      <td>75%</td>\n",
       "      <td>7.000000e+04</td>\n",
       "      <td>1.000000e+00</td>\n",
       "      <td>1.000000e+00</td>\n",
       "      <td>0.000000e+00</td>\n",
       "      <td>0.000000e+00</td>\n",
       "      <td>0.000000e+00</td>\n",
       "      <td>1.000000e+00</td>\n",
       "      <td>0.000000e+00</td>\n",
       "      <td>1.000000e+00</td>\n",
       "      <td>1.000000e+00</td>\n",
       "      <td>...</td>\n",
       "      <td>0.000000e+00</td>\n",
       "      <td>0.000000e+00</td>\n",
       "      <td>0.000000e+00</td>\n",
       "      <td>1.000000e+00</td>\n",
       "      <td>0.000000e+00</td>\n",
       "      <td>1.000000e+00</td>\n",
       "      <td>0.000000e+00</td>\n",
       "      <td>0.000000e+00</td>\n",
       "      <td>1.000000e+00</td>\n",
       "      <td>0.000000e+00</td>\n",
       "    </tr>\n",
       "    <tr>\n",
       "      <td>max</td>\n",
       "      <td>2.020000e+05</td>\n",
       "      <td>1.000000e+00</td>\n",
       "      <td>1.000000e+00</td>\n",
       "      <td>1.000000e+00</td>\n",
       "      <td>1.000000e+00</td>\n",
       "      <td>1.000000e+00</td>\n",
       "      <td>1.000000e+00</td>\n",
       "      <td>1.000000e+00</td>\n",
       "      <td>1.000000e+00</td>\n",
       "      <td>1.000000e+00</td>\n",
       "      <td>...</td>\n",
       "      <td>1.000000e+00</td>\n",
       "      <td>1.000000e+00</td>\n",
       "      <td>1.000000e+00</td>\n",
       "      <td>1.000000e+00</td>\n",
       "      <td>1.000000e+00</td>\n",
       "      <td>1.000000e+00</td>\n",
       "      <td>1.000000e+00</td>\n",
       "      <td>1.000000e+00</td>\n",
       "      <td>1.000000e+00</td>\n",
       "      <td>1.000000e+00</td>\n",
       "    </tr>\n",
       "  </tbody>\n",
       "</table>\n",
       "<p>8 rows × 24 columns</p>\n",
       "</div>"
      ],
      "text/plain": [
       "               WAGP             0             1             2             3  \\\n",
       "count  6.705569e+06  6.705569e+06  6.705569e+06  6.705569e+06  6.705569e+06   \n",
       "mean   5.568370e+04  5.562432e-01  4.437568e-01  7.671668e-02  2.234328e-01   \n",
       "std    3.545906e+04  4.968267e-01  4.968267e-01  2.661414e-01  4.165460e-01   \n",
       "min    1.250000e+04  0.000000e+00  0.000000e+00  0.000000e+00  0.000000e+00   \n",
       "25%    3.000000e+04  0.000000e+00  0.000000e+00  0.000000e+00  0.000000e+00   \n",
       "50%    4.600000e+04  1.000000e+00  0.000000e+00  0.000000e+00  0.000000e+00   \n",
       "75%    7.000000e+04  1.000000e+00  1.000000e+00  0.000000e+00  0.000000e+00   \n",
       "max    2.020000e+05  1.000000e+00  1.000000e+00  1.000000e+00  1.000000e+00   \n",
       "\n",
       "                  4             5             6             7             8  \\\n",
       "count  6.705569e+06  6.705569e+06  6.705569e+06  6.705569e+06  6.705569e+06   \n",
       "mean   2.274371e-01  3.768623e-01  9.555118e-02  3.017617e-01  3.139197e-01   \n",
       "std    4.191771e-01  4.846000e-01  2.939748e-01  4.590225e-01  4.640842e-01   \n",
       "min    0.000000e+00  0.000000e+00  0.000000e+00  0.000000e+00  0.000000e+00   \n",
       "25%    0.000000e+00  0.000000e+00  0.000000e+00  0.000000e+00  0.000000e+00   \n",
       "50%    0.000000e+00  0.000000e+00  0.000000e+00  0.000000e+00  0.000000e+00   \n",
       "75%    0.000000e+00  1.000000e+00  0.000000e+00  1.000000e+00  1.000000e+00   \n",
       "max    1.000000e+00  1.000000e+00  1.000000e+00  1.000000e+00  1.000000e+00   \n",
       "\n",
       "       ...            13            14            15            16  \\\n",
       "count  ...  6.705569e+06  6.705569e+06  6.705569e+06  6.705569e+06   \n",
       "mean   ...  2.123514e-01  2.205543e-01  2.492752e-01  2.704322e-01   \n",
       "std    ...  4.089723e-01  4.146205e-01  4.325935e-01  4.441831e-01   \n",
       "min    ...  0.000000e+00  0.000000e+00  0.000000e+00  0.000000e+00   \n",
       "25%    ...  0.000000e+00  0.000000e+00  0.000000e+00  0.000000e+00   \n",
       "50%    ...  0.000000e+00  0.000000e+00  0.000000e+00  0.000000e+00   \n",
       "75%    ...  0.000000e+00  0.000000e+00  0.000000e+00  1.000000e+00   \n",
       "max    ...  1.000000e+00  1.000000e+00  1.000000e+00  1.000000e+00   \n",
       "\n",
       "                 17            18            19            20            21  \\\n",
       "count  6.705569e+06  6.705569e+06  6.705569e+06  6.705569e+06  6.705569e+06   \n",
       "mean   2.312138e-01  2.507013e-01  2.476527e-01  5.765342e-02  8.034893e-01   \n",
       "std    4.216088e-01  4.334169e-01  4.316490e-01  2.330869e-01  3.973591e-01   \n",
       "min    0.000000e+00  0.000000e+00  0.000000e+00  0.000000e+00  0.000000e+00   \n",
       "25%    0.000000e+00  0.000000e+00  0.000000e+00  0.000000e+00  1.000000e+00   \n",
       "50%    0.000000e+00  0.000000e+00  0.000000e+00  0.000000e+00  1.000000e+00   \n",
       "75%    0.000000e+00  1.000000e+00  0.000000e+00  0.000000e+00  1.000000e+00   \n",
       "max    1.000000e+00  1.000000e+00  1.000000e+00  1.000000e+00  1.000000e+00   \n",
       "\n",
       "                 22  \n",
       "count  6.705569e+06  \n",
       "mean   1.388573e-01  \n",
       "std    3.457976e-01  \n",
       "min    0.000000e+00  \n",
       "25%    0.000000e+00  \n",
       "50%    0.000000e+00  \n",
       "75%    0.000000e+00  \n",
       "max    1.000000e+00  \n",
       "\n",
       "[8 rows x 24 columns]"
      ]
     },
     "execution_count": 343,
     "metadata": {},
     "output_type": "execute_result"
    }
   ],
   "source": [
    "OHE_test = remove_test.copy()\n",
    "OHE_test = OHE_cat(OHE_test)\n",
    "OHE_test.describe(include='all')"
   ]
  },
  {
   "cell_type": "code",
   "execution_count": 344,
   "metadata": {},
   "outputs": [
    {
     "data": {
      "text/html": [
       "<div>\n",
       "<style scoped>\n",
       "    .dataframe tbody tr th:only-of-type {\n",
       "        vertical-align: middle;\n",
       "    }\n",
       "\n",
       "    .dataframe tbody tr th {\n",
       "        vertical-align: top;\n",
       "    }\n",
       "\n",
       "    .dataframe thead th {\n",
       "        text-align: right;\n",
       "    }\n",
       "</style>\n",
       "<table border=\"1\" class=\"dataframe\">\n",
       "  <thead>\n",
       "    <tr style=\"text-align: right;\">\n",
       "      <th></th>\n",
       "      <th>Features</th>\n",
       "    </tr>\n",
       "  </thead>\n",
       "  <tbody>\n",
       "    <tr>\n",
       "      <td>0</td>\n",
       "      <td>SEX_1</td>\n",
       "    </tr>\n",
       "    <tr>\n",
       "      <td>1</td>\n",
       "      <td>SEX_2</td>\n",
       "    </tr>\n",
       "    <tr>\n",
       "      <td>2</td>\n",
       "      <td>AGEB_1</td>\n",
       "    </tr>\n",
       "    <tr>\n",
       "      <td>3</td>\n",
       "      <td>AGEB_2</td>\n",
       "    </tr>\n",
       "    <tr>\n",
       "      <td>4</td>\n",
       "      <td>AGEB_3</td>\n",
       "    </tr>\n",
       "    <tr>\n",
       "      <td>5</td>\n",
       "      <td>AGEB_4</td>\n",
       "    </tr>\n",
       "    <tr>\n",
       "      <td>6</td>\n",
       "      <td>AGEB_5</td>\n",
       "    </tr>\n",
       "    <tr>\n",
       "      <td>7</td>\n",
       "      <td>EDU_1</td>\n",
       "    </tr>\n",
       "    <tr>\n",
       "      <td>8</td>\n",
       "      <td>EDU_2</td>\n",
       "    </tr>\n",
       "    <tr>\n",
       "      <td>9</td>\n",
       "      <td>EDU_3</td>\n",
       "    </tr>\n",
       "    <tr>\n",
       "      <td>10</td>\n",
       "      <td>EDU_4</td>\n",
       "    </tr>\n",
       "    <tr>\n",
       "      <td>11</td>\n",
       "      <td>EDU_5</td>\n",
       "    </tr>\n",
       "    <tr>\n",
       "      <td>12</td>\n",
       "      <td>JOB_1</td>\n",
       "    </tr>\n",
       "    <tr>\n",
       "      <td>13</td>\n",
       "      <td>JOB_2</td>\n",
       "    </tr>\n",
       "    <tr>\n",
       "      <td>14</td>\n",
       "      <td>JOB_4</td>\n",
       "    </tr>\n",
       "    <tr>\n",
       "      <td>15</td>\n",
       "      <td>JOB_5</td>\n",
       "    </tr>\n",
       "    <tr>\n",
       "      <td>16</td>\n",
       "      <td>STSP_1</td>\n",
       "    </tr>\n",
       "    <tr>\n",
       "      <td>17</td>\n",
       "      <td>STSP_2</td>\n",
       "    </tr>\n",
       "    <tr>\n",
       "      <td>18</td>\n",
       "      <td>STSP_3</td>\n",
       "    </tr>\n",
       "    <tr>\n",
       "      <td>19</td>\n",
       "      <td>STSP_4</td>\n",
       "    </tr>\n",
       "    <tr>\n",
       "      <td>20</td>\n",
       "      <td>RACE_1</td>\n",
       "    </tr>\n",
       "    <tr>\n",
       "      <td>21</td>\n",
       "      <td>RACE_2</td>\n",
       "    </tr>\n",
       "    <tr>\n",
       "      <td>22</td>\n",
       "      <td>RACE_3</td>\n",
       "    </tr>\n",
       "  </tbody>\n",
       "</table>\n",
       "</div>"
      ],
      "text/plain": [
       "   Features\n",
       "0     SEX_1\n",
       "1     SEX_2\n",
       "2    AGEB_1\n",
       "3    AGEB_2\n",
       "4    AGEB_3\n",
       "5    AGEB_4\n",
       "6    AGEB_5\n",
       "7     EDU_1\n",
       "8     EDU_2\n",
       "9     EDU_3\n",
       "10    EDU_4\n",
       "11    EDU_5\n",
       "12    JOB_1\n",
       "13    JOB_2\n",
       "14    JOB_4\n",
       "15    JOB_5\n",
       "16   STSP_1\n",
       "17   STSP_2\n",
       "18   STSP_3\n",
       "19   STSP_4\n",
       "20   RACE_1\n",
       "21   RACE_2\n",
       "22   RACE_3"
      ]
     },
     "execution_count": 344,
     "metadata": {},
     "output_type": "execute_result"
    }
   ],
   "source": [
    "OHE_names = remove_test.copy()\n",
    "OH_encoder2 = OneHotEncoder(handle_unknown='ignore', sparse=False)\n",
    "cat_col2 = [i for i in OHE_names.columns.tolist() if i not in ['WAGP']]\n",
    "OH_cols_train2 = pd.DataFrame(OH_encoder2.fit_transform(OHE_names[cat_col2]))\n",
    "\n",
    "OHEcol2 = OH_encoder2.get_feature_names(cat_col2)\n",
    "OHEcols2 = pd.DataFrame()\n",
    "OHEcols2['Features'] = OHEcol2\n",
    "\n",
    "OHEcols2"
   ]
  },
  {
   "cell_type": "markdown",
   "metadata": {},
   "source": [
    "### Pipeline"
   ]
  },
  {
   "cell_type": "code",
   "execution_count": 367,
   "metadata": {},
   "outputs": [],
   "source": [
    "def pp_pipeline(df):\n",
    "    df = (df\n",
    "          .pipe(full_time_detect)\n",
    "          .pipe(outlier_remove)\n",
    "          .pipe(age_bins)\n",
    "          .pipe(edu_split)\n",
    "          .pipe(occ_split)\n",
    "          .pipe(state_split)\n",
    "          .pipe(race_split)\n",
    "          .pipe(remove_col)\n",
    "          #.pipe(OHE_cat)\n",
    "         )\n",
    "    return df"
   ]
  },
  {
   "cell_type": "code",
   "execution_count": 368,
   "metadata": {},
   "outputs": [
    {
     "name": "stdout",
     "output_type": "stream",
     "text": [
      " 1.26 min\n"
     ]
    },
    {
     "data": {
      "text/html": [
       "<div>\n",
       "<style scoped>\n",
       "    .dataframe tbody tr th:only-of-type {\n",
       "        vertical-align: middle;\n",
       "    }\n",
       "\n",
       "    .dataframe tbody tr th {\n",
       "        vertical-align: top;\n",
       "    }\n",
       "\n",
       "    .dataframe thead th {\n",
       "        text-align: right;\n",
       "    }\n",
       "</style>\n",
       "<table border=\"1\" class=\"dataframe\">\n",
       "  <thead>\n",
       "    <tr style=\"text-align: right;\">\n",
       "      <th></th>\n",
       "      <th>SEX</th>\n",
       "      <th>WAGP</th>\n",
       "      <th>AGEB</th>\n",
       "      <th>EDU</th>\n",
       "      <th>JOB</th>\n",
       "      <th>STSP</th>\n",
       "      <th>RACE</th>\n",
       "    </tr>\n",
       "  </thead>\n",
       "  <tbody>\n",
       "    <tr>\n",
       "      <td>count</td>\n",
       "      <td>6.705569e+06</td>\n",
       "      <td>6.705569e+06</td>\n",
       "      <td>6.705569e+06</td>\n",
       "      <td>6.705569e+06</td>\n",
       "      <td>6.705569e+06</td>\n",
       "      <td>6.705569e+06</td>\n",
       "      <td>6.705569e+06</td>\n",
       "    </tr>\n",
       "    <tr>\n",
       "      <td>mean</td>\n",
       "      <td>1.443757e+00</td>\n",
       "      <td>5.568370e+04</td>\n",
       "      <td>3.191098e+00</td>\n",
       "      <td>2.265805e+00</td>\n",
       "      <td>2.871115e+00</td>\n",
       "      <td>2.475574e+00</td>\n",
       "      <td>2.081204e+00</td>\n",
       "    </tr>\n",
       "    <tr>\n",
       "      <td>std</td>\n",
       "      <td>4.968267e-01</td>\n",
       "      <td>3.545906e+04</td>\n",
       "      <td>1.119307e+00</td>\n",
       "      <td>1.114455e+00</td>\n",
       "      <td>1.638497e+00</td>\n",
       "      <td>1.133831e+00</td>\n",
       "      <td>4.357943e-01</td>\n",
       "    </tr>\n",
       "    <tr>\n",
       "      <td>min</td>\n",
       "      <td>1.000000e+00</td>\n",
       "      <td>1.250000e+04</td>\n",
       "      <td>1.000000e+00</td>\n",
       "      <td>1.000000e+00</td>\n",
       "      <td>1.000000e+00</td>\n",
       "      <td>1.000000e+00</td>\n",
       "      <td>1.000000e+00</td>\n",
       "    </tr>\n",
       "    <tr>\n",
       "      <td>25%</td>\n",
       "      <td>1.000000e+00</td>\n",
       "      <td>3.000000e+04</td>\n",
       "      <td>2.000000e+00</td>\n",
       "      <td>1.000000e+00</td>\n",
       "      <td>1.000000e+00</td>\n",
       "      <td>1.000000e+00</td>\n",
       "      <td>2.000000e+00</td>\n",
       "    </tr>\n",
       "    <tr>\n",
       "      <td>50%</td>\n",
       "      <td>1.000000e+00</td>\n",
       "      <td>4.600000e+04</td>\n",
       "      <td>3.000000e+00</td>\n",
       "      <td>2.000000e+00</td>\n",
       "      <td>2.000000e+00</td>\n",
       "      <td>2.000000e+00</td>\n",
       "      <td>2.000000e+00</td>\n",
       "    </tr>\n",
       "    <tr>\n",
       "      <td>75%</td>\n",
       "      <td>2.000000e+00</td>\n",
       "      <td>7.000000e+04</td>\n",
       "      <td>4.000000e+00</td>\n",
       "      <td>3.000000e+00</td>\n",
       "      <td>4.000000e+00</td>\n",
       "      <td>3.000000e+00</td>\n",
       "      <td>2.000000e+00</td>\n",
       "    </tr>\n",
       "    <tr>\n",
       "      <td>max</td>\n",
       "      <td>2.000000e+00</td>\n",
       "      <td>2.020000e+05</td>\n",
       "      <td>5.000000e+00</td>\n",
       "      <td>5.000000e+00</td>\n",
       "      <td>5.000000e+00</td>\n",
       "      <td>4.000000e+00</td>\n",
       "      <td>3.000000e+00</td>\n",
       "    </tr>\n",
       "  </tbody>\n",
       "</table>\n",
       "</div>"
      ],
      "text/plain": [
       "                SEX          WAGP          AGEB           EDU           JOB  \\\n",
       "count  6.705569e+06  6.705569e+06  6.705569e+06  6.705569e+06  6.705569e+06   \n",
       "mean   1.443757e+00  5.568370e+04  3.191098e+00  2.265805e+00  2.871115e+00   \n",
       "std    4.968267e-01  3.545906e+04  1.119307e+00  1.114455e+00  1.638497e+00   \n",
       "min    1.000000e+00  1.250000e+04  1.000000e+00  1.000000e+00  1.000000e+00   \n",
       "25%    1.000000e+00  3.000000e+04  2.000000e+00  1.000000e+00  1.000000e+00   \n",
       "50%    1.000000e+00  4.600000e+04  3.000000e+00  2.000000e+00  2.000000e+00   \n",
       "75%    2.000000e+00  7.000000e+04  4.000000e+00  3.000000e+00  4.000000e+00   \n",
       "max    2.000000e+00  2.020000e+05  5.000000e+00  5.000000e+00  5.000000e+00   \n",
       "\n",
       "               STSP          RACE  \n",
       "count  6.705569e+06  6.705569e+06  \n",
       "mean   2.475574e+00  2.081204e+00  \n",
       "std    1.133831e+00  4.357943e-01  \n",
       "min    1.000000e+00  1.000000e+00  \n",
       "25%    1.000000e+00  2.000000e+00  \n",
       "50%    2.000000e+00  2.000000e+00  \n",
       "75%    3.000000e+00  2.000000e+00  \n",
       "max    4.000000e+00  3.000000e+00  "
      ]
     },
     "execution_count": 368,
     "metadata": {},
     "output_type": "execute_result"
    }
   ],
   "source": [
    "start_time = time.time()\n",
    "pp_test = PUS_full.copy()\n",
    "pp_test = pp_pipeline(pp_test)\n",
    "print(\" %s min\" % round(((time.time() - start_time)/60),2))\n",
    "pp_test.describe(include='all')"
   ]
  },
  {
   "cell_type": "markdown",
   "metadata": {},
   "source": [
    "## MODELING"
   ]
  },
  {
   "cell_type": "code",
   "execution_count": 369,
   "metadata": {},
   "outputs": [],
   "source": [
    "from sklearn.ensemble import RandomForestRegressor\n",
    "from sklearn.metrics import mean_absolute_error\n",
    "from sklearn.model_selection import GridSearchCV, cross_val_score, StratifiedKFold\n",
    "import xgboost as xgb\n",
    "from xgboost import XGBClassifier\n",
    "from sklearn.model_selection import train_test_split\n",
    "from sklearn.neural_network import MLPRegressor\n",
    "from sklearn.feature_selection import SelectFromModel"
   ]
  },
  {
   "cell_type": "code",
   "execution_count": 391,
   "metadata": {},
   "outputs": [
    {
     "data": {
      "text/plain": [
       "(167639, 7)"
      ]
     },
     "execution_count": 391,
     "metadata": {},
     "output_type": "execute_result"
    }
   ],
   "source": [
    "cv_split = pp_test.copy()\n",
    "cv_split.shape\n",
    "param_split= cv_split.sample(frac=0.025)\n",
    "param_split.shape"
   ]
  },
  {
   "cell_type": "code",
   "execution_count": 392,
   "metadata": {},
   "outputs": [],
   "source": [
    "param_y = param_split['WAGP']\n",
    "param_x = param_split.drop(['WAGP'], axis=1)"
   ]
  },
  {
   "cell_type": "code",
   "execution_count": 393,
   "metadata": {},
   "outputs": [
    {
     "name": "stdout",
     "output_type": "stream",
     "text": [
      "Fitting 3 folds for each of 8 candidates, totalling 24 fits\n"
     ]
    },
    {
     "name": "stderr",
     "output_type": "stream",
     "text": [
      "[Parallel(n_jobs=4)]: Using backend LokyBackend with 4 concurrent workers.\n",
      "[Parallel(n_jobs=4)]: Done  24 out of  24 | elapsed:  1.5min finished\n"
     ]
    },
    {
     "data": {
      "text/plain": [
       "-20144.70170046946"
      ]
     },
     "execution_count": 393,
     "metadata": {},
     "output_type": "execute_result"
    }
   ],
   "source": [
    "kfold = StratifiedKFold(n_splits=3)\n",
    "\n",
    "RFR = RandomForestRegressor()\n",
    "rfr_param_grid = {'n_estimators': [50,100],\n",
    "                  'min_samples_split': [5,10],\n",
    "                  'min_samples_leaf': [10,20]}\n",
    "\n",
    "gsRFR = GridSearchCV(RFR, param_grid=rfr_param_grid, cv=kfold,\n",
    "                     scoring=\"neg_mean_absolute_error\", verbose=1, n_jobs=4)\n",
    "\n",
    "gsRFR.fit(param_x, param_y)\n",
    "\n",
    "RFR_best = gsRFR.best_estimator_\n",
    "\n",
    "gsRFR.best_score_"
   ]
  },
  {
   "cell_type": "code",
   "execution_count": 394,
   "metadata": {},
   "outputs": [
    {
     "data": {
      "text/plain": [
       "RandomForestRegressor(bootstrap=True, criterion='mse', max_depth=None,\n",
       "                      max_features='auto', max_leaf_nodes=None,\n",
       "                      min_impurity_decrease=0.0, min_impurity_split=None,\n",
       "                      min_samples_leaf=20, min_samples_split=10,\n",
       "                      min_weight_fraction_leaf=0.0, n_estimators=100,\n",
       "                      n_jobs=None, oob_score=False, random_state=None,\n",
       "                      verbose=0, warm_start=False)"
      ]
     },
     "execution_count": 394,
     "metadata": {},
     "output_type": "execute_result"
    }
   ],
   "source": [
    "RFR_best"
   ]
  },
  {
   "cell_type": "code",
   "execution_count": 395,
   "metadata": {},
   "outputs": [
    {
     "data": {
      "text/plain": [
       "(670557, 7)"
      ]
     },
     "execution_count": 395,
     "metadata": {},
     "output_type": "execute_result"
    }
   ],
   "source": [
    "fit_split= cv_split.sample(frac=0.1)\n",
    "fit_split.shape"
   ]
  },
  {
   "cell_type": "code",
   "execution_count": 396,
   "metadata": {},
   "outputs": [],
   "source": [
    "y_full = fit_split['WAGP']\n",
    "X_full = fit_split.drop(['WAGP'], axis=1)"
   ]
  },
  {
   "cell_type": "code",
   "execution_count": 397,
   "metadata": {},
   "outputs": [],
   "source": [
    "X_train, X_valid, y_train, y_valid = train_test_split(\n",
    "    X_full, y_full, random_state=0)"
   ]
  },
  {
   "cell_type": "code",
   "execution_count": 398,
   "metadata": {},
   "outputs": [
    {
     "name": "stdout",
     "output_type": "stream",
     "text": [
      "MAE :  20008.768771414052\n",
      " 1.26 min\n"
     ]
    }
   ],
   "source": [
    "start_time = time.time()\n",
    "RFR_best.fit(X_train, y_train)\n",
    "pred_valid = RFR_best.predict(X_valid)\n",
    "print(\"MAE : \", mean_absolute_error(y_valid, pred_valid))\n",
    "print(\" %s min\" % round(((time.time() - start_time)/60),2))"
   ]
  },
  {
   "cell_type": "code",
   "execution_count": 399,
   "metadata": {},
   "outputs": [
    {
     "data": {
      "text/plain": [
       "<matplotlib.axes._subplots.AxesSubplot at 0x1e25101da48>"
      ]
     },
     "execution_count": 399,
     "metadata": {},
     "output_type": "execute_result"
    },
    {
     "data": {
      "image/png": "[encoded data removed]",
      "text/plain": [
       "<Figure size 360x720 with 1 Axes>"
      ]
     },
     "metadata": {
      "needs_background": "light"
     },
     "output_type": "display_data"
    }
   ],
   "source": [
    "features = pd.DataFrame()\n",
    "features['feature'] = X_full.columns\n",
    "features['importance'] = RFR_best.feature_importances_\n",
    "features.sort_values(by=['importance'], ascending=True, inplace=True)\n",
    "features.set_index('feature', inplace=True)\n",
    "\n",
    "features.plot(kind='barh', figsize=(5, 10))"
   ]
  },
  {
   "cell_type": "markdown",
   "metadata": {},
   "source": [
    "## ANALYSIS"
   ]
  },
  {
   "cell_type": "code",
   "execution_count": 400,
   "metadata": {},
   "outputs": [],
   "source": [
    "def get_score(df): \n",
    "    y_5 = df['WAGP']\n",
    "    x_5 = df.drop(['WAGP'], axis =1)\n",
    "\n",
    "    preds_test = RFR_best.predict(x_5).astype(int)\n",
    "    output = pd.DataFrame({'Index': x_5.index, 'WAG_pred': preds_test}).set_index('Index')\n",
    "\n",
    "    result = pd.concat([output, df], axis=1, sort=False)\n",
    "\n",
    "    m_output = result[result['SEX'] == 1]\n",
    "    f_output = result[result['SEX'] == 2]\n",
    "\n",
    "    m_group = m_output.groupby(['SEX', 'EDU', 'JOB', 'STSP','RACE','AGEB'])\n",
    "    m_count = m_group.count().reset_index()\n",
    "    m_median = m_group.median().reset_index()\n",
    "\n",
    "    f_group = f_output.groupby(['SEX', 'EDU', 'JOB', 'STSP','RACE','AGEB'])\n",
    "    f_count = f_group.count().reset_index()\n",
    "    f_median = f_group.median().reset_index()\n",
    "\n",
    "    final_df = pd.DataFrame({'m_WAG_prd': m_median.WAG_pred, 'm_WAG_hrd': m_median.WAGP, 'm_CT': m_count.WAG_pred,\n",
    "                             'f_WAG_prd': f_median.WAG_pred, 'f_WAG_hrd': f_median.WAGP, 'f_CT': f_count.WAG_pred})\n",
    "\n",
    "    final_df = final_df.dropna()\n",
    "    final_df = final_df.loc[final_df.m_CT >= 150].copy()\n",
    "    final_df = final_df.loc[final_df.f_CT >= 150].copy()\n",
    "\n",
    "    final_df['t_CT'] = final_df['m_CT'] + final_df['f_CT']\n",
    "    final_df['weight'] = final_df['t_CT'] / final_df['t_CT'].sum()\n",
    "\n",
    "    final_df['f_m_hrd'] = final_df['f_WAG_hrd']/final_df['m_WAG_hrd']\n",
    "    final_df['value_hrd'] = final_df['f_m_hrd'] * final_df['weight']\n",
    "\n",
    "    final_df['f_m_prd'] = final_df['f_WAG_prd']/final_df['m_WAG_prd']\n",
    "    final_df['value_prd'] = final_df['f_m_prd'] * final_df['weight']\n",
    "\n",
    "    hrd_ratio = round(final_df['value_hrd'].sum()*100,1)\n",
    "    prd_ratio = round(final_df['value_prd'].sum()*100,1)\n",
    "    \n",
    "    ratios = [hrd_ratio,prd_ratio]\n",
    "    \n",
    "    return ratios"
   ]
  },
  {
   "cell_type": "code",
   "execution_count": 401,
   "metadata": {},
   "outputs": [
    {
     "data": {
      "text/plain": [
       "[77.0, 77.5]"
      ]
     },
     "execution_count": 401,
     "metadata": {},
     "output_type": "execute_result"
    }
   ],
   "source": [
    "score = get_score(cv_split)\n",
    "score"
   ]
  },
  {
   "cell_type": "code",
   "execution_count": 445,
   "metadata": {},
   "outputs": [
    {
     "name": "stdout",
     "output_type": "stream",
     "text": [
      "Completed : 2012\n",
      "Completed : 2013\n",
      "Completed : 2014\n",
      "Completed : 2015\n",
      "Completed : 2016\n",
      "Completed : 2017\n",
      "Completed : 2018\n"
     ]
    }
   ],
   "source": [
    "years = list(range(2012, 2019))\n",
    "ratio_list = []\n",
    "for year in years:\n",
    "    useful_cols = ['WAGP','SEX', 'AGEP','RAC1P','RAC3P','SCHL', 'WKW','WKHP','OCCP','POWSP','ST']\n",
    "    path = ('data/%s' % year)\n",
    "    temp = pd.concat([pd.read_csv(f, usecols = useful_cols) for f in glob.glob(path + \"/*.csv\")], ignore_index=True)\n",
    "    score = get_score(pp_pipeline(temp))\n",
    "    ratio_list.append(score)\n",
    "    print(\"Completed :\", year, \" Ratio: \", score)"
   ]
  },
  {
   "cell_type": "code",
   "execution_count": 457,
   "metadata": {},
   "outputs": [
    {
     "data": {
      "text/html": [
       "<div>\n",
       "<style scoped>\n",
       "    .dataframe tbody tr th:only-of-type {\n",
       "        vertical-align: middle;\n",
       "    }\n",
       "\n",
       "    .dataframe tbody tr th {\n",
       "        vertical-align: top;\n",
       "    }\n",
       "\n",
       "    .dataframe thead th {\n",
       "        text-align: right;\n",
       "    }\n",
       "</style>\n",
       "<table border=\"1\" class=\"dataframe\">\n",
       "  <thead>\n",
       "    <tr style=\"text-align: right;\">\n",
       "      <th></th>\n",
       "      <th>Hard_Ratio</th>\n",
       "      <th>Pred_Ratio</th>\n",
       "      <th>Year</th>\n",
       "    </tr>\n",
       "  </thead>\n",
       "  <tbody>\n",
       "    <tr>\n",
       "      <td>0</td>\n",
       "      <td>89.1</td>\n",
       "      <td>88.6</td>\n",
       "      <td>2012</td>\n",
       "    </tr>\n",
       "    <tr>\n",
       "      <td>1</td>\n",
       "      <td>81.1</td>\n",
       "      <td>80.9</td>\n",
       "      <td>2013</td>\n",
       "    </tr>\n",
       "    <tr>\n",
       "      <td>2</td>\n",
       "      <td>76.0</td>\n",
       "      <td>76.4</td>\n",
       "      <td>2014</td>\n",
       "    </tr>\n",
       "    <tr>\n",
       "      <td>3</td>\n",
       "      <td>84.6</td>\n",
       "      <td>84.7</td>\n",
       "      <td>2015</td>\n",
       "    </tr>\n",
       "    <tr>\n",
       "      <td>4</td>\n",
       "      <td>86.8</td>\n",
       "      <td>86.7</td>\n",
       "      <td>2016</td>\n",
       "    </tr>\n",
       "    <tr>\n",
       "      <td>5</td>\n",
       "      <td>81.7</td>\n",
       "      <td>82.2</td>\n",
       "      <td>2017</td>\n",
       "    </tr>\n",
       "    <tr>\n",
       "      <td>6</td>\n",
       "      <td>84.1</td>\n",
       "      <td>84.6</td>\n",
       "      <td>2018</td>\n",
       "    </tr>\n",
       "  </tbody>\n",
       "</table>\n",
       "</div>"
      ],
      "text/plain": [
       "   Hard_Ratio  Pred_Ratio  Year\n",
       "0        89.1        88.6  2012\n",
       "1        81.1        80.9  2013\n",
       "2        76.0        76.4  2014\n",
       "3        84.6        84.7  2015\n",
       "4        86.8        86.7  2016\n",
       "5        81.7        82.2  2017\n",
       "6        84.1        84.6  2018"
      ]
     },
     "execution_count": 457,
     "metadata": {},
     "output_type": "execute_result"
    }
   ],
   "source": [
    "scores = pd.DataFrame(ratio_list, columns=['Hard_Ratio','Pred_Ratio'])\n",
    "scores['Year'] = years\n",
    "scores"
   ]
  },
  {
   "cell_type": "code",
   "execution_count": 458,
   "metadata": {},
   "outputs": [
    {
     "data": {
      "image/png": "[encoded data removed]",
      "text/plain": [
       "<Figure size 360x360 with 1 Axes>"
      ]
     },
     "metadata": {
      "needs_background": "light"
     },
     "output_type": "display_data"
    }
   ],
   "source": [
    "g = sns.catplot(y=\"Pred_Ratio\", x=\"Year\", data=scores, kind=\"bar\")"
   ]
  },
  {
   "cell_type": "code",
   "execution_count": 404,
   "metadata": {},
   "outputs": [
    {
     "name": "stdout",
     "output_type": "stream",
     "text": [
      "Hard Ratio: 77.3 %\n",
      "Pred Ratio: 77.6 %\n"
     ]
    },
    {
     "data": {
      "text/html": [
       "<div>\n",
       "<style scoped>\n",
       "    .dataframe tbody tr th:only-of-type {\n",
       "        vertical-align: middle;\n",
       "    }\n",
       "\n",
       "    .dataframe tbody tr th {\n",
       "        vertical-align: top;\n",
       "    }\n",
       "\n",
       "    .dataframe thead th {\n",
       "        text-align: right;\n",
       "    }\n",
       "</style>\n",
       "<table border=\"1\" class=\"dataframe\">\n",
       "  <thead>\n",
       "    <tr style=\"text-align: right;\">\n",
       "      <th></th>\n",
       "      <th>m_WAG_prd</th>\n",
       "      <th>m_WAG_hrd</th>\n",
       "      <th>m_CT</th>\n",
       "      <th>f_WAG_prd</th>\n",
       "      <th>f_WAG_hrd</th>\n",
       "      <th>f_CT</th>\n",
       "      <th>t_CT</th>\n",
       "      <th>weight</th>\n",
       "      <th>f_m_hrd</th>\n",
       "      <th>value_hrd</th>\n",
       "      <th>f_m_prd</th>\n",
       "      <th>value_prd</th>\n",
       "    </tr>\n",
       "  </thead>\n",
       "  <tbody>\n",
       "    <tr>\n",
       "      <td>count</td>\n",
       "      <td>1196.000000</td>\n",
       "      <td>1196.000000</td>\n",
       "      <td>1196.000000</td>\n",
       "      <td>1196.000000</td>\n",
       "      <td>1196.000000</td>\n",
       "      <td>1196.000000</td>\n",
       "      <td>1196.000000</td>\n",
       "      <td>1196.000000</td>\n",
       "      <td>1196.000000</td>\n",
       "      <td>1.196000e+03</td>\n",
       "      <td>1196.000000</td>\n",
       "      <td>1.196000e+03</td>\n",
       "    </tr>\n",
       "    <tr>\n",
       "      <td>mean</td>\n",
       "      <td>59828.688963</td>\n",
       "      <td>52636.496656</td>\n",
       "      <td>3118.668060</td>\n",
       "      <td>50243.180602</td>\n",
       "      <td>44078.135452</td>\n",
       "      <td>2487.960702</td>\n",
       "      <td>5606.628763</td>\n",
       "      <td>0.000836</td>\n",
       "      <td>0.859375</td>\n",
       "      <td>6.465154e-04</td>\n",
       "      <td>0.845050</td>\n",
       "      <td>6.489071e-04</td>\n",
       "    </tr>\n",
       "    <tr>\n",
       "      <td>std</td>\n",
       "      <td>21872.673765</td>\n",
       "      <td>21709.842540</td>\n",
       "      <td>5967.144225</td>\n",
       "      <td>19414.659243</td>\n",
       "      <td>18701.551761</td>\n",
       "      <td>4745.625132</td>\n",
       "      <td>10066.170755</td>\n",
       "      <td>0.001501</td>\n",
       "      <td>0.219431</td>\n",
       "      <td>1.099618e-03</td>\n",
       "      <td>0.122623</td>\n",
       "      <td>1.112117e-03</td>\n",
       "    </tr>\n",
       "    <tr>\n",
       "      <td>min</td>\n",
       "      <td>23983.000000</td>\n",
       "      <td>20000.000000</td>\n",
       "      <td>1.000000</td>\n",
       "      <td>21106.000000</td>\n",
       "      <td>15000.000000</td>\n",
       "      <td>1.000000</td>\n",
       "      <td>7.000000</td>\n",
       "      <td>0.000001</td>\n",
       "      <td>0.266667</td>\n",
       "      <td>6.033295e-07</td>\n",
       "      <td>0.528458</td>\n",
       "      <td>8.627095e-07</td>\n",
       "    </tr>\n",
       "    <tr>\n",
       "      <td>25%</td>\n",
       "      <td>43478.750000</td>\n",
       "      <td>36000.000000</td>\n",
       "      <td>162.000000</td>\n",
       "      <td>35041.250000</td>\n",
       "      <td>30000.000000</td>\n",
       "      <td>138.750000</td>\n",
       "      <td>311.000000</td>\n",
       "      <td>0.000046</td>\n",
       "      <td>0.752365</td>\n",
       "      <td>4.247188e-05</td>\n",
       "      <td>0.757725</td>\n",
       "      <td>4.053150e-05</td>\n",
       "    </tr>\n",
       "    <tr>\n",
       "      <td>50%</td>\n",
       "      <td>56729.500000</td>\n",
       "      <td>49150.000000</td>\n",
       "      <td>674.500000</td>\n",
       "      <td>45579.500000</td>\n",
       "      <td>40000.000000</td>\n",
       "      <td>585.000000</td>\n",
       "      <td>1337.000000</td>\n",
       "      <td>0.000199</td>\n",
       "      <td>0.844444</td>\n",
       "      <td>1.774852e-04</td>\n",
       "      <td>0.837800</td>\n",
       "      <td>1.783541e-04</td>\n",
       "    </tr>\n",
       "    <tr>\n",
       "      <td>75%</td>\n",
       "      <td>74211.500000</td>\n",
       "      <td>63625.000000</td>\n",
       "      <td>3181.250000</td>\n",
       "      <td>61172.000000</td>\n",
       "      <td>52000.000000</td>\n",
       "      <td>2579.750000</td>\n",
       "      <td>5948.500000</td>\n",
       "      <td>0.000887</td>\n",
       "      <td>0.920447</td>\n",
       "      <td>7.152121e-04</td>\n",
       "      <td>0.918342</td>\n",
       "      <td>7.178134e-04</td>\n",
       "    </tr>\n",
       "    <tr>\n",
       "      <td>max</td>\n",
       "      <td>134509.000000</td>\n",
       "      <td>122000.000000</td>\n",
       "      <td>53601.000000</td>\n",
       "      <td>111259.000000</td>\n",
       "      <td>115000.000000</td>\n",
       "      <td>35983.000000</td>\n",
       "      <td>78029.000000</td>\n",
       "      <td>0.011637</td>\n",
       "      <td>2.788845</td>\n",
       "      <td>8.543757e-03</td>\n",
       "      <td>1.581925</td>\n",
       "      <td>8.797916e-03</td>\n",
       "    </tr>\n",
       "  </tbody>\n",
       "</table>\n",
       "</div>"
      ],
      "text/plain": [
       "           m_WAG_prd      m_WAG_hrd          m_CT      f_WAG_prd  \\\n",
       "count    1196.000000    1196.000000   1196.000000    1196.000000   \n",
       "mean    59828.688963   52636.496656   3118.668060   50243.180602   \n",
       "std     21872.673765   21709.842540   5967.144225   19414.659243   \n",
       "min     23983.000000   20000.000000      1.000000   21106.000000   \n",
       "25%     43478.750000   36000.000000    162.000000   35041.250000   \n",
       "50%     56729.500000   49150.000000    674.500000   45579.500000   \n",
       "75%     74211.500000   63625.000000   3181.250000   61172.000000   \n",
       "max    134509.000000  122000.000000  53601.000000  111259.000000   \n",
       "\n",
       "           f_WAG_hrd          f_CT          t_CT       weight      f_m_hrd  \\\n",
       "count    1196.000000   1196.000000   1196.000000  1196.000000  1196.000000   \n",
       "mean    44078.135452   2487.960702   5606.628763     0.000836     0.859375   \n",
       "std     18701.551761   4745.625132  10066.170755     0.001501     0.219431   \n",
       "min     15000.000000      1.000000      7.000000     0.000001     0.266667   \n",
       "25%     30000.000000    138.750000    311.000000     0.000046     0.752365   \n",
       "50%     40000.000000    585.000000   1337.000000     0.000199     0.844444   \n",
       "75%     52000.000000   2579.750000   5948.500000     0.000887     0.920447   \n",
       "max    115000.000000  35983.000000  78029.000000     0.011637     2.788845   \n",
       "\n",
       "          value_hrd      f_m_prd     value_prd  \n",
       "count  1.196000e+03  1196.000000  1.196000e+03  \n",
       "mean   6.465154e-04     0.845050  6.489071e-04  \n",
       "std    1.099618e-03     0.122623  1.112117e-03  \n",
       "min    6.033295e-07     0.528458  8.627095e-07  \n",
       "25%    4.247188e-05     0.757725  4.053150e-05  \n",
       "50%    1.774852e-04     0.837800  1.783541e-04  \n",
       "75%    7.152121e-04     0.918342  7.178134e-04  \n",
       "max    8.543757e-03     1.581925  8.797916e-03  "
      ]
     },
     "execution_count": 404,
     "metadata": {},
     "output_type": "execute_result"
    }
   ],
   "source": [
    "y_5 = cv_split['WAGP']\n",
    "x_5 = cv_split.drop(['WAGP'], axis =1)\n",
    "\n",
    "\n",
    "preds_test = RFR_best.predict(x_5).astype(int)\n",
    "output = pd.DataFrame({'Index': x_5.index, 'WAG_pred': preds_test}).set_index('Index')\n",
    "\n",
    "result = pd.concat([output, cv_split], axis=1, sort=False)\n",
    "\n",
    "m_output = result[result['SEX'] == 1]\n",
    "f_output = result[result['SEX'] == 2]\n",
    "\n",
    "m_group = m_output.groupby(['SEX', 'EDU', 'JOB', 'STSP','AGEB']) #,'RACE'\n",
    "m_count = m_group.count().reset_index()\n",
    "m_median = m_group.median().reset_index()\n",
    "\n",
    "f_group = f_output.groupby(['SEX', 'EDU', 'JOB', 'STSP','AGEB']) #,'RACE'\n",
    "f_count = f_group.count().reset_index()\n",
    "f_median = f_group.median().reset_index()\n",
    "\n",
    "final_df = pd.DataFrame({'m_WAG_prd': m_median.WAG_pred, 'm_WAG_hrd': m_median.WAGP, 'm_CT': m_count.WAG_pred,\n",
    "                         'f_WAG_prd': f_median.WAG_pred, 'f_WAG_hrd': f_median.WAGP, 'f_CT': f_count.WAG_pred})\n",
    "\n",
    "final_df = final_df.dropna()\n",
    "#final_df = final_df.loc[final_df.m_CT >= 500].copy()\n",
    "#final_df = final_df.loc[final_df.f_CT >= 500].copy()\n",
    "\n",
    "final_df['t_CT'] = final_df['m_CT'] + final_df['f_CT']\n",
    "final_df['weight'] = final_df['t_CT'] / final_df['t_CT'].sum()\n",
    "\n",
    "final_df['f_m_hrd'] = final_df['f_WAG_hrd']/final_df['m_WAG_hrd']\n",
    "final_df['value_hrd'] = final_df['f_m_hrd'] * final_df['weight']\n",
    "\n",
    "final_df['f_m_prd'] = final_df['f_WAG_prd']/final_df['m_WAG_prd']\n",
    "final_df['value_prd'] = final_df['f_m_prd'] * final_df['weight']\n",
    "\n",
    "print(\"Weight Check: \", round(final_df['weight'].sum()),7)\n",
    "print(\"Hard Ratio: %s %%\" % round(final_df['value_hrd'].sum()*100,1))\n",
    "print(\"Pred Ratio: %s %%\" % round(final_df['value_prd'].sum()*100,1))\n",
    "final_df.describe()"
   ]
  },
  {
   "cell_type": "code",
   "execution_count": 406,
   "metadata": {},
   "outputs": [
    {
     "data": {
      "text/plain": [
       "[(0, 1000)]"
      ]
     },
     "execution_count": 406,
     "metadata": {},
     "output_type": "execute_result"
    },
    {
     "data": {
      "image/png": "[encoded data removed]",
      "text/plain": [
       "<Figure size 432x288 with 1 Axes>"
      ]
     },
     "metadata": {
      "needs_background": "light"
     },
     "output_type": "display_data"
    }
   ],
   "source": [
    "g = sns.distplot(final_df[\"t_CT\"], bins=1000, kde=False)\n",
    "g.set(xlim=(0, 1000))"
   ]
  },
  {
   "cell_type": "code",
   "execution_count": null,
   "metadata": {},
   "outputs": [],
   "source": [
    "x_5.shape"
   ]
  },
  {
   "cell_type": "code",
   "execution_count": null,
   "metadata": {},
   "outputs": [],
   "source": []
  },
  {
   "cell_type": "code",
   "execution_count": null,
   "metadata": {},
   "outputs": [],
   "source": []
  }
 ],
 "metadata": {
  "kernelspec": {
   "display_name": "py_36_env",
   "language": "python",
   "name": "py_36_env"
  },
  "language_info": {
   "codemirror_mode": {
    "name": "ipython",
    "version": 3
   },
   "file_extension": ".py",
   "mimetype": "text/x-python",
   "name": "python",
   "nbconvert_exporter": "python",
   "pygments_lexer": "ipython3",
   "version": "3.7.4"
  }
 },
 "nbformat": 4,
 "nbformat_minor": 2
}
