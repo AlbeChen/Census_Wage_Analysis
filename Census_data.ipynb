{
 "cells": [
  {
   "cell_type": "markdown",
   "metadata": {},
   "source": [
    "# American Community Survey (PUMS) Wage Analysis\n",
    "\n",
    "**Sections:**\n",
    "1. Introduction <br/>\n",
    "    1.1 Importing Data Files (2018 - 2008) <br/>\n",
    "    1.2. Initial Data Analysis <br/>\n",
    "2. Data Selection <br/>\n",
    "    2.1. Full-Time Detection <br/>\n",
    "    2.2. Outlier <br/>\n",
    "3. Feature Transformation <br/>\n",
    "    3.1. Age Bins <br/>\n",
    "    3.2. Education Categorization <br/>\n",
    "    3.3. Occupation Grouping <br/>\n",
    "    3.4. State Observations <br/>\n",
    "    3.5. Race <br/>\n",
    "4. Dataframe Management <br/>\n",
    "    4.1. Remove Columns <br/>\n",
    "    4.2. OHE Columns <br/>\n",
    "5. Preprocessing Pipeline <br/>\n",
    "6. Modeling <br/>\n",
    "    6.1. Random Forest <br/>\n",
    "    6.2. Feature Selection <br/>\n",
    "7. Analysis <br/>\n",
    "    7.1. Scoring Rational <br/>\n",
    "    7.2. Year to Year Analysis <br/>\n",
    "    7.3. Simple Wage Predictor <br/>\n",
    "\n",
    "\n",
    "# 1. Introduction\n",
    "American Community Survey (ACS) Public Use Microdata Sample (PUMS) shows a range of individual information on the US in separate years. Each year's worth of data is recorded in single rows of individuals which represents about one percent of the US population. It is assumed that the over a five-year period, year year's information should cover five percent of the US population.\n",
    "\n",
    "The information collected covers features from each person such as weight, age, education, housing situation, children and parent status, and more. These areas are all coded to numerical values which out outlined in the data directory which includes all coded values. Full data and documentation can be located at https://www.census.gov/programs-surveys/acs/technical-documentation/pums/documentation.html for years readily available between 2005 and 2018.\n",
    "\n",
    "The goal of this information is the accumulate the data from specified features to output a single score which reflects the wage difference between men and females while normalizing for age, education, industry, region, and race. While there are certainly difference between each subsection as to how large the difference is, this score looks to encapsulate the differences for the entire US.\n",
    "\n",
    "## 1.1. Importing Data Files (2018 - 2008)\n",
    "\n",
    "These datafiles are large (2 GB for each year) and contain multiple columns which are not observed in this study. Therefore, given the plethora of data, only half of the years (initially only 2018) were visualized and analyzed for creating a model. Overall, columns chosen were assumed to show the most correlation between wage and signs of difference between gender."
   ]
  },
  {
   "cell_type": "code",
   "execution_count": 1,
   "metadata": {},
   "outputs": [],
   "source": [
    "# Importing\n",
    "import pandas as pd\n",
    "import seaborn as sns\n",
    "import matplotlib.pyplot as plt\n",
    "import numpy as np\n",
    "\n",
    "from sklearn.preprocessing import OneHotEncoder\n",
    "\n",
    "import statistics\n",
    "import glob\n",
    "import time"
   ]
  },
  {
   "cell_type": "code",
   "execution_count": 2,
   "metadata": {},
   "outputs": [
    {
     "name": "stdout",
     "output_type": "stream",
     "text": [
      "(18679015, 10)\n",
      " 3.71 min\n"
     ]
    }
   ],
   "source": [
    "years = list(r*2 for r in range(1004, 1010))\n",
    "PUS_start = pd.DataFrame()\n",
    "start_time = time.time()\n",
    "for year in years:\n",
    "    useful_cols = ['WAGP', 'SEX', 'AGEP', 'RAC1P',\n",
    "                   'SCHL', 'WKW', 'WKHP', 'OCCP', 'POWSP', 'ST']\n",
    "    path = ('data/%s' % year)\n",
    "    PUS_split = pd.concat([pd.read_csv(f, usecols=useful_cols)\n",
    "                           for f in glob.glob(path + \"/*.csv\")], ignore_index=True)\n",
    "    PUS_start = PUS_start.append(PUS_split)\n",
    "print(PUS_start.shape)\n",
    "print(\" %s min\" % round(((time.time() - start_time)/60), 2))"
   ]
  },
  {
   "cell_type": "markdown",
   "metadata": {},
   "source": [
    "## 1.2. Initial Data Analysis"
   ]
  },
  {
   "cell_type": "code",
   "execution_count": 3,
   "metadata": {
    "scrolled": true
   },
   "outputs": [
    {
     "data": {
      "text/plain": [
       "Index(['ST', 'AGEP', 'SCHL', 'SEX', 'WAGP', 'WKHP', 'WKW', 'OCCP', 'POWSP',\n",
       "       'RAC1P'],\n",
       "      dtype='object')"
      ]
     },
     "execution_count": 3,
     "metadata": {},
     "output_type": "execute_result"
    }
   ],
   "source": [
    "PUS_start.columns"
   ]
  },
  {
   "cell_type": "code",
   "execution_count": 4,
   "metadata": {
    "scrolled": true
   },
   "outputs": [
    {
     "data": {
      "text/html": [
       "<div>\n",
       "<style scoped>\n",
       "    .dataframe tbody tr th:only-of-type {\n",
       "        vertical-align: middle;\n",
       "    }\n",
       "\n",
       "    .dataframe tbody tr th {\n",
       "        vertical-align: top;\n",
       "    }\n",
       "\n",
       "    .dataframe thead th {\n",
       "        text-align: right;\n",
       "    }\n",
       "</style>\n",
       "<table border=\"1\" class=\"dataframe\">\n",
       "  <thead>\n",
       "    <tr style=\"text-align: right;\">\n",
       "      <th></th>\n",
       "      <th>ST</th>\n",
       "      <th>AGEP</th>\n",
       "      <th>SCHL</th>\n",
       "      <th>SEX</th>\n",
       "      <th>WAGP</th>\n",
       "      <th>WKHP</th>\n",
       "      <th>WKW</th>\n",
       "      <th>OCCP</th>\n",
       "      <th>POWSP</th>\n",
       "      <th>RAC1P</th>\n",
       "    </tr>\n",
       "  </thead>\n",
       "  <tbody>\n",
       "    <tr>\n",
       "      <td>count</td>\n",
       "      <td>1.867902e+07</td>\n",
       "      <td>1.867902e+07</td>\n",
       "      <td>1.808252e+07</td>\n",
       "      <td>1.867902e+07</td>\n",
       "      <td>1.593322e+07</td>\n",
       "      <td>1.116149e+07</td>\n",
       "      <td>9.622696e+06</td>\n",
       "      <td>1.103743e+07</td>\n",
       "      <td>8.397553e+06</td>\n",
       "      <td>1.867902e+07</td>\n",
       "    </tr>\n",
       "    <tr>\n",
       "      <td>mean</td>\n",
       "      <td>2.765467e+01</td>\n",
       "      <td>4.056208e+01</td>\n",
       "      <td>1.585766e+01</td>\n",
       "      <td>1.512292e+00</td>\n",
       "      <td>2.566373e+04</td>\n",
       "      <td>3.284190e+01</td>\n",
       "      <td>1.899983e+00</td>\n",
       "      <td>4.340872e+03</td>\n",
       "      <td>2.800783e+01</td>\n",
       "      <td>1.860106e+00</td>\n",
       "    </tr>\n",
       "    <tr>\n",
       "      <td>std</td>\n",
       "      <td>1.603227e+01</td>\n",
       "      <td>2.352116e+01</td>\n",
       "      <td>5.660316e+00</td>\n",
       "      <td>4.998489e-01</td>\n",
       "      <td>4.782771e+04</td>\n",
       "      <td>1.798892e+01</td>\n",
       "      <td>1.631469e+00</td>\n",
       "      <td>2.620540e+03</td>\n",
       "      <td>1.795425e+01</td>\n",
       "      <td>2.067998e+00</td>\n",
       "    </tr>\n",
       "    <tr>\n",
       "      <td>min</td>\n",
       "      <td>1.000000e+00</td>\n",
       "      <td>0.000000e+00</td>\n",
       "      <td>1.000000e+00</td>\n",
       "      <td>1.000000e+00</td>\n",
       "      <td>0.000000e+00</td>\n",
       "      <td>0.000000e+00</td>\n",
       "      <td>1.000000e+00</td>\n",
       "      <td>1.000000e+01</td>\n",
       "      <td>1.000000e+00</td>\n",
       "      <td>1.000000e+00</td>\n",
       "    </tr>\n",
       "    <tr>\n",
       "      <td>25%</td>\n",
       "      <td>1.200000e+01</td>\n",
       "      <td>2.000000e+01</td>\n",
       "      <td>1.400000e+01</td>\n",
       "      <td>1.000000e+00</td>\n",
       "      <td>0.000000e+00</td>\n",
       "      <td>2.000000e+01</td>\n",
       "      <td>1.000000e+00</td>\n",
       "      <td>2.310000e+03</td>\n",
       "      <td>1.200000e+01</td>\n",
       "      <td>1.000000e+00</td>\n",
       "    </tr>\n",
       "    <tr>\n",
       "      <td>50%</td>\n",
       "      <td>2.700000e+01</td>\n",
       "      <td>4.100000e+01</td>\n",
       "      <td>1.700000e+01</td>\n",
       "      <td>2.000000e+00</td>\n",
       "      <td>5.000000e+03</td>\n",
       "      <td>4.000000e+01</td>\n",
       "      <td>1.000000e+00</td>\n",
       "      <td>4.400000e+03</td>\n",
       "      <td>2.700000e+01</td>\n",
       "      <td>1.000000e+00</td>\n",
       "    </tr>\n",
       "    <tr>\n",
       "      <td>75%</td>\n",
       "      <td>4.200000e+01</td>\n",
       "      <td>5.900000e+01</td>\n",
       "      <td>2.000000e+01</td>\n",
       "      <td>2.000000e+00</td>\n",
       "      <td>3.600000e+04</td>\n",
       "      <td>4.000000e+01</td>\n",
       "      <td>2.000000e+00</td>\n",
       "      <td>5.740000e+03</td>\n",
       "      <td>4.200000e+01</td>\n",
       "      <td>1.000000e+00</td>\n",
       "    </tr>\n",
       "    <tr>\n",
       "      <td>max</td>\n",
       "      <td>5.600000e+01</td>\n",
       "      <td>9.600000e+01</td>\n",
       "      <td>2.400000e+01</td>\n",
       "      <td>2.000000e+00</td>\n",
       "      <td>7.180000e+05</td>\n",
       "      <td>9.900000e+01</td>\n",
       "      <td>6.000000e+00</td>\n",
       "      <td>9.920000e+03</td>\n",
       "      <td>5.550000e+02</td>\n",
       "      <td>9.000000e+00</td>\n",
       "    </tr>\n",
       "  </tbody>\n",
       "</table>\n",
       "</div>"
      ],
      "text/plain": [
       "                 ST          AGEP          SCHL           SEX          WAGP  \\\n",
       "count  1.867902e+07  1.867902e+07  1.808252e+07  1.867902e+07  1.593322e+07   \n",
       "mean   2.765467e+01  4.056208e+01  1.585766e+01  1.512292e+00  2.566373e+04   \n",
       "std    1.603227e+01  2.352116e+01  5.660316e+00  4.998489e-01  4.782771e+04   \n",
       "min    1.000000e+00  0.000000e+00  1.000000e+00  1.000000e+00  0.000000e+00   \n",
       "25%    1.200000e+01  2.000000e+01  1.400000e+01  1.000000e+00  0.000000e+00   \n",
       "50%    2.700000e+01  4.100000e+01  1.700000e+01  2.000000e+00  5.000000e+03   \n",
       "75%    4.200000e+01  5.900000e+01  2.000000e+01  2.000000e+00  3.600000e+04   \n",
       "max    5.600000e+01  9.600000e+01  2.400000e+01  2.000000e+00  7.180000e+05   \n",
       "\n",
       "               WKHP           WKW          OCCP         POWSP         RAC1P  \n",
       "count  1.116149e+07  9.622696e+06  1.103743e+07  8.397553e+06  1.867902e+07  \n",
       "mean   3.284190e+01  1.899983e+00  4.340872e+03  2.800783e+01  1.860106e+00  \n",
       "std    1.798892e+01  1.631469e+00  2.620540e+03  1.795425e+01  2.067998e+00  \n",
       "min    0.000000e+00  1.000000e+00  1.000000e+01  1.000000e+00  1.000000e+00  \n",
       "25%    2.000000e+01  1.000000e+00  2.310000e+03  1.200000e+01  1.000000e+00  \n",
       "50%    4.000000e+01  1.000000e+00  4.400000e+03  2.700000e+01  1.000000e+00  \n",
       "75%    4.000000e+01  2.000000e+00  5.740000e+03  4.200000e+01  1.000000e+00  \n",
       "max    9.900000e+01  6.000000e+00  9.920000e+03  5.550000e+02  9.000000e+00  "
      ]
     },
     "execution_count": 4,
     "metadata": {},
     "output_type": "execute_result"
    }
   ],
   "source": [
    "PUS_start.describe(include='all')"
   ]
  },
  {
   "cell_type": "code",
   "execution_count": 5,
   "metadata": {},
   "outputs": [
    {
     "data": {
      "image/png": "[encoded data removed]",
      "text/plain": [
       "<Figure size 432x288 with 1 Axes>"
      ]
     },
     "metadata": {
      "needs_background": "light"
     },
     "output_type": "display_data"
    }
   ],
   "source": [
    "g = sns.kdeplot(\n",
    "    PUS_start[\"AGEP\"][(PUS_start[\"SEX\"] == 1) & (PUS_start[\"AGEP\"].notnull())])\n",
    "g = sns.kdeplot(\n",
    "    PUS_start[\"AGEP\"][(PUS_start[\"SEX\"] == 2) & (PUS_start[\"AGEP\"].notnull())])\n",
    "g.set_xlabel(\"Age\")\n",
    "g.set_ylabel(\"Frequency\")\n",
    "g = g.legend([\"Male\", \"Female\"])"
   ]
  },
  {
   "cell_type": "code",
   "execution_count": 6,
   "metadata": {},
   "outputs": [
    {
     "data": {
      "text/plain": [
       "Text(0, 0.5, 'Frequency')"
      ]
     },
     "execution_count": 6,
     "metadata": {},
     "output_type": "execute_result"
    },
    {
     "data": {
      "image/png": "[encoded data removed]",
      "text/plain": [
       "<Figure size 432x288 with 1 Axes>"
      ]
     },
     "metadata": {
      "needs_background": "light"
     },
     "output_type": "display_data"
    }
   ],
   "source": [
    "g = sns.kdeplot(PUS_start[\"WAGP\"]\n",
    "                [(PUS_start[\"WAGP\"] > 0) & (PUS_start[\"AGEP\"] > 18)])\n",
    "g.set_xlabel(\"Wage\")\n",
    "g.set_ylabel(\"Frequency\")"
   ]
  },
  {
   "cell_type": "markdown",
   "metadata": {},
   "source": [
    "# 2. Data Selection\n",
    "## 2.1. Full-Time Detection\n",
    "\n",
    "Before analyzing the data, first the scope of people observed were reserved for those working full time and in the general age of retirement. Therefore, after observing the data, and general research, it was decided to only include people who are working more than 40 hours a week and more than 40 weeks per a year. Given that the general weeks worked by a worker in the US is 40 hours a week and 45 weeks in a year.\n",
    "\n",
    "It was also observed that men generally worked more hours than women, but as seen in the graph below, there doesn't seem to be a significant increase in salary among those who work more hours."
   ]
  },
  {
   "cell_type": "code",
   "execution_count": 7,
   "metadata": {},
   "outputs": [
    {
     "data": {
      "image/png": "[encoded data removed]",
      "text/plain": [
       "<Figure size 432x288 with 1 Axes>"
      ]
     },
     "metadata": {
      "needs_background": "light"
     },
     "output_type": "display_data"
    }
   ],
   "source": [
    "g = sns.distplot(PUS_start[\"WAGP\"][(PUS_start[\"WAGP\"] > 0) & (\n",
    "    PUS_start[\"WKW\"] < 4) & (PUS_start[\"WKHP\"] >= 40)], kde=False)\n",
    "g = sns.distplot(PUS_start[\"WAGP\"][(PUS_start[\"WAGP\"] > 0)], kde=False)"
   ]
  },
  {
   "cell_type": "code",
   "execution_count": 8,
   "metadata": {},
   "outputs": [],
   "source": [
    "# define function to seperate people who've worked more than 40 weeks / year\n",
    "def full_time_detect(df):\n",
    "    # remove rows of people who work under 40 weeks in a year\n",
    "    df = df.loc[df.WKW < 4].copy()\n",
    "    # remove rows of people who work under 35 hours a week\n",
    "    df = df.loc[df.WKHP >= 40].copy()\n",
    "    # remove rows of people below 18 and above 70\n",
    "    df = df.loc[df.AGEP >= 18].copy()\n",
    "    df = df.loc[df.AGEP <= 70].copy()\n",
    "    return df"
   ]
  },
  {
   "cell_type": "code",
   "execution_count": 9,
   "metadata": {
    "scrolled": false
   },
   "outputs": [
    {
     "name": "stdout",
     "output_type": "stream",
     "text": [
      "(5846161, 10)\n"
     ]
    }
   ],
   "source": [
    "ft_test = PUS_start.copy()\n",
    "ft_test = full_time_detect(ft_test)\n",
    "print(ft_test.shape)"
   ]
  },
  {
   "cell_type": "code",
   "execution_count": 10,
   "metadata": {},
   "outputs": [
    {
     "data": {
      "image/png": "[encoded data removed]",
      "text/plain": [
       "<Figure size 360x360 with 1 Axes>"
      ]
     },
     "metadata": {
      "needs_background": "light"
     },
     "output_type": "display_data"
    }
   ],
   "source": [
    "g = sns.catplot(y=\"WKHP\", x=\"SEX\", data=ft_test, kind=\"box\")"
   ]
  },
  {
   "cell_type": "code",
   "execution_count": 11,
   "metadata": {},
   "outputs": [
    {
     "data": {
      "text/plain": [
       "<seaborn.axisgrid.FacetGrid at 0x163825b8f88>"
      ]
     },
     "execution_count": 11,
     "metadata": {},
     "output_type": "execute_result"
    },
    {
     "data": {
      "image/png": "[encoded data removed]",
      "text/plain": [
       "<Figure size 1260x360 with 1 Axes>"
      ]
     },
     "metadata": {
      "needs_background": "light"
     },
     "output_type": "display_data"
    }
   ],
   "source": [
    "g = sns.catplot(y=\"WAGP\", x=\"WKHP\", data=ft_test, kind=\"box\", aspect=3.5)\n",
    "g.set(ylim=(0, 175000))"
   ]
  },
  {
   "cell_type": "markdown",
   "metadata": {},
   "source": [
    "## 2.2. Outlier\n",
    "\n",
    "Besides full-time workers in the US, outliers in the wage earned were excluded for this study. Quartile sectioning was used in determining significant outliers for the upper end, however the lower end was set at $12,500, the poverty level."
   ]
  },
  {
   "cell_type": "code",
   "execution_count": 12,
   "metadata": {},
   "outputs": [
    {
     "data": {
      "image/png": "[encoded data removed]",
      "text/plain": [
       "<Figure size 432x288 with 1 Axes>"
      ]
     },
     "metadata": {
      "needs_background": "light"
     },
     "output_type": "display_data"
    }
   ],
   "source": [
    "ax = sns.boxplot(x=ft_test[\"WAGP\"])"
   ]
  },
  {
   "cell_type": "code",
   "execution_count": 13,
   "metadata": {},
   "outputs": [
    {
     "name": "stdout",
     "output_type": "stream",
     "text": [
      "Wage IQR:  43000.0  Upper:  199000.0  Lower:  -102000.0\n"
     ]
    }
   ],
   "source": [
    "test_wage_IQR = np.percentile(ft_test.WAGP, 75) - \\\n",
    "    np.percentile(ft_test.WAGP, 25)\n",
    "test_wage_upper = np.percentile(ft_test.WAGP, 75) + test_wage_IQR*3\n",
    "test_wage_lower = np.percentile(ft_test.WAGP, 25) - test_wage_IQR*3\n",
    "print(\"Wage IQR: \", test_wage_IQR, \" Upper: \",\n",
    "      test_wage_upper, \" Lower: \", test_wage_lower)"
   ]
  },
  {
   "cell_type": "code",
   "execution_count": 14,
   "metadata": {},
   "outputs": [],
   "source": [
    "def outlier_wage(df):\n",
    "    # remove rows of outlier upper wages and below poverty $\n",
    "    wage_IQR = np.percentile(df.WAGP, 75) - np.percentile(df.WAGP, 25)\n",
    "    wage_upper = np.percentile(df.WAGP, 75) + wage_IQR*3\n",
    "    df = df.loc[df.WAGP >= 12500].copy()\n",
    "    df = df.loc[df.WAGP <= wage_upper].copy()\n",
    "    return df"
   ]
  },
  {
   "cell_type": "code",
   "execution_count": 15,
   "metadata": {},
   "outputs": [
    {
     "name": "stdout",
     "output_type": "stream",
     "text": [
      "(5216628, 10)\n"
     ]
    }
   ],
   "source": [
    "outlier_test = ft_test.copy()\n",
    "outlier_test = outlier_wage(outlier_test)\n",
    "print(outlier_test.shape)"
   ]
  },
  {
   "cell_type": "markdown",
   "metadata": {},
   "source": [
    "# 3. Feature Transformation\n",
    "## 3.1. Age Bins\n",
    "\n",
    "As seen in the graph of wage vs age, its seen that there in a steady increase in wages from age 18 to 35 in which it levels out throughout the rest of the years. Therefore, capturing the trends was slightly difficult, so the binning tried to mimic the general trend of this observation. Also, while a further gradient in wages could be a achieved in the initial ages, the sample sizes were relatively small at those level and segmentation of the data would cause issues.\n",
    "The binning maintained the general trend of the age gaps but show similar ranges for 3 and 4 which was assumed since the wages level out greatly throughout ages past 40. While it can be separated, there might be more relationships between other variables, so the ages were kept split for their large sample size as well."
   ]
  },
  {
   "cell_type": "code",
   "execution_count": 16,
   "metadata": {
    "scrolled": false
   },
   "outputs": [
    {
     "data": {
      "text/plain": [
       "<seaborn.axisgrid.FacetGrid at 0x16382204c88>"
      ]
     },
     "execution_count": 16,
     "metadata": {},
     "output_type": "execute_result"
    },
    {
     "data": {
      "image/png": "[encoded data removed]",
      "text/plain": [
       "<Figure size 1260x360 with 1 Axes>"
      ]
     },
     "metadata": {
      "needs_background": "light"
     },
     "output_type": "display_data"
    }
   ],
   "source": [
    "g = sns.catplot(y=\"WAGP\", x=\"AGEP\", data=outlier_test, kind=\"box\", aspect=3.5)\n",
    "g.set(ylim=(0, 175000))"
   ]
  },
  {
   "cell_type": "code",
   "execution_count": 17,
   "metadata": {},
   "outputs": [],
   "source": [
    "def age_bins(df):\n",
    "    df['AGEB'] = df['AGEP'].map(lambda y: 1 if y <= 25  # 18-25\n",
    "                                else 2 if y <= 35  # 26-35\n",
    "                                else 3 if y <= 45  # 36-45\n",
    "                                else 4 if y <= 65  # 46-65\n",
    "                                else 3 if y <= 70  # 60-70\n",
    "                                else 6)  # +70\n",
    "    return df"
   ]
  },
  {
   "cell_type": "code",
   "execution_count": 18,
   "metadata": {},
   "outputs": [],
   "source": [
    "age_test = outlier_test.copy()\n",
    "age_test.sort_values(by=['AGEP'], ascending=True, inplace=True)"
   ]
  },
  {
   "cell_type": "code",
   "execution_count": 19,
   "metadata": {},
   "outputs": [
    {
     "name": "stdout",
     "output_type": "stream",
     "text": [
      "Age : [1 2 3 4]\n"
     ]
    }
   ],
   "source": [
    "age_bins(age_test)\n",
    "print(\"Age :\", age_test.AGEB.unique())"
   ]
  },
  {
   "cell_type": "code",
   "execution_count": 20,
   "metadata": {
    "scrolled": false
   },
   "outputs": [
    {
     "data": {
      "text/plain": [
       "<seaborn.axisgrid.FacetGrid at 0x16381a9c7c8>"
      ]
     },
     "execution_count": 20,
     "metadata": {},
     "output_type": "execute_result"
    },
    {
     "data": {
      "image/png": "[encoded data removed]",
      "text/plain": [
       "<Figure size 540x360 with 1 Axes>"
      ]
     },
     "metadata": {
      "needs_background": "light"
     },
     "output_type": "display_data"
    }
   ],
   "source": [
    "g = sns.catplot(y=\"WAGP\", x=\"AGEB\", data=age_test, kind=\"box\", aspect=1.5)\n",
    "g.set(ylim=(0, 175000))"
   ]
  },
  {
   "cell_type": "code",
   "execution_count": 21,
   "metadata": {
    "scrolled": false
   },
   "outputs": [
    {
     "data": {
      "text/plain": [
       "<seaborn.axisgrid.FacetGrid at 0x16381a7ca08>"
      ]
     },
     "execution_count": 21,
     "metadata": {},
     "output_type": "execute_result"
    },
    {
     "data": {
      "image/png": "[encoded data removed]",
      "text/plain": [
       "<Figure size 762.375x360 with 1 Axes>"
      ]
     },
     "metadata": {
      "needs_background": "light"
     },
     "output_type": "display_data"
    }
   ],
   "source": [
    "g = sns.catplot(y=\"WAGP\", x=\"AGEB\", data=age_test,\n",
    "                kind=\"box\", aspect=2, hue=\"SEX\")\n",
    "g.set(ylim=(0, 175000))"
   ]
  },
  {
   "cell_type": "code",
   "execution_count": 22,
   "metadata": {},
   "outputs": [
    {
     "data": {
      "text/plain": [
       "4    2326233\n",
       "3    1345201\n",
       "2    1158316\n",
       "1     386878\n",
       "Name: AGEB, dtype: int64"
      ]
     },
     "execution_count": 22,
     "metadata": {},
     "output_type": "execute_result"
    }
   ],
   "source": [
    "age_test['AGEB'].value_counts()"
   ]
  },
  {
   "cell_type": "markdown",
   "metadata": {},
   "source": [
    "## 3.2. Education Categorization\n",
    "\n",
    "The education levels were separated out through numerical values coded to separate values. All values 15 and under link to no schooling, preschool, and grades k-12, 16 and 17 are those finishing high school or getting a GED, values above are varying levels of college and graduate school (further details below and in appendix).\n",
    "\n",
    "Overall, it's observed that the greater the level of education led to greater wage. For those who dropped out of high school there is no specific trends with when the drop out of school, for high school graduates have similar values, and finally those with some college or an associate degree were similar. Higher education showed gradually higher wages."
   ]
  },
  {
   "cell_type": "code",
   "execution_count": 23,
   "metadata": {},
   "outputs": [
    {
     "data": {
      "text/plain": [
       "<seaborn.axisgrid.FacetGrid at 0x16381d9fb48>"
      ]
     },
     "execution_count": 23,
     "metadata": {},
     "output_type": "execute_result"
    },
    {
     "data": {
      "image/png": "[encoded data removed]",
      "text/plain": [
       "<Figure size 720x360 with 1 Axes>"
      ]
     },
     "metadata": {
      "needs_background": "light"
     },
     "output_type": "display_data"
    }
   ],
   "source": [
    "g = sns.catplot(y=\"WAGP\", x=\"SCHL\", data=age_test, kind=\"box\", aspect=2)\n",
    "g.set(ylim=(0, 175000))"
   ]
  },
  {
   "cell_type": "code",
   "execution_count": 24,
   "metadata": {},
   "outputs": [],
   "source": [
    "def edu_split(df):\n",
    "    # split into degrees\n",
    "    df['EDU'] = df['SCHL'].map(lambda y: 1 if y <= 15  # didn't finish HS\n",
    "                               else 1 if y <= 17  # HS degree\n",
    "                               else 2 if y <= 19  # some college\n",
    "                               else 2 if y == 20  # AS\n",
    "                               else 3 if y == 21  # BS\n",
    "                               else 4 if y == 22  # MS\n",
    "                               else 5 if y <= 24  # GS\n",
    "                               else 7)\n",
    "    return df"
   ]
  },
  {
   "cell_type": "code",
   "execution_count": 25,
   "metadata": {},
   "outputs": [
    {
     "name": "stdout",
     "output_type": "stream",
     "text": [
      "Edu : [1 2 3 4 5]\n"
     ]
    }
   ],
   "source": [
    "edu_test = age_test.copy()\n",
    "edu_test = edu_split(edu_test)\n",
    "print(\"Edu :\", edu_test.EDU.unique())"
   ]
  },
  {
   "cell_type": "code",
   "execution_count": 26,
   "metadata": {},
   "outputs": [],
   "source": [
    "edu_sort = edu_test.groupby('EDU').median(\n",
    ").sort_values(by=['WAGP']).reset_index()\n",
    "edu_list = edu_sort['EDU'].tolist()"
   ]
  },
  {
   "cell_type": "code",
   "execution_count": 27,
   "metadata": {
    "scrolled": false
   },
   "outputs": [
    {
     "data": {
      "text/plain": [
       "<seaborn.axisgrid.FacetGrid at 0x1638278c7c8>"
      ]
     },
     "execution_count": 27,
     "metadata": {},
     "output_type": "execute_result"
    },
    {
     "data": {
      "image/png": "[encoded data removed]",
      "text/plain": [
       "<Figure size 720x360 with 1 Axes>"
      ]
     },
     "metadata": {
      "needs_background": "light"
     },
     "output_type": "display_data"
    }
   ],
   "source": [
    "g = sns.catplot(y=\"WAGP\", x=\"EDU\", data=edu_test,\n",
    "                kind=\"box\", aspect=2, order=edu_list)\n",
    "g.set(ylim=(0, 250000))"
   ]
  },
  {
   "cell_type": "code",
   "execution_count": 28,
   "metadata": {},
   "outputs": [
    {
     "data": {
      "text/plain": [
       "<seaborn.axisgrid.FacetGrid at 0x16383d1a348>"
      ]
     },
     "execution_count": 28,
     "metadata": {},
     "output_type": "execute_result"
    },
    {
     "data": {
      "image/png": "[encoded data removed]",
      "text/plain": [
       "<Figure size 906.375x288 with 1 Axes>"
      ]
     },
     "metadata": {
      "needs_background": "light"
     },
     "output_type": "display_data"
    }
   ],
   "source": [
    "g = sns.catplot(y=\"WAGP\", x=\"EDU\", data=edu_test, kind=\"box\",\n",
    "                height=4, aspect=3, hue=\"SEX\", order=edu_list)\n",
    "g.set(ylim=(0, 200000))"
   ]
  },
  {
   "cell_type": "code",
   "execution_count": 29,
   "metadata": {},
   "outputs": [
    {
     "data": {
      "text/plain": [
       "2    1638229\n",
       "1    1611000\n",
       "3    1230774\n",
       "4     539844\n",
       "5     196781\n",
       "Name: EDU, dtype: int64"
      ]
     },
     "execution_count": 29,
     "metadata": {},
     "output_type": "execute_result"
    }
   ],
   "source": [
    "edu_test['EDU'].value_counts()"
   ]
  },
  {
   "cell_type": "markdown",
   "metadata": {},
   "source": [
    "## 3.3. Occupation Grouping\n",
    "\n",
    "The occupations are sorted by industry and standardized across all years. They are as follows:\n",
    "- 0010-0960: Management, Business, and Financial Occupations\n",
    "- 1005-1980: Computer, Engineering, and Science Occupations\n",
    "- 2001-2970: Education, Legal, Community Service, Arts, and Media Occupations\n",
    "- 3000-3550: Healthcare Practitioners and Technical Occupations\n",
    "- 3601-4655: Service Occupations\n",
    "- 4700-5940: Sales and Office Occupations\n",
    "- 6005-7640: Natural Resources, Construction, and Maintenance Occupations\n",
    "- 7700-8990: Production Occupations\n",
    "- 9005-9760: Transportation and Material Moving Occupations\n",
    "- 9800-9830: Military Specific Occupations\n",
    "\n",
    "When observing each industry, there were grouped according to their similarity in wages and how to split their populations. Overall, each of the occupations a wide range of wages that could be affected by other variables such as those who go into business or sciences generally have a higher degree and therefore make more. While these observations are difficult to observe, the general splitting was used to maintain the trend observed.\n",
    "\n",
    "The grouping is as followed below. Overall, the similar values between each industry was maintained through the grouping of each industry. As observed with all variables before, gender trends between each value show woman are paid less then man."
   ]
  },
  {
   "cell_type": "code",
   "execution_count": 30,
   "metadata": {},
   "outputs": [],
   "source": [
    "def int_occ_split(df):\n",
    "    # split into occupational industries\n",
    "    df['JOB'] = df['OCCP'].map(lambda y: \"Business\" if y <= 960\n",
    "                               else \"Science\" if y <= 1980\n",
    "                               else \"Arts\" if y <= 2970\n",
    "                               else \"Healthcare\" if y <= 3550\n",
    "                               else \"Service\" if y <= 4655\n",
    "                               else \"Sales\" if y <= 5940\n",
    "                               else \"Maintenance\" if y <= 7640\n",
    "                               else \"Production\" if y <= 8990\n",
    "                               else \"Transportation\" if y <= 9760\n",
    "                               else \"Military\" if y <= 9830\n",
    "                               else \"UN\")\n",
    "    return df"
   ]
  },
  {
   "cell_type": "code",
   "execution_count": 31,
   "metadata": {},
   "outputs": [
    {
     "name": "stdout",
     "output_type": "stream",
     "text": [
      "Occ : ['Maintenance' 'Service' 'Business' 'Sales' 'Science' 'Production'\n",
      " 'Transportation' 'Healthcare' 'Arts' 'Military']\n"
     ]
    }
   ],
   "source": [
    "int_occ_test = edu_test.copy()\n",
    "int_occ_test = int_occ_split(int_occ_test)\n",
    "print(\"Occ :\", int_occ_test.JOB.unique())"
   ]
  },
  {
   "cell_type": "code",
   "execution_count": 32,
   "metadata": {},
   "outputs": [],
   "source": [
    "int_occ_sort = int_occ_test.groupby(\n",
    "    'JOB').median().sort_values(by=['WAGP']).reset_index()\n",
    "int_occ_list = int_occ_sort['JOB'].tolist()"
   ]
  },
  {
   "cell_type": "code",
   "execution_count": 33,
   "metadata": {},
   "outputs": [
    {
     "data": {
      "text/plain": [
       "<seaborn.axisgrid.FacetGrid at 0x16381b09588>"
      ]
     },
     "execution_count": 33,
     "metadata": {},
     "output_type": "execute_result"
    },
    {
     "data": {
      "image/png": "[encoded data removed]",
      "text/plain": [
       "<Figure size 720x360 with 1 Axes>"
      ]
     },
     "metadata": {
      "needs_background": "light"
     },
     "output_type": "display_data"
    }
   ],
   "source": [
    "g = sns.catplot(y=\"WAGP\", x=\"JOB\", data=int_occ_test,\n",
    "                kind=\"box\", aspect=2, order=int_occ_list)\n",
    "g.set(ylim=(0, 175000))"
   ]
  },
  {
   "cell_type": "code",
   "execution_count": 34,
   "metadata": {},
   "outputs": [
    {
     "data": {
      "text/plain": [
       "<seaborn.axisgrid.FacetGrid at 0x163842e78c8>"
      ]
     },
     "execution_count": 34,
     "metadata": {},
     "output_type": "execute_result"
    },
    {
     "data": {
      "image/png": "[encoded data removed]",
      "text/plain": [
       "<Figure size 906.375x288 with 1 Axes>"
      ]
     },
     "metadata": {
      "needs_background": "light"
     },
     "output_type": "display_data"
    }
   ],
   "source": [
    "g = sns.catplot(y=\"WAGP\", x=\"JOB\", data=int_occ_test, kind=\"box\",\n",
    "                height=4, aspect=3, hue=\"SEX\", order=int_occ_list)\n",
    "g.set(ylim=(0, 175000))"
   ]
  },
  {
   "cell_type": "code",
   "execution_count": 35,
   "metadata": {
    "scrolled": true
   },
   "outputs": [
    {
     "data": {
      "text/plain": [
       "Sales             1159118\n",
       "Business           966283\n",
       "Arts               576643\n",
       "Service            575590\n",
       "Maintenance        525319\n",
       "Science            395275\n",
       "Production         386662\n",
       "Transportation     329590\n",
       "Healthcare         274677\n",
       "Military            27471\n",
       "Name: JOB, dtype: int64"
      ]
     },
     "execution_count": 35,
     "metadata": {},
     "output_type": "execute_result"
    }
   ],
   "source": [
    "int_occ_test['JOB'].value_counts()"
   ]
  },
  {
   "cell_type": "code",
   "execution_count": 36,
   "metadata": {},
   "outputs": [],
   "source": [
    "def occ_split(df):\n",
    "    # split into occupational industries\n",
    "    df['JOB'] = df['OCCP'].map(lambda y: 4 if y <= 960  # Business\n",
    "                               else 4 if y <= 1980  # Science\n",
    "                               else 3 if y <= 2970  # Arts\n",
    "                               else 3 if y <= 3550  # Healthcare\n",
    "                               else 1 if y <= 4655  # Service\n",
    "                               else 2 if y <= 5940  # Sales\n",
    "                               else 2 if y <= 7640  # Maintenance\n",
    "                               else 1 if y <= 8990  # Production\n",
    "                               else 1 if y <= 9760  # Transportation\n",
    "                               else 2 if y <= 9830  # Military\n",
    "                               else 6)  # Undefined\n",
    "    return df"
   ]
  },
  {
   "cell_type": "code",
   "execution_count": 37,
   "metadata": {},
   "outputs": [
    {
     "name": "stdout",
     "output_type": "stream",
     "text": [
      "Occ : [2 1 4 3]\n"
     ]
    }
   ],
   "source": [
    "occ_test = edu_test.copy()\n",
    "occ_test = occ_split(occ_test)\n",
    "print(\"Occ :\", occ_test.JOB.unique())"
   ]
  },
  {
   "cell_type": "code",
   "execution_count": 38,
   "metadata": {},
   "outputs": [
    {
     "data": {
      "text/plain": [
       "2    1711908\n",
       "4    1361558\n",
       "1    1291842\n",
       "3     851320\n",
       "Name: JOB, dtype: int64"
      ]
     },
     "execution_count": 38,
     "metadata": {},
     "output_type": "execute_result"
    }
   ],
   "source": [
    "occ_test['JOB'].value_counts()"
   ]
  },
  {
   "cell_type": "code",
   "execution_count": 39,
   "metadata": {},
   "outputs": [],
   "source": [
    "occ_sort = occ_test.groupby('JOB').median(\n",
    ").sort_values(by=['WAGP']).reset_index()\n",
    "occ_list = occ_sort['JOB'].tolist()"
   ]
  },
  {
   "cell_type": "code",
   "execution_count": 40,
   "metadata": {},
   "outputs": [
    {
     "data": {
      "text/plain": [
       "<seaborn.axisgrid.FacetGrid at 0x16381b58fc8>"
      ]
     },
     "execution_count": 40,
     "metadata": {},
     "output_type": "execute_result"
    },
    {
     "data": {
      "image/png": "[encoded data removed]",
      "text/plain": [
       "<Figure size 720x360 with 1 Axes>"
      ]
     },
     "metadata": {
      "needs_background": "light"
     },
     "output_type": "display_data"
    }
   ],
   "source": [
    "g = sns.catplot(y=\"WAGP\", x=\"JOB\", data=occ_test,\n",
    "                kind=\"box\", aspect=2, order=occ_list)\n",
    "g.set(ylim=(0, 175000))"
   ]
  },
  {
   "cell_type": "code",
   "execution_count": 41,
   "metadata": {},
   "outputs": [
    {
     "data": {
      "text/plain": [
       "<seaborn.axisgrid.FacetGrid at 0x16384881c08>"
      ]
     },
     "execution_count": 41,
     "metadata": {},
     "output_type": "execute_result"
    },
    {
     "data": {
      "image/png": "[encoded data removed]",
      "text/plain": [
       "<Figure size 906.375x288 with 1 Axes>"
      ]
     },
     "metadata": {
      "needs_background": "light"
     },
     "output_type": "display_data"
    }
   ],
   "source": [
    "g = sns.catplot(y=\"WAGP\", x=\"JOB\", data=occ_test, kind=\"box\",\n",
    "                height=4, aspect=3, hue=\"SEX\", order=occ_list)\n",
    "g.set(ylim=(0, 175000))"
   ]
  },
  {
   "cell_type": "markdown",
   "metadata": {},
   "source": [
    "## 3.4. State Observations\n",
    "There was an interesting variable within the data stating the state which the person worked in. While it would have been simple if there was a trend in regions, but as observed, there is only a slight difference between each state due to the variation between each state. It still isn't clear what each stat's wage is, and it's difficult to extract the details needed to separate out each value.\n",
    "\n",
    "Therefore, the general regions were used for each value, split between Northeast/Outlying Regions, West, Midwest, and South. While not too distinct, this separation should be sufficient."
   ]
  },
  {
   "cell_type": "code",
   "execution_count": 42,
   "metadata": {},
   "outputs": [],
   "source": [
    "int_state_sort = occ_test.groupby('POWSP').median().reset_index()\n",
    "int_state_sort['reg_code'] = ['3', '4', '4', '3', '4', '4', '1', '3', '3', '3',\n",
    "                              '3', '4', '4', '2', '2', '2', '2', '3', '3', '1',\n",
    "                              '3', '1', '2', '2', '3', '2', '4', '2', '4', '1',\n",
    "                              '1', '4', '1', '3', '2', '2', '3', '4', '1', '1',\n",
    "                              '3', '2', '3', '3', '4', '1', '3', '4', '3', '2',\n",
    "                              '4', '5', '5', '5', '5', '5', '5', '5', '5','5']\n",
    "int_state_sort = int_state_sort.sort_values(by=['WAGP'])\n",
    "int_state_list = int_state_sort['POWSP'].tolist()"
   ]
  },
  {
   "cell_type": "code",
   "execution_count": 43,
   "metadata": {},
   "outputs": [],
   "source": [
    "reg_sort = int_state_sort.sort_values(by=['reg_code'])\n",
    "reg_list = reg_sort['POWSP'].tolist()"
   ]
  },
  {
   "cell_type": "code",
   "execution_count": 44,
   "metadata": {},
   "outputs": [
    {
     "name": "stdout",
     "output_type": "stream",
     "text": [
      "[50, 9, 25, 34, 36, 44, 42, 23, 33, 38, 55, 39, 18, 20, 27, 26, 29, 31, 46, 17, 19, 10, 48, 51, 24, 24, 28, 45, 5, 22, 40, 12, 21, 54, 37, 1, 47, 13, 35, 30, 53, 16, 4, 2, 8, 56, 41, 49, 15, 32, 6, 25, 26, 26, 34, 21, 48, 26, 32, 27]\n"
     ]
    }
   ],
   "source": [
    "ST_list = reg_sort['ST'].tolist()\n",
    "print(ST_list)"
   ]
  },
  {
   "cell_type": "code",
   "execution_count": 45,
   "metadata": {
    "scrolled": true
   },
   "outputs": [
    {
     "name": "stdout",
     "output_type": "stream",
     "text": [
      "[50.0, 9.0, 25.0, 34.0, 36.0, 44.0, 42.0, 23.0, 33.0, 38.0, 55.0, 39.0, 18.0, 20.0, 27.0, 26.0, 29.0, 31.0, 46.0, 17.0, 19.0, 10.0, 48.0, 51.0, 11.0, 24.0, 28.0, 45.0, 5.0, 22.0, 40.0, 12.0, 21.0, 54.0, 37.0, 1.0, 47.0, 13.0, 35.0, 30.0, 53.0, 16.0, 4.0, 2.0, 8.0, 56.0, 41.0, 49.0, 15.0, 32.0, 6.0, 166.0, 399.0, 555.0, 72.0, 251.0, 303.0, 213.0, 254.0, 301.0]\n"
     ]
    }
   ],
   "source": [
    "print(reg_list)"
   ]
  },
  {
   "cell_type": "code",
   "execution_count": 46,
   "metadata": {},
   "outputs": [
    {
     "data": {
      "text/plain": [
       "<seaborn.axisgrid.FacetGrid at 0x1638da68388>"
      ]
     },
     "execution_count": 46,
     "metadata": {},
     "output_type": "execute_result"
    },
    {
     "data": {
      "image/png": "[encoded data removed]",
      "text/plain": [
       "<Figure size 1493.62x360 with 1 Axes>"
      ]
     },
     "metadata": {
      "needs_background": "light"
     },
     "output_type": "display_data"
    }
   ],
   "source": [
    "g = sns.catplot(y=\"WAGP\", x=\"POWSP\", hue='reg_code',\n",
    "                data=reg_sort, kind=\"bar\", aspect=4, order=reg_list)\n",
    "g.set(ylim=(0, 175000))"
   ]
  },
  {
   "cell_type": "code",
   "execution_count": 47,
   "metadata": {},
   "outputs": [
    {
     "data": {
      "text/html": [
       "<div>\n",
       "<style scoped>\n",
       "    .dataframe tbody tr th:only-of-type {\n",
       "        vertical-align: middle;\n",
       "    }\n",
       "\n",
       "    .dataframe tbody tr th {\n",
       "        vertical-align: top;\n",
       "    }\n",
       "\n",
       "    .dataframe thead th {\n",
       "        text-align: right;\n",
       "    }\n",
       "</style>\n",
       "<table border=\"1\" class=\"dataframe\">\n",
       "  <thead>\n",
       "    <tr style=\"text-align: right;\">\n",
       "      <th></th>\n",
       "      <th>POWSP</th>\n",
       "      <th>ST</th>\n",
       "      <th>AGEP</th>\n",
       "      <th>SCHL</th>\n",
       "      <th>SEX</th>\n",
       "      <th>WAGP</th>\n",
       "      <th>WKHP</th>\n",
       "      <th>WKW</th>\n",
       "      <th>OCCP</th>\n",
       "      <th>RAC1P</th>\n",
       "      <th>AGEB</th>\n",
       "      <th>EDU</th>\n",
       "      <th>JOB</th>\n",
       "    </tr>\n",
       "    <tr>\n",
       "      <th>reg_code</th>\n",
       "      <th></th>\n",
       "      <th></th>\n",
       "      <th></th>\n",
       "      <th></th>\n",
       "      <th></th>\n",
       "      <th></th>\n",
       "      <th></th>\n",
       "      <th></th>\n",
       "      <th></th>\n",
       "      <th></th>\n",
       "      <th></th>\n",
       "      <th></th>\n",
       "      <th></th>\n",
       "    </tr>\n",
       "  </thead>\n",
       "  <tbody>\n",
       "    <tr>\n",
       "      <td>1</td>\n",
       "      <td>34.0</td>\n",
       "      <td>34</td>\n",
       "      <td>45</td>\n",
       "      <td>20.0</td>\n",
       "      <td>1</td>\n",
       "      <td>50000.0</td>\n",
       "      <td>40.0</td>\n",
       "      <td>1.0</td>\n",
       "      <td>3930.0</td>\n",
       "      <td>1</td>\n",
       "      <td>3</td>\n",
       "      <td>2</td>\n",
       "      <td>2</td>\n",
       "    </tr>\n",
       "    <tr>\n",
       "      <td>2</td>\n",
       "      <td>28.0</td>\n",
       "      <td>28</td>\n",
       "      <td>45</td>\n",
       "      <td>19.0</td>\n",
       "      <td>1</td>\n",
       "      <td>42700.0</td>\n",
       "      <td>40.0</td>\n",
       "      <td>1.0</td>\n",
       "      <td>4700.0</td>\n",
       "      <td>1</td>\n",
       "      <td>3</td>\n",
       "      <td>2</td>\n",
       "      <td>2</td>\n",
       "    </tr>\n",
       "    <tr>\n",
       "      <td>3</td>\n",
       "      <td>24.0</td>\n",
       "      <td>24</td>\n",
       "      <td>44</td>\n",
       "      <td>19.0</td>\n",
       "      <td>1</td>\n",
       "      <td>41000.0</td>\n",
       "      <td>40.0</td>\n",
       "      <td>1.0</td>\n",
       "      <td>4520.0</td>\n",
       "      <td>1</td>\n",
       "      <td>3</td>\n",
       "      <td>2</td>\n",
       "      <td>2</td>\n",
       "    </tr>\n",
       "    <tr>\n",
       "      <td>4</td>\n",
       "      <td>30.0</td>\n",
       "      <td>30</td>\n",
       "      <td>44</td>\n",
       "      <td>19.0</td>\n",
       "      <td>1</td>\n",
       "      <td>46000.0</td>\n",
       "      <td>40.0</td>\n",
       "      <td>1.0</td>\n",
       "      <td>4220.0</td>\n",
       "      <td>1</td>\n",
       "      <td>3</td>\n",
       "      <td>2</td>\n",
       "      <td>2</td>\n",
       "    </tr>\n",
       "    <tr>\n",
       "      <td>5</td>\n",
       "      <td>254.0</td>\n",
       "      <td>26</td>\n",
       "      <td>46</td>\n",
       "      <td>20.0</td>\n",
       "      <td>1</td>\n",
       "      <td>70000.0</td>\n",
       "      <td>45.0</td>\n",
       "      <td>1.0</td>\n",
       "      <td>2640.0</td>\n",
       "      <td>1</td>\n",
       "      <td>4</td>\n",
       "      <td>2</td>\n",
       "      <td>3</td>\n",
       "    </tr>\n",
       "  </tbody>\n",
       "</table>\n",
       "</div>"
      ],
      "text/plain": [
       "          POWSP  ST  AGEP  SCHL  SEX     WAGP  WKHP  WKW    OCCP  RAC1P  AGEB  \\\n",
       "reg_code                                                                        \n",
       "1          34.0  34    45  20.0    1  50000.0  40.0  1.0  3930.0      1     3   \n",
       "2          28.0  28    45  19.0    1  42700.0  40.0  1.0  4700.0      1     3   \n",
       "3          24.0  24    44  19.0    1  41000.0  40.0  1.0  4520.0      1     3   \n",
       "4          30.0  30    44  19.0    1  46000.0  40.0  1.0  4220.0      1     3   \n",
       "5         254.0  26    46  20.0    1  70000.0  45.0  1.0  2640.0      1     4   \n",
       "\n",
       "          EDU  JOB  \n",
       "reg_code            \n",
       "1           2    2  \n",
       "2           2    2  \n",
       "3           2    2  \n",
       "4           2    2  \n",
       "5           2    3  "
      ]
     },
     "execution_count": 47,
     "metadata": {},
     "output_type": "execute_result"
    }
   ],
   "source": [
    "int_state_sort.groupby('reg_code').median()"
   ]
  },
  {
   "cell_type": "code",
   "execution_count": 48,
   "metadata": {
    "scrolled": true
   },
   "outputs": [
    {
     "data": {
      "text/plain": [
       "<seaborn.axisgrid.FacetGrid at 0x163939d0448>"
      ]
     },
     "execution_count": 48,
     "metadata": {},
     "output_type": "execute_result"
    },
    {
     "data": {
      "image/png": "[encoded data removed]",
      "text/plain": [
       "<Figure size 1440x360 with 1 Axes>"
      ]
     },
     "metadata": {
      "needs_background": "light"
     },
     "output_type": "display_data"
    }
   ],
   "source": [
    "g = sns.catplot(y=\"WAGP\", x=\"POWSP\", data=occ_test,\n",
    "                kind=\"box\", aspect=4, order=int_state_list)\n",
    "g.set(ylim=(0, 175000))"
   ]
  },
  {
   "cell_type": "code",
   "execution_count": 49,
   "metadata": {},
   "outputs": [
    {
     "name": "stdout",
     "output_type": "stream",
     "text": [
      "[28.0, 5.0, 46.0, 40.0, 35.0, 54.0, 31.0, 30.0, 29.0, 45.0, 16.0, 47.0, 19.0, 1.0, 37.0, 23.0, 21.0, 12.0, 20.0, 18.0, 22.0, 32.0, 55.0, 38.0, 4.0, 13.0, 50.0, 42.0, 39.0, 26.0, 15.0, 48.0, 49.0, 27.0, 41.0, 56.0, 33.0, 17.0, 8.0, 44.0, 2.0, 6.0, 36.0, 10.0, 53.0, 51.0, 213.0, 34.0, 24.0, 25.0, 9.0, 72.0, 303.0, 251.0, 254.0, 555.0, 399.0, 166.0, 11.0, 301.0]\n"
     ]
    }
   ],
   "source": [
    "print(int_state_list)"
   ]
  },
  {
   "cell_type": "code",
   "execution_count": 50,
   "metadata": {},
   "outputs": [],
   "source": [
    "def state_split(df):\n",
    "    # split into higher paying regions (4 = Northeast/Outlying Regions, 3= West Coast, 2 = Midwest, 1 = South)\n",
    "    df['STSP'] = df['POWSP'].map(lambda y: 4 if y in [50, 25.0, 9.0, 34.0, 36.0, 42.0, 44.0, 23.0, 33.0, 303.0, 166.0, 72.0, 251.0, 399.0, 301.0, 555.0, 254.0]\n",
    "                                  else 3 if y in [35.0, 30.0, 53.0, 16.0, 4.0, 2.0, 8.0, 56.0, 41.0, 49.0, 15.0, 32.0, 6.0]\n",
    "                                  else 2 if y in [38.0, 55.0, 39.0, 18.0, 20.0, 27.0, 26.0, 29.0, 31.0, 46.0, 17.0, 19.0]\n",
    "                                  else 1 if y in [10.0, 48.0, 51.0, 11.0, 24.0, 28.0, 45.0, 5.0, 22.0, 40.0, 12.0, 21.0, 54.0, 37.0, 1.0, 47.0, 13.0]\n",
    "                                 else 5)\n",
    "    test = df.loc[df['STSP'] == 5].copy()\n",
    "    df = df.loc[df['STSP'] != 5].copy()\n",
    "    test['STSP'] = test['ST'].map(lambda y: 4 if y in [50, 25.0, 9.0, 34.0, 36.0, 42.0, 44.0, 23.0, 33.0, 303.0, 166.0, 72.0, 251.0, 399.0, 301.0, 555.0, 254.0]\n",
    "                                  else 3 if y in [35.0, 30.0, 53.0, 16.0, 4.0, 2.0, 8.0, 56.0, 41.0, 49.0, 15.0, 32.0, 6.0]\n",
    "                                  else 2 if y in [38.0, 55.0, 39.0, 18.0, 20.0, 27.0, 26.0, 29.0, 31.0, 46.0, 17.0, 19.0]\n",
    "                                  else 1 if y in [10.0, 48.0, 51.0, 11.0, 24.0, 28.0, 45.0, 5.0, 22.0, 40.0, 12.0, 21.0, 54.0, 37.0, 1.0, 47.0, 13.0]\n",
    "                                  else 10)\n",
    "    df = pd.concat([df, test])\n",
    "    return df"
   ]
  },
  {
   "cell_type": "code",
   "execution_count": 51,
   "metadata": {},
   "outputs": [
    {
     "name": "stdout",
     "output_type": "stream",
     "text": [
      "State : [3 2 1 4]\n"
     ]
    },
    {
     "data": {
      "text/plain": [
       "1    1960356\n",
       "3    1177718\n",
       "2    1159869\n",
       "4     918685\n",
       "Name: STSP, dtype: int64"
      ]
     },
     "execution_count": 51,
     "metadata": {},
     "output_type": "execute_result"
    }
   ],
   "source": [
    "state_test = occ_test.copy()\n",
    "state_test = state_split(state_test)\n",
    "print(\"State :\", state_test.STSP.unique())\n",
    "state_test['STSP'].value_counts()"
   ]
  },
  {
   "cell_type": "code",
   "execution_count": 52,
   "metadata": {},
   "outputs": [],
   "source": [
    "state_sort = state_test.groupby(\n",
    "    'STSP').median().sort_values(by=['WAGP']).reset_index()\n",
    "state_list = state_sort['STSP'].tolist()"
   ]
  },
  {
   "cell_type": "code",
   "execution_count": 53,
   "metadata": {},
   "outputs": [
    {
     "data": {
      "text/plain": [
       "<seaborn.axisgrid.FacetGrid at 0x16393b54f08>"
      ]
     },
     "execution_count": 53,
     "metadata": {},
     "output_type": "execute_result"
    },
    {
     "data": {
      "image/png": "[encoded data removed]",
      "text/plain": [
       "<Figure size 720x360 with 1 Axes>"
      ]
     },
     "metadata": {
      "needs_background": "light"
     },
     "output_type": "display_data"
    }
   ],
   "source": [
    "g = sns.catplot(y=\"WAGP\", x=\"STSP\", data=state_test,\n",
    "                kind=\"box\", aspect=2, order=state_list)\n",
    "g.set(ylim=(0, 175000))"
   ]
  },
  {
   "cell_type": "code",
   "execution_count": 54,
   "metadata": {},
   "outputs": [
    {
     "data": {
      "text/plain": [
       "<seaborn.axisgrid.FacetGrid at 0x16384125b88>"
      ]
     },
     "execution_count": 54,
     "metadata": {},
     "output_type": "execute_result"
    },
    {
     "data": {
      "image/png": "[encoded data removed]",
      "text/plain": [
       "<Figure size 906.375x288 with 1 Axes>"
      ]
     },
     "metadata": {
      "needs_background": "light"
     },
     "output_type": "display_data"
    }
   ],
   "source": [
    "g = sns.catplot(y=\"WAGP\", x=\"STSP\", data=state_test, kind=\"box\",\n",
    "                height=4, aspect=3, hue=\"SEX\", order=state_list)\n",
    "g.set(ylim=(0, 175000))"
   ]
  },
  {
   "cell_type": "markdown",
   "metadata": {},
   "source": [
    "## 3.5. Race\n",
    "\n",
    "Race was a difficult subject to separate amongst values due to the majority of those sampled as of white decent. The general split was between Whites, Asians, Blacks. and Others."
   ]
  },
  {
   "cell_type": "code",
   "execution_count": 55,
   "metadata": {
    "scrolled": true
   },
   "outputs": [
    {
     "data": {
      "text/plain": [
       "<seaborn.axisgrid.FacetGrid at 0x16393cb5ec8>"
      ]
     },
     "execution_count": 55,
     "metadata": {},
     "output_type": "execute_result"
    },
    {
     "data": {
      "image/png": "[encoded data removed]",
      "text/plain": [
       "<Figure size 1440x360 with 1 Axes>"
      ]
     },
     "metadata": {
      "needs_background": "light"
     },
     "output_type": "display_data"
    }
   ],
   "source": [
    "g = sns.catplot(y=\"WAGP\", x=\"RAC1P\", data=state_test, kind=\"box\", aspect=4)\n",
    "g.set(ylim=(0, 175000))"
   ]
  },
  {
   "cell_type": "code",
   "execution_count": 56,
   "metadata": {},
   "outputs": [
    {
     "data": {
      "text/plain": [
       "1    4130212\n",
       "2     468840\n",
       "6     283418\n",
       "8     184614\n",
       "9      98429\n",
       "3      34664\n",
       "7       8488\n",
       "5       6502\n",
       "4       1461\n",
       "Name: RAC1P, dtype: int64"
      ]
     },
     "execution_count": 56,
     "metadata": {},
     "output_type": "execute_result"
    }
   ],
   "source": [
    "state_test['RAC1P'].value_counts()"
   ]
  },
  {
   "cell_type": "code",
   "execution_count": 57,
   "metadata": {},
   "outputs": [],
   "source": [
    "def int_race_split(df):\n",
    "    # split into occupational industries\n",
    "    df['RACE'] = df['RAC1P'].map(lambda y: \"WHT\" if y == 1  # white\n",
    "                                 else \"BLK\" if y == 2  # black\n",
    "                                 else \"NTV\" if y <= 5  # native\n",
    "                                 else \"ASN\" if y == 6  # asian\n",
    "                                 else \"NTV\" if y == 7  # native\n",
    "                                 else \"MIX\" if y <= 9  # other\n",
    "                                 else 4)\n",
    "\n",
    "    return df"
   ]
  },
  {
   "cell_type": "code",
   "execution_count": 58,
   "metadata": {},
   "outputs": [
    {
     "name": "stdout",
     "output_type": "stream",
     "text": [
      "RACE : ['WHT' 'NTV' 'MIX' 'ASN' 'BLK']\n"
     ]
    }
   ],
   "source": [
    "int_race_test = state_test.copy()\n",
    "int_race_test = int_race_split(int_race_test)\n",
    "print(\"RACE :\", int_race_test.RACE.unique())"
   ]
  },
  {
   "cell_type": "code",
   "execution_count": 59,
   "metadata": {},
   "outputs": [
    {
     "data": {
      "text/plain": [
       "WHT    4130212\n",
       "BLK     468840\n",
       "ASN     283418\n",
       "MIX     283043\n",
       "NTV      51115\n",
       "Name: RACE, dtype: int64"
      ]
     },
     "execution_count": 59,
     "metadata": {},
     "output_type": "execute_result"
    }
   ],
   "source": [
    "int_race_test['RACE'].value_counts()"
   ]
  },
  {
   "cell_type": "code",
   "execution_count": 60,
   "metadata": {
    "scrolled": false
   },
   "outputs": [
    {
     "data": {
      "text/plain": [
       "<seaborn.axisgrid.FacetGrid at 0x1639ce47b88>"
      ]
     },
     "execution_count": 60,
     "metadata": {},
     "output_type": "execute_result"
    },
    {
     "data": {
      "image/png": "[encoded data removed]",
      "text/plain": [
       "<Figure size 1080x360 with 1 Axes>"
      ]
     },
     "metadata": {
      "needs_background": "light"
     },
     "output_type": "display_data"
    }
   ],
   "source": [
    "int_race_sort = int_race_test.groupby(\n",
    "    'RACE').median().sort_values(by=['WAGP']).reset_index()\n",
    "int_race_list = int_race_sort['RACE'].tolist()\n",
    "g = sns.catplot(y=\"WAGP\", x=\"RACE\", data=int_race_test,\n",
    "                kind=\"box\", aspect=3, order=int_race_list)\n",
    "g.set(ylim=(0, 175000))"
   ]
  },
  {
   "cell_type": "code",
   "execution_count": 61,
   "metadata": {},
   "outputs": [
    {
     "data": {
      "text/plain": [
       "<seaborn.axisgrid.FacetGrid at 0x1662fdce548>"
      ]
     },
     "execution_count": 61,
     "metadata": {},
     "output_type": "execute_result"
    },
    {
     "data": {
      "image/png": "[encoded data removed]",
      "text/plain": [
       "<Figure size 906.375x288 with 1 Axes>"
      ]
     },
     "metadata": {
      "needs_background": "light"
     },
     "output_type": "display_data"
    }
   ],
   "source": [
    "g = sns.catplot(y=\"WAGP\", x=\"RACE\", data=int_race_test, kind=\"box\",\n",
    "                height=4, aspect=3, hue=\"SEX\", order =int_race_list)\n",
    "g.set(ylim=(0, 175000))"
   ]
  },
  {
   "cell_type": "code",
   "execution_count": 62,
   "metadata": {},
   "outputs": [],
   "source": [
    "def race_split(df):\n",
    "    # split into occupational industries\n",
    "    df['RACE'] = df['RAC1P'].map(lambda y: 2 if y == 1  # white\n",
    "                                 else 1 if y == 2  # black\n",
    "                                 else 1 if y <= 5  # native\n",
    "                                 else 3 if y == 6  # asian\n",
    "                                 else 1 if y == 7  # native\n",
    "                                 else 1 if y <= 9  # other\n",
    "                                 else 4)\n",
    "\n",
    "    return df"
   ]
  },
  {
   "cell_type": "code",
   "execution_count": 63,
   "metadata": {},
   "outputs": [
    {
     "name": "stdout",
     "output_type": "stream",
     "text": [
      "RACE : [2 1 3]\n"
     ]
    }
   ],
   "source": [
    "race_test = state_test.copy()\n",
    "race_test = race_split(race_test)\n",
    "print(\"RACE :\", race_test.RACE.unique())"
   ]
  },
  {
   "cell_type": "code",
   "execution_count": 64,
   "metadata": {},
   "outputs": [
    {
     "data": {
      "text/plain": [
       "2    4130212\n",
       "1     802998\n",
       "3     283418\n",
       "Name: RACE, dtype: int64"
      ]
     },
     "execution_count": 64,
     "metadata": {},
     "output_type": "execute_result"
    }
   ],
   "source": [
    "race_test['RACE'].value_counts()"
   ]
  },
  {
   "cell_type": "code",
   "execution_count": 65,
   "metadata": {},
   "outputs": [
    {
     "data": {
      "text/plain": [
       "<seaborn.axisgrid.FacetGrid at 0x1639cfd0308>"
      ]
     },
     "execution_count": 65,
     "metadata": {},
     "output_type": "execute_result"
    },
    {
     "data": {
      "image/png": "[encoded data removed]",
      "text/plain": [
       "<Figure size 1080x360 with 1 Axes>"
      ]
     },
     "metadata": {
      "needs_background": "light"
     },
     "output_type": "display_data"
    }
   ],
   "source": [
    "race_sort = race_test.groupby('RACE').median(\n",
    ").sort_values(by=['WAGP']).reset_index()\n",
    "race_list = race_sort['RACE'].tolist()\n",
    "g = sns.catplot(y=\"WAGP\", x=\"RACE\", data=race_test,\n",
    "                kind=\"box\", aspect=3, order=race_list)\n",
    "g.set(ylim=(0, 175000))"
   ]
  },
  {
   "cell_type": "markdown",
   "metadata": {},
   "source": [
    "# 4. Dataframe Management\n",
    "## 4.1. Remove Columns\n",
    "With the data and feature mostly processed for all the values, the excess columns are removed to clean up the dataframes. The main columns to keep were those axis aimed to align upon, sex, age, education, race, region, and industry."
   ]
  },
  {
   "cell_type": "code",
   "execution_count": 66,
   "metadata": {
    "scrolled": true
   },
   "outputs": [
    {
     "data": {
      "text/plain": [
       "Index(['ST', 'AGEP', 'SCHL', 'SEX', 'WAGP', 'WKHP', 'WKW', 'OCCP', 'POWSP',\n",
       "       'RAC1P', 'AGEB', 'EDU', 'JOB', 'STSP', 'RACE'],\n",
       "      dtype='object')"
      ]
     },
     "execution_count": 66,
     "metadata": {},
     "output_type": "execute_result"
    }
   ],
   "source": [
    "race_test.columns"
   ]
  },
  {
   "cell_type": "code",
   "execution_count": 67,
   "metadata": {},
   "outputs": [
    {
     "data": {
      "text/html": [
       "<div>\n",
       "<style scoped>\n",
       "    .dataframe tbody tr th:only-of-type {\n",
       "        vertical-align: middle;\n",
       "    }\n",
       "\n",
       "    .dataframe tbody tr th {\n",
       "        vertical-align: top;\n",
       "    }\n",
       "\n",
       "    .dataframe thead th {\n",
       "        text-align: right;\n",
       "    }\n",
       "</style>\n",
       "<table border=\"1\" class=\"dataframe\">\n",
       "  <thead>\n",
       "    <tr style=\"text-align: right;\">\n",
       "      <th></th>\n",
       "      <th>ST</th>\n",
       "      <th>AGEP</th>\n",
       "      <th>SCHL</th>\n",
       "      <th>SEX</th>\n",
       "      <th>WAGP</th>\n",
       "      <th>WKHP</th>\n",
       "      <th>WKW</th>\n",
       "      <th>OCCP</th>\n",
       "      <th>POWSP</th>\n",
       "      <th>RAC1P</th>\n",
       "      <th>AGEB</th>\n",
       "      <th>EDU</th>\n",
       "      <th>JOB</th>\n",
       "      <th>STSP</th>\n",
       "      <th>RACE</th>\n",
       "    </tr>\n",
       "  </thead>\n",
       "  <tbody>\n",
       "    <tr>\n",
       "      <td>count</td>\n",
       "      <td>5.216628e+06</td>\n",
       "      <td>5.216628e+06</td>\n",
       "      <td>5.216628e+06</td>\n",
       "      <td>5.216628e+06</td>\n",
       "      <td>5.216628e+06</td>\n",
       "      <td>5.216628e+06</td>\n",
       "      <td>5.216628e+06</td>\n",
       "      <td>5.216628e+06</td>\n",
       "      <td>5.053287e+06</td>\n",
       "      <td>5.216628e+06</td>\n",
       "      <td>5.216628e+06</td>\n",
       "      <td>5.216628e+06</td>\n",
       "      <td>5.216628e+06</td>\n",
       "      <td>5.216628e+06</td>\n",
       "      <td>5.216628e+06</td>\n",
       "    </tr>\n",
       "    <tr>\n",
       "      <td>mean</td>\n",
       "      <td>2.792770e+01</td>\n",
       "      <td>4.367315e+01</td>\n",
       "      <td>1.875502e+01</td>\n",
       "      <td>1.423788e+00</td>\n",
       "      <td>5.470252e+04</td>\n",
       "      <td>4.449304e+01</td>\n",
       "      <td>1.106981e+00</td>\n",
       "      <td>4.127022e+03</td>\n",
       "      <td>2.808633e+01</td>\n",
       "      <td>1.789074e+00</td>\n",
       "      <td>3.075559e+00</td>\n",
       "      <td>2.247249e+00</td>\n",
       "      <td>2.437561e+00</td>\n",
       "      <td>2.202187e+00</td>\n",
       "      <td>1.900399e+00</td>\n",
       "    </tr>\n",
       "    <tr>\n",
       "      <td>std</td>\n",
       "      <td>1.603593e+01</td>\n",
       "      <td>1.221741e+01</td>\n",
       "      <td>3.174406e+00</td>\n",
       "      <td>4.941576e-01</td>\n",
       "      <td>3.347824e+04</td>\n",
       "      <td>7.893772e+00</td>\n",
       "      <td>4.297612e-01</td>\n",
       "      <td>2.790060e+03</td>\n",
       "      <td>1.803378e+01</td>\n",
       "      <td>1.968440e+00</td>\n",
       "      <td>9.792398e-01</td>\n",
       "      <td>1.112232e+00</td>\n",
       "      <td>1.124005e+00</td>\n",
       "      <td>1.124767e+00</td>\n",
       "      <td>4.453537e-01</td>\n",
       "    </tr>\n",
       "    <tr>\n",
       "      <td>min</td>\n",
       "      <td>1.000000e+00</td>\n",
       "      <td>1.800000e+01</td>\n",
       "      <td>1.000000e+00</td>\n",
       "      <td>1.000000e+00</td>\n",
       "      <td>1.250000e+04</td>\n",
       "      <td>4.000000e+01</td>\n",
       "      <td>1.000000e+00</td>\n",
       "      <td>1.000000e+01</td>\n",
       "      <td>1.000000e+00</td>\n",
       "      <td>1.000000e+00</td>\n",
       "      <td>1.000000e+00</td>\n",
       "      <td>1.000000e+00</td>\n",
       "      <td>1.000000e+00</td>\n",
       "      <td>1.000000e+00</td>\n",
       "      <td>1.000000e+00</td>\n",
       "    </tr>\n",
       "    <tr>\n",
       "      <td>25%</td>\n",
       "      <td>1.200000e+01</td>\n",
       "      <td>3.300000e+01</td>\n",
       "      <td>1.600000e+01</td>\n",
       "      <td>1.000000e+00</td>\n",
       "      <td>3.000000e+04</td>\n",
       "      <td>4.000000e+01</td>\n",
       "      <td>1.000000e+00</td>\n",
       "      <td>1.610000e+03</td>\n",
       "      <td>1.200000e+01</td>\n",
       "      <td>1.000000e+00</td>\n",
       "      <td>2.000000e+00</td>\n",
       "      <td>1.000000e+00</td>\n",
       "      <td>2.000000e+00</td>\n",
       "      <td>1.000000e+00</td>\n",
       "      <td>2.000000e+00</td>\n",
       "    </tr>\n",
       "    <tr>\n",
       "      <td>50%</td>\n",
       "      <td>2.700000e+01</td>\n",
       "      <td>4.400000e+01</td>\n",
       "      <td>1.900000e+01</td>\n",
       "      <td>1.000000e+00</td>\n",
       "      <td>4.500000e+04</td>\n",
       "      <td>4.000000e+01</td>\n",
       "      <td>1.000000e+00</td>\n",
       "      <td>4.220000e+03</td>\n",
       "      <td>2.700000e+01</td>\n",
       "      <td>1.000000e+00</td>\n",
       "      <td>3.000000e+00</td>\n",
       "      <td>2.000000e+00</td>\n",
       "      <td>2.000000e+00</td>\n",
       "      <td>2.000000e+00</td>\n",
       "      <td>2.000000e+00</td>\n",
       "    </tr>\n",
       "    <tr>\n",
       "      <td>75%</td>\n",
       "      <td>4.200000e+01</td>\n",
       "      <td>5.400000e+01</td>\n",
       "      <td>2.100000e+01</td>\n",
       "      <td>2.000000e+00</td>\n",
       "      <td>7.000000e+04</td>\n",
       "      <td>4.800000e+01</td>\n",
       "      <td>1.000000e+00</td>\n",
       "      <td>5.860000e+03</td>\n",
       "      <td>4.200000e+01</td>\n",
       "      <td>1.000000e+00</td>\n",
       "      <td>4.000000e+00</td>\n",
       "      <td>3.000000e+00</td>\n",
       "      <td>4.000000e+00</td>\n",
       "      <td>3.000000e+00</td>\n",
       "      <td>2.000000e+00</td>\n",
       "    </tr>\n",
       "    <tr>\n",
       "      <td>max</td>\n",
       "      <td>5.600000e+01</td>\n",
       "      <td>7.000000e+01</td>\n",
       "      <td>2.400000e+01</td>\n",
       "      <td>2.000000e+00</td>\n",
       "      <td>1.990000e+05</td>\n",
       "      <td>9.900000e+01</td>\n",
       "      <td>3.000000e+00</td>\n",
       "      <td>9.830000e+03</td>\n",
       "      <td>5.550000e+02</td>\n",
       "      <td>9.000000e+00</td>\n",
       "      <td>4.000000e+00</td>\n",
       "      <td>5.000000e+00</td>\n",
       "      <td>4.000000e+00</td>\n",
       "      <td>4.000000e+00</td>\n",
       "      <td>3.000000e+00</td>\n",
       "    </tr>\n",
       "  </tbody>\n",
       "</table>\n",
       "</div>"
      ],
      "text/plain": [
       "                 ST          AGEP          SCHL           SEX          WAGP  \\\n",
       "count  5.216628e+06  5.216628e+06  5.216628e+06  5.216628e+06  5.216628e+06   \n",
       "mean   2.792770e+01  4.367315e+01  1.875502e+01  1.423788e+00  5.470252e+04   \n",
       "std    1.603593e+01  1.221741e+01  3.174406e+00  4.941576e-01  3.347824e+04   \n",
       "min    1.000000e+00  1.800000e+01  1.000000e+00  1.000000e+00  1.250000e+04   \n",
       "25%    1.200000e+01  3.300000e+01  1.600000e+01  1.000000e+00  3.000000e+04   \n",
       "50%    2.700000e+01  4.400000e+01  1.900000e+01  1.000000e+00  4.500000e+04   \n",
       "75%    4.200000e+01  5.400000e+01  2.100000e+01  2.000000e+00  7.000000e+04   \n",
       "max    5.600000e+01  7.000000e+01  2.400000e+01  2.000000e+00  1.990000e+05   \n",
       "\n",
       "               WKHP           WKW          OCCP         POWSP         RAC1P  \\\n",
       "count  5.216628e+06  5.216628e+06  5.216628e+06  5.053287e+06  5.216628e+06   \n",
       "mean   4.449304e+01  1.106981e+00  4.127022e+03  2.808633e+01  1.789074e+00   \n",
       "std    7.893772e+00  4.297612e-01  2.790060e+03  1.803378e+01  1.968440e+00   \n",
       "min    4.000000e+01  1.000000e+00  1.000000e+01  1.000000e+00  1.000000e+00   \n",
       "25%    4.000000e+01  1.000000e+00  1.610000e+03  1.200000e+01  1.000000e+00   \n",
       "50%    4.000000e+01  1.000000e+00  4.220000e+03  2.700000e+01  1.000000e+00   \n",
       "75%    4.800000e+01  1.000000e+00  5.860000e+03  4.200000e+01  1.000000e+00   \n",
       "max    9.900000e+01  3.000000e+00  9.830000e+03  5.550000e+02  9.000000e+00   \n",
       "\n",
       "               AGEB           EDU           JOB          STSP          RACE  \n",
       "count  5.216628e+06  5.216628e+06  5.216628e+06  5.216628e+06  5.216628e+06  \n",
       "mean   3.075559e+00  2.247249e+00  2.437561e+00  2.202187e+00  1.900399e+00  \n",
       "std    9.792398e-01  1.112232e+00  1.124005e+00  1.124767e+00  4.453537e-01  \n",
       "min    1.000000e+00  1.000000e+00  1.000000e+00  1.000000e+00  1.000000e+00  \n",
       "25%    2.000000e+00  1.000000e+00  2.000000e+00  1.000000e+00  2.000000e+00  \n",
       "50%    3.000000e+00  2.000000e+00  2.000000e+00  2.000000e+00  2.000000e+00  \n",
       "75%    4.000000e+00  3.000000e+00  4.000000e+00  3.000000e+00  2.000000e+00  \n",
       "max    4.000000e+00  5.000000e+00  4.000000e+00  4.000000e+00  3.000000e+00  "
      ]
     },
     "execution_count": 67,
     "metadata": {},
     "output_type": "execute_result"
    }
   ],
   "source": [
    "race_test.describe(include='all')"
   ]
  },
  {
   "cell_type": "code",
   "execution_count": 68,
   "metadata": {},
   "outputs": [],
   "source": [
    "def remove_col(df):\n",
    "    remove_cols = ['SCHL', 'WKHP', 'WKW',\n",
    "                   'OCCP', 'POWSP', 'RAC1P', 'AGEP', 'ST']\n",
    "    df = df.drop(remove_cols, axis=1)\n",
    "    return df"
   ]
  },
  {
   "cell_type": "code",
   "execution_count": 69,
   "metadata": {},
   "outputs": [
    {
     "data": {
      "text/html": [
       "<div>\n",
       "<style scoped>\n",
       "    .dataframe tbody tr th:only-of-type {\n",
       "        vertical-align: middle;\n",
       "    }\n",
       "\n",
       "    .dataframe tbody tr th {\n",
       "        vertical-align: top;\n",
       "    }\n",
       "\n",
       "    .dataframe thead th {\n",
       "        text-align: right;\n",
       "    }\n",
       "</style>\n",
       "<table border=\"1\" class=\"dataframe\">\n",
       "  <thead>\n",
       "    <tr style=\"text-align: right;\">\n",
       "      <th></th>\n",
       "      <th>SEX</th>\n",
       "      <th>WAGP</th>\n",
       "      <th>AGEB</th>\n",
       "      <th>EDU</th>\n",
       "      <th>JOB</th>\n",
       "      <th>STSP</th>\n",
       "      <th>RACE</th>\n",
       "    </tr>\n",
       "  </thead>\n",
       "  <tbody>\n",
       "    <tr>\n",
       "      <td>count</td>\n",
       "      <td>5.216628e+06</td>\n",
       "      <td>5.216628e+06</td>\n",
       "      <td>5.216628e+06</td>\n",
       "      <td>5.216628e+06</td>\n",
       "      <td>5.216628e+06</td>\n",
       "      <td>5.216628e+06</td>\n",
       "      <td>5.216628e+06</td>\n",
       "    </tr>\n",
       "    <tr>\n",
       "      <td>mean</td>\n",
       "      <td>1.423788e+00</td>\n",
       "      <td>5.470252e+04</td>\n",
       "      <td>3.075559e+00</td>\n",
       "      <td>2.247249e+00</td>\n",
       "      <td>2.437561e+00</td>\n",
       "      <td>2.202187e+00</td>\n",
       "      <td>1.900399e+00</td>\n",
       "    </tr>\n",
       "    <tr>\n",
       "      <td>std</td>\n",
       "      <td>4.941576e-01</td>\n",
       "      <td>3.347824e+04</td>\n",
       "      <td>9.792398e-01</td>\n",
       "      <td>1.112232e+00</td>\n",
       "      <td>1.124005e+00</td>\n",
       "      <td>1.124767e+00</td>\n",
       "      <td>4.453537e-01</td>\n",
       "    </tr>\n",
       "    <tr>\n",
       "      <td>min</td>\n",
       "      <td>1.000000e+00</td>\n",
       "      <td>1.250000e+04</td>\n",
       "      <td>1.000000e+00</td>\n",
       "      <td>1.000000e+00</td>\n",
       "      <td>1.000000e+00</td>\n",
       "      <td>1.000000e+00</td>\n",
       "      <td>1.000000e+00</td>\n",
       "    </tr>\n",
       "    <tr>\n",
       "      <td>25%</td>\n",
       "      <td>1.000000e+00</td>\n",
       "      <td>3.000000e+04</td>\n",
       "      <td>2.000000e+00</td>\n",
       "      <td>1.000000e+00</td>\n",
       "      <td>2.000000e+00</td>\n",
       "      <td>1.000000e+00</td>\n",
       "      <td>2.000000e+00</td>\n",
       "    </tr>\n",
       "    <tr>\n",
       "      <td>50%</td>\n",
       "      <td>1.000000e+00</td>\n",
       "      <td>4.500000e+04</td>\n",
       "      <td>3.000000e+00</td>\n",
       "      <td>2.000000e+00</td>\n",
       "      <td>2.000000e+00</td>\n",
       "      <td>2.000000e+00</td>\n",
       "      <td>2.000000e+00</td>\n",
       "    </tr>\n",
       "    <tr>\n",
       "      <td>75%</td>\n",
       "      <td>2.000000e+00</td>\n",
       "      <td>7.000000e+04</td>\n",
       "      <td>4.000000e+00</td>\n",
       "      <td>3.000000e+00</td>\n",
       "      <td>4.000000e+00</td>\n",
       "      <td>3.000000e+00</td>\n",
       "      <td>2.000000e+00</td>\n",
       "    </tr>\n",
       "    <tr>\n",
       "      <td>max</td>\n",
       "      <td>2.000000e+00</td>\n",
       "      <td>1.990000e+05</td>\n",
       "      <td>4.000000e+00</td>\n",
       "      <td>5.000000e+00</td>\n",
       "      <td>4.000000e+00</td>\n",
       "      <td>4.000000e+00</td>\n",
       "      <td>3.000000e+00</td>\n",
       "    </tr>\n",
       "  </tbody>\n",
       "</table>\n",
       "</div>"
      ],
      "text/plain": [
       "                SEX          WAGP          AGEB           EDU           JOB  \\\n",
       "count  5.216628e+06  5.216628e+06  5.216628e+06  5.216628e+06  5.216628e+06   \n",
       "mean   1.423788e+00  5.470252e+04  3.075559e+00  2.247249e+00  2.437561e+00   \n",
       "std    4.941576e-01  3.347824e+04  9.792398e-01  1.112232e+00  1.124005e+00   \n",
       "min    1.000000e+00  1.250000e+04  1.000000e+00  1.000000e+00  1.000000e+00   \n",
       "25%    1.000000e+00  3.000000e+04  2.000000e+00  1.000000e+00  2.000000e+00   \n",
       "50%    1.000000e+00  4.500000e+04  3.000000e+00  2.000000e+00  2.000000e+00   \n",
       "75%    2.000000e+00  7.000000e+04  4.000000e+00  3.000000e+00  4.000000e+00   \n",
       "max    2.000000e+00  1.990000e+05  4.000000e+00  5.000000e+00  4.000000e+00   \n",
       "\n",
       "               STSP          RACE  \n",
       "count  5.216628e+06  5.216628e+06  \n",
       "mean   2.202187e+00  1.900399e+00  \n",
       "std    1.124767e+00  4.453537e-01  \n",
       "min    1.000000e+00  1.000000e+00  \n",
       "25%    1.000000e+00  2.000000e+00  \n",
       "50%    2.000000e+00  2.000000e+00  \n",
       "75%    3.000000e+00  2.000000e+00  \n",
       "max    4.000000e+00  3.000000e+00  "
      ]
     },
     "execution_count": 69,
     "metadata": {},
     "output_type": "execute_result"
    }
   ],
   "source": [
    "remove_test = race_test.copy()\n",
    "remove_test = remove_col(remove_test)\n",
    "remove_test.describe(include='all')"
   ]
  },
  {
   "cell_type": "markdown",
   "metadata": {},
   "source": [
    "## 4.2. OHE Columns\n",
    "While it was ultimately decided that using OHE was not needed for the purposes of this model, but this section is showing how this would be achieved and implemented into the workflow. It works for the purposes of OHE each column and can be easily implemented."
   ]
  },
  {
   "cell_type": "code",
   "execution_count": 70,
   "metadata": {},
   "outputs": [],
   "source": [
    "def OHE_cat(df):\n",
    "    OH_encoder = OneHotEncoder(handle_unknown='ignore', sparse=False)\n",
    "    cat_col = [i for i in df.columns.tolist() if i not in ['WAGP']]\n",
    "    OH_cols_train = pd.DataFrame(OH_encoder.fit_transform(df[cat_col]))\n",
    "    OH_cols_train.index = df.index\n",
    "    df = pd.concat([df, OH_cols_train], axis=1)\n",
    "    df.drop(cat_col, axis=1, inplace=True)\n",
    "    return df"
   ]
  },
  {
   "cell_type": "code",
   "execution_count": 71,
   "metadata": {},
   "outputs": [
    {
     "data": {
      "text/html": [
       "<div>\n",
       "<style scoped>\n",
       "    .dataframe tbody tr th:only-of-type {\n",
       "        vertical-align: middle;\n",
       "    }\n",
       "\n",
       "    .dataframe tbody tr th {\n",
       "        vertical-align: top;\n",
       "    }\n",
       "\n",
       "    .dataframe thead th {\n",
       "        text-align: right;\n",
       "    }\n",
       "</style>\n",
       "<table border=\"1\" class=\"dataframe\">\n",
       "  <thead>\n",
       "    <tr style=\"text-align: right;\">\n",
       "      <th></th>\n",
       "      <th>WAGP</th>\n",
       "      <th>0</th>\n",
       "      <th>1</th>\n",
       "      <th>2</th>\n",
       "      <th>3</th>\n",
       "      <th>4</th>\n",
       "      <th>5</th>\n",
       "      <th>6</th>\n",
       "      <th>7</th>\n",
       "      <th>8</th>\n",
       "      <th>...</th>\n",
       "      <th>12</th>\n",
       "      <th>13</th>\n",
       "      <th>14</th>\n",
       "      <th>15</th>\n",
       "      <th>16</th>\n",
       "      <th>17</th>\n",
       "      <th>18</th>\n",
       "      <th>19</th>\n",
       "      <th>20</th>\n",
       "      <th>21</th>\n",
       "    </tr>\n",
       "  </thead>\n",
       "  <tbody>\n",
       "    <tr>\n",
       "      <td>count</td>\n",
       "      <td>5.216628e+06</td>\n",
       "      <td>5.216628e+06</td>\n",
       "      <td>5.216628e+06</td>\n",
       "      <td>5.216628e+06</td>\n",
       "      <td>5.216628e+06</td>\n",
       "      <td>5.216628e+06</td>\n",
       "      <td>5.216628e+06</td>\n",
       "      <td>5.216628e+06</td>\n",
       "      <td>5.216628e+06</td>\n",
       "      <td>5.216628e+06</td>\n",
       "      <td>...</td>\n",
       "      <td>5.216628e+06</td>\n",
       "      <td>5.216628e+06</td>\n",
       "      <td>5.216628e+06</td>\n",
       "      <td>5.216628e+06</td>\n",
       "      <td>5.216628e+06</td>\n",
       "      <td>5.216628e+06</td>\n",
       "      <td>5.216628e+06</td>\n",
       "      <td>5.216628e+06</td>\n",
       "      <td>5.216628e+06</td>\n",
       "      <td>5.216628e+06</td>\n",
       "    </tr>\n",
       "    <tr>\n",
       "      <td>mean</td>\n",
       "      <td>5.470252e+04</td>\n",
       "      <td>5.762124e-01</td>\n",
       "      <td>4.237876e-01</td>\n",
       "      <td>7.416247e-02</td>\n",
       "      <td>2.220431e-01</td>\n",
       "      <td>2.578679e-01</td>\n",
       "      <td>4.459266e-01</td>\n",
       "      <td>3.088202e-01</td>\n",
       "      <td>3.140398e-01</td>\n",
       "      <td>2.359329e-01</td>\n",
       "      <td>...</td>\n",
       "      <td>3.281637e-01</td>\n",
       "      <td>1.631935e-01</td>\n",
       "      <td>2.610035e-01</td>\n",
       "      <td>3.757899e-01</td>\n",
       "      <td>2.223408e-01</td>\n",
       "      <td>2.257623e-01</td>\n",
       "      <td>1.761071e-01</td>\n",
       "      <td>1.539305e-01</td>\n",
       "      <td>7.917398e-01</td>\n",
       "      <td>5.432973e-02</td>\n",
       "    </tr>\n",
       "    <tr>\n",
       "      <td>std</td>\n",
       "      <td>3.347824e+04</td>\n",
       "      <td>4.941576e-01</td>\n",
       "      <td>4.941576e-01</td>\n",
       "      <td>2.620351e-01</td>\n",
       "      <td>4.156200e-01</td>\n",
       "      <td>4.374610e-01</td>\n",
       "      <td>4.970675e-01</td>\n",
       "      <td>4.620068e-01</td>\n",
       "      <td>4.641324e-01</td>\n",
       "      <td>4.245805e-01</td>\n",
       "      <td>...</td>\n",
       "      <td>4.695448e-01</td>\n",
       "      <td>3.695422e-01</td>\n",
       "      <td>4.391818e-01</td>\n",
       "      <td>4.843262e-01</td>\n",
       "      <td>4.158189e-01</td>\n",
       "      <td>4.180834e-01</td>\n",
       "      <td>3.809113e-01</td>\n",
       "      <td>3.608821e-01</td>\n",
       "      <td>4.060639e-01</td>\n",
       "      <td>2.266672e-01</td>\n",
       "    </tr>\n",
       "    <tr>\n",
       "      <td>min</td>\n",
       "      <td>1.250000e+04</td>\n",
       "      <td>0.000000e+00</td>\n",
       "      <td>0.000000e+00</td>\n",
       "      <td>0.000000e+00</td>\n",
       "      <td>0.000000e+00</td>\n",
       "      <td>0.000000e+00</td>\n",
       "      <td>0.000000e+00</td>\n",
       "      <td>0.000000e+00</td>\n",
       "      <td>0.000000e+00</td>\n",
       "      <td>0.000000e+00</td>\n",
       "      <td>...</td>\n",
       "      <td>0.000000e+00</td>\n",
       "      <td>0.000000e+00</td>\n",
       "      <td>0.000000e+00</td>\n",
       "      <td>0.000000e+00</td>\n",
       "      <td>0.000000e+00</td>\n",
       "      <td>0.000000e+00</td>\n",
       "      <td>0.000000e+00</td>\n",
       "      <td>0.000000e+00</td>\n",
       "      <td>0.000000e+00</td>\n",
       "      <td>0.000000e+00</td>\n",
       "    </tr>\n",
       "    <tr>\n",
       "      <td>25%</td>\n",
       "      <td>3.000000e+04</td>\n",
       "      <td>0.000000e+00</td>\n",
       "      <td>0.000000e+00</td>\n",
       "      <td>0.000000e+00</td>\n",
       "      <td>0.000000e+00</td>\n",
       "      <td>0.000000e+00</td>\n",
       "      <td>0.000000e+00</td>\n",
       "      <td>0.000000e+00</td>\n",
       "      <td>0.000000e+00</td>\n",
       "      <td>0.000000e+00</td>\n",
       "      <td>...</td>\n",
       "      <td>0.000000e+00</td>\n",
       "      <td>0.000000e+00</td>\n",
       "      <td>0.000000e+00</td>\n",
       "      <td>0.000000e+00</td>\n",
       "      <td>0.000000e+00</td>\n",
       "      <td>0.000000e+00</td>\n",
       "      <td>0.000000e+00</td>\n",
       "      <td>0.000000e+00</td>\n",
       "      <td>1.000000e+00</td>\n",
       "      <td>0.000000e+00</td>\n",
       "    </tr>\n",
       "    <tr>\n",
       "      <td>50%</td>\n",
       "      <td>4.500000e+04</td>\n",
       "      <td>1.000000e+00</td>\n",
       "      <td>0.000000e+00</td>\n",
       "      <td>0.000000e+00</td>\n",
       "      <td>0.000000e+00</td>\n",
       "      <td>0.000000e+00</td>\n",
       "      <td>0.000000e+00</td>\n",
       "      <td>0.000000e+00</td>\n",
       "      <td>0.000000e+00</td>\n",
       "      <td>0.000000e+00</td>\n",
       "      <td>...</td>\n",
       "      <td>0.000000e+00</td>\n",
       "      <td>0.000000e+00</td>\n",
       "      <td>0.000000e+00</td>\n",
       "      <td>0.000000e+00</td>\n",
       "      <td>0.000000e+00</td>\n",
       "      <td>0.000000e+00</td>\n",
       "      <td>0.000000e+00</td>\n",
       "      <td>0.000000e+00</td>\n",
       "      <td>1.000000e+00</td>\n",
       "      <td>0.000000e+00</td>\n",
       "    </tr>\n",
       "    <tr>\n",
       "      <td>75%</td>\n",
       "      <td>7.000000e+04</td>\n",
       "      <td>1.000000e+00</td>\n",
       "      <td>1.000000e+00</td>\n",
       "      <td>0.000000e+00</td>\n",
       "      <td>0.000000e+00</td>\n",
       "      <td>1.000000e+00</td>\n",
       "      <td>1.000000e+00</td>\n",
       "      <td>1.000000e+00</td>\n",
       "      <td>1.000000e+00</td>\n",
       "      <td>0.000000e+00</td>\n",
       "      <td>...</td>\n",
       "      <td>1.000000e+00</td>\n",
       "      <td>0.000000e+00</td>\n",
       "      <td>1.000000e+00</td>\n",
       "      <td>1.000000e+00</td>\n",
       "      <td>0.000000e+00</td>\n",
       "      <td>0.000000e+00</td>\n",
       "      <td>0.000000e+00</td>\n",
       "      <td>0.000000e+00</td>\n",
       "      <td>1.000000e+00</td>\n",
       "      <td>0.000000e+00</td>\n",
       "    </tr>\n",
       "    <tr>\n",
       "      <td>max</td>\n",
       "      <td>1.990000e+05</td>\n",
       "      <td>1.000000e+00</td>\n",
       "      <td>1.000000e+00</td>\n",
       "      <td>1.000000e+00</td>\n",
       "      <td>1.000000e+00</td>\n",
       "      <td>1.000000e+00</td>\n",
       "      <td>1.000000e+00</td>\n",
       "      <td>1.000000e+00</td>\n",
       "      <td>1.000000e+00</td>\n",
       "      <td>1.000000e+00</td>\n",
       "      <td>...</td>\n",
       "      <td>1.000000e+00</td>\n",
       "      <td>1.000000e+00</td>\n",
       "      <td>1.000000e+00</td>\n",
       "      <td>1.000000e+00</td>\n",
       "      <td>1.000000e+00</td>\n",
       "      <td>1.000000e+00</td>\n",
       "      <td>1.000000e+00</td>\n",
       "      <td>1.000000e+00</td>\n",
       "      <td>1.000000e+00</td>\n",
       "      <td>1.000000e+00</td>\n",
       "    </tr>\n",
       "  </tbody>\n",
       "</table>\n",
       "<p>8 rows × 23 columns</p>\n",
       "</div>"
      ],
      "text/plain": [
       "               WAGP             0             1             2             3  \\\n",
       "count  5.216628e+06  5.216628e+06  5.216628e+06  5.216628e+06  5.216628e+06   \n",
       "mean   5.470252e+04  5.762124e-01  4.237876e-01  7.416247e-02  2.220431e-01   \n",
       "std    3.347824e+04  4.941576e-01  4.941576e-01  2.620351e-01  4.156200e-01   \n",
       "min    1.250000e+04  0.000000e+00  0.000000e+00  0.000000e+00  0.000000e+00   \n",
       "25%    3.000000e+04  0.000000e+00  0.000000e+00  0.000000e+00  0.000000e+00   \n",
       "50%    4.500000e+04  1.000000e+00  0.000000e+00  0.000000e+00  0.000000e+00   \n",
       "75%    7.000000e+04  1.000000e+00  1.000000e+00  0.000000e+00  0.000000e+00   \n",
       "max    1.990000e+05  1.000000e+00  1.000000e+00  1.000000e+00  1.000000e+00   \n",
       "\n",
       "                  4             5             6             7             8  \\\n",
       "count  5.216628e+06  5.216628e+06  5.216628e+06  5.216628e+06  5.216628e+06   \n",
       "mean   2.578679e-01  4.459266e-01  3.088202e-01  3.140398e-01  2.359329e-01   \n",
       "std    4.374610e-01  4.970675e-01  4.620068e-01  4.641324e-01  4.245805e-01   \n",
       "min    0.000000e+00  0.000000e+00  0.000000e+00  0.000000e+00  0.000000e+00   \n",
       "25%    0.000000e+00  0.000000e+00  0.000000e+00  0.000000e+00  0.000000e+00   \n",
       "50%    0.000000e+00  0.000000e+00  0.000000e+00  0.000000e+00  0.000000e+00   \n",
       "75%    1.000000e+00  1.000000e+00  1.000000e+00  1.000000e+00  0.000000e+00   \n",
       "max    1.000000e+00  1.000000e+00  1.000000e+00  1.000000e+00  1.000000e+00   \n",
       "\n",
       "       ...            12            13            14            15  \\\n",
       "count  ...  5.216628e+06  5.216628e+06  5.216628e+06  5.216628e+06   \n",
       "mean   ...  3.281637e-01  1.631935e-01  2.610035e-01  3.757899e-01   \n",
       "std    ...  4.695448e-01  3.695422e-01  4.391818e-01  4.843262e-01   \n",
       "min    ...  0.000000e+00  0.000000e+00  0.000000e+00  0.000000e+00   \n",
       "25%    ...  0.000000e+00  0.000000e+00  0.000000e+00  0.000000e+00   \n",
       "50%    ...  0.000000e+00  0.000000e+00  0.000000e+00  0.000000e+00   \n",
       "75%    ...  1.000000e+00  0.000000e+00  1.000000e+00  1.000000e+00   \n",
       "max    ...  1.000000e+00  1.000000e+00  1.000000e+00  1.000000e+00   \n",
       "\n",
       "                 16            17            18            19            20  \\\n",
       "count  5.216628e+06  5.216628e+06  5.216628e+06  5.216628e+06  5.216628e+06   \n",
       "mean   2.223408e-01  2.257623e-01  1.761071e-01  1.539305e-01  7.917398e-01   \n",
       "std    4.158189e-01  4.180834e-01  3.809113e-01  3.608821e-01  4.060639e-01   \n",
       "min    0.000000e+00  0.000000e+00  0.000000e+00  0.000000e+00  0.000000e+00   \n",
       "25%    0.000000e+00  0.000000e+00  0.000000e+00  0.000000e+00  1.000000e+00   \n",
       "50%    0.000000e+00  0.000000e+00  0.000000e+00  0.000000e+00  1.000000e+00   \n",
       "75%    0.000000e+00  0.000000e+00  0.000000e+00  0.000000e+00  1.000000e+00   \n",
       "max    1.000000e+00  1.000000e+00  1.000000e+00  1.000000e+00  1.000000e+00   \n",
       "\n",
       "                 21  \n",
       "count  5.216628e+06  \n",
       "mean   5.432973e-02  \n",
       "std    2.266672e-01  \n",
       "min    0.000000e+00  \n",
       "25%    0.000000e+00  \n",
       "50%    0.000000e+00  \n",
       "75%    0.000000e+00  \n",
       "max    1.000000e+00  \n",
       "\n",
       "[8 rows x 23 columns]"
      ]
     },
     "execution_count": 71,
     "metadata": {},
     "output_type": "execute_result"
    }
   ],
   "source": [
    "OHE_test = remove_test.copy()\n",
    "OHE_test = OHE_cat(OHE_test)\n",
    "OHE_test.describe(include='all')"
   ]
  },
  {
   "cell_type": "code",
   "execution_count": 72,
   "metadata": {},
   "outputs": [
    {
     "data": {
      "text/html": [
       "<div>\n",
       "<style scoped>\n",
       "    .dataframe tbody tr th:only-of-type {\n",
       "        vertical-align: middle;\n",
       "    }\n",
       "\n",
       "    .dataframe tbody tr th {\n",
       "        vertical-align: top;\n",
       "    }\n",
       "\n",
       "    .dataframe thead th {\n",
       "        text-align: right;\n",
       "    }\n",
       "</style>\n",
       "<table border=\"1\" class=\"dataframe\">\n",
       "  <thead>\n",
       "    <tr style=\"text-align: right;\">\n",
       "      <th></th>\n",
       "      <th>Features</th>\n",
       "    </tr>\n",
       "  </thead>\n",
       "  <tbody>\n",
       "    <tr>\n",
       "      <td>0</td>\n",
       "      <td>SEX_1</td>\n",
       "    </tr>\n",
       "    <tr>\n",
       "      <td>1</td>\n",
       "      <td>SEX_2</td>\n",
       "    </tr>\n",
       "    <tr>\n",
       "      <td>2</td>\n",
       "      <td>AGEB_1</td>\n",
       "    </tr>\n",
       "    <tr>\n",
       "      <td>3</td>\n",
       "      <td>AGEB_2</td>\n",
       "    </tr>\n",
       "    <tr>\n",
       "      <td>4</td>\n",
       "      <td>AGEB_3</td>\n",
       "    </tr>\n",
       "    <tr>\n",
       "      <td>5</td>\n",
       "      <td>AGEB_4</td>\n",
       "    </tr>\n",
       "    <tr>\n",
       "      <td>6</td>\n",
       "      <td>EDU_1</td>\n",
       "    </tr>\n",
       "    <tr>\n",
       "      <td>7</td>\n",
       "      <td>EDU_2</td>\n",
       "    </tr>\n",
       "    <tr>\n",
       "      <td>8</td>\n",
       "      <td>EDU_3</td>\n",
       "    </tr>\n",
       "    <tr>\n",
       "      <td>9</td>\n",
       "      <td>EDU_4</td>\n",
       "    </tr>\n",
       "    <tr>\n",
       "      <td>10</td>\n",
       "      <td>EDU_5</td>\n",
       "    </tr>\n",
       "    <tr>\n",
       "      <td>11</td>\n",
       "      <td>JOB_1</td>\n",
       "    </tr>\n",
       "    <tr>\n",
       "      <td>12</td>\n",
       "      <td>JOB_2</td>\n",
       "    </tr>\n",
       "    <tr>\n",
       "      <td>13</td>\n",
       "      <td>JOB_3</td>\n",
       "    </tr>\n",
       "    <tr>\n",
       "      <td>14</td>\n",
       "      <td>JOB_4</td>\n",
       "    </tr>\n",
       "    <tr>\n",
       "      <td>15</td>\n",
       "      <td>STSP_1</td>\n",
       "    </tr>\n",
       "    <tr>\n",
       "      <td>16</td>\n",
       "      <td>STSP_2</td>\n",
       "    </tr>\n",
       "    <tr>\n",
       "      <td>17</td>\n",
       "      <td>STSP_3</td>\n",
       "    </tr>\n",
       "    <tr>\n",
       "      <td>18</td>\n",
       "      <td>STSP_4</td>\n",
       "    </tr>\n",
       "    <tr>\n",
       "      <td>19</td>\n",
       "      <td>RACE_1</td>\n",
       "    </tr>\n",
       "    <tr>\n",
       "      <td>20</td>\n",
       "      <td>RACE_2</td>\n",
       "    </tr>\n",
       "    <tr>\n",
       "      <td>21</td>\n",
       "      <td>RACE_3</td>\n",
       "    </tr>\n",
       "  </tbody>\n",
       "</table>\n",
       "</div>"
      ],
      "text/plain": [
       "   Features\n",
       "0     SEX_1\n",
       "1     SEX_2\n",
       "2    AGEB_1\n",
       "3    AGEB_2\n",
       "4    AGEB_3\n",
       "5    AGEB_4\n",
       "6     EDU_1\n",
       "7     EDU_2\n",
       "8     EDU_3\n",
       "9     EDU_4\n",
       "10    EDU_5\n",
       "11    JOB_1\n",
       "12    JOB_2\n",
       "13    JOB_3\n",
       "14    JOB_4\n",
       "15   STSP_1\n",
       "16   STSP_2\n",
       "17   STSP_3\n",
       "18   STSP_4\n",
       "19   RACE_1\n",
       "20   RACE_2\n",
       "21   RACE_3"
      ]
     },
     "execution_count": 72,
     "metadata": {},
     "output_type": "execute_result"
    }
   ],
   "source": [
    "OHE_names = remove_test.copy()\n",
    "OH_encoder2 = OneHotEncoder(handle_unknown='ignore', sparse=False)\n",
    "cat_col2 = [i for i in OHE_names.columns.tolist() if i not in ['WAGP']]\n",
    "OH_cols_train2 = pd.DataFrame(OH_encoder2.fit_transform(OHE_names[cat_col2]))\n",
    "\n",
    "OHEcol2 = OH_encoder2.get_feature_names(cat_col2)\n",
    "OHEcols2 = pd.DataFrame()\n",
    "OHEcols2['Features'] = OHEcol2\n",
    "\n",
    "OHEcols2"
   ]
  },
  {
   "cell_type": "markdown",
   "metadata": {},
   "source": [
    "# 5. Preprocessing Pipeline\n",
    "Combining all the other steps, a pipeline was formed to easily test out a dataframe and transform it to the needs. Given its modular nature it's simple to change how each individual section acts without disturbing the whole notebook. Below outlines the data selection, feature transformation, and dataframe management sections.\n",
    "\n",
    "In the graphs below, jobs, education, and age were compared against one another to see how wages correlates with wages and how much each feature affects one another. It’s observed that each of the values have a high correlation with wage and seems to be independently increasing wages, but also dependent on one another for the extent in which the wage varies."
   ]
  },
  {
   "cell_type": "code",
   "execution_count": 73,
   "metadata": {},
   "outputs": [],
   "source": [
    "def pp_pipeline(df):\n",
    "    df = (df\n",
    "          .pipe(full_time_detect)\n",
    "          .pipe(outlier_wage)\n",
    "          .pipe(age_bins)\n",
    "          .pipe(edu_split)\n",
    "          .pipe(occ_split)\n",
    "          .pipe(state_split)\n",
    "          .pipe(race_split)\n",
    "          .pipe(remove_col)\n",
    "          #.pipe(OHE_cat)\n",
    "          )\n",
    "    return df"
   ]
  },
  {
   "cell_type": "code",
   "execution_count": 74,
   "metadata": {},
   "outputs": [
    {
     "name": "stdout",
     "output_type": "stream",
     "text": [
      " 0.61 min\n"
     ]
    },
    {
     "data": {
      "text/html": [
       "<div>\n",
       "<style scoped>\n",
       "    .dataframe tbody tr th:only-of-type {\n",
       "        vertical-align: middle;\n",
       "    }\n",
       "\n",
       "    .dataframe tbody tr th {\n",
       "        vertical-align: top;\n",
       "    }\n",
       "\n",
       "    .dataframe thead th {\n",
       "        text-align: right;\n",
       "    }\n",
       "</style>\n",
       "<table border=\"1\" class=\"dataframe\">\n",
       "  <thead>\n",
       "    <tr style=\"text-align: right;\">\n",
       "      <th></th>\n",
       "      <th>SEX</th>\n",
       "      <th>WAGP</th>\n",
       "      <th>AGEB</th>\n",
       "      <th>EDU</th>\n",
       "      <th>JOB</th>\n",
       "      <th>STSP</th>\n",
       "      <th>RACE</th>\n",
       "    </tr>\n",
       "  </thead>\n",
       "  <tbody>\n",
       "    <tr>\n",
       "      <td>count</td>\n",
       "      <td>5.216628e+06</td>\n",
       "      <td>5.216628e+06</td>\n",
       "      <td>5.216628e+06</td>\n",
       "      <td>5.216628e+06</td>\n",
       "      <td>5.216628e+06</td>\n",
       "      <td>5.216628e+06</td>\n",
       "      <td>5.216628e+06</td>\n",
       "    </tr>\n",
       "    <tr>\n",
       "      <td>mean</td>\n",
       "      <td>1.423788e+00</td>\n",
       "      <td>5.470252e+04</td>\n",
       "      <td>3.075559e+00</td>\n",
       "      <td>2.247249e+00</td>\n",
       "      <td>2.437561e+00</td>\n",
       "      <td>2.202187e+00</td>\n",
       "      <td>1.900399e+00</td>\n",
       "    </tr>\n",
       "    <tr>\n",
       "      <td>std</td>\n",
       "      <td>4.941576e-01</td>\n",
       "      <td>3.347824e+04</td>\n",
       "      <td>9.792398e-01</td>\n",
       "      <td>1.112232e+00</td>\n",
       "      <td>1.124005e+00</td>\n",
       "      <td>1.124767e+00</td>\n",
       "      <td>4.453537e-01</td>\n",
       "    </tr>\n",
       "    <tr>\n",
       "      <td>min</td>\n",
       "      <td>1.000000e+00</td>\n",
       "      <td>1.250000e+04</td>\n",
       "      <td>1.000000e+00</td>\n",
       "      <td>1.000000e+00</td>\n",
       "      <td>1.000000e+00</td>\n",
       "      <td>1.000000e+00</td>\n",
       "      <td>1.000000e+00</td>\n",
       "    </tr>\n",
       "    <tr>\n",
       "      <td>25%</td>\n",
       "      <td>1.000000e+00</td>\n",
       "      <td>3.000000e+04</td>\n",
       "      <td>2.000000e+00</td>\n",
       "      <td>1.000000e+00</td>\n",
       "      <td>2.000000e+00</td>\n",
       "      <td>1.000000e+00</td>\n",
       "      <td>2.000000e+00</td>\n",
       "    </tr>\n",
       "    <tr>\n",
       "      <td>50%</td>\n",
       "      <td>1.000000e+00</td>\n",
       "      <td>4.500000e+04</td>\n",
       "      <td>3.000000e+00</td>\n",
       "      <td>2.000000e+00</td>\n",
       "      <td>2.000000e+00</td>\n",
       "      <td>2.000000e+00</td>\n",
       "      <td>2.000000e+00</td>\n",
       "    </tr>\n",
       "    <tr>\n",
       "      <td>75%</td>\n",
       "      <td>2.000000e+00</td>\n",
       "      <td>7.000000e+04</td>\n",
       "      <td>4.000000e+00</td>\n",
       "      <td>3.000000e+00</td>\n",
       "      <td>4.000000e+00</td>\n",
       "      <td>3.000000e+00</td>\n",
       "      <td>2.000000e+00</td>\n",
       "    </tr>\n",
       "    <tr>\n",
       "      <td>max</td>\n",
       "      <td>2.000000e+00</td>\n",
       "      <td>1.990000e+05</td>\n",
       "      <td>4.000000e+00</td>\n",
       "      <td>5.000000e+00</td>\n",
       "      <td>4.000000e+00</td>\n",
       "      <td>4.000000e+00</td>\n",
       "      <td>3.000000e+00</td>\n",
       "    </tr>\n",
       "  </tbody>\n",
       "</table>\n",
       "</div>"
      ],
      "text/plain": [
       "                SEX          WAGP          AGEB           EDU           JOB  \\\n",
       "count  5.216628e+06  5.216628e+06  5.216628e+06  5.216628e+06  5.216628e+06   \n",
       "mean   1.423788e+00  5.470252e+04  3.075559e+00  2.247249e+00  2.437561e+00   \n",
       "std    4.941576e-01  3.347824e+04  9.792398e-01  1.112232e+00  1.124005e+00   \n",
       "min    1.000000e+00  1.250000e+04  1.000000e+00  1.000000e+00  1.000000e+00   \n",
       "25%    1.000000e+00  3.000000e+04  2.000000e+00  1.000000e+00  2.000000e+00   \n",
       "50%    1.000000e+00  4.500000e+04  3.000000e+00  2.000000e+00  2.000000e+00   \n",
       "75%    2.000000e+00  7.000000e+04  4.000000e+00  3.000000e+00  4.000000e+00   \n",
       "max    2.000000e+00  1.990000e+05  4.000000e+00  5.000000e+00  4.000000e+00   \n",
       "\n",
       "               STSP          RACE  \n",
       "count  5.216628e+06  5.216628e+06  \n",
       "mean   2.202187e+00  1.900399e+00  \n",
       "std    1.124767e+00  4.453537e-01  \n",
       "min    1.000000e+00  1.000000e+00  \n",
       "25%    1.000000e+00  2.000000e+00  \n",
       "50%    2.000000e+00  2.000000e+00  \n",
       "75%    3.000000e+00  2.000000e+00  \n",
       "max    4.000000e+00  3.000000e+00  "
      ]
     },
     "execution_count": 74,
     "metadata": {},
     "output_type": "execute_result"
    }
   ],
   "source": [
    "start_time = time.time()\n",
    "pp_test = PUS_start.copy()\n",
    "pp_test = pp_pipeline(pp_test)\n",
    "print(\" %s min\" % round(((time.time() - start_time)/60), 2))\n",
    "pp_test.describe(include='all')"
   ]
  },
  {
   "cell_type": "code",
   "execution_count": 118,
   "metadata": {},
   "outputs": [
    {
     "data": {
      "image/png": "[encoded data removed]",
      "text/plain": [
       "<Figure size 1080x360 with 2 Axes>"
      ]
     },
     "metadata": {
      "needs_background": "light"
     },
     "output_type": "display_data"
    }
   ],
   "source": [
    "fig, ax = plt.subplots(1, 2, figsize=(15, 5))\n",
    "sns.catplot(y=\"WAGP\", x = 'EDU',hue = 'AGEB',data=pp_test,kind=\"box\", ax=ax[0])\n",
    "ax[0].legend(loc=\"upper left\")\n",
    "sns.catplot(y=\"WAGP\", x = 'AGEB',hue = 'EDU',data=pp_test,kind=\"box\", ax=ax[1])\n",
    "ax[1].legend(loc=\"upper left\")\n",
    "plt.close(2)\n",
    "plt.close(3)"
   ]
  },
  {
   "cell_type": "code",
   "execution_count": 119,
   "metadata": {},
   "outputs": [
    {
     "data": {
      "image/png": "[encoded data removed]",
      "text/plain": [
       "<Figure size 1080x360 with 2 Axes>"
      ]
     },
     "metadata": {
      "needs_background": "light"
     },
     "output_type": "display_data"
    }
   ],
   "source": [
    "fig, ax = plt.subplots(1, 2, figsize=(15, 5))\n",
    "sns.catplot(y=\"WAGP\", x = 'AGEB',hue = 'JOB',data=pp_test,kind=\"box\",legend_out=True,ax=ax[0])\n",
    "ax[0].legend(loc=\"upper left\")\n",
    "sns.catplot(y=\"WAGP\", x = 'JOB',hue = 'AGEB',data=pp_test,kind=\"box\",legend_out=True,ax=ax[1])\n",
    "ax[1].legend(loc=\"upper left\")\n",
    "plt.close(2)\n",
    "plt.close(3)"
   ]
  },
  {
   "cell_type": "code",
   "execution_count": 120,
   "metadata": {},
   "outputs": [
    {
     "data": {
      "image/png": "[encoded data removed]",
      "text/plain": [
       "<Figure size 1080x360 with 2 Axes>"
      ]
     },
     "metadata": {
      "needs_background": "light"
     },
     "output_type": "display_data"
    }
   ],
   "source": [
    "fig, ax = plt.subplots(1, 2, figsize=(15, 5))\n",
    "sns.catplot(y=\"WAGP\", x = 'EDU',hue = 'JOB',data=pp_test,kind=\"box\",legend_out=True,ax=ax[0])\n",
    "ax[0].legend(loc=\"upper left\")\n",
    "sns.catplot(y=\"WAGP\", x = 'JOB',hue = 'EDU',data=pp_test,kind=\"box\",legend_out=True,ax=ax[1])\n",
    "ax[1].legend(loc=\"upper left\")\n",
    "plt.close(2)\n",
    "plt.close(3)"
   ]
  },
  {
   "cell_type": "markdown",
   "metadata": {},
   "source": [
    "# 6. Modeling\n",
    "## 6.1. Random Forest\n",
    "Below outlines how each the data was modeled. Since the modeling was used to be a comparative value, it wasn't necessarily finetuned for each parameter. Random forest regressor was used as a standard. Given how large the datafile is, it's difficult to fully fit and predict the dataset fully. Luckily, having more data isn't a problem.\n",
    "\n",
    "The dataset was split accordingly to be able to tune some parameter and ultimately fit to a random forest regressor."
   ]
  },
  {
   "cell_type": "code",
   "execution_count": 121,
   "metadata": {},
   "outputs": [],
   "source": [
    "from sklearn.ensemble import RandomForestRegressor\n",
    "from sklearn.metrics import mean_absolute_error\n",
    "from sklearn.model_selection import GridSearchCV, cross_val_score, StratifiedKFold\n",
    "import xgboost as xgb\n",
    "from xgboost import XGBClassifier\n",
    "from sklearn.model_selection import train_test_split\n",
    "from sklearn.neural_network import MLPRegressor\n",
    "from sklearn.feature_selection import SelectFromModel"
   ]
  },
  {
   "cell_type": "code",
   "execution_count": 122,
   "metadata": {},
   "outputs": [
    {
     "data": {
      "text/plain": [
       "(104333, 7)"
      ]
     },
     "execution_count": 122,
     "metadata": {},
     "output_type": "execute_result"
    }
   ],
   "source": [
    "cv_split = pp_test.copy()\n",
    "cv_split.shape\n",
    "param_split = cv_split.sample(frac=0.02)\n",
    "param_split.shape"
   ]
  },
  {
   "cell_type": "code",
   "execution_count": 123,
   "metadata": {},
   "outputs": [],
   "source": [
    "param_y = param_split['WAGP']\n",
    "param_x = param_split.drop(['WAGP'], axis=1)"
   ]
  },
  {
   "cell_type": "code",
   "execution_count": 124,
   "metadata": {},
   "outputs": [
    {
     "name": "stdout",
     "output_type": "stream",
     "text": [
      "Fitting 3 folds for each of 8 candidates, totalling 24 fits\n"
     ]
    },
    {
     "name": "stderr",
     "output_type": "stream",
     "text": [
      "C:\\ProgramData\\Anaconda3\\lib\\site-packages\\sklearn\\model_selection\\_split.py:657: Warning: The least populated class in y has only 2 members, which is too few. The minimum number of members in any class cannot be less than n_splits=3.\n",
      "  % (min_groups, self.n_splits)), Warning)\n",
      "[Parallel(n_jobs=4)]: Using backend LokyBackend with 4 concurrent workers.\n",
      "[Parallel(n_jobs=4)]: Done  24 out of  24 | elapsed:   47.6s finished\n"
     ]
    },
    {
     "data": {
      "text/plain": [
       "-19499.014408436637"
      ]
     },
     "execution_count": 124,
     "metadata": {},
     "output_type": "execute_result"
    }
   ],
   "source": [
    "kfold = StratifiedKFold(n_splits=3)\n",
    "\n",
    "RFR = RandomForestRegressor()\n",
    "rfr_param_grid = {'n_estimators': [50, 100],\n",
    "                  'min_samples_split': [5, 10],\n",
    "                  'min_samples_leaf': [10, 20]}\n",
    "\n",
    "gsRFR = GridSearchCV(RFR, param_grid=rfr_param_grid, cv=kfold,\n",
    "                     scoring=\"neg_mean_absolute_error\", verbose=1, n_jobs=4)\n",
    "\n",
    "gsRFR.fit(param_x, param_y)\n",
    "\n",
    "RFR_best = gsRFR.best_estimator_\n",
    "\n",
    "gsRFR.best_score_"
   ]
  },
  {
   "cell_type": "code",
   "execution_count": 125,
   "metadata": {},
   "outputs": [
    {
     "data": {
      "text/plain": [
       "RandomForestRegressor(bootstrap=True, criterion='mse', max_depth=None,\n",
       "                      max_features='auto', max_leaf_nodes=None,\n",
       "                      min_impurity_decrease=0.0, min_impurity_split=None,\n",
       "                      min_samples_leaf=20, min_samples_split=10,\n",
       "                      min_weight_fraction_leaf=0.0, n_estimators=100,\n",
       "                      n_jobs=None, oob_score=False, random_state=None,\n",
       "                      verbose=0, warm_start=False)"
      ]
     },
     "execution_count": 125,
     "metadata": {},
     "output_type": "execute_result"
    }
   ],
   "source": [
    "RFR_best"
   ]
  },
  {
   "cell_type": "code",
   "execution_count": 126,
   "metadata": {},
   "outputs": [
    {
     "data": {
      "text/plain": [
       "(1564988, 7)"
      ]
     },
     "execution_count": 126,
     "metadata": {},
     "output_type": "execute_result"
    }
   ],
   "source": [
    "fit_split = cv_split.sample(frac=0.3)\n",
    "fit_split.shape"
   ]
  },
  {
   "cell_type": "code",
   "execution_count": 127,
   "metadata": {},
   "outputs": [],
   "source": [
    "y_full = fit_split['WAGP']\n",
    "X_full = fit_split.drop(['WAGP'], axis=1)"
   ]
  },
  {
   "cell_type": "code",
   "execution_count": 128,
   "metadata": {},
   "outputs": [],
   "source": [
    "X_train, X_valid, y_train, y_valid = train_test_split(\n",
    "    X_full, y_full, random_state=0)"
   ]
  },
  {
   "cell_type": "code",
   "execution_count": 129,
   "metadata": {},
   "outputs": [
    {
     "name": "stdout",
     "output_type": "stream",
     "text": [
      "MAE :  19474.896528196645\n",
      " 3.34 min\n"
     ]
    }
   ],
   "source": [
    "start_time = time.time()\n",
    "RFR_best.fit(X_train, y_train)\n",
    "pred_valid = RFR_best.predict(X_valid)\n",
    "print(\"MAE : \", mean_absolute_error(y_valid, pred_valid))\n",
    "print(\" %s min\" % round(((time.time() - start_time)/60), 2))"
   ]
  },
  {
   "cell_type": "markdown",
   "metadata": {},
   "source": [
    "## 6.2. Feature Selection\n",
    "Overall, it's observed that education, occupational industry, and age are the main indicators or wage with sex follow up behind (region and race had minimal impact, but could have more value is more details were provided, or if the model was fit with an artificially higher ratio of minority races or if the states were separated more finely)"
   ]
  },
  {
   "cell_type": "code",
   "execution_count": 130,
   "metadata": {},
   "outputs": [
    {
     "data": {
      "text/plain": [
       "<matplotlib.axes._subplots.AxesSubplot at 0x16443435688>"
      ]
     },
     "execution_count": 130,
     "metadata": {},
     "output_type": "execute_result"
    },
    {
     "data": {
      "image/png": "[encoded data removed]",
      "text/plain": [
       "<Figure size 360x720 with 1 Axes>"
      ]
     },
     "metadata": {
      "needs_background": "light"
     },
     "output_type": "display_data"
    }
   ],
   "source": [
    "features = pd.DataFrame()\n",
    "features['feature'] = X_full.columns\n",
    "features['importance'] = RFR_best.feature_importances_\n",
    "features.sort_values(by=['importance'], ascending=True, inplace=True)\n",
    "features.set_index('feature', inplace=True)\n",
    "\n",
    "features.plot(kind='barh', figsize=(5, 10))"
   ]
  },
  {
   "cell_type": "markdown",
   "metadata": {},
   "source": [
    "# 7. Analysis\n",
    "## 7.1. Scoring Rational\n",
    "Below is the function to score a dataset for an individual year. It's extremely difficult to capture the total wage gap of the entire united states since each region, industry, education level has a different level of variance between men and woman. Therefore, to capture this information all in a single number is intimidating and difficult.\n",
    "\n",
    "The core methodology was that (1) the score should encapsulate the entire US population so it should be weighted, (2) maintain sex separation between feature so male vs. female dominated industries don't have a bias, and (3) compare the values between true wages and predicted wages to determine if there's any significant differences.\n",
    "\n",
    "Function commented below:"
   ]
  },
  {
   "cell_type": "code",
   "execution_count": 143,
   "metadata": {},
   "outputs": [],
   "source": [
    "def get_score(df):\n",
    "    y_5 = df['WAGP']\n",
    "    x_5 = df.drop(['WAGP'], axis=1)\n",
    "#predicted values given fit\n",
    "    preds_test = RFR_best.predict(x_5)\n",
    "    output = pd.DataFrame(\n",
    "        {'Index': x_5.index, 'WAG_pred': preds_test}).set_index('Index')\n",
    "    result = pd.concat([output, df], axis=1, sort=False)\n",
    "    \n",
    "#split into male and female\n",
    "    m_output = result[result['SEX'] == 1]\n",
    "    f_output = result[result['SEX'] == 2]\n",
    "    \n",
    "#grouping data by feature\n",
    "    m_g = m_output.groupby(['SEX', 'EDU', 'JOB', 'STSP', 'RACE', 'AGEB'], as_index=False).agg(\n",
    "        {'WAG_pred': ['count', 'mean'], 'WAGP': ['count', 'mean', 'median','std']})\n",
    "    m_g.columns = m_g.columns.map('_'.join).str.strip('_')\n",
    "\n",
    "    f_g = f_output.groupby(['SEX', 'EDU', 'JOB', 'STSP', 'RACE', 'AGEB'], as_index=False).agg(\n",
    "        {'WAG_pred': ['count', 'mean'], 'WAGP': ['count', 'mean', 'median','std']})\n",
    "    f_g.columns = f_g.columns.map('_'.join).str.strip('_')\n",
    "    \n",
    "#creating new dataframe\n",
    "    g_df = pd.DataFrame({'m_WAG_prd': m_g.WAG_pred_mean, 'f_WAG_prd': f_g.WAG_pred_mean,\n",
    "                             'm_WAG_hrd_men': m_g.WAGP_mean, 'f_WAG_hrd_men': f_g.WAGP_mean,\n",
    "                             'm_WAG_hrd_med': m_g.WAGP_median, 'f_WAG_hrd_med': f_g.WAGP_median,\n",
    "                             'm_CT': m_g.WAGP_count, 'f_CT': f_g.WAGP_count,\n",
    "                           'm_STD': m_g.WAGP_std, 'f_STD': f_g.WAGP_std})\n",
    "    \n",
    "#adjust dataframe for nonvalues or outliers depending on count / std\n",
    "    g_df = g_df.dropna()\n",
    "    g_df = g_df.loc[g_df.m_CT >= np.percentile(g_df.m_CT, 10)].copy()\n",
    "    g_df = g_df.loc[g_df.f_CT >= np.percentile(g_df.f_CT, 10)].copy()\n",
    "    g_df = g_df.loc[(g_df.m_STD <= np.nanpercentile(g_df.m_STD, 90))&\n",
    "                    (g_df.f_STD <= np.nanpercentile(g_df.f_STD, 90))].copy()\n",
    "    \n",
    "#calculations for weight / mean/ median of each combination of features\n",
    "    g_df['t_CT'] = g_df['m_CT'] + g_df['f_CT']\n",
    "    g_df['weight'] = g_df['t_CT'] / g_df['t_CT'].sum()\n",
    "\n",
    "    g_df['f_m_hrd_men'] = g_df['f_WAG_hrd_men'] / g_df['m_WAG_hrd_men']\n",
    "    g_df['value_hrd_men'] = g_df['f_m_hrd_men'] * g_df['weight']\n",
    "\n",
    "    g_df['f_m_hrd_med'] = g_df['f_WAG_hrd_med'] / g_df['m_WAG_hrd_med']\n",
    "    g_df['value_hrd_med'] = g_df['f_m_hrd_med'] * g_df['weight']\n",
    "\n",
    "    g_df['f_m_prd'] = g_df['f_WAG_prd']/g_df['m_WAG_prd']\n",
    "    g_df['value_prd'] = g_df['f_m_prd'] * g_df['weight']\n",
    "    \n",
    "    g_df['mean_weighted'] = (g_df['f_m_prd'] +g_df['f_m_hrd_med'] +g_df['f_m_hrd_men'])/3 * g_df['weight']\n",
    "    \n",
    "#Calculating stdv\n",
    "    \n",
    "    g_df['mean_all'] = (g_df['f_m_prd'] +g_df['f_m_hrd_med'] +g_df['f_m_hrd_men'])/3\n",
    "    means_list = g_df['mean_all'].tolist()\n",
    "    count_list = g_df['t_CT'].tolist()\n",
    "    \n",
    "    for (x,y) in zip(means_list,count_list):\n",
    "        while y > 1:\n",
    "            means_list.append(x)\n",
    "            y = y-1\n",
    "    \n",
    "#summing each weighted value\n",
    "    hrd_men_ratio = round(g_df['value_hrd_men'].sum(), 3)\n",
    "    hrd_med_ratio = round(g_df['value_hrd_med'].sum(), 3)\n",
    "    prd_ratio = round(g_df['value_prd'].sum(), 3)\n",
    "    mean_ratio = round(g_df['mean_weighted'].sum(), 3)\n",
    "    stdev = round(statistics.stdev(means_list), 3)\n",
    "    \n",
    "#final output\n",
    "    ratios = [mean_ratio, stdev, hrd_men_ratio, hrd_med_ratio, prd_ratio]\n",
    "\n",
    "    return ratios"
   ]
  },
  {
   "cell_type": "markdown",
   "metadata": {},
   "source": [
    "## 7.2. Year to Year Analysis\n",
    "With the function described prior, each year was individually scored to a dataframe which collected each score. The outputted dataframe took each ratio and averaged them to a single column which is graphed against each year. Unfortunately, output shows that there's minimal difference year to year of the wage gap shifting. One note is the standard deviations noted are not true standard deviations of the final scoring, rather just the std between all the unweighted ratios."
   ]
  },
  {
   "cell_type": "code",
   "execution_count": 144,
   "metadata": {},
   "outputs": [
    {
     "name": "stdout",
     "output_type": "stream",
     "text": [
      "Completed : 2008  Ratio:  [0.839, 0.247, 0.837, 0.836, 0.844]\n",
      "Completed : 2009  Ratio:  [0.779, 0.097, 0.78, 0.777, 0.781]\n",
      "Completed : 2010  Ratio:  [0.817, 0.283, 0.822, 0.821, 0.809]\n",
      "Completed : 2011  Ratio:  [0.811, 0.268, 0.812, 0.821, 0.799]\n",
      "Completed : 2012  Ratio:  [0.784, 0.124, 0.784, 0.786, 0.781]\n",
      "Completed : 2013  Ratio:  [0.819, 0.216, 0.819, 0.824, 0.814]\n",
      "Completed : 2014  Ratio:  [0.825, 0.281, 0.824, 0.827, 0.823]\n",
      "Completed : 2015  Ratio:  [0.816, 0.289, 0.813, 0.821, 0.813]\n",
      "Completed : 2016  Ratio:  [0.812, 0.293, 0.81, 0.816, 0.811]\n",
      "Completed : 2017  Ratio:  [0.795, 0.095, 0.794, 0.795, 0.795]\n",
      "Completed : 2018  Ratio:  [0.818, 0.293, 0.815, 0.82, 0.818]\n",
      " 12.39 min\n"
     ]
    }
   ],
   "source": [
    "years = list(range(2008, 2019))\n",
    "ratio_list = []\n",
    "start_time = time.time()\n",
    "for year in years:\n",
    "    useful_cols = ['WAGP', 'SEX', 'AGEP', 'RAC1P',\n",
    "                   'SCHL', 'WKW', 'WKHP', 'OCCP', 'POWSP', 'ST']\n",
    "    path = ('data/%s' % year)\n",
    "    temp = pd.concat([pd.read_csv(f, usecols=useful_cols)\n",
    "                      for f in glob.glob(path + \"/*.csv\")], ignore_index=True)\n",
    "    score = get_score(pp_pipeline(temp))\n",
    "    ratio_list.append(score)\n",
    "    print(\"Completed :\", year, \" Ratio: \", score)\n",
    "print(\" %s min\" % round(((time.time() - start_time)/60), 2))"
   ]
  },
  {
   "cell_type": "code",
   "execution_count": 145,
   "metadata": {},
   "outputs": [
    {
     "data": {
      "text/html": [
       "<div>\n",
       "<style scoped>\n",
       "    .dataframe tbody tr th:only-of-type {\n",
       "        vertical-align: middle;\n",
       "    }\n",
       "\n",
       "    .dataframe tbody tr th {\n",
       "        vertical-align: top;\n",
       "    }\n",
       "\n",
       "    .dataframe thead th {\n",
       "        text-align: right;\n",
       "    }\n",
       "</style>\n",
       "<table border=\"1\" class=\"dataframe\">\n",
       "  <thead>\n",
       "    <tr style=\"text-align: right;\">\n",
       "      <th></th>\n",
       "      <th>Female/Male</th>\n",
       "      <th>STDEV</th>\n",
       "      <th>Mean_Ratio</th>\n",
       "      <th>Median_Ratio</th>\n",
       "      <th>Pred_Ratio</th>\n",
       "      <th>Year</th>\n",
       "    </tr>\n",
       "  </thead>\n",
       "  <tbody>\n",
       "    <tr>\n",
       "      <td>0</td>\n",
       "      <td>0.839</td>\n",
       "      <td>0.247</td>\n",
       "      <td>0.837</td>\n",
       "      <td>0.836</td>\n",
       "      <td>0.844</td>\n",
       "      <td>2008</td>\n",
       "    </tr>\n",
       "    <tr>\n",
       "      <td>1</td>\n",
       "      <td>0.779</td>\n",
       "      <td>0.097</td>\n",
       "      <td>0.780</td>\n",
       "      <td>0.777</td>\n",
       "      <td>0.781</td>\n",
       "      <td>2009</td>\n",
       "    </tr>\n",
       "    <tr>\n",
       "      <td>2</td>\n",
       "      <td>0.817</td>\n",
       "      <td>0.283</td>\n",
       "      <td>0.822</td>\n",
       "      <td>0.821</td>\n",
       "      <td>0.809</td>\n",
       "      <td>2010</td>\n",
       "    </tr>\n",
       "    <tr>\n",
       "      <td>3</td>\n",
       "      <td>0.811</td>\n",
       "      <td>0.268</td>\n",
       "      <td>0.812</td>\n",
       "      <td>0.821</td>\n",
       "      <td>0.799</td>\n",
       "      <td>2011</td>\n",
       "    </tr>\n",
       "    <tr>\n",
       "      <td>4</td>\n",
       "      <td>0.784</td>\n",
       "      <td>0.124</td>\n",
       "      <td>0.784</td>\n",
       "      <td>0.786</td>\n",
       "      <td>0.781</td>\n",
       "      <td>2012</td>\n",
       "    </tr>\n",
       "    <tr>\n",
       "      <td>5</td>\n",
       "      <td>0.819</td>\n",
       "      <td>0.216</td>\n",
       "      <td>0.819</td>\n",
       "      <td>0.824</td>\n",
       "      <td>0.814</td>\n",
       "      <td>2013</td>\n",
       "    </tr>\n",
       "    <tr>\n",
       "      <td>6</td>\n",
       "      <td>0.825</td>\n",
       "      <td>0.281</td>\n",
       "      <td>0.824</td>\n",
       "      <td>0.827</td>\n",
       "      <td>0.823</td>\n",
       "      <td>2014</td>\n",
       "    </tr>\n",
       "    <tr>\n",
       "      <td>7</td>\n",
       "      <td>0.816</td>\n",
       "      <td>0.289</td>\n",
       "      <td>0.813</td>\n",
       "      <td>0.821</td>\n",
       "      <td>0.813</td>\n",
       "      <td>2015</td>\n",
       "    </tr>\n",
       "    <tr>\n",
       "      <td>8</td>\n",
       "      <td>0.812</td>\n",
       "      <td>0.293</td>\n",
       "      <td>0.810</td>\n",
       "      <td>0.816</td>\n",
       "      <td>0.811</td>\n",
       "      <td>2016</td>\n",
       "    </tr>\n",
       "    <tr>\n",
       "      <td>9</td>\n",
       "      <td>0.795</td>\n",
       "      <td>0.095</td>\n",
       "      <td>0.794</td>\n",
       "      <td>0.795</td>\n",
       "      <td>0.795</td>\n",
       "      <td>2017</td>\n",
       "    </tr>\n",
       "    <tr>\n",
       "      <td>10</td>\n",
       "      <td>0.818</td>\n",
       "      <td>0.293</td>\n",
       "      <td>0.815</td>\n",
       "      <td>0.820</td>\n",
       "      <td>0.818</td>\n",
       "      <td>2018</td>\n",
       "    </tr>\n",
       "  </tbody>\n",
       "</table>\n",
       "</div>"
      ],
      "text/plain": [
       "    Female/Male  STDEV  Mean_Ratio  Median_Ratio  Pred_Ratio  Year\n",
       "0         0.839  0.247       0.837         0.836       0.844  2008\n",
       "1         0.779  0.097       0.780         0.777       0.781  2009\n",
       "2         0.817  0.283       0.822         0.821       0.809  2010\n",
       "3         0.811  0.268       0.812         0.821       0.799  2011\n",
       "4         0.784  0.124       0.784         0.786       0.781  2012\n",
       "5         0.819  0.216       0.819         0.824       0.814  2013\n",
       "6         0.825  0.281       0.824         0.827       0.823  2014\n",
       "7         0.816  0.289       0.813         0.821       0.813  2015\n",
       "8         0.812  0.293       0.810         0.816       0.811  2016\n",
       "9         0.795  0.095       0.794         0.795       0.795  2017\n",
       "10        0.818  0.293       0.815         0.820       0.818  2018"
      ]
     },
     "execution_count": 145,
     "metadata": {},
     "output_type": "execute_result"
    }
   ],
   "source": [
    "scores = pd.DataFrame(ratio_list, columns=['Female/Male', 'STDEV',\n",
    "                                           'Mean_Ratio', 'Median_Ratio', 'Pred_Ratio'])\n",
    "scores['Year'] = years\n",
    "scores"
   ]
  },
  {
   "cell_type": "code",
   "execution_count": 150,
   "metadata": {},
   "outputs": [
    {
     "data": {
      "image/png": "[encoded data removed]",
      "text/plain": [
       "<Figure size 360x360 with 1 Axes>"
      ]
     },
     "metadata": {
      "needs_background": "light"
     },
     "output_type": "display_data"
    }
   ],
   "source": [
    "g = sns.catplot(y='Female/Male', x=\"Year\", data=scores,\n",
    "                kind=\"bar\")"
   ]
  },
  {
   "cell_type": "markdown",
   "metadata": {},
   "source": [
    "## 7.3. Wage Predictor\n",
    "Below is the read datafile for 2018 which allows a user of the notebook to input a set of conditions to the various features in order to display the median value under those conditions as well as a box and whisker plot of everyone falling under the specified set of categories. Given the low level of importance of the state and race features, they were excluded for this simple predictor."
   ]
  },
  {
   "cell_type": "code",
   "execution_count": 135,
   "metadata": {},
   "outputs": [
    {
     "name": "stdout",
     "output_type": "stream",
     "text": [
      "(3214539, 10)\n",
      " 0.64 min\n"
     ]
    }
   ],
   "source": [
    "start_time = time.time()\n",
    "useful_cols = ['WAGP', 'SEX', 'AGEP', 'RAC1P',\n",
    "               'SCHL', 'WKW', 'WKHP', 'OCCP', 'POWSP', 'ST']\n",
    "path = r'data/2018'\n",
    "PUS_18 = pd.concat([pd.read_csv(f, usecols=useful_cols) for f in glob.glob(\n",
    "    path + \"/*.csv\", recursive=True)], ignore_index=True)\n",
    "print(PUS_18.shape)\n",
    "print(\" %s min\" % round(((time.time() - start_time)/60), 2))"
   ]
  },
  {
   "cell_type": "code",
   "execution_count": 136,
   "metadata": {},
   "outputs": [],
   "source": [
    "test_PUS = pp_pipeline(PUS_18)"
   ]
  },
  {
   "cell_type": "code",
   "execution_count": 137,
   "metadata": {},
   "outputs": [],
   "source": [
    "def df_isolate(df, sex, age, edu, job):\n",
    "    wanted_df = df.loc[(df.SEX == sex) &\n",
    "                             (df.AGEB == age) &\n",
    "                             (df.EDU == edu) &\n",
    "                             (df.JOB == job)\n",
    "                             ].copy()\n",
    "    return wanted_df"
   ]
  },
  {
   "cell_type": "code",
   "execution_count": 138,
   "metadata": {},
   "outputs": [
    {
     "name": "stdout",
     "output_type": "stream",
     "text": [
      "Enter gender:\n",
      "            1 = Male\n",
      "            2 = Female\n",
      "            Entered: 1\n",
      "Enter age bin:\n",
      "            1 = 18-25\n",
      "            2 = 26-35\n",
      "            3 = 36-45 or 66-70\n",
      "            4 = 46-65\n",
      "            Entered: 1\n",
      "Enter level of eduation:\n",
      "            1 = No HS or HS Equivalent\n",
      "            2 = Some College or Associates\n",
      "            3 = Bachlors Degree\n",
      "            4 = Masters Degree\n",
      "            5 = Doctorate or Higher\n",
      "            Entered: 4\n",
      "Enter job industry:\n",
      "            1 = Production, Service, Transportation\n",
      "            2 = Military, Sales, Maintenance\n",
      "            3 = Arts, Healthcare,\n",
      "            4 = Science, Business\n",
      "            Entered: 4\n",
      "Total Matches: 452 people\n",
      "Median Wage: $ 60000\n"
     ]
    },
    {
     "data": {
      "image/png": "[encoded data removed]",
      "text/plain": [
       "<Figure size 432x288 with 1 Axes>"
      ]
     },
     "metadata": {
      "needs_background": "light"
     },
     "output_type": "display_data"
    }
   ],
   "source": [
    "Sex = int(input(\"\"\"Enter gender:\n",
    "            1 = Male\n",
    "            2 = Female\n",
    "            Entered: \"\"\"))\n",
    "Age = int(input(\"\"\"Enter age bin:\n",
    "            1 = 18-25\n",
    "            2 = 26-35\n",
    "            3 = 36-45 or 66-70\n",
    "            4 = 46-65\n",
    "            Entered: \"\"\"))\n",
    "Edu = int(input(\"\"\"Enter level of eduation:\n",
    "            1 = No HS or HS Equivalent\n",
    "            2 = Some College or Associates\n",
    "            3 = Bachlors Degree\n",
    "            4 = Masters Degree\n",
    "            5 = Doctorate or Higher\n",
    "            Entered: \"\"\"))\n",
    "Job = int(input(\"\"\"Enter job industry:\n",
    "            1 = Production, Service, Transportation\n",
    "            2 = Military, Sales, Maintenance\n",
    "            3 = Arts, Healthcare,\n",
    "            4 = Science, Business\n",
    "            Entered: \"\"\"))\n",
    "\n",
    "User_imput = df_isolate(test_PUS, Sex, Age, Edu, Job)\n",
    "print(\"Total Matches: %s people\" % User_imput.WAGP.count())\n",
    "print(\"Median Wage: $\",int(User_imput.WAGP.median()))\n",
    "ax = sns.boxplot(x=User_imput[\"WAGP\"])"
   ]
  }
 ],
 "metadata": {
  "kernelspec": {
   "display_name": "py_36_env",
   "language": "python",
   "name": "py_36_env"
  },
  "language_info": {
   "codemirror_mode": {
    "name": "ipython",
    "version": 3
   },
   "file_extension": ".py",
   "mimetype": "text/x-python",
   "name": "python",
   "nbconvert_exporter": "python",
   "pygments_lexer": "ipython3",
   "version": "3.7.4"
  }
 },
 "nbformat": 4,
 "nbformat_minor": 2
}
