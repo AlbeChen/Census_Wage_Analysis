{
 "cells": [
  {
   "cell_type": "code",
   "execution_count": 1,
   "metadata": {},
   "outputs": [],
   "source": [
    "# Importing\n",
    "import pandas as pd\n",
    "import seaborn as sns\n",
    "import matplotlib.pyplot as plt\n",
    "import numpy as np\n",
    "\n",
    "from sklearn.preprocessing import OneHotEncoder\n",
    "\n",
    "import glob\n",
    "import time"
   ]
  },
  {
   "cell_type": "code",
   "execution_count": 2,
   "metadata": {},
   "outputs": [
    {
     "name": "stdout",
     "output_type": "stream",
     "text": [
      "(18973476, 11)\n",
      " 3.02 min\n"
     ]
    }
   ],
   "source": [
    "start_time = time.time()\n",
    "useful_cols = ['WAGP','SEX', 'AGEP','RAC1P','RAC3P','SCHL', 'WKW','WKHP','OCCP','POWSP','REGION']\n",
    "path = r'data'\n",
    "PUS_18_13 = pd.concat([pd.read_csv(f, usecols = useful_cols) for f in glob.glob(path + \"/*.csv\")],\n",
    "                      ignore_index=True)\n",
    "print (PUS_18_13.shape)\n",
    "print(\" %s min\" % round(((time.time() - start_time)/60),2))"
   ]
  },
  {
   "cell_type": "code",
   "execution_count": 3,
   "metadata": {
    "scrolled": true
   },
   "outputs": [
    {
     "data": {
      "text/plain": [
       "Index(['REGION', 'AGEP', 'SCHL', 'SEX', 'WAGP', 'WKHP', 'WKW', 'OCCP', 'POWSP',\n",
       "       'RAC1P', 'RAC3P'],\n",
       "      dtype='object')"
      ]
     },
     "execution_count": 3,
     "metadata": {},
     "output_type": "execute_result"
    }
   ],
   "source": [
    "PUS_18_13.columns"
   ]
  },
  {
   "cell_type": "code",
   "execution_count": 4,
   "metadata": {},
   "outputs": [
    {
     "data": {
      "text/html": [
       "<div>\n",
       "<style scoped>\n",
       "    .dataframe tbody tr th:only-of-type {\n",
       "        vertical-align: middle;\n",
       "    }\n",
       "\n",
       "    .dataframe tbody tr th {\n",
       "        vertical-align: top;\n",
       "    }\n",
       "\n",
       "    .dataframe thead th {\n",
       "        text-align: right;\n",
       "    }\n",
       "</style>\n",
       "<table border=\"1\" class=\"dataframe\">\n",
       "  <thead>\n",
       "    <tr style=\"text-align: right;\">\n",
       "      <th></th>\n",
       "      <th>REGION</th>\n",
       "      <th>AGEP</th>\n",
       "      <th>SCHL</th>\n",
       "      <th>SEX</th>\n",
       "      <th>WAGP</th>\n",
       "      <th>WKHP</th>\n",
       "      <th>WKW</th>\n",
       "      <th>OCCP</th>\n",
       "      <th>POWSP</th>\n",
       "      <th>RAC1P</th>\n",
       "      <th>RAC3P</th>\n",
       "    </tr>\n",
       "  </thead>\n",
       "  <tbody>\n",
       "    <tr>\n",
       "      <td>count</td>\n",
       "      <td>1.897348e+07</td>\n",
       "      <td>1.897348e+07</td>\n",
       "      <td>1.839731e+07</td>\n",
       "      <td>1.897348e+07</td>\n",
       "      <td>1.574302e+07</td>\n",
       "      <td>9.747443e+06</td>\n",
       "      <td>9.747443e+06</td>\n",
       "      <td>1.118794e+07</td>\n",
       "      <td>8.553913e+06</td>\n",
       "      <td>1.897348e+07</td>\n",
       "      <td>1.897348e+07</td>\n",
       "    </tr>\n",
       "    <tr>\n",
       "      <td>mean</td>\n",
       "      <td>2.663216e+00</td>\n",
       "      <td>4.110300e+01</td>\n",
       "      <td>1.600594e+01</td>\n",
       "      <td>1.511173e+00</td>\n",
       "      <td>2.784096e+04</td>\n",
       "      <td>3.805982e+01</td>\n",
       "      <td>1.881675e+00</td>\n",
       "      <td>4.288653e+03</td>\n",
       "      <td>2.798419e+01</td>\n",
       "      <td>1.892220e+00</td>\n",
       "      <td>2.822543e+00</td>\n",
       "    </tr>\n",
       "    <tr>\n",
       "      <td>std</td>\n",
       "      <td>1.022737e+00</td>\n",
       "      <td>2.360399e+01</td>\n",
       "      <td>5.638562e+00</td>\n",
       "      <td>4.998752e-01</td>\n",
       "      <td>5.158834e+04</td>\n",
       "      <td>1.329897e+01</td>\n",
       "      <td>1.617851e+00</td>\n",
       "      <td>2.630202e+03</td>\n",
       "      <td>1.769987e+01</td>\n",
       "      <td>2.104585e+00</td>\n",
       "      <td>6.694164e+00</td>\n",
       "    </tr>\n",
       "    <tr>\n",
       "      <td>min</td>\n",
       "      <td>1.000000e+00</td>\n",
       "      <td>0.000000e+00</td>\n",
       "      <td>1.000000e+00</td>\n",
       "      <td>1.000000e+00</td>\n",
       "      <td>0.000000e+00</td>\n",
       "      <td>1.000000e+00</td>\n",
       "      <td>1.000000e+00</td>\n",
       "      <td>1.000000e+01</td>\n",
       "      <td>1.000000e+00</td>\n",
       "      <td>1.000000e+00</td>\n",
       "      <td>1.000000e+00</td>\n",
       "    </tr>\n",
       "    <tr>\n",
       "      <td>25%</td>\n",
       "      <td>2.000000e+00</td>\n",
       "      <td>2.100000e+01</td>\n",
       "      <td>1.400000e+01</td>\n",
       "      <td>1.000000e+00</td>\n",
       "      <td>0.000000e+00</td>\n",
       "      <td>3.200000e+01</td>\n",
       "      <td>1.000000e+00</td>\n",
       "      <td>2.310000e+03</td>\n",
       "      <td>1.200000e+01</td>\n",
       "      <td>1.000000e+00</td>\n",
       "      <td>1.000000e+00</td>\n",
       "    </tr>\n",
       "    <tr>\n",
       "      <td>50%</td>\n",
       "      <td>3.000000e+00</td>\n",
       "      <td>4.200000e+01</td>\n",
       "      <td>1.700000e+01</td>\n",
       "      <td>2.000000e+00</td>\n",
       "      <td>7.000000e+03</td>\n",
       "      <td>4.000000e+01</td>\n",
       "      <td>1.000000e+00</td>\n",
       "      <td>4.250000e+03</td>\n",
       "      <td>2.700000e+01</td>\n",
       "      <td>1.000000e+00</td>\n",
       "      <td>1.000000e+00</td>\n",
       "    </tr>\n",
       "    <tr>\n",
       "      <td>75%</td>\n",
       "      <td>3.000000e+00</td>\n",
       "      <td>6.000000e+01</td>\n",
       "      <td>2.000000e+01</td>\n",
       "      <td>2.000000e+00</td>\n",
       "      <td>4.000000e+04</td>\n",
       "      <td>4.300000e+01</td>\n",
       "      <td>2.000000e+00</td>\n",
       "      <td>5.700000e+03</td>\n",
       "      <td>4.200000e+01</td>\n",
       "      <td>1.000000e+00</td>\n",
       "      <td>1.000000e+00</td>\n",
       "    </tr>\n",
       "    <tr>\n",
       "      <td>max</td>\n",
       "      <td>4.000000e+00</td>\n",
       "      <td>9.700000e+01</td>\n",
       "      <td>2.400000e+01</td>\n",
       "      <td>2.000000e+00</td>\n",
       "      <td>7.360000e+05</td>\n",
       "      <td>9.900000e+01</td>\n",
       "      <td>6.000000e+00</td>\n",
       "      <td>9.920000e+03</td>\n",
       "      <td>5.550000e+02</td>\n",
       "      <td>9.000000e+00</td>\n",
       "      <td>1.000000e+02</td>\n",
       "    </tr>\n",
       "  </tbody>\n",
       "</table>\n",
       "</div>"
      ],
      "text/plain": [
       "             REGION          AGEP          SCHL           SEX          WAGP  \\\n",
       "count  1.897348e+07  1.897348e+07  1.839731e+07  1.897348e+07  1.574302e+07   \n",
       "mean   2.663216e+00  4.110300e+01  1.600594e+01  1.511173e+00  2.784096e+04   \n",
       "std    1.022737e+00  2.360399e+01  5.638562e+00  4.998752e-01  5.158834e+04   \n",
       "min    1.000000e+00  0.000000e+00  1.000000e+00  1.000000e+00  0.000000e+00   \n",
       "25%    2.000000e+00  2.100000e+01  1.400000e+01  1.000000e+00  0.000000e+00   \n",
       "50%    3.000000e+00  4.200000e+01  1.700000e+01  2.000000e+00  7.000000e+03   \n",
       "75%    3.000000e+00  6.000000e+01  2.000000e+01  2.000000e+00  4.000000e+04   \n",
       "max    4.000000e+00  9.700000e+01  2.400000e+01  2.000000e+00  7.360000e+05   \n",
       "\n",
       "               WKHP           WKW          OCCP         POWSP         RAC1P  \\\n",
       "count  9.747443e+06  9.747443e+06  1.118794e+07  8.553913e+06  1.897348e+07   \n",
       "mean   3.805982e+01  1.881675e+00  4.288653e+03  2.798419e+01  1.892220e+00   \n",
       "std    1.329897e+01  1.617851e+00  2.630202e+03  1.769987e+01  2.104585e+00   \n",
       "min    1.000000e+00  1.000000e+00  1.000000e+01  1.000000e+00  1.000000e+00   \n",
       "25%    3.200000e+01  1.000000e+00  2.310000e+03  1.200000e+01  1.000000e+00   \n",
       "50%    4.000000e+01  1.000000e+00  4.250000e+03  2.700000e+01  1.000000e+00   \n",
       "75%    4.300000e+01  2.000000e+00  5.700000e+03  4.200000e+01  1.000000e+00   \n",
       "max    9.900000e+01  6.000000e+00  9.920000e+03  5.550000e+02  9.000000e+00   \n",
       "\n",
       "              RAC3P  \n",
       "count  1.897348e+07  \n",
       "mean   2.822543e+00  \n",
       "std    6.694164e+00  \n",
       "min    1.000000e+00  \n",
       "25%    1.000000e+00  \n",
       "50%    1.000000e+00  \n",
       "75%    1.000000e+00  \n",
       "max    1.000000e+02  "
      ]
     },
     "execution_count": 4,
     "metadata": {},
     "output_type": "execute_result"
    }
   ],
   "source": [
    "PUS_18_13.describe()"
   ]
  },
  {
   "cell_type": "code",
   "execution_count": 5,
   "metadata": {},
   "outputs": [
    {
     "data": {
      "image/png": "[encoded data removed]",
      "text/plain": [
       "<Figure size 432x288 with 1 Axes>"
      ]
     },
     "metadata": {
      "needs_background": "light"
     },
     "output_type": "display_data"
    }
   ],
   "source": [
    "g = sns.kdeplot(PUS_18_13[\"AGEP\"][(PUS_18_13[\"SEX\"] == 1) & (PUS_18_13[\"AGEP\"].notnull())])\n",
    "g = sns.kdeplot(PUS_18_13[\"AGEP\"][(PUS_18_13[\"SEX\"] == 2) & (PUS_18_13[\"AGEP\"].notnull())])\n",
    "g.set_xlabel(\"Age\")\n",
    "g.set_ylabel(\"Frequency\")\n",
    "g=g.legend([\"Male\",\"Female\"])"
   ]
  },
  {
   "cell_type": "code",
   "execution_count": 6,
   "metadata": {},
   "outputs": [
    {
     "data": {
      "text/plain": [
       "Text(0, 0.5, 'Frequency')"
      ]
     },
     "execution_count": 6,
     "metadata": {},
     "output_type": "execute_result"
    },
    {
     "data": {
      "image/png": "[encoded data removed]",
      "text/plain": [
       "<Figure size 432x288 with 1 Axes>"
      ]
     },
     "metadata": {
      "needs_background": "light"
     },
     "output_type": "display_data"
    }
   ],
   "source": [
    "g = sns.kdeplot(PUS_18_13[\"WAGP\"][(PUS_18_13[\"WAGP\"] > 0) & (PUS_18_13[\"AGEP\"] > 18)])\n",
    "g.set_xlabel(\"Wage\")\n",
    "g.set_ylabel(\"Frequency\")"
   ]
  },
  {
   "cell_type": "markdown",
   "metadata": {},
   "source": [
    "#### Full-Time Detection"
   ]
  },
  {
   "cell_type": "code",
   "execution_count": 7,
   "metadata": {},
   "outputs": [
    {
     "data": {
      "image/png": "[encoded data removed]",
      "text/plain": [
       "<Figure size 432x288 with 1 Axes>"
      ]
     },
     "metadata": {
      "needs_background": "light"
     },
     "output_type": "display_data"
    }
   ],
   "source": [
    "g = sns.distplot(PUS_18_13[\"WAGP\"][(PUS_18_13[\"WAGP\"] > 0) & (PUS_18_13[\"WKW\"] < 4) & (PUS_18_13[\"WKHP\"]  >= 35)], kde=False)\n",
    "g = sns.distplot(PUS_18_13[\"WAGP\"][(PUS_18_13[\"WAGP\"] > 0)], kde=False)"
   ]
  },
  {
   "cell_type": "code",
   "execution_count": 8,
   "metadata": {},
   "outputs": [],
   "source": [
    "# define function to seperate people who've worked more than 40 weeks / year\n",
    "def full_time_detect(df):\n",
    "    # remove rows of people who work under 40 weeks in a year\n",
    "    df['WKW'] = df['WKW'].map(lambda y: 1 if y < 4\n",
    "                              else 0)\n",
    "    df = df.loc[df.WKW != 0].copy()\n",
    "\n",
    "    # remove rows of people who work under 35 hours a week\n",
    "    df['WKHP'] = df['WKHP'].map(lambda y: 1 if y >= 35\n",
    "                                else 0)\n",
    "    df = df.loc[df.WKHP != 0].copy()\n",
    "    return df"
   ]
  },
  {
   "cell_type": "code",
   "execution_count": 9,
   "metadata": {
    "scrolled": false
   },
   "outputs": [
    {
     "name": "stdout",
     "output_type": "stream",
     "text": [
      "(6570187, 11)\n"
     ]
    },
    {
     "data": {
      "text/html": [
       "<div>\n",
       "<style scoped>\n",
       "    .dataframe tbody tr th:only-of-type {\n",
       "        vertical-align: middle;\n",
       "    }\n",
       "\n",
       "    .dataframe tbody tr th {\n",
       "        vertical-align: top;\n",
       "    }\n",
       "\n",
       "    .dataframe thead th {\n",
       "        text-align: right;\n",
       "    }\n",
       "</style>\n",
       "<table border=\"1\" class=\"dataframe\">\n",
       "  <thead>\n",
       "    <tr style=\"text-align: right;\">\n",
       "      <th></th>\n",
       "      <th>REGION</th>\n",
       "      <th>AGEP</th>\n",
       "      <th>SCHL</th>\n",
       "      <th>SEX</th>\n",
       "      <th>WAGP</th>\n",
       "      <th>WKHP</th>\n",
       "      <th>WKW</th>\n",
       "      <th>OCCP</th>\n",
       "      <th>POWSP</th>\n",
       "      <th>RAC1P</th>\n",
       "      <th>RAC3P</th>\n",
       "    </tr>\n",
       "  </thead>\n",
       "  <tbody>\n",
       "    <tr>\n",
       "      <td>count</td>\n",
       "      <td>6.570187e+06</td>\n",
       "      <td>6.570187e+06</td>\n",
       "      <td>6.570187e+06</td>\n",
       "      <td>6.570187e+06</td>\n",
       "      <td>6.570187e+06</td>\n",
       "      <td>6570187.0</td>\n",
       "      <td>6570187.0</td>\n",
       "      <td>6.570187e+06</td>\n",
       "      <td>6.351093e+06</td>\n",
       "      <td>6.570187e+06</td>\n",
       "      <td>6.570187e+06</td>\n",
       "    </tr>\n",
       "    <tr>\n",
       "      <td>mean</td>\n",
       "      <td>2.642465e+00</td>\n",
       "      <td>4.435680e+01</td>\n",
       "      <td>1.877676e+01</td>\n",
       "      <td>1.433771e+00</td>\n",
       "      <td>5.971916e+04</td>\n",
       "      <td>1.0</td>\n",
       "      <td>1.0</td>\n",
       "      <td>4.053146e+03</td>\n",
       "      <td>2.807777e+01</td>\n",
       "      <td>1.823275e+00</td>\n",
       "      <td>2.577079e+00</td>\n",
       "    </tr>\n",
       "    <tr>\n",
       "      <td>std</td>\n",
       "      <td>1.024261e+00</td>\n",
       "      <td>1.306259e+01</td>\n",
       "      <td>3.275715e+00</td>\n",
       "      <td>4.955943e-01</td>\n",
       "      <td>6.456433e+04</td>\n",
       "      <td>0.0</td>\n",
       "      <td>0.0</td>\n",
       "      <td>2.742360e+03</td>\n",
       "      <td>1.779300e+01</td>\n",
       "      <td>2.011983e+00</td>\n",
       "      <td>5.947349e+00</td>\n",
       "    </tr>\n",
       "    <tr>\n",
       "      <td>min</td>\n",
       "      <td>1.000000e+00</td>\n",
       "      <td>1.600000e+01</td>\n",
       "      <td>1.000000e+00</td>\n",
       "      <td>1.000000e+00</td>\n",
       "      <td>0.000000e+00</td>\n",
       "      <td>1.0</td>\n",
       "      <td>1.0</td>\n",
       "      <td>1.000000e+01</td>\n",
       "      <td>1.000000e+00</td>\n",
       "      <td>1.000000e+00</td>\n",
       "      <td>1.000000e+00</td>\n",
       "    </tr>\n",
       "    <tr>\n",
       "      <td>25%</td>\n",
       "      <td>2.000000e+00</td>\n",
       "      <td>3.300000e+01</td>\n",
       "      <td>1.600000e+01</td>\n",
       "      <td>1.000000e+00</td>\n",
       "      <td>2.630000e+04</td>\n",
       "      <td>1.0</td>\n",
       "      <td>1.0</td>\n",
       "      <td>1.650000e+03</td>\n",
       "      <td>1.200000e+01</td>\n",
       "      <td>1.000000e+00</td>\n",
       "      <td>1.000000e+00</td>\n",
       "    </tr>\n",
       "    <tr>\n",
       "      <td>50%</td>\n",
       "      <td>3.000000e+00</td>\n",
       "      <td>4.500000e+01</td>\n",
       "      <td>1.900000e+01</td>\n",
       "      <td>1.000000e+00</td>\n",
       "      <td>4.500000e+04</td>\n",
       "      <td>1.0</td>\n",
       "      <td>1.0</td>\n",
       "      <td>4.110000e+03</td>\n",
       "      <td>2.700000e+01</td>\n",
       "      <td>1.000000e+00</td>\n",
       "      <td>1.000000e+00</td>\n",
       "    </tr>\n",
       "    <tr>\n",
       "      <td>75%</td>\n",
       "      <td>3.000000e+00</td>\n",
       "      <td>5.500000e+01</td>\n",
       "      <td>2.100000e+01</td>\n",
       "      <td>2.000000e+00</td>\n",
       "      <td>7.000000e+04</td>\n",
       "      <td>1.0</td>\n",
       "      <td>1.0</td>\n",
       "      <td>5.740000e+03</td>\n",
       "      <td>4.200000e+01</td>\n",
       "      <td>1.000000e+00</td>\n",
       "      <td>1.000000e+00</td>\n",
       "    </tr>\n",
       "    <tr>\n",
       "      <td>max</td>\n",
       "      <td>4.000000e+00</td>\n",
       "      <td>9.600000e+01</td>\n",
       "      <td>2.400000e+01</td>\n",
       "      <td>2.000000e+00</td>\n",
       "      <td>7.360000e+05</td>\n",
       "      <td>1.0</td>\n",
       "      <td>1.0</td>\n",
       "      <td>9.830000e+03</td>\n",
       "      <td>5.550000e+02</td>\n",
       "      <td>9.000000e+00</td>\n",
       "      <td>1.000000e+02</td>\n",
       "    </tr>\n",
       "  </tbody>\n",
       "</table>\n",
       "</div>"
      ],
      "text/plain": [
       "             REGION          AGEP          SCHL           SEX          WAGP  \\\n",
       "count  6.570187e+06  6.570187e+06  6.570187e+06  6.570187e+06  6.570187e+06   \n",
       "mean   2.642465e+00  4.435680e+01  1.877676e+01  1.433771e+00  5.971916e+04   \n",
       "std    1.024261e+00  1.306259e+01  3.275715e+00  4.955943e-01  6.456433e+04   \n",
       "min    1.000000e+00  1.600000e+01  1.000000e+00  1.000000e+00  0.000000e+00   \n",
       "25%    2.000000e+00  3.300000e+01  1.600000e+01  1.000000e+00  2.630000e+04   \n",
       "50%    3.000000e+00  4.500000e+01  1.900000e+01  1.000000e+00  4.500000e+04   \n",
       "75%    3.000000e+00  5.500000e+01  2.100000e+01  2.000000e+00  7.000000e+04   \n",
       "max    4.000000e+00  9.600000e+01  2.400000e+01  2.000000e+00  7.360000e+05   \n",
       "\n",
       "            WKHP        WKW          OCCP         POWSP         RAC1P  \\\n",
       "count  6570187.0  6570187.0  6.570187e+06  6.351093e+06  6.570187e+06   \n",
       "mean         1.0        1.0  4.053146e+03  2.807777e+01  1.823275e+00   \n",
       "std          0.0        0.0  2.742360e+03  1.779300e+01  2.011983e+00   \n",
       "min          1.0        1.0  1.000000e+01  1.000000e+00  1.000000e+00   \n",
       "25%          1.0        1.0  1.650000e+03  1.200000e+01  1.000000e+00   \n",
       "50%          1.0        1.0  4.110000e+03  2.700000e+01  1.000000e+00   \n",
       "75%          1.0        1.0  5.740000e+03  4.200000e+01  1.000000e+00   \n",
       "max          1.0        1.0  9.830000e+03  5.550000e+02  9.000000e+00   \n",
       "\n",
       "              RAC3P  \n",
       "count  6.570187e+06  \n",
       "mean   2.577079e+00  \n",
       "std    5.947349e+00  \n",
       "min    1.000000e+00  \n",
       "25%    1.000000e+00  \n",
       "50%    1.000000e+00  \n",
       "75%    1.000000e+00  \n",
       "max    1.000000e+02  "
      ]
     },
     "execution_count": 9,
     "metadata": {},
     "output_type": "execute_result"
    }
   ],
   "source": [
    "ft_test = PUS_18_13.copy()\n",
    "ft_test = full_time_detect(ft_test)\n",
    "print(ft_test.shape)\n",
    "ft_test.describe()"
   ]
  },
  {
   "cell_type": "markdown",
   "metadata": {},
   "source": [
    "## Outlier Testing"
   ]
  },
  {
   "cell_type": "code",
   "execution_count": 10,
   "metadata": {},
   "outputs": [
    {
     "data": {
      "image/png": "[encoded data removed]",
      "text/plain": [
       "<Figure size 432x288 with 1 Axes>"
      ]
     },
     "metadata": {
      "needs_background": "light"
     },
     "output_type": "display_data"
    }
   ],
   "source": [
    "ax = sns.boxplot(x=ft_test[\"AGEP\"])"
   ]
  },
  {
   "cell_type": "code",
   "execution_count": 11,
   "metadata": {},
   "outputs": [
    {
     "name": "stdout",
     "output_type": "stream",
     "text": [
      "AGE IQR:  22.0  Upper:  121.0  Lower:  -33.0\n"
     ]
    }
   ],
   "source": [
    "test_age_IQR = np.percentile(ft_test.AGEP, 75) - np.percentile(ft_test.AGEP, 25) \n",
    "test_age_upper = np.percentile(ft_test.AGEP, 75) + test_age_IQR*3\n",
    "test_age_lower = np.percentile(ft_test.AGEP, 25) - test_age_IQR*3\n",
    "print (\"AGE IQR: \" , test_age_IQR,\" Upper: \" , test_age_upper ,\" Lower: \" , test_age_lower)"
   ]
  },
  {
   "cell_type": "code",
   "execution_count": 12,
   "metadata": {},
   "outputs": [
    {
     "data": {
      "image/png": "[encoded data removed]",
      "text/plain": [
       "<Figure size 432x288 with 1 Axes>"
      ]
     },
     "metadata": {
      "needs_background": "light"
     },
     "output_type": "display_data"
    }
   ],
   "source": [
    "ax = sns.boxplot(x=ft_test[\"WAGP\"])"
   ]
  },
  {
   "cell_type": "code",
   "execution_count": 13,
   "metadata": {},
   "outputs": [
    {
     "name": "stdout",
     "output_type": "stream",
     "text": [
      "Wage IQR:  43700.0  Upper:  201100.0  Lower:  -104800.0\n"
     ]
    }
   ],
   "source": [
    "test_wage_IQR = np.percentile(ft_test.WAGP, 75) - np.percentile(ft_test.WAGP, 25) \n",
    "test_wage_upper = np.percentile(ft_test.WAGP, 75) + test_wage_IQR*3\n",
    "test_wage_lower = np.percentile(ft_test.WAGP, 25) - test_wage_IQR*3\n",
    "print (\"Wage IQR: \" , test_wage_IQR,\" Upper: \" , test_wage_upper ,\" Lower: \" , test_wage_lower)"
   ]
  },
  {
   "cell_type": "code",
   "execution_count": 14,
   "metadata": {},
   "outputs": [],
   "source": [
    "def outlier_remove(df):\n",
    "    wage_IQR = np.percentile(df.WAGP, 75) - np.percentile(df.WAGP, 25) \n",
    "    wage_upper = np.percentile(df.WAGP, 75) + wage_IQR*3\n",
    "    wage_lower = np.percentile(df.WAGP, 25) - wage_IQR*3\n",
    "    \n",
    "    age_IQR = np.percentile(df.AGEP, 75) - np.percentile(df.AGEP, 25) \n",
    "    age_upper = np.percentile(df.AGEP, 75) + age_IQR*3\n",
    "    age_lower = np.percentile(df.AGEP, 25) - age_IQR*3\n",
    "    \n",
    "    df = df.loc[df.WAGP >= 12500].copy()\n",
    "    df = df.loc[df.WAGP <= wage_upper].copy()\n",
    "    df = df.loc[df.AGEP >= age_lower].copy()\n",
    "    df = df.loc[df.AGEP <= age_upper].copy()\n",
    "    \n",
    "    return df"
   ]
  },
  {
   "cell_type": "code",
   "execution_count": 15,
   "metadata": {},
   "outputs": [
    {
     "name": "stdout",
     "output_type": "stream",
     "text": [
      "(5870107, 11)\n"
     ]
    }
   ],
   "source": [
    "outlier_test = ft_test.copy()\n",
    "outlier_test = outlier_remove(outlier_test)\n",
    "print(outlier_test.shape)"
   ]
  },
  {
   "cell_type": "code",
   "execution_count": 16,
   "metadata": {},
   "outputs": [
    {
     "data": {
      "text/plain": [
       "[(12500, 250000)]"
      ]
     },
     "execution_count": 16,
     "metadata": {},
     "output_type": "execute_result"
    },
    {
     "data": {
      "image/png": "[encoded data removed]",
      "text/plain": [
       "<Figure size 432x288 with 1 Axes>"
      ]
     },
     "metadata": {
      "needs_background": "light"
     },
     "output_type": "display_data"
    }
   ],
   "source": [
    "ax = sns.distplot(outlier_test[\"WAGP\"], bins=40, kde=False)\n",
    "ax.set(xlim=(12500, 250000))"
   ]
  },
  {
   "cell_type": "markdown",
   "metadata": {},
   "source": [
    "##### Age Bins"
   ]
  },
  {
   "cell_type": "code",
   "execution_count": 17,
   "metadata": {
    "scrolled": true
   },
   "outputs": [
    {
     "data": {
      "text/plain": [
       "<seaborn.axisgrid.FacetGrid at 0x2e8ccfb0408>"
      ]
     },
     "execution_count": 17,
     "metadata": {},
     "output_type": "execute_result"
    },
    {
     "data": {
      "image/png": "[encoded data removed]",
      "text/plain": [
       "<Figure size 1260x360 with 1 Axes>"
      ]
     },
     "metadata": {
      "needs_background": "light"
     },
     "output_type": "display_data"
    }
   ],
   "source": [
    "g = sns.catplot(y=\"WAGP\", x=\"AGEP\", data=outlier_test, kind=\"box\", aspect = 3.5)\n",
    "g.set(ylim=(0, 175000))"
   ]
  },
  {
   "cell_type": "code",
   "execution_count": 18,
   "metadata": {},
   "outputs": [],
   "source": [
    "def age_bins(df):\n",
    "    df['AGEB'] = df['AGEP'].map(lambda y: \"16-23\" if y < 24\n",
    "                                else \"24-28\" if y < 29\n",
    "                                else \"29-34\" if y < 35\n",
    "                                else \"35-39\" if y < 40\n",
    "                                else \"40-49\" if y < 50\n",
    "                                else \"50-59\" if y < 60\n",
    "                                else \"60-69\" if y < 70\n",
    "                                else \"70+\")\n",
    "    return df"
   ]
  },
  {
   "cell_type": "code",
   "execution_count": 19,
   "metadata": {},
   "outputs": [],
   "source": [
    "age_test = outlier_test.copy()\n",
    "age_test.sort_values(by=['AGEP'], ascending=True, inplace=True)"
   ]
  },
  {
   "cell_type": "code",
   "execution_count": 20,
   "metadata": {},
   "outputs": [
    {
     "name": "stdout",
     "output_type": "stream",
     "text": [
      "Age : ['16-23' '24-28' '29-34' '35-39' '40-49' '50-59' '60-69' '70+']\n"
     ]
    }
   ],
   "source": [
    "age_bins(age_test)\n",
    "print(\"Age :\", age_test.AGEB.unique())"
   ]
  },
  {
   "cell_type": "code",
   "execution_count": 21,
   "metadata": {
    "scrolled": false
   },
   "outputs": [
    {
     "data": {
      "text/plain": [
       "<seaborn.axisgrid.FacetGrid at 0x2e88f955d88>"
      ]
     },
     "execution_count": 21,
     "metadata": {},
     "output_type": "execute_result"
    },
    {
     "data": {
      "image/png": "[encoded data removed]",
      "text/plain": [
       "<Figure size 720x360 with 1 Axes>"
      ]
     },
     "metadata": {
      "needs_background": "light"
     },
     "output_type": "display_data"
    }
   ],
   "source": [
    "g = sns.catplot(y=\"WAGP\", x=\"AGEB\", data=age_test, kind=\"box\", aspect = 2)\n",
    "g.set(ylim=(0, 175000))"
   ]
  },
  {
   "cell_type": "code",
   "execution_count": 22,
   "metadata": {},
   "outputs": [
    {
     "data": {
      "text/plain": [
       "50-59    1480292\n",
       "40-49    1365948\n",
       "29-34     795777\n",
       "60-69     672600\n",
       "35-39     649257\n",
       "24-28     584020\n",
       "16-23     242224\n",
       "70+        79989\n",
       "Name: AGEB, dtype: int64"
      ]
     },
     "execution_count": 22,
     "metadata": {},
     "output_type": "execute_result"
    }
   ],
   "source": [
    "age_test['AGEB'].value_counts()"
   ]
  },
  {
   "cell_type": "code",
   "execution_count": 23,
   "metadata": {
    "scrolled": true
   },
   "outputs": [
    {
     "data": {
      "text/plain": [
       "<seaborn.axisgrid.FacetGrid at 0x2e884bdf208>"
      ]
     },
     "execution_count": 23,
     "metadata": {},
     "output_type": "execute_result"
    },
    {
     "data": {
      "image/png": "[encoded data removed]",
      "text/plain": [
       "<Figure size 906.375x288 with 1 Axes>"
      ]
     },
     "metadata": {
      "needs_background": "light"
     },
     "output_type": "display_data"
    }
   ],
   "source": [
    "g = sns.catplot(y=\"WAGP\", x=\"AGEB\", data=age_test, kind=\"box\", height = 4, aspect = 3, hue = \"SEX\")\n",
    "g.set(ylim=(0, 200000))"
   ]
  },
  {
   "cell_type": "markdown",
   "metadata": {},
   "source": [
    "#### Education Split\n",
    "- NH: No High-school Degree\n",
    "- HS: Highschool Diploma (or GED)\n",
    "- SC: Some College\n",
    "- AS: Associate's degree\n",
    "- BS: Bachelor's degree\n",
    "- GD: Graduate Degree\n",
    "- DR: Doctorate Degree"
   ]
  },
  {
   "cell_type": "code",
   "execution_count": 24,
   "metadata": {},
   "outputs": [
    {
     "data": {
      "text/plain": [
       "<seaborn.axisgrid.FacetGrid at 0x2e8ccfdf588>"
      ]
     },
     "execution_count": 24,
     "metadata": {},
     "output_type": "execute_result"
    },
    {
     "data": {
      "image/png": "[encoded data removed]",
      "text/plain": [
       "<Figure size 720x360 with 1 Axes>"
      ]
     },
     "metadata": {
      "needs_background": "light"
     },
     "output_type": "display_data"
    }
   ],
   "source": [
    "g = sns.catplot(y=\"WAGP\", x=\"SCHL\", data=age_test, kind=\"box\", aspect = 2)\n",
    "g.set(ylim=(0, 175000))"
   ]
  },
  {
   "cell_type": "code",
   "execution_count": 25,
   "metadata": {},
   "outputs": [],
   "source": [
    "def edu_split(df):\n",
    "    #split into degrees\n",
    "    df['EDU'] = df['SCHL'].map(lambda y: 1 if y <=15 #didn't finish HS\n",
    "                               else 2 if y <= 17 #HS degree\n",
    "                                else 3 if y <= 19 #some college\n",
    "                               else 4 if y == 20 #AS\n",
    "                               else 5 if y == 21 #BS\n",
    "                                else 6 if y == 22 #MS\n",
    "                                else 7) #GS\n",
    "    return df"
   ]
  },
  {
   "cell_type": "code",
   "execution_count": 26,
   "metadata": {},
   "outputs": [
    {
     "name": "stdout",
     "output_type": "stream",
     "text": [
      "Edu : [1 2 3 4 6 5 7]\n"
     ]
    }
   ],
   "source": [
    "edu_test = age_test.copy()\n",
    "edu_test = edu_split(edu_test)\n",
    "print(\"Edu :\", edu_test.EDU.unique())"
   ]
  },
  {
   "cell_type": "code",
   "execution_count": 27,
   "metadata": {},
   "outputs": [],
   "source": [
    "edu_sort = edu_test.groupby('EDU').median().sort_values(by=['WAGP']).reset_index()\n",
    "edu_list = edu_sort['EDU'].tolist()"
   ]
  },
  {
   "cell_type": "code",
   "execution_count": 28,
   "metadata": {
    "scrolled": false
   },
   "outputs": [
    {
     "data": {
      "text/plain": [
       "<seaborn.axisgrid.FacetGrid at 0x2e8837b9f88>"
      ]
     },
     "execution_count": 28,
     "metadata": {},
     "output_type": "execute_result"
    },
    {
     "data": {
      "image/png": "[encoded data removed]",
      "text/plain": [
       "<Figure size 720x360 with 1 Axes>"
      ]
     },
     "metadata": {
      "needs_background": "light"
     },
     "output_type": "display_data"
    }
   ],
   "source": [
    "g = sns.catplot(y=\"WAGP\", x=\"EDU\", data=edu_test, kind=\"box\", aspect = 2, order = edu_list)\n",
    "g.set(ylim=(0, 250000))"
   ]
  },
  {
   "cell_type": "code",
   "execution_count": 29,
   "metadata": {},
   "outputs": [
    {
     "data": {
      "text/plain": [
       "<seaborn.axisgrid.FacetGrid at 0x2e8849f9f48>"
      ]
     },
     "execution_count": 29,
     "metadata": {},
     "output_type": "execute_result"
    },
    {
     "data": {
      "image/png": "[encoded data removed]",
      "text/plain": [
       "<Figure size 906.375x288 with 1 Axes>"
      ]
     },
     "metadata": {
      "needs_background": "light"
     },
     "output_type": "display_data"
    }
   ],
   "source": [
    "g = sns.catplot(y=\"WAGP\", x=\"EDU\", data=edu_test, kind=\"box\", height = 4, aspect = 3, hue = \"SEX\", order = edu_list)\n",
    "g.set(ylim=(0, 200000))"
   ]
  },
  {
   "cell_type": "code",
   "execution_count": 30,
   "metadata": {},
   "outputs": [
    {
     "data": {
      "text/plain": [
       "5    1409389\n",
       "2    1385499\n",
       "3    1251435\n",
       "6     628704\n",
       "4     582609\n",
       "1     382447\n",
       "7     230024\n",
       "Name: EDU, dtype: int64"
      ]
     },
     "execution_count": 30,
     "metadata": {},
     "output_type": "execute_result"
    }
   ],
   "source": [
    "edu_test['EDU'].value_counts()"
   ]
  },
  {
   "cell_type": "markdown",
   "metadata": {},
   "source": [
    "#### Occupation Split\n",
    "- 0010-0960: Management, Business, and Financial Occupations\n",
    "- 1005-1980: Computer, Engineering, and Science Occupations\n",
    "- 2001-2970: Education, Legal, Community Service, Arts, and Media Occupations\n",
    "- 3000-3550: Healthcare Practitioners and Technical Occupations\n",
    "- 3601-4655: Service Occupations\n",
    "- 4700-5940: Sales and Office Occupations\n",
    "- 6005-7640: Natural Resources, Construction, and Maintenance Occupations\n",
    "- 7700-8990: Production Occupations\n",
    "- 9005-9760: Transportation and Material Moving Occupations\n",
    "- 9800-9830: Military Specific Occupations"
   ]
  },
  {
   "cell_type": "code",
   "execution_count": 31,
   "metadata": {},
   "outputs": [],
   "source": [
    "def int_occ_split(df):\n",
    "    # split into occupational industries\n",
    "    df['JOB'] = df['OCCP'].map(lambda y: \"Business\" if y <= 960\n",
    "                                else \"Science\" if y <= 1980\n",
    "                                else \"Arts\" if y <= 2970\n",
    "                                else \"Healthcare\" if y <= 3550\n",
    "                                else \"Service\" if y <= 4655\n",
    "                                else \"Sales\" if y <= 5940\n",
    "                                else \"Maintenance\" if y <= 7640\n",
    "                                else \"Production\" if y <= 8990\n",
    "                                else \"Transportation\" if y <= 9760\n",
    "                                else \"Military\" if y <= 9830\n",
    "                                else \"UN\")\n",
    "    return df"
   ]
  },
  {
   "cell_type": "code",
   "execution_count": 32,
   "metadata": {},
   "outputs": [
    {
     "name": "stdout",
     "output_type": "stream",
     "text": [
      "Occ : ['Business' 'Healthcare' 'Service' 'Maintenance' 'Transportation' 'Arts'\n",
      " 'Sales' 'Production' 'Science' 'Military']\n"
     ]
    }
   ],
   "source": [
    "int_occ_test = edu_test.copy()\n",
    "int_occ_test = int_occ_split(int_occ_test)\n",
    "print(\"Occ :\", int_occ_test.JOB.unique())"
   ]
  },
  {
   "cell_type": "code",
   "execution_count": 33,
   "metadata": {},
   "outputs": [],
   "source": [
    "int_occ_sort = int_occ_test.groupby('JOB').median().sort_values(by=['WAGP']).reset_index()\n",
    "int_occ_list = int_occ_sort['JOB'].tolist()"
   ]
  },
  {
   "cell_type": "code",
   "execution_count": 34,
   "metadata": {},
   "outputs": [
    {
     "data": {
      "text/plain": [
       "<seaborn.axisgrid.FacetGrid at 0x2e883bafe48>"
      ]
     },
     "execution_count": 34,
     "metadata": {},
     "output_type": "execute_result"
    },
    {
     "data": {
      "image/png": "[encoded data removed]",
      "text/plain": [
       "<Figure size 720x360 with 1 Axes>"
      ]
     },
     "metadata": {
      "needs_background": "light"
     },
     "output_type": "display_data"
    }
   ],
   "source": [
    "g = sns.catplot(y=\"WAGP\", x=\"JOB\", data=int_occ_test, kind=\"box\", aspect = 2, order = int_occ_list)\n",
    "g.set(ylim=(0, 175000))"
   ]
  },
  {
   "cell_type": "code",
   "execution_count": 35,
   "metadata": {},
   "outputs": [
    {
     "data": {
      "text/plain": [
       "<seaborn.axisgrid.FacetGrid at 0x2e883d11c88>"
      ]
     },
     "execution_count": 35,
     "metadata": {},
     "output_type": "execute_result"
    },
    {
     "data": {
      "image/png": "[encoded data removed]",
      "text/plain": [
       "<Figure size 906.375x288 with 1 Axes>"
      ]
     },
     "metadata": {
      "needs_background": "light"
     },
     "output_type": "display_data"
    }
   ],
   "source": [
    "g = sns.catplot(y=\"WAGP\", x=\"JOB\", data=int_occ_test, kind=\"box\", height = 4, aspect = 3, hue = \"SEX\", order = int_occ_list)\n",
    "g.set(ylim=(0, 175000))"
   ]
  },
  {
   "cell_type": "code",
   "execution_count": 36,
   "metadata": {},
   "outputs": [
    {
     "data": {
      "text/plain": [
       "Sales             1287884\n",
       "Business          1078869\n",
       "Service            688923\n",
       "Arts               665866\n",
       "Maintenance        550769\n",
       "Science            432793\n",
       "Production         408831\n",
       "Healthcare         365863\n",
       "Transportation     362659\n",
       "Military            27650\n",
       "Name: JOB, dtype: int64"
      ]
     },
     "execution_count": 36,
     "metadata": {},
     "output_type": "execute_result"
    }
   ],
   "source": [
    "int_occ_test['JOB'].value_counts()"
   ]
  },
  {
   "cell_type": "code",
   "execution_count": 37,
   "metadata": {},
   "outputs": [],
   "source": [
    "def occ_split(df):\n",
    "    # split into occupational industries\n",
    "    df['JOB'] = df['OCCP'].map(lambda y: 2 if y <= 960 #Business\n",
    "                                else 1 if y <= 1980 #Science\n",
    "                                else 4 if y <= 2970 #Arts\n",
    "                                else 3 if y <= 3550 # Healthcare\n",
    "                                else 10 if y <= 4655 #Service\n",
    "                                else 7 if y <= 5940 #Sales\n",
    "                                else 5 if y <= 7640 #Maintenance\n",
    "                                else 8 if y <= 8990 #Production\n",
    "                                else 9 if y <= 9760 #Transportation\n",
    "                                else 6 if y <= 9830 #Military\n",
    "                                else 11) #Undefined\n",
    "    return df"
   ]
  },
  {
   "cell_type": "code",
   "execution_count": 38,
   "metadata": {},
   "outputs": [
    {
     "name": "stdout",
     "output_type": "stream",
     "text": [
      "Occ : [ 2  3 10  5  9  4  7  8  1  6]\n"
     ]
    }
   ],
   "source": [
    "occ_test = edu_test.copy()\n",
    "occ_test = occ_split(occ_test)\n",
    "print(\"Occ :\", occ_test.JOB.unique())"
   ]
  },
  {
   "cell_type": "markdown",
   "metadata": {},
   "source": [
    "#### State - POWSP"
   ]
  },
  {
   "cell_type": "code",
   "execution_count": 39,
   "metadata": {},
   "outputs": [],
   "source": [
    "int_state_sort = occ_test.groupby('POWSP').median().reset_index()\n",
    "int_state_sort['reg_code'] = ['3', '4', '4', '3', '4', '4', '1', '3', '3', '3',\n",
    "                          '3', '4', '4', '2', '2', '2', '2', '3', '3', '1',\n",
    "                          '3', '1', '2', '2', '3', '2', '4', '2', '4', '1',\n",
    "                          '1', '4', '1', '3', '2', '2', '3', '4', '1', '1',\n",
    "                          '3', '2', '3', '3', '4', '1', '3', '4', '3', '2',\n",
    "                          '4', '5', '5', '5', '5', '5', '5', '5', '5']\n",
    "int_state_sort = int_state_sort.sort_values(by=['WAGP'])\n",
    "int_state_list = int_state_sort['POWSP'].tolist()"
   ]
  },
  {
   "cell_type": "code",
   "execution_count": 40,
   "metadata": {},
   "outputs": [],
   "source": [
    "reg_sort = int_state_sort.sort_values(by=['reg_code'])\n",
    "reg_list = reg_sort['POWSP'].tolist()"
   ]
  },
  {
   "cell_type": "code",
   "execution_count": 41,
   "metadata": {},
   "outputs": [
    {
     "data": {
      "text/plain": [
       "<seaborn.axisgrid.FacetGrid at 0x2e8847a8d48>"
      ]
     },
     "execution_count": 41,
     "metadata": {},
     "output_type": "execute_result"
    },
    {
     "data": {
      "image/png": "[encoded data removed]",
      "text/plain": [
       "<Figure size 1493.62x360 with 1 Axes>"
      ]
     },
     "metadata": {
      "needs_background": "light"
     },
     "output_type": "display_data"
    }
   ],
   "source": [
    "g = sns.catplot(y=\"WAGP\", x=\"POWSP\", hue = 'reg_code', data=reg_sort, kind=\"bar\", aspect = 4, order = reg_list)\n",
    "g.set(ylim=(0, 175000))"
   ]
  },
  {
   "cell_type": "code",
   "execution_count": 42,
   "metadata": {
    "scrolled": true
   },
   "outputs": [
    {
     "data": {
      "text/plain": [
       "<seaborn.axisgrid.FacetGrid at 0x2e884483948>"
      ]
     },
     "execution_count": 42,
     "metadata": {},
     "output_type": "execute_result"
    },
    {
     "data": {
      "image/png": "[encoded data removed]",
      "text/plain": [
       "<Figure size 1440x360 with 1 Axes>"
      ]
     },
     "metadata": {
      "needs_background": "light"
     },
     "output_type": "display_data"
    }
   ],
   "source": [
    "g = sns.catplot(y=\"WAGP\", x=\"POWSP\", data=occ_test, kind=\"box\", aspect = 4, order = int_state_list)\n",
    "g.set(ylim=(0, 175000))"
   ]
  },
  {
   "cell_type": "code",
   "execution_count": 43,
   "metadata": {},
   "outputs": [
    {
     "data": {
      "text/plain": [
       "<seaborn.axisgrid.FacetGrid at 0x2e88e2fca48>"
      ]
     },
     "execution_count": 43,
     "metadata": {},
     "output_type": "execute_result"
    },
    {
     "data": {
      "image/png": "[encoded data removed]",
      "text/plain": [
       "<Figure size 720x360 with 1 Axes>"
      ]
     },
     "metadata": {
      "needs_background": "light"
     },
     "output_type": "display_data"
    }
   ],
   "source": [
    "g = sns.catplot(y=\"WAGP\", x=\"REGION\", data=ft_test, kind=\"box\", aspect = 2)\n",
    "g.set(ylim=(0, 175000))"
   ]
  },
  {
   "cell_type": "code",
   "execution_count": 44,
   "metadata": {},
   "outputs": [
    {
     "name": "stdout",
     "output_type": "stream",
     "text": [
      "[28.0, 5.0, 30.0, 45.0, 40.0, 47.0, 54.0, 16.0, 46.0, 1.0, 29.0, 35.0, 18.0, 12.0, 31.0, 32.0, 37.0, 23.0, 21.0, 20.0, 19.0, 22.0, 39.0, 26.0, 4.0, 13.0, 48.0, 50.0, 55.0, 15.0, 38.0, 42.0, 49.0, 41.0, 56.0, 27.0, 33.0, 2.0, 6.0, 17.0, 8.0, 10.0, 51.0, 53.0, 44.0, 36.0, 303.0, 34.0, 24.0, 72.0, 25.0, 9.0, 251.0, 399.0, 301.0, 555.0, 11.0, 166.0, 254.0]\n"
     ]
    }
   ],
   "source": [
    "print (int_state_list)"
   ]
  },
  {
   "cell_type": "code",
   "execution_count": 45,
   "metadata": {},
   "outputs": [],
   "source": [
    "def state_split(df):\n",
    "    # split into higher paying states\n",
    "    df['STSP'] = df['POWSP'].map(lambda y: 1 if y in [17.0, 8.0, 10.0, 51.0, 53.0, 44.0, 36.0, 303.0, 34.0, 24.0, 72.0, 25.0, 9.0, 251.0, 399.0, 301.0, 555.0, 11.0, 166.0, 254.0]\n",
    "                                 else 2 if y in [50.0, 55.0, 15.0, 38.0, 42.0, 49.0, 41.0, 56.0, 27.0, 33.0, 2.0,6.0]\n",
    "                                 else 3 if y in [23.0, 21.0, 20.0, 19.0, 22.0, 39.0, 26.0, 4.0,13.0, 48.0, ]\n",
    "                                 else 4 if y in [28.0, 5.0, 30.0, 45.0, 40.0, 47.0, 54.0, 16.0, 46.0, 1.0, 29.0, 35.0, 18.0, 12.0, 31.0,32.0, 37.0, ]\n",
    "                                 else 5)\n",
    "    test = df.loc[df['STSP'] == 5].copy()\n",
    "    df = df.loc[df['STSP'] != 5]\n",
    "    test['STSP'] = test['REGION'].map(lambda y: 1 if y == 1\n",
    "                                      else 2 if y == 4\n",
    "                                      else 3 if y == 2\n",
    "                                      else 4 if y == 3\n",
    "                                      else 10)\n",
    "    df = pd.concat([df, test])\n",
    "\n",
    "    return df"
   ]
  },
  {
   "cell_type": "code",
   "execution_count": 46,
   "metadata": {},
   "outputs": [
    {
     "name": "stdout",
     "output_type": "stream",
     "text": [
      "State : [2 1 4 3]\n"
     ]
    },
    {
     "data": {
      "text/plain": [
       "1    1584412\n",
       "3    1473381\n",
       "4    1455582\n",
       "2    1356732\n",
       "Name: STSP, dtype: int64"
      ]
     },
     "execution_count": 46,
     "metadata": {},
     "output_type": "execute_result"
    }
   ],
   "source": [
    "state_test = occ_test.copy()\n",
    "state_test = state_split(state_test)\n",
    "print(\"State :\", state_test.STSP.unique())\n",
    "state_test['STSP'].value_counts()"
   ]
  },
  {
   "cell_type": "code",
   "execution_count": 47,
   "metadata": {},
   "outputs": [],
   "source": [
    "state_sort = state_test.groupby('STSP').median().sort_values(by=['WAGP']).reset_index()\n",
    "state_list = state_sort['STSP'].tolist()"
   ]
  },
  {
   "cell_type": "code",
   "execution_count": 48,
   "metadata": {},
   "outputs": [
    {
     "data": {
      "text/plain": [
       "<seaborn.axisgrid.FacetGrid at 0x2e88e68f248>"
      ]
     },
     "execution_count": 48,
     "metadata": {},
     "output_type": "execute_result"
    },
    {
     "data": {
      "image/png": "[encoded data removed]",
      "text/plain": [
       "<Figure size 720x360 with 1 Axes>"
      ]
     },
     "metadata": {
      "needs_background": "light"
     },
     "output_type": "display_data"
    }
   ],
   "source": [
    "g = sns.catplot(y=\"WAGP\", x=\"STSP\", data=state_test, kind=\"box\", aspect = 2, order = state_list)\n",
    "g.set(ylim=(0, 175000))"
   ]
  },
  {
   "cell_type": "code",
   "execution_count": 49,
   "metadata": {},
   "outputs": [
    {
     "data": {
      "text/plain": [
       "<seaborn.axisgrid.FacetGrid at 0x2e88e66a988>"
      ]
     },
     "execution_count": 49,
     "metadata": {},
     "output_type": "execute_result"
    },
    {
     "data": {
      "image/png": "[encoded data removed]",
      "text/plain": [
       "<Figure size 906.375x288 with 1 Axes>"
      ]
     },
     "metadata": {
      "needs_background": "light"
     },
     "output_type": "display_data"
    }
   ],
   "source": [
    "g = sns.catplot(y=\"WAGP\", x=\"STSP\", data=state_test, kind=\"box\", height = 4, aspect = 3, hue = \"SEX\", order = state_list)\n",
    "g.set(ylim=(0, 175000))"
   ]
  },
  {
   "cell_type": "markdown",
   "metadata": {},
   "source": [
    "#### Ethnicity - RAC1P"
   ]
  },
  {
   "cell_type": "code",
   "execution_count": 50,
   "metadata": {
    "scrolled": true
   },
   "outputs": [
    {
     "data": {
      "text/plain": [
       "<seaborn.axisgrid.FacetGrid at 0x2e88ede8488>"
      ]
     },
     "execution_count": 50,
     "metadata": {},
     "output_type": "execute_result"
    },
    {
     "data": {
      "image/png": "[encoded data removed]",
      "text/plain": [
       "<Figure size 1440x360 with 1 Axes>"
      ]
     },
     "metadata": {
      "needs_background": "light"
     },
     "output_type": "display_data"
    }
   ],
   "source": [
    "g = sns.catplot(y=\"WAGP\", x=\"RAC1P\", data=state_test, kind=\"box\", aspect = 4)\n",
    "g.set(ylim=(0, 175000))"
   ]
  },
  {
   "cell_type": "code",
   "execution_count": 51,
   "metadata": {},
   "outputs": [
    {
     "data": {
      "text/plain": [
       "1    4613731\n",
       "2     531194\n",
       "6     332972\n",
       "8     213146\n",
       "9     120271\n",
       "3      40507\n",
       "7       9945\n",
       "5       6321\n",
       "4       2020\n",
       "Name: RAC1P, dtype: int64"
      ]
     },
     "execution_count": 51,
     "metadata": {},
     "output_type": "execute_result"
    }
   ],
   "source": [
    "state_test['RAC1P'].value_counts()"
   ]
  },
  {
   "cell_type": "code",
   "execution_count": 52,
   "metadata": {},
   "outputs": [],
   "source": [
    "def int_race_split(df):\n",
    "    # split into occupational industries\n",
    "    df['RACE'] = df['RAC3P'].map(lambda y: \"WHT\" if y == 1\n",
    "                               else \"BLK\" if y == 2\n",
    "                               else \"IND\" if y == 3\n",
    "                               else \"ASN\" if y <= 10\n",
    "                               else \"ISL\" if y <= 14\n",
    "                               else \"NAN\" if y == 15\n",
    "                               else \"WHT\" if y <= 29\n",
    "                               else \"BLK\" if y <= 38\n",
    "                               else \"IND\" if y <= 41\n",
    "                               else \"ASN\" if y <= 58\n",
    "                               else \"ISL\" if y == 59\n",
    "                               else \"WHT\" if y <= 70\n",
    "                               else \"ASN\" if y == 71\n",
    "                               else \"WHT\" if y <= 73\n",
    "                               else \"BLK\" if y <= 75\n",
    "                               else \"ASN\" if y <= 77\n",
    "                               else \"WHT\" if y <= 89\n",
    "                               else \"BLK\" if y <= 91\n",
    "                               else \"ASN\" if y <= 98\n",
    "                               else \"ISL\" if y == 99\n",
    "                               else \"WHT\" if y == 100\n",
    "                               else \"UN\")\n",
    "    return df"
   ]
  },
  {
   "cell_type": "code",
   "execution_count": 53,
   "metadata": {},
   "outputs": [
    {
     "name": "stdout",
     "output_type": "stream",
     "text": [
      "RACE : ['WHT' 'BLK' 'NAN' 'ASN' 'ISL' 'IND']\n"
     ]
    }
   ],
   "source": [
    "int_race_test = state_test.copy()\n",
    "int_race_test = int_race_split(int_race_test)\n",
    "print(\"RACE :\", int_race_test.RACE.unique())"
   ]
  },
  {
   "cell_type": "code",
   "execution_count": 54,
   "metadata": {},
   "outputs": [
    {
     "data": {
      "text/plain": [
       "WHT    4714187\n",
       "BLK     540687\n",
       "ASN     341008\n",
       "NAN     213146\n",
       "IND      50639\n",
       "ISL      10440\n",
       "Name: RACE, dtype: int64"
      ]
     },
     "execution_count": 54,
     "metadata": {},
     "output_type": "execute_result"
    }
   ],
   "source": [
    "int_race_test['RACE'].value_counts()"
   ]
  },
  {
   "cell_type": "code",
   "execution_count": 55,
   "metadata": {
    "scrolled": false
   },
   "outputs": [
    {
     "data": {
      "text/plain": [
       "<seaborn.axisgrid.FacetGrid at 0x2e88f8b8208>"
      ]
     },
     "execution_count": 55,
     "metadata": {},
     "output_type": "execute_result"
    },
    {
     "data": {
      "image/png": "[encoded data removed]",
      "text/plain": [
       "<Figure size 1080x360 with 1 Axes>"
      ]
     },
     "metadata": {
      "needs_background": "light"
     },
     "output_type": "display_data"
    }
   ],
   "source": [
    "int_race_sort = int_race_test.groupby('RACE').median().sort_values(by=['WAGP']).reset_index()\n",
    "int_race_list = int_race_sort['RACE'].tolist()\n",
    "g = sns.catplot(y=\"WAGP\", x=\"RACE\", data=int_race_test, kind=\"box\", aspect = 3, order = int_race_list)\n",
    "g.set(ylim=(0, 175000))"
   ]
  },
  {
   "cell_type": "code",
   "execution_count": 56,
   "metadata": {},
   "outputs": [],
   "source": [
    "def race_split(df):\n",
    "    # split into occupational industries\n",
    "    df['RACE'] = df['RAC3P'].map(lambda y: \"WHT\" if y == 1\n",
    "                               else \"BLK\" if y == 2\n",
    "                               else \"IND\" if y == 3\n",
    "                               else \"ASN\" if y <= 10\n",
    "                               else \"ISL\" if y <= 14\n",
    "                               else \"NAN\" if y == 15\n",
    "                               else \"WHT\" if y <= 29\n",
    "                               else \"BLK\" if y <= 38\n",
    "                               else \"IND\" if y <= 41\n",
    "                               else \"ASN\" if y <= 58\n",
    "                               else \"ISL\" if y == 59\n",
    "                               else \"WHT\" if y <= 70\n",
    "                               else \"ASN\" if y == 71\n",
    "                               else \"WHT\" if y <= 73\n",
    "                               else \"BLK\" if y <= 75\n",
    "                               else \"ASN\" if y <= 77\n",
    "                               else \"WHT\" if y <= 89\n",
    "                               else \"BLK\" if y <= 91\n",
    "                               else \"ASN\" if y <= 98\n",
    "                               else \"ISL\" if y == 99\n",
    "                               else \"WHT\" if y == 100\n",
    "                               else \"UN\")\n",
    "    df['RACE'] = df['RACE'].map(lambda y: 2 if y in ['WHT'] #white\n",
    "                               else 3 if y in ['BLK'] #black\n",
    "                               else 1 if y in ['ASN'] #asian\n",
    "                               else 4) #Other\n",
    "    return df"
   ]
  },
  {
   "cell_type": "code",
   "execution_count": 57,
   "metadata": {},
   "outputs": [
    {
     "name": "stdout",
     "output_type": "stream",
     "text": [
      "RACE : [2 3 4 1]\n"
     ]
    }
   ],
   "source": [
    "race_test = state_test.copy()\n",
    "race_test = race_split(race_test)\n",
    "print(\"RACE :\", race_test.RACE.unique())"
   ]
  },
  {
   "cell_type": "code",
   "execution_count": 58,
   "metadata": {},
   "outputs": [
    {
     "data": {
      "text/plain": [
       "2    4714187\n",
       "3     540687\n",
       "1     341008\n",
       "4     274225\n",
       "Name: RACE, dtype: int64"
      ]
     },
     "execution_count": 58,
     "metadata": {},
     "output_type": "execute_result"
    }
   ],
   "source": [
    "race_test['RACE'].value_counts()"
   ]
  },
  {
   "cell_type": "code",
   "execution_count": 59,
   "metadata": {},
   "outputs": [
    {
     "data": {
      "text/plain": [
       "<seaborn.axisgrid.FacetGrid at 0x2e891ebe948>"
      ]
     },
     "execution_count": 59,
     "metadata": {},
     "output_type": "execute_result"
    },
    {
     "data": {
      "image/png": "[encoded data removed]",
      "text/plain": [
       "<Figure size 1080x360 with 1 Axes>"
      ]
     },
     "metadata": {
      "needs_background": "light"
     },
     "output_type": "display_data"
    }
   ],
   "source": [
    "race_sort = race_test.groupby('RACE').median().sort_values(by=['WAGP']).reset_index()\n",
    "race_list = race_sort['RACE'].tolist()\n",
    "g = sns.catplot(y=\"WAGP\", x=\"RACE\", data=race_test, kind=\"box\", aspect = 3, order = race_list)\n",
    "g.set(ylim=(0, 175000))"
   ]
  },
  {
   "cell_type": "markdown",
   "metadata": {},
   "source": [
    "#### Remove Columns"
   ]
  },
  {
   "cell_type": "code",
   "execution_count": 60,
   "metadata": {
    "scrolled": true
   },
   "outputs": [
    {
     "data": {
      "text/plain": [
       "Index(['REGION', 'AGEP', 'SCHL', 'SEX', 'WAGP', 'WKHP', 'WKW', 'OCCP', 'POWSP',\n",
       "       'RAC1P', 'RAC3P', 'AGEB', 'EDU', 'JOB', 'STSP', 'RACE'],\n",
       "      dtype='object')"
      ]
     },
     "execution_count": 60,
     "metadata": {},
     "output_type": "execute_result"
    }
   ],
   "source": [
    "race_test.columns"
   ]
  },
  {
   "cell_type": "code",
   "execution_count": 61,
   "metadata": {},
   "outputs": [
    {
     "data": {
      "text/html": [
       "<div>\n",
       "<style scoped>\n",
       "    .dataframe tbody tr th:only-of-type {\n",
       "        vertical-align: middle;\n",
       "    }\n",
       "\n",
       "    .dataframe tbody tr th {\n",
       "        vertical-align: top;\n",
       "    }\n",
       "\n",
       "    .dataframe thead th {\n",
       "        text-align: right;\n",
       "    }\n",
       "</style>\n",
       "<table border=\"1\" class=\"dataframe\">\n",
       "  <thead>\n",
       "    <tr style=\"text-align: right;\">\n",
       "      <th></th>\n",
       "      <th>REGION</th>\n",
       "      <th>AGEP</th>\n",
       "      <th>SCHL</th>\n",
       "      <th>SEX</th>\n",
       "      <th>WAGP</th>\n",
       "      <th>WKHP</th>\n",
       "      <th>WKW</th>\n",
       "      <th>OCCP</th>\n",
       "      <th>POWSP</th>\n",
       "      <th>RAC1P</th>\n",
       "      <th>RAC3P</th>\n",
       "      <th>AGEB</th>\n",
       "      <th>EDU</th>\n",
       "      <th>JOB</th>\n",
       "      <th>STSP</th>\n",
       "      <th>RACE</th>\n",
       "    </tr>\n",
       "  </thead>\n",
       "  <tbody>\n",
       "    <tr>\n",
       "      <td>count</td>\n",
       "      <td>5.870107e+06</td>\n",
       "      <td>5.870107e+06</td>\n",
       "      <td>5.870107e+06</td>\n",
       "      <td>5.870107e+06</td>\n",
       "      <td>5.870107e+06</td>\n",
       "      <td>5870107.0</td>\n",
       "      <td>5870107.0</td>\n",
       "      <td>5.870107e+06</td>\n",
       "      <td>5.691810e+06</td>\n",
       "      <td>5.870107e+06</td>\n",
       "      <td>5.870107e+06</td>\n",
       "      <td>5870107</td>\n",
       "      <td>5.870107e+06</td>\n",
       "      <td>5.870107e+06</td>\n",
       "      <td>5.870107e+06</td>\n",
       "      <td>5.870107e+06</td>\n",
       "    </tr>\n",
       "    <tr>\n",
       "      <td>unique</td>\n",
       "      <td>NaN</td>\n",
       "      <td>NaN</td>\n",
       "      <td>NaN</td>\n",
       "      <td>NaN</td>\n",
       "      <td>NaN</td>\n",
       "      <td>NaN</td>\n",
       "      <td>NaN</td>\n",
       "      <td>NaN</td>\n",
       "      <td>NaN</td>\n",
       "      <td>NaN</td>\n",
       "      <td>NaN</td>\n",
       "      <td>8</td>\n",
       "      <td>NaN</td>\n",
       "      <td>NaN</td>\n",
       "      <td>NaN</td>\n",
       "      <td>NaN</td>\n",
       "    </tr>\n",
       "    <tr>\n",
       "      <td>top</td>\n",
       "      <td>NaN</td>\n",
       "      <td>NaN</td>\n",
       "      <td>NaN</td>\n",
       "      <td>NaN</td>\n",
       "      <td>NaN</td>\n",
       "      <td>NaN</td>\n",
       "      <td>NaN</td>\n",
       "      <td>NaN</td>\n",
       "      <td>NaN</td>\n",
       "      <td>NaN</td>\n",
       "      <td>NaN</td>\n",
       "      <td>50-59</td>\n",
       "      <td>NaN</td>\n",
       "      <td>NaN</td>\n",
       "      <td>NaN</td>\n",
       "      <td>NaN</td>\n",
       "    </tr>\n",
       "    <tr>\n",
       "      <td>freq</td>\n",
       "      <td>NaN</td>\n",
       "      <td>NaN</td>\n",
       "      <td>NaN</td>\n",
       "      <td>NaN</td>\n",
       "      <td>NaN</td>\n",
       "      <td>NaN</td>\n",
       "      <td>NaN</td>\n",
       "      <td>NaN</td>\n",
       "      <td>NaN</td>\n",
       "      <td>NaN</td>\n",
       "      <td>NaN</td>\n",
       "      <td>1480292</td>\n",
       "      <td>NaN</td>\n",
       "      <td>NaN</td>\n",
       "      <td>NaN</td>\n",
       "      <td>NaN</td>\n",
       "    </tr>\n",
       "    <tr>\n",
       "      <td>mean</td>\n",
       "      <td>2.638457e+00</td>\n",
       "      <td>4.417040e+01</td>\n",
       "      <td>1.880606e+01</td>\n",
       "      <td>1.443043e+00</td>\n",
       "      <td>5.612929e+04</td>\n",
       "      <td>1.0</td>\n",
       "      <td>1.0</td>\n",
       "      <td>4.076162e+03</td>\n",
       "      <td>2.810648e+01</td>\n",
       "      <td>1.821496e+00</td>\n",
       "      <td>2.575838e+00</td>\n",
       "      <td>NaN</td>\n",
       "      <td>3.691163e+00</td>\n",
       "      <td>5.402001e+00</td>\n",
       "      <td>2.477016e+00</td>\n",
       "      <td>2.127447e+00</td>\n",
       "    </tr>\n",
       "    <tr>\n",
       "      <td>std</td>\n",
       "      <td>1.022973e+00</td>\n",
       "      <td>1.288817e+01</td>\n",
       "      <td>3.208281e+00</td>\n",
       "      <td>4.967453e-01</td>\n",
       "      <td>3.576042e+04</td>\n",
       "      <td>0.0</td>\n",
       "      <td>0.0</td>\n",
       "      <td>2.752064e+03</td>\n",
       "      <td>1.761029e+01</td>\n",
       "      <td>2.008264e+00</td>\n",
       "      <td>5.963431e+00</td>\n",
       "      <td>NaN</td>\n",
       "      <td>1.633847e+00</td>\n",
       "      <td>2.909731e+00</td>\n",
       "      <td>1.133678e+00</td>\n",
       "      <td>5.664098e-01</td>\n",
       "    </tr>\n",
       "    <tr>\n",
       "      <td>min</td>\n",
       "      <td>1.000000e+00</td>\n",
       "      <td>1.600000e+01</td>\n",
       "      <td>1.000000e+00</td>\n",
       "      <td>1.000000e+00</td>\n",
       "      <td>1.250000e+04</td>\n",
       "      <td>1.0</td>\n",
       "      <td>1.0</td>\n",
       "      <td>1.000000e+01</td>\n",
       "      <td>1.000000e+00</td>\n",
       "      <td>1.000000e+00</td>\n",
       "      <td>1.000000e+00</td>\n",
       "      <td>NaN</td>\n",
       "      <td>1.000000e+00</td>\n",
       "      <td>1.000000e+00</td>\n",
       "      <td>1.000000e+00</td>\n",
       "      <td>1.000000e+00</td>\n",
       "    </tr>\n",
       "    <tr>\n",
       "      <td>25%</td>\n",
       "      <td>2.000000e+00</td>\n",
       "      <td>3.300000e+01</td>\n",
       "      <td>1.600000e+01</td>\n",
       "      <td>1.000000e+00</td>\n",
       "      <td>3.000000e+04</td>\n",
       "      <td>1.0</td>\n",
       "      <td>1.0</td>\n",
       "      <td>1.720000e+03</td>\n",
       "      <td>1.200000e+01</td>\n",
       "      <td>1.000000e+00</td>\n",
       "      <td>1.000000e+00</td>\n",
       "      <td>NaN</td>\n",
       "      <td>2.000000e+00</td>\n",
       "      <td>2.000000e+00</td>\n",
       "      <td>1.000000e+00</td>\n",
       "      <td>2.000000e+00</td>\n",
       "    </tr>\n",
       "    <tr>\n",
       "      <td>50%</td>\n",
       "      <td>3.000000e+00</td>\n",
       "      <td>4.500000e+01</td>\n",
       "      <td>1.900000e+01</td>\n",
       "      <td>1.000000e+00</td>\n",
       "      <td>4.600000e+04</td>\n",
       "      <td>1.0</td>\n",
       "      <td>1.0</td>\n",
       "      <td>4.110000e+03</td>\n",
       "      <td>2.800000e+01</td>\n",
       "      <td>1.000000e+00</td>\n",
       "      <td>1.000000e+00</td>\n",
       "      <td>NaN</td>\n",
       "      <td>3.000000e+00</td>\n",
       "      <td>5.000000e+00</td>\n",
       "      <td>2.000000e+00</td>\n",
       "      <td>2.000000e+00</td>\n",
       "    </tr>\n",
       "    <tr>\n",
       "      <td>75%</td>\n",
       "      <td>3.000000e+00</td>\n",
       "      <td>5.500000e+01</td>\n",
       "      <td>2.100000e+01</td>\n",
       "      <td>2.000000e+00</td>\n",
       "      <td>7.100000e+04</td>\n",
       "      <td>1.0</td>\n",
       "      <td>1.0</td>\n",
       "      <td>5.810000e+03</td>\n",
       "      <td>4.200000e+01</td>\n",
       "      <td>1.000000e+00</td>\n",
       "      <td>1.000000e+00</td>\n",
       "      <td>NaN</td>\n",
       "      <td>5.000000e+00</td>\n",
       "      <td>7.000000e+00</td>\n",
       "      <td>3.000000e+00</td>\n",
       "      <td>2.000000e+00</td>\n",
       "    </tr>\n",
       "    <tr>\n",
       "      <td>max</td>\n",
       "      <td>4.000000e+00</td>\n",
       "      <td>9.600000e+01</td>\n",
       "      <td>2.400000e+01</td>\n",
       "      <td>2.000000e+00</td>\n",
       "      <td>2.010000e+05</td>\n",
       "      <td>1.0</td>\n",
       "      <td>1.0</td>\n",
       "      <td>9.830000e+03</td>\n",
       "      <td>5.550000e+02</td>\n",
       "      <td>9.000000e+00</td>\n",
       "      <td>1.000000e+02</td>\n",
       "      <td>NaN</td>\n",
       "      <td>7.000000e+00</td>\n",
       "      <td>1.000000e+01</td>\n",
       "      <td>4.000000e+00</td>\n",
       "      <td>4.000000e+00</td>\n",
       "    </tr>\n",
       "  </tbody>\n",
       "</table>\n",
       "</div>"
      ],
      "text/plain": [
       "              REGION          AGEP          SCHL           SEX          WAGP  \\\n",
       "count   5.870107e+06  5.870107e+06  5.870107e+06  5.870107e+06  5.870107e+06   \n",
       "unique           NaN           NaN           NaN           NaN           NaN   \n",
       "top              NaN           NaN           NaN           NaN           NaN   \n",
       "freq             NaN           NaN           NaN           NaN           NaN   \n",
       "mean    2.638457e+00  4.417040e+01  1.880606e+01  1.443043e+00  5.612929e+04   \n",
       "std     1.022973e+00  1.288817e+01  3.208281e+00  4.967453e-01  3.576042e+04   \n",
       "min     1.000000e+00  1.600000e+01  1.000000e+00  1.000000e+00  1.250000e+04   \n",
       "25%     2.000000e+00  3.300000e+01  1.600000e+01  1.000000e+00  3.000000e+04   \n",
       "50%     3.000000e+00  4.500000e+01  1.900000e+01  1.000000e+00  4.600000e+04   \n",
       "75%     3.000000e+00  5.500000e+01  2.100000e+01  2.000000e+00  7.100000e+04   \n",
       "max     4.000000e+00  9.600000e+01  2.400000e+01  2.000000e+00  2.010000e+05   \n",
       "\n",
       "             WKHP        WKW          OCCP         POWSP         RAC1P  \\\n",
       "count   5870107.0  5870107.0  5.870107e+06  5.691810e+06  5.870107e+06   \n",
       "unique        NaN        NaN           NaN           NaN           NaN   \n",
       "top           NaN        NaN           NaN           NaN           NaN   \n",
       "freq          NaN        NaN           NaN           NaN           NaN   \n",
       "mean          1.0        1.0  4.076162e+03  2.810648e+01  1.821496e+00   \n",
       "std           0.0        0.0  2.752064e+03  1.761029e+01  2.008264e+00   \n",
       "min           1.0        1.0  1.000000e+01  1.000000e+00  1.000000e+00   \n",
       "25%           1.0        1.0  1.720000e+03  1.200000e+01  1.000000e+00   \n",
       "50%           1.0        1.0  4.110000e+03  2.800000e+01  1.000000e+00   \n",
       "75%           1.0        1.0  5.810000e+03  4.200000e+01  1.000000e+00   \n",
       "max           1.0        1.0  9.830000e+03  5.550000e+02  9.000000e+00   \n",
       "\n",
       "               RAC3P     AGEB           EDU           JOB          STSP  \\\n",
       "count   5.870107e+06  5870107  5.870107e+06  5.870107e+06  5.870107e+06   \n",
       "unique           NaN        8           NaN           NaN           NaN   \n",
       "top              NaN    50-59           NaN           NaN           NaN   \n",
       "freq             NaN  1480292           NaN           NaN           NaN   \n",
       "mean    2.575838e+00      NaN  3.691163e+00  5.402001e+00  2.477016e+00   \n",
       "std     5.963431e+00      NaN  1.633847e+00  2.909731e+00  1.133678e+00   \n",
       "min     1.000000e+00      NaN  1.000000e+00  1.000000e+00  1.000000e+00   \n",
       "25%     1.000000e+00      NaN  2.000000e+00  2.000000e+00  1.000000e+00   \n",
       "50%     1.000000e+00      NaN  3.000000e+00  5.000000e+00  2.000000e+00   \n",
       "75%     1.000000e+00      NaN  5.000000e+00  7.000000e+00  3.000000e+00   \n",
       "max     1.000000e+02      NaN  7.000000e+00  1.000000e+01  4.000000e+00   \n",
       "\n",
       "                RACE  \n",
       "count   5.870107e+06  \n",
       "unique           NaN  \n",
       "top              NaN  \n",
       "freq             NaN  \n",
       "mean    2.127447e+00  \n",
       "std     5.664098e-01  \n",
       "min     1.000000e+00  \n",
       "25%     2.000000e+00  \n",
       "50%     2.000000e+00  \n",
       "75%     2.000000e+00  \n",
       "max     4.000000e+00  "
      ]
     },
     "execution_count": 61,
     "metadata": {},
     "output_type": "execute_result"
    }
   ],
   "source": [
    "race_test.describe(include='all')"
   ]
  },
  {
   "cell_type": "code",
   "execution_count": 62,
   "metadata": {},
   "outputs": [],
   "source": [
    "def remove_col(df):\n",
    "    remove_cols = ['REGION','SCHL','WKHP','WKW','OCCP','POWSP','RAC1P','RAC3P']\n",
    "    df = df.drop(remove_cols,axis=1)\n",
    "    return df"
   ]
  },
  {
   "cell_type": "code",
   "execution_count": 63,
   "metadata": {},
   "outputs": [
    {
     "data": {
      "text/html": [
       "<div>\n",
       "<style scoped>\n",
       "    .dataframe tbody tr th:only-of-type {\n",
       "        vertical-align: middle;\n",
       "    }\n",
       "\n",
       "    .dataframe tbody tr th {\n",
       "        vertical-align: top;\n",
       "    }\n",
       "\n",
       "    .dataframe thead th {\n",
       "        text-align: right;\n",
       "    }\n",
       "</style>\n",
       "<table border=\"1\" class=\"dataframe\">\n",
       "  <thead>\n",
       "    <tr style=\"text-align: right;\">\n",
       "      <th></th>\n",
       "      <th>AGEP</th>\n",
       "      <th>SEX</th>\n",
       "      <th>WAGP</th>\n",
       "      <th>AGEB</th>\n",
       "      <th>EDU</th>\n",
       "      <th>JOB</th>\n",
       "      <th>STSP</th>\n",
       "      <th>RACE</th>\n",
       "    </tr>\n",
       "  </thead>\n",
       "  <tbody>\n",
       "    <tr>\n",
       "      <td>count</td>\n",
       "      <td>5.870107e+06</td>\n",
       "      <td>5.870107e+06</td>\n",
       "      <td>5.870107e+06</td>\n",
       "      <td>5870107</td>\n",
       "      <td>5.870107e+06</td>\n",
       "      <td>5.870107e+06</td>\n",
       "      <td>5.870107e+06</td>\n",
       "      <td>5.870107e+06</td>\n",
       "    </tr>\n",
       "    <tr>\n",
       "      <td>unique</td>\n",
       "      <td>NaN</td>\n",
       "      <td>NaN</td>\n",
       "      <td>NaN</td>\n",
       "      <td>8</td>\n",
       "      <td>NaN</td>\n",
       "      <td>NaN</td>\n",
       "      <td>NaN</td>\n",
       "      <td>NaN</td>\n",
       "    </tr>\n",
       "    <tr>\n",
       "      <td>top</td>\n",
       "      <td>NaN</td>\n",
       "      <td>NaN</td>\n",
       "      <td>NaN</td>\n",
       "      <td>50-59</td>\n",
       "      <td>NaN</td>\n",
       "      <td>NaN</td>\n",
       "      <td>NaN</td>\n",
       "      <td>NaN</td>\n",
       "    </tr>\n",
       "    <tr>\n",
       "      <td>freq</td>\n",
       "      <td>NaN</td>\n",
       "      <td>NaN</td>\n",
       "      <td>NaN</td>\n",
       "      <td>1480292</td>\n",
       "      <td>NaN</td>\n",
       "      <td>NaN</td>\n",
       "      <td>NaN</td>\n",
       "      <td>NaN</td>\n",
       "    </tr>\n",
       "    <tr>\n",
       "      <td>mean</td>\n",
       "      <td>4.417040e+01</td>\n",
       "      <td>1.443043e+00</td>\n",
       "      <td>5.612929e+04</td>\n",
       "      <td>NaN</td>\n",
       "      <td>3.691163e+00</td>\n",
       "      <td>5.402001e+00</td>\n",
       "      <td>2.477016e+00</td>\n",
       "      <td>2.127447e+00</td>\n",
       "    </tr>\n",
       "    <tr>\n",
       "      <td>std</td>\n",
       "      <td>1.288817e+01</td>\n",
       "      <td>4.967453e-01</td>\n",
       "      <td>3.576042e+04</td>\n",
       "      <td>NaN</td>\n",
       "      <td>1.633847e+00</td>\n",
       "      <td>2.909731e+00</td>\n",
       "      <td>1.133678e+00</td>\n",
       "      <td>5.664098e-01</td>\n",
       "    </tr>\n",
       "    <tr>\n",
       "      <td>min</td>\n",
       "      <td>1.600000e+01</td>\n",
       "      <td>1.000000e+00</td>\n",
       "      <td>1.250000e+04</td>\n",
       "      <td>NaN</td>\n",
       "      <td>1.000000e+00</td>\n",
       "      <td>1.000000e+00</td>\n",
       "      <td>1.000000e+00</td>\n",
       "      <td>1.000000e+00</td>\n",
       "    </tr>\n",
       "    <tr>\n",
       "      <td>25%</td>\n",
       "      <td>3.300000e+01</td>\n",
       "      <td>1.000000e+00</td>\n",
       "      <td>3.000000e+04</td>\n",
       "      <td>NaN</td>\n",
       "      <td>2.000000e+00</td>\n",
       "      <td>2.000000e+00</td>\n",
       "      <td>1.000000e+00</td>\n",
       "      <td>2.000000e+00</td>\n",
       "    </tr>\n",
       "    <tr>\n",
       "      <td>50%</td>\n",
       "      <td>4.500000e+01</td>\n",
       "      <td>1.000000e+00</td>\n",
       "      <td>4.600000e+04</td>\n",
       "      <td>NaN</td>\n",
       "      <td>3.000000e+00</td>\n",
       "      <td>5.000000e+00</td>\n",
       "      <td>2.000000e+00</td>\n",
       "      <td>2.000000e+00</td>\n",
       "    </tr>\n",
       "    <tr>\n",
       "      <td>75%</td>\n",
       "      <td>5.500000e+01</td>\n",
       "      <td>2.000000e+00</td>\n",
       "      <td>7.100000e+04</td>\n",
       "      <td>NaN</td>\n",
       "      <td>5.000000e+00</td>\n",
       "      <td>7.000000e+00</td>\n",
       "      <td>3.000000e+00</td>\n",
       "      <td>2.000000e+00</td>\n",
       "    </tr>\n",
       "    <tr>\n",
       "      <td>max</td>\n",
       "      <td>9.600000e+01</td>\n",
       "      <td>2.000000e+00</td>\n",
       "      <td>2.010000e+05</td>\n",
       "      <td>NaN</td>\n",
       "      <td>7.000000e+00</td>\n",
       "      <td>1.000000e+01</td>\n",
       "      <td>4.000000e+00</td>\n",
       "      <td>4.000000e+00</td>\n",
       "    </tr>\n",
       "  </tbody>\n",
       "</table>\n",
       "</div>"
      ],
      "text/plain": [
       "                AGEP           SEX          WAGP     AGEB           EDU  \\\n",
       "count   5.870107e+06  5.870107e+06  5.870107e+06  5870107  5.870107e+06   \n",
       "unique           NaN           NaN           NaN        8           NaN   \n",
       "top              NaN           NaN           NaN    50-59           NaN   \n",
       "freq             NaN           NaN           NaN  1480292           NaN   \n",
       "mean    4.417040e+01  1.443043e+00  5.612929e+04      NaN  3.691163e+00   \n",
       "std     1.288817e+01  4.967453e-01  3.576042e+04      NaN  1.633847e+00   \n",
       "min     1.600000e+01  1.000000e+00  1.250000e+04      NaN  1.000000e+00   \n",
       "25%     3.300000e+01  1.000000e+00  3.000000e+04      NaN  2.000000e+00   \n",
       "50%     4.500000e+01  1.000000e+00  4.600000e+04      NaN  3.000000e+00   \n",
       "75%     5.500000e+01  2.000000e+00  7.100000e+04      NaN  5.000000e+00   \n",
       "max     9.600000e+01  2.000000e+00  2.010000e+05      NaN  7.000000e+00   \n",
       "\n",
       "                 JOB          STSP          RACE  \n",
       "count   5.870107e+06  5.870107e+06  5.870107e+06  \n",
       "unique           NaN           NaN           NaN  \n",
       "top              NaN           NaN           NaN  \n",
       "freq             NaN           NaN           NaN  \n",
       "mean    5.402001e+00  2.477016e+00  2.127447e+00  \n",
       "std     2.909731e+00  1.133678e+00  5.664098e-01  \n",
       "min     1.000000e+00  1.000000e+00  1.000000e+00  \n",
       "25%     2.000000e+00  1.000000e+00  2.000000e+00  \n",
       "50%     5.000000e+00  2.000000e+00  2.000000e+00  \n",
       "75%     7.000000e+00  3.000000e+00  2.000000e+00  \n",
       "max     1.000000e+01  4.000000e+00  4.000000e+00  "
      ]
     },
     "execution_count": 63,
     "metadata": {},
     "output_type": "execute_result"
    }
   ],
   "source": [
    "remove_test = race_test.copy()\n",
    "remove_test = remove_col(remove_test)\n",
    "remove_test.describe(include='all')"
   ]
  },
  {
   "cell_type": "markdown",
   "metadata": {},
   "source": [
    "### OHE Columns"
   ]
  },
  {
   "cell_type": "code",
   "execution_count": 64,
   "metadata": {},
   "outputs": [],
   "source": [
    "def OHE_cat(df):\n",
    "    OH_encoder = OneHotEncoder(handle_unknown='ignore', sparse=False)\n",
    "    cat_col = [i for i in df.columns.tolist() if i not in ['WAGP','STSP']]\n",
    "    OH_cols_train = pd.DataFrame(OH_encoder.fit_transform(df[cat_col]))\n",
    "    OH_cols_train.index = df.index\n",
    "    df = pd.concat([df, OH_cols_train], axis=1)\n",
    "    df.drop(cat_col, axis=1, inplace=True)\n",
    "    return df"
   ]
  },
  {
   "cell_type": "code",
   "execution_count": 65,
   "metadata": {},
   "outputs": [
    {
     "data": {
      "text/html": [
       "<div>\n",
       "<style scoped>\n",
       "    .dataframe tbody tr th:only-of-type {\n",
       "        vertical-align: middle;\n",
       "    }\n",
       "\n",
       "    .dataframe tbody tr th {\n",
       "        vertical-align: top;\n",
       "    }\n",
       "\n",
       "    .dataframe thead th {\n",
       "        text-align: right;\n",
       "    }\n",
       "</style>\n",
       "<table border=\"1\" class=\"dataframe\">\n",
       "  <thead>\n",
       "    <tr style=\"text-align: right;\">\n",
       "      <th></th>\n",
       "      <th>WAGP</th>\n",
       "      <th>STSP</th>\n",
       "      <th>0</th>\n",
       "      <th>1</th>\n",
       "      <th>2</th>\n",
       "      <th>3</th>\n",
       "      <th>4</th>\n",
       "      <th>5</th>\n",
       "      <th>6</th>\n",
       "      <th>7</th>\n",
       "      <th>...</th>\n",
       "      <th>102</th>\n",
       "      <th>103</th>\n",
       "      <th>104</th>\n",
       "      <th>105</th>\n",
       "      <th>106</th>\n",
       "      <th>107</th>\n",
       "      <th>108</th>\n",
       "      <th>109</th>\n",
       "      <th>110</th>\n",
       "      <th>111</th>\n",
       "    </tr>\n",
       "  </thead>\n",
       "  <tbody>\n",
       "    <tr>\n",
       "      <td>count</td>\n",
       "      <td>5.870107e+06</td>\n",
       "      <td>5.870107e+06</td>\n",
       "      <td>5.870107e+06</td>\n",
       "      <td>5.870107e+06</td>\n",
       "      <td>5.870107e+06</td>\n",
       "      <td>5.870107e+06</td>\n",
       "      <td>5.870107e+06</td>\n",
       "      <td>5.870107e+06</td>\n",
       "      <td>5.870107e+06</td>\n",
       "      <td>5.870107e+06</td>\n",
       "      <td>...</td>\n",
       "      <td>5.870107e+06</td>\n",
       "      <td>5.870107e+06</td>\n",
       "      <td>5.870107e+06</td>\n",
       "      <td>5.870107e+06</td>\n",
       "      <td>5.870107e+06</td>\n",
       "      <td>5.870107e+06</td>\n",
       "      <td>5.870107e+06</td>\n",
       "      <td>5.870107e+06</td>\n",
       "      <td>5.870107e+06</td>\n",
       "      <td>5.870107e+06</td>\n",
       "    </tr>\n",
       "    <tr>\n",
       "      <td>mean</td>\n",
       "      <td>5.612929e+04</td>\n",
       "      <td>2.477016e+00</td>\n",
       "      <td>1.226553e-04</td>\n",
       "      <td>2.393483e-04</td>\n",
       "      <td>1.090951e-03</td>\n",
       "      <td>3.054800e-03</td>\n",
       "      <td>5.730219e-03</td>\n",
       "      <td>7.603780e-03</td>\n",
       "      <td>9.893687e-03</td>\n",
       "      <td>1.352854e-02</td>\n",
       "      <td>...</td>\n",
       "      <td>9.382606e-02</td>\n",
       "      <td>4.710306e-03</td>\n",
       "      <td>2.193970e-01</td>\n",
       "      <td>6.964626e-02</td>\n",
       "      <td>6.178065e-02</td>\n",
       "      <td>1.173612e-01</td>\n",
       "      <td>5.809230e-02</td>\n",
       "      <td>8.030837e-01</td>\n",
       "      <td>9.210854e-02</td>\n",
       "      <td>4.671550e-02</td>\n",
       "    </tr>\n",
       "    <tr>\n",
       "      <td>std</td>\n",
       "      <td>3.576042e+04</td>\n",
       "      <td>1.133678e+00</td>\n",
       "      <td>1.107431e-02</td>\n",
       "      <td>1.546903e-02</td>\n",
       "      <td>3.301153e-02</td>\n",
       "      <td>5.518576e-02</td>\n",
       "      <td>7.548102e-02</td>\n",
       "      <td>8.686751e-02</td>\n",
       "      <td>9.897375e-02</td>\n",
       "      <td>1.155228e-01</td>\n",
       "      <td>...</td>\n",
       "      <td>2.915866e-01</td>\n",
       "      <td>6.846985e-02</td>\n",
       "      <td>4.138381e-01</td>\n",
       "      <td>2.545499e-01</td>\n",
       "      <td>2.407567e-01</td>\n",
       "      <td>3.218503e-01</td>\n",
       "      <td>2.339179e-01</td>\n",
       "      <td>3.976686e-01</td>\n",
       "      <td>2.891791e-01</td>\n",
       "      <td>2.110288e-01</td>\n",
       "    </tr>\n",
       "    <tr>\n",
       "      <td>min</td>\n",
       "      <td>1.250000e+04</td>\n",
       "      <td>1.000000e+00</td>\n",
       "      <td>0.000000e+00</td>\n",
       "      <td>0.000000e+00</td>\n",
       "      <td>0.000000e+00</td>\n",
       "      <td>0.000000e+00</td>\n",
       "      <td>0.000000e+00</td>\n",
       "      <td>0.000000e+00</td>\n",
       "      <td>0.000000e+00</td>\n",
       "      <td>0.000000e+00</td>\n",
       "      <td>...</td>\n",
       "      <td>0.000000e+00</td>\n",
       "      <td>0.000000e+00</td>\n",
       "      <td>0.000000e+00</td>\n",
       "      <td>0.000000e+00</td>\n",
       "      <td>0.000000e+00</td>\n",
       "      <td>0.000000e+00</td>\n",
       "      <td>0.000000e+00</td>\n",
       "      <td>0.000000e+00</td>\n",
       "      <td>0.000000e+00</td>\n",
       "      <td>0.000000e+00</td>\n",
       "    </tr>\n",
       "    <tr>\n",
       "      <td>25%</td>\n",
       "      <td>3.000000e+04</td>\n",
       "      <td>1.000000e+00</td>\n",
       "      <td>0.000000e+00</td>\n",
       "      <td>0.000000e+00</td>\n",
       "      <td>0.000000e+00</td>\n",
       "      <td>0.000000e+00</td>\n",
       "      <td>0.000000e+00</td>\n",
       "      <td>0.000000e+00</td>\n",
       "      <td>0.000000e+00</td>\n",
       "      <td>0.000000e+00</td>\n",
       "      <td>...</td>\n",
       "      <td>0.000000e+00</td>\n",
       "      <td>0.000000e+00</td>\n",
       "      <td>0.000000e+00</td>\n",
       "      <td>0.000000e+00</td>\n",
       "      <td>0.000000e+00</td>\n",
       "      <td>0.000000e+00</td>\n",
       "      <td>0.000000e+00</td>\n",
       "      <td>1.000000e+00</td>\n",
       "      <td>0.000000e+00</td>\n",
       "      <td>0.000000e+00</td>\n",
       "    </tr>\n",
       "    <tr>\n",
       "      <td>50%</td>\n",
       "      <td>4.600000e+04</td>\n",
       "      <td>2.000000e+00</td>\n",
       "      <td>0.000000e+00</td>\n",
       "      <td>0.000000e+00</td>\n",
       "      <td>0.000000e+00</td>\n",
       "      <td>0.000000e+00</td>\n",
       "      <td>0.000000e+00</td>\n",
       "      <td>0.000000e+00</td>\n",
       "      <td>0.000000e+00</td>\n",
       "      <td>0.000000e+00</td>\n",
       "      <td>...</td>\n",
       "      <td>0.000000e+00</td>\n",
       "      <td>0.000000e+00</td>\n",
       "      <td>0.000000e+00</td>\n",
       "      <td>0.000000e+00</td>\n",
       "      <td>0.000000e+00</td>\n",
       "      <td>0.000000e+00</td>\n",
       "      <td>0.000000e+00</td>\n",
       "      <td>1.000000e+00</td>\n",
       "      <td>0.000000e+00</td>\n",
       "      <td>0.000000e+00</td>\n",
       "    </tr>\n",
       "    <tr>\n",
       "      <td>75%</td>\n",
       "      <td>7.100000e+04</td>\n",
       "      <td>3.000000e+00</td>\n",
       "      <td>0.000000e+00</td>\n",
       "      <td>0.000000e+00</td>\n",
       "      <td>0.000000e+00</td>\n",
       "      <td>0.000000e+00</td>\n",
       "      <td>0.000000e+00</td>\n",
       "      <td>0.000000e+00</td>\n",
       "      <td>0.000000e+00</td>\n",
       "      <td>0.000000e+00</td>\n",
       "      <td>...</td>\n",
       "      <td>0.000000e+00</td>\n",
       "      <td>0.000000e+00</td>\n",
       "      <td>0.000000e+00</td>\n",
       "      <td>0.000000e+00</td>\n",
       "      <td>0.000000e+00</td>\n",
       "      <td>0.000000e+00</td>\n",
       "      <td>0.000000e+00</td>\n",
       "      <td>1.000000e+00</td>\n",
       "      <td>0.000000e+00</td>\n",
       "      <td>0.000000e+00</td>\n",
       "    </tr>\n",
       "    <tr>\n",
       "      <td>max</td>\n",
       "      <td>2.010000e+05</td>\n",
       "      <td>4.000000e+00</td>\n",
       "      <td>1.000000e+00</td>\n",
       "      <td>1.000000e+00</td>\n",
       "      <td>1.000000e+00</td>\n",
       "      <td>1.000000e+00</td>\n",
       "      <td>1.000000e+00</td>\n",
       "      <td>1.000000e+00</td>\n",
       "      <td>1.000000e+00</td>\n",
       "      <td>1.000000e+00</td>\n",
       "      <td>...</td>\n",
       "      <td>1.000000e+00</td>\n",
       "      <td>1.000000e+00</td>\n",
       "      <td>1.000000e+00</td>\n",
       "      <td>1.000000e+00</td>\n",
       "      <td>1.000000e+00</td>\n",
       "      <td>1.000000e+00</td>\n",
       "      <td>1.000000e+00</td>\n",
       "      <td>1.000000e+00</td>\n",
       "      <td>1.000000e+00</td>\n",
       "      <td>1.000000e+00</td>\n",
       "    </tr>\n",
       "  </tbody>\n",
       "</table>\n",
       "<p>8 rows × 114 columns</p>\n",
       "</div>"
      ],
      "text/plain": [
       "               WAGP          STSP             0             1             2  \\\n",
       "count  5.870107e+06  5.870107e+06  5.870107e+06  5.870107e+06  5.870107e+06   \n",
       "mean   5.612929e+04  2.477016e+00  1.226553e-04  2.393483e-04  1.090951e-03   \n",
       "std    3.576042e+04  1.133678e+00  1.107431e-02  1.546903e-02  3.301153e-02   \n",
       "min    1.250000e+04  1.000000e+00  0.000000e+00  0.000000e+00  0.000000e+00   \n",
       "25%    3.000000e+04  1.000000e+00  0.000000e+00  0.000000e+00  0.000000e+00   \n",
       "50%    4.600000e+04  2.000000e+00  0.000000e+00  0.000000e+00  0.000000e+00   \n",
       "75%    7.100000e+04  3.000000e+00  0.000000e+00  0.000000e+00  0.000000e+00   \n",
       "max    2.010000e+05  4.000000e+00  1.000000e+00  1.000000e+00  1.000000e+00   \n",
       "\n",
       "                  3             4             5             6             7  \\\n",
       "count  5.870107e+06  5.870107e+06  5.870107e+06  5.870107e+06  5.870107e+06   \n",
       "mean   3.054800e-03  5.730219e-03  7.603780e-03  9.893687e-03  1.352854e-02   \n",
       "std    5.518576e-02  7.548102e-02  8.686751e-02  9.897375e-02  1.155228e-01   \n",
       "min    0.000000e+00  0.000000e+00  0.000000e+00  0.000000e+00  0.000000e+00   \n",
       "25%    0.000000e+00  0.000000e+00  0.000000e+00  0.000000e+00  0.000000e+00   \n",
       "50%    0.000000e+00  0.000000e+00  0.000000e+00  0.000000e+00  0.000000e+00   \n",
       "75%    0.000000e+00  0.000000e+00  0.000000e+00  0.000000e+00  0.000000e+00   \n",
       "max    1.000000e+00  1.000000e+00  1.000000e+00  1.000000e+00  1.000000e+00   \n",
       "\n",
       "       ...           102           103           104           105  \\\n",
       "count  ...  5.870107e+06  5.870107e+06  5.870107e+06  5.870107e+06   \n",
       "mean   ...  9.382606e-02  4.710306e-03  2.193970e-01  6.964626e-02   \n",
       "std    ...  2.915866e-01  6.846985e-02  4.138381e-01  2.545499e-01   \n",
       "min    ...  0.000000e+00  0.000000e+00  0.000000e+00  0.000000e+00   \n",
       "25%    ...  0.000000e+00  0.000000e+00  0.000000e+00  0.000000e+00   \n",
       "50%    ...  0.000000e+00  0.000000e+00  0.000000e+00  0.000000e+00   \n",
       "75%    ...  0.000000e+00  0.000000e+00  0.000000e+00  0.000000e+00   \n",
       "max    ...  1.000000e+00  1.000000e+00  1.000000e+00  1.000000e+00   \n",
       "\n",
       "                106           107           108           109           110  \\\n",
       "count  5.870107e+06  5.870107e+06  5.870107e+06  5.870107e+06  5.870107e+06   \n",
       "mean   6.178065e-02  1.173612e-01  5.809230e-02  8.030837e-01  9.210854e-02   \n",
       "std    2.407567e-01  3.218503e-01  2.339179e-01  3.976686e-01  2.891791e-01   \n",
       "min    0.000000e+00  0.000000e+00  0.000000e+00  0.000000e+00  0.000000e+00   \n",
       "25%    0.000000e+00  0.000000e+00  0.000000e+00  1.000000e+00  0.000000e+00   \n",
       "50%    0.000000e+00  0.000000e+00  0.000000e+00  1.000000e+00  0.000000e+00   \n",
       "75%    0.000000e+00  0.000000e+00  0.000000e+00  1.000000e+00  0.000000e+00   \n",
       "max    1.000000e+00  1.000000e+00  1.000000e+00  1.000000e+00  1.000000e+00   \n",
       "\n",
       "                111  \n",
       "count  5.870107e+06  \n",
       "mean   4.671550e-02  \n",
       "std    2.110288e-01  \n",
       "min    0.000000e+00  \n",
       "25%    0.000000e+00  \n",
       "50%    0.000000e+00  \n",
       "75%    0.000000e+00  \n",
       "max    1.000000e+00  \n",
       "\n",
       "[8 rows x 114 columns]"
      ]
     },
     "execution_count": 65,
     "metadata": {},
     "output_type": "execute_result"
    }
   ],
   "source": [
    "OHE_test = remove_test.copy()\n",
    "OHE_test = OHE_cat(OHE_test)\n",
    "OHE_test.describe(include='all')"
   ]
  },
  {
   "cell_type": "code",
   "execution_count": 66,
   "metadata": {},
   "outputs": [
    {
     "data": {
      "text/html": [
       "<div>\n",
       "<style scoped>\n",
       "    .dataframe tbody tr th:only-of-type {\n",
       "        vertical-align: middle;\n",
       "    }\n",
       "\n",
       "    .dataframe tbody tr th {\n",
       "        vertical-align: top;\n",
       "    }\n",
       "\n",
       "    .dataframe thead th {\n",
       "        text-align: right;\n",
       "    }\n",
       "</style>\n",
       "<table border=\"1\" class=\"dataframe\">\n",
       "  <thead>\n",
       "    <tr style=\"text-align: right;\">\n",
       "      <th></th>\n",
       "      <th>Features</th>\n",
       "    </tr>\n",
       "  </thead>\n",
       "  <tbody>\n",
       "    <tr>\n",
       "      <td>0</td>\n",
       "      <td>AGEP_16</td>\n",
       "    </tr>\n",
       "    <tr>\n",
       "      <td>1</td>\n",
       "      <td>AGEP_17</td>\n",
       "    </tr>\n",
       "    <tr>\n",
       "      <td>2</td>\n",
       "      <td>AGEP_18</td>\n",
       "    </tr>\n",
       "    <tr>\n",
       "      <td>3</td>\n",
       "      <td>AGEP_19</td>\n",
       "    </tr>\n",
       "    <tr>\n",
       "      <td>4</td>\n",
       "      <td>AGEP_20</td>\n",
       "    </tr>\n",
       "    <tr>\n",
       "      <td>...</td>\n",
       "      <td>...</td>\n",
       "    </tr>\n",
       "    <tr>\n",
       "      <td>107</td>\n",
       "      <td>JOB_10</td>\n",
       "    </tr>\n",
       "    <tr>\n",
       "      <td>108</td>\n",
       "      <td>RACE_1</td>\n",
       "    </tr>\n",
       "    <tr>\n",
       "      <td>109</td>\n",
       "      <td>RACE_2</td>\n",
       "    </tr>\n",
       "    <tr>\n",
       "      <td>110</td>\n",
       "      <td>RACE_3</td>\n",
       "    </tr>\n",
       "    <tr>\n",
       "      <td>111</td>\n",
       "      <td>RACE_4</td>\n",
       "    </tr>\n",
       "  </tbody>\n",
       "</table>\n",
       "<p>112 rows × 1 columns</p>\n",
       "</div>"
      ],
      "text/plain": [
       "    Features\n",
       "0    AGEP_16\n",
       "1    AGEP_17\n",
       "2    AGEP_18\n",
       "3    AGEP_19\n",
       "4    AGEP_20\n",
       "..       ...\n",
       "107   JOB_10\n",
       "108   RACE_1\n",
       "109   RACE_2\n",
       "110   RACE_3\n",
       "111   RACE_4\n",
       "\n",
       "[112 rows x 1 columns]"
      ]
     },
     "execution_count": 66,
     "metadata": {},
     "output_type": "execute_result"
    }
   ],
   "source": [
    "OHE_names = remove_test.copy()\n",
    "OH_encoder2 = OneHotEncoder(handle_unknown='ignore', sparse=False)\n",
    "cat_col2 = [i for i in OHE_names.columns.tolist() if i not in ['WAGP','STSP']]\n",
    "OH_cols_train2 = pd.DataFrame(OH_encoder2.fit_transform(OHE_names[cat_col2]))\n",
    "\n",
    "OHEcol2 = OH_encoder2.get_feature_names(cat_col2)\n",
    "OHEcols2 = pd.DataFrame()\n",
    "OHEcols2['Features'] = OHEcol2\n",
    "\n",
    "OHEcols2"
   ]
  },
  {
   "cell_type": "markdown",
   "metadata": {},
   "source": [
    "### Pipeline"
   ]
  },
  {
   "cell_type": "code",
   "execution_count": 67,
   "metadata": {},
   "outputs": [],
   "source": [
    "def pp_pipeline(df):\n",
    "    df = (df\n",
    "          .pipe(full_time_detect)\n",
    "          .pipe(outlier_remove)\n",
    "          #.pipe(age_bins)\n",
    "          .pipe(edu_split)\n",
    "          .pipe(occ_split)\n",
    "          .pipe(state_split)\n",
    "          .pipe(race_split)\n",
    "         .pipe(remove_col)\n",
    "         #.pipe(OHE_cat)\n",
    "         )\n",
    "    return df"
   ]
  },
  {
   "cell_type": "code",
   "execution_count": 68,
   "metadata": {},
   "outputs": [
    {
     "name": "stdout",
     "output_type": "stream",
     "text": [
      " 0.99 min\n"
     ]
    },
    {
     "data": {
      "text/html": [
       "<div>\n",
       "<style scoped>\n",
       "    .dataframe tbody tr th:only-of-type {\n",
       "        vertical-align: middle;\n",
       "    }\n",
       "\n",
       "    .dataframe tbody tr th {\n",
       "        vertical-align: top;\n",
       "    }\n",
       "\n",
       "    .dataframe thead th {\n",
       "        text-align: right;\n",
       "    }\n",
       "</style>\n",
       "<table border=\"1\" class=\"dataframe\">\n",
       "  <thead>\n",
       "    <tr style=\"text-align: right;\">\n",
       "      <th></th>\n",
       "      <th>AGEP</th>\n",
       "      <th>SEX</th>\n",
       "      <th>WAGP</th>\n",
       "      <th>EDU</th>\n",
       "      <th>JOB</th>\n",
       "      <th>STSP</th>\n",
       "      <th>RACE</th>\n",
       "    </tr>\n",
       "  </thead>\n",
       "  <tbody>\n",
       "    <tr>\n",
       "      <td>count</td>\n",
       "      <td>5.870107e+06</td>\n",
       "      <td>5.870107e+06</td>\n",
       "      <td>5.870107e+06</td>\n",
       "      <td>5.870107e+06</td>\n",
       "      <td>5.870107e+06</td>\n",
       "      <td>5.870107e+06</td>\n",
       "      <td>5.870107e+06</td>\n",
       "    </tr>\n",
       "    <tr>\n",
       "      <td>mean</td>\n",
       "      <td>4.417040e+01</td>\n",
       "      <td>1.443043e+00</td>\n",
       "      <td>5.612929e+04</td>\n",
       "      <td>3.691163e+00</td>\n",
       "      <td>5.402001e+00</td>\n",
       "      <td>2.477016e+00</td>\n",
       "      <td>2.127447e+00</td>\n",
       "    </tr>\n",
       "    <tr>\n",
       "      <td>std</td>\n",
       "      <td>1.288817e+01</td>\n",
       "      <td>4.967453e-01</td>\n",
       "      <td>3.576042e+04</td>\n",
       "      <td>1.633847e+00</td>\n",
       "      <td>2.909731e+00</td>\n",
       "      <td>1.133678e+00</td>\n",
       "      <td>5.664098e-01</td>\n",
       "    </tr>\n",
       "    <tr>\n",
       "      <td>min</td>\n",
       "      <td>1.600000e+01</td>\n",
       "      <td>1.000000e+00</td>\n",
       "      <td>1.250000e+04</td>\n",
       "      <td>1.000000e+00</td>\n",
       "      <td>1.000000e+00</td>\n",
       "      <td>1.000000e+00</td>\n",
       "      <td>1.000000e+00</td>\n",
       "    </tr>\n",
       "    <tr>\n",
       "      <td>25%</td>\n",
       "      <td>3.300000e+01</td>\n",
       "      <td>1.000000e+00</td>\n",
       "      <td>3.000000e+04</td>\n",
       "      <td>2.000000e+00</td>\n",
       "      <td>2.000000e+00</td>\n",
       "      <td>1.000000e+00</td>\n",
       "      <td>2.000000e+00</td>\n",
       "    </tr>\n",
       "    <tr>\n",
       "      <td>50%</td>\n",
       "      <td>4.500000e+01</td>\n",
       "      <td>1.000000e+00</td>\n",
       "      <td>4.600000e+04</td>\n",
       "      <td>3.000000e+00</td>\n",
       "      <td>5.000000e+00</td>\n",
       "      <td>2.000000e+00</td>\n",
       "      <td>2.000000e+00</td>\n",
       "    </tr>\n",
       "    <tr>\n",
       "      <td>75%</td>\n",
       "      <td>5.500000e+01</td>\n",
       "      <td>2.000000e+00</td>\n",
       "      <td>7.100000e+04</td>\n",
       "      <td>5.000000e+00</td>\n",
       "      <td>7.000000e+00</td>\n",
       "      <td>3.000000e+00</td>\n",
       "      <td>2.000000e+00</td>\n",
       "    </tr>\n",
       "    <tr>\n",
       "      <td>max</td>\n",
       "      <td>9.600000e+01</td>\n",
       "      <td>2.000000e+00</td>\n",
       "      <td>2.010000e+05</td>\n",
       "      <td>7.000000e+00</td>\n",
       "      <td>1.000000e+01</td>\n",
       "      <td>4.000000e+00</td>\n",
       "      <td>4.000000e+00</td>\n",
       "    </tr>\n",
       "  </tbody>\n",
       "</table>\n",
       "</div>"
      ],
      "text/plain": [
       "               AGEP           SEX          WAGP           EDU           JOB  \\\n",
       "count  5.870107e+06  5.870107e+06  5.870107e+06  5.870107e+06  5.870107e+06   \n",
       "mean   4.417040e+01  1.443043e+00  5.612929e+04  3.691163e+00  5.402001e+00   \n",
       "std    1.288817e+01  4.967453e-01  3.576042e+04  1.633847e+00  2.909731e+00   \n",
       "min    1.600000e+01  1.000000e+00  1.250000e+04  1.000000e+00  1.000000e+00   \n",
       "25%    3.300000e+01  1.000000e+00  3.000000e+04  2.000000e+00  2.000000e+00   \n",
       "50%    4.500000e+01  1.000000e+00  4.600000e+04  3.000000e+00  5.000000e+00   \n",
       "75%    5.500000e+01  2.000000e+00  7.100000e+04  5.000000e+00  7.000000e+00   \n",
       "max    9.600000e+01  2.000000e+00  2.010000e+05  7.000000e+00  1.000000e+01   \n",
       "\n",
       "               STSP          RACE  \n",
       "count  5.870107e+06  5.870107e+06  \n",
       "mean   2.477016e+00  2.127447e+00  \n",
       "std    1.133678e+00  5.664098e-01  \n",
       "min    1.000000e+00  1.000000e+00  \n",
       "25%    1.000000e+00  2.000000e+00  \n",
       "50%    2.000000e+00  2.000000e+00  \n",
       "75%    3.000000e+00  2.000000e+00  \n",
       "max    4.000000e+00  4.000000e+00  "
      ]
     },
     "execution_count": 68,
     "metadata": {},
     "output_type": "execute_result"
    }
   ],
   "source": [
    "start_time = time.time()\n",
    "pp_test = PUS_18_13.copy()\n",
    "pp_test = pp_pipeline(pp_test)\n",
    "print(\" %s min\" % round(((time.time() - start_time)/60),2))\n",
    "pp_test.describe(include='all')"
   ]
  },
  {
   "cell_type": "code",
   "execution_count": 69,
   "metadata": {},
   "outputs": [
    {
     "data": {
      "text/plain": [
       "(978352, 7)"
      ]
     },
     "execution_count": 69,
     "metadata": {},
     "output_type": "execute_result"
    }
   ],
   "source": [
    "split_test = pp_test.copy()\n",
    "split = np.array_split(split_test, 6)\n",
    "s1 = split[0]\n",
    "s1.shape"
   ]
  },
  {
   "cell_type": "code",
   "execution_count": 70,
   "metadata": {},
   "outputs": [],
   "source": [
    "y_full = s1['WAGP']\n",
    "X_full = s1.drop(['WAGP'], axis=1)"
   ]
  },
  {
   "cell_type": "code",
   "execution_count": 74,
   "metadata": {},
   "outputs": [],
   "source": [
    "from sklearn.ensemble import RandomForestRegressor\n",
    "from sklearn.metrics import mean_absolute_error\n",
    "from sklearn.model_selection import GridSearchCV, cross_val_score, StratifiedKFold\n",
    "import xgboost as xgb\n",
    "from xgboost import XGBClassifier\n",
    "from sklearn.model_selection import train_test_split"
   ]
  },
  {
   "cell_type": "code",
   "execution_count": 75,
   "metadata": {},
   "outputs": [],
   "source": [
    "X_train, X_valid, y_train, y_valid = train_test_split(\n",
    "    X_full, y_full, random_state=0)"
   ]
  },
  {
   "cell_type": "code",
   "execution_count": 79,
   "metadata": {},
   "outputs": [
    {
     "name": "stdout",
     "output_type": "stream",
     "text": [
      "acc_random_forest:  44.17\n",
      "MAE :  21293.601470378446\n",
      " 3.67 min\n"
     ]
    }
   ],
   "source": [
    "start_time = time.time()\n",
    "random_forest = RandomForestRegressor(random_state=1, n_estimators=100, min_samples_split=2, min_samples_leaf=5)\n",
    "random_forest.fit(X_train, y_train)\n",
    "pred_valid = random_forest.predict(X_valid)\n",
    "random_forest.score(X_train, y_train)\n",
    "acc_random_forest = round(random_forest.score(X_train, y_train) * 100, 2)\n",
    "print(\"acc_random_forest: \", acc_random_forest)\n",
    "print(\"MAE : \", mean_absolute_error(y_valid, pred_valid))\n",
    "print(\" %s min\" % round(((time.time() - start_time)/60),2))"
   ]
  },
  {
   "cell_type": "code",
   "execution_count": 99,
   "metadata": {},
   "outputs": [
    {
     "data": {
      "text/html": [
       "<div>\n",
       "<style scoped>\n",
       "    .dataframe tbody tr th:only-of-type {\n",
       "        vertical-align: middle;\n",
       "    }\n",
       "\n",
       "    .dataframe tbody tr th {\n",
       "        vertical-align: top;\n",
       "    }\n",
       "\n",
       "    .dataframe thead th {\n",
       "        text-align: right;\n",
       "    }\n",
       "</style>\n",
       "<table border=\"1\" class=\"dataframe\">\n",
       "  <thead>\n",
       "    <tr style=\"text-align: right;\">\n",
       "      <th></th>\n",
       "      <th>Index</th>\n",
       "      <th>WAG_pred</th>\n",
       "    </tr>\n",
       "  </thead>\n",
       "  <tbody>\n",
       "    <tr>\n",
       "      <td>count</td>\n",
       "      <td>978352.000000</td>\n",
       "      <td>978352.000000</td>\n",
       "    </tr>\n",
       "    <tr>\n",
       "      <td>mean</td>\n",
       "      <td>1.436041</td>\n",
       "      <td>58812.847222</td>\n",
       "    </tr>\n",
       "    <tr>\n",
       "      <td>std</td>\n",
       "      <td>0.495893</td>\n",
       "      <td>25191.852984</td>\n",
       "    </tr>\n",
       "    <tr>\n",
       "      <td>min</td>\n",
       "      <td>1.000000</td>\n",
       "      <td>16694.000000</td>\n",
       "    </tr>\n",
       "    <tr>\n",
       "      <td>25%</td>\n",
       "      <td>1.000000</td>\n",
       "      <td>38821.000000</td>\n",
       "    </tr>\n",
       "    <tr>\n",
       "      <td>50%</td>\n",
       "      <td>1.000000</td>\n",
       "      <td>53461.000000</td>\n",
       "    </tr>\n",
       "    <tr>\n",
       "      <td>75%</td>\n",
       "      <td>2.000000</td>\n",
       "      <td>74958.000000</td>\n",
       "    </tr>\n",
       "    <tr>\n",
       "      <td>max</td>\n",
       "      <td>2.000000</td>\n",
       "      <td>153104.000000</td>\n",
       "    </tr>\n",
       "  </tbody>\n",
       "</table>\n",
       "</div>"
      ],
      "text/plain": [
       "               Index       WAG_pred\n",
       "count  978352.000000  978352.000000\n",
       "mean        1.436041   58812.847222\n",
       "std         0.495893   25191.852984\n",
       "min         1.000000   16694.000000\n",
       "25%         1.000000   38821.000000\n",
       "50%         1.000000   53461.000000\n",
       "75%         2.000000   74958.000000\n",
       "max         2.000000  153104.000000"
      ]
     },
     "execution_count": 99,
     "metadata": {},
     "output_type": "execute_result"
    }
   ],
   "source": [
    "preds_test = random_forest.predict(X_full).astype(int)\n",
    "output = pd.DataFrame({'Index': X_full.index, 'WAG_pred': preds_test})\n",
    "output.describe()"
   ]
  },
  {
   "cell_type": "code",
   "execution_count": 101,
   "metadata": {},
   "outputs": [
    {
     "data": {
      "text/html": [
       "<div>\n",
       "<style scoped>\n",
       "    .dataframe tbody tr th:only-of-type {\n",
       "        vertical-align: middle;\n",
       "    }\n",
       "\n",
       "    .dataframe tbody tr th {\n",
       "        vertical-align: top;\n",
       "    }\n",
       "\n",
       "    .dataframe thead th {\n",
       "        text-align: right;\n",
       "    }\n",
       "</style>\n",
       "<table border=\"1\" class=\"dataframe\">\n",
       "  <thead>\n",
       "    <tr style=\"text-align: right;\">\n",
       "      <th></th>\n",
       "      <th>Index</th>\n",
       "      <th>WAG_pred</th>\n",
       "    </tr>\n",
       "  </thead>\n",
       "  <tbody>\n",
       "    <tr>\n",
       "      <td>1</td>\n",
       "      <td>2</td>\n",
       "      <td>31047</td>\n",
       "    </tr>\n",
       "    <tr>\n",
       "      <td>5</td>\n",
       "      <td>2</td>\n",
       "      <td>47122</td>\n",
       "    </tr>\n",
       "    <tr>\n",
       "      <td>11</td>\n",
       "      <td>1</td>\n",
       "      <td>46399</td>\n",
       "    </tr>\n",
       "    <tr>\n",
       "      <td>12</td>\n",
       "      <td>2</td>\n",
       "      <td>40201</td>\n",
       "    </tr>\n",
       "    <tr>\n",
       "      <td>17</td>\n",
       "      <td>2</td>\n",
       "      <td>34673</td>\n",
       "    </tr>\n",
       "  </tbody>\n",
       "</table>\n",
       "</div>"
      ],
      "text/plain": [
       "    Index  WAG_pred\n",
       "1       2     31047\n",
       "5       2     47122\n",
       "11      1     46399\n",
       "12      2     40201\n",
       "17      2     34673"
      ]
     },
     "execution_count": 101,
     "metadata": {},
     "output_type": "execute_result"
    }
   ],
   "source": [
    "output.head()"
   ]
  },
  {
   "cell_type": "code",
   "execution_count": 103,
   "metadata": {},
   "outputs": [
    {
     "data": {
      "text/html": [
       "<div>\n",
       "<style scoped>\n",
       "    .dataframe tbody tr th:only-of-type {\n",
       "        vertical-align: middle;\n",
       "    }\n",
       "\n",
       "    .dataframe tbody tr th {\n",
       "        vertical-align: top;\n",
       "    }\n",
       "\n",
       "    .dataframe thead th {\n",
       "        text-align: right;\n",
       "    }\n",
       "</style>\n",
       "<table border=\"1\" class=\"dataframe\">\n",
       "  <thead>\n",
       "    <tr style=\"text-align: right;\">\n",
       "      <th></th>\n",
       "      <th>WAG_pred</th>\n",
       "      <th>SEX</th>\n",
       "      <th>EDU</th>\n",
       "      <th>JOB</th>\n",
       "      <th>STSP</th>\n",
       "      <th>RACE</th>\n",
       "    </tr>\n",
       "  </thead>\n",
       "  <tbody>\n",
       "    <tr>\n",
       "      <td>1</td>\n",
       "      <td>31047</td>\n",
       "      <td>2</td>\n",
       "      <td>4</td>\n",
       "      <td>7</td>\n",
       "      <td>4</td>\n",
       "      <td>3</td>\n",
       "    </tr>\n",
       "    <tr>\n",
       "      <td>5</td>\n",
       "      <td>47122</td>\n",
       "      <td>2</td>\n",
       "      <td>5</td>\n",
       "      <td>4</td>\n",
       "      <td>4</td>\n",
       "      <td>3</td>\n",
       "    </tr>\n",
       "    <tr>\n",
       "      <td>11</td>\n",
       "      <td>46399</td>\n",
       "      <td>1</td>\n",
       "      <td>2</td>\n",
       "      <td>7</td>\n",
       "      <td>4</td>\n",
       "      <td>2</td>\n",
       "    </tr>\n",
       "    <tr>\n",
       "      <td>12</td>\n",
       "      <td>40201</td>\n",
       "      <td>2</td>\n",
       "      <td>3</td>\n",
       "      <td>4</td>\n",
       "      <td>4</td>\n",
       "      <td>2</td>\n",
       "    </tr>\n",
       "    <tr>\n",
       "      <td>17</td>\n",
       "      <td>34673</td>\n",
       "      <td>2</td>\n",
       "      <td>3</td>\n",
       "      <td>7</td>\n",
       "      <td>4</td>\n",
       "      <td>3</td>\n",
       "    </tr>\n",
       "  </tbody>\n",
       "</table>\n",
       "</div>"
      ],
      "text/plain": [
       "    WAG_pred  SEX  EDU  JOB  STSP  RACE\n",
       "1      31047    2    4    7     4     3\n",
       "5      47122    2    5    4     4     3\n",
       "11     46399    1    2    7     4     2\n",
       "12     40201    2    3    4     4     2\n",
       "17     34673    2    3    7     4     3"
      ]
     },
     "execution_count": 103,
     "metadata": {},
     "output_type": "execute_result"
    }
   ],
   "source": [
    "result = pd.concat([output, s1], axis=1, sort=False)\n",
    "drop_final = ['AGEP','WAGP','Index']\n",
    "result.drop(drop_final, axis=1, inplace=True)\n",
    "result.head()"
   ]
  },
  {
   "cell_type": "code",
   "execution_count": 106,
   "metadata": {},
   "outputs": [],
   "source": [
    "m_output = result[result['SEX'] == 1]\n",
    "f_output = result[result['SEX'] == 2]"
   ]
  },
  {
   "cell_type": "code",
   "execution_count": 109,
   "metadata": {},
   "outputs": [],
   "source": [
    "m_group = m_output.groupby(['SEX', 'EDU', 'JOB', 'STSP','RACE'])\n",
    "m_count = m_group.count().reset_index()\n",
    "m_median = m_group.median().reset_index()\n",
    "\n",
    "f_group = f_output.groupby(['SEX', 'EDU', 'JOB', 'STSP','RACE'])\n",
    "f_count = f_group.count().reset_index()\n",
    "f_median = f_group.median().reset_index()"
   ]
  },
  {
   "cell_type": "code",
   "execution_count": 117,
   "metadata": {},
   "outputs": [
    {
     "data": {
      "text/html": [
       "<div>\n",
       "<style scoped>\n",
       "    .dataframe tbody tr th:only-of-type {\n",
       "        vertical-align: middle;\n",
       "    }\n",
       "\n",
       "    .dataframe tbody tr th {\n",
       "        vertical-align: top;\n",
       "    }\n",
       "\n",
       "    .dataframe thead th {\n",
       "        text-align: right;\n",
       "    }\n",
       "</style>\n",
       "<table border=\"1\" class=\"dataframe\">\n",
       "  <thead>\n",
       "    <tr style=\"text-align: right;\">\n",
       "      <th></th>\n",
       "      <th>m_WAG</th>\n",
       "      <th>m_CT</th>\n",
       "      <th>f_WAG</th>\n",
       "      <th>f_CT</th>\n",
       "    </tr>\n",
       "  </thead>\n",
       "  <tbody>\n",
       "    <tr>\n",
       "      <td>0</td>\n",
       "      <td>69434.0</td>\n",
       "      <td>9</td>\n",
       "      <td>58223.0</td>\n",
       "      <td>1.0</td>\n",
       "    </tr>\n",
       "    <tr>\n",
       "      <td>1</td>\n",
       "      <td>70623.0</td>\n",
       "      <td>45</td>\n",
       "      <td>57201.0</td>\n",
       "      <td>13.0</td>\n",
       "    </tr>\n",
       "    <tr>\n",
       "      <td>2</td>\n",
       "      <td>63497.5</td>\n",
       "      <td>6</td>\n",
       "      <td>93018.0</td>\n",
       "      <td>4.0</td>\n",
       "    </tr>\n",
       "    <tr>\n",
       "      <td>3</td>\n",
       "      <td>57966.0</td>\n",
       "      <td>14</td>\n",
       "      <td>54895.0</td>\n",
       "      <td>3.0</td>\n",
       "    </tr>\n",
       "    <tr>\n",
       "      <td>4</td>\n",
       "      <td>64715.0</td>\n",
       "      <td>59</td>\n",
       "      <td>52674.5</td>\n",
       "      <td>26.0</td>\n",
       "    </tr>\n",
       "  </tbody>\n",
       "</table>\n",
       "</div>"
      ],
      "text/plain": [
       "     m_WAG  m_CT    f_WAG  f_CT\n",
       "0  69434.0     9  58223.0   1.0\n",
       "1  70623.0    45  57201.0  13.0\n",
       "2  63497.5     6  93018.0   4.0\n",
       "3  57966.0    14  54895.0   3.0\n",
       "4  64715.0    59  52674.5  26.0"
      ]
     },
     "execution_count": 117,
     "metadata": {},
     "output_type": "execute_result"
    }
   ],
   "source": [
    "final_df = pd.DataFrame({'m_WAG': m_median.WAG_pred, 'm_CT': m_count.WAG_pred,\n",
    "                        'f_WAG': f_median.WAG_pred, 'f_CT': f_count.WAG_pred})\n",
    "final_df.head()"
   ]
  },
  {
   "cell_type": "code",
   "execution_count": 122,
   "metadata": {},
   "outputs": [
    {
     "name": "stdout",
     "output_type": "stream",
     "text": [
      "0.8960480752838291\n"
     ]
    },
    {
     "data": {
      "text/html": [
       "<div>\n",
       "<style scoped>\n",
       "    .dataframe tbody tr th:only-of-type {\n",
       "        vertical-align: middle;\n",
       "    }\n",
       "\n",
       "    .dataframe tbody tr th {\n",
       "        vertical-align: top;\n",
       "    }\n",
       "\n",
       "    .dataframe thead th {\n",
       "        text-align: right;\n",
       "    }\n",
       "</style>\n",
       "<table border=\"1\" class=\"dataframe\">\n",
       "  <thead>\n",
       "    <tr style=\"text-align: right;\">\n",
       "      <th></th>\n",
       "      <th>m_WAG</th>\n",
       "      <th>m_CT</th>\n",
       "      <th>f_WAG</th>\n",
       "      <th>f_CT</th>\n",
       "      <th>fW_mW</th>\n",
       "      <th>t_CT</th>\n",
       "      <th>weight</th>\n",
       "      <th>value</th>\n",
       "    </tr>\n",
       "  </thead>\n",
       "  <tbody>\n",
       "    <tr>\n",
       "      <td>0</td>\n",
       "      <td>69434.0</td>\n",
       "      <td>9</td>\n",
       "      <td>58223.0</td>\n",
       "      <td>1.0</td>\n",
       "      <td>0.838537</td>\n",
       "      <td>10.0</td>\n",
       "      <td>0.000010</td>\n",
       "      <td>0.000009</td>\n",
       "    </tr>\n",
       "    <tr>\n",
       "      <td>1</td>\n",
       "      <td>70623.0</td>\n",
       "      <td>45</td>\n",
       "      <td>57201.0</td>\n",
       "      <td>13.0</td>\n",
       "      <td>0.809949</td>\n",
       "      <td>58.0</td>\n",
       "      <td>0.000059</td>\n",
       "      <td>0.000048</td>\n",
       "    </tr>\n",
       "    <tr>\n",
       "      <td>2</td>\n",
       "      <td>63497.5</td>\n",
       "      <td>6</td>\n",
       "      <td>93018.0</td>\n",
       "      <td>4.0</td>\n",
       "      <td>1.464908</td>\n",
       "      <td>10.0</td>\n",
       "      <td>0.000010</td>\n",
       "      <td>0.000015</td>\n",
       "    </tr>\n",
       "    <tr>\n",
       "      <td>3</td>\n",
       "      <td>57966.0</td>\n",
       "      <td>14</td>\n",
       "      <td>54895.0</td>\n",
       "      <td>3.0</td>\n",
       "      <td>0.947021</td>\n",
       "      <td>17.0</td>\n",
       "      <td>0.000017</td>\n",
       "      <td>0.000016</td>\n",
       "    </tr>\n",
       "    <tr>\n",
       "      <td>4</td>\n",
       "      <td>64715.0</td>\n",
       "      <td>59</td>\n",
       "      <td>52674.5</td>\n",
       "      <td>26.0</td>\n",
       "      <td>0.813946</td>\n",
       "      <td>85.0</td>\n",
       "      <td>0.000087</td>\n",
       "      <td>0.000071</td>\n",
       "    </tr>\n",
       "  </tbody>\n",
       "</table>\n",
       "</div>"
      ],
      "text/plain": [
       "     m_WAG  m_CT    f_WAG  f_CT     fW_mW  t_CT    weight     value\n",
       "0  69434.0     9  58223.0   1.0  0.838537  10.0  0.000010  0.000009\n",
       "1  70623.0    45  57201.0  13.0  0.809949  58.0  0.000059  0.000048\n",
       "2  63497.5     6  93018.0   4.0  1.464908  10.0  0.000010  0.000015\n",
       "3  57966.0    14  54895.0   3.0  0.947021  17.0  0.000017  0.000016\n",
       "4  64715.0    59  52674.5  26.0  0.813946  85.0  0.000087  0.000071"
      ]
     },
     "execution_count": 122,
     "metadata": {},
     "output_type": "execute_result"
    }
   ],
   "source": [
    "final_df['fW_mW'] = final_df['f_WAG']/final_df['m_WAG']\n",
    "final_df['t_CT'] = final_df['m_CT'] + final_df['f_CT']\n",
    "final_df['weight'] = final_df['t_CT'] / final_df['t_CT'].sum()\n",
    "final_df['value'] = final_df['fW_mW'] * final_df['weight']\n",
    "print(final_df['value'].sum())\n",
    "final_df.head()"
   ]
  },
  {
   "cell_type": "code",
   "execution_count": null,
   "metadata": {},
   "outputs": [],
   "source": []
  },
  {
   "cell_type": "code",
   "execution_count": null,
   "metadata": {},
   "outputs": [],
   "source": []
  },
  {
   "cell_type": "markdown",
   "metadata": {},
   "source": [
    "kfold = StratifiedKFold(n_splits=2)\n",
    "\n",
    "RFR = RandomForestRegressor()\n",
    "rfr_param_grid = {'n_estimators': [100, 50],\n",
    "                  'min_samples_split': [10, 5],\n",
    "                  'min_samples_leaf': [10, 5]}\n",
    "\n",
    "gsRFR = GridSearchCV(RFR, param_grid=rfr_param_grid, cv=kfold,\n",
    "                     scoring=\"neg_mean_absolute_error\", n_jobs=4, verbose=1)\n",
    "\n",
    "gsRFR.fit(X_full, y_full)\n",
    "\n",
    "RFR_best = gsRFR.best_estimator_\n",
    "\n",
    "gsRFR.best_score_"
   ]
  },
  {
   "cell_type": "markdown",
   "metadata": {},
   "source": [
    "RFR_best"
   ]
  }
 ],
 "metadata": {
  "kernelspec": {
   "display_name": "py_36_env",
   "language": "python",
   "name": "py_36_env"
  },
  "language_info": {
   "codemirror_mode": {
    "name": "ipython",
    "version": 3
   },
   "file_extension": ".py",
   "mimetype": "text/x-python",
   "name": "python",
   "nbconvert_exporter": "python",
   "pygments_lexer": "ipython3",
   "version": "3.7.4"
  }
 },
 "nbformat": 4,
 "nbformat_minor": 2
}
