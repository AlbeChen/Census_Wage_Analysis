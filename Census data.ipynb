{
 "cells": [
  {
   "cell_type": "code",
   "execution_count": 2,
   "metadata": {},
   "outputs": [],
   "source": [
    "# Importing\n",
    "import pandas as pd\n",
    "import seaborn as sns\n",
    "import matplotlib.pyplot as plt\n",
    "import numpy as np"
   ]
  },
  {
   "cell_type": "code",
   "execution_count": null,
   "metadata": {},
   "outputs": [],
   "source": [
    "# Reading Data\n",
    "useful_cols = ['WAGP','SEX', 'AGEP','RAC1P','RAC3P','SCHL', 'WKW','WKHP','OCCP','POWSP','REGION']\n",
    "P_US_18A = pd.read_csv('data/psam_pusa.csv', usecols = useful_cols)\n",
    "P_US_18B = pd.read_csv('data/psam_pusb.csv', usecols = useful_cols)"
   ]
  },
  {
   "cell_type": "code",
   "execution_count": null,
   "metadata": {},
   "outputs": [],
   "source": [
    "print (P_US_18A.shape, P_US_18B.shape)"
   ]
  },
  {
   "cell_type": "code",
   "execution_count": null,
   "metadata": {},
   "outputs": [],
   "source": [
    "pus_sets = [P_US_18A,P_US_18B]\n",
    "PUS18_full = pd.concat(pus_sets)\n",
    "PUS18_full.shape"
   ]
  },
  {
   "cell_type": "code",
   "execution_count": null,
   "metadata": {
    "scrolled": true
   },
   "outputs": [],
   "source": [
    "PUS18_full.columns"
   ]
  },
  {
   "cell_type": "code",
   "execution_count": null,
   "metadata": {},
   "outputs": [],
   "source": [
    "PUS18_full.describe()"
   ]
  },
  {
   "cell_type": "code",
   "execution_count": null,
   "metadata": {},
   "outputs": [],
   "source": [
    "g = sns.kdeplot(PUS18_full[\"AGEP\"][(PUS18_full[\"SEX\"] == 1) & (PUS18_full[\"AGEP\"].notnull())])\n",
    "g = sns.kdeplot(PUS18_full[\"AGEP\"][(PUS18_full[\"SEX\"] == 2) & (PUS18_full[\"AGEP\"].notnull())])\n",
    "g.set_xlabel(\"Age\")\n",
    "g.set_ylabel(\"Frequency\")\n",
    "g=g.legend([\"Male\",\"Female\"])"
   ]
  },
  {
   "cell_type": "code",
   "execution_count": null,
   "metadata": {},
   "outputs": [],
   "source": [
    "ax = sns.distplot(PUS18_full[\"AGEP\"][(PUS18_full[\"SEX\"] == 1)], bins=20, kde=False)\n",
    "ax = sns.distplot(PUS18_full[\"AGEP\"][(PUS18_full[\"SEX\"] == 2)], bins=20, kde=False)"
   ]
  },
  {
   "cell_type": "code",
   "execution_count": null,
   "metadata": {},
   "outputs": [],
   "source": [
    "g = sns.kdeplot(PUS18_full[\"WAGP\"][(PUS18_full[\"WAGP\"] > 0) & (PUS18_full[\"AGEP\"] > 18)])\n",
    "\n",
    "g.set_xlabel(\"Age\")\n",
    "g.set_ylabel(\"Frequency\")"
   ]
  },
  {
   "cell_type": "code",
   "execution_count": null,
   "metadata": {},
   "outputs": [],
   "source": [
    "ax = sns.distplot(PUS18_full[\"WAGP\"][(PUS18_full[\"SEX\"] == 1) & (PUS18_full[\"WAGP\"] > 0) & (PUS18_full[\"WKW\"] < 4) & (PUS18_full[\"WKHP\"]  >= 35)], bins=40, kde=False)\n",
    "ax = sns.distplot(PUS18_full[\"WAGP\"][(PUS18_full[\"SEX\"] == 2) & (PUS18_full[\"WAGP\"] > 0) & (PUS18_full[\"WKW\"] < 4) & (PUS18_full[\"WKHP\"]  >= 35)], bins=40, kde=False)\n",
    "ax.set(xlim=(0, 200000))\n",
    "ax=ax.legend([\"Male\",\"Female\"])"
   ]
  },
  {
   "cell_type": "markdown",
   "metadata": {},
   "source": [
    "#### Full-Time Detection"
   ]
  },
  {
   "cell_type": "code",
   "execution_count": null,
   "metadata": {},
   "outputs": [],
   "source": [
    "g = sns.distplot(PUS18_full[\"WAGP\"][(PUS18_full[\"WAGP\"] > 0) & (PUS18_full[\"WKW\"] < 4) & (PUS18_full[\"WKHP\"]  >= 35)], kde=False)\n",
    "g = sns.distplot(PUS18_full[\"WAGP\"][(PUS18_full[\"WAGP\"] > 0)], kde=False)"
   ]
  },
  {
   "cell_type": "code",
   "execution_count": null,
   "metadata": {},
   "outputs": [],
   "source": [
    "# define function to seperate people who've worked more than 40 weeks / year\n",
    "def full_time_detect(df):\n",
    "    # remove rows of people who work under 40 weeks in a year\n",
    "    df['WKW'] = df['WKW'].map(lambda y: 1 if y < 4\n",
    "                              else 0)\n",
    "    df = df.loc[df.WKW != 0].copy()\n",
    "\n",
    "    # remove rows of people who work under 35 hours a week\n",
    "    df['WKHP'] = df['WKHP'].map(lambda y: 1 if y >= 35\n",
    "                                else 0)\n",
    "    df = df.loc[df.WKHP != 0].copy()\n",
    "    return df"
   ]
  },
  {
   "cell_type": "code",
   "execution_count": null,
   "metadata": {
    "scrolled": false
   },
   "outputs": [],
   "source": [
    "ft_test = PUS18_full.copy()\n",
    "ft_test = full_time_detect(ft_test)\n",
    "ft_test.describe()"
   ]
  },
  {
   "cell_type": "code",
   "execution_count": null,
   "metadata": {},
   "outputs": [],
   "source": [
    "ft_test.shape"
   ]
  },
  {
   "cell_type": "markdown",
   "metadata": {},
   "source": [
    "## Outlier Testing"
   ]
  },
  {
   "cell_type": "code",
   "execution_count": null,
   "metadata": {},
   "outputs": [],
   "source": [
    "ax = sns.boxplot(x=ft_test[\"AGEP\"])"
   ]
  },
  {
   "cell_type": "code",
   "execution_count": 1,
   "metadata": {},
   "outputs": [
    {
     "ename": "NameError",
     "evalue": "name 'df' is not defined",
     "output_type": "error",
     "traceback": [
      "\u001b[1;31m---------------------------------------------------------------------------\u001b[0m",
      "\u001b[1;31mNameError\u001b[0m                                 Traceback (most recent call last)",
      "\u001b[1;32m<ipython-input-1-9125a51751d0>\u001b[0m in \u001b[0;36m<module>\u001b[1;34m\u001b[0m\n\u001b[1;32m----> 1\u001b[1;33m \u001b[0mage_IQR\u001b[0m \u001b[1;33m=\u001b[0m \u001b[0mdf\u001b[0m\u001b[1;33m.\u001b[0m\u001b[0mft_test\u001b[0m\u001b[1;33m.\u001b[0m\u001b[0mquantile\u001b[0m\u001b[1;33m(\u001b[0m\u001b[1;33m[\u001b[0m\u001b[1;36m0.75\u001b[0m\u001b[1;33m]\u001b[0m\u001b[1;33m)\u001b[0m \u001b[1;33m-\u001b[0m \u001b[0mdf\u001b[0m\u001b[1;33m.\u001b[0m\u001b[0mft_test\u001b[0m\u001b[1;33m.\u001b[0m\u001b[0mquantile\u001b[0m\u001b[1;33m(\u001b[0m\u001b[1;33m[\u001b[0m\u001b[1;36m0.25\u001b[0m\u001b[1;33m]\u001b[0m\u001b[1;33m)\u001b[0m\u001b[1;33m\u001b[0m\u001b[1;33m\u001b[0m\u001b[0m\n\u001b[0m\u001b[0;32m      2\u001b[0m \u001b[0mage_IQR\u001b[0m\u001b[1;33m\u001b[0m\u001b[1;33m\u001b[0m\u001b[0m\n",
      "\u001b[1;31mNameError\u001b[0m: name 'df' is not defined"
     ]
    }
   ],
   "source": [
    "age_IQR = df.ft_test.quantile([0.75]) - df.ft_test.quantile([0.25])\n",
    "age_IQR"
   ]
  },
  {
   "cell_type": "code",
   "execution_count": 78,
   "metadata": {},
   "outputs": [
    {
     "data": {
      "image/png": "[encoded data removed]",
      "text/plain": [
       "<Figure size 432x288 with 1 Axes>"
      ]
     },
     "metadata": {
      "needs_background": "light"
     },
     "output_type": "display_data"
    }
   ],
   "source": [
    "ax = sns.boxplot(x=ft_test[\"WAGP\"])"
   ]
  },
  {
   "cell_type": "code",
   "execution_count": 82,
   "metadata": {},
   "outputs": [
    {
     "data": {
      "text/plain": [
       "(1020883, 11)"
      ]
     },
     "execution_count": 82,
     "metadata": {},
     "output_type": "execute_result"
    }
   ],
   "source": [
    "df = ft_test.copy()\n",
    "df = df.loc[df.WAGP >= 12000].copy()\n",
    "df = df.loc[df.WAGP <= 175000].copy()\n",
    "df.shape"
   ]
  },
  {
   "cell_type": "markdown",
   "metadata": {},
   "source": [
    "##### Age Bins"
   ]
  },
  {
   "cell_type": "code",
   "execution_count": 15,
   "metadata": {
    "scrolled": true
   },
   "outputs": [
    {
     "data": {
      "text/plain": [
       "<seaborn.axisgrid.FacetGrid at 0x1e69a221b48>"
      ]
     },
     "execution_count": 15,
     "metadata": {},
     "output_type": "execute_result"
    },
    {
     "data": {
      "image/png": "[encoded data removed]",
      "text/plain": [
       "<Figure size 1260x360 with 1 Axes>"
      ]
     },
     "metadata": {
      "needs_background": "light"
     },
     "output_type": "display_data"
    }
   ],
   "source": [
    "g = sns.catplot(y=\"WAGP\", x=\"AGEP\", data=ft_test, kind=\"box\", aspect = 3.5)\n",
    "g.set(ylim=(0, 175000))"
   ]
  },
  {
   "cell_type": "code",
   "execution_count": 16,
   "metadata": {},
   "outputs": [],
   "source": [
    "def age_bins(df):\n",
    "    df['AGEB'] = df['AGEP'].map(lambda y: \"16-23\" if y < 24\n",
    "                                else \"24-28\" if y < 29\n",
    "                                else \"29-34\" if y < 35\n",
    "                                else \"35-39\" if y < 40\n",
    "                                else \"40-49\" if y < 50\n",
    "                                else \"50-59\" if y < 60\n",
    "                                else \"60-69\" if y < 70\n",
    "                                else \"70+\")\n",
    "    return df"
   ]
  },
  {
   "cell_type": "code",
   "execution_count": 17,
   "metadata": {},
   "outputs": [],
   "source": [
    "age_test = ft_test.copy()\n",
    "age_test.sort_values(by=['AGEP'], ascending=True, inplace=True)"
   ]
  },
  {
   "cell_type": "code",
   "execution_count": 18,
   "metadata": {},
   "outputs": [
    {
     "name": "stdout",
     "output_type": "stream",
     "text": [
      "Age : ['16-23' '24-28' '29-34' '35-39' '40-49' '50-59' '60-69' '70+']\n"
     ]
    }
   ],
   "source": [
    "age_bins(age_test)\n",
    "print(\"Age :\", age_test.AGEB.unique())"
   ]
  },
  {
   "cell_type": "code",
   "execution_count": 19,
   "metadata": {
    "scrolled": false
   },
   "outputs": [
    {
     "data": {
      "text/plain": [
       "<seaborn.axisgrid.FacetGrid at 0x1e69e381508>"
      ]
     },
     "execution_count": 19,
     "metadata": {},
     "output_type": "execute_result"
    },
    {
     "data": {
      "image/png": "[encoded data removed]",
      "text/plain": [
       "<Figure size 720x360 with 1 Axes>"
      ]
     },
     "metadata": {
      "needs_background": "light"
     },
     "output_type": "display_data"
    }
   ],
   "source": [
    "g = sns.catplot(y=\"WAGP\", x=\"AGEB\", data=age_test, kind=\"box\", aspect = 2)\n",
    "g.set(ylim=(0, 175000))"
   ]
  },
  {
   "cell_type": "code",
   "execution_count": 20,
   "metadata": {},
   "outputs": [
    {
     "data": {
      "text/plain": [
       "50-59    277322\n",
       "40-49    256984\n",
       "29-34    153830\n",
       "60-69    143487\n",
       "35-39    128361\n",
       "24-28    114144\n",
       "16-23     54220\n",
       "70+       20268\n",
       "Name: AGEB, dtype: int64"
      ]
     },
     "execution_count": 20,
     "metadata": {},
     "output_type": "execute_result"
    }
   ],
   "source": [
    "age_test['AGEB'].value_counts()"
   ]
  },
  {
   "cell_type": "code",
   "execution_count": 22,
   "metadata": {
    "scrolled": true
   },
   "outputs": [
    {
     "data": {
      "text/plain": [
       "<seaborn.axisgrid.FacetGrid at 0x1e69a60ae48>"
      ]
     },
     "execution_count": 22,
     "metadata": {},
     "output_type": "execute_result"
    },
    {
     "data": {
      "image/png": "[encoded data removed]",
      "text/plain": [
       "<Figure size 906.375x288 with 1 Axes>"
      ]
     },
     "metadata": {
      "needs_background": "light"
     },
     "output_type": "display_data"
    }
   ],
   "source": [
    "g = sns.catplot(y=\"WAGP\", x=\"AGEB\", data=age_test, kind=\"box\", height = 4, aspect = 3, hue = \"SEX\")\n",
    "g.set(ylim=(0, 200000))"
   ]
  },
  {
   "cell_type": "markdown",
   "metadata": {},
   "source": [
    "#### Education Split\n",
    "- NH: No High-school Degree\n",
    "- HS: Highschool Diploma (or GED)\n",
    "- SC: Some College\n",
    "- AS: Associate's degree\n",
    "- BS: Bachelor's degree\n",
    "- GD: Graduate Degree\n",
    "- DR: Doctorate Degree"
   ]
  },
  {
   "cell_type": "code",
   "execution_count": 23,
   "metadata": {},
   "outputs": [
    {
     "data": {
      "text/plain": [
       "21.0    278539\n",
       "16.0    230488\n",
       "19.0    157667\n",
       "22.0    126134\n",
       "20.0    111201\n",
       "18.0     77612\n",
       "17.0     36937\n",
       "23.0     32470\n",
       "24.0     21763\n",
       "15.0     16444\n",
       "14.0     12103\n",
       "1.0      10300\n",
       "13.0      9667\n",
       "12.0      8465\n",
       "9.0       6609\n",
       "11.0      5809\n",
       "10.0      1741\n",
       "8.0       1406\n",
       "6.0       1176\n",
       "7.0        879\n",
       "5.0        525\n",
       "4.0        292\n",
       "2.0        210\n",
       "3.0        179\n",
       "Name: SCHL, dtype: int64"
      ]
     },
     "execution_count": 23,
     "metadata": {},
     "output_type": "execute_result"
    }
   ],
   "source": [
    "age_test['SCHL'].value_counts()"
   ]
  },
  {
   "cell_type": "code",
   "execution_count": 24,
   "metadata": {},
   "outputs": [
    {
     "data": {
      "text/plain": [
       "<seaborn.axisgrid.FacetGrid at 0x1e69b5fc388>"
      ]
     },
     "execution_count": 24,
     "metadata": {},
     "output_type": "execute_result"
    },
    {
     "data": {
      "image/png": "[encoded data removed]",
      "text/plain": [
       "<Figure size 720x360 with 1 Axes>"
      ]
     },
     "metadata": {
      "needs_background": "light"
     },
     "output_type": "display_data"
    }
   ],
   "source": [
    "g = sns.catplot(y=\"WAGP\", x=\"SCHL\", data=age_test, kind=\"box\", aspect = 2)\n",
    "g.set(ylim=(0, 175000))"
   ]
  },
  {
   "cell_type": "code",
   "execution_count": 25,
   "metadata": {},
   "outputs": [],
   "source": [
    "def edu_split(df):\n",
    "    #split into degrees\n",
    "    df['EDU'] = df['SCHL'].map(lambda y: \"HS\" if y <= 17\n",
    "                                else \"AS\" if y <= 20\n",
    "                               else \"BS\" if y == 21\n",
    "                                else \"MS\" if y == 22\n",
    "                                else \"GS\")\n",
    "    return df"
   ]
  },
  {
   "cell_type": "code",
   "execution_count": 26,
   "metadata": {},
   "outputs": [
    {
     "name": "stdout",
     "output_type": "stream",
     "text": [
      "Edu : ['HS' 'AS' 'BS' 'MS' 'GS']\n"
     ]
    }
   ],
   "source": [
    "edu_test = age_test.copy()\n",
    "edu_test = edu_split(edu_test)\n",
    "print(\"Edu :\", edu_test.EDU.unique())"
   ]
  },
  {
   "cell_type": "code",
   "execution_count": 27,
   "metadata": {
    "scrolled": false
   },
   "outputs": [
    {
     "data": {
      "text/plain": [
       "<seaborn.axisgrid.FacetGrid at 0x1e69a4ced08>"
      ]
     },
     "execution_count": 27,
     "metadata": {},
     "output_type": "execute_result"
    },
    {
     "data": {
      "image/png": "[encoded data removed]",
      "text/plain": [
       "<Figure size 720x360 with 1 Axes>"
      ]
     },
     "metadata": {
      "needs_background": "light"
     },
     "output_type": "display_data"
    }
   ],
   "source": [
    "g = sns.catplot(y=\"WAGP\", x=\"EDU\", data=edu_test, kind=\"box\", aspect = 2)\n",
    "g.set(ylim=(0, 250000))"
   ]
  },
  {
   "cell_type": "code",
   "execution_count": 28,
   "metadata": {},
   "outputs": [
    {
     "data": {
      "text/plain": [
       "<seaborn.axisgrid.FacetGrid at 0x1e69a167a48>"
      ]
     },
     "execution_count": 28,
     "metadata": {},
     "output_type": "execute_result"
    },
    {
     "data": {
      "image/png": "[encoded data removed]",
      "text/plain": [
       "<Figure size 906.375x288 with 1 Axes>"
      ]
     },
     "metadata": {
      "needs_background": "light"
     },
     "output_type": "display_data"
    }
   ],
   "source": [
    "g = sns.catplot(y=\"WAGP\", x=\"EDU\", data=edu_test, kind=\"box\", height = 4, aspect = 3, hue = \"SEX\")\n",
    "g.set(ylim=(0, 200000))"
   ]
  },
  {
   "cell_type": "code",
   "execution_count": 29,
   "metadata": {},
   "outputs": [
    {
     "data": {
      "text/plain": [
       "AS    346480\n",
       "HS    343230\n",
       "BS    278539\n",
       "MS    126134\n",
       "GS     54233\n",
       "Name: EDU, dtype: int64"
      ]
     },
     "execution_count": 29,
     "metadata": {},
     "output_type": "execute_result"
    }
   ],
   "source": [
    "edu_test['EDU'].value_counts()"
   ]
  },
  {
   "cell_type": "markdown",
   "metadata": {},
   "source": [
    "#### Occupation Split\n",
    "- 0010-0960: Management, Business, and Financial Occupations\n",
    "- 1005-1980: Computer, Engineering, and Science Occupations\n",
    "- 2001-2970: Education, Legal, Community Service, Arts, and Media Occupations\n",
    "- 3000-3550: Healthcare Practitioners and Technical Occupations\n",
    "- 3601-4655: Service Occupations\n",
    "- 4700-5940: Sales and Office Occupations\n",
    "- 6005-7640: Natural Resources, Construction, and Maintenance Occupations\n",
    "- 7700-8990: Production Occupations\n",
    "- 9005-9760: Transportation and Material Moving Occupations\n",
    "- 9800-9830: Military Specific Occupations"
   ]
  },
  {
   "cell_type": "code",
   "execution_count": 30,
   "metadata": {},
   "outputs": [],
   "source": [
    "def int_occ_split(df):\n",
    "    # split into occupational industries\n",
    "    df['JOB'] = df['OCCP'].map(lambda y: \"Business\" if y <= 960\n",
    "                                else \"Science\" if y <= 1980\n",
    "                                else \"Arts\" if y <= 2970\n",
    "                                else \"Healthcare\" if y <= 3550\n",
    "                                else \"Service\" if y <= 4655\n",
    "                                else \"Sales\" if y <= 5940\n",
    "                                else \"Maintenance\" if y <= 7640\n",
    "                                else \"Production\" if y <= 8990\n",
    "                                else \"Transportation\" if y <= 9760\n",
    "                                else \"Military\" if y <= 9830\n",
    "                                else \"UN\")\n",
    "    return df"
   ]
  },
  {
   "cell_type": "code",
   "execution_count": 31,
   "metadata": {},
   "outputs": [
    {
     "name": "stdout",
     "output_type": "stream",
     "text": [
      "Occ : ['Transportation' 'Sales' 'Production' 'Service' 'Maintenance' 'Business'\n",
      " 'Healthcare' 'Arts' 'Science' 'Military']\n"
     ]
    }
   ],
   "source": [
    "int_occ_test = edu_test.copy()\n",
    "int_occ_test = int_occ_split(int_occ_test)\n",
    "print(\"Occ :\", int_occ_test.JOB.unique())"
   ]
  },
  {
   "cell_type": "code",
   "execution_count": 32,
   "metadata": {},
   "outputs": [],
   "source": [
    "int_occ_sort = int_occ_test.groupby('JOB').median().sort_values(by=['WAGP']).reset_index()\n",
    "int_occ_list = int_occ_sort['JOB'].tolist()"
   ]
  },
  {
   "cell_type": "code",
   "execution_count": 33,
   "metadata": {},
   "outputs": [
    {
     "data": {
      "text/plain": [
       "<seaborn.axisgrid.FacetGrid at 0x1e6f2bf0688>"
      ]
     },
     "execution_count": 33,
     "metadata": {},
     "output_type": "execute_result"
    },
    {
     "data": {
      "image/png": "[encoded data removed]",
      "text/plain": [
       "<Figure size 720x360 with 1 Axes>"
      ]
     },
     "metadata": {
      "needs_background": "light"
     },
     "output_type": "display_data"
    }
   ],
   "source": [
    "g = sns.catplot(y=\"WAGP\", x=\"JOB\", data=int_occ_test, kind=\"box\", aspect = 2, order = int_occ_list)\n",
    "g.set(ylim=(0, 175000))"
   ]
  },
  {
   "cell_type": "code",
   "execution_count": 34,
   "metadata": {},
   "outputs": [
    {
     "data": {
      "text/plain": [
       "<seaborn.axisgrid.FacetGrid at 0x1e69b31a208>"
      ]
     },
     "execution_count": 34,
     "metadata": {},
     "output_type": "execute_result"
    },
    {
     "data": {
      "image/png": "[encoded data removed]",
      "text/plain": [
       "<Figure size 906.375x288 with 1 Axes>"
      ]
     },
     "metadata": {
      "needs_background": "light"
     },
     "output_type": "display_data"
    }
   ],
   "source": [
    "g = sns.catplot(y=\"WAGP\", x=\"JOB\", data=int_occ_test, kind=\"box\", height = 4, aspect = 3, hue = \"SEX\", order = int_occ_list)\n",
    "g.set(ylim=(0, 175000))"
   ]
  },
  {
   "cell_type": "code",
   "execution_count": 35,
   "metadata": {},
   "outputs": [
    {
     "data": {
      "text/plain": [
       "Sales             230983\n",
       "Business          221863\n",
       "Service           142439\n",
       "Arts              127689\n",
       "Maintenance       109861\n",
       "Science            84230\n",
       "Transportation     79729\n",
       "Healthcare         73740\n",
       "Production         73142\n",
       "Military            4940\n",
       "Name: JOB, dtype: int64"
      ]
     },
     "execution_count": 35,
     "metadata": {},
     "output_type": "execute_result"
    }
   ],
   "source": [
    "int_occ_test['JOB'].value_counts()"
   ]
  },
  {
   "cell_type": "code",
   "execution_count": 36,
   "metadata": {},
   "outputs": [],
   "source": [
    "def occ_split(df):\n",
    "    # split into occupational industries\n",
    "    df['JOB'] = df['OCCP'].map(lambda y: \"BUS\" if y <= 960\n",
    "                                else \"SC/HC\" if y <= 1980\n",
    "                                else \"ART\" if y <= 2970\n",
    "                                else \"SC/HC\" if y <= 3550\n",
    "                                else \"SER\" if y <= 4655\n",
    "                                else \"SAL\" if y <= 5940\n",
    "                                else \"PRO\" if y <= 7640\n",
    "                                else \"PRO\" if y <= 8990\n",
    "                                else \"PRO\" if y <= 9760\n",
    "                                else \"PRO\" if y <= 9830\n",
    "                                else \"UN\")\n",
    "    return df"
   ]
  },
  {
   "cell_type": "code",
   "execution_count": 37,
   "metadata": {},
   "outputs": [
    {
     "name": "stdout",
     "output_type": "stream",
     "text": [
      "Occ : ['PRO' 'SAL' 'SER' 'BUS' 'SC/HC' 'ART']\n"
     ]
    }
   ],
   "source": [
    "occ_test = edu_test.copy()\n",
    "occ_test = occ_split(occ_test)\n",
    "print(\"Occ :\", occ_test.JOB.unique())"
   ]
  },
  {
   "cell_type": "code",
   "execution_count": 38,
   "metadata": {},
   "outputs": [
    {
     "data": {
      "text/plain": [
       "PRO      267672\n",
       "SAL      230983\n",
       "BUS      221863\n",
       "SC/HC    157970\n",
       "SER      142439\n",
       "ART      127689\n",
       "Name: JOB, dtype: int64"
      ]
     },
     "execution_count": 38,
     "metadata": {},
     "output_type": "execute_result"
    }
   ],
   "source": [
    "occ_test['JOB'].value_counts()"
   ]
  },
  {
   "cell_type": "code",
   "execution_count": 39,
   "metadata": {},
   "outputs": [],
   "source": [
    "occ_sort = occ_test.groupby('JOB').median().sort_values(by=['WAGP']).reset_index()\n",
    "occ_list = occ_sort['JOB'].tolist()"
   ]
  },
  {
   "cell_type": "code",
   "execution_count": 40,
   "metadata": {},
   "outputs": [
    {
     "data": {
      "text/plain": [
       "<seaborn.axisgrid.FacetGrid at 0x1e6802a5608>"
      ]
     },
     "execution_count": 40,
     "metadata": {},
     "output_type": "execute_result"
    },
    {
     "data": {
      "image/png": "[encoded data removed]",
      "text/plain": [
       "<Figure size 720x360 with 1 Axes>"
      ]
     },
     "metadata": {
      "needs_background": "light"
     },
     "output_type": "display_data"
    }
   ],
   "source": [
    "g = sns.catplot(y=\"WAGP\", x=\"JOB\", data=occ_test, kind=\"box\", aspect = 2, order = occ_list)\n",
    "g.set(ylim=(0, 175000))"
   ]
  },
  {
   "cell_type": "code",
   "execution_count": 41,
   "metadata": {
    "scrolled": true
   },
   "outputs": [
    {
     "data": {
      "text/plain": [
       "<seaborn.axisgrid.FacetGrid at 0x1e6801d0a48>"
      ]
     },
     "execution_count": 41,
     "metadata": {},
     "output_type": "execute_result"
    },
    {
     "data": {
      "image/png": "[encoded data removed]",
      "text/plain": [
       "<Figure size 906.375x288 with 1 Axes>"
      ]
     },
     "metadata": {
      "needs_background": "light"
     },
     "output_type": "display_data"
    }
   ],
   "source": [
    "g = sns.catplot(y=\"WAGP\", x=\"JOB\", data=occ_test, kind=\"box\", height = 4, aspect = 3, hue = \"SEX\", order = occ_list)\n",
    "g.set(ylim=(0, 175000))"
   ]
  },
  {
   "cell_type": "markdown",
   "metadata": {},
   "source": [
    "#### State - POWSP"
   ]
  },
  {
   "cell_type": "code",
   "execution_count": 42,
   "metadata": {},
   "outputs": [],
   "source": [
    "state_sort = occ_test.groupby('POWSP').median().reset_index()\n",
    "state_sort['reg_code'] = ['3', '4', '4', '3', '4', '4', '1', '3', '3', '3',\n",
    "                          '3', '4', '4', '2', '2', '2', '2', '3', '3', '1',\n",
    "                          '3', '1', '2', '2', '3', '2', '4', '2', '4', '1',\n",
    "                          '1', '4', '1', '3', '2', '2', '3', '4', '1', '1',\n",
    "                          '3', '2', '3', '3', '4', '1', '3', '4', '3', '2',\n",
    "                          '4', '5', '5', '5', '5', '5', '5', '5', '5']\n",
    "state_sort = state_sort.sort_values(by=['WAGP'])\n",
    "state_list = state_sort['POWSP'].tolist()"
   ]
  },
  {
   "cell_type": "code",
   "execution_count": 43,
   "metadata": {},
   "outputs": [],
   "source": [
    "reg_sort = state_sort.sort_values(by=['reg_code'])\n",
    "reg_list = reg_sort['POWSP'].tolist()"
   ]
  },
  {
   "cell_type": "code",
   "execution_count": 44,
   "metadata": {},
   "outputs": [
    {
     "data": {
      "text/plain": [
       "<seaborn.axisgrid.FacetGrid at 0x1e680046188>"
      ]
     },
     "execution_count": 44,
     "metadata": {},
     "output_type": "execute_result"
    },
    {
     "data": {
      "image/png": "[encoded data removed]",
      "text/plain": [
       "<Figure size 1493.62x360 with 1 Axes>"
      ]
     },
     "metadata": {
      "needs_background": "light"
     },
     "output_type": "display_data"
    }
   ],
   "source": [
    "g = sns.catplot(y=\"WAGP\", x=\"POWSP\", hue = 'reg_code', data=reg_sort, kind=\"bar\", aspect = 4, order = reg_list)\n",
    "g.set(ylim=(0, 175000))"
   ]
  },
  {
   "cell_type": "code",
   "execution_count": 45,
   "metadata": {
    "scrolled": true
   },
   "outputs": [
    {
     "data": {
      "text/plain": [
       "<seaborn.axisgrid.FacetGrid at 0x1e681dafc48>"
      ]
     },
     "execution_count": 45,
     "metadata": {},
     "output_type": "execute_result"
    },
    {
     "data": {
      "image/png": "[encoded data removed]",
      "text/plain": [
       "<Figure size 1440x360 with 1 Axes>"
      ]
     },
     "metadata": {
      "needs_background": "light"
     },
     "output_type": "display_data"
    }
   ],
   "source": [
    "g = sns.catplot(y=\"WAGP\", x=\"POWSP\", data=occ_test, kind=\"box\", aspect = 4, order = state_list)\n",
    "g.set(ylim=(0, 175000))"
   ]
  },
  {
   "cell_type": "code",
   "execution_count": 46,
   "metadata": {},
   "outputs": [
    {
     "data": {
      "text/plain": [
       "<seaborn.axisgrid.FacetGrid at 0x1e680432788>"
      ]
     },
     "execution_count": 46,
     "metadata": {},
     "output_type": "execute_result"
    },
    {
     "data": {
      "image/png": "[encoded data removed]",
      "text/plain": [
       "<Figure size 1260x360 with 1 Axes>"
      ]
     },
     "metadata": {
      "needs_background": "light"
     },
     "output_type": "display_data"
    }
   ],
   "source": [
    "g = sns.catplot(y=\"WAGP\", x=\"REGION\", data=ft_test, kind=\"box\", aspect = 3.5)\n",
    "g.set(ylim=(0, 175000))"
   ]
  },
  {
   "cell_type": "code",
   "execution_count": 47,
   "metadata": {},
   "outputs": [
    {
     "name": "stdout",
     "output_type": "stream",
     "text": [
      "[40.0, 28.0, 5.0, 35.0, 30.0, 46.0, 45.0, 47.0, 16.0, 1.0, 303.0, 54.0, 20.0, 31.0, 21.0, 23.0, 22.0, 18.0, 19.0, 32.0, 12.0, 29.0, 37.0, 38.0, 4.0, 56.0, 13.0, 50.0, 39.0, 48.0, 55.0, 26.0, 42.0, 41.0, 49.0, 15.0, 27.0, 33.0, 2.0, 17.0, 10.0, 8.0, 6.0, 72.0, 51.0, 44.0, 53.0, 36.0, 34.0, 251.0, 9.0, 24.0, 25.0, 555.0, 399.0, 166.0, 301.0, 11.0, 254.0]\n"
     ]
    }
   ],
   "source": [
    "print (state_list)"
   ]
  },
  {
   "cell_type": "code",
   "execution_count": 48,
   "metadata": {},
   "outputs": [],
   "source": [
    "def state_split(df):\n",
    "    # split into higher paying states\n",
    "    df['STSP'] = df['POWSP'].map(lambda y: 1 if y in [6.0, 72.0, 51.0, 44.0, 53.0, 36.0, 34.0, 251.0, 9.0, 24.0, 25.0, 555.0, 399.0, 166.0, 301.0, 11.0, 254.0]\n",
    "                                 else 2 if y in [55.0, 26.0, 42.0, 41.0, 49.0, 15.0, 27.0, 33.0, 2.0, 17.0, 10.0, 8.0]\n",
    "                                 else 3 if y in [29.0, 37.0, 38.0, 4.0, 56.0, 13.0, 50.0, 39.0, 48.0]\n",
    "                                 else 4 if y in [40.0, 28.0, 5.0, 35.0, 30.0, 46.0, 45.0, 47.0, 16.0, 1.0, 303.0, 54.0, 20.0, 31.0, 21.0, 23.0, 22.0, 18.0, 19.0, 32.0, 12.0]\n",
    "                                 else 5)\n",
    "    test = df.loc[df['STSP'] == 5].copy()\n",
    "    df = df.loc[df['STSP'] != 5]\n",
    "    test['STSP'] = test['REGION'].map(lambda y: 1 if y == 1\n",
    "                                      else 2 if y == 4\n",
    "                                      else 3 if y == 2\n",
    "                                      else 4 if y == 3\n",
    "                                      else 10)\n",
    "    df = pd.concat([df, test])\n",
    "\n",
    "    return df"
   ]
  },
  {
   "cell_type": "code",
   "execution_count": 49,
   "metadata": {},
   "outputs": [
    {
     "name": "stdout",
     "output_type": "stream",
     "text": [
      "State : [1 4 3 2]\n"
     ]
    }
   ],
   "source": [
    "state_test = occ_test.copy()\n",
    "state_test = state_split(state_test)\n",
    "print(\"State :\", state_test.STSP.unique())"
   ]
  },
  {
   "cell_type": "code",
   "execution_count": 50,
   "metadata": {},
   "outputs": [
    {
     "data": {
      "text/plain": [
       "1    364350\n",
       "4    285129\n",
       "3    264979\n",
       "2    234158\n",
       "Name: STSP, dtype: int64"
      ]
     },
     "execution_count": 50,
     "metadata": {},
     "output_type": "execute_result"
    }
   ],
   "source": [
    "state_test['STSP'].value_counts()"
   ]
  },
  {
   "cell_type": "code",
   "execution_count": 51,
   "metadata": {},
   "outputs": [],
   "source": [
    "state_sort = state_test.groupby('STSP').median().sort_values(by=['WAGP']).reset_index()\n",
    "state_list = state_sort['STSP'].tolist()"
   ]
  },
  {
   "cell_type": "code",
   "execution_count": 52,
   "metadata": {},
   "outputs": [
    {
     "data": {
      "text/plain": [
       "<seaborn.axisgrid.FacetGrid at 0x1e6a065d288>"
      ]
     },
     "execution_count": 52,
     "metadata": {},
     "output_type": "execute_result"
    },
    {
     "data": {
      "image/png": "[encoded data removed]",
      "text/plain": [
       "<Figure size 720x360 with 1 Axes>"
      ]
     },
     "metadata": {
      "needs_background": "light"
     },
     "output_type": "display_data"
    }
   ],
   "source": [
    "g = sns.catplot(y=\"WAGP\", x=\"STSP\", data=state_test, kind=\"box\", aspect = 2, order = state_list)\n",
    "g.set(ylim=(0, 175000))"
   ]
  },
  {
   "cell_type": "code",
   "execution_count": 53,
   "metadata": {},
   "outputs": [
    {
     "data": {
      "text/plain": [
       "<seaborn.axisgrid.FacetGrid at 0x1e6a06aff48>"
      ]
     },
     "execution_count": 53,
     "metadata": {},
     "output_type": "execute_result"
    },
    {
     "data": {
      "image/png": "[encoded data removed]",
      "text/plain": [
       "<Figure size 906.375x288 with 1 Axes>"
      ]
     },
     "metadata": {
      "needs_background": "light"
     },
     "output_type": "display_data"
    }
   ],
   "source": [
    "g = sns.catplot(y=\"WAGP\", x=\"STSP\", data=state_test, kind=\"box\", height = 4, aspect = 3, hue = \"SEX\", order = state_list)\n",
    "g.set(ylim=(0, 175000))"
   ]
  },
  {
   "cell_type": "markdown",
   "metadata": {},
   "source": [
    "#### Ethnicity - RAC1P"
   ]
  },
  {
   "cell_type": "code",
   "execution_count": 54,
   "metadata": {
    "scrolled": true
   },
   "outputs": [
    {
     "data": {
      "text/plain": [
       "<seaborn.axisgrid.FacetGrid at 0x1e6a08dcf88>"
      ]
     },
     "execution_count": 54,
     "metadata": {},
     "output_type": "execute_result"
    },
    {
     "data": {
      "image/png": "[encoded data removed]",
      "text/plain": [
       "<Figure size 1440x360 with 1 Axes>"
      ]
     },
     "metadata": {
      "needs_background": "light"
     },
     "output_type": "display_data"
    }
   ],
   "source": [
    "g = sns.catplot(y=\"WAGP\", x=\"RAC1P\", data=state_test, kind=\"box\", aspect = 4)\n",
    "g.set(ylim=(0, 175000))"
   ]
  },
  {
   "cell_type": "code",
   "execution_count": 55,
   "metadata": {},
   "outputs": [
    {
     "data": {
      "text/plain": [
       "1    900011\n",
       "2     99064\n",
       "6     68681\n",
       "8     43117\n",
       "9     26119\n",
       "3      7918\n",
       "7      1993\n",
       "5      1359\n",
       "4       354\n",
       "Name: RAC1P, dtype: int64"
      ]
     },
     "execution_count": 55,
     "metadata": {},
     "output_type": "execute_result"
    }
   ],
   "source": [
    "state_test['RAC1P'].value_counts()"
   ]
  },
  {
   "cell_type": "code",
   "execution_count": 56,
   "metadata": {},
   "outputs": [],
   "source": [
    "def int_race_split(df):\n",
    "    # split into occupational industries\n",
    "    df['RACE'] = df['RAC3P'].map(lambda y: \"WHT\" if y == 1\n",
    "                               else \"BLK\" if y == 2\n",
    "                               else \"IND\" if y == 3\n",
    "                               else \"ASN\" if y <= 10\n",
    "                               else \"ISL\" if y <= 14\n",
    "                               else \"NAN\" if y == 15\n",
    "                               else \"WHT\" if y <= 29\n",
    "                               else \"BLK\" if y <= 38\n",
    "                               else \"IND\" if y <= 41\n",
    "                               else \"ASN\" if y <= 58\n",
    "                               else \"ISL\" if y == 59\n",
    "                               else \"WHT\" if y <= 70\n",
    "                               else \"ASN\" if y == 71\n",
    "                               else \"WHT\" if y <= 73\n",
    "                               else \"BLK\" if y <= 75\n",
    "                               else \"ASN\" if y <= 77\n",
    "                               else \"WHT\" if y <= 89\n",
    "                               else \"BLK\" if y <= 91\n",
    "                               else \"ASN\" if y <= 98\n",
    "                               else \"ISL\" if y == 99\n",
    "                               else \"WHT\" if y == 100\n",
    "                               else \"UN\")\n",
    "    return df"
   ]
  },
  {
   "cell_type": "code",
   "execution_count": 57,
   "metadata": {},
   "outputs": [
    {
     "name": "stdout",
     "output_type": "stream",
     "text": [
      "RACE : ['NAN' 'WHT' 'ASN' 'BLK' 'ISL' 'IND']\n"
     ]
    }
   ],
   "source": [
    "int_race_test = state_test.copy()\n",
    "int_race_test = int_race_split(int_race_test)\n",
    "print(\"RACE :\", int_race_test.RACE.unique())"
   ]
  },
  {
   "cell_type": "code",
   "execution_count": 58,
   "metadata": {},
   "outputs": [
    {
     "data": {
      "text/plain": [
       "WHT    922064\n",
       "BLK    100971\n",
       "ASN     70331\n",
       "NAN     43117\n",
       "IND     10029\n",
       "ISL      2104\n",
       "Name: RACE, dtype: int64"
      ]
     },
     "execution_count": 58,
     "metadata": {},
     "output_type": "execute_result"
    }
   ],
   "source": [
    "int_race_test['RACE'].value_counts()"
   ]
  },
  {
   "cell_type": "code",
   "execution_count": 59,
   "metadata": {
    "scrolled": true
   },
   "outputs": [
    {
     "data": {
      "text/plain": [
       "<seaborn.axisgrid.FacetGrid at 0x1e6a06fe408>"
      ]
     },
     "execution_count": 59,
     "metadata": {},
     "output_type": "execute_result"
    },
    {
     "data": {
      "image/png": "[encoded data removed]",
      "text/plain": [
       "<Figure size 1440x360 with 1 Axes>"
      ]
     },
     "metadata": {
      "needs_background": "light"
     },
     "output_type": "display_data"
    }
   ],
   "source": [
    "int_race_sort = int_race_test.groupby('RACE').median().sort_values(by=['WAGP']).reset_index()\n",
    "int_race_list = int_race_sort['RACE'].tolist()\n",
    "g = sns.catplot(y=\"WAGP\", x=\"RACE\", data=int_race_test, kind=\"box\", aspect = 4, order = int_race_list)\n",
    "g.set(ylim=(0, 175000))"
   ]
  },
  {
   "cell_type": "code",
   "execution_count": 60,
   "metadata": {},
   "outputs": [],
   "source": [
    "def race_split(df):\n",
    "    # split into occupational industries\n",
    "    df['RACE'] = df['RAC3P'].map(lambda y: \"WHT\" if y == 1\n",
    "                               else \"BLK\" if y == 2\n",
    "                               else \"IND\" if y == 3\n",
    "                               else \"ASN\" if y <= 10\n",
    "                               else \"ISL\" if y <= 14\n",
    "                               else \"NAN\" if y == 15\n",
    "                               else \"WHT\" if y <= 29\n",
    "                               else \"BLK\" if y <= 38\n",
    "                               else \"IND\" if y <= 41\n",
    "                               else \"ASN\" if y <= 58\n",
    "                               else \"ISL\" if y == 59\n",
    "                               else \"WHT\" if y <= 70\n",
    "                               else \"ASN\" if y == 71\n",
    "                               else \"WHT\" if y <= 73\n",
    "                               else \"BLK\" if y <= 75\n",
    "                               else \"ASN\" if y <= 77\n",
    "                               else \"WHT\" if y <= 89\n",
    "                               else \"BLK\" if y <= 91\n",
    "                               else \"ASN\" if y <= 98\n",
    "                               else \"ISL\" if y == 99\n",
    "                               else \"WHT\" if y == 100\n",
    "                               else \"UN\")\n",
    "    df['RACE'] = df['RACE'].map(lambda y: \"WHT\" if y in ['WHT']\n",
    "                               else \"BLK\" if y in ['BLK','NAN','ISL','IND']\n",
    "                               else \"ASN\" if y in ['ASN']\n",
    "                               else \"UN\")\n",
    "    return df"
   ]
  },
  {
   "cell_type": "code",
   "execution_count": 61,
   "metadata": {},
   "outputs": [
    {
     "name": "stdout",
     "output_type": "stream",
     "text": [
      "RACE : ['BLK' 'WHT' 'ASN']\n"
     ]
    }
   ],
   "source": [
    "race_test = state_test.copy()\n",
    "race_test = race_split(race_test)\n",
    "print(\"RACE :\", race_test.RACE.unique())"
   ]
  },
  {
   "cell_type": "code",
   "execution_count": 62,
   "metadata": {},
   "outputs": [
    {
     "data": {
      "text/plain": [
       "WHT    922064\n",
       "BLK    156221\n",
       "ASN     70331\n",
       "Name: RACE, dtype: int64"
      ]
     },
     "execution_count": 62,
     "metadata": {},
     "output_type": "execute_result"
    }
   ],
   "source": [
    "race_test['RACE'].value_counts()"
   ]
  },
  {
   "cell_type": "code",
   "execution_count": 63,
   "metadata": {},
   "outputs": [
    {
     "data": {
      "text/plain": [
       "<seaborn.axisgrid.FacetGrid at 0x1e6a2951208>"
      ]
     },
     "execution_count": 63,
     "metadata": {},
     "output_type": "execute_result"
    },
    {
     "data": {
      "image/png": "[encoded data removed]",
      "text/plain": [
       "<Figure size 1440x360 with 1 Axes>"
      ]
     },
     "metadata": {
      "needs_background": "light"
     },
     "output_type": "display_data"
    }
   ],
   "source": [
    "race_sort = race_test.groupby('RACE').median().sort_values(by=['WAGP']).reset_index()\n",
    "race_list = race_sort['RACE'].tolist()\n",
    "g = sns.catplot(y=\"WAGP\", x=\"RACE\", data=race_test, kind=\"box\", aspect = 4, order = race_list)\n",
    "g.set(ylim=(0, 175000))"
   ]
  },
  {
   "cell_type": "markdown",
   "metadata": {},
   "source": [
    "#### Remove Columns"
   ]
  },
  {
   "cell_type": "code",
   "execution_count": 64,
   "metadata": {},
   "outputs": [
    {
     "data": {
      "text/plain": [
       "Index(['REGION', 'AGEP', 'SCHL', 'SEX', 'WAGP', 'WKHP', 'WKW', 'OCCP', 'POWSP',\n",
       "       'RAC1P', 'RAC3P', 'AGEB', 'EDU', 'JOB', 'STSP', 'RACE'],\n",
       "      dtype='object')"
      ]
     },
     "execution_count": 64,
     "metadata": {},
     "output_type": "execute_result"
    }
   ],
   "source": [
    "race_test.columns"
   ]
  },
  {
   "cell_type": "code",
   "execution_count": 65,
   "metadata": {},
   "outputs": [
    {
     "data": {
      "text/html": [
       "<div>\n",
       "<style scoped>\n",
       "    .dataframe tbody tr th:only-of-type {\n",
       "        vertical-align: middle;\n",
       "    }\n",
       "\n",
       "    .dataframe tbody tr th {\n",
       "        vertical-align: top;\n",
       "    }\n",
       "\n",
       "    .dataframe thead th {\n",
       "        text-align: right;\n",
       "    }\n",
       "</style>\n",
       "<table border=\"1\" class=\"dataframe\">\n",
       "  <thead>\n",
       "    <tr style=\"text-align: right;\">\n",
       "      <th></th>\n",
       "      <th>REGION</th>\n",
       "      <th>AGEP</th>\n",
       "      <th>SCHL</th>\n",
       "      <th>SEX</th>\n",
       "      <th>WAGP</th>\n",
       "      <th>WKHP</th>\n",
       "      <th>WKW</th>\n",
       "      <th>OCCP</th>\n",
       "      <th>POWSP</th>\n",
       "      <th>RAC1P</th>\n",
       "      <th>RAC3P</th>\n",
       "      <th>AGEB</th>\n",
       "      <th>EDU</th>\n",
       "      <th>JOB</th>\n",
       "      <th>STSP</th>\n",
       "      <th>RACE</th>\n",
       "    </tr>\n",
       "  </thead>\n",
       "  <tbody>\n",
       "    <tr>\n",
       "      <td>count</td>\n",
       "      <td>1.148616e+06</td>\n",
       "      <td>1.148616e+06</td>\n",
       "      <td>1.148616e+06</td>\n",
       "      <td>1.148616e+06</td>\n",
       "      <td>1.148616e+06</td>\n",
       "      <td>1148616.0</td>\n",
       "      <td>1148616.0</td>\n",
       "      <td>1.148616e+06</td>\n",
       "      <td>1.112574e+06</td>\n",
       "      <td>1.148616e+06</td>\n",
       "      <td>1.148616e+06</td>\n",
       "      <td>1148616</td>\n",
       "      <td>1148616</td>\n",
       "      <td>1148616</td>\n",
       "      <td>1.148616e+06</td>\n",
       "      <td>1148616</td>\n",
       "    </tr>\n",
       "    <tr>\n",
       "      <td>unique</td>\n",
       "      <td>NaN</td>\n",
       "      <td>NaN</td>\n",
       "      <td>NaN</td>\n",
       "      <td>NaN</td>\n",
       "      <td>NaN</td>\n",
       "      <td>NaN</td>\n",
       "      <td>NaN</td>\n",
       "      <td>NaN</td>\n",
       "      <td>NaN</td>\n",
       "      <td>NaN</td>\n",
       "      <td>NaN</td>\n",
       "      <td>8</td>\n",
       "      <td>5</td>\n",
       "      <td>6</td>\n",
       "      <td>NaN</td>\n",
       "      <td>3</td>\n",
       "    </tr>\n",
       "    <tr>\n",
       "      <td>top</td>\n",
       "      <td>NaN</td>\n",
       "      <td>NaN</td>\n",
       "      <td>NaN</td>\n",
       "      <td>NaN</td>\n",
       "      <td>NaN</td>\n",
       "      <td>NaN</td>\n",
       "      <td>NaN</td>\n",
       "      <td>NaN</td>\n",
       "      <td>NaN</td>\n",
       "      <td>NaN</td>\n",
       "      <td>NaN</td>\n",
       "      <td>50-59</td>\n",
       "      <td>AS</td>\n",
       "      <td>PRO</td>\n",
       "      <td>NaN</td>\n",
       "      <td>WHT</td>\n",
       "    </tr>\n",
       "    <tr>\n",
       "      <td>freq</td>\n",
       "      <td>NaN</td>\n",
       "      <td>NaN</td>\n",
       "      <td>NaN</td>\n",
       "      <td>NaN</td>\n",
       "      <td>NaN</td>\n",
       "      <td>NaN</td>\n",
       "      <td>NaN</td>\n",
       "      <td>NaN</td>\n",
       "      <td>NaN</td>\n",
       "      <td>NaN</td>\n",
       "      <td>NaN</td>\n",
       "      <td>277322</td>\n",
       "      <td>346480</td>\n",
       "      <td>267672</td>\n",
       "      <td>NaN</td>\n",
       "      <td>922064</td>\n",
       "    </tr>\n",
       "    <tr>\n",
       "      <td>mean</td>\n",
       "      <td>2.652849e+00</td>\n",
       "      <td>4.428583e+01</td>\n",
       "      <td>1.884832e+01</td>\n",
       "      <td>1.434923e+00</td>\n",
       "      <td>6.380350e+04</td>\n",
       "      <td>1.0</td>\n",
       "      <td>1.0</td>\n",
       "      <td>4.034222e+03</td>\n",
       "      <td>2.806745e+01</td>\n",
       "      <td>1.859758e+00</td>\n",
       "      <td>2.674443e+00</td>\n",
       "      <td>NaN</td>\n",
       "      <td>NaN</td>\n",
       "      <td>NaN</td>\n",
       "      <td>2.409960e+00</td>\n",
       "      <td>NaN</td>\n",
       "    </tr>\n",
       "    <tr>\n",
       "      <td>std</td>\n",
       "      <td>1.023858e+00</td>\n",
       "      <td>1.328489e+01</td>\n",
       "      <td>3.273379e+00</td>\n",
       "      <td>4.957471e-01</td>\n",
       "      <td>6.991563e+04</td>\n",
       "      <td>0.0</td>\n",
       "      <td>0.0</td>\n",
       "      <td>2.783980e+03</td>\n",
       "      <td>1.782020e+01</td>\n",
       "      <td>2.061159e+00</td>\n",
       "      <td>6.217854e+00</td>\n",
       "      <td>NaN</td>\n",
       "      <td>NaN</td>\n",
       "      <td>NaN</td>\n",
       "      <td>1.171659e+00</td>\n",
       "      <td>NaN</td>\n",
       "    </tr>\n",
       "    <tr>\n",
       "      <td>min</td>\n",
       "      <td>1.000000e+00</td>\n",
       "      <td>1.600000e+01</td>\n",
       "      <td>1.000000e+00</td>\n",
       "      <td>1.000000e+00</td>\n",
       "      <td>0.000000e+00</td>\n",
       "      <td>1.0</td>\n",
       "      <td>1.0</td>\n",
       "      <td>1.000000e+01</td>\n",
       "      <td>1.000000e+00</td>\n",
       "      <td>1.000000e+00</td>\n",
       "      <td>1.000000e+00</td>\n",
       "      <td>NaN</td>\n",
       "      <td>NaN</td>\n",
       "      <td>NaN</td>\n",
       "      <td>1.000000e+00</td>\n",
       "      <td>NaN</td>\n",
       "    </tr>\n",
       "    <tr>\n",
       "      <td>25%</td>\n",
       "      <td>2.000000e+00</td>\n",
       "      <td>3.300000e+01</td>\n",
       "      <td>1.600000e+01</td>\n",
       "      <td>1.000000e+00</td>\n",
       "      <td>2.900000e+04</td>\n",
       "      <td>1.0</td>\n",
       "      <td>1.0</td>\n",
       "      <td>1.530000e+03</td>\n",
       "      <td>1.200000e+01</td>\n",
       "      <td>1.000000e+00</td>\n",
       "      <td>1.000000e+00</td>\n",
       "      <td>NaN</td>\n",
       "      <td>NaN</td>\n",
       "      <td>NaN</td>\n",
       "      <td>1.000000e+00</td>\n",
       "      <td>NaN</td>\n",
       "    </tr>\n",
       "    <tr>\n",
       "      <td>50%</td>\n",
       "      <td>3.000000e+00</td>\n",
       "      <td>4.500000e+01</td>\n",
       "      <td>1.900000e+01</td>\n",
       "      <td>1.000000e+00</td>\n",
       "      <td>4.700000e+04</td>\n",
       "      <td>1.0</td>\n",
       "      <td>1.0</td>\n",
       "      <td>4.020000e+03</td>\n",
       "      <td>2.800000e+01</td>\n",
       "      <td>1.000000e+00</td>\n",
       "      <td>1.000000e+00</td>\n",
       "      <td>NaN</td>\n",
       "      <td>NaN</td>\n",
       "      <td>NaN</td>\n",
       "      <td>2.000000e+00</td>\n",
       "      <td>NaN</td>\n",
       "    </tr>\n",
       "    <tr>\n",
       "      <td>75%</td>\n",
       "      <td>3.000000e+00</td>\n",
       "      <td>5.500000e+01</td>\n",
       "      <td>2.100000e+01</td>\n",
       "      <td>2.000000e+00</td>\n",
       "      <td>7.500000e+04</td>\n",
       "      <td>1.0</td>\n",
       "      <td>1.0</td>\n",
       "      <td>5.810000e+03</td>\n",
       "      <td>4.200000e+01</td>\n",
       "      <td>1.000000e+00</td>\n",
       "      <td>1.000000e+00</td>\n",
       "      <td>NaN</td>\n",
       "      <td>NaN</td>\n",
       "      <td>NaN</td>\n",
       "      <td>3.000000e+00</td>\n",
       "      <td>NaN</td>\n",
       "    </tr>\n",
       "    <tr>\n",
       "      <td>max</td>\n",
       "      <td>4.000000e+00</td>\n",
       "      <td>9.500000e+01</td>\n",
       "      <td>2.400000e+01</td>\n",
       "      <td>2.000000e+00</td>\n",
       "      <td>7.180000e+05</td>\n",
       "      <td>1.0</td>\n",
       "      <td>1.0</td>\n",
       "      <td>9.830000e+03</td>\n",
       "      <td>5.550000e+02</td>\n",
       "      <td>9.000000e+00</td>\n",
       "      <td>1.000000e+02</td>\n",
       "      <td>NaN</td>\n",
       "      <td>NaN</td>\n",
       "      <td>NaN</td>\n",
       "      <td>4.000000e+00</td>\n",
       "      <td>NaN</td>\n",
       "    </tr>\n",
       "  </tbody>\n",
       "</table>\n",
       "</div>"
      ],
      "text/plain": [
       "              REGION          AGEP          SCHL           SEX          WAGP  \\\n",
       "count   1.148616e+06  1.148616e+06  1.148616e+06  1.148616e+06  1.148616e+06   \n",
       "unique           NaN           NaN           NaN           NaN           NaN   \n",
       "top              NaN           NaN           NaN           NaN           NaN   \n",
       "freq             NaN           NaN           NaN           NaN           NaN   \n",
       "mean    2.652849e+00  4.428583e+01  1.884832e+01  1.434923e+00  6.380350e+04   \n",
       "std     1.023858e+00  1.328489e+01  3.273379e+00  4.957471e-01  6.991563e+04   \n",
       "min     1.000000e+00  1.600000e+01  1.000000e+00  1.000000e+00  0.000000e+00   \n",
       "25%     2.000000e+00  3.300000e+01  1.600000e+01  1.000000e+00  2.900000e+04   \n",
       "50%     3.000000e+00  4.500000e+01  1.900000e+01  1.000000e+00  4.700000e+04   \n",
       "75%     3.000000e+00  5.500000e+01  2.100000e+01  2.000000e+00  7.500000e+04   \n",
       "max     4.000000e+00  9.500000e+01  2.400000e+01  2.000000e+00  7.180000e+05   \n",
       "\n",
       "             WKHP        WKW          OCCP         POWSP         RAC1P  \\\n",
       "count   1148616.0  1148616.0  1.148616e+06  1.112574e+06  1.148616e+06   \n",
       "unique        NaN        NaN           NaN           NaN           NaN   \n",
       "top           NaN        NaN           NaN           NaN           NaN   \n",
       "freq          NaN        NaN           NaN           NaN           NaN   \n",
       "mean          1.0        1.0  4.034222e+03  2.806745e+01  1.859758e+00   \n",
       "std           0.0        0.0  2.783980e+03  1.782020e+01  2.061159e+00   \n",
       "min           1.0        1.0  1.000000e+01  1.000000e+00  1.000000e+00   \n",
       "25%           1.0        1.0  1.530000e+03  1.200000e+01  1.000000e+00   \n",
       "50%           1.0        1.0  4.020000e+03  2.800000e+01  1.000000e+00   \n",
       "75%           1.0        1.0  5.810000e+03  4.200000e+01  1.000000e+00   \n",
       "max           1.0        1.0  9.830000e+03  5.550000e+02  9.000000e+00   \n",
       "\n",
       "               RAC3P     AGEB      EDU      JOB          STSP     RACE  \n",
       "count   1.148616e+06  1148616  1148616  1148616  1.148616e+06  1148616  \n",
       "unique           NaN        8        5        6           NaN        3  \n",
       "top              NaN    50-59       AS      PRO           NaN      WHT  \n",
       "freq             NaN   277322   346480   267672           NaN   922064  \n",
       "mean    2.674443e+00      NaN      NaN      NaN  2.409960e+00      NaN  \n",
       "std     6.217854e+00      NaN      NaN      NaN  1.171659e+00      NaN  \n",
       "min     1.000000e+00      NaN      NaN      NaN  1.000000e+00      NaN  \n",
       "25%     1.000000e+00      NaN      NaN      NaN  1.000000e+00      NaN  \n",
       "50%     1.000000e+00      NaN      NaN      NaN  2.000000e+00      NaN  \n",
       "75%     1.000000e+00      NaN      NaN      NaN  3.000000e+00      NaN  \n",
       "max     1.000000e+02      NaN      NaN      NaN  4.000000e+00      NaN  "
      ]
     },
     "execution_count": 65,
     "metadata": {},
     "output_type": "execute_result"
    }
   ],
   "source": [
    "race_test.describe(include='all')"
   ]
  },
  {
   "cell_type": "code",
   "execution_count": 66,
   "metadata": {},
   "outputs": [],
   "source": [
    "def remove_col(df):\n",
    "    remove_cols = ['REGION','AGEP','SCHL','WKHP','WKW','OCCP','POWSP','RAC1P','RAC3P']\n",
    "    df = df.drop(remove_cols,axis=1)\n",
    "    return df"
   ]
  },
  {
   "cell_type": "code",
   "execution_count": 67,
   "metadata": {},
   "outputs": [
    {
     "data": {
      "text/html": [
       "<div>\n",
       "<style scoped>\n",
       "    .dataframe tbody tr th:only-of-type {\n",
       "        vertical-align: middle;\n",
       "    }\n",
       "\n",
       "    .dataframe tbody tr th {\n",
       "        vertical-align: top;\n",
       "    }\n",
       "\n",
       "    .dataframe thead th {\n",
       "        text-align: right;\n",
       "    }\n",
       "</style>\n",
       "<table border=\"1\" class=\"dataframe\">\n",
       "  <thead>\n",
       "    <tr style=\"text-align: right;\">\n",
       "      <th></th>\n",
       "      <th>SEX</th>\n",
       "      <th>WAGP</th>\n",
       "      <th>AGEB</th>\n",
       "      <th>EDU</th>\n",
       "      <th>JOB</th>\n",
       "      <th>STSP</th>\n",
       "      <th>RACE</th>\n",
       "    </tr>\n",
       "  </thead>\n",
       "  <tbody>\n",
       "    <tr>\n",
       "      <td>count</td>\n",
       "      <td>1.148616e+06</td>\n",
       "      <td>1.148616e+06</td>\n",
       "      <td>1148616</td>\n",
       "      <td>1148616</td>\n",
       "      <td>1148616</td>\n",
       "      <td>1.148616e+06</td>\n",
       "      <td>1148616</td>\n",
       "    </tr>\n",
       "    <tr>\n",
       "      <td>unique</td>\n",
       "      <td>NaN</td>\n",
       "      <td>NaN</td>\n",
       "      <td>8</td>\n",
       "      <td>5</td>\n",
       "      <td>6</td>\n",
       "      <td>NaN</td>\n",
       "      <td>3</td>\n",
       "    </tr>\n",
       "    <tr>\n",
       "      <td>top</td>\n",
       "      <td>NaN</td>\n",
       "      <td>NaN</td>\n",
       "      <td>50-59</td>\n",
       "      <td>AS</td>\n",
       "      <td>PRO</td>\n",
       "      <td>NaN</td>\n",
       "      <td>WHT</td>\n",
       "    </tr>\n",
       "    <tr>\n",
       "      <td>freq</td>\n",
       "      <td>NaN</td>\n",
       "      <td>NaN</td>\n",
       "      <td>277322</td>\n",
       "      <td>346480</td>\n",
       "      <td>267672</td>\n",
       "      <td>NaN</td>\n",
       "      <td>922064</td>\n",
       "    </tr>\n",
       "    <tr>\n",
       "      <td>mean</td>\n",
       "      <td>1.434923e+00</td>\n",
       "      <td>6.380350e+04</td>\n",
       "      <td>NaN</td>\n",
       "      <td>NaN</td>\n",
       "      <td>NaN</td>\n",
       "      <td>2.409960e+00</td>\n",
       "      <td>NaN</td>\n",
       "    </tr>\n",
       "    <tr>\n",
       "      <td>std</td>\n",
       "      <td>4.957471e-01</td>\n",
       "      <td>6.991563e+04</td>\n",
       "      <td>NaN</td>\n",
       "      <td>NaN</td>\n",
       "      <td>NaN</td>\n",
       "      <td>1.171659e+00</td>\n",
       "      <td>NaN</td>\n",
       "    </tr>\n",
       "    <tr>\n",
       "      <td>min</td>\n",
       "      <td>1.000000e+00</td>\n",
       "      <td>0.000000e+00</td>\n",
       "      <td>NaN</td>\n",
       "      <td>NaN</td>\n",
       "      <td>NaN</td>\n",
       "      <td>1.000000e+00</td>\n",
       "      <td>NaN</td>\n",
       "    </tr>\n",
       "    <tr>\n",
       "      <td>25%</td>\n",
       "      <td>1.000000e+00</td>\n",
       "      <td>2.900000e+04</td>\n",
       "      <td>NaN</td>\n",
       "      <td>NaN</td>\n",
       "      <td>NaN</td>\n",
       "      <td>1.000000e+00</td>\n",
       "      <td>NaN</td>\n",
       "    </tr>\n",
       "    <tr>\n",
       "      <td>50%</td>\n",
       "      <td>1.000000e+00</td>\n",
       "      <td>4.700000e+04</td>\n",
       "      <td>NaN</td>\n",
       "      <td>NaN</td>\n",
       "      <td>NaN</td>\n",
       "      <td>2.000000e+00</td>\n",
       "      <td>NaN</td>\n",
       "    </tr>\n",
       "    <tr>\n",
       "      <td>75%</td>\n",
       "      <td>2.000000e+00</td>\n",
       "      <td>7.500000e+04</td>\n",
       "      <td>NaN</td>\n",
       "      <td>NaN</td>\n",
       "      <td>NaN</td>\n",
       "      <td>3.000000e+00</td>\n",
       "      <td>NaN</td>\n",
       "    </tr>\n",
       "    <tr>\n",
       "      <td>max</td>\n",
       "      <td>2.000000e+00</td>\n",
       "      <td>7.180000e+05</td>\n",
       "      <td>NaN</td>\n",
       "      <td>NaN</td>\n",
       "      <td>NaN</td>\n",
       "      <td>4.000000e+00</td>\n",
       "      <td>NaN</td>\n",
       "    </tr>\n",
       "  </tbody>\n",
       "</table>\n",
       "</div>"
      ],
      "text/plain": [
       "                 SEX          WAGP     AGEB      EDU      JOB          STSP  \\\n",
       "count   1.148616e+06  1.148616e+06  1148616  1148616  1148616  1.148616e+06   \n",
       "unique           NaN           NaN        8        5        6           NaN   \n",
       "top              NaN           NaN    50-59       AS      PRO           NaN   \n",
       "freq             NaN           NaN   277322   346480   267672           NaN   \n",
       "mean    1.434923e+00  6.380350e+04      NaN      NaN      NaN  2.409960e+00   \n",
       "std     4.957471e-01  6.991563e+04      NaN      NaN      NaN  1.171659e+00   \n",
       "min     1.000000e+00  0.000000e+00      NaN      NaN      NaN  1.000000e+00   \n",
       "25%     1.000000e+00  2.900000e+04      NaN      NaN      NaN  1.000000e+00   \n",
       "50%     1.000000e+00  4.700000e+04      NaN      NaN      NaN  2.000000e+00   \n",
       "75%     2.000000e+00  7.500000e+04      NaN      NaN      NaN  3.000000e+00   \n",
       "max     2.000000e+00  7.180000e+05      NaN      NaN      NaN  4.000000e+00   \n",
       "\n",
       "           RACE  \n",
       "count   1148616  \n",
       "unique        3  \n",
       "top         WHT  \n",
       "freq     922064  \n",
       "mean        NaN  \n",
       "std         NaN  \n",
       "min         NaN  \n",
       "25%         NaN  \n",
       "50%         NaN  \n",
       "75%         NaN  \n",
       "max         NaN  "
      ]
     },
     "execution_count": 67,
     "metadata": {},
     "output_type": "execute_result"
    }
   ],
   "source": [
    "remove_test = race_test.copy()\n",
    "remove_test = remove_col(remove_test)\n",
    "remove_test.describe(include='all')"
   ]
  },
  {
   "cell_type": "markdown",
   "metadata": {},
   "source": [
    "#### Pipeline"
   ]
  },
  {
   "cell_type": "code",
   "execution_count": 68,
   "metadata": {},
   "outputs": [],
   "source": [
    "def pp_pipeline(df):\n",
    "    df = (df\n",
    "          .pipe(full_time_detect)\n",
    "          .pipe(age_bins)\n",
    "          .pipe(edu_split)\n",
    "          .pipe(occ_split)\n",
    "          .pipe(state_split)\n",
    "          .pipe(race_split)\n",
    "         .pipe(remove_col))\n",
    "    return df"
   ]
  },
  {
   "cell_type": "code",
   "execution_count": 69,
   "metadata": {},
   "outputs": [
    {
     "data": {
      "text/html": [
       "<div>\n",
       "<style scoped>\n",
       "    .dataframe tbody tr th:only-of-type {\n",
       "        vertical-align: middle;\n",
       "    }\n",
       "\n",
       "    .dataframe tbody tr th {\n",
       "        vertical-align: top;\n",
       "    }\n",
       "\n",
       "    .dataframe thead th {\n",
       "        text-align: right;\n",
       "    }\n",
       "</style>\n",
       "<table border=\"1\" class=\"dataframe\">\n",
       "  <thead>\n",
       "    <tr style=\"text-align: right;\">\n",
       "      <th></th>\n",
       "      <th>SEX</th>\n",
       "      <th>WAGP</th>\n",
       "      <th>AGEB</th>\n",
       "      <th>EDU</th>\n",
       "      <th>JOB</th>\n",
       "      <th>STSP</th>\n",
       "      <th>RACE</th>\n",
       "    </tr>\n",
       "  </thead>\n",
       "  <tbody>\n",
       "    <tr>\n",
       "      <td>14</td>\n",
       "      <td>1</td>\n",
       "      <td>29000.0</td>\n",
       "      <td>16-23</td>\n",
       "      <td>AS</td>\n",
       "      <td>SER</td>\n",
       "      <td>4</td>\n",
       "      <td>WHT</td>\n",
       "    </tr>\n",
       "    <tr>\n",
       "      <td>19</td>\n",
       "      <td>2</td>\n",
       "      <td>30000.0</td>\n",
       "      <td>50-59</td>\n",
       "      <td>AS</td>\n",
       "      <td>SAL</td>\n",
       "      <td>4</td>\n",
       "      <td>WHT</td>\n",
       "    </tr>\n",
       "    <tr>\n",
       "      <td>55</td>\n",
       "      <td>2</td>\n",
       "      <td>30000.0</td>\n",
       "      <td>50-59</td>\n",
       "      <td>AS</td>\n",
       "      <td>SAL</td>\n",
       "      <td>4</td>\n",
       "      <td>WHT</td>\n",
       "    </tr>\n",
       "    <tr>\n",
       "      <td>64</td>\n",
       "      <td>1</td>\n",
       "      <td>20000.0</td>\n",
       "      <td>16-23</td>\n",
       "      <td>AS</td>\n",
       "      <td>SER</td>\n",
       "      <td>4</td>\n",
       "      <td>BLK</td>\n",
       "    </tr>\n",
       "    <tr>\n",
       "      <td>80</td>\n",
       "      <td>2</td>\n",
       "      <td>10000.0</td>\n",
       "      <td>16-23</td>\n",
       "      <td>AS</td>\n",
       "      <td>BUS</td>\n",
       "      <td>4</td>\n",
       "      <td>WHT</td>\n",
       "    </tr>\n",
       "  </tbody>\n",
       "</table>\n",
       "</div>"
      ],
      "text/plain": [
       "    SEX     WAGP   AGEB EDU  JOB  STSP RACE\n",
       "14    1  29000.0  16-23  AS  SER     4  WHT\n",
       "19    2  30000.0  50-59  AS  SAL     4  WHT\n",
       "55    2  30000.0  50-59  AS  SAL     4  WHT\n",
       "64    1  20000.0  16-23  AS  SER     4  BLK\n",
       "80    2  10000.0  16-23  AS  BUS     4  WHT"
      ]
     },
     "execution_count": 69,
     "metadata": {},
     "output_type": "execute_result"
    }
   ],
   "source": [
    "pp_test = PUS18_full.copy()\n",
    "pp_test = pp_pipeline(pp_test)\n",
    "\n",
    "pp_test.head()"
   ]
  },
  {
   "cell_type": "code",
   "execution_count": 70,
   "metadata": {},
   "outputs": [
    {
     "data": {
      "text/html": [
       "<div>\n",
       "<style scoped>\n",
       "    .dataframe tbody tr th:only-of-type {\n",
       "        vertical-align: middle;\n",
       "    }\n",
       "\n",
       "    .dataframe tbody tr th {\n",
       "        vertical-align: top;\n",
       "    }\n",
       "\n",
       "    .dataframe thead th {\n",
       "        text-align: right;\n",
       "    }\n",
       "</style>\n",
       "<table border=\"1\" class=\"dataframe\">\n",
       "  <thead>\n",
       "    <tr style=\"text-align: right;\">\n",
       "      <th></th>\n",
       "      <th></th>\n",
       "      <th></th>\n",
       "      <th></th>\n",
       "      <th>WAGP</th>\n",
       "      <th>STSP</th>\n",
       "      <th>RACE</th>\n",
       "    </tr>\n",
       "    <tr>\n",
       "      <th>SEX</th>\n",
       "      <th>AGEB</th>\n",
       "      <th>EDU</th>\n",
       "      <th>JOB</th>\n",
       "      <th></th>\n",
       "      <th></th>\n",
       "      <th></th>\n",
       "    </tr>\n",
       "  </thead>\n",
       "  <tbody>\n",
       "    <tr>\n",
       "      <td rowspan=\"5\" valign=\"top\">1</td>\n",
       "      <td rowspan=\"5\" valign=\"top\">16-23</td>\n",
       "      <td rowspan=\"5\" valign=\"top\">AS</td>\n",
       "      <td>ART</td>\n",
       "      <td>316</td>\n",
       "      <td>316</td>\n",
       "      <td>316</td>\n",
       "    </tr>\n",
       "    <tr>\n",
       "      <td>BUS</td>\n",
       "      <td>649</td>\n",
       "      <td>649</td>\n",
       "      <td>649</td>\n",
       "    </tr>\n",
       "    <tr>\n",
       "      <td>PRO</td>\n",
       "      <td>5309</td>\n",
       "      <td>5309</td>\n",
       "      <td>5309</td>\n",
       "    </tr>\n",
       "    <tr>\n",
       "      <td>SAL</td>\n",
       "      <td>1938</td>\n",
       "      <td>1938</td>\n",
       "      <td>1938</td>\n",
       "    </tr>\n",
       "    <tr>\n",
       "      <td>SC/HC</td>\n",
       "      <td>657</td>\n",
       "      <td>657</td>\n",
       "      <td>657</td>\n",
       "    </tr>\n",
       "    <tr>\n",
       "      <td>...</td>\n",
       "      <td>...</td>\n",
       "      <td>...</td>\n",
       "      <td>...</td>\n",
       "      <td>...</td>\n",
       "      <td>...</td>\n",
       "      <td>...</td>\n",
       "    </tr>\n",
       "    <tr>\n",
       "      <td rowspan=\"5\" valign=\"top\">2</td>\n",
       "      <td rowspan=\"5\" valign=\"top\">70+</td>\n",
       "      <td rowspan=\"5\" valign=\"top\">MS</td>\n",
       "      <td>BUS</td>\n",
       "      <td>223</td>\n",
       "      <td>223</td>\n",
       "      <td>223</td>\n",
       "    </tr>\n",
       "    <tr>\n",
       "      <td>PRO</td>\n",
       "      <td>16</td>\n",
       "      <td>16</td>\n",
       "      <td>16</td>\n",
       "    </tr>\n",
       "    <tr>\n",
       "      <td>SAL</td>\n",
       "      <td>122</td>\n",
       "      <td>122</td>\n",
       "      <td>122</td>\n",
       "    </tr>\n",
       "    <tr>\n",
       "      <td>SC/HC</td>\n",
       "      <td>92</td>\n",
       "      <td>92</td>\n",
       "      <td>92</td>\n",
       "    </tr>\n",
       "    <tr>\n",
       "      <td>SER</td>\n",
       "      <td>28</td>\n",
       "      <td>28</td>\n",
       "      <td>28</td>\n",
       "    </tr>\n",
       "  </tbody>\n",
       "</table>\n",
       "<p>478 rows × 3 columns</p>\n",
       "</div>"
      ],
      "text/plain": [
       "                     WAGP  STSP  RACE\n",
       "SEX AGEB  EDU JOB                    \n",
       "1   16-23 AS  ART     316   316   316\n",
       "              BUS     649   649   649\n",
       "              PRO    5309  5309  5309\n",
       "              SAL    1938  1938  1938\n",
       "              SC/HC   657   657   657\n",
       "...                   ...   ...   ...\n",
       "2   70+   MS  BUS     223   223   223\n",
       "              PRO      16    16    16\n",
       "              SAL     122   122   122\n",
       "              SC/HC    92    92    92\n",
       "              SER      28    28    28\n",
       "\n",
       "[478 rows x 3 columns]"
      ]
     },
     "execution_count": 70,
     "metadata": {},
     "output_type": "execute_result"
    }
   ],
   "source": [
    "group_test = pp_test.groupby(['SEX', 'AGEB', 'EDU', 'JOB'])\n",
    "group_median = group_test.count()\n",
    "\n",
    "group_median"
   ]
  },
  {
   "cell_type": "code",
   "execution_count": 71,
   "metadata": {},
   "outputs": [
    {
     "data": {
      "text/html": [
       "<div>\n",
       "<style scoped>\n",
       "    .dataframe tbody tr th:only-of-type {\n",
       "        vertical-align: middle;\n",
       "    }\n",
       "\n",
       "    .dataframe tbody tr th {\n",
       "        vertical-align: top;\n",
       "    }\n",
       "\n",
       "    .dataframe thead th {\n",
       "        text-align: right;\n",
       "    }\n",
       "</style>\n",
       "<table border=\"1\" class=\"dataframe\">\n",
       "  <thead>\n",
       "    <tr style=\"text-align: right;\">\n",
       "      <th></th>\n",
       "      <th></th>\n",
       "      <th></th>\n",
       "      <th></th>\n",
       "      <th></th>\n",
       "      <th></th>\n",
       "      <th>WAGP</th>\n",
       "    </tr>\n",
       "    <tr>\n",
       "      <th>SEX</th>\n",
       "      <th>AGEB</th>\n",
       "      <th>EDU</th>\n",
       "      <th>JOB</th>\n",
       "      <th>STSP</th>\n",
       "      <th>RACE</th>\n",
       "      <th></th>\n",
       "    </tr>\n",
       "  </thead>\n",
       "  <tbody>\n",
       "    <tr>\n",
       "      <td rowspan=\"5\" valign=\"top\">1</td>\n",
       "      <td rowspan=\"5\" valign=\"top\">16-23</td>\n",
       "      <td rowspan=\"5\" valign=\"top\">AS</td>\n",
       "      <td rowspan=\"5\" valign=\"top\">ART</td>\n",
       "      <td rowspan=\"3\" valign=\"top\">1</td>\n",
       "      <td>ASN</td>\n",
       "      <td>6</td>\n",
       "    </tr>\n",
       "    <tr>\n",
       "      <td>BLK</td>\n",
       "      <td>35</td>\n",
       "    </tr>\n",
       "    <tr>\n",
       "      <td>WHT</td>\n",
       "      <td>71</td>\n",
       "    </tr>\n",
       "    <tr>\n",
       "      <td rowspan=\"2\" valign=\"top\">2</td>\n",
       "      <td>ASN</td>\n",
       "      <td>4</td>\n",
       "    </tr>\n",
       "    <tr>\n",
       "      <td>BLK</td>\n",
       "      <td>9</td>\n",
       "    </tr>\n",
       "    <tr>\n",
       "      <td>...</td>\n",
       "      <td>...</td>\n",
       "      <td>...</td>\n",
       "      <td>...</td>\n",
       "      <td>...</td>\n",
       "      <td>...</td>\n",
       "      <td>...</td>\n",
       "    </tr>\n",
       "    <tr>\n",
       "      <td rowspan=\"5\" valign=\"top\">2</td>\n",
       "      <td rowspan=\"5\" valign=\"top\">70+</td>\n",
       "      <td rowspan=\"5\" valign=\"top\">MS</td>\n",
       "      <td rowspan=\"5\" valign=\"top\">SER</td>\n",
       "      <td rowspan=\"2\" valign=\"top\">3</td>\n",
       "      <td>BLK</td>\n",
       "      <td>1</td>\n",
       "    </tr>\n",
       "    <tr>\n",
       "      <td>WHT</td>\n",
       "      <td>3</td>\n",
       "    </tr>\n",
       "    <tr>\n",
       "      <td rowspan=\"3\" valign=\"top\">4</td>\n",
       "      <td>ASN</td>\n",
       "      <td>1</td>\n",
       "    </tr>\n",
       "    <tr>\n",
       "      <td>BLK</td>\n",
       "      <td>1</td>\n",
       "    </tr>\n",
       "    <tr>\n",
       "      <td>WHT</td>\n",
       "      <td>4</td>\n",
       "    </tr>\n",
       "  </tbody>\n",
       "</table>\n",
       "<p>5383 rows × 1 columns</p>\n",
       "</div>"
      ],
      "text/plain": [
       "                             WAGP\n",
       "SEX AGEB  EDU JOB STSP RACE      \n",
       "1   16-23 AS  ART 1    ASN      6\n",
       "                       BLK     35\n",
       "                       WHT     71\n",
       "                  2    ASN      4\n",
       "                       BLK      9\n",
       "...                           ...\n",
       "2   70+   MS  SER 3    BLK      1\n",
       "                       WHT      3\n",
       "                  4    ASN      1\n",
       "                       BLK      1\n",
       "                       WHT      4\n",
       "\n",
       "[5383 rows x 1 columns]"
      ]
     },
     "execution_count": 71,
     "metadata": {},
     "output_type": "execute_result"
    }
   ],
   "source": [
    "group_test = pp_test.groupby(['SEX', 'AGEB', 'EDU', 'JOB', 'STSP','RACE'])\n",
    "group_median = group_test.count()\n",
    "\n",
    "group_median"
   ]
  }
 ],
 "metadata": {
  "kernelspec": {
   "display_name": "py_36_env",
   "language": "python",
   "name": "py_36_env"
  },
  "language_info": {
   "codemirror_mode": {
    "name": "ipython",
    "version": 3
   },
   "file_extension": ".py",
   "mimetype": "text/x-python",
   "name": "python",
   "nbconvert_exporter": "python",
   "pygments_lexer": "ipython3",
   "version": "3.7.4"
  }
 },
 "nbformat": 4,
 "nbformat_minor": 2
}
